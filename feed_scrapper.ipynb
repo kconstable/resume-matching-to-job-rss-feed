{
 "cells": [
  {
   "cell_type": "markdown",
   "id": "96717917-605e-4d34-a524-0bf1d8169c42",
   "metadata": {},
   "source": [
    "# Web Scrapping"
   ]
  },
  {
   "cell_type": "code",
   "execution_count": 716,
   "id": "40d817a5-989c-4f62-b6c3-84c4a8c01224",
   "metadata": {},
   "outputs": [],
   "source": [
    "from bs4 import BeautifulSoup\n",
    "import requests\n",
    "import os\n",
    "import PyPDF2 "
   ]
  },
  {
   "cell_type": "code",
   "execution_count": 717,
   "id": "78734015",
   "metadata": {},
   "outputs": [],
   "source": [
    "def get_job_links(url_search,url_base):\n",
    "    \"\"\" \n",
    "    Workopolis\n",
    "    Return a list of links to jobs returned from the url_search link\n",
    "    \"\"\"\n",
    "    # use requests to get the search url contents, convert to a soup object\n",
    "    r = requests.get(url_search)\n",
    "    soup = BeautifulSoup(r.content)\n",
    "    \n",
    "    # get pagination\n",
    "    pages = get_job_pages(url_search, url_base, soup)\n",
    "    \n",
    "    job_links = []\n",
    "    for page in pages:\n",
    "        r = requests.get(page)\n",
    "        soup = BeautifulSoup(r.content)\n",
    "        \n",
    "        # extract the links from the job titles\n",
    "        jobs = soup.find_all(\"a\",{\"class\":\"SerpJob-titleLink\"})    \n",
    "        \n",
    "        # get jobs from each page\n",
    "        for job in jobs:\n",
    "            link = f\"{url_base}{job.get('href')}\"\n",
    "            job_links.append(link)\n",
    "            \n",
    "    return set(job_links)"
   ]
  },
  {
   "cell_type": "code",
   "execution_count": 718,
   "id": "412b3326",
   "metadata": {},
   "outputs": [],
   "source": [
    "def get_job_pages(url_search,url_base,soup):\n",
    "    \"\"\" \n",
    "    Workopolis\n",
    "    Return a list of links to jobs returned from the url_search link\n",
    "    \"\"\"\n",
    "    \n",
    "    # extract the links from the job titles\n",
    "    pages = soup.find_all(\"a\",{\"class\":\"Pagination-link\"})    \n",
    "    \n",
    "    # extract page links\n",
    "    page_links = [url_search]\n",
    "    for page in pages:\n",
    "        p = page.get('href')\n",
    "        page_links.append(f\"{url_base}{p}\")\n",
    "        \n",
    "    return set(page_links)"
   ]
  },
  {
   "cell_type": "code",
   "execution_count": 719,
   "id": "0843800f-b340-4875-9664-6a854d275639",
   "metadata": {},
   "outputs": [],
   "source": [
    "def get_job_details(urls):\n",
    "    \"\"\"\n",
    "    Workopolis\n",
    "    \"\"\"\n",
    "    print(\"Scrapping RSS Job Search Feed\")\n",
    "    print(\"=\"*100)\n",
    "    job_detail = []\n",
    "    for url in urls:\n",
    "        try:\n",
    "            # get url content, convert to soup\n",
    "            r = requests.get(url)\n",
    "            soup = BeautifulSoup(r.content)\n",
    "\n",
    "            # extract content\n",
    "            title = soup.find(\"div\",{'class':'ViewJobHeaderTitle'}).text\n",
    "            company = soup.find(\"div\",{'class':'ViewJobHeaderCompany'}).text\n",
    "            location = soup.find(\"span\",{'class':'ViewJobHeaderPropertiesLocation'}).text\n",
    "            desc = soup.find(\"div\",{'class':'viewjob-description'}).text\n",
    "\n",
    "\n",
    "            # extract key words (skills, education, benefits)\n",
    "            keys = soup.find_all('li',{'class':'nav-item'})\n",
    "            key_words = [w.text for w in keys]\n",
    "\n",
    "            # build result-set\n",
    "            job_detail.append(\n",
    "                {'title':title,'company':company,'location':location,'desc':desc,'keywords':key_words}\n",
    "            )\n",
    "            # print progress\n",
    "            print(f\"{title[:18]:{18}}| {company[:15]:{15}}| {location[:7]:{7}} | {key_words[:3]}...\")\n",
    "        except Exception as e:\n",
    "            print(f\"   =>Skipping Job...{e}\")\n",
    "            continue\n",
    "    print(\"=\"*100)\n",
    "    return job_detail"
   ]
  },
  {
   "cell_type": "code",
   "execution_count": 859,
   "id": "8c00f54e",
   "metadata": {},
   "outputs": [],
   "source": [
    "def get_linkedin_jobs(urls):\n",
    "    \"\"\"\n",
    "    LinkedIn\n",
    "    Parse linkedin job link and extract the description and job title\n",
    "    \"\"\"\n",
    "    \n",
    "    start_text = 'Submit\\n\\n\\n\\n\\n\\n\\n\\n\\n\\n\\n\\n\\n\\n\\n\\n\\n \\n\\n \\n\\n\\n\\n\\n\\n\\n\\n\\n\\n\\n\\n\\n'\n",
    "    stop_text = 'Show more\\n\\n'\n",
    "    \n",
    "    print(\"Scrapping RSS Job Search Feed\")\n",
    "    print(\"=\"*100)\n",
    "    jobs = []\n",
    "    for url in urls:\n",
    "        try:\n",
    "            # get content\n",
    "            r = requests.get(url)\n",
    "            soup = BeautifulSoup(r.content)\n",
    "            jd = soup.text\n",
    "\n",
    "            # parse the text\n",
    "            start = jd.find(start_text)\n",
    "            stop = jd.find(stop_text)\n",
    "            desc = jd[start:stop]\n",
    "            desc = desc.replace(start_text,'').replace(stop_text,'').strip()\n",
    "\n",
    "            # get the job title\n",
    "            title = soup.find('h1').text\n",
    "\n",
    "            jobs.append({'title':title,'company':'unknown','location':'unknown','desc':desc,'keywords':[]})\n",
    "\n",
    "            # print progress\n",
    "            print(f\"{title[:30]:{30}}| {desc[:60]}...\")\n",
    "        except Exception as e:\n",
    "            print(f\"Error scrapping LinkedIn:{e}\")\n",
    "    return jobs\n",
    "        "
   ]
  },
  {
   "cell_type": "markdown",
   "id": "0b3ec096-153f-441b-b6a9-ac12801340f9",
   "metadata": {},
   "source": [
    "# NLP"
   ]
  },
  {
   "cell_type": "code",
   "execution_count": 139,
   "id": "a2aa22d7-33db-4b80-8766-781a7e862dac",
   "metadata": {},
   "outputs": [
    {
     "name": "stderr",
     "output_type": "stream",
     "text": [
      "[nltk_data] Downloading package punkt to /home/ken/nltk_data...\n",
      "[nltk_data]   Package punkt is already up-to-date!\n"
     ]
    }
   ],
   "source": [
    "# Sumy\n",
    "import sumy\n",
    "from sumy.parsers.plaintext import PlaintextParser\n",
    "from sumy.nlp.tokenizers import Tokenizer\n",
    "from sumy.summarizers.lex_rank import LexRankSummarizer\n",
    "from sumy.summarizers.text_rank import TextRankSummarizer\n",
    "from sumy.summarizers.lsa import LsaSummarizer\n",
    "from sumy.nlp.stemmers import Stemmer\n",
    "from sumy.utils import get_stop_words\n",
    "import nltk # required for sumy\n",
    "nltk.download('punkt') # required for sumy\n",
    "\n",
    "# spacy\n",
    "import spacy\n",
    "from spacy import displacy\n",
    "NLP = spacy.load('en_core_web_lg')\n",
    "from spacy.matcher import PhraseMatcher\n",
    "# from spacy.matcher import Matcher\n",
    "\n",
    "from sklearn.feature_extraction.text import TfidfVectorizer\n",
    "from sklearn.metrics.pairwise import cosine_similarity\n",
    "\n",
    "\n",
    "from tabulate import tabulate\n",
    "from collections import Counter\n",
    "import docx2txt\n",
    "import pandas as pd\n",
    "import plotly.graph_objects as go\n",
    "from plotly.subplots import make_subplots"
   ]
  },
  {
   "cell_type": "markdown",
   "id": "aa6762db-82e3-49a4-a464-7ca26ce353bd",
   "metadata": {},
   "source": [
    "# Resume Scrapping"
   ]
  },
  {
   "cell_type": "code",
   "execution_count": 634,
   "id": "cc289dc5-345f-414f-b863-b6fc149c3ad7",
   "metadata": {},
   "outputs": [],
   "source": [
    "def get_resume_text(path,print_text=True):\n",
    "    \"\"\" \n",
    "    Read resume text content from file (pdf or docx)\n",
    "    Params:\n",
    "        path: string- path to the resume file\n",
    "        print_text: boolean.  Prints the text\n",
    "    Returns: A text object with the resume file content\n",
    "    \"\"\"\n",
    "    \n",
    "    # open file and get file extension\n",
    "    file = open(path,'rb')\n",
    "    file_name, file_ext = os.path.splitext(path)\n",
    "    \n",
    "    # extract text content\n",
    "    if file_ext=='.pdf':\n",
    "        # read pdf\n",
    "        pdf = PyPDF2.PdfFileReader(file)\n",
    "        \n",
    "        text = \"\"\"\"\"\"\n",
    "        for page_num in range(pdf.numPages):\n",
    "            page = pdf.getPage(page_num)\n",
    "            content = page.extract_text()\n",
    "            text += content\n",
    "    elif file_ext=='.docx':\n",
    "        text = docx2txt.process(file)\n",
    "    elif file_ext=='.txt':\n",
    "        text = str(file.read())\n",
    "        \n",
    "    if print_text:\n",
    "        print(text)\n",
    "\n",
    "    file.close()\n",
    "    return text"
   ]
  },
  {
   "cell_type": "code",
   "execution_count": 8,
   "id": "9f1a91bc-c82a-4b6a-a4d4-6eae04a1ae52",
   "metadata": {},
   "outputs": [],
   "source": [
    "def show_pos(text):    \n",
    "    \"\"\"Extracts POS from a spacy document and prints the results\"\"\"\n",
    "    d=[]\n",
    "    for token in doc:\n",
    "        d.append({\n",
    "            \"Token\":token.text,\n",
    "            \"POS\":token.pos_,\n",
    "            \"POS-Desc\":spacy.explain(token.pos_),\n",
    "            \"Lemma\":token.lemma_,\n",
    "            \"Stop-Word\":token.is_stop,\n",
    "            \"POS-Detail\":token.tag_,\n",
    "            \"POS-Detail-Desc\":spacy.explain(token.tag_)\n",
    "            }\n",
    "        )\n",
    "    print(tabulate(d,headers=\"keys\",tablefmt=\"github\"))"
   ]
  },
  {
   "cell_type": "code",
   "execution_count": 9,
   "id": "67d02fd5-2d35-4237-aa72-56f2791401e4",
   "metadata": {},
   "outputs": [],
   "source": [
    "def show_entities(doc,display=True):\n",
    "    \"\"\"Print a list of named entities and their descriptions\"\"\"\n",
    "    d=[]\n",
    "    if doc.ents:\n",
    "        for entity in doc.ents:\n",
    "            d.append({\n",
    "                \"Word\":entity,\n",
    "                \"Entity\":entity.label_,\n",
    "                \"Start\":entity.start,\n",
    "                \"Stop\":entity.end,\n",
    "                \"Entity-Desc\":spacy.explain(entity.label_),\n",
    "                }\n",
    "            )\n",
    "        if display:\n",
    "            print(tabulate(d,headers=\"keys\",tablefmt=\"github\"))\n",
    "            print(\"\\n\")\n",
    "            displacy.render(doc,style='ent',jupyter=True)\n",
    "            print(\"\\n\")\n",
    "    else:\n",
    "        print(\"no entities found\")\n",
    "    return d   "
   ]
  },
  {
   "cell_type": "code",
   "execution_count": 10,
   "id": "d6da233e-ee54-49d6-8d69-9d1925a098d4",
   "metadata": {},
   "outputs": [],
   "source": [
    "def attr_counts(doc,att):\n",
    "    \"\"\"Return a table of counts by attributes\"\"\"\n",
    "    if att.lower() == 'pos':\n",
    "        cnts = doc.count_by(spacy.attrs.POS)\n",
    "    elif att.lower() =='tag':\n",
    "        cnts = doc.count_by(spacy.attrs.TAG)\n",
    "    elif att.lower() =='lemma':\n",
    "        cnts = doc.count_by(spacy.attrs.LEMMA)\n",
    "    elif att.lower() =='entity':\n",
    "        cnts = doc.count_by(spacy.attrs.ENT_TYPE)\n",
    "    elif att.lower() =='email':\n",
    "        cnts = doc.count_by(spacy.attrs.LIKE_EMAIL)\n",
    "    elif att.lower() =='url':\n",
    "        cnts = doc.count_by(spacy.attrs.LIKE_URL)\n",
    "    elif att.lower() =='currency':\n",
    "        cnts = doc.count_by(spacy.attrs.IS_CURRENCY)\n",
    "    elif att.lower() =='numbers':\n",
    "        cnts = doc.count_by(spacy.attrs.IS_DIGIT)\n",
    "        \n",
    "    # lookup attribute name\n",
    "    d = {doc.vocab[k].text:v for k,v in cnts.items()}\n",
    "    return d"
   ]
  },
  {
   "cell_type": "markdown",
   "id": "396d23cb",
   "metadata": {},
   "source": [
    "### Generate Text Summary"
   ]
  },
  {
   "cell_type": "code",
   "execution_count": 502,
   "id": "c570dc14-5d62-45c0-a329-952a0bd4d2e5",
   "metadata": {},
   "outputs": [],
   "source": [
    "def get_text_summary(text,text_source,summarizer,num_sentences,print_summary=True):\n",
    "    \"\"\"\n",
    "    Generate a text summary from a document (extractive)\n",
    "    Params:\n",
    "        text: plain text or path to a document\n",
    "        text_source: text or file\n",
    "        summarizer: text-summarization method. lex-rank, text-rank,lsa\n",
    "        num_sentences: Number of summary sentences to generate\n",
    "        print_summary: T/F\n",
    "    Returns:\n",
    "        A list of sentences.\n",
    "    \"\"\"\n",
    "    # Create parser from text-source\n",
    "    if text_source=='text':\n",
    "        parser = PlaintextParser.from_string(text,Tokenizer('english'))\n",
    "    elif text_source=='file':\n",
    "        parser = PlaintextParser.from_file(text,Tokenizer('english'))\n",
    "    else:\n",
    "        raise Exception(f\"text source must be 'text' or 'file'!\")\n",
    "        \n",
    "    # Select summarizer method\n",
    "    if summarizer=='lex-rank':\n",
    "        # Lex Rank:  A graph-based summarization method that uses keyword extractions\n",
    "        s = LexRankSummarizer()\n",
    "    elif summarizer=='text-rank':\n",
    "        # Text rank: A graph-based summarization method that uses keyword extractions\n",
    "        s = TextRankSummarizer()\n",
    "    elif summarizer=='lsa':\n",
    "        # Latent semantic analysis \n",
    "        # Combines term frequency with singular value decomposition\n",
    "        s = LsaSummarizer(Stemmer(\"english\"))\n",
    "        s.stop_words = get_stop_words(\"english\")\n",
    "    else:\n",
    "        raise Exception(f\"Summarizer must be 'lex-rank','luhn','text-rank' or 'lsa'!\")\n",
    "    \n",
    "    # create summary\n",
    "    summary = s(parser.document,num_sentences)\n",
    "    \n",
    "    # print summary\n",
    "    text = \"\"\n",
    "    if print_summary:\n",
    "        print(f'Text Summary:Top {num_sentences} sentences using a {summarizer} summarizer')\n",
    "        print('='*100)\n",
    "        for sentence in summary:\n",
    "            text += \" \"+ str(sentence)\n",
    "            print(sentence)\n",
    "        print('='*100,'\\n')\n",
    "    return text"
   ]
  },
  {
   "cell_type": "markdown",
   "id": "e8802b66",
   "metadata": {},
   "source": [
    "### Keyword Analysis"
   ]
  },
  {
   "cell_type": "code",
   "execution_count": 12,
   "id": "4a4efca1-c69d-43af-a879-5b5623e34af8",
   "metadata": {},
   "outputs": [],
   "source": [
    "def get_terms(path):\n",
    "    \"\"\"\n",
    "    Read a csv of data science terms & return themn as a list\n",
    "    Params: path -string\n",
    "    Returns: A list of terms\n",
    "    \"\"\"\n",
    "    with open(path,'r') as f:\n",
    "        lst = [line.lower().strip() for line in f.readlines()]\n",
    "    return set(lst)"
   ]
  },
  {
   "cell_type": "code",
   "execution_count": null,
   "id": "9086a415",
   "metadata": {},
   "outputs": [],
   "source": [
    "def extract_keywords(text,num, print_words=True):\n",
    "    \"\"\"\n",
    "    Extracts keywords from a text object.  Ignores common job positng phrases\n",
    "    Params:\n",
    "        text: string text object\n",
    "        num: integer.  The number of keywords to extract\n",
    "        print_words: boolean. Prints the output\n",
    "    Returns: A list of the top keywords in the text object\n",
    "    \"\"\"\n",
    "    words = []\n",
    "    pos = ['NOUN','PROPN']\n",
    "    common_job_keys = ['experience','job','ability','posting','process','date','stakeholders','skills','solutions','project']\n",
    "    tokens = NLP(text.lower())\n",
    "    \n",
    "    for token in tokens:\n",
    "        if (token.text not in NLP.Defaults.stop_words and token.text.lower() not in common_job_keys and token.pos_ in pos):\n",
    "            words.append(token.text)\n",
    "            \n",
    "    # get the top keywords by frequency\n",
    "    keyword_frequency = [word for word in Counter(words).most_common(num)]\n",
    "    keywords = [word[0] for word in keyword_frequency]\n",
    "    \n",
    "    if print_words:\n",
    "        print(keyword_frequency)\n",
    "    return keywords            "
   ]
  },
  {
   "cell_type": "code",
   "execution_count": 467,
   "id": "dbc00385",
   "metadata": {},
   "outputs": [],
   "source": [
    "# extract keywords from the job descriptions\n",
    "keys = []\n",
    "for job in job_details:\n",
    "    keys.extend(extract_keywords(job['desc'],50,False))\n",
    "keys = set(keys)"
   ]
  },
  {
   "cell_type": "code",
   "execution_count": 466,
   "id": "1a097d68",
   "metadata": {},
   "outputs": [],
   "source": [
    "# extract keywords from the job keywords\n",
    "keys = []\n",
    "for job in job_details:\n",
    "    keys.extend(job['keywords'])\n",
    "keys = set(keys)"
   ]
  },
  {
   "cell_type": "code",
   "execution_count": 77,
   "id": "42f5566e",
   "metadata": {},
   "outputs": [],
   "source": [
    "def get_phrases_from_keywords(keywords):\n",
    "    lst = []\n",
    "    for keyword in keywords:\n",
    "        if \" \" in keyword:\n",
    "            lst.append(keyword.lower().replace(\" \",\"-\"))\n",
    "        lst.append(keyword.lower())\n",
    "    return set(lst)"
   ]
  },
  {
   "cell_type": "code",
   "execution_count": 206,
   "id": "f3b52f57",
   "metadata": {},
   "outputs": [],
   "source": [
    "def get_phrase_matches(keywords,text):\n",
    "    \"\"\"\n",
    "    spacy 3.5 has a built in fuzzy matching option\n",
    "    \"\"\"\n",
    "    # when spacy 3.5 is available on anaconda\n",
    "#     matcher = Matcher(NLP.vocab)\n",
    "#     patterns = [{\"TEXT\": {\"FUZZY\": \"modelling\"}},{\"TEXT\": {\"FUZZY\": \"machine learning\"}}]\n",
    "\n",
    "    # get the term list\n",
    "    terms = get_phrases_from_keywords(keywords)\n",
    "    \n",
    "    # convert text to tokens\n",
    "    doc = NLP(text.lower())\n",
    "\n",
    "    # phrase matching\n",
    "    patterns = [NLP(text) for text in terms]\n",
    "\n",
    "    # add to matcher\n",
    "    matcher = PhraseMatcher(NLP.vocab)\n",
    "    matcher.add('KEYWORDS',patterns)\n",
    "\n",
    "    # search for phrase matches\n",
    "    found_matches = matcher(doc)\n",
    "\n",
    "    matched_phrases = []\n",
    "    for match_id, start, end in found_matches:\n",
    "        matched_phrases.append(doc[start:end].text)\n",
    "\n",
    "    return dict(Counter(matched_phrases)) "
   ]
  },
  {
   "cell_type": "code",
   "execution_count": 388,
   "id": "5f6a0e6d",
   "metadata": {},
   "outputs": [],
   "source": [
    "def compare_keywords(resume,job,keyword_path):\n",
    "    \"\"\"\n",
    "    \"\"\"\n",
    "    # path to csv of terms\n",
    "    keys = get_phrases_from_keywords(get_terms(keyword_path))\n",
    "    \n",
    "    # match phrases\n",
    "    matches_resume = get_phrase_matches(keys,resume)\n",
    "    matches_job = get_phrase_matches(keys,job)\n",
    "\n",
    "    # convert to dataframes\n",
    "    df_resume = pd.DataFrame.from_dict(matches_resume,orient='index',columns=['resume'])\n",
    "    df_job = pd.DataFrame.from_dict(matches_job,orient='index',columns=['job'])\n",
    "    \n",
    "    # combine results & sort by job keywords\n",
    "    df = df_job.join(df_resume)\n",
    "    df.sort_values(by=['job'], ascending=False,inplace=True)\n",
    "    \n",
    "    # calculate the weighted difference in keyword frequencies\n",
    "    df['wt'] = df['job']/df['job'].sum()\n",
    "    df['wt-score'] = df['wt']*(df['resume']-df['job'])\n",
    "    score = df['wt-score'].sum()\n",
    "    \n",
    "    # calculate keyword coverage ratio\n",
    "    matches = df.query('~resume.isnull()').shape[0]\n",
    "    total = df.shape[0]\n",
    "    coverage = matches/total\n",
    "    \n",
    "    # get missing\n",
    "    missing = set(df.query('resume.isnull()').index)\n",
    "    \n",
    "    \n",
    "    return df, score, coverage, missing"
   ]
  },
  {
   "cell_type": "code",
   "execution_count": 245,
   "id": "17b30e99",
   "metadata": {},
   "outputs": [],
   "source": [
    "def compare_job_specific_keywords(resume, job_keywords):\n",
    "    \"\"\"\n",
    "    \"\"\"\n",
    "    # match phrases\n",
    "    matches = get_phrase_matches(job_keywords,resume)\n",
    "    \n",
    "    # add missing job keywords to the dict\n",
    "    for key in job_keywords:\n",
    "        if key.lower() in matches.keys():\n",
    "            continue\n",
    "        else:\n",
    "            matches[key.lower()]=0\n",
    "    \n",
    "    # convert to dateframe\n",
    "    df = pd.DataFrame.from_dict(matches,orient='index',columns=['resume'])\n",
    "    \n",
    "    return df"
   ]
  },
  {
   "cell_type": "code",
   "execution_count": 736,
   "id": "a2ce0da3-f535-4a82-a8c5-2075b5162b94",
   "metadata": {
    "scrolled": true
   },
   "outputs": [],
   "source": [
    "def plot_keyword_comparison(resume, job_details, keyword_path):\n",
    "    \"\"\" \n",
    "    Plot Job keywords vs Resume keywords\n",
    "    Params: df- dataframe output from compare_keywords\n",
    "    Returns: None\n",
    "    \"\"\"\n",
    "    \n",
    "    # compare common keywords, split into matches/no-matches\n",
    "    df, score, coverage, missing = compare_keywords(resume,job_details['desc'],keyword_path)\n",
    "    df_missing  = df.query('resume.isnull()')\n",
    "    df_matching = df.query('~resume.isnull()')\n",
    "    \n",
    "    title = f\"{job_details['title']}({job_details['company']}) | Keyword Coverage={round(coverage*100,2)}% | Weighted Average={round(score,2)}\"\n",
    "    \n",
    "    # compare to job specific keywords\n",
    "    df_spec = compare_job_specific_keywords(resume, job_details['keywords'])\n",
    "    \n",
    "    col_scale = [\n",
    "        [0,'rgba(252,76,1,0.9)'],\n",
    "        [0.25,'rgba(252,76,1,0.5)'],\n",
    "        [0.5,'rgba(83,128,141,0.25)'],\n",
    "        [0.75,'rgba(83,128,141,0.5)'],\n",
    "        [1.0,'rgba(83,128,141,0.9)']\n",
    "    ]\n",
    "    \n",
    "    # create plots\n",
    "    fig = make_subplots(\n",
    "        rows=1,\n",
    "        cols=3,\n",
    "        subplot_titles = ('Matching Keywords','Missing Keywords','Job Specific Keywords'),\n",
    "        column_widths = [0.5,0.25,0.25]\n",
    "    )\n",
    "    # matching keywords\n",
    "    fig.add_trace(\n",
    "        go.Bar(\n",
    "            name='Weighted Frequency',\n",
    "            y = df_matching.index,\n",
    "            x = df_matching['wt-score'],\n",
    "            orientation='h',\n",
    "            marker = dict(color=df_matching['wt-score'],colorscale=col_scale)\n",
    "        ),row=1,col=1\n",
    "    )\n",
    "    # missing keywords\n",
    "    fig.add_trace(\n",
    "        go.Bar(\n",
    "            name='Missing Keywords',\n",
    "            y = df_missing.job,\n",
    "            x = df_missing.index,\n",
    "            marker = dict(color='rgba(252,76,1,0.8)')\n",
    "        ),row=1,col=2\n",
    "    )\n",
    "    # job specific keywords\n",
    "    fig.add_trace(\n",
    "        go.Bar(\n",
    "            name='Job Specific Keywords',\n",
    "            y = df_spec.resume,\n",
    "            x = df_spec.index,\n",
    "            marker = dict(color='rgba(252,76,1,0.8)')\n",
    "        ),row=1,col=3\n",
    "    )\n",
    "    \n",
    "    # adjusments\n",
    "    fig.update_xaxes(tickangle=90,row=1,col=2)\n",
    "    fig.update_xaxes(tickangle=90,row=1,col=3)\n",
    "    fig.update_xaxes(range=[-2,2],row=1,col=1)\n",
    "    fig.update_xaxes(showgrid=False)\n",
    "    fig.update_layout(\n",
    "        template='plotly_white',\n",
    "        title=title,\n",
    "        width = 900,\n",
    "        height=500,\n",
    "        showlegend=False\n",
    "    )\n",
    "    fig.show()"
   ]
  },
  {
   "cell_type": "markdown",
   "id": "0749b454",
   "metadata": {},
   "source": [
    "## Calculate Similarities"
   ]
  },
  {
   "cell_type": "code",
   "execution_count": 26,
   "id": "f1526ff2-82bc-4cb2-9e5f-ce9e600ab9d9",
   "metadata": {},
   "outputs": [],
   "source": [
    "def preprocess_text(text):\n",
    "    \"\"\"\n",
    "    Preprocess text documents in preparation for analysis\n",
    "    Params:\n",
    "        text: a text object\n",
    "    Returns: \n",
    "        A text object after converting to lowercase lemmas, removing stop-words,punctuation, numbers, and emails\n",
    "    \"\"\"\n",
    "    \n",
    "    # replace carriage returns and convert to lowercase\n",
    "    doc = text.replace(\"\\n\",\"\").replace(\"  \",\"\").lower()\n",
    "    \n",
    "    # tokenize\n",
    "    tokens = NLP(doc)\n",
    "\n",
    "    text_list = []\n",
    "    for token in tokens:\n",
    "        if token.text in NLP.Defaults.stop_words:\n",
    "            continue\n",
    "        if token.is_punct:\n",
    "            continue\n",
    "        if token.is_digit:\n",
    "            continue\n",
    "        if token.like_email:\n",
    "            continue\n",
    "        if token.lemma_=='-PRON-':\n",
    "            continue\n",
    "            \n",
    "        # lemmetize\n",
    "        text_list.append(token.lemma_)\n",
    "    return \" \".join(text_list)"
   ]
  },
  {
   "cell_type": "code",
   "execution_count": 27,
   "id": "27695ea1-e61a-4308-b5dc-f3d28ac5d4ea",
   "metadata": {},
   "outputs": [],
   "source": [
    "def calc_similarity(doc1,doc2):\n",
    "    \"\"\" \n",
    "    Calculate the cosine similarity between two documents\n",
    "    Params:\n",
    "        doc1 - text document \n",
    "        doc2 - text document\n",
    "    Returns: The cosine similairty score between the documents\n",
    "    \"\"\"\n",
    "    d1 = preprocess_text(doc1)\n",
    "    d2 = preprocess_text(doc2)\n",
    "    \n",
    "    X = TfidfVectorizer().fit_transform([d1,d2])\n",
    "    score = cosine_similarity(X[0],X[1])\n",
    "    return score[0][0]"
   ]
  },
  {
   "cell_type": "code",
   "execution_count": 390,
   "id": "f8cb1864-92bb-4ff7-bde8-ba4f8ed44867",
   "metadata": {},
   "outputs": [],
   "source": [
    "def calc_similarities(resume, jobs,keyword_path):\n",
    "    \"\"\" \n",
    "    Calculate the cosine similarity between a resume and a list of job descriptions\n",
    "    Params:\n",
    "        resume: a resume (text)\n",
    "        jobs: a dictionary of jobs listings (output from get_job_details)\n",
    "    Returns: A dataframe of job title, company, location and similarity score\n",
    "    \"\"\"\n",
    "    scores = []\n",
    "    titles = []\n",
    "    companies =[]\n",
    "    locs = []\n",
    "    key_cov = []\n",
    "    key_wt = []\n",
    "    key_missing = []\n",
    "    for job in jobs:\n",
    "        titles.append(job['title'])\n",
    "        companies.append(job['company'])\n",
    "        locs.append(job['location'])\n",
    "        scores.append(calc_similarity(resume, job['desc']))\n",
    "        _,wt,cov,missing = compare_keywords(resume,job['desc'],keyword_path)\n",
    "        key_cov.append(cov)\n",
    "        key_wt.append(wt)\n",
    "        key_missing.append(missing)\n",
    "    \n",
    "    data = list(zip(titles,companies,locs, scores, key_cov,key_wt,key_missing ))\n",
    "    df = pd.DataFrame(data,columns = ['title','company','location','similarity-score','keyword-coverage','keyword-wt','keywords-missing'])\n",
    "    \n",
    "    return df.sort_values(by=['similarity-score'], ascending=False)"
   ]
  },
  {
   "cell_type": "code",
   "execution_count": 575,
   "id": "fa924dd0",
   "metadata": {},
   "outputs": [],
   "source": [
    "def plot_similarity_scores(df_similarities):\n",
    "    \"\"\"\n",
    "    \"\"\"\n",
    "    import numpy as np\n",
    "    \n",
    "    # min-max scale the keyword weights\n",
    "    df = df_similarities.copy()\n",
    "    df['keyword-weight'] = (df['keyword-wt']-min(df['keyword-wt']))/(max(df['keyword-wt'])-min(df['keyword-wt']))\n",
    "    \n",
    "    # custom colorscale\n",
    "    col_scale = [\n",
    "        [0,'rgba(252,76,1,1.0)'],\n",
    "        [0.25,'rgba(252,76,1,0.5)'],\n",
    "        [0.5,'rgba(83,128,141,0.25)'],\n",
    "        [0.75,'rgba(83,128,141,0.5)'],\n",
    "        [1.0,'rgba(83,128,141,1.0)']\n",
    "    ]\n",
    "    \n",
    "    # custom hover data\n",
    "    hover_data = np.stack((df['title'],df['company'],df['location'],df['keyword-weight']),axis=-1)\n",
    "        \n",
    "    fig = go.Figure()\n",
    "    \n",
    "    fig.add_trace(\n",
    "        go.Scatter(\n",
    "            x = df['keyword-coverage'],\n",
    "            y = df['similarity-score'],\n",
    "            mode='markers',\n",
    "            customdata = hover_data,\n",
    "            hovertemplate = '<b>Title:</b> %{customdata[0]}<br>' +\n",
    "                            '<b>Company:</b> %{customdata[1]}<br>'+\n",
    "                            '<b>Location:</b> %{customdata[2]}</br>'+\n",
    "                            '<b>Similarity:</b> %{y:,.2f}<br>' +\n",
    "                            '<b>Keyword Coverage:</b> %{x:,.2f}<br>' +\n",
    "                            '<b>Weighted Keyword Frequency:</b> %{customdata[3]:,.2f}<br>' +\n",
    "                            '<extra></extra>',\n",
    "            marker = dict(\n",
    "                size=df['keyword-weight']*50,\n",
    "                color = df['similarity-score'],\n",
    "                colorscale=col_scale\n",
    "            )\n",
    "        )\n",
    "    )\n",
    "    fig.update_xaxes(title='Keyword Coverge (%)',range=[0,1.0])\n",
    "    fig.update_yaxes(title='Similarity Score',range=[0,1.0])\n",
    "    fig.update_layout(\n",
    "        template='plotly_white',\n",
    "        title='Resume Similarity to Job Listings',\n",
    "        width=800,\n",
    "        height=500\n",
    "    )\n",
    "    fig.show()    "
   ]
  },
  {
   "cell_type": "markdown",
   "id": "0a129a00",
   "metadata": {},
   "source": [
    "## Resume and Job Comparison"
   ]
  },
  {
   "cell_type": "code",
   "execution_count": 738,
   "id": "3d8d206d",
   "metadata": {},
   "outputs": [
    {
     "name": "stdout",
     "output_type": "stream",
     "text": [
      "Scrapping RSS Job Search Feed\n",
      "====================================================================================================\n",
      "Sr. Account Execut| Anaconda       | Toronto | ['Procurement', 'SaaS', 'Python']...\n",
      "Machine Learning E| TD Bank        | Toronto | [\"Bachelor's\", 'Performance tuning', 'Computer science']...\n",
      "Senior Data Engine| PC Bank        | Toronto | [\"Master's degree\", \"Bachelor's\", 'TensorFlow']...\n",
      "Canada Research Ch| Sunnybrook Heal| Toronto | ['Dental care', 'Life insurance', 'English']...\n",
      "Forward-Deployed D| Boston Consulti| Toronto | [\"Master's degree\", 'CI/CD', 'Computer science']...\n",
      "Sr. Machine Learni| TD Bank        | Toronto | [\"Bachelor's\", 'Elasticsearch', 'Azure']...\n",
      "Project Manager, A| EXL Services   | Toronto | [\"Master's degree\", 'R', 'SQL']...\n",
      "Staff Data Enginee| BEGiN          | Toronto | [\"Master's degree\", \"Bachelor's\", 'Spark']...\n",
      "Senior Manager - B| Tiger Analytics| Toronto | [\"Master's degree\", 'QlikView', 'Tableau']...\n",
      "Product Manager   | Paytm          | Toronto | [\"Bachelor's\", 'Agile', 'Communication skills']...\n",
      "Senior Data Engine| Zenni Optical  | Toronto | [\"Bachelor's\", 'Data modeling', 'SQL']...\n",
      "Software Engineer | Dawn InfoTek In| Toronto | [\"Bachelor's\", 'Lucene', 'Elasticsearch']...\n",
      "Software Engineeri| Wayfair        | Toronto | [\"Bachelor's\", 'Computer science', 'Kubernetes']...\n",
      "Senior Machine Lea| TD Bank        | Toronto | [\"Bachelor's\", 'Performance tuning', 'Computer science']...\n",
      "Data Scientist - C| KPMG-Canada    | Toronto | ['Azure', 'Data mining', 'R']...\n",
      "Lead Data Scientis| Figment        | Toronto | ['Jira', 'Node.js', 'Selenium']...\n",
      "Clinical Operation| GSK            | Greater | ['Doctoral degree', \"Master's degree\", \"Bachelor's\"]...\n",
      "Senior Technical P| KPMG-Canada    | Toronto | [\"Bachelor's\", 'Azure', 'Node.js']...\n",
      "Manager/Senior Man| Tiger Analytics| Toronto | [\"Master's degree\", 'CI/CD', 'Azure']...\n",
      "Manager - Data Sci| EY             | Toronto | [\"Master's degree\", 'Jira', 'TensorFlow']...\n",
      "Sr. Manager/ Assoc| Tiger Analytics| Toronto | [\"Master's degree\", 'Project management', 'Machine learning']...\n",
      "Senior/Lead Data E| Zenni Optical  | Toronto | [\"Bachelor's\", 'Data modeling', 'Spark']...\n",
      "Director of Comput| Resilience Cons| Toronto | ['Doctoral degree', \"Master's degree\", 'Spark']...\n",
      "Director, Transfor| IMCO           | Toronto | [\"Bachelor's\", 'Analysis skills', 'Organizational skills']...\n",
      "VP of Engineering | Viral Nation In| Toronto | ['Spring Boot', 'Node.js', 'React']...\n",
      "Senior Machine Lea| owl.co         | Toronto | ['NumPy', 'SQL', 'AWS']...\n",
      "Education Campus D| AlignTech      | Toronto | [\"Master's degree\", 'Microsoft Office', 'Communication skills']...\n",
      "Data Scientist    | Clearco        | Toronto | [\"Bachelor's\", 'DevOps', 'SQL']...\n",
      "Senior Backend Eng| Recruiting From| Toronto | ['CI/CD', 'Computer science', 'Continuous integration']...\n",
      "Senior Consultant,| KPMG           | Toronto | [\"Master's degree\", 'Power BI', 'Azure']...\n",
      "Senior Systems Sof| Recruiting From| Toronto | ['Azure', 'React', 'Kubernetes']...\n",
      "Machine Learning E| Autodesk       | Toronto | ['Doctoral degree', \"Master's degree\", \"Bachelor's\"]...\n",
      "Data Science Innov| Unilever       | Toronto | ['Doctoral degree', \"Master's degree\", 'Cloud architecture']...\n",
      "Engineering Manage| Validere       | Toronto | [\"Bachelor's\", 'Elixir', 'TensorFlow']...\n",
      "Scene+ Senior Mana| Cineplex       | Toronto | ['Post-secondary education', 'Performance tuning', 'Cloud infrastructure']...\n",
      "Product Manager   | Paytm Labs     | Toronto | [\"Bachelor's\", 'Agile', 'Communication skills']...\n",
      "Senior Software De| Workday        | Toronto | [\"Bachelor's\", 'Kubernetes', 'DevOps']...\n",
      "DevOps Engineer   | Experfy Inc    | Toronto | [\"Bachelor's\", 'CI/CD', 'Azure']...\n",
      "Director of Projec| Sanofi         | Toronto | [\"Master's degree\", \"Bachelor's\", 'Change management']...\n",
      "Associate Product | Zesty.ai       | Toronto | [\"Master's degree\", \"Bachelor's\", 'ArcGIS']...\n",
      "Senior Manager - D| EY             | Toronto | ['Doctoral degree', \"Master's degree\", 'Jira']...\n",
      "Manager, BI Consul| Tiger Analytics| Toronto | [\"Bachelor's\", 'Power BI', 'Business intelligence']...\n",
      "Senior Infrastruct| DataVisor      | Toronto | [\"Bachelor's\", 'Azure', 'Operating systems']...\n",
      "Data Architect (Di| Sanofi         | Toronto | [\"Bachelor's\", 'Data modeling', 'Big data']...\n",
      "Senior Mechanical | HeadSpin       | Toronto | [\"Bachelor's\", 'Mechanical engineering', 'CAD']...\n",
      "Education Campus M| AlignTech      | Toronto | ['Microsoft Office', 'Project management', 'Communication skills']...\n",
      "Director AI & IoT | Avanade        | Toronto | ['Azure', 'Internet of things', 'Machine learning']...\n",
      "Director, Enterpri| Sun Life       | Toronto | ['Jira', 'Microsoft Powerpoint', 'Data modeling']...\n",
      "Cloud ML Engineer | Munich Re      | Toronto | [\"Bachelor's\", 'Power BI', 'Azure']...\n",
      "Data Automation En| Brainsights    | Toronto | ['TensorFlow', 'Computer science', 'Node.js']...\n",
      "(Remote) Senior Pr| Hopper         | Toronto | ['Stock options', 'Disability insurance', 'Dental care']...\n",
      "Manager/ Sr. Manag| Tiger Analytics| Toronto | [\"Master's degree\", 'HDFS', 'R']...\n",
      "(Remote) Lead Prod| Hopper         | Toronto | ['Stock options', 'Disability insurance', 'Dental care']...\n",
      "Senior Software En| Ripple         | Toronto | ['Doctoral degree', \"Master's degree\", 'TensorFlow']...\n",
      "Senior Data Engine| TELUS          | Toronto | ['Performance tuning', 'Azure', 'Relational databases']...\n",
      "Senior Product Man| Hopper         | Toronto | ['Stock options', 'Disability insurance', 'Dental care']...\n",
      "Data Engineer - AW| Tiger Analytics| Toronto | [\"Bachelor's\", 'NoSQL', 'Java']...\n",
      "Senior Engineering| Ripple         | Toronto | ['Software development', 'Communication skills', 'Extended health care']...\n",
      "Data Scientist    | Dev House Labs | Toronto | ['Node.js', 'Big data', 'Enterprise software']...\n",
      "Senior Engineering| Abnormal Securi| Toronto | ['Distributed systems']...\n",
      "Product Manager, P| Wayfair        | Toronto | ['Azure', 'Google Cloud Platform', 'AWS']...\n",
      "Senior Software En| Deep Genomics  | Toronto | ['React', 'Databases', 'Microservices']...\n",
      "Quantitative Analy| Dev House Labs | Toronto | ['Node.js', 'Enterprise software', 'NumPy']...\n",
      "Senior Solutions A| Software AG    | Toronto | [\"Bachelor's\", 'Azure', 'Node.js']...\n",
      "Manager           | Centre for Addi| Toronto | [\"Bachelor's\", 'Research', 'Project management']...\n",
      "Senior Android Dev| Intact         | Toronto | ['Mobile applications', 'Talent acquisition', 'Git']...\n",
      "Director, Enterpri| Sun Life       | Toronto | ['Jira', 'Microsoft Powerpoint', 'Data modeling']...\n",
      "D365 F&O Technical| Hitachi Solutio| Toronto | [\"Bachelor's\", 'Power BI', 'Azure']...\n",
      "Data Engineer     | TELUS          | Toronto | ['Azure', 'Relational databases', 'DevOps']...\n",
      "Director of Engine| NuPort Robotics| Toronto | ['Doctoral degree', 'CI/CD', 'Mechanical engineering']...\n",
      "5G RF Engineer (re| Software Intern| Toronto | [\"Bachelor's\", 'Power BI', 'Microsoft Excel']...\n",
      "Senior Product Man| Veeva Systems  | Toronto | [\"Master's degree\", 'Jira', 'SQL']...\n",
      "Machine Learning E| Tiger Analytics| Toronto | [\"Bachelor's\", 'TensorFlow', 'Kubernetes']...\n",
      "Senior AI Develope| Intact         | Toronto | [\"Bachelor's\", 'Spring Boot', 'TensorFlow']...\n",
      "Vice President, Me| Dentsu Media   | Toronto | ['Relational databases', 'R', 'Tableau']...\n",
      "Engineering Manage| Wisedocs       | Toronto | [\"Bachelor's\", 'Data modeling', 'Oracle']...\n",
      "Director, Data Eng| CPP Investments| Toronto | [\"Bachelor's\", 'Computer science', 'DevOps']...\n",
      "BI Program Manager| Tiger Analytics| Toronto | [\"Bachelor's\", 'Power BI', 'Program management']...\n",
      "Senior SAS Adminis| Intact         | Toronto | ['Microsoft Windows Server', 'Power BI', 'Oracle']...\n",
      "====================================================================================================\n"
     ]
    }
   ],
   "source": [
    "url_base = 'https://www.workopolis.com/'\n",
    "url_search = 'https://www.workopolis.com/jobsearch/find-jobs?ak=data%20science%20machine%20learning%20-intern%20-co-op&l=Toronto%2C%20ON&sr=10&t=-1&mip=%24110%2C000&job=A_BGLPbeQyACv85eEPgbvwWhgdEXSYd20NZdqbx2xZF6J9Wrhn4Ta2T_K_Da2QWp'\n",
    "\n",
    "links = get_job_links(url_search, url_base)\n",
    "jobs = get_job_details(links)\n"
   ]
  },
  {
   "cell_type": "code",
   "execution_count": 866,
   "id": "ef7d6b6a",
   "metadata": {},
   "outputs": [
    {
     "name": "stdout",
     "output_type": "stream",
     "text": [
      "April 18, 2023\n",
      "\n",
      "\n",
      "\n",
      "\n",
      "\n",
      "Dear Hiring Manager,\n",
      "\n",
      "\n",
      "\n",
      "I am writing to express my interest in the Analyst/Associate role in the Systematic Strategies Group - CMF. I feel that this career opportunity offered with your organization is a strong match for my experience in data science, programming, and quantitative investment analysis.  I have a strong interest in applying my analytics skills in investment research and my skillet and experience makes me an ideal candidate to perform research in systemic strategies.\n",
      "\n",
      "\n",
      "\n",
      "As a Chartered Financial Analyst with a Master’s degree in Data Science I have over 15+ years of experience working on data-driven projects, primary in Capital Markets.\n",
      "\n",
      "\n",
      "\n",
      "In my current role at Firmex, I am the principal data scientist building machine-learning models to predict customer behavior,revenue and expense forecasting, and predicting Merges and Acquisition activity using my knowledge of market data and econometrics.  I am adept at building and automating scalable data pipelines using large structured and unstructured datasets.\n",
      "\n",
      "\n",
      "\n",
      "What sets me apart from others are strong technical skills, coupled with excellent communication skills.  I can gather requirements from stakeholders, design solutions, write the code and communicate the results to executives.\n",
      "\n",
      "\n",
      "\n",
      "I recently completed a master's degree in Data Science through Regis University where I maintained a 4.0-grade point average specializing in machine learning, deep learning, natural language processing, and reinforcement learning. I am passionate about technology and conduct and publish my own research in my spare time. Check out my github repository to see some of my recent projects, including my capstone project where I used deep learning to create a successful Bitcoin trading strategy. \n",
      "\n",
      "\n",
      "\n",
      "Should I have piqued your interest I would welcome the chance to discuss your needs and outline my strengths in person. \n",
      "\n",
      "\n",
      "\n",
      "Thank you for your time and consideration of my resume.\n",
      "\n",
      "\n",
      "\n",
      "Ken ConstableKen Constable BSc. MSc. CFA\n",
      "\n",
      "ken.constable@gmail.com | (647) 349 - 6500\n",
      "\n",
      "Github: https://github.com/kconstable\n",
      "\n",
      "LinkedIn: https://www.linkedin.com/in/kenconstableconsulting\n",
      "\n",
      "Overview\n",
      "\n",
      "CFA Charterholder with over 15 years of experience as a data scientist and quantitative analyst/developer with a focus on analyzing investment market data. Expertise in applying machine learning in investment settings and extensive experience in data warehousing and automating data-intensive processes. A strong communicator with a knack for communicating complex data concepts in elegant data visualizations. \n",
      "\n",
      "Education\n",
      "\n",
      "Master’s Degree in Data Science, MSc.  Regis University, Denver Colorado\n",
      "\n",
      "Chartered Financial Analyst, CFA CFA Institute\n",
      "\n",
      "Bachelor’s Degree in Chemistry, BSc. University of Waterloo, Waterloo, Ontario\n",
      "\n",
      "Technical Skills\n",
      "\n",
      "Financial Models : Monte Carlo Simulations, Back-Testing, Scenario-Testing, Portfolio Optimization, Portfolio Analytics,  Bloomberg, Factset, BarraOne, Eagle, Alphavantage\n",
      "\n",
      "Business Intelligence and Data Engineering : SQL, SQL SERVER, ORACLE, HIVE, POSTGRES, SSIS, SSRS, ETL, ELT, AWS Redshift, AWS S3, Airflow, AWS Glue\n",
      "\n",
      "Machine Learning, Data Analysis, and Data Mining : NLP, Natural Language Processing, Deep Learning, Reinforcement Learning, Time-series Analysis, Supervised Learning, Unsupervised Learning, Regression, Classification, Decision Trees, Random Forest, XGBoost, Statistics, Optimization, Pandas, Scikit-learn, TensorFlow, NumPy, SpaCy, Keras, Beautiful Soup, VBA, Microsoft Excel, Object Oriented Programming, Git, Github\n",
      "\n",
      "Data Visualization : Tableau, Plotly, Dash, R-Shiny, matplotlib, Communication skills, Visual Storytelling\n",
      "\n",
      "Relevant Career Highlights\n",
      "\n",
      "A selection of experience demonstrating machine learning, data engineering, financial modeling, and quantitative analysis\n",
      "\n",
      "Firmex : Principal Data Scientist who is responsible for building & deploying machine learning models and data pipelines.  Design and implementation of predictive models with applications in sales forecasting, customer behavior, helpdesk support, and Merger & Acquisition activity (Python, SQL, Airflow, AWS S3, AWS Redshift, AWS Glue, Machine Learning, Data Mining, Data Visualization, Tableau, XGBoost, Random Forest, ETL, ELT, Data Pipeline Automation)\n",
      "\n",
      "AGF Investments : Developed statistical factor-based investment models for AGF Management.  Implemented the Portfolio Managers' strategy for over 40 investment models, resulting in a robust system that automatically rolls the models forward, providing automated daily investment recommendations. Implemented the key reporting and analytics data warehouse, which hosts accounting, transaction, and market data. Responsibilities included data analysis, data profiling, coding ETL processes, and developing data visualizations and investment performance reports. (Python, SQL, VBA, R,  XL-wings, Automation, Trade Automation, Solution Architecture)\n",
      "\n",
      "Northwater Capital : Worked as a portfolio analyst at the hedge fund manager Northwater Capital for 6 years. Responsibilities included performance measurement, creating data visualizations, financial modeling, back-testing strategies, coding Monte Carlo simulations, and recommending baskets of futures contracts to replicate index performance using supervised learning techniques (SQL, SSIS, SSAS, SSRS, VBA, Machine Learning, Time-Series-Analysis, Data Pipeline Automation Monte Carlo Simulations)\n",
      "\n",
      "Satori Consulting : Built data models using census data to analyze locations for new credit union branches.  Identified customers likely to purchase new products using statistical data mining techniques. Built data pipelines and ETL processes (SQL, SSIS, Machine Learning, Data Mining, Unsupervised Learning, Clustering, Data Pipeline Automation)\n",
      "\n",
      "\n",
      "\n",
      "Research Projects \n",
      "\n",
      "A collection of academic research and personal interest projects related to data science, machine learning, and data engineering\n",
      "\n",
      "Bitcoin Price Prediction & Stock Price Prediction   This was the cumulation of my Master’s thesis where I used machine learning to predict the future price of Bitcoin and designed a successful trading strategy using the predictions. ( LSTM, Deep Learning, Python, Keras, TensorFlow, Pandas, Plotly, Natural Language Processing, NLP, scikit-learn)\n",
      "\n",
      "Portfolio Optimation using Monte Carlo Simulations  This research demonstrates how modern portfolio theory can be utilized to select the optimal risk-adjusted portfolio. (Python, Monte Carlo, Plotly)\n",
      "\n",
      "Resume Optimization:  In this project, I built a process that scrapes an RSS job feed and ranks the positions in order of fit to my resume and cover letter using natural language processing.  And yes, if you’re reading this, my resume has been optimized to match your role :)    (Natural language processing, SpaCY, Python)  \n",
      "\n",
      "Twitter Sentiment Analysis  A demonstration of how natural language processing can be utilized to understand the sentiment of Twitter posts.  (R, Plotly, Python, Natural Language Processing, Statistics)\n",
      "\n",
      " Pneumonia-Multi class Classification, Alzheimer's Multi-class Classification  Two projects where computer vision and deep learning are utilized to classify disease from images.  (Computer Vision, Classification, Transfer Learning, Deep Learning, Keras, python, Tensorflow)\n",
      "\n",
      "Mortgage Amortization /Rent vs Buy  An Interactive Dashboard built using plotly dash that allows users to visualize mortgage amortization scenarios and determine whether they should rent or buy  (Python, Plotly, Dash)\n",
      "\n",
      "MyBand - This is Content Management System for Bands that I designed to help them manage their unstructured data and communications. (Product Design)\n",
      "\n",
      "\n",
      "\n",
      "\n",
      "\n",
      "Chronological Work Experience\n",
      "\n",
      "FIRMEX\n",
      "\n",
      "PRINCIPAL DATA SCIENTIST\n",
      "\n",
      "Apr 2022- Present \n",
      "\n",
      "Machine Learning: Design and implementation of machine learning models with applications in sales forecasting, prospect scoring and prioritization, forecasting headcount, and related expenses, anticipating help-desk tickets, and forecasting Mergers & Acquisition activity (Python, Scikit, XGBoost, Tensorflow, Sagemaker)\n",
      "\n",
      "Data Engineering: Design and implementation of data pipelines to automate processes (Airflow, Sagemaker, Python, SQL, AWS S3, AWS Glue, AWS Redshift, ETL, ELT)\n",
      "\n",
      "Data Analytics & Visualization:  Design and implementation of analytical dashboards for executives to inform data-driven decisions (Tableau, SQL, AWS Redshift, AWS S3)\n",
      "\n",
      "\n",
      "\n",
      "AGF INVESTMENTS\n",
      "\n",
      "SENIOR QUANTITATIVE ANALYST\n",
      "\n",
      "July 2018- April 2022\n",
      "\n",
      "Type: Contract\n",
      "\n",
      "Data Warehouse Design & Implementation: Senior Data Analyst working on the design and implementation of a new Investment Data Warehouse (data analysis, data modeling, SQL, PL/SQL)\n",
      "\n",
      "Data Analysis / Data Profiling: Analysis of current investment systems (Eagle Investment Systems) and Integrations between systems and data sources (Bloomberg, RIMES, Factset, SQL)\n",
      "\n",
      "Development: Review current SQL queries, views, functions, and procedures. Writing new advanced SQL queries for Oracle & MS SQL Server. (PL/SQL Developer, MS SQL Server Management Studio).  Design and development of high-volume investor reports (SQL, Seismic)\n",
      "\n",
      "Process Mapping:  Documentation of current and future state investment processes for newly launched ETF products (MS VISO)\n",
      "\n",
      "\n",
      "\n",
      "BEUTEL GOODMAN \n",
      "\n",
      "SENIOR QUANTITATIVE ANALYST\n",
      "\n",
      "Sept 2017-June 2018\n",
      "\n",
      "Type: Contract\n",
      "\n",
      "Process Mapping & Optimization: Analysis and documentation of current investment processes, including; Sales process, reporting, client onboarding/offboarding, investment funding & trade execution\n",
      "\n",
      "Report Design & Development: Requirements gathering, design, and development of quarterly investment reports, including the automation of custom market commentary (VBA, SQL, Active Reports)\n",
      "\n",
      "System Integrations:  Integration of Satuit CRM with Beutel's Investment Data warehouse. Responsible for database and data analysis, integration design, implementation, and testing\n",
      "\n",
      "\n",
      "\n",
      "AGF INVESTMENTS\n",
      "\n",
      "SENIOR QUANTITATIVE ANALYST\n",
      "\n",
      "Sep 2015 — Aug 2017\n",
      "\n",
      "Type: Contract\n",
      "\n",
      "Developed statistical factor-based investment models for AGF Management.  Implemented the Portfolio Managers' strategy for over 40 investment models, resulting in a robust system that automatically rolls the models forward daily, providing investment recommendations. (VBA, SQL, Python, xlwings, Automation)\n",
      "\n",
      "Analysis of Investment Systems: Documentation and analysis of proprietary investment systems for one of AGF's subsidiaries.   Responsible for liaising with Investment and IT professionals to document current systems and processes.  Creation of detailed process maps for daily data processing, reporting, and system integrations\n",
      "\n",
      "Data Management: Analysis of Market Data in Eagle Investments systems and associated data marts.  Identification and clean up of bad data through SQL scripting to update millions of records (SQL, PL/SQL)\n",
      "\n",
      "System Integrations:  Integration of Eagle Investment Systems with custodian data feeds.  Responsible for testing integrations, test case creation, and liaising with vendors and AGF Operations. (SQL, ETL)\n",
      "\n",
      "\n",
      "\n",
      "SATORI CONSULTING\n",
      "\n",
      "SENIOR BUSINESS INTELLIGENCE DEVELOPER, DATA WAREHOUSE\n",
      "\n",
      "Jun 2011-Feb 2012\n",
      "\n",
      "Type: Contract\n",
      "\n",
      "Contracted with a company that provides data warehouse and analysis services to Credit Unions across the Country\n",
      "\n",
      "Data Modelling & Analysis: Created models using SQL Server, Quadstone, and census data to analyze locations for new credit union branches using data mining.  Identified Credit Union members with high potential for new or existing product up-sell opportunities using data mining and statistical techniques. \n",
      "\n",
      "Data Warehouse Design: Analyzed existing data warehouse design and processes.  Made recommendations to improve and automate processes and optimize warehouse design structure for efficient uploads and retrieval (MS SQL Server, SQL, SSIS)\n",
      "\n",
      "Data Warehouse Implementation: Implemented design and process recommendations.  This involved writing complex SQL queries, designing & implementing ETL processes to automate data loads and retrieval using SQL Server Integration Services (SSIS)\n",
      "\n",
      "\n",
      "\n",
      "MAPLES FINANCE\n",
      "\n",
      "SENIOR QUANTITATIVE ANALYST, FINANCIAL MODELLING\n",
      "\n",
      "Dec 2011-Jan 2012 \n",
      "\n",
      "Type: Contract\n",
      "\n",
      "Contracted with a large financial data services firm to design and implement a compensation model\n",
      "\n",
      "Developed an automated compensation model for Maples Finance. Features included time-series forecasting and scenario testing. (financial modeling, VBA, time series analysis)\n",
      "\n",
      "\n",
      "\n",
      "CANADA PENSION PLAN INVESTMENT BOARD (CPPIB)\n",
      "\n",
      "PROJECT MANAGER, CORPORATE INFORMATION SYSTEMS\n",
      "\n",
      "Jan 2010-Feb 2011\n",
      "\n",
      "Type: Contract\n",
      "\n",
      "Leadership: Responsible for the Corporate Systems team of eight professionals.  Responsible for solution design and delivery, application support, enhancements, resource planning, and project management. \n",
      "\n",
      "Business Analysis:  Facilitation of requirements gathering, interpreting, and synthesizing requirements from project sponsors, owners, and stakeholders, gap analysis, as-is and to-be application and process mapping\n",
      "\n",
      "Communication: Communicating technical information to non-technical audiences. Presenting to the project Steering Committee\n",
      "\n",
      "Application Management: Responsible for managing the following technologies: SharePoint, Confluence, JIRA, ClearCase, ClearQuest, and a proprietary Compliance Management System\n",
      "\n",
      "\n",
      "\n",
      "NORTHWATER CAPITAL MANAGEMENT\n",
      "\n",
      "VICE PRESIDENT, DATA ANALYTICS:  \n",
      "\n",
      "Apr 2006-Oct 2009\n",
      "\n",
      "Leadership: Responsible for a team of application developers; leadership in an era of downsizing, management of projects and priorities, communication of company initiatives/direction, and coaching and feedback\n",
      "\n",
      "Strategy: Responsible for business intelligence vision and implementation. Balancing short-term tactical initiatives with long-term strategic goals.  Instrumental in new product development from concept to implementation\n",
      "\n",
      "Negotiation and Influence: liaison between business unit leaders to determine competing priorities and manage expectations.  Present to the management committee on project progress, strategic decisions, and budget\n",
      "\n",
      "Management: responsible for managing multiple projects, including vendor management, risk management, process management, and budget/forecast\n",
      "\n",
      "\n",
      "\n",
      "NORTHWATER CAPITAL\n",
      "\n",
      "PORTFOLIO ANALYST, ANALYTICS\n",
      "\n",
      "Nov 2003-Apr 2006\n",
      "\n",
      "Worked as a portfolio analyst at Northwater Capital performing statistical and quantitative analysis on hedge fund portfolios.\n",
      "\n",
      "Responsibilities included performance attribution, creating data visualizations, financial modeling, back-testing strategies, and coding Monte Carlo simulations.\n",
      "\n",
      "Analysis and research on synthetic portfolio tracking and optimization strategies. Recommended synthetic portfolio asset mixes for domestic and international portfolios (supervised learning, optimization, financial modeling, VBA)\n",
      "\n",
      "Recommended baskets of futures contracts to replicate index performance using supervised learning techniques (supervised machine learning, VBA, SQL)\n",
      "\n",
      "Data management and process improvement initiatives, including the development of VBA, databases (SQL, MS Access), and SharePoint sites\n"
     ]
    }
   ],
   "source": [
    "# get resume + cover letter\n",
    "r = get_resume_text('data/resume2023.docx',False) \n",
    "cl = get_resume_text('data/cover_letter.docx',False)\n",
    "resume = cl + r\n",
    "print(resume)"
   ]
  },
  {
   "cell_type": "code",
   "execution_count": 748,
   "id": "93ec4a20",
   "metadata": {},
   "outputs": [
    {
     "data": {
      "text/html": [
       "<div>\n",
       "<style scoped>\n",
       "    .dataframe tbody tr th:only-of-type {\n",
       "        vertical-align: middle;\n",
       "    }\n",
       "\n",
       "    .dataframe tbody tr th {\n",
       "        vertical-align: top;\n",
       "    }\n",
       "\n",
       "    .dataframe thead th {\n",
       "        text-align: right;\n",
       "    }\n",
       "</style>\n",
       "<table border=\"1\" class=\"dataframe\">\n",
       "  <thead>\n",
       "    <tr style=\"text-align: right;\">\n",
       "      <th></th>\n",
       "      <th>title</th>\n",
       "      <th>company</th>\n",
       "      <th>location</th>\n",
       "      <th>similarity-score</th>\n",
       "      <th>keyword-coverage</th>\n",
       "      <th>keyword-wt</th>\n",
       "      <th>keywords-missing</th>\n",
       "    </tr>\n",
       "  </thead>\n",
       "  <tbody>\n",
       "    <tr>\n",
       "      <th>76</th>\n",
       "      <td>Director, Data Engineering Data Products (9-mo...</td>\n",
       "      <td>CPP Investments</td>\n",
       "      <td>Toronto, ON</td>\n",
       "      <td>0.414657</td>\n",
       "      <td>0.644444</td>\n",
       "      <td>2.689189</td>\n",
       "      <td>{snowflake, ai, computer science, exploration,...</td>\n",
       "    </tr>\n",
       "    <tr>\n",
       "      <th>47</th>\n",
       "      <td>Director, Enterprise Data Architecture (Client...</td>\n",
       "      <td>Sun Life</td>\n",
       "      <td>Toronto, ON</td>\n",
       "      <td>0.394452</td>\n",
       "      <td>0.604651</td>\n",
       "      <td>1.481481</td>\n",
       "      <td>{ai, mentoring, mentor, financial services, ml...</td>\n",
       "    </tr>\n",
       "    <tr>\n",
       "      <th>7</th>\n",
       "      <td>Staff Data Engineer</td>\n",
       "      <td>BEGiN</td>\n",
       "      <td>Toronto, ON</td>\n",
       "      <td>0.391256</td>\n",
       "      <td>0.666667</td>\n",
       "      <td>4.905660</td>\n",
       "      <td>{computer science, infrastructure, scala, look...</td>\n",
       "    </tr>\n",
       "    <tr>\n",
       "      <th>66</th>\n",
       "      <td>Director, Enterprise Data Architecture (Health...</td>\n",
       "      <td>Sun Life</td>\n",
       "      <td>Toronto, ON</td>\n",
       "      <td>0.390216</td>\n",
       "      <td>0.609756</td>\n",
       "      <td>1.636364</td>\n",
       "      <td>{ai, mentoring, mentor, financial services, ml...</td>\n",
       "    </tr>\n",
       "    <tr>\n",
       "      <th>40</th>\n",
       "      <td>Senior Manager - Data Science - Toronto</td>\n",
       "      <td>EY</td>\n",
       "      <td>Toronto, ON</td>\n",
       "      <td>0.371085</td>\n",
       "      <td>0.551020</td>\n",
       "      <td>0.897638</td>\n",
       "      <td>{ml, scala, mlops, markets, devops, capital ma...</td>\n",
       "    </tr>\n",
       "    <tr>\n",
       "      <th>...</th>\n",
       "      <td>...</td>\n",
       "      <td>...</td>\n",
       "      <td>...</td>\n",
       "      <td>...</td>\n",
       "      <td>...</td>\n",
       "      <td>...</td>\n",
       "      <td>...</td>\n",
       "    </tr>\n",
       "    <tr>\n",
       "      <th>45</th>\n",
       "      <td>Education Campus Manager</td>\n",
       "      <td>AlignTech</td>\n",
       "      <td>Toronto, ON</td>\n",
       "      <td>0.123616</td>\n",
       "      <td>0.800000</td>\n",
       "      <td>3.666667</td>\n",
       "      <td>{ai, options, presentation}</td>\n",
       "    </tr>\n",
       "    <tr>\n",
       "      <th>59</th>\n",
       "      <td>Senior Engineering Manager: Core ML Systems - ...</td>\n",
       "      <td>Abnormal Security</td>\n",
       "      <td>Toronto, ON</td>\n",
       "      <td>0.114802</td>\n",
       "      <td>0.692308</td>\n",
       "      <td>2.571429</td>\n",
       "      <td>{fraud, ml, ai, algorithms}</td>\n",
       "    </tr>\n",
       "    <tr>\n",
       "      <th>65</th>\n",
       "      <td>Senior Android Developer</td>\n",
       "      <td>Intact</td>\n",
       "      <td>Toronto, ON</td>\n",
       "      <td>0.114774</td>\n",
       "      <td>0.625000</td>\n",
       "      <td>1.090909</td>\n",
       "      <td>{ai, insurance, software development, collabor...</td>\n",
       "    </tr>\n",
       "    <tr>\n",
       "      <th>3</th>\n",
       "      <td>Canada Research Chair, Tier 1 - Physical Scien...</td>\n",
       "      <td>Sunnybrook Health Sciences Centre</td>\n",
       "      <td>Toronto, ON</td>\n",
       "      <td>0.103442</td>\n",
       "      <td>0.700000</td>\n",
       "      <td>-25.390805</td>\n",
       "      <td>{ai, infrastructure, insurance, collaboration,...</td>\n",
       "    </tr>\n",
       "    <tr>\n",
       "      <th>26</th>\n",
       "      <td>Education Campus Director</td>\n",
       "      <td>AlignTech</td>\n",
       "      <td>Toronto, ON</td>\n",
       "      <td>0.091176</td>\n",
       "      <td>0.733333</td>\n",
       "      <td>2.631579</td>\n",
       "      <td>{ai, options, workflow, presentation}</td>\n",
       "    </tr>\n",
       "  </tbody>\n",
       "</table>\n",
       "<p>79 rows × 7 columns</p>\n",
       "</div>"
      ],
      "text/plain": [
       "                                                title  \\\n",
       "76  Director, Data Engineering Data Products (9-mo...   \n",
       "47  Director, Enterprise Data Architecture (Client...   \n",
       "7                                 Staff Data Engineer   \n",
       "66  Director, Enterprise Data Architecture (Health...   \n",
       "40            Senior Manager - Data Science - Toronto   \n",
       "..                                                ...   \n",
       "45                           Education Campus Manager   \n",
       "59  Senior Engineering Manager: Core ML Systems - ...   \n",
       "65                           Senior Android Developer   \n",
       "3   Canada Research Chair, Tier 1 - Physical Scien...   \n",
       "26                          Education Campus Director   \n",
       "\n",
       "                              company     location  similarity-score  \\\n",
       "76                    CPP Investments  Toronto, ON          0.414657   \n",
       "47                           Sun Life  Toronto, ON          0.394452   \n",
       "7                               BEGiN  Toronto, ON          0.391256   \n",
       "66                           Sun Life  Toronto, ON          0.390216   \n",
       "40                                 EY  Toronto, ON          0.371085   \n",
       "..                                ...          ...               ...   \n",
       "45                          AlignTech  Toronto, ON          0.123616   \n",
       "59                  Abnormal Security  Toronto, ON          0.114802   \n",
       "65                             Intact  Toronto, ON          0.114774   \n",
       "3   Sunnybrook Health Sciences Centre  Toronto, ON          0.103442   \n",
       "26                          AlignTech  Toronto, ON          0.091176   \n",
       "\n",
       "    keyword-coverage  keyword-wt  \\\n",
       "76          0.644444    2.689189   \n",
       "47          0.604651    1.481481   \n",
       "7           0.666667    4.905660   \n",
       "66          0.609756    1.636364   \n",
       "40          0.551020    0.897638   \n",
       "..               ...         ...   \n",
       "45          0.800000    3.666667   \n",
       "59          0.692308    2.571429   \n",
       "65          0.625000    1.090909   \n",
       "3           0.700000  -25.390805   \n",
       "26          0.733333    2.631579   \n",
       "\n",
       "                                     keywords-missing  \n",
       "76  {snowflake, ai, computer science, exploration,...  \n",
       "47  {ai, mentoring, mentor, financial services, ml...  \n",
       "7   {computer science, infrastructure, scala, look...  \n",
       "66  {ai, mentoring, mentor, financial services, ml...  \n",
       "40  {ml, scala, mlops, markets, devops, capital ma...  \n",
       "..                                                ...  \n",
       "45                        {ai, options, presentation}  \n",
       "59                        {fraud, ml, ai, algorithms}  \n",
       "65  {ai, insurance, software development, collabor...  \n",
       "3   {ai, infrastructure, insurance, collaboration,...  \n",
       "26              {ai, options, workflow, presentation}  \n",
       "\n",
       "[79 rows x 7 columns]"
      ]
     },
     "execution_count": 748,
     "metadata": {},
     "output_type": "execute_result"
    }
   ],
   "source": [
    "# calc similarities with each job\n",
    "df = calc_similarities(resume,jobs,'data/terms.csv')\n",
    "df"
   ]
  },
  {
   "cell_type": "code",
   "execution_count": 750,
   "id": "e71ec8a0",
   "metadata": {},
   "outputs": [
    {
     "data": {
      "application/vnd.plotly.v1+json": {
       "config": {
        "plotlyServerURL": "https://plot.ly"
       },
       "data": [
        {
         "customdata": [
          [
           "Director, Data Engineering Data Products (9-month contract)",
           "CPP Investments",
           "Toronto, ON",
           0.8224760405553269
          ],
          [
           "Director, Enterprise Data Architecture (Client Experience Data)",
           "Sun Life",
           "Toronto, ON",
           0.7871017217031862
          ],
          [
           "Staff Data Engineer",
           "BEGiN",
           "Toronto, ON",
           0.8873975095800652
          ],
          [
           "Director, Enterprise Data Architecture (Health Data)",
           "Sun Life",
           "Toronto, ON",
           0.7916382918487118
          ],
          [
           "Senior Manager - Data Science - Toronto",
           "EY",
           "Toronto, ON",
           0.7700006693675536
          ],
          [
           "Data Engineer",
           "TELUS",
           "Toronto, ON",
           0.8640540431745242
          ],
          [
           "Senior Data Engineer",
           "TELUS",
           "Toronto, ON",
           0.8657520410739836
          ],
          [
           "Machine Learning Engineer (Canada)",
           "Tiger Analytics",
           "Toronto, ON",
           0.841741830980351
          ],
          [
           "Senior Machine Learning Engineer (Layer 6)",
           "TD Bank",
           "Toronto, ON",
           0.8022893695816851
          ],
          [
           "Manager - Data Science - Toronto",
           "EY",
           "Toronto, ON",
           0.7584654695963984
          ],
          [
           "Senior Data Engineer",
           "PC Bank",
           "Toronto, ON",
           0.7755301804624253
          ],
          [
           "Machine Learning Engineer (Layer 6)",
           "TD Bank",
           "Toronto, ON",
           0.799094046261793
          ],
          [
           "Senior Data Engineer - Analytics",
           "Zenni Optical",
           "Toronto, ON",
           0.8911056145485744
          ],
          [
           "Director of Computational Biology - AI/ML",
           "Resilience Consultancy Services",
           "Toronto, ON",
           0.8535476811716185
          ],
          [
           "Manager, BI Consulting (Life Sciences/Pharma)",
           "Tiger Analytics",
           "Toronto, ON",
           0.8198636478410909
          ],
          [
           "Senior Product Manager - Data Science",
           "Veeva Systems",
           "Toronto, ON",
           0.9077350391381197
          ],
          [
           "Data Scientist",
           "Clearco",
           "Toronto, ON",
           0.8647116694101754
          ],
          [
           "Data Architect (Digital Data, Large Molecule Research)",
           "Sanofi",
           "Toronto, ON",
           0.8286920411451115
          ],
          [
           "BI Program Manager",
           "Tiger Analytics",
           "Toronto, ON",
           0.8117889794516341
          ],
          [
           "Manager/Senior Manager - DE Consulting",
           "Tiger Analytics",
           "Toronto, ON",
           0.869239001046088
          ],
          [
           "Scene+ Senior Manager, Data Engineer",
           "Cineplex",
           "Toronto, ON",
           0.8366299133069607
          ],
          [
           "Cloud ML Engineer (Sr. Technical Specialist)",
           "Munich Re",
           "Toronto, ON",
           0.7606419914148641
          ],
          [
           "Data Scientist - Consultant/ Senior Consultant - Lighthouse",
           "KPMG-Canada",
           "Toronto, ON",
           0.8855359508104492
          ],
          [
           "Machine Learning Engineer",
           "Autodesk",
           "Toronto, ON",
           0.8339708916139471
          ],
          [
           "Senior Manager - BI Consulting",
           "Tiger Analytics",
           "Toronto, ON",
           0.8969952024240384
          ],
          [
           "Senior Consultant, Technology, Media & Telecommunications-Data Science",
           "KPMG",
           "Toronto, ON",
           0.8614028509996862
          ],
          [
           "Senior/Lead Data Engineer",
           "Zenni Optical",
           "Toronto, ON",
           0.8709704570322363
          ],
          [
           "Data Engineer - AWS",
           "Tiger Analytics",
           "Toronto, ON",
           0.8511068091911456
          ],
          [
           "Data Scientist",
           "Dev House Labs",
           "Toronto, ON",
           0.8245755920120909
          ],
          [
           "Senior Machine Learning Engineer",
           "owl.co",
           "Toronto, ON",
           0.8816819424202287
          ],
          [
           "Associate Product Manager - Data and Modeling",
           "Zesty.ai",
           "Toronto, ON",
           0.8743889726971958
          ],
          [
           "Vice President, Media Effectiveness",
           "Dentsu Media",
           "Toronto, ON",
           0.7664338018685295
          ],
          [
           "Manager/ Sr. Manager - Analytics Consulting (Canada)",
           "Tiger Analytics",
           "Toronto, ON",
           0.8120528575035771
          ],
          [
           "Director of Project Management - R&D Data and Computational Science",
           "Sanofi",
           "Toronto, ON",
           0.8040826632816244
          ],
          [
           "D365 F&O Technical Architect",
           "Hitachi Solutions Ltd",
           "Toronto, ON",
           0.849512770346755
          ],
          [
           "Project Manager, Analytics",
           "EXL Services",
           "Toronto, ON",
           0.8073833632800635
          ],
          [
           "Sr. Machine Learning Engineer - ML Engine(Layer 6)",
           "TD Bank",
           "Toronto, ON",
           0.7951161947819275
          ],
          [
           "Senior Software Engineer, Machine Learning",
           "Ripple",
           "Toronto, ON",
           0.8315798333473613
          ],
          [
           "Data Science Innovation Lead - Forecasting Engine Utility",
           "Unilever",
           "Toronto, ON",
           0.8056690384777246
          ],
          [
           "Engineering Manager (Fullstack)",
           "Wisedocs",
           "Toronto, ON",
           0.833008636457882
          ],
          [
           "Senior Technical Product Manager, Asset Management Digital Solutions (AMDS)",
           "KPMG-Canada",
           "Toronto, ON",
           0.9436916084504672
          ],
          [
           "Quantitative Analyst",
           "Dev House Labs",
           "Toronto, ON",
           0.876756650341879
          ],
          [
           "DevOps Engineer",
           "Experfy Inc",
           "Toronto, ON",
           0.8375574790138258
          ],
          [
           "Senior SAS Administrator",
           "Intact",
           "Toronto, ON",
           0.815440190047907
          ],
          [
           "Sr. Manager/ Associate Director - Pricing Analytics",
           "Tiger Analytics",
           "Toronto, ON",
           0.7777231741653113
          ],
          [
           "5G RF Engineer (remote)",
           "Software International",
           "Toronto, ON",
           0.8022893695816851
          ],
          [
           "Software Engineering Manager, MarTech, Data & ML",
           "Wayfair",
           "Toronto, ON",
           0.8252123412243882
          ],
          [
           "Senior Engineering Manager, Data Platform",
           "Ripple",
           "Toronto, ON",
           0.7952596582779228
          ],
          [
           "Data Automation Engineer",
           "Brainsights",
           "Toronto, ON",
           0.8511068091911456
          ],
          [
           "Clinical Operations Planning Director",
           "GSK",
           "Greater Toronto Area, ON",
           0.8226299694189602
          ],
          [
           "Lead Data Scientist, Finance",
           "Figment",
           "Toronto, ON",
           0.8195190541497298
          ],
          [
           "Forward-Deployed Data Engineer",
           "Boston Consulting Group",
           "Toronto, ON",
           0.7922469248620246
          ],
          [
           "Senior AI Developer",
           "Intact",
           "Toronto, ON",
           0.805293519711498
          ],
          [
           "VP of Engineering",
           "Viral Nation Inc.",
           "Toronto, ON",
           0.789271385685829
          ],
          [
           "Senior Software Development Engineer",
           "Workday",
           "Toronto, ON",
           0.865209625078323
          ],
          [
           "Senior Backend Engineer (AI Startup)",
           "Recruiting From Scratch",
           "Toronto, ON",
           0.8574243601994287
          ],
          [
           "Director, Transformation & Business Architecture",
           "IMCO",
           "Toronto, ON",
           0.8574906282169981
          ],
          [
           "Manager",
           "Centre for Addiction and Mental Health",
           "Toronto, ON",
           0.6624688538700605
          ],
          [
           "Sr. Account Executive",
           "Anaconda",
           "Toronto, ON",
           0.7817068815301288
          ],
          [
           "Senior Infrastructure Engineer - Canada",
           "DataVisor",
           "Toronto, ON",
           0.8015383320492317
          ],
          [
           "Senior Software Engineer (Full Stack)",
           "Deep Genomics",
           "Toronto, ON",
           1
          ],
          [
           "Product Manager",
           "Paytm Labs",
           "Toronto, ON",
           0.8204696574362427
          ],
          [
           "Product Manager",
           "Paytm",
           "Toronto, ON",
           0.8204696574362427
          ],
          [
           "Software Engineer",
           "Dawn InfoTek Inc.",
           "Toronto, ON",
           0.7743936898048505
          ],
          [
           "Product Manager, Platform Engineering",
           "Wayfair",
           "Toronto, ON",
           0.8444676374042589
          ],
          [
           "Senior Mechanical Engineer",
           "HeadSpin",
           "Toronto, ON",
           0.8096119855231041
          ],
          [
           "Director of Engineering",
           "NuPort Robotics",
           "Toronto, ON",
           0.7718033766827158
          ],
          [
           "Senior Solutions Architect - (Remote and Eastern Canada)",
           "Software AG",
           "Toronto, ON",
           0.7675914355823454
          ],
          [
           "Senior Systems Software Engineer",
           "Recruiting From Scratch",
           "Toronto, ON",
           0.8473516215288793
          ],
          [
           "Director AI & IoT - Canada",
           "Avanade",
           "Toronto, ON",
           0.7835434727716521
          ],
          [
           "(Remote) Lead Product Manager, Growth - Social Commerce",
           "Hopper",
           "Toronto, ON",
           0.8153073534775411
          ],
          [
           "Senior Product Manager, Corporate Travel (Remote)",
           "Hopper",
           "Toronto, ON",
           0.7450398267669541
          ],
          [
           "Engineering Manager",
           "Validere",
           "Toronto, ON",
           0.8086966585304267
          ],
          [
           "(Remote) Senior Product Manager, Referrals & Social Commerce",
           "Hopper",
           "Toronto, ON",
           0.8153073534775411
          ],
          [
           "Education Campus Manager",
           "AlignTech",
           "Toronto, ON",
           0.8511068091911456
          ],
          [
           "Senior Engineering Manager: Core ML Systems - [Remote: Canada]",
           "Abnormal Security",
           "Toronto, ON",
           0.8190267774477858
          ],
          [
           "Senior Android Developer",
           "Intact",
           "Toronto, ON",
           0.775661675249252
          ],
          [
           "Canada Research Chair, Tier 1 - Physical Sciences Platform (01312023)",
           "Sunnybrook Health Sciences Centre",
           "Toronto, ON",
           0
          ],
          [
           "Education Campus Director",
           "AlignTech",
           "Toronto, ON",
           0.8207886098547438
          ]
         ],
         "hovertemplate": "<b>Title:</b> %{customdata[0]}<br><b>Company:</b> %{customdata[1]}<br><b>Location:</b> %{customdata[2]}</br><b>Similarity:</b> %{y:,.2f}<br><b>Keyword Coverage:</b> %{x:,.2f}<br><b>Weighted Keyword Frequency:</b> %{customdata[3]:,.2f}<br><extra></extra>",
         "marker": {
          "color": [
           0.41465716720598506,
           0.39445179623205506,
           0.3912559187171578,
           0.3902162817306869,
           0.371084920647905,
           0.3697105577742497,
           0.36800149673034227,
           0.3435900951037884,
           0.3344062740159868,
           0.33371351274418287,
           0.3330305420749007,
           0.32764738454230546,
           0.3252315145004726,
           0.31349883550878516,
           0.3097225403426769,
           0.30286942636579184,
           0.29680224509845554,
           0.2930843328793766,
           0.28677445646350574,
           0.28354544106345847,
           0.2831399882002286,
           0.27958365156019427,
           0.2776291277853163,
           0.27570332622856253,
           0.27251566207334404,
           0.2687662400922266,
           0.2574262936077602,
           0.24837801947949156,
           0.2469003036603135,
           0.23828272648626767,
           0.23815548798792777,
           0.23748849876775888,
           0.23374766576777314,
           0.23346711141234378,
           0.23058192531138327,
           0.2269033060489949,
           0.22453028000309813,
           0.2228053269338296,
           0.21887488803136076,
           0.21629532443818153,
           0.21564398799025958,
           0.2135749768991286,
           0.21318442068934082,
           0.20854286522625254,
           0.20186822164908286,
           0.20051916270365713,
           0.19989635129371722,
           0.19634894665198233,
           0.19403104342692315,
           0.19166945593883522,
           0.18811322175707024,
           0.18502450461121406,
           0.1792628779433158,
           0.1785727487071427,
           0.176987683142345,
           0.17629783781773542,
           0.1734541620241469,
           0.17129905131796952,
           0.16889217013756325,
           0.16846735781503425,
           0.16647636075825717,
           0.16399938830471217,
           0.16399938830471217,
           0.16208783324460108,
           0.1598282650411818,
           0.15926180099843337,
           0.1486200216548758,
           0.14371684725842954,
           0.13999106452714788,
           0.13059974778513328,
           0.12902707967376464,
           0.1288404298733388,
           0.12872785090450273,
           0.12863544245638991,
           0.12361643502604067,
           0.11480222058518195,
           0.11477418940540544,
           0.10344229926194232,
           0.09117560293449618
          ],
          "colorscale": [
           [
            0,
            "rgba(252,76,1,1.0)"
           ],
           [
            0.25,
            "rgba(252,76,1,0.5)"
           ],
           [
            0.5,
            "rgba(83,128,141,0.25)"
           ],
           [
            0.75,
            "rgba(83,128,141,0.5)"
           ],
           [
            1,
            "rgba(83,128,141,1.0)"
           ]
          ],
          "size": [
           41.123802027766345,
           39.35508608515931,
           44.36987547900326,
           39.58191459243559,
           38.50003346837768,
           43.20270215872621,
           43.28760205369918,
           42.08709154901755,
           40.11446847908425,
           37.92327347981992,
           38.776509023121264,
           39.954702313089655,
           44.55528072742872,
           42.67738405858093,
           40.99318239205454,
           45.38675195690598,
           43.23558347050877,
           41.434602057255574,
           40.58944897258171,
           43.4619500523044,
           41.83149566534804,
           38.032099570743206,
           44.27679754052246,
           41.69854458069736,
           44.84976012120192,
           43.07014254998431,
           43.548522851611814,
           42.55534045955728,
           41.22877960060454,
           44.08409712101143,
           43.719448634859795,
           38.321690093426476,
           40.60264287517886,
           40.20413316408122,
           42.47563851733775,
           40.36916816400318,
           39.75580973909638,
           41.578991667368065,
           40.28345192388623,
           41.6504318228941,
           47.18458042252336,
           43.83783251709395,
           41.87787395069129,
           40.77200950239535,
           38.88615870826557,
           40.11446847908425,
           41.26061706121941,
           39.76298291389614,
           42.55534045955728,
           41.13149847094801,
           40.97595270748649,
           39.61234624310123,
           40.2646759855749,
           39.46356928429145,
           43.26048125391615,
           42.871218009971436,
           42.874531410849904,
           33.12344269350302,
           39.08534407650644,
           40.07691660246159,
           50,
           41.023482871812135,
           41.023482871812135,
           38.71968449024252,
           42.22338187021295,
           40.4805992761552,
           38.59016883413579,
           38.37957177911727,
           42.36758107644397,
           39.17717363858261,
           40.76536767387706,
           37.25199133834771,
           40.43483292652134,
           40.76536767387706,
           42.55534045955728,
           40.95133887238929,
           38.7830837624626,
           0,
           41.03943049273719
          ]
         },
         "mode": "markers",
         "type": "scatter",
         "x": [
          0.6444444444444445,
          0.6046511627906976,
          0.6666666666666666,
          0.6097560975609756,
          0.5510204081632653,
          0.5769230769230769,
          0.6153846153846154,
          0.6875,
          0.5517241379310345,
          0.5490196078431373,
          0.5581395348837209,
          0.5333333333333333,
          0.7307692307692307,
          0.7,
          0.6956521739130435,
          0.7368421052631579,
          0.7272727272727273,
          0.625,
          0.7916666666666666,
          0.68,
          0.5757575757575758,
          0.5416666666666666,
          0.7567567567567568,
          0.6060606060606061,
          0.8181818181818182,
          0.6923076923076923,
          0.5909090909090909,
          0.6190476190476191,
          0.7,
          0.7586206896551724,
          0.6923076923076923,
          0.7575757575757576,
          0.7391304347826086,
          0.5652173913043478,
          0.68,
          0.7307692307692307,
          0.5769230769230769,
          0.6785714285714286,
          0.6666666666666666,
          0.7586206896551724,
          0.625,
          0.75,
          0.6,
          0.6206896551724138,
          0.8,
          0.8181818181818182,
          0.45,
          0.6666666666666666,
          0.7058823529411765,
          0.7142857142857143,
          0.7407407407407407,
          0.5294117647058824,
          0.4827586206896552,
          0.6521739130434783,
          0.5714285714285714,
          0.75,
          0.6842105263157895,
          0.85,
          0.5294117647058824,
          0.38095238095238093,
          0.7272727272727273,
          0.631578947368421,
          0.631578947368421,
          0.4444444444444444,
          0.6875,
          0.8181818181818182,
          0.53125,
          0.4117647058823529,
          0.65,
          0.6842105263157895,
          0.7692307692307693,
          0.6153846153846154,
          0.75,
          0.7692307692307693,
          0.8,
          0.6923076923076923,
          0.625,
          0.7,
          0.7333333333333333
         ],
         "y": [
          0.41465716720598506,
          0.39445179623205506,
          0.3912559187171578,
          0.3902162817306869,
          0.371084920647905,
          0.3697105577742497,
          0.36800149673034227,
          0.3435900951037884,
          0.3344062740159868,
          0.33371351274418287,
          0.3330305420749007,
          0.32764738454230546,
          0.3252315145004726,
          0.31349883550878516,
          0.3097225403426769,
          0.30286942636579184,
          0.29680224509845554,
          0.2930843328793766,
          0.28677445646350574,
          0.28354544106345847,
          0.2831399882002286,
          0.27958365156019427,
          0.2776291277853163,
          0.27570332622856253,
          0.27251566207334404,
          0.2687662400922266,
          0.2574262936077602,
          0.24837801947949156,
          0.2469003036603135,
          0.23828272648626767,
          0.23815548798792777,
          0.23748849876775888,
          0.23374766576777314,
          0.23346711141234378,
          0.23058192531138327,
          0.2269033060489949,
          0.22453028000309813,
          0.2228053269338296,
          0.21887488803136076,
          0.21629532443818153,
          0.21564398799025958,
          0.2135749768991286,
          0.21318442068934082,
          0.20854286522625254,
          0.20186822164908286,
          0.20051916270365713,
          0.19989635129371722,
          0.19634894665198233,
          0.19403104342692315,
          0.19166945593883522,
          0.18811322175707024,
          0.18502450461121406,
          0.1792628779433158,
          0.1785727487071427,
          0.176987683142345,
          0.17629783781773542,
          0.1734541620241469,
          0.17129905131796952,
          0.16889217013756325,
          0.16846735781503425,
          0.16647636075825717,
          0.16399938830471217,
          0.16399938830471217,
          0.16208783324460108,
          0.1598282650411818,
          0.15926180099843337,
          0.1486200216548758,
          0.14371684725842954,
          0.13999106452714788,
          0.13059974778513328,
          0.12902707967376464,
          0.1288404298733388,
          0.12872785090450273,
          0.12863544245638991,
          0.12361643502604067,
          0.11480222058518195,
          0.11477418940540544,
          0.10344229926194232,
          0.09117560293449618
         ]
        }
       ],
       "layout": {
        "height": 500,
        "template": {
         "data": {
          "bar": [
           {
            "error_x": {
             "color": "#2a3f5f"
            },
            "error_y": {
             "color": "#2a3f5f"
            },
            "marker": {
             "line": {
              "color": "white",
              "width": 0.5
             },
             "pattern": {
              "fillmode": "overlay",
              "size": 10,
              "solidity": 0.2
             }
            },
            "type": "bar"
           }
          ],
          "barpolar": [
           {
            "marker": {
             "line": {
              "color": "white",
              "width": 0.5
             },
             "pattern": {
              "fillmode": "overlay",
              "size": 10,
              "solidity": 0.2
             }
            },
            "type": "barpolar"
           }
          ],
          "carpet": [
           {
            "aaxis": {
             "endlinecolor": "#2a3f5f",
             "gridcolor": "#C8D4E3",
             "linecolor": "#C8D4E3",
             "minorgridcolor": "#C8D4E3",
             "startlinecolor": "#2a3f5f"
            },
            "baxis": {
             "endlinecolor": "#2a3f5f",
             "gridcolor": "#C8D4E3",
             "linecolor": "#C8D4E3",
             "minorgridcolor": "#C8D4E3",
             "startlinecolor": "#2a3f5f"
            },
            "type": "carpet"
           }
          ],
          "choropleth": [
           {
            "colorbar": {
             "outlinewidth": 0,
             "ticks": ""
            },
            "type": "choropleth"
           }
          ],
          "contour": [
           {
            "colorbar": {
             "outlinewidth": 0,
             "ticks": ""
            },
            "colorscale": [
             [
              0,
              "#0d0887"
             ],
             [
              0.1111111111111111,
              "#46039f"
             ],
             [
              0.2222222222222222,
              "#7201a8"
             ],
             [
              0.3333333333333333,
              "#9c179e"
             ],
             [
              0.4444444444444444,
              "#bd3786"
             ],
             [
              0.5555555555555556,
              "#d8576b"
             ],
             [
              0.6666666666666666,
              "#ed7953"
             ],
             [
              0.7777777777777778,
              "#fb9f3a"
             ],
             [
              0.8888888888888888,
              "#fdca26"
             ],
             [
              1,
              "#f0f921"
             ]
            ],
            "type": "contour"
           }
          ],
          "contourcarpet": [
           {
            "colorbar": {
             "outlinewidth": 0,
             "ticks": ""
            },
            "type": "contourcarpet"
           }
          ],
          "heatmap": [
           {
            "colorbar": {
             "outlinewidth": 0,
             "ticks": ""
            },
            "colorscale": [
             [
              0,
              "#0d0887"
             ],
             [
              0.1111111111111111,
              "#46039f"
             ],
             [
              0.2222222222222222,
              "#7201a8"
             ],
             [
              0.3333333333333333,
              "#9c179e"
             ],
             [
              0.4444444444444444,
              "#bd3786"
             ],
             [
              0.5555555555555556,
              "#d8576b"
             ],
             [
              0.6666666666666666,
              "#ed7953"
             ],
             [
              0.7777777777777778,
              "#fb9f3a"
             ],
             [
              0.8888888888888888,
              "#fdca26"
             ],
             [
              1,
              "#f0f921"
             ]
            ],
            "type": "heatmap"
           }
          ],
          "heatmapgl": [
           {
            "colorbar": {
             "outlinewidth": 0,
             "ticks": ""
            },
            "colorscale": [
             [
              0,
              "#0d0887"
             ],
             [
              0.1111111111111111,
              "#46039f"
             ],
             [
              0.2222222222222222,
              "#7201a8"
             ],
             [
              0.3333333333333333,
              "#9c179e"
             ],
             [
              0.4444444444444444,
              "#bd3786"
             ],
             [
              0.5555555555555556,
              "#d8576b"
             ],
             [
              0.6666666666666666,
              "#ed7953"
             ],
             [
              0.7777777777777778,
              "#fb9f3a"
             ],
             [
              0.8888888888888888,
              "#fdca26"
             ],
             [
              1,
              "#f0f921"
             ]
            ],
            "type": "heatmapgl"
           }
          ],
          "histogram": [
           {
            "marker": {
             "pattern": {
              "fillmode": "overlay",
              "size": 10,
              "solidity": 0.2
             }
            },
            "type": "histogram"
           }
          ],
          "histogram2d": [
           {
            "colorbar": {
             "outlinewidth": 0,
             "ticks": ""
            },
            "colorscale": [
             [
              0,
              "#0d0887"
             ],
             [
              0.1111111111111111,
              "#46039f"
             ],
             [
              0.2222222222222222,
              "#7201a8"
             ],
             [
              0.3333333333333333,
              "#9c179e"
             ],
             [
              0.4444444444444444,
              "#bd3786"
             ],
             [
              0.5555555555555556,
              "#d8576b"
             ],
             [
              0.6666666666666666,
              "#ed7953"
             ],
             [
              0.7777777777777778,
              "#fb9f3a"
             ],
             [
              0.8888888888888888,
              "#fdca26"
             ],
             [
              1,
              "#f0f921"
             ]
            ],
            "type": "histogram2d"
           }
          ],
          "histogram2dcontour": [
           {
            "colorbar": {
             "outlinewidth": 0,
             "ticks": ""
            },
            "colorscale": [
             [
              0,
              "#0d0887"
             ],
             [
              0.1111111111111111,
              "#46039f"
             ],
             [
              0.2222222222222222,
              "#7201a8"
             ],
             [
              0.3333333333333333,
              "#9c179e"
             ],
             [
              0.4444444444444444,
              "#bd3786"
             ],
             [
              0.5555555555555556,
              "#d8576b"
             ],
             [
              0.6666666666666666,
              "#ed7953"
             ],
             [
              0.7777777777777778,
              "#fb9f3a"
             ],
             [
              0.8888888888888888,
              "#fdca26"
             ],
             [
              1,
              "#f0f921"
             ]
            ],
            "type": "histogram2dcontour"
           }
          ],
          "mesh3d": [
           {
            "colorbar": {
             "outlinewidth": 0,
             "ticks": ""
            },
            "type": "mesh3d"
           }
          ],
          "parcoords": [
           {
            "line": {
             "colorbar": {
              "outlinewidth": 0,
              "ticks": ""
             }
            },
            "type": "parcoords"
           }
          ],
          "pie": [
           {
            "automargin": true,
            "type": "pie"
           }
          ],
          "scatter": [
           {
            "fillpattern": {
             "fillmode": "overlay",
             "size": 10,
             "solidity": 0.2
            },
            "type": "scatter"
           }
          ],
          "scatter3d": [
           {
            "line": {
             "colorbar": {
              "outlinewidth": 0,
              "ticks": ""
             }
            },
            "marker": {
             "colorbar": {
              "outlinewidth": 0,
              "ticks": ""
             }
            },
            "type": "scatter3d"
           }
          ],
          "scattercarpet": [
           {
            "marker": {
             "colorbar": {
              "outlinewidth": 0,
              "ticks": ""
             }
            },
            "type": "scattercarpet"
           }
          ],
          "scattergeo": [
           {
            "marker": {
             "colorbar": {
              "outlinewidth": 0,
              "ticks": ""
             }
            },
            "type": "scattergeo"
           }
          ],
          "scattergl": [
           {
            "marker": {
             "colorbar": {
              "outlinewidth": 0,
              "ticks": ""
             }
            },
            "type": "scattergl"
           }
          ],
          "scattermapbox": [
           {
            "marker": {
             "colorbar": {
              "outlinewidth": 0,
              "ticks": ""
             }
            },
            "type": "scattermapbox"
           }
          ],
          "scatterpolar": [
           {
            "marker": {
             "colorbar": {
              "outlinewidth": 0,
              "ticks": ""
             }
            },
            "type": "scatterpolar"
           }
          ],
          "scatterpolargl": [
           {
            "marker": {
             "colorbar": {
              "outlinewidth": 0,
              "ticks": ""
             }
            },
            "type": "scatterpolargl"
           }
          ],
          "scatterternary": [
           {
            "marker": {
             "colorbar": {
              "outlinewidth": 0,
              "ticks": ""
             }
            },
            "type": "scatterternary"
           }
          ],
          "surface": [
           {
            "colorbar": {
             "outlinewidth": 0,
             "ticks": ""
            },
            "colorscale": [
             [
              0,
              "#0d0887"
             ],
             [
              0.1111111111111111,
              "#46039f"
             ],
             [
              0.2222222222222222,
              "#7201a8"
             ],
             [
              0.3333333333333333,
              "#9c179e"
             ],
             [
              0.4444444444444444,
              "#bd3786"
             ],
             [
              0.5555555555555556,
              "#d8576b"
             ],
             [
              0.6666666666666666,
              "#ed7953"
             ],
             [
              0.7777777777777778,
              "#fb9f3a"
             ],
             [
              0.8888888888888888,
              "#fdca26"
             ],
             [
              1,
              "#f0f921"
             ]
            ],
            "type": "surface"
           }
          ],
          "table": [
           {
            "cells": {
             "fill": {
              "color": "#EBF0F8"
             },
             "line": {
              "color": "white"
             }
            },
            "header": {
             "fill": {
              "color": "#C8D4E3"
             },
             "line": {
              "color": "white"
             }
            },
            "type": "table"
           }
          ]
         },
         "layout": {
          "annotationdefaults": {
           "arrowcolor": "#2a3f5f",
           "arrowhead": 0,
           "arrowwidth": 1
          },
          "autotypenumbers": "strict",
          "coloraxis": {
           "colorbar": {
            "outlinewidth": 0,
            "ticks": ""
           }
          },
          "colorscale": {
           "diverging": [
            [
             0,
             "#8e0152"
            ],
            [
             0.1,
             "#c51b7d"
            ],
            [
             0.2,
             "#de77ae"
            ],
            [
             0.3,
             "#f1b6da"
            ],
            [
             0.4,
             "#fde0ef"
            ],
            [
             0.5,
             "#f7f7f7"
            ],
            [
             0.6,
             "#e6f5d0"
            ],
            [
             0.7,
             "#b8e186"
            ],
            [
             0.8,
             "#7fbc41"
            ],
            [
             0.9,
             "#4d9221"
            ],
            [
             1,
             "#276419"
            ]
           ],
           "sequential": [
            [
             0,
             "#0d0887"
            ],
            [
             0.1111111111111111,
             "#46039f"
            ],
            [
             0.2222222222222222,
             "#7201a8"
            ],
            [
             0.3333333333333333,
             "#9c179e"
            ],
            [
             0.4444444444444444,
             "#bd3786"
            ],
            [
             0.5555555555555556,
             "#d8576b"
            ],
            [
             0.6666666666666666,
             "#ed7953"
            ],
            [
             0.7777777777777778,
             "#fb9f3a"
            ],
            [
             0.8888888888888888,
             "#fdca26"
            ],
            [
             1,
             "#f0f921"
            ]
           ],
           "sequentialminus": [
            [
             0,
             "#0d0887"
            ],
            [
             0.1111111111111111,
             "#46039f"
            ],
            [
             0.2222222222222222,
             "#7201a8"
            ],
            [
             0.3333333333333333,
             "#9c179e"
            ],
            [
             0.4444444444444444,
             "#bd3786"
            ],
            [
             0.5555555555555556,
             "#d8576b"
            ],
            [
             0.6666666666666666,
             "#ed7953"
            ],
            [
             0.7777777777777778,
             "#fb9f3a"
            ],
            [
             0.8888888888888888,
             "#fdca26"
            ],
            [
             1,
             "#f0f921"
            ]
           ]
          },
          "colorway": [
           "#636efa",
           "#EF553B",
           "#00cc96",
           "#ab63fa",
           "#FFA15A",
           "#19d3f3",
           "#FF6692",
           "#B6E880",
           "#FF97FF",
           "#FECB52"
          ],
          "font": {
           "color": "#2a3f5f"
          },
          "geo": {
           "bgcolor": "white",
           "lakecolor": "white",
           "landcolor": "white",
           "showlakes": true,
           "showland": true,
           "subunitcolor": "#C8D4E3"
          },
          "hoverlabel": {
           "align": "left"
          },
          "hovermode": "closest",
          "mapbox": {
           "style": "light"
          },
          "paper_bgcolor": "white",
          "plot_bgcolor": "white",
          "polar": {
           "angularaxis": {
            "gridcolor": "#EBF0F8",
            "linecolor": "#EBF0F8",
            "ticks": ""
           },
           "bgcolor": "white",
           "radialaxis": {
            "gridcolor": "#EBF0F8",
            "linecolor": "#EBF0F8",
            "ticks": ""
           }
          },
          "scene": {
           "xaxis": {
            "backgroundcolor": "white",
            "gridcolor": "#DFE8F3",
            "gridwidth": 2,
            "linecolor": "#EBF0F8",
            "showbackground": true,
            "ticks": "",
            "zerolinecolor": "#EBF0F8"
           },
           "yaxis": {
            "backgroundcolor": "white",
            "gridcolor": "#DFE8F3",
            "gridwidth": 2,
            "linecolor": "#EBF0F8",
            "showbackground": true,
            "ticks": "",
            "zerolinecolor": "#EBF0F8"
           },
           "zaxis": {
            "backgroundcolor": "white",
            "gridcolor": "#DFE8F3",
            "gridwidth": 2,
            "linecolor": "#EBF0F8",
            "showbackground": true,
            "ticks": "",
            "zerolinecolor": "#EBF0F8"
           }
          },
          "shapedefaults": {
           "line": {
            "color": "#2a3f5f"
           }
          },
          "ternary": {
           "aaxis": {
            "gridcolor": "#DFE8F3",
            "linecolor": "#A2B1C6",
            "ticks": ""
           },
           "baxis": {
            "gridcolor": "#DFE8F3",
            "linecolor": "#A2B1C6",
            "ticks": ""
           },
           "bgcolor": "white",
           "caxis": {
            "gridcolor": "#DFE8F3",
            "linecolor": "#A2B1C6",
            "ticks": ""
           }
          },
          "title": {
           "x": 0.05
          },
          "xaxis": {
           "automargin": true,
           "gridcolor": "#EBF0F8",
           "linecolor": "#EBF0F8",
           "ticks": "",
           "title": {
            "standoff": 15
           },
           "zerolinecolor": "#EBF0F8",
           "zerolinewidth": 2
          },
          "yaxis": {
           "automargin": true,
           "gridcolor": "#EBF0F8",
           "linecolor": "#EBF0F8",
           "ticks": "",
           "title": {
            "standoff": 15
           },
           "zerolinecolor": "#EBF0F8",
           "zerolinewidth": 2
          }
         }
        },
        "title": {
         "text": "Resume Similarity to Job Listings"
        },
        "width": 800,
        "xaxis": {
         "range": [
          0,
          1
         ],
         "title": {
          "text": "Keyword Coverge (%)"
         }
        },
        "yaxis": {
         "range": [
          0,
          1
         ],
         "title": {
          "text": "Similarity Score"
         }
        }
       }
      },
      "text/html": [
       "<div>                            <div id=\"c3ec0aca-6ad0-4284-a8bf-dbb3c369eee4\" class=\"plotly-graph-div\" style=\"height:500px; width:800px;\"></div>            <script type=\"text/javascript\">                require([\"plotly\"], function(Plotly) {                    window.PLOTLYENV=window.PLOTLYENV || {};                                    if (document.getElementById(\"c3ec0aca-6ad0-4284-a8bf-dbb3c369eee4\")) {                    Plotly.newPlot(                        \"c3ec0aca-6ad0-4284-a8bf-dbb3c369eee4\",                        [{\"customdata\":[[\"Director, Data Engineering Data Products (9-month contract)\",\"CPP Investments\",\"Toronto, ON\",0.8224760405553269],[\"Director, Enterprise Data Architecture (Client Experience Data)\",\"Sun Life\",\"Toronto, ON\",0.7871017217031862],[\"Staff Data Engineer\",\"BEGiN\",\"Toronto, ON\",0.8873975095800652],[\"Director, Enterprise Data Architecture (Health Data)\",\"Sun Life\",\"Toronto, ON\",0.7916382918487118],[\"Senior Manager - Data Science - Toronto\",\"EY\",\"Toronto, ON\",0.7700006693675536],[\"Data Engineer\",\"TELUS\",\"Toronto, ON\",0.8640540431745242],[\"Senior Data Engineer\",\"TELUS\",\"Toronto, ON\",0.8657520410739836],[\"Machine Learning Engineer (Canada)\",\"Tiger Analytics\",\"Toronto, ON\",0.841741830980351],[\"Senior Machine Learning Engineer (Layer 6)\",\"TD Bank\",\"Toronto, ON\",0.8022893695816851],[\"Manager - Data Science - Toronto\",\"EY\",\"Toronto, ON\",0.7584654695963984],[\"Senior Data Engineer\",\"PC Bank\",\"Toronto, ON\",0.7755301804624253],[\"Machine Learning Engineer (Layer 6)\",\"TD Bank\",\"Toronto, ON\",0.799094046261793],[\"Senior Data Engineer - Analytics\",\"Zenni Optical\",\"Toronto, ON\",0.8911056145485744],[\"Director of Computational Biology - AI/ML\",\"Resilience Consultancy Services\",\"Toronto, ON\",0.8535476811716185],[\"Manager, BI Consulting (Life Sciences/Pharma)\",\"Tiger Analytics\",\"Toronto, ON\",0.8198636478410909],[\"Senior Product Manager - Data Science\",\"Veeva Systems\",\"Toronto, ON\",0.9077350391381197],[\"Data Scientist\",\"Clearco\",\"Toronto, ON\",0.8647116694101754],[\"Data Architect (Digital Data, Large Molecule Research)\",\"Sanofi\",\"Toronto, ON\",0.8286920411451115],[\"BI Program Manager\",\"Tiger Analytics\",\"Toronto, ON\",0.8117889794516341],[\"Manager/Senior Manager - DE Consulting\",\"Tiger Analytics\",\"Toronto, ON\",0.869239001046088],[\"Scene+ Senior Manager, Data Engineer\",\"Cineplex\",\"Toronto, ON\",0.8366299133069607],[\"Cloud ML Engineer (Sr. Technical Specialist)\",\"Munich Re\",\"Toronto, ON\",0.7606419914148641],[\"Data Scientist - Consultant/ Senior Consultant - Lighthouse\",\"KPMG-Canada\",\"Toronto, ON\",0.8855359508104492],[\"Machine Learning Engineer\",\"Autodesk\",\"Toronto, ON\",0.8339708916139471],[\"Senior Manager - BI Consulting\",\"Tiger Analytics\",\"Toronto, ON\",0.8969952024240384],[\"Senior Consultant, Technology, Media & Telecommunications-Data Science\",\"KPMG\",\"Toronto, ON\",0.8614028509996862],[\"Senior/Lead Data Engineer\",\"Zenni Optical\",\"Toronto, ON\",0.8709704570322363],[\"Data Engineer - AWS\",\"Tiger Analytics\",\"Toronto, ON\",0.8511068091911456],[\"Data Scientist\",\"Dev House Labs\",\"Toronto, ON\",0.8245755920120909],[\"Senior Machine Learning Engineer\",\"owl.co\",\"Toronto, ON\",0.8816819424202287],[\"Associate Product Manager - Data and Modeling\",\"Zesty.ai\",\"Toronto, ON\",0.8743889726971958],[\"Vice President, Media Effectiveness\",\"Dentsu Media\",\"Toronto, ON\",0.7664338018685295],[\"Manager/ Sr. Manager - Analytics Consulting (Canada)\",\"Tiger Analytics\",\"Toronto, ON\",0.8120528575035771],[\"Director of Project Management - R&D Data and Computational Science\",\"Sanofi\",\"Toronto, ON\",0.8040826632816244],[\"D365 F&O Technical Architect\",\"Hitachi Solutions Ltd\",\"Toronto, ON\",0.849512770346755],[\"Project Manager, Analytics\",\"EXL Services\",\"Toronto, ON\",0.8073833632800635],[\"Sr. Machine Learning Engineer - ML Engine(Layer 6)\",\"TD Bank\",\"Toronto, ON\",0.7951161947819275],[\"Senior Software Engineer, Machine Learning\",\"Ripple\",\"Toronto, ON\",0.8315798333473613],[\"Data Science Innovation Lead - Forecasting Engine Utility\",\"Unilever\",\"Toronto, ON\",0.8056690384777246],[\"Engineering Manager (Fullstack)\",\"Wisedocs\",\"Toronto, ON\",0.833008636457882],[\"Senior Technical Product Manager, Asset Management Digital Solutions (AMDS)\",\"KPMG-Canada\",\"Toronto, ON\",0.9436916084504672],[\"Quantitative Analyst\",\"Dev House Labs\",\"Toronto, ON\",0.876756650341879],[\"DevOps Engineer\",\"Experfy Inc\",\"Toronto, ON\",0.8375574790138258],[\"Senior SAS Administrator\",\"Intact\",\"Toronto, ON\",0.815440190047907],[\"Sr. Manager/ Associate Director - Pricing Analytics\",\"Tiger Analytics\",\"Toronto, ON\",0.7777231741653113],[\"5G RF Engineer (remote)\",\"Software International\",\"Toronto, ON\",0.8022893695816851],[\"Software Engineering Manager, MarTech, Data & ML\",\"Wayfair\",\"Toronto, ON\",0.8252123412243882],[\"Senior Engineering Manager, Data Platform\",\"Ripple\",\"Toronto, ON\",0.7952596582779228],[\"Data Automation Engineer\",\"Brainsights\",\"Toronto, ON\",0.8511068091911456],[\"Clinical Operations Planning Director\",\"GSK\",\"Greater Toronto Area, ON\",0.8226299694189602],[\"Lead Data Scientist, Finance\",\"Figment\",\"Toronto, ON\",0.8195190541497298],[\"Forward-Deployed Data Engineer\",\"Boston Consulting Group\",\"Toronto, ON\",0.7922469248620246],[\"Senior AI Developer\",\"Intact\",\"Toronto, ON\",0.805293519711498],[\"VP of Engineering\",\"Viral Nation Inc.\",\"Toronto, ON\",0.789271385685829],[\"Senior Software Development Engineer\",\"Workday\",\"Toronto, ON\",0.865209625078323],[\"Senior Backend Engineer (AI Startup)\",\"Recruiting From Scratch\",\"Toronto, ON\",0.8574243601994287],[\"Director, Transformation & Business Architecture\",\"IMCO\",\"Toronto, ON\",0.8574906282169981],[\"Manager\",\"Centre for Addiction and Mental Health\",\"Toronto, ON\",0.6624688538700605],[\"Sr. Account Executive\",\"Anaconda\",\"Toronto, ON\",0.7817068815301288],[\"Senior Infrastructure Engineer - Canada\",\"DataVisor\",\"Toronto, ON\",0.8015383320492317],[\"Senior Software Engineer (Full Stack)\",\"Deep Genomics\",\"Toronto, ON\",1.0],[\"Product Manager\",\"Paytm Labs\",\"Toronto, ON\",0.8204696574362427],[\"Product Manager\",\"Paytm\",\"Toronto, ON\",0.8204696574362427],[\"Software Engineer\",\"Dawn InfoTek Inc.\",\"Toronto, ON\",0.7743936898048505],[\"Product Manager, Platform Engineering\",\"Wayfair\",\"Toronto, ON\",0.8444676374042589],[\"Senior Mechanical Engineer\",\"HeadSpin\",\"Toronto, ON\",0.8096119855231041],[\"Director of Engineering\",\"NuPort Robotics\",\"Toronto, ON\",0.7718033766827158],[\"Senior Solutions Architect - (Remote and Eastern Canada)\",\"Software AG\",\"Toronto, ON\",0.7675914355823454],[\"Senior Systems Software Engineer\",\"Recruiting From Scratch\",\"Toronto, ON\",0.8473516215288793],[\"Director AI & IoT - Canada\",\"Avanade\",\"Toronto, ON\",0.7835434727716521],[\"(Remote) Lead Product Manager, Growth - Social Commerce\",\"Hopper\",\"Toronto, ON\",0.8153073534775411],[\"Senior Product Manager, Corporate Travel (Remote)\",\"Hopper\",\"Toronto, ON\",0.7450398267669541],[\"Engineering Manager\",\"Validere\",\"Toronto, ON\",0.8086966585304267],[\"(Remote) Senior Product Manager, Referrals & Social Commerce\",\"Hopper\",\"Toronto, ON\",0.8153073534775411],[\"Education Campus Manager\",\"AlignTech\",\"Toronto, ON\",0.8511068091911456],[\"Senior Engineering Manager: Core ML Systems - [Remote: Canada]\",\"Abnormal Security\",\"Toronto, ON\",0.8190267774477858],[\"Senior Android Developer\",\"Intact\",\"Toronto, ON\",0.775661675249252],[\"Canada Research Chair, Tier 1 - Physical Sciences Platform\\u00a0(01312023)\",\"Sunnybrook Health Sciences Centre\",\"Toronto, ON\",0.0],[\"Education Campus Director\",\"AlignTech\",\"Toronto, ON\",0.8207886098547438]],\"hovertemplate\":\"<b>Title:</b> %{customdata[0]}<br><b>Company:</b> %{customdata[1]}<br><b>Location:</b> %{customdata[2]}</br><b>Similarity:</b> %{y:,.2f}<br><b>Keyword Coverage:</b> %{x:,.2f}<br><b>Weighted Keyword Frequency:</b> %{customdata[3]:,.2f}<br><extra></extra>\",\"marker\":{\"color\":[0.41465716720598506,0.39445179623205506,0.3912559187171578,0.3902162817306869,0.371084920647905,0.3697105577742497,0.36800149673034227,0.3435900951037884,0.3344062740159868,0.33371351274418287,0.3330305420749007,0.32764738454230546,0.3252315145004726,0.31349883550878516,0.3097225403426769,0.30286942636579184,0.29680224509845554,0.2930843328793766,0.28677445646350574,0.28354544106345847,0.2831399882002286,0.27958365156019427,0.2776291277853163,0.27570332622856253,0.27251566207334404,0.2687662400922266,0.2574262936077602,0.24837801947949156,0.2469003036603135,0.23828272648626767,0.23815548798792777,0.23748849876775888,0.23374766576777314,0.23346711141234378,0.23058192531138327,0.2269033060489949,0.22453028000309813,0.2228053269338296,0.21887488803136076,0.21629532443818153,0.21564398799025958,0.2135749768991286,0.21318442068934082,0.20854286522625254,0.20186822164908286,0.20051916270365713,0.19989635129371722,0.19634894665198233,0.19403104342692315,0.19166945593883522,0.18811322175707024,0.18502450461121406,0.1792628779433158,0.1785727487071427,0.176987683142345,0.17629783781773542,0.1734541620241469,0.17129905131796952,0.16889217013756325,0.16846735781503425,0.16647636075825717,0.16399938830471217,0.16399938830471217,0.16208783324460108,0.1598282650411818,0.15926180099843337,0.1486200216548758,0.14371684725842954,0.13999106452714788,0.13059974778513328,0.12902707967376464,0.1288404298733388,0.12872785090450273,0.12863544245638991,0.12361643502604067,0.11480222058518195,0.11477418940540544,0.10344229926194232,0.09117560293449618],\"colorscale\":[[0,\"rgba(252,76,1,1.0)\"],[0.25,\"rgba(252,76,1,0.5)\"],[0.5,\"rgba(83,128,141,0.25)\"],[0.75,\"rgba(83,128,141,0.5)\"],[1.0,\"rgba(83,128,141,1.0)\"]],\"size\":[41.123802027766345,39.35508608515931,44.36987547900326,39.58191459243559,38.50003346837768,43.20270215872621,43.28760205369918,42.08709154901755,40.11446847908425,37.92327347981992,38.776509023121264,39.954702313089655,44.55528072742872,42.67738405858093,40.99318239205454,45.38675195690598,43.23558347050877,41.434602057255574,40.58944897258171,43.4619500523044,41.83149566534804,38.032099570743206,44.27679754052246,41.69854458069736,44.84976012120192,43.07014254998431,43.548522851611814,42.55534045955728,41.22877960060454,44.08409712101143,43.719448634859795,38.321690093426476,40.60264287517886,40.20413316408122,42.47563851733775,40.36916816400318,39.75580973909638,41.578991667368065,40.28345192388623,41.6504318228941,47.18458042252336,43.83783251709395,41.87787395069129,40.77200950239535,38.88615870826557,40.11446847908425,41.26061706121941,39.76298291389614,42.55534045955728,41.13149847094801,40.97595270748649,39.61234624310123,40.2646759855749,39.46356928429145,43.26048125391615,42.871218009971436,42.874531410849904,33.12344269350302,39.08534407650644,40.07691660246159,50.0,41.023482871812135,41.023482871812135,38.71968449024252,42.22338187021295,40.4805992761552,38.59016883413579,38.37957177911727,42.36758107644397,39.17717363858261,40.76536767387706,37.25199133834771,40.43483292652134,40.76536767387706,42.55534045955728,40.95133887238929,38.7830837624626,0.0,41.03943049273719]},\"mode\":\"markers\",\"x\":[0.6444444444444445,0.6046511627906976,0.6666666666666666,0.6097560975609756,0.5510204081632653,0.5769230769230769,0.6153846153846154,0.6875,0.5517241379310345,0.5490196078431373,0.5581395348837209,0.5333333333333333,0.7307692307692307,0.7,0.6956521739130435,0.7368421052631579,0.7272727272727273,0.625,0.7916666666666666,0.68,0.5757575757575758,0.5416666666666666,0.7567567567567568,0.6060606060606061,0.8181818181818182,0.6923076923076923,0.5909090909090909,0.6190476190476191,0.7,0.7586206896551724,0.6923076923076923,0.7575757575757576,0.7391304347826086,0.5652173913043478,0.68,0.7307692307692307,0.5769230769230769,0.6785714285714286,0.6666666666666666,0.7586206896551724,0.625,0.75,0.6,0.6206896551724138,0.8,0.8181818181818182,0.45,0.6666666666666666,0.7058823529411765,0.7142857142857143,0.7407407407407407,0.5294117647058824,0.4827586206896552,0.6521739130434783,0.5714285714285714,0.75,0.6842105263157895,0.85,0.5294117647058824,0.38095238095238093,0.7272727272727273,0.631578947368421,0.631578947368421,0.4444444444444444,0.6875,0.8181818181818182,0.53125,0.4117647058823529,0.65,0.6842105263157895,0.7692307692307693,0.6153846153846154,0.75,0.7692307692307693,0.8,0.6923076923076923,0.625,0.7,0.7333333333333333],\"y\":[0.41465716720598506,0.39445179623205506,0.3912559187171578,0.3902162817306869,0.371084920647905,0.3697105577742497,0.36800149673034227,0.3435900951037884,0.3344062740159868,0.33371351274418287,0.3330305420749007,0.32764738454230546,0.3252315145004726,0.31349883550878516,0.3097225403426769,0.30286942636579184,0.29680224509845554,0.2930843328793766,0.28677445646350574,0.28354544106345847,0.2831399882002286,0.27958365156019427,0.2776291277853163,0.27570332622856253,0.27251566207334404,0.2687662400922266,0.2574262936077602,0.24837801947949156,0.2469003036603135,0.23828272648626767,0.23815548798792777,0.23748849876775888,0.23374766576777314,0.23346711141234378,0.23058192531138327,0.2269033060489949,0.22453028000309813,0.2228053269338296,0.21887488803136076,0.21629532443818153,0.21564398799025958,0.2135749768991286,0.21318442068934082,0.20854286522625254,0.20186822164908286,0.20051916270365713,0.19989635129371722,0.19634894665198233,0.19403104342692315,0.19166945593883522,0.18811322175707024,0.18502450461121406,0.1792628779433158,0.1785727487071427,0.176987683142345,0.17629783781773542,0.1734541620241469,0.17129905131796952,0.16889217013756325,0.16846735781503425,0.16647636075825717,0.16399938830471217,0.16399938830471217,0.16208783324460108,0.1598282650411818,0.15926180099843337,0.1486200216548758,0.14371684725842954,0.13999106452714788,0.13059974778513328,0.12902707967376464,0.1288404298733388,0.12872785090450273,0.12863544245638991,0.12361643502604067,0.11480222058518195,0.11477418940540544,0.10344229926194232,0.09117560293449618],\"type\":\"scatter\"}],                        {\"template\":{\"data\":{\"barpolar\":[{\"marker\":{\"line\":{\"color\":\"white\",\"width\":0.5},\"pattern\":{\"fillmode\":\"overlay\",\"size\":10,\"solidity\":0.2}},\"type\":\"barpolar\"}],\"bar\":[{\"error_x\":{\"color\":\"#2a3f5f\"},\"error_y\":{\"color\":\"#2a3f5f\"},\"marker\":{\"line\":{\"color\":\"white\",\"width\":0.5},\"pattern\":{\"fillmode\":\"overlay\",\"size\":10,\"solidity\":0.2}},\"type\":\"bar\"}],\"carpet\":[{\"aaxis\":{\"endlinecolor\":\"#2a3f5f\",\"gridcolor\":\"#C8D4E3\",\"linecolor\":\"#C8D4E3\",\"minorgridcolor\":\"#C8D4E3\",\"startlinecolor\":\"#2a3f5f\"},\"baxis\":{\"endlinecolor\":\"#2a3f5f\",\"gridcolor\":\"#C8D4E3\",\"linecolor\":\"#C8D4E3\",\"minorgridcolor\":\"#C8D4E3\",\"startlinecolor\":\"#2a3f5f\"},\"type\":\"carpet\"}],\"choropleth\":[{\"colorbar\":{\"outlinewidth\":0,\"ticks\":\"\"},\"type\":\"choropleth\"}],\"contourcarpet\":[{\"colorbar\":{\"outlinewidth\":0,\"ticks\":\"\"},\"type\":\"contourcarpet\"}],\"contour\":[{\"colorbar\":{\"outlinewidth\":0,\"ticks\":\"\"},\"colorscale\":[[0.0,\"#0d0887\"],[0.1111111111111111,\"#46039f\"],[0.2222222222222222,\"#7201a8\"],[0.3333333333333333,\"#9c179e\"],[0.4444444444444444,\"#bd3786\"],[0.5555555555555556,\"#d8576b\"],[0.6666666666666666,\"#ed7953\"],[0.7777777777777778,\"#fb9f3a\"],[0.8888888888888888,\"#fdca26\"],[1.0,\"#f0f921\"]],\"type\":\"contour\"}],\"heatmapgl\":[{\"colorbar\":{\"outlinewidth\":0,\"ticks\":\"\"},\"colorscale\":[[0.0,\"#0d0887\"],[0.1111111111111111,\"#46039f\"],[0.2222222222222222,\"#7201a8\"],[0.3333333333333333,\"#9c179e\"],[0.4444444444444444,\"#bd3786\"],[0.5555555555555556,\"#d8576b\"],[0.6666666666666666,\"#ed7953\"],[0.7777777777777778,\"#fb9f3a\"],[0.8888888888888888,\"#fdca26\"],[1.0,\"#f0f921\"]],\"type\":\"heatmapgl\"}],\"heatmap\":[{\"colorbar\":{\"outlinewidth\":0,\"ticks\":\"\"},\"colorscale\":[[0.0,\"#0d0887\"],[0.1111111111111111,\"#46039f\"],[0.2222222222222222,\"#7201a8\"],[0.3333333333333333,\"#9c179e\"],[0.4444444444444444,\"#bd3786\"],[0.5555555555555556,\"#d8576b\"],[0.6666666666666666,\"#ed7953\"],[0.7777777777777778,\"#fb9f3a\"],[0.8888888888888888,\"#fdca26\"],[1.0,\"#f0f921\"]],\"type\":\"heatmap\"}],\"histogram2dcontour\":[{\"colorbar\":{\"outlinewidth\":0,\"ticks\":\"\"},\"colorscale\":[[0.0,\"#0d0887\"],[0.1111111111111111,\"#46039f\"],[0.2222222222222222,\"#7201a8\"],[0.3333333333333333,\"#9c179e\"],[0.4444444444444444,\"#bd3786\"],[0.5555555555555556,\"#d8576b\"],[0.6666666666666666,\"#ed7953\"],[0.7777777777777778,\"#fb9f3a\"],[0.8888888888888888,\"#fdca26\"],[1.0,\"#f0f921\"]],\"type\":\"histogram2dcontour\"}],\"histogram2d\":[{\"colorbar\":{\"outlinewidth\":0,\"ticks\":\"\"},\"colorscale\":[[0.0,\"#0d0887\"],[0.1111111111111111,\"#46039f\"],[0.2222222222222222,\"#7201a8\"],[0.3333333333333333,\"#9c179e\"],[0.4444444444444444,\"#bd3786\"],[0.5555555555555556,\"#d8576b\"],[0.6666666666666666,\"#ed7953\"],[0.7777777777777778,\"#fb9f3a\"],[0.8888888888888888,\"#fdca26\"],[1.0,\"#f0f921\"]],\"type\":\"histogram2d\"}],\"histogram\":[{\"marker\":{\"pattern\":{\"fillmode\":\"overlay\",\"size\":10,\"solidity\":0.2}},\"type\":\"histogram\"}],\"mesh3d\":[{\"colorbar\":{\"outlinewidth\":0,\"ticks\":\"\"},\"type\":\"mesh3d\"}],\"parcoords\":[{\"line\":{\"colorbar\":{\"outlinewidth\":0,\"ticks\":\"\"}},\"type\":\"parcoords\"}],\"pie\":[{\"automargin\":true,\"type\":\"pie\"}],\"scatter3d\":[{\"line\":{\"colorbar\":{\"outlinewidth\":0,\"ticks\":\"\"}},\"marker\":{\"colorbar\":{\"outlinewidth\":0,\"ticks\":\"\"}},\"type\":\"scatter3d\"}],\"scattercarpet\":[{\"marker\":{\"colorbar\":{\"outlinewidth\":0,\"ticks\":\"\"}},\"type\":\"scattercarpet\"}],\"scattergeo\":[{\"marker\":{\"colorbar\":{\"outlinewidth\":0,\"ticks\":\"\"}},\"type\":\"scattergeo\"}],\"scattergl\":[{\"marker\":{\"colorbar\":{\"outlinewidth\":0,\"ticks\":\"\"}},\"type\":\"scattergl\"}],\"scattermapbox\":[{\"marker\":{\"colorbar\":{\"outlinewidth\":0,\"ticks\":\"\"}},\"type\":\"scattermapbox\"}],\"scatterpolargl\":[{\"marker\":{\"colorbar\":{\"outlinewidth\":0,\"ticks\":\"\"}},\"type\":\"scatterpolargl\"}],\"scatterpolar\":[{\"marker\":{\"colorbar\":{\"outlinewidth\":0,\"ticks\":\"\"}},\"type\":\"scatterpolar\"}],\"scatter\":[{\"fillpattern\":{\"fillmode\":\"overlay\",\"size\":10,\"solidity\":0.2},\"type\":\"scatter\"}],\"scatterternary\":[{\"marker\":{\"colorbar\":{\"outlinewidth\":0,\"ticks\":\"\"}},\"type\":\"scatterternary\"}],\"surface\":[{\"colorbar\":{\"outlinewidth\":0,\"ticks\":\"\"},\"colorscale\":[[0.0,\"#0d0887\"],[0.1111111111111111,\"#46039f\"],[0.2222222222222222,\"#7201a8\"],[0.3333333333333333,\"#9c179e\"],[0.4444444444444444,\"#bd3786\"],[0.5555555555555556,\"#d8576b\"],[0.6666666666666666,\"#ed7953\"],[0.7777777777777778,\"#fb9f3a\"],[0.8888888888888888,\"#fdca26\"],[1.0,\"#f0f921\"]],\"type\":\"surface\"}],\"table\":[{\"cells\":{\"fill\":{\"color\":\"#EBF0F8\"},\"line\":{\"color\":\"white\"}},\"header\":{\"fill\":{\"color\":\"#C8D4E3\"},\"line\":{\"color\":\"white\"}},\"type\":\"table\"}]},\"layout\":{\"annotationdefaults\":{\"arrowcolor\":\"#2a3f5f\",\"arrowhead\":0,\"arrowwidth\":1},\"autotypenumbers\":\"strict\",\"coloraxis\":{\"colorbar\":{\"outlinewidth\":0,\"ticks\":\"\"}},\"colorscale\":{\"diverging\":[[0,\"#8e0152\"],[0.1,\"#c51b7d\"],[0.2,\"#de77ae\"],[0.3,\"#f1b6da\"],[0.4,\"#fde0ef\"],[0.5,\"#f7f7f7\"],[0.6,\"#e6f5d0\"],[0.7,\"#b8e186\"],[0.8,\"#7fbc41\"],[0.9,\"#4d9221\"],[1,\"#276419\"]],\"sequential\":[[0.0,\"#0d0887\"],[0.1111111111111111,\"#46039f\"],[0.2222222222222222,\"#7201a8\"],[0.3333333333333333,\"#9c179e\"],[0.4444444444444444,\"#bd3786\"],[0.5555555555555556,\"#d8576b\"],[0.6666666666666666,\"#ed7953\"],[0.7777777777777778,\"#fb9f3a\"],[0.8888888888888888,\"#fdca26\"],[1.0,\"#f0f921\"]],\"sequentialminus\":[[0.0,\"#0d0887\"],[0.1111111111111111,\"#46039f\"],[0.2222222222222222,\"#7201a8\"],[0.3333333333333333,\"#9c179e\"],[0.4444444444444444,\"#bd3786\"],[0.5555555555555556,\"#d8576b\"],[0.6666666666666666,\"#ed7953\"],[0.7777777777777778,\"#fb9f3a\"],[0.8888888888888888,\"#fdca26\"],[1.0,\"#f0f921\"]]},\"colorway\":[\"#636efa\",\"#EF553B\",\"#00cc96\",\"#ab63fa\",\"#FFA15A\",\"#19d3f3\",\"#FF6692\",\"#B6E880\",\"#FF97FF\",\"#FECB52\"],\"font\":{\"color\":\"#2a3f5f\"},\"geo\":{\"bgcolor\":\"white\",\"lakecolor\":\"white\",\"landcolor\":\"white\",\"showlakes\":true,\"showland\":true,\"subunitcolor\":\"#C8D4E3\"},\"hoverlabel\":{\"align\":\"left\"},\"hovermode\":\"closest\",\"mapbox\":{\"style\":\"light\"},\"paper_bgcolor\":\"white\",\"plot_bgcolor\":\"white\",\"polar\":{\"angularaxis\":{\"gridcolor\":\"#EBF0F8\",\"linecolor\":\"#EBF0F8\",\"ticks\":\"\"},\"bgcolor\":\"white\",\"radialaxis\":{\"gridcolor\":\"#EBF0F8\",\"linecolor\":\"#EBF0F8\",\"ticks\":\"\"}},\"scene\":{\"xaxis\":{\"backgroundcolor\":\"white\",\"gridcolor\":\"#DFE8F3\",\"gridwidth\":2,\"linecolor\":\"#EBF0F8\",\"showbackground\":true,\"ticks\":\"\",\"zerolinecolor\":\"#EBF0F8\"},\"yaxis\":{\"backgroundcolor\":\"white\",\"gridcolor\":\"#DFE8F3\",\"gridwidth\":2,\"linecolor\":\"#EBF0F8\",\"showbackground\":true,\"ticks\":\"\",\"zerolinecolor\":\"#EBF0F8\"},\"zaxis\":{\"backgroundcolor\":\"white\",\"gridcolor\":\"#DFE8F3\",\"gridwidth\":2,\"linecolor\":\"#EBF0F8\",\"showbackground\":true,\"ticks\":\"\",\"zerolinecolor\":\"#EBF0F8\"}},\"shapedefaults\":{\"line\":{\"color\":\"#2a3f5f\"}},\"ternary\":{\"aaxis\":{\"gridcolor\":\"#DFE8F3\",\"linecolor\":\"#A2B1C6\",\"ticks\":\"\"},\"baxis\":{\"gridcolor\":\"#DFE8F3\",\"linecolor\":\"#A2B1C6\",\"ticks\":\"\"},\"bgcolor\":\"white\",\"caxis\":{\"gridcolor\":\"#DFE8F3\",\"linecolor\":\"#A2B1C6\",\"ticks\":\"\"}},\"title\":{\"x\":0.05},\"xaxis\":{\"automargin\":true,\"gridcolor\":\"#EBF0F8\",\"linecolor\":\"#EBF0F8\",\"ticks\":\"\",\"title\":{\"standoff\":15},\"zerolinecolor\":\"#EBF0F8\",\"zerolinewidth\":2},\"yaxis\":{\"automargin\":true,\"gridcolor\":\"#EBF0F8\",\"linecolor\":\"#EBF0F8\",\"ticks\":\"\",\"title\":{\"standoff\":15},\"zerolinecolor\":\"#EBF0F8\",\"zerolinewidth\":2}}},\"xaxis\":{\"title\":{\"text\":\"Keyword Coverge (%)\"},\"range\":[0,1.0]},\"yaxis\":{\"title\":{\"text\":\"Similarity Score\"},\"range\":[0,1.0]},\"title\":{\"text\":\"Resume Similarity to Job Listings\"},\"width\":800,\"height\":500},                        {\"responsive\": true}                    ).then(function(){\n",
       "                            \n",
       "var gd = document.getElementById('c3ec0aca-6ad0-4284-a8bf-dbb3c369eee4');\n",
       "var x = new MutationObserver(function (mutations, observer) {{\n",
       "        var display = window.getComputedStyle(gd).display;\n",
       "        if (!display || display === 'none') {{\n",
       "            console.log([gd, 'removed!']);\n",
       "            Plotly.purge(gd);\n",
       "            observer.disconnect();\n",
       "        }}\n",
       "}});\n",
       "\n",
       "// Listen for the removal of the full notebook cells\n",
       "var notebookContainer = gd.closest('#notebook-container');\n",
       "if (notebookContainer) {{\n",
       "    x.observe(notebookContainer, {childList: true});\n",
       "}}\n",
       "\n",
       "// Listen for the clearing of the current output cell\n",
       "var outputEl = gd.closest('.output');\n",
       "if (outputEl) {{\n",
       "    x.observe(outputEl, {childList: true});\n",
       "}}\n",
       "\n",
       "                        })                };                });            </script>        </div>"
      ]
     },
     "metadata": {},
     "output_type": "display_data"
    }
   ],
   "source": [
    "# plot similarities\n",
    "plot_similarity_scores(df)"
   ]
  },
  {
   "cell_type": "code",
   "execution_count": 760,
   "id": "b475c0d3",
   "metadata": {},
   "outputs": [
    {
     "data": {
      "application/vnd.plotly.v1+json": {
       "config": {
        "plotlyServerURL": "https://plot.ly"
       },
       "data": [
        {
         "marker": {
          "color": [
           -0.23529411764705882,
           0.23529411764705882,
           0.23529411764705882,
           0.058823529411764705,
           0.5294117647058824,
           0.14705882352941177,
           0.08823529411764705,
           0.058823529411764705,
           0.08823529411764705,
           0,
           0.14705882352941177,
           0.29411764705882354,
           0.08823529411764705,
           0.058823529411764705,
           0.14705882352941177,
           0,
           0.058823529411764705,
           0.08823529411764705,
           0.3529411764705882,
           0.14705882352941177
          ],
          "colorscale": [
           [
            0,
            "rgba(252,76,1,0.9)"
           ],
           [
            0.25,
            "rgba(252,76,1,0.5)"
           ],
           [
            0.5,
            "rgba(83,128,141,0.25)"
           ],
           [
            0.75,
            "rgba(83,128,141,0.5)"
           ],
           [
            1,
            "rgba(83,128,141,0.9)"
           ]
          ]
         },
         "name": "Weighted Frequency",
         "orientation": "h",
         "type": "bar",
         "x": [
          -0.23529411764705882,
          0.23529411764705882,
          0.23529411764705882,
          0.058823529411764705,
          0.5294117647058824,
          0.14705882352941177,
          0.08823529411764705,
          0.058823529411764705,
          0.08823529411764705,
          0,
          0.14705882352941177,
          0.29411764705882354,
          0.08823529411764705,
          0.058823529411764705,
          0.14705882352941177,
          0,
          0.058823529411764705,
          0.08823529411764705,
          0.3529411764705882,
          0.14705882352941177
         ],
         "xaxis": "x",
         "y": [
          "finance",
          "data science",
          "science",
          "sales",
          "python",
          "data scientist",
          "engineering",
          "developer",
          "communication",
          "jira",
          "monte carlo",
          "aws",
          "data engineering",
          "reporting",
          "scientist",
          "databases",
          "pipelines",
          "reports",
          "machine learning",
          "analytics"
         ],
         "yaxis": "y"
        },
        {
         "marker": {
          "color": "rgba(252,76,1,0.8)"
         },
         "name": "Missing Keywords",
         "type": "bar",
         "x": [
          "infrastructure",
          "collaboration",
          "options",
          "snowflake",
          "ml",
          "eda",
          "governance"
         ],
         "xaxis": "x2",
         "y": [
          1,
          1,
          1,
          1,
          1,
          1,
          1
         ],
         "yaxis": "y2"
        },
        {
         "marker": {
          "color": "rgba(252,76,1,0.8)"
         },
         "name": "Job Specific Keywords",
         "type": "bar",
         "x": [
          "aws",
          "jira",
          "databases",
          "node.js",
          "selenium",
          "rrsp match",
          "stock options",
          "paid time off"
         ],
         "xaxis": "x3",
         "y": [
          11,
          1,
          1,
          0,
          0,
          0,
          0,
          0
         ],
         "yaxis": "y3"
        }
       ],
       "layout": {
        "annotations": [
         {
          "font": {
           "size": 16
          },
          "showarrow": false,
          "text": "Matching Keywords",
          "x": 0.21666666666666667,
          "xanchor": "center",
          "xref": "paper",
          "y": 1,
          "yanchor": "bottom",
          "yref": "paper"
         },
         {
          "font": {
           "size": 16
          },
          "showarrow": false,
          "text": "Missing Keywords",
          "x": 0.6083333333333334,
          "xanchor": "center",
          "xref": "paper",
          "y": 1,
          "yanchor": "bottom",
          "yref": "paper"
         },
         {
          "font": {
           "size": 16
          },
          "showarrow": false,
          "text": "Job Specific Keywords",
          "x": 0.8916666666666666,
          "xanchor": "center",
          "xref": "paper",
          "y": 1,
          "yanchor": "bottom",
          "yref": "paper"
         }
        ],
        "height": 500,
        "showlegend": false,
        "template": {
         "data": {
          "bar": [
           {
            "error_x": {
             "color": "#2a3f5f"
            },
            "error_y": {
             "color": "#2a3f5f"
            },
            "marker": {
             "line": {
              "color": "white",
              "width": 0.5
             },
             "pattern": {
              "fillmode": "overlay",
              "size": 10,
              "solidity": 0.2
             }
            },
            "type": "bar"
           }
          ],
          "barpolar": [
           {
            "marker": {
             "line": {
              "color": "white",
              "width": 0.5
             },
             "pattern": {
              "fillmode": "overlay",
              "size": 10,
              "solidity": 0.2
             }
            },
            "type": "barpolar"
           }
          ],
          "carpet": [
           {
            "aaxis": {
             "endlinecolor": "#2a3f5f",
             "gridcolor": "#C8D4E3",
             "linecolor": "#C8D4E3",
             "minorgridcolor": "#C8D4E3",
             "startlinecolor": "#2a3f5f"
            },
            "baxis": {
             "endlinecolor": "#2a3f5f",
             "gridcolor": "#C8D4E3",
             "linecolor": "#C8D4E3",
             "minorgridcolor": "#C8D4E3",
             "startlinecolor": "#2a3f5f"
            },
            "type": "carpet"
           }
          ],
          "choropleth": [
           {
            "colorbar": {
             "outlinewidth": 0,
             "ticks": ""
            },
            "type": "choropleth"
           }
          ],
          "contour": [
           {
            "colorbar": {
             "outlinewidth": 0,
             "ticks": ""
            },
            "colorscale": [
             [
              0,
              "#0d0887"
             ],
             [
              0.1111111111111111,
              "#46039f"
             ],
             [
              0.2222222222222222,
              "#7201a8"
             ],
             [
              0.3333333333333333,
              "#9c179e"
             ],
             [
              0.4444444444444444,
              "#bd3786"
             ],
             [
              0.5555555555555556,
              "#d8576b"
             ],
             [
              0.6666666666666666,
              "#ed7953"
             ],
             [
              0.7777777777777778,
              "#fb9f3a"
             ],
             [
              0.8888888888888888,
              "#fdca26"
             ],
             [
              1,
              "#f0f921"
             ]
            ],
            "type": "contour"
           }
          ],
          "contourcarpet": [
           {
            "colorbar": {
             "outlinewidth": 0,
             "ticks": ""
            },
            "type": "contourcarpet"
           }
          ],
          "heatmap": [
           {
            "colorbar": {
             "outlinewidth": 0,
             "ticks": ""
            },
            "colorscale": [
             [
              0,
              "#0d0887"
             ],
             [
              0.1111111111111111,
              "#46039f"
             ],
             [
              0.2222222222222222,
              "#7201a8"
             ],
             [
              0.3333333333333333,
              "#9c179e"
             ],
             [
              0.4444444444444444,
              "#bd3786"
             ],
             [
              0.5555555555555556,
              "#d8576b"
             ],
             [
              0.6666666666666666,
              "#ed7953"
             ],
             [
              0.7777777777777778,
              "#fb9f3a"
             ],
             [
              0.8888888888888888,
              "#fdca26"
             ],
             [
              1,
              "#f0f921"
             ]
            ],
            "type": "heatmap"
           }
          ],
          "heatmapgl": [
           {
            "colorbar": {
             "outlinewidth": 0,
             "ticks": ""
            },
            "colorscale": [
             [
              0,
              "#0d0887"
             ],
             [
              0.1111111111111111,
              "#46039f"
             ],
             [
              0.2222222222222222,
              "#7201a8"
             ],
             [
              0.3333333333333333,
              "#9c179e"
             ],
             [
              0.4444444444444444,
              "#bd3786"
             ],
             [
              0.5555555555555556,
              "#d8576b"
             ],
             [
              0.6666666666666666,
              "#ed7953"
             ],
             [
              0.7777777777777778,
              "#fb9f3a"
             ],
             [
              0.8888888888888888,
              "#fdca26"
             ],
             [
              1,
              "#f0f921"
             ]
            ],
            "type": "heatmapgl"
           }
          ],
          "histogram": [
           {
            "marker": {
             "pattern": {
              "fillmode": "overlay",
              "size": 10,
              "solidity": 0.2
             }
            },
            "type": "histogram"
           }
          ],
          "histogram2d": [
           {
            "colorbar": {
             "outlinewidth": 0,
             "ticks": ""
            },
            "colorscale": [
             [
              0,
              "#0d0887"
             ],
             [
              0.1111111111111111,
              "#46039f"
             ],
             [
              0.2222222222222222,
              "#7201a8"
             ],
             [
              0.3333333333333333,
              "#9c179e"
             ],
             [
              0.4444444444444444,
              "#bd3786"
             ],
             [
              0.5555555555555556,
              "#d8576b"
             ],
             [
              0.6666666666666666,
              "#ed7953"
             ],
             [
              0.7777777777777778,
              "#fb9f3a"
             ],
             [
              0.8888888888888888,
              "#fdca26"
             ],
             [
              1,
              "#f0f921"
             ]
            ],
            "type": "histogram2d"
           }
          ],
          "histogram2dcontour": [
           {
            "colorbar": {
             "outlinewidth": 0,
             "ticks": ""
            },
            "colorscale": [
             [
              0,
              "#0d0887"
             ],
             [
              0.1111111111111111,
              "#46039f"
             ],
             [
              0.2222222222222222,
              "#7201a8"
             ],
             [
              0.3333333333333333,
              "#9c179e"
             ],
             [
              0.4444444444444444,
              "#bd3786"
             ],
             [
              0.5555555555555556,
              "#d8576b"
             ],
             [
              0.6666666666666666,
              "#ed7953"
             ],
             [
              0.7777777777777778,
              "#fb9f3a"
             ],
             [
              0.8888888888888888,
              "#fdca26"
             ],
             [
              1,
              "#f0f921"
             ]
            ],
            "type": "histogram2dcontour"
           }
          ],
          "mesh3d": [
           {
            "colorbar": {
             "outlinewidth": 0,
             "ticks": ""
            },
            "type": "mesh3d"
           }
          ],
          "parcoords": [
           {
            "line": {
             "colorbar": {
              "outlinewidth": 0,
              "ticks": ""
             }
            },
            "type": "parcoords"
           }
          ],
          "pie": [
           {
            "automargin": true,
            "type": "pie"
           }
          ],
          "scatter": [
           {
            "fillpattern": {
             "fillmode": "overlay",
             "size": 10,
             "solidity": 0.2
            },
            "type": "scatter"
           }
          ],
          "scatter3d": [
           {
            "line": {
             "colorbar": {
              "outlinewidth": 0,
              "ticks": ""
             }
            },
            "marker": {
             "colorbar": {
              "outlinewidth": 0,
              "ticks": ""
             }
            },
            "type": "scatter3d"
           }
          ],
          "scattercarpet": [
           {
            "marker": {
             "colorbar": {
              "outlinewidth": 0,
              "ticks": ""
             }
            },
            "type": "scattercarpet"
           }
          ],
          "scattergeo": [
           {
            "marker": {
             "colorbar": {
              "outlinewidth": 0,
              "ticks": ""
             }
            },
            "type": "scattergeo"
           }
          ],
          "scattergl": [
           {
            "marker": {
             "colorbar": {
              "outlinewidth": 0,
              "ticks": ""
             }
            },
            "type": "scattergl"
           }
          ],
          "scattermapbox": [
           {
            "marker": {
             "colorbar": {
              "outlinewidth": 0,
              "ticks": ""
             }
            },
            "type": "scattermapbox"
           }
          ],
          "scatterpolar": [
           {
            "marker": {
             "colorbar": {
              "outlinewidth": 0,
              "ticks": ""
             }
            },
            "type": "scatterpolar"
           }
          ],
          "scatterpolargl": [
           {
            "marker": {
             "colorbar": {
              "outlinewidth": 0,
              "ticks": ""
             }
            },
            "type": "scatterpolargl"
           }
          ],
          "scatterternary": [
           {
            "marker": {
             "colorbar": {
              "outlinewidth": 0,
              "ticks": ""
             }
            },
            "type": "scatterternary"
           }
          ],
          "surface": [
           {
            "colorbar": {
             "outlinewidth": 0,
             "ticks": ""
            },
            "colorscale": [
             [
              0,
              "#0d0887"
             ],
             [
              0.1111111111111111,
              "#46039f"
             ],
             [
              0.2222222222222222,
              "#7201a8"
             ],
             [
              0.3333333333333333,
              "#9c179e"
             ],
             [
              0.4444444444444444,
              "#bd3786"
             ],
             [
              0.5555555555555556,
              "#d8576b"
             ],
             [
              0.6666666666666666,
              "#ed7953"
             ],
             [
              0.7777777777777778,
              "#fb9f3a"
             ],
             [
              0.8888888888888888,
              "#fdca26"
             ],
             [
              1,
              "#f0f921"
             ]
            ],
            "type": "surface"
           }
          ],
          "table": [
           {
            "cells": {
             "fill": {
              "color": "#EBF0F8"
             },
             "line": {
              "color": "white"
             }
            },
            "header": {
             "fill": {
              "color": "#C8D4E3"
             },
             "line": {
              "color": "white"
             }
            },
            "type": "table"
           }
          ]
         },
         "layout": {
          "annotationdefaults": {
           "arrowcolor": "#2a3f5f",
           "arrowhead": 0,
           "arrowwidth": 1
          },
          "autotypenumbers": "strict",
          "coloraxis": {
           "colorbar": {
            "outlinewidth": 0,
            "ticks": ""
           }
          },
          "colorscale": {
           "diverging": [
            [
             0,
             "#8e0152"
            ],
            [
             0.1,
             "#c51b7d"
            ],
            [
             0.2,
             "#de77ae"
            ],
            [
             0.3,
             "#f1b6da"
            ],
            [
             0.4,
             "#fde0ef"
            ],
            [
             0.5,
             "#f7f7f7"
            ],
            [
             0.6,
             "#e6f5d0"
            ],
            [
             0.7,
             "#b8e186"
            ],
            [
             0.8,
             "#7fbc41"
            ],
            [
             0.9,
             "#4d9221"
            ],
            [
             1,
             "#276419"
            ]
           ],
           "sequential": [
            [
             0,
             "#0d0887"
            ],
            [
             0.1111111111111111,
             "#46039f"
            ],
            [
             0.2222222222222222,
             "#7201a8"
            ],
            [
             0.3333333333333333,
             "#9c179e"
            ],
            [
             0.4444444444444444,
             "#bd3786"
            ],
            [
             0.5555555555555556,
             "#d8576b"
            ],
            [
             0.6666666666666666,
             "#ed7953"
            ],
            [
             0.7777777777777778,
             "#fb9f3a"
            ],
            [
             0.8888888888888888,
             "#fdca26"
            ],
            [
             1,
             "#f0f921"
            ]
           ],
           "sequentialminus": [
            [
             0,
             "#0d0887"
            ],
            [
             0.1111111111111111,
             "#46039f"
            ],
            [
             0.2222222222222222,
             "#7201a8"
            ],
            [
             0.3333333333333333,
             "#9c179e"
            ],
            [
             0.4444444444444444,
             "#bd3786"
            ],
            [
             0.5555555555555556,
             "#d8576b"
            ],
            [
             0.6666666666666666,
             "#ed7953"
            ],
            [
             0.7777777777777778,
             "#fb9f3a"
            ],
            [
             0.8888888888888888,
             "#fdca26"
            ],
            [
             1,
             "#f0f921"
            ]
           ]
          },
          "colorway": [
           "#636efa",
           "#EF553B",
           "#00cc96",
           "#ab63fa",
           "#FFA15A",
           "#19d3f3",
           "#FF6692",
           "#B6E880",
           "#FF97FF",
           "#FECB52"
          ],
          "font": {
           "color": "#2a3f5f"
          },
          "geo": {
           "bgcolor": "white",
           "lakecolor": "white",
           "landcolor": "white",
           "showlakes": true,
           "showland": true,
           "subunitcolor": "#C8D4E3"
          },
          "hoverlabel": {
           "align": "left"
          },
          "hovermode": "closest",
          "mapbox": {
           "style": "light"
          },
          "paper_bgcolor": "white",
          "plot_bgcolor": "white",
          "polar": {
           "angularaxis": {
            "gridcolor": "#EBF0F8",
            "linecolor": "#EBF0F8",
            "ticks": ""
           },
           "bgcolor": "white",
           "radialaxis": {
            "gridcolor": "#EBF0F8",
            "linecolor": "#EBF0F8",
            "ticks": ""
           }
          },
          "scene": {
           "xaxis": {
            "backgroundcolor": "white",
            "gridcolor": "#DFE8F3",
            "gridwidth": 2,
            "linecolor": "#EBF0F8",
            "showbackground": true,
            "ticks": "",
            "zerolinecolor": "#EBF0F8"
           },
           "yaxis": {
            "backgroundcolor": "white",
            "gridcolor": "#DFE8F3",
            "gridwidth": 2,
            "linecolor": "#EBF0F8",
            "showbackground": true,
            "ticks": "",
            "zerolinecolor": "#EBF0F8"
           },
           "zaxis": {
            "backgroundcolor": "white",
            "gridcolor": "#DFE8F3",
            "gridwidth": 2,
            "linecolor": "#EBF0F8",
            "showbackground": true,
            "ticks": "",
            "zerolinecolor": "#EBF0F8"
           }
          },
          "shapedefaults": {
           "line": {
            "color": "#2a3f5f"
           }
          },
          "ternary": {
           "aaxis": {
            "gridcolor": "#DFE8F3",
            "linecolor": "#A2B1C6",
            "ticks": ""
           },
           "baxis": {
            "gridcolor": "#DFE8F3",
            "linecolor": "#A2B1C6",
            "ticks": ""
           },
           "bgcolor": "white",
           "caxis": {
            "gridcolor": "#DFE8F3",
            "linecolor": "#A2B1C6",
            "ticks": ""
           }
          },
          "title": {
           "x": 0.05
          },
          "xaxis": {
           "automargin": true,
           "gridcolor": "#EBF0F8",
           "linecolor": "#EBF0F8",
           "ticks": "",
           "title": {
            "standoff": 15
           },
           "zerolinecolor": "#EBF0F8",
           "zerolinewidth": 2
          },
          "yaxis": {
           "automargin": true,
           "gridcolor": "#EBF0F8",
           "linecolor": "#EBF0F8",
           "ticks": "",
           "title": {
            "standoff": 15
           },
           "zerolinecolor": "#EBF0F8",
           "zerolinewidth": 2
          }
         }
        },
        "title": {
         "text": "Lead Data Scientist, Finance(Figment) | Keyword Coverage=74.07% | Weighted Average=2.59"
        },
        "width": 900,
        "xaxis": {
         "anchor": "y",
         "domain": [
          0,
          0.43333333333333335
         ],
         "range": [
          -2,
          2
         ],
         "showgrid": false
        },
        "xaxis2": {
         "anchor": "y2",
         "domain": [
          0.5,
          0.7166666666666667
         ],
         "showgrid": false,
         "tickangle": 90
        },
        "xaxis3": {
         "anchor": "y3",
         "domain": [
          0.7833333333333333,
          1
         ],
         "showgrid": false,
         "tickangle": 90
        },
        "yaxis": {
         "anchor": "x",
         "domain": [
          0,
          1
         ]
        },
        "yaxis2": {
         "anchor": "x2",
         "domain": [
          0,
          1
         ]
        },
        "yaxis3": {
         "anchor": "x3",
         "domain": [
          0,
          1
         ]
        }
       }
      },
      "text/html": [
       "<div>                            <div id=\"768f7706-ec9c-49ea-9b78-d0f7dfd97f98\" class=\"plotly-graph-div\" style=\"height:500px; width:900px;\"></div>            <script type=\"text/javascript\">                require([\"plotly\"], function(Plotly) {                    window.PLOTLYENV=window.PLOTLYENV || {};                                    if (document.getElementById(\"768f7706-ec9c-49ea-9b78-d0f7dfd97f98\")) {                    Plotly.newPlot(                        \"768f7706-ec9c-49ea-9b78-d0f7dfd97f98\",                        [{\"marker\":{\"color\":[-0.23529411764705882,0.23529411764705882,0.23529411764705882,0.058823529411764705,0.5294117647058824,0.14705882352941177,0.08823529411764705,0.058823529411764705,0.08823529411764705,0.0,0.14705882352941177,0.29411764705882354,0.08823529411764705,0.058823529411764705,0.14705882352941177,0.0,0.058823529411764705,0.08823529411764705,0.3529411764705882,0.14705882352941177],\"colorscale\":[[0,\"rgba(252,76,1,0.9)\"],[0.25,\"rgba(252,76,1,0.5)\"],[0.5,\"rgba(83,128,141,0.25)\"],[0.75,\"rgba(83,128,141,0.5)\"],[1.0,\"rgba(83,128,141,0.9)\"]]},\"name\":\"Weighted Frequency\",\"orientation\":\"h\",\"x\":[-0.23529411764705882,0.23529411764705882,0.23529411764705882,0.058823529411764705,0.5294117647058824,0.14705882352941177,0.08823529411764705,0.058823529411764705,0.08823529411764705,0.0,0.14705882352941177,0.29411764705882354,0.08823529411764705,0.058823529411764705,0.14705882352941177,0.0,0.058823529411764705,0.08823529411764705,0.3529411764705882,0.14705882352941177],\"y\":[\"finance\",\"data science\",\"science\",\"sales\",\"python\",\"data scientist\",\"engineering\",\"developer\",\"communication\",\"jira\",\"monte carlo\",\"aws\",\"data engineering\",\"reporting\",\"scientist\",\"databases\",\"pipelines\",\"reports\",\"machine learning\",\"analytics\"],\"type\":\"bar\",\"xaxis\":\"x\",\"yaxis\":\"y\"},{\"marker\":{\"color\":\"rgba(252,76,1,0.8)\"},\"name\":\"Missing Keywords\",\"x\":[\"infrastructure\",\"collaboration\",\"options\",\"snowflake\",\"ml\",\"eda\",\"governance\"],\"y\":[1,1,1,1,1,1,1],\"type\":\"bar\",\"xaxis\":\"x2\",\"yaxis\":\"y2\"},{\"marker\":{\"color\":\"rgba(252,76,1,0.8)\"},\"name\":\"Job Specific Keywords\",\"x\":[\"aws\",\"jira\",\"databases\",\"node.js\",\"selenium\",\"rrsp match\",\"stock options\",\"paid time off\"],\"y\":[11,1,1,0,0,0,0,0],\"type\":\"bar\",\"xaxis\":\"x3\",\"yaxis\":\"y3\"}],                        {\"template\":{\"data\":{\"barpolar\":[{\"marker\":{\"line\":{\"color\":\"white\",\"width\":0.5},\"pattern\":{\"fillmode\":\"overlay\",\"size\":10,\"solidity\":0.2}},\"type\":\"barpolar\"}],\"bar\":[{\"error_x\":{\"color\":\"#2a3f5f\"},\"error_y\":{\"color\":\"#2a3f5f\"},\"marker\":{\"line\":{\"color\":\"white\",\"width\":0.5},\"pattern\":{\"fillmode\":\"overlay\",\"size\":10,\"solidity\":0.2}},\"type\":\"bar\"}],\"carpet\":[{\"aaxis\":{\"endlinecolor\":\"#2a3f5f\",\"gridcolor\":\"#C8D4E3\",\"linecolor\":\"#C8D4E3\",\"minorgridcolor\":\"#C8D4E3\",\"startlinecolor\":\"#2a3f5f\"},\"baxis\":{\"endlinecolor\":\"#2a3f5f\",\"gridcolor\":\"#C8D4E3\",\"linecolor\":\"#C8D4E3\",\"minorgridcolor\":\"#C8D4E3\",\"startlinecolor\":\"#2a3f5f\"},\"type\":\"carpet\"}],\"choropleth\":[{\"colorbar\":{\"outlinewidth\":0,\"ticks\":\"\"},\"type\":\"choropleth\"}],\"contourcarpet\":[{\"colorbar\":{\"outlinewidth\":0,\"ticks\":\"\"},\"type\":\"contourcarpet\"}],\"contour\":[{\"colorbar\":{\"outlinewidth\":0,\"ticks\":\"\"},\"colorscale\":[[0.0,\"#0d0887\"],[0.1111111111111111,\"#46039f\"],[0.2222222222222222,\"#7201a8\"],[0.3333333333333333,\"#9c179e\"],[0.4444444444444444,\"#bd3786\"],[0.5555555555555556,\"#d8576b\"],[0.6666666666666666,\"#ed7953\"],[0.7777777777777778,\"#fb9f3a\"],[0.8888888888888888,\"#fdca26\"],[1.0,\"#f0f921\"]],\"type\":\"contour\"}],\"heatmapgl\":[{\"colorbar\":{\"outlinewidth\":0,\"ticks\":\"\"},\"colorscale\":[[0.0,\"#0d0887\"],[0.1111111111111111,\"#46039f\"],[0.2222222222222222,\"#7201a8\"],[0.3333333333333333,\"#9c179e\"],[0.4444444444444444,\"#bd3786\"],[0.5555555555555556,\"#d8576b\"],[0.6666666666666666,\"#ed7953\"],[0.7777777777777778,\"#fb9f3a\"],[0.8888888888888888,\"#fdca26\"],[1.0,\"#f0f921\"]],\"type\":\"heatmapgl\"}],\"heatmap\":[{\"colorbar\":{\"outlinewidth\":0,\"ticks\":\"\"},\"colorscale\":[[0.0,\"#0d0887\"],[0.1111111111111111,\"#46039f\"],[0.2222222222222222,\"#7201a8\"],[0.3333333333333333,\"#9c179e\"],[0.4444444444444444,\"#bd3786\"],[0.5555555555555556,\"#d8576b\"],[0.6666666666666666,\"#ed7953\"],[0.7777777777777778,\"#fb9f3a\"],[0.8888888888888888,\"#fdca26\"],[1.0,\"#f0f921\"]],\"type\":\"heatmap\"}],\"histogram2dcontour\":[{\"colorbar\":{\"outlinewidth\":0,\"ticks\":\"\"},\"colorscale\":[[0.0,\"#0d0887\"],[0.1111111111111111,\"#46039f\"],[0.2222222222222222,\"#7201a8\"],[0.3333333333333333,\"#9c179e\"],[0.4444444444444444,\"#bd3786\"],[0.5555555555555556,\"#d8576b\"],[0.6666666666666666,\"#ed7953\"],[0.7777777777777778,\"#fb9f3a\"],[0.8888888888888888,\"#fdca26\"],[1.0,\"#f0f921\"]],\"type\":\"histogram2dcontour\"}],\"histogram2d\":[{\"colorbar\":{\"outlinewidth\":0,\"ticks\":\"\"},\"colorscale\":[[0.0,\"#0d0887\"],[0.1111111111111111,\"#46039f\"],[0.2222222222222222,\"#7201a8\"],[0.3333333333333333,\"#9c179e\"],[0.4444444444444444,\"#bd3786\"],[0.5555555555555556,\"#d8576b\"],[0.6666666666666666,\"#ed7953\"],[0.7777777777777778,\"#fb9f3a\"],[0.8888888888888888,\"#fdca26\"],[1.0,\"#f0f921\"]],\"type\":\"histogram2d\"}],\"histogram\":[{\"marker\":{\"pattern\":{\"fillmode\":\"overlay\",\"size\":10,\"solidity\":0.2}},\"type\":\"histogram\"}],\"mesh3d\":[{\"colorbar\":{\"outlinewidth\":0,\"ticks\":\"\"},\"type\":\"mesh3d\"}],\"parcoords\":[{\"line\":{\"colorbar\":{\"outlinewidth\":0,\"ticks\":\"\"}},\"type\":\"parcoords\"}],\"pie\":[{\"automargin\":true,\"type\":\"pie\"}],\"scatter3d\":[{\"line\":{\"colorbar\":{\"outlinewidth\":0,\"ticks\":\"\"}},\"marker\":{\"colorbar\":{\"outlinewidth\":0,\"ticks\":\"\"}},\"type\":\"scatter3d\"}],\"scattercarpet\":[{\"marker\":{\"colorbar\":{\"outlinewidth\":0,\"ticks\":\"\"}},\"type\":\"scattercarpet\"}],\"scattergeo\":[{\"marker\":{\"colorbar\":{\"outlinewidth\":0,\"ticks\":\"\"}},\"type\":\"scattergeo\"}],\"scattergl\":[{\"marker\":{\"colorbar\":{\"outlinewidth\":0,\"ticks\":\"\"}},\"type\":\"scattergl\"}],\"scattermapbox\":[{\"marker\":{\"colorbar\":{\"outlinewidth\":0,\"ticks\":\"\"}},\"type\":\"scattermapbox\"}],\"scatterpolargl\":[{\"marker\":{\"colorbar\":{\"outlinewidth\":0,\"ticks\":\"\"}},\"type\":\"scatterpolargl\"}],\"scatterpolar\":[{\"marker\":{\"colorbar\":{\"outlinewidth\":0,\"ticks\":\"\"}},\"type\":\"scatterpolar\"}],\"scatter\":[{\"fillpattern\":{\"fillmode\":\"overlay\",\"size\":10,\"solidity\":0.2},\"type\":\"scatter\"}],\"scatterternary\":[{\"marker\":{\"colorbar\":{\"outlinewidth\":0,\"ticks\":\"\"}},\"type\":\"scatterternary\"}],\"surface\":[{\"colorbar\":{\"outlinewidth\":0,\"ticks\":\"\"},\"colorscale\":[[0.0,\"#0d0887\"],[0.1111111111111111,\"#46039f\"],[0.2222222222222222,\"#7201a8\"],[0.3333333333333333,\"#9c179e\"],[0.4444444444444444,\"#bd3786\"],[0.5555555555555556,\"#d8576b\"],[0.6666666666666666,\"#ed7953\"],[0.7777777777777778,\"#fb9f3a\"],[0.8888888888888888,\"#fdca26\"],[1.0,\"#f0f921\"]],\"type\":\"surface\"}],\"table\":[{\"cells\":{\"fill\":{\"color\":\"#EBF0F8\"},\"line\":{\"color\":\"white\"}},\"header\":{\"fill\":{\"color\":\"#C8D4E3\"},\"line\":{\"color\":\"white\"}},\"type\":\"table\"}]},\"layout\":{\"annotationdefaults\":{\"arrowcolor\":\"#2a3f5f\",\"arrowhead\":0,\"arrowwidth\":1},\"autotypenumbers\":\"strict\",\"coloraxis\":{\"colorbar\":{\"outlinewidth\":0,\"ticks\":\"\"}},\"colorscale\":{\"diverging\":[[0,\"#8e0152\"],[0.1,\"#c51b7d\"],[0.2,\"#de77ae\"],[0.3,\"#f1b6da\"],[0.4,\"#fde0ef\"],[0.5,\"#f7f7f7\"],[0.6,\"#e6f5d0\"],[0.7,\"#b8e186\"],[0.8,\"#7fbc41\"],[0.9,\"#4d9221\"],[1,\"#276419\"]],\"sequential\":[[0.0,\"#0d0887\"],[0.1111111111111111,\"#46039f\"],[0.2222222222222222,\"#7201a8\"],[0.3333333333333333,\"#9c179e\"],[0.4444444444444444,\"#bd3786\"],[0.5555555555555556,\"#d8576b\"],[0.6666666666666666,\"#ed7953\"],[0.7777777777777778,\"#fb9f3a\"],[0.8888888888888888,\"#fdca26\"],[1.0,\"#f0f921\"]],\"sequentialminus\":[[0.0,\"#0d0887\"],[0.1111111111111111,\"#46039f\"],[0.2222222222222222,\"#7201a8\"],[0.3333333333333333,\"#9c179e\"],[0.4444444444444444,\"#bd3786\"],[0.5555555555555556,\"#d8576b\"],[0.6666666666666666,\"#ed7953\"],[0.7777777777777778,\"#fb9f3a\"],[0.8888888888888888,\"#fdca26\"],[1.0,\"#f0f921\"]]},\"colorway\":[\"#636efa\",\"#EF553B\",\"#00cc96\",\"#ab63fa\",\"#FFA15A\",\"#19d3f3\",\"#FF6692\",\"#B6E880\",\"#FF97FF\",\"#FECB52\"],\"font\":{\"color\":\"#2a3f5f\"},\"geo\":{\"bgcolor\":\"white\",\"lakecolor\":\"white\",\"landcolor\":\"white\",\"showlakes\":true,\"showland\":true,\"subunitcolor\":\"#C8D4E3\"},\"hoverlabel\":{\"align\":\"left\"},\"hovermode\":\"closest\",\"mapbox\":{\"style\":\"light\"},\"paper_bgcolor\":\"white\",\"plot_bgcolor\":\"white\",\"polar\":{\"angularaxis\":{\"gridcolor\":\"#EBF0F8\",\"linecolor\":\"#EBF0F8\",\"ticks\":\"\"},\"bgcolor\":\"white\",\"radialaxis\":{\"gridcolor\":\"#EBF0F8\",\"linecolor\":\"#EBF0F8\",\"ticks\":\"\"}},\"scene\":{\"xaxis\":{\"backgroundcolor\":\"white\",\"gridcolor\":\"#DFE8F3\",\"gridwidth\":2,\"linecolor\":\"#EBF0F8\",\"showbackground\":true,\"ticks\":\"\",\"zerolinecolor\":\"#EBF0F8\"},\"yaxis\":{\"backgroundcolor\":\"white\",\"gridcolor\":\"#DFE8F3\",\"gridwidth\":2,\"linecolor\":\"#EBF0F8\",\"showbackground\":true,\"ticks\":\"\",\"zerolinecolor\":\"#EBF0F8\"},\"zaxis\":{\"backgroundcolor\":\"white\",\"gridcolor\":\"#DFE8F3\",\"gridwidth\":2,\"linecolor\":\"#EBF0F8\",\"showbackground\":true,\"ticks\":\"\",\"zerolinecolor\":\"#EBF0F8\"}},\"shapedefaults\":{\"line\":{\"color\":\"#2a3f5f\"}},\"ternary\":{\"aaxis\":{\"gridcolor\":\"#DFE8F3\",\"linecolor\":\"#A2B1C6\",\"ticks\":\"\"},\"baxis\":{\"gridcolor\":\"#DFE8F3\",\"linecolor\":\"#A2B1C6\",\"ticks\":\"\"},\"bgcolor\":\"white\",\"caxis\":{\"gridcolor\":\"#DFE8F3\",\"linecolor\":\"#A2B1C6\",\"ticks\":\"\"}},\"title\":{\"x\":0.05},\"xaxis\":{\"automargin\":true,\"gridcolor\":\"#EBF0F8\",\"linecolor\":\"#EBF0F8\",\"ticks\":\"\",\"title\":{\"standoff\":15},\"zerolinecolor\":\"#EBF0F8\",\"zerolinewidth\":2},\"yaxis\":{\"automargin\":true,\"gridcolor\":\"#EBF0F8\",\"linecolor\":\"#EBF0F8\",\"ticks\":\"\",\"title\":{\"standoff\":15},\"zerolinecolor\":\"#EBF0F8\",\"zerolinewidth\":2}}},\"xaxis\":{\"anchor\":\"y\",\"domain\":[0.0,0.43333333333333335],\"range\":[-2,2],\"showgrid\":false},\"yaxis\":{\"anchor\":\"x\",\"domain\":[0.0,1.0]},\"xaxis2\":{\"anchor\":\"y2\",\"domain\":[0.5,0.7166666666666667],\"tickangle\":90,\"showgrid\":false},\"yaxis2\":{\"anchor\":\"x2\",\"domain\":[0.0,1.0]},\"xaxis3\":{\"anchor\":\"y3\",\"domain\":[0.7833333333333333,1.0],\"tickangle\":90,\"showgrid\":false},\"yaxis3\":{\"anchor\":\"x3\",\"domain\":[0.0,1.0]},\"annotations\":[{\"font\":{\"size\":16},\"showarrow\":false,\"text\":\"Matching Keywords\",\"x\":0.21666666666666667,\"xanchor\":\"center\",\"xref\":\"paper\",\"y\":1.0,\"yanchor\":\"bottom\",\"yref\":\"paper\"},{\"font\":{\"size\":16},\"showarrow\":false,\"text\":\"Missing Keywords\",\"x\":0.6083333333333334,\"xanchor\":\"center\",\"xref\":\"paper\",\"y\":1.0,\"yanchor\":\"bottom\",\"yref\":\"paper\"},{\"font\":{\"size\":16},\"showarrow\":false,\"text\":\"Job Specific Keywords\",\"x\":0.8916666666666666,\"xanchor\":\"center\",\"xref\":\"paper\",\"y\":1.0,\"yanchor\":\"bottom\",\"yref\":\"paper\"}],\"title\":{\"text\":\"Lead Data Scientist, Finance(Figment) | Keyword Coverage=74.07% | Weighted Average=2.59\"},\"width\":900,\"height\":500,\"showlegend\":false},                        {\"responsive\": true}                    ).then(function(){\n",
       "                            \n",
       "var gd = document.getElementById('768f7706-ec9c-49ea-9b78-d0f7dfd97f98');\n",
       "var x = new MutationObserver(function (mutations, observer) {{\n",
       "        var display = window.getComputedStyle(gd).display;\n",
       "        if (!display || display === 'none') {{\n",
       "            console.log([gd, 'removed!']);\n",
       "            Plotly.purge(gd);\n",
       "            observer.disconnect();\n",
       "        }}\n",
       "}});\n",
       "\n",
       "// Listen for the removal of the full notebook cells\n",
       "var notebookContainer = gd.closest('#notebook-container');\n",
       "if (notebookContainer) {{\n",
       "    x.observe(notebookContainer, {childList: true});\n",
       "}}\n",
       "\n",
       "// Listen for the clearing of the current output cell\n",
       "var outputEl = gd.closest('.output');\n",
       "if (outputEl) {{\n",
       "    x.observe(outputEl, {childList: true});\n",
       "}}\n",
       "\n",
       "                        })                };                });            </script>        </div>"
      ]
     },
     "metadata": {},
     "output_type": "display_data"
    }
   ],
   "source": [
    "# keyword comparision\n",
    "plot_keyword_comparison(resume,jobs[15],'data/terms.csv')"
   ]
  },
  {
   "cell_type": "code",
   "execution_count": 761,
   "id": "72fe42be",
   "metadata": {},
   "outputs": [
    {
     "name": "stdout",
     "output_type": "stream",
     "text": [
      "Text Summary:Top 3 sentences using a lsa summarizer\n",
      "====================================================================================================\n",
      "At Figment, our mission is to create an Internet that is truly decentralized where users can freely interact, share, collaborate, and exchange goods and services in a trustless environment.\n",
      "We offer staking, middleware, and application layer solutions for token holders and developers investing in and building on Web 3 technologies.\n",
      "100% remote-first environment, with co-working spaces in our employee \"hubs\" across the globe for those who enjoy a hybrid model 4 weeks of PTO that kick in day one, with an additional 1 week of flex days Extended company-paid health benefits that kick in day one Best in class parental leave and flexible arrangements A home office stipend to create a space that you enjoy working in Monthly Wifi reimbursement A yearly Learning & Development budget 401K (US) or RRSP match (Canada) Stock Options in the company Competitive bonus (based on company performance) that is distributed quarterly - we believe that the company's success should be shared with our employees often For roles listed within the Sales Department, there is instead a competitive commissions structure which will be outlined during your first interview with Figment Annual onsite company gatherings and retreats to inspire team bonding, collaboration, and fun!\n",
      "==================================================================================================== \n",
      "\n",
      "Text Summary:Top 3 sentences using a lsa summarizer\n",
      "====================================================================================================\n",
      "In my current role at Firmex, I am the principal data scientist building machine-learning models to predict customer behavior, Mergers and Acquisition activity, and revenue and expense forecasts.\n",
      "Responsibilities included performance measurement, creating data visualizations, financial modeling, back-testing strategies, coding Monte Carlo simulations, and recommending baskets of futures contracts to replicate index performance using supervised learning techniques (SQL, SSIS, SSAS, SSRS, VBA, Machine Learning, Time-Series-Analysis, Data Pipeline Automation Monte Carlo Simulations)\n",
      "Responsibilities included performance attribution, creating data visualizations, financial modeling, back-testing strategies, and coding Monte Carlo simulations.\n",
      "==================================================================================================== \n",
      "\n"
     ]
    },
    {
     "data": {
      "text/plain": [
       "0.039714015864959054"
      ]
     },
     "execution_count": 761,
     "metadata": {},
     "output_type": "execute_result"
    }
   ],
   "source": [
    "# compare job summary and resume summary\n",
    "summary_job = get_text_summary(jobs[15]['desc'],'text','lsa',3)\n",
    "summary_resume = get_text_summary(resume,'text','lsa',3)\n",
    "\n",
    "calc_similarity(summary_resume,summary_job)\n"
   ]
  },
  {
   "cell_type": "code",
   "execution_count": 860,
   "id": "06be0335",
   "metadata": {},
   "outputs": [
    {
     "name": "stdout",
     "output_type": "stream",
     "text": [
      "Scrapping RSS Job Search Feed\n",
      "====================================================================================================\n",
      "Analyst/Associate, Systematic | Company DescriptionMake an impact at a global and dynamic in...\n",
      "Quantitative Analyst, Derivati| The Role: Quantitative Analyst, DerivativeThe Team: The Quan...\n",
      "Quantitative Analyst          | About Upfeat MediaUpfeat is on a mission to be the leader in...\n",
      "Manager, Machine Learning and | Company DescriptionAt Maple Leaf Sports & Entertainment Part...\n",
      "Managing Director, Business In| Company DescriptionMake an impact at a global and dynamic in...\n",
      "Data Scientist II - Machine Le| Credit Sesame is a financial app for consumers who want to b...\n",
      "Senior Analyst, Business Intel| Company DescriptionMake an impact at a global and dynamic in...\n",
      "Data Scientist, Algorithms    | At Lyft, our mission is to improve people’s lives with the w...\n",
      "Lead Data Scientist, Finance  | About this role:We are seeking a Lead Data Scientist with ex...\n"
     ]
    }
   ],
   "source": [
    "urls = [\n",
    "    'https://www.linkedin.com/jobs/view/3549932260/?refId=dbfa93b5-d784-445b-97f8-29d8f9ad0646&trackingId=jftaQgEdSpiSvntR2k17cQ%3D%3D',\n",
    "    'https://www.linkedin.com/jobs/view/3540697616/?refId=59a513ba-522a-4aea-af91-759ff6f76cda&trackingId=2hyQIrX%2BRkOf%2B98YR1qBJA%3D%3D',\n",
    "    'https://www.linkedin.com/jobs/view/3562298970/?refId=54f09146-9c3e-40e8-ac3c-595f85731463&trackingId=k0bOqRvwSRCieTxu5mwfhg%3D%3D',\n",
    "    'https://www.linkedin.com/jobs/view/3564381193/?refId=b670d576-6f5e-4a0e-96f7-3903c26a7d54&trackingId=nR%2FGTzkWR6uQzB6FcnQVWg%3D%3D',\n",
    "    'https://www.linkedin.com/jobs/view/3511070628/?refId=52f1cd7e-492f-46d4-894e-ab9ec08714f3&trackingId=SdhJHD3hRf61c5CnOOCOuw%3D%3D',\n",
    "    'https://www.linkedin.com/jobs/view/3552670722/?refId=9c54e362-c54a-49f4-8d25-5639afc7d65e&trackingId=GUoqINtfSuWsAtaXC293SA%3D%3D',\n",
    "    'https://www.linkedin.com/jobs/view/3492994174/?refId=0436884b-6af1-412d-8711-21574b7e80da&trackingId=GYxBqHwDTHqqRAZN3vhSOA%3D%3D',\n",
    "    'https://www.linkedin.com/jobs/view/3523929176/?refId=f06fd3a4-e203-418a-beae-9762646a74db&trackingId=HHBPl3eGRZ%2Bym6at%2Fjopig%3D%3D',\n",
    "    'https://www.linkedin.com/jobs/view/3503331250/?refId=9b080d13-deec-416e-b1c8-552165f513c0&trackingId=NGekzdgoQKei%2Fb6zSKO2%2BQ%3D%3D'\n",
    "]\n",
    "\n",
    "jobs_ln = get_linkedin_jobs(urls)\n"
   ]
  },
  {
   "cell_type": "code",
   "execution_count": 867,
   "id": "2c9c4813",
   "metadata": {},
   "outputs": [
    {
     "data": {
      "text/html": [
       "<div>\n",
       "<style scoped>\n",
       "    .dataframe tbody tr th:only-of-type {\n",
       "        vertical-align: middle;\n",
       "    }\n",
       "\n",
       "    .dataframe tbody tr th {\n",
       "        vertical-align: top;\n",
       "    }\n",
       "\n",
       "    .dataframe thead th {\n",
       "        text-align: right;\n",
       "    }\n",
       "</style>\n",
       "<table border=\"1\" class=\"dataframe\">\n",
       "  <thead>\n",
       "    <tr style=\"text-align: right;\">\n",
       "      <th></th>\n",
       "      <th>title</th>\n",
       "      <th>company</th>\n",
       "      <th>location</th>\n",
       "      <th>similarity-score</th>\n",
       "      <th>keyword-coverage</th>\n",
       "      <th>keyword-wt</th>\n",
       "      <th>keywords-missing</th>\n",
       "    </tr>\n",
       "  </thead>\n",
       "  <tbody>\n",
       "    <tr>\n",
       "      <th>4</th>\n",
       "      <td>Managing Director, Business Intelligence</td>\n",
       "      <td>unknown</td>\n",
       "      <td>unknown</td>\n",
       "      <td>0.341902</td>\n",
       "      <td>0.764706</td>\n",
       "      <td>2.041667</td>\n",
       "      <td>{collaboration, infrastructure, insights, gove...</td>\n",
       "    </tr>\n",
       "    <tr>\n",
       "      <th>3</th>\n",
       "      <td>Manager, Machine Learning and Advanced Analytics</td>\n",
       "      <td>unknown</td>\n",
       "      <td>unknown</td>\n",
       "      <td>0.314836</td>\n",
       "      <td>0.756757</td>\n",
       "      <td>3.843750</td>\n",
       "      <td>{mathematics, computer science, insights, big ...</td>\n",
       "    </tr>\n",
       "    <tr>\n",
       "      <th>6</th>\n",
       "      <td>Senior Analyst, Business Intelligence</td>\n",
       "      <td>unknown</td>\n",
       "      <td>unknown</td>\n",
       "      <td>0.250273</td>\n",
       "      <td>0.818182</td>\n",
       "      <td>4.861111</td>\n",
       "      <td>{computer science, collaboration, business req...</td>\n",
       "    </tr>\n",
       "    <tr>\n",
       "      <th>5</th>\n",
       "      <td>Data Scientist II - Machine Learning</td>\n",
       "      <td>unknown</td>\n",
       "      <td>unknown</td>\n",
       "      <td>0.219274</td>\n",
       "      <td>0.731707</td>\n",
       "      <td>2.714286</td>\n",
       "      <td>{gradient boosting, boosting, ai, ml, mlops, s...</td>\n",
       "    </tr>\n",
       "    <tr>\n",
       "      <th>0</th>\n",
       "      <td>Analyst/Associate, Systematic Strategies Group...</td>\n",
       "      <td>unknown</td>\n",
       "      <td>unknown</td>\n",
       "      <td>0.212961</td>\n",
       "      <td>0.764706</td>\n",
       "      <td>2.390244</td>\n",
       "      <td>{collaboration, phd, economics, infrastructure}</td>\n",
       "    </tr>\n",
       "    <tr>\n",
       "      <th>7</th>\n",
       "      <td>Data Scientist, Algorithms</td>\n",
       "      <td>unknown</td>\n",
       "      <td>unknown</td>\n",
       "      <td>0.201406</td>\n",
       "      <td>0.739130</td>\n",
       "      <td>4.161290</td>\n",
       "      <td>{mathematics, exploratory data analysis, compu...</td>\n",
       "    </tr>\n",
       "    <tr>\n",
       "      <th>1</th>\n",
       "      <td>Quantitative Analyst, Derivatives</td>\n",
       "      <td>unknown</td>\n",
       "      <td>unknown</td>\n",
       "      <td>0.196382</td>\n",
       "      <td>0.666667</td>\n",
       "      <td>2.458333</td>\n",
       "      <td>{mathematics, workflow, c++, derivatives, java}</td>\n",
       "    </tr>\n",
       "    <tr>\n",
       "      <th>8</th>\n",
       "      <td>Lead Data Scientist, Finance</td>\n",
       "      <td>unknown</td>\n",
       "      <td>unknown</td>\n",
       "      <td>0.188036</td>\n",
       "      <td>0.772727</td>\n",
       "      <td>2.448276</td>\n",
       "      <td>{eda, snowflake, ml, collaboration, options}</td>\n",
       "    </tr>\n",
       "    <tr>\n",
       "      <th>2</th>\n",
       "      <td>Quantitative Analyst</td>\n",
       "      <td>unknown</td>\n",
       "      <td>unknown</td>\n",
       "      <td>0.168629</td>\n",
       "      <td>0.833333</td>\n",
       "      <td>6.235294</td>\n",
       "      <td>{computer science, mathematics}</td>\n",
       "    </tr>\n",
       "  </tbody>\n",
       "</table>\n",
       "</div>"
      ],
      "text/plain": [
       "                                               title  company location  \\\n",
       "4           Managing Director, Business Intelligence  unknown  unknown   \n",
       "3   Manager, Machine Learning and Advanced Analytics  unknown  unknown   \n",
       "6              Senior Analyst, Business Intelligence  unknown  unknown   \n",
       "5               Data Scientist II - Machine Learning  unknown  unknown   \n",
       "0  Analyst/Associate, Systematic Strategies Group...  unknown  unknown   \n",
       "7                         Data Scientist, Algorithms  unknown  unknown   \n",
       "1                  Quantitative Analyst, Derivatives  unknown  unknown   \n",
       "8                       Lead Data Scientist, Finance  unknown  unknown   \n",
       "2                               Quantitative Analyst  unknown  unknown   \n",
       "\n",
       "   similarity-score  keyword-coverage  keyword-wt  \\\n",
       "4          0.341902          0.764706    2.041667   \n",
       "3          0.314836          0.756757    3.843750   \n",
       "6          0.250273          0.818182    4.861111   \n",
       "5          0.219274          0.731707    2.714286   \n",
       "0          0.212961          0.764706    2.390244   \n",
       "7          0.201406          0.739130    4.161290   \n",
       "1          0.196382          0.666667    2.458333   \n",
       "8          0.188036          0.772727    2.448276   \n",
       "2          0.168629          0.833333    6.235294   \n",
       "\n",
       "                                    keywords-missing  \n",
       "4  {collaboration, infrastructure, insights, gove...  \n",
       "3  {mathematics, computer science, insights, big ...  \n",
       "6  {computer science, collaboration, business req...  \n",
       "5  {gradient boosting, boosting, ai, ml, mlops, s...  \n",
       "0    {collaboration, phd, economics, infrastructure}  \n",
       "7  {mathematics, exploratory data analysis, compu...  \n",
       "1    {mathematics, workflow, c++, derivatives, java}  \n",
       "8       {eda, snowflake, ml, collaboration, options}  \n",
       "2                    {computer science, mathematics}  "
      ]
     },
     "execution_count": 867,
     "metadata": {},
     "output_type": "execute_result"
    }
   ],
   "source": [
    "df_ln = calc_similarities(resume,jobs_ln,'data/terms.csv')\n",
    "df_ln"
   ]
  },
  {
   "cell_type": "code",
   "execution_count": 870,
   "id": "b52458ab",
   "metadata": {},
   "outputs": [
    {
     "data": {
      "application/vnd.plotly.v1+json": {
       "config": {
        "plotlyServerURL": "https://plot.ly"
       },
       "data": [
        {
         "customdata": [
          [
           "Managing Director, Business Intelligence",
           "unknown",
           "unknown",
           0
          ],
          [
           "Manager, Machine Learning and Advanced Analytics",
           "unknown",
           "unknown",
           0.429719462302747
          ],
          [
           "Senior Analyst, Business Intelligence",
           "unknown",
           "unknown",
           0.6723163841807912
          ],
          [
           "Data Scientist II - Machine Learning",
           "unknown",
           "unknown",
           0.1603907489354595
          ],
          [
           "Analyst/Associate, Systematic Strategies Group - CMF",
           "unknown",
           "unknown",
           0.08312069678265468
          ],
          [
           "Data Scientist, Algorithms",
           "unknown",
           "unknown",
           0.5054391885522521
          ],
          [
           "Quantitative Analyst, Derivatives",
           "unknown",
           "unknown",
           0.09935710111046168
          ],
          [
           "Lead Data Scientist, Finance",
           "unknown",
           "unknown",
           0.09695882625607136
          ],
          [
           "Quantitative Analyst",
           "unknown",
           "unknown",
           1
          ]
         ],
         "hovertemplate": "<b>Title:</b> %{customdata[0]}<br><b>Company:</b> %{customdata[1]}<br><b>Location:</b> %{customdata[2]}</br><b>Similarity:</b> %{y:,.2f}<br><b>Keyword Coverage:</b> %{x:,.2f}<br><b>Weighted Keyword Frequency:</b> %{customdata[3]:,.2f}<br><extra></extra>",
         "marker": {
          "color": [
           0.34190214267891794,
           0.314835603823575,
           0.2502728842737233,
           0.2192744843326987,
           0.21296131350621558,
           0.20140554594991472,
           0.1963824853004664,
           0.18803638556877803,
           0.16862925931505313
          ],
          "colorscale": [
           [
            0,
            "rgba(252,76,1,1.0)"
           ],
           [
            0.25,
            "rgba(252,76,1,0.5)"
           ],
           [
            0.5,
            "rgba(83,128,141,0.25)"
           ],
           [
            0.75,
            "rgba(83,128,141,0.5)"
           ],
           [
            1,
            "rgba(83,128,141,1.0)"
           ]
          ],
          "size": [
           0,
           21.485973115137348,
           33.61581920903956,
           8.019537446772974,
           4.156034839132734,
           25.271959427612607,
           4.967855055523084,
           4.8479413128035675,
           50
          ]
         },
         "mode": "markers",
         "type": "scatter",
         "x": [
          0.7647058823529411,
          0.7567567567567568,
          0.8181818181818182,
          0.7317073170731707,
          0.7647058823529411,
          0.7391304347826086,
          0.6666666666666666,
          0.7727272727272727,
          0.8333333333333334
         ],
         "y": [
          0.34190214267891794,
          0.314835603823575,
          0.2502728842737233,
          0.2192744843326987,
          0.21296131350621558,
          0.20140554594991472,
          0.1963824853004664,
          0.18803638556877803,
          0.16862925931505313
         ]
        }
       ],
       "layout": {
        "height": 500,
        "template": {
         "data": {
          "bar": [
           {
            "error_x": {
             "color": "#2a3f5f"
            },
            "error_y": {
             "color": "#2a3f5f"
            },
            "marker": {
             "line": {
              "color": "white",
              "width": 0.5
             },
             "pattern": {
              "fillmode": "overlay",
              "size": 10,
              "solidity": 0.2
             }
            },
            "type": "bar"
           }
          ],
          "barpolar": [
           {
            "marker": {
             "line": {
              "color": "white",
              "width": 0.5
             },
             "pattern": {
              "fillmode": "overlay",
              "size": 10,
              "solidity": 0.2
             }
            },
            "type": "barpolar"
           }
          ],
          "carpet": [
           {
            "aaxis": {
             "endlinecolor": "#2a3f5f",
             "gridcolor": "#C8D4E3",
             "linecolor": "#C8D4E3",
             "minorgridcolor": "#C8D4E3",
             "startlinecolor": "#2a3f5f"
            },
            "baxis": {
             "endlinecolor": "#2a3f5f",
             "gridcolor": "#C8D4E3",
             "linecolor": "#C8D4E3",
             "minorgridcolor": "#C8D4E3",
             "startlinecolor": "#2a3f5f"
            },
            "type": "carpet"
           }
          ],
          "choropleth": [
           {
            "colorbar": {
             "outlinewidth": 0,
             "ticks": ""
            },
            "type": "choropleth"
           }
          ],
          "contour": [
           {
            "colorbar": {
             "outlinewidth": 0,
             "ticks": ""
            },
            "colorscale": [
             [
              0,
              "#0d0887"
             ],
             [
              0.1111111111111111,
              "#46039f"
             ],
             [
              0.2222222222222222,
              "#7201a8"
             ],
             [
              0.3333333333333333,
              "#9c179e"
             ],
             [
              0.4444444444444444,
              "#bd3786"
             ],
             [
              0.5555555555555556,
              "#d8576b"
             ],
             [
              0.6666666666666666,
              "#ed7953"
             ],
             [
              0.7777777777777778,
              "#fb9f3a"
             ],
             [
              0.8888888888888888,
              "#fdca26"
             ],
             [
              1,
              "#f0f921"
             ]
            ],
            "type": "contour"
           }
          ],
          "contourcarpet": [
           {
            "colorbar": {
             "outlinewidth": 0,
             "ticks": ""
            },
            "type": "contourcarpet"
           }
          ],
          "heatmap": [
           {
            "colorbar": {
             "outlinewidth": 0,
             "ticks": ""
            },
            "colorscale": [
             [
              0,
              "#0d0887"
             ],
             [
              0.1111111111111111,
              "#46039f"
             ],
             [
              0.2222222222222222,
              "#7201a8"
             ],
             [
              0.3333333333333333,
              "#9c179e"
             ],
             [
              0.4444444444444444,
              "#bd3786"
             ],
             [
              0.5555555555555556,
              "#d8576b"
             ],
             [
              0.6666666666666666,
              "#ed7953"
             ],
             [
              0.7777777777777778,
              "#fb9f3a"
             ],
             [
              0.8888888888888888,
              "#fdca26"
             ],
             [
              1,
              "#f0f921"
             ]
            ],
            "type": "heatmap"
           }
          ],
          "heatmapgl": [
           {
            "colorbar": {
             "outlinewidth": 0,
             "ticks": ""
            },
            "colorscale": [
             [
              0,
              "#0d0887"
             ],
             [
              0.1111111111111111,
              "#46039f"
             ],
             [
              0.2222222222222222,
              "#7201a8"
             ],
             [
              0.3333333333333333,
              "#9c179e"
             ],
             [
              0.4444444444444444,
              "#bd3786"
             ],
             [
              0.5555555555555556,
              "#d8576b"
             ],
             [
              0.6666666666666666,
              "#ed7953"
             ],
             [
              0.7777777777777778,
              "#fb9f3a"
             ],
             [
              0.8888888888888888,
              "#fdca26"
             ],
             [
              1,
              "#f0f921"
             ]
            ],
            "type": "heatmapgl"
           }
          ],
          "histogram": [
           {
            "marker": {
             "pattern": {
              "fillmode": "overlay",
              "size": 10,
              "solidity": 0.2
             }
            },
            "type": "histogram"
           }
          ],
          "histogram2d": [
           {
            "colorbar": {
             "outlinewidth": 0,
             "ticks": ""
            },
            "colorscale": [
             [
              0,
              "#0d0887"
             ],
             [
              0.1111111111111111,
              "#46039f"
             ],
             [
              0.2222222222222222,
              "#7201a8"
             ],
             [
              0.3333333333333333,
              "#9c179e"
             ],
             [
              0.4444444444444444,
              "#bd3786"
             ],
             [
              0.5555555555555556,
              "#d8576b"
             ],
             [
              0.6666666666666666,
              "#ed7953"
             ],
             [
              0.7777777777777778,
              "#fb9f3a"
             ],
             [
              0.8888888888888888,
              "#fdca26"
             ],
             [
              1,
              "#f0f921"
             ]
            ],
            "type": "histogram2d"
           }
          ],
          "histogram2dcontour": [
           {
            "colorbar": {
             "outlinewidth": 0,
             "ticks": ""
            },
            "colorscale": [
             [
              0,
              "#0d0887"
             ],
             [
              0.1111111111111111,
              "#46039f"
             ],
             [
              0.2222222222222222,
              "#7201a8"
             ],
             [
              0.3333333333333333,
              "#9c179e"
             ],
             [
              0.4444444444444444,
              "#bd3786"
             ],
             [
              0.5555555555555556,
              "#d8576b"
             ],
             [
              0.6666666666666666,
              "#ed7953"
             ],
             [
              0.7777777777777778,
              "#fb9f3a"
             ],
             [
              0.8888888888888888,
              "#fdca26"
             ],
             [
              1,
              "#f0f921"
             ]
            ],
            "type": "histogram2dcontour"
           }
          ],
          "mesh3d": [
           {
            "colorbar": {
             "outlinewidth": 0,
             "ticks": ""
            },
            "type": "mesh3d"
           }
          ],
          "parcoords": [
           {
            "line": {
             "colorbar": {
              "outlinewidth": 0,
              "ticks": ""
             }
            },
            "type": "parcoords"
           }
          ],
          "pie": [
           {
            "automargin": true,
            "type": "pie"
           }
          ],
          "scatter": [
           {
            "fillpattern": {
             "fillmode": "overlay",
             "size": 10,
             "solidity": 0.2
            },
            "type": "scatter"
           }
          ],
          "scatter3d": [
           {
            "line": {
             "colorbar": {
              "outlinewidth": 0,
              "ticks": ""
             }
            },
            "marker": {
             "colorbar": {
              "outlinewidth": 0,
              "ticks": ""
             }
            },
            "type": "scatter3d"
           }
          ],
          "scattercarpet": [
           {
            "marker": {
             "colorbar": {
              "outlinewidth": 0,
              "ticks": ""
             }
            },
            "type": "scattercarpet"
           }
          ],
          "scattergeo": [
           {
            "marker": {
             "colorbar": {
              "outlinewidth": 0,
              "ticks": ""
             }
            },
            "type": "scattergeo"
           }
          ],
          "scattergl": [
           {
            "marker": {
             "colorbar": {
              "outlinewidth": 0,
              "ticks": ""
             }
            },
            "type": "scattergl"
           }
          ],
          "scattermapbox": [
           {
            "marker": {
             "colorbar": {
              "outlinewidth": 0,
              "ticks": ""
             }
            },
            "type": "scattermapbox"
           }
          ],
          "scatterpolar": [
           {
            "marker": {
             "colorbar": {
              "outlinewidth": 0,
              "ticks": ""
             }
            },
            "type": "scatterpolar"
           }
          ],
          "scatterpolargl": [
           {
            "marker": {
             "colorbar": {
              "outlinewidth": 0,
              "ticks": ""
             }
            },
            "type": "scatterpolargl"
           }
          ],
          "scatterternary": [
           {
            "marker": {
             "colorbar": {
              "outlinewidth": 0,
              "ticks": ""
             }
            },
            "type": "scatterternary"
           }
          ],
          "surface": [
           {
            "colorbar": {
             "outlinewidth": 0,
             "ticks": ""
            },
            "colorscale": [
             [
              0,
              "#0d0887"
             ],
             [
              0.1111111111111111,
              "#46039f"
             ],
             [
              0.2222222222222222,
              "#7201a8"
             ],
             [
              0.3333333333333333,
              "#9c179e"
             ],
             [
              0.4444444444444444,
              "#bd3786"
             ],
             [
              0.5555555555555556,
              "#d8576b"
             ],
             [
              0.6666666666666666,
              "#ed7953"
             ],
             [
              0.7777777777777778,
              "#fb9f3a"
             ],
             [
              0.8888888888888888,
              "#fdca26"
             ],
             [
              1,
              "#f0f921"
             ]
            ],
            "type": "surface"
           }
          ],
          "table": [
           {
            "cells": {
             "fill": {
              "color": "#EBF0F8"
             },
             "line": {
              "color": "white"
             }
            },
            "header": {
             "fill": {
              "color": "#C8D4E3"
             },
             "line": {
              "color": "white"
             }
            },
            "type": "table"
           }
          ]
         },
         "layout": {
          "annotationdefaults": {
           "arrowcolor": "#2a3f5f",
           "arrowhead": 0,
           "arrowwidth": 1
          },
          "autotypenumbers": "strict",
          "coloraxis": {
           "colorbar": {
            "outlinewidth": 0,
            "ticks": ""
           }
          },
          "colorscale": {
           "diverging": [
            [
             0,
             "#8e0152"
            ],
            [
             0.1,
             "#c51b7d"
            ],
            [
             0.2,
             "#de77ae"
            ],
            [
             0.3,
             "#f1b6da"
            ],
            [
             0.4,
             "#fde0ef"
            ],
            [
             0.5,
             "#f7f7f7"
            ],
            [
             0.6,
             "#e6f5d0"
            ],
            [
             0.7,
             "#b8e186"
            ],
            [
             0.8,
             "#7fbc41"
            ],
            [
             0.9,
             "#4d9221"
            ],
            [
             1,
             "#276419"
            ]
           ],
           "sequential": [
            [
             0,
             "#0d0887"
            ],
            [
             0.1111111111111111,
             "#46039f"
            ],
            [
             0.2222222222222222,
             "#7201a8"
            ],
            [
             0.3333333333333333,
             "#9c179e"
            ],
            [
             0.4444444444444444,
             "#bd3786"
            ],
            [
             0.5555555555555556,
             "#d8576b"
            ],
            [
             0.6666666666666666,
             "#ed7953"
            ],
            [
             0.7777777777777778,
             "#fb9f3a"
            ],
            [
             0.8888888888888888,
             "#fdca26"
            ],
            [
             1,
             "#f0f921"
            ]
           ],
           "sequentialminus": [
            [
             0,
             "#0d0887"
            ],
            [
             0.1111111111111111,
             "#46039f"
            ],
            [
             0.2222222222222222,
             "#7201a8"
            ],
            [
             0.3333333333333333,
             "#9c179e"
            ],
            [
             0.4444444444444444,
             "#bd3786"
            ],
            [
             0.5555555555555556,
             "#d8576b"
            ],
            [
             0.6666666666666666,
             "#ed7953"
            ],
            [
             0.7777777777777778,
             "#fb9f3a"
            ],
            [
             0.8888888888888888,
             "#fdca26"
            ],
            [
             1,
             "#f0f921"
            ]
           ]
          },
          "colorway": [
           "#636efa",
           "#EF553B",
           "#00cc96",
           "#ab63fa",
           "#FFA15A",
           "#19d3f3",
           "#FF6692",
           "#B6E880",
           "#FF97FF",
           "#FECB52"
          ],
          "font": {
           "color": "#2a3f5f"
          },
          "geo": {
           "bgcolor": "white",
           "lakecolor": "white",
           "landcolor": "white",
           "showlakes": true,
           "showland": true,
           "subunitcolor": "#C8D4E3"
          },
          "hoverlabel": {
           "align": "left"
          },
          "hovermode": "closest",
          "mapbox": {
           "style": "light"
          },
          "paper_bgcolor": "white",
          "plot_bgcolor": "white",
          "polar": {
           "angularaxis": {
            "gridcolor": "#EBF0F8",
            "linecolor": "#EBF0F8",
            "ticks": ""
           },
           "bgcolor": "white",
           "radialaxis": {
            "gridcolor": "#EBF0F8",
            "linecolor": "#EBF0F8",
            "ticks": ""
           }
          },
          "scene": {
           "xaxis": {
            "backgroundcolor": "white",
            "gridcolor": "#DFE8F3",
            "gridwidth": 2,
            "linecolor": "#EBF0F8",
            "showbackground": true,
            "ticks": "",
            "zerolinecolor": "#EBF0F8"
           },
           "yaxis": {
            "backgroundcolor": "white",
            "gridcolor": "#DFE8F3",
            "gridwidth": 2,
            "linecolor": "#EBF0F8",
            "showbackground": true,
            "ticks": "",
            "zerolinecolor": "#EBF0F8"
           },
           "zaxis": {
            "backgroundcolor": "white",
            "gridcolor": "#DFE8F3",
            "gridwidth": 2,
            "linecolor": "#EBF0F8",
            "showbackground": true,
            "ticks": "",
            "zerolinecolor": "#EBF0F8"
           }
          },
          "shapedefaults": {
           "line": {
            "color": "#2a3f5f"
           }
          },
          "ternary": {
           "aaxis": {
            "gridcolor": "#DFE8F3",
            "linecolor": "#A2B1C6",
            "ticks": ""
           },
           "baxis": {
            "gridcolor": "#DFE8F3",
            "linecolor": "#A2B1C6",
            "ticks": ""
           },
           "bgcolor": "white",
           "caxis": {
            "gridcolor": "#DFE8F3",
            "linecolor": "#A2B1C6",
            "ticks": ""
           }
          },
          "title": {
           "x": 0.05
          },
          "xaxis": {
           "automargin": true,
           "gridcolor": "#EBF0F8",
           "linecolor": "#EBF0F8",
           "ticks": "",
           "title": {
            "standoff": 15
           },
           "zerolinecolor": "#EBF0F8",
           "zerolinewidth": 2
          },
          "yaxis": {
           "automargin": true,
           "gridcolor": "#EBF0F8",
           "linecolor": "#EBF0F8",
           "ticks": "",
           "title": {
            "standoff": 15
           },
           "zerolinecolor": "#EBF0F8",
           "zerolinewidth": 2
          }
         }
        },
        "title": {
         "text": "Resume Similarity to Job Listings"
        },
        "width": 800,
        "xaxis": {
         "range": [
          0,
          1
         ],
         "title": {
          "text": "Keyword Coverge (%)"
         }
        },
        "yaxis": {
         "range": [
          0,
          1
         ],
         "title": {
          "text": "Similarity Score"
         }
        }
       }
      },
      "text/html": [
       "<div>                            <div id=\"a2c65d11-2c35-4675-b32e-7db0ce77360a\" class=\"plotly-graph-div\" style=\"height:500px; width:800px;\"></div>            <script type=\"text/javascript\">                require([\"plotly\"], function(Plotly) {                    window.PLOTLYENV=window.PLOTLYENV || {};                                    if (document.getElementById(\"a2c65d11-2c35-4675-b32e-7db0ce77360a\")) {                    Plotly.newPlot(                        \"a2c65d11-2c35-4675-b32e-7db0ce77360a\",                        [{\"customdata\":[[\"Managing Director, Business Intelligence\",\"unknown\",\"unknown\",0.0],[\"Manager, Machine Learning and Advanced Analytics\",\"unknown\",\"unknown\",0.429719462302747],[\"Senior Analyst, Business Intelligence\",\"unknown\",\"unknown\",0.6723163841807912],[\"Data Scientist II - Machine Learning\",\"unknown\",\"unknown\",0.1603907489354595],[\"Analyst/Associate, Systematic Strategies Group - CMF\",\"unknown\",\"unknown\",0.08312069678265468],[\"Data Scientist, Algorithms\",\"unknown\",\"unknown\",0.5054391885522521],[\"Quantitative Analyst, Derivatives\",\"unknown\",\"unknown\",0.09935710111046168],[\"Lead Data Scientist, Finance\",\"unknown\",\"unknown\",0.09695882625607136],[\"Quantitative Analyst\",\"unknown\",\"unknown\",1.0]],\"hovertemplate\":\"<b>Title:</b> %{customdata[0]}<br><b>Company:</b> %{customdata[1]}<br><b>Location:</b> %{customdata[2]}</br><b>Similarity:</b> %{y:,.2f}<br><b>Keyword Coverage:</b> %{x:,.2f}<br><b>Weighted Keyword Frequency:</b> %{customdata[3]:,.2f}<br><extra></extra>\",\"marker\":{\"color\":[0.34190214267891794,0.314835603823575,0.2502728842737233,0.2192744843326987,0.21296131350621558,0.20140554594991472,0.1963824853004664,0.18803638556877803,0.16862925931505313],\"colorscale\":[[0,\"rgba(252,76,1,1.0)\"],[0.25,\"rgba(252,76,1,0.5)\"],[0.5,\"rgba(83,128,141,0.25)\"],[0.75,\"rgba(83,128,141,0.5)\"],[1.0,\"rgba(83,128,141,1.0)\"]],\"size\":[0.0,21.485973115137348,33.61581920903956,8.019537446772974,4.156034839132734,25.271959427612607,4.967855055523084,4.8479413128035675,50.0]},\"mode\":\"markers\",\"x\":[0.7647058823529411,0.7567567567567568,0.8181818181818182,0.7317073170731707,0.7647058823529411,0.7391304347826086,0.6666666666666666,0.7727272727272727,0.8333333333333334],\"y\":[0.34190214267891794,0.314835603823575,0.2502728842737233,0.2192744843326987,0.21296131350621558,0.20140554594991472,0.1963824853004664,0.18803638556877803,0.16862925931505313],\"type\":\"scatter\"}],                        {\"template\":{\"data\":{\"barpolar\":[{\"marker\":{\"line\":{\"color\":\"white\",\"width\":0.5},\"pattern\":{\"fillmode\":\"overlay\",\"size\":10,\"solidity\":0.2}},\"type\":\"barpolar\"}],\"bar\":[{\"error_x\":{\"color\":\"#2a3f5f\"},\"error_y\":{\"color\":\"#2a3f5f\"},\"marker\":{\"line\":{\"color\":\"white\",\"width\":0.5},\"pattern\":{\"fillmode\":\"overlay\",\"size\":10,\"solidity\":0.2}},\"type\":\"bar\"}],\"carpet\":[{\"aaxis\":{\"endlinecolor\":\"#2a3f5f\",\"gridcolor\":\"#C8D4E3\",\"linecolor\":\"#C8D4E3\",\"minorgridcolor\":\"#C8D4E3\",\"startlinecolor\":\"#2a3f5f\"},\"baxis\":{\"endlinecolor\":\"#2a3f5f\",\"gridcolor\":\"#C8D4E3\",\"linecolor\":\"#C8D4E3\",\"minorgridcolor\":\"#C8D4E3\",\"startlinecolor\":\"#2a3f5f\"},\"type\":\"carpet\"}],\"choropleth\":[{\"colorbar\":{\"outlinewidth\":0,\"ticks\":\"\"},\"type\":\"choropleth\"}],\"contourcarpet\":[{\"colorbar\":{\"outlinewidth\":0,\"ticks\":\"\"},\"type\":\"contourcarpet\"}],\"contour\":[{\"colorbar\":{\"outlinewidth\":0,\"ticks\":\"\"},\"colorscale\":[[0.0,\"#0d0887\"],[0.1111111111111111,\"#46039f\"],[0.2222222222222222,\"#7201a8\"],[0.3333333333333333,\"#9c179e\"],[0.4444444444444444,\"#bd3786\"],[0.5555555555555556,\"#d8576b\"],[0.6666666666666666,\"#ed7953\"],[0.7777777777777778,\"#fb9f3a\"],[0.8888888888888888,\"#fdca26\"],[1.0,\"#f0f921\"]],\"type\":\"contour\"}],\"heatmapgl\":[{\"colorbar\":{\"outlinewidth\":0,\"ticks\":\"\"},\"colorscale\":[[0.0,\"#0d0887\"],[0.1111111111111111,\"#46039f\"],[0.2222222222222222,\"#7201a8\"],[0.3333333333333333,\"#9c179e\"],[0.4444444444444444,\"#bd3786\"],[0.5555555555555556,\"#d8576b\"],[0.6666666666666666,\"#ed7953\"],[0.7777777777777778,\"#fb9f3a\"],[0.8888888888888888,\"#fdca26\"],[1.0,\"#f0f921\"]],\"type\":\"heatmapgl\"}],\"heatmap\":[{\"colorbar\":{\"outlinewidth\":0,\"ticks\":\"\"},\"colorscale\":[[0.0,\"#0d0887\"],[0.1111111111111111,\"#46039f\"],[0.2222222222222222,\"#7201a8\"],[0.3333333333333333,\"#9c179e\"],[0.4444444444444444,\"#bd3786\"],[0.5555555555555556,\"#d8576b\"],[0.6666666666666666,\"#ed7953\"],[0.7777777777777778,\"#fb9f3a\"],[0.8888888888888888,\"#fdca26\"],[1.0,\"#f0f921\"]],\"type\":\"heatmap\"}],\"histogram2dcontour\":[{\"colorbar\":{\"outlinewidth\":0,\"ticks\":\"\"},\"colorscale\":[[0.0,\"#0d0887\"],[0.1111111111111111,\"#46039f\"],[0.2222222222222222,\"#7201a8\"],[0.3333333333333333,\"#9c179e\"],[0.4444444444444444,\"#bd3786\"],[0.5555555555555556,\"#d8576b\"],[0.6666666666666666,\"#ed7953\"],[0.7777777777777778,\"#fb9f3a\"],[0.8888888888888888,\"#fdca26\"],[1.0,\"#f0f921\"]],\"type\":\"histogram2dcontour\"}],\"histogram2d\":[{\"colorbar\":{\"outlinewidth\":0,\"ticks\":\"\"},\"colorscale\":[[0.0,\"#0d0887\"],[0.1111111111111111,\"#46039f\"],[0.2222222222222222,\"#7201a8\"],[0.3333333333333333,\"#9c179e\"],[0.4444444444444444,\"#bd3786\"],[0.5555555555555556,\"#d8576b\"],[0.6666666666666666,\"#ed7953\"],[0.7777777777777778,\"#fb9f3a\"],[0.8888888888888888,\"#fdca26\"],[1.0,\"#f0f921\"]],\"type\":\"histogram2d\"}],\"histogram\":[{\"marker\":{\"pattern\":{\"fillmode\":\"overlay\",\"size\":10,\"solidity\":0.2}},\"type\":\"histogram\"}],\"mesh3d\":[{\"colorbar\":{\"outlinewidth\":0,\"ticks\":\"\"},\"type\":\"mesh3d\"}],\"parcoords\":[{\"line\":{\"colorbar\":{\"outlinewidth\":0,\"ticks\":\"\"}},\"type\":\"parcoords\"}],\"pie\":[{\"automargin\":true,\"type\":\"pie\"}],\"scatter3d\":[{\"line\":{\"colorbar\":{\"outlinewidth\":0,\"ticks\":\"\"}},\"marker\":{\"colorbar\":{\"outlinewidth\":0,\"ticks\":\"\"}},\"type\":\"scatter3d\"}],\"scattercarpet\":[{\"marker\":{\"colorbar\":{\"outlinewidth\":0,\"ticks\":\"\"}},\"type\":\"scattercarpet\"}],\"scattergeo\":[{\"marker\":{\"colorbar\":{\"outlinewidth\":0,\"ticks\":\"\"}},\"type\":\"scattergeo\"}],\"scattergl\":[{\"marker\":{\"colorbar\":{\"outlinewidth\":0,\"ticks\":\"\"}},\"type\":\"scattergl\"}],\"scattermapbox\":[{\"marker\":{\"colorbar\":{\"outlinewidth\":0,\"ticks\":\"\"}},\"type\":\"scattermapbox\"}],\"scatterpolargl\":[{\"marker\":{\"colorbar\":{\"outlinewidth\":0,\"ticks\":\"\"}},\"type\":\"scatterpolargl\"}],\"scatterpolar\":[{\"marker\":{\"colorbar\":{\"outlinewidth\":0,\"ticks\":\"\"}},\"type\":\"scatterpolar\"}],\"scatter\":[{\"fillpattern\":{\"fillmode\":\"overlay\",\"size\":10,\"solidity\":0.2},\"type\":\"scatter\"}],\"scatterternary\":[{\"marker\":{\"colorbar\":{\"outlinewidth\":0,\"ticks\":\"\"}},\"type\":\"scatterternary\"}],\"surface\":[{\"colorbar\":{\"outlinewidth\":0,\"ticks\":\"\"},\"colorscale\":[[0.0,\"#0d0887\"],[0.1111111111111111,\"#46039f\"],[0.2222222222222222,\"#7201a8\"],[0.3333333333333333,\"#9c179e\"],[0.4444444444444444,\"#bd3786\"],[0.5555555555555556,\"#d8576b\"],[0.6666666666666666,\"#ed7953\"],[0.7777777777777778,\"#fb9f3a\"],[0.8888888888888888,\"#fdca26\"],[1.0,\"#f0f921\"]],\"type\":\"surface\"}],\"table\":[{\"cells\":{\"fill\":{\"color\":\"#EBF0F8\"},\"line\":{\"color\":\"white\"}},\"header\":{\"fill\":{\"color\":\"#C8D4E3\"},\"line\":{\"color\":\"white\"}},\"type\":\"table\"}]},\"layout\":{\"annotationdefaults\":{\"arrowcolor\":\"#2a3f5f\",\"arrowhead\":0,\"arrowwidth\":1},\"autotypenumbers\":\"strict\",\"coloraxis\":{\"colorbar\":{\"outlinewidth\":0,\"ticks\":\"\"}},\"colorscale\":{\"diverging\":[[0,\"#8e0152\"],[0.1,\"#c51b7d\"],[0.2,\"#de77ae\"],[0.3,\"#f1b6da\"],[0.4,\"#fde0ef\"],[0.5,\"#f7f7f7\"],[0.6,\"#e6f5d0\"],[0.7,\"#b8e186\"],[0.8,\"#7fbc41\"],[0.9,\"#4d9221\"],[1,\"#276419\"]],\"sequential\":[[0.0,\"#0d0887\"],[0.1111111111111111,\"#46039f\"],[0.2222222222222222,\"#7201a8\"],[0.3333333333333333,\"#9c179e\"],[0.4444444444444444,\"#bd3786\"],[0.5555555555555556,\"#d8576b\"],[0.6666666666666666,\"#ed7953\"],[0.7777777777777778,\"#fb9f3a\"],[0.8888888888888888,\"#fdca26\"],[1.0,\"#f0f921\"]],\"sequentialminus\":[[0.0,\"#0d0887\"],[0.1111111111111111,\"#46039f\"],[0.2222222222222222,\"#7201a8\"],[0.3333333333333333,\"#9c179e\"],[0.4444444444444444,\"#bd3786\"],[0.5555555555555556,\"#d8576b\"],[0.6666666666666666,\"#ed7953\"],[0.7777777777777778,\"#fb9f3a\"],[0.8888888888888888,\"#fdca26\"],[1.0,\"#f0f921\"]]},\"colorway\":[\"#636efa\",\"#EF553B\",\"#00cc96\",\"#ab63fa\",\"#FFA15A\",\"#19d3f3\",\"#FF6692\",\"#B6E880\",\"#FF97FF\",\"#FECB52\"],\"font\":{\"color\":\"#2a3f5f\"},\"geo\":{\"bgcolor\":\"white\",\"lakecolor\":\"white\",\"landcolor\":\"white\",\"showlakes\":true,\"showland\":true,\"subunitcolor\":\"#C8D4E3\"},\"hoverlabel\":{\"align\":\"left\"},\"hovermode\":\"closest\",\"mapbox\":{\"style\":\"light\"},\"paper_bgcolor\":\"white\",\"plot_bgcolor\":\"white\",\"polar\":{\"angularaxis\":{\"gridcolor\":\"#EBF0F8\",\"linecolor\":\"#EBF0F8\",\"ticks\":\"\"},\"bgcolor\":\"white\",\"radialaxis\":{\"gridcolor\":\"#EBF0F8\",\"linecolor\":\"#EBF0F8\",\"ticks\":\"\"}},\"scene\":{\"xaxis\":{\"backgroundcolor\":\"white\",\"gridcolor\":\"#DFE8F3\",\"gridwidth\":2,\"linecolor\":\"#EBF0F8\",\"showbackground\":true,\"ticks\":\"\",\"zerolinecolor\":\"#EBF0F8\"},\"yaxis\":{\"backgroundcolor\":\"white\",\"gridcolor\":\"#DFE8F3\",\"gridwidth\":2,\"linecolor\":\"#EBF0F8\",\"showbackground\":true,\"ticks\":\"\",\"zerolinecolor\":\"#EBF0F8\"},\"zaxis\":{\"backgroundcolor\":\"white\",\"gridcolor\":\"#DFE8F3\",\"gridwidth\":2,\"linecolor\":\"#EBF0F8\",\"showbackground\":true,\"ticks\":\"\",\"zerolinecolor\":\"#EBF0F8\"}},\"shapedefaults\":{\"line\":{\"color\":\"#2a3f5f\"}},\"ternary\":{\"aaxis\":{\"gridcolor\":\"#DFE8F3\",\"linecolor\":\"#A2B1C6\",\"ticks\":\"\"},\"baxis\":{\"gridcolor\":\"#DFE8F3\",\"linecolor\":\"#A2B1C6\",\"ticks\":\"\"},\"bgcolor\":\"white\",\"caxis\":{\"gridcolor\":\"#DFE8F3\",\"linecolor\":\"#A2B1C6\",\"ticks\":\"\"}},\"title\":{\"x\":0.05},\"xaxis\":{\"automargin\":true,\"gridcolor\":\"#EBF0F8\",\"linecolor\":\"#EBF0F8\",\"ticks\":\"\",\"title\":{\"standoff\":15},\"zerolinecolor\":\"#EBF0F8\",\"zerolinewidth\":2},\"yaxis\":{\"automargin\":true,\"gridcolor\":\"#EBF0F8\",\"linecolor\":\"#EBF0F8\",\"ticks\":\"\",\"title\":{\"standoff\":15},\"zerolinecolor\":\"#EBF0F8\",\"zerolinewidth\":2}}},\"xaxis\":{\"title\":{\"text\":\"Keyword Coverge (%)\"},\"range\":[0,1.0]},\"yaxis\":{\"title\":{\"text\":\"Similarity Score\"},\"range\":[0,1.0]},\"title\":{\"text\":\"Resume Similarity to Job Listings\"},\"width\":800,\"height\":500},                        {\"responsive\": true}                    ).then(function(){\n",
       "                            \n",
       "var gd = document.getElementById('a2c65d11-2c35-4675-b32e-7db0ce77360a');\n",
       "var x = new MutationObserver(function (mutations, observer) {{\n",
       "        var display = window.getComputedStyle(gd).display;\n",
       "        if (!display || display === 'none') {{\n",
       "            console.log([gd, 'removed!']);\n",
       "            Plotly.purge(gd);\n",
       "            observer.disconnect();\n",
       "        }}\n",
       "}});\n",
       "\n",
       "// Listen for the removal of the full notebook cells\n",
       "var notebookContainer = gd.closest('#notebook-container');\n",
       "if (notebookContainer) {{\n",
       "    x.observe(notebookContainer, {childList: true});\n",
       "}}\n",
       "\n",
       "// Listen for the clearing of the current output cell\n",
       "var outputEl = gd.closest('.output');\n",
       "if (outputEl) {{\n",
       "    x.observe(outputEl, {childList: true});\n",
       "}}\n",
       "\n",
       "                        })                };                });            </script>        </div>"
      ]
     },
     "metadata": {},
     "output_type": "display_data"
    }
   ],
   "source": [
    "# plot similarities\n",
    "plot_similarity_scores(df_ln)"
   ]
  },
  {
   "cell_type": "code",
   "execution_count": 872,
   "id": "79206ee4",
   "metadata": {},
   "outputs": [
    {
     "data": {
      "application/vnd.plotly.v1+json": {
       "config": {
        "plotlyServerURL": "https://plot.ly"
       },
       "data": [
        {
         "marker": {
          "color": [
           0.17073170731707318,
           0.14634146341463414,
           -0.4878048780487805,
           1.1707317073170733,
           0.5121951219512195,
           -0.04878048780487805,
           0.1951219512195122,
           0.024390243902439025,
           0.5121951219512195,
           0.024390243902439025,
           0.07317073170731708,
           0.024390243902439025,
           0.07317073170731708
          ],
          "colorscale": [
           [
            0,
            "rgba(252,76,1,0.9)"
           ],
           [
            0.25,
            "rgba(252,76,1,0.5)"
           ],
           [
            0.5,
            "rgba(83,128,141,0.25)"
           ],
           [
            0.75,
            "rgba(83,128,141,0.5)"
           ],
           [
            1,
            "rgba(83,128,141,0.9)"
           ]
          ]
         },
         "name": "Weighted Frequency",
         "orientation": "h",
         "type": "bar",
         "x": [
          0.17073170731707318,
          0.14634146341463414,
          -0.4878048780487805,
          1.1707317073170733,
          0.5121951219512195,
          -0.04878048780487805,
          0.1951219512195122,
          0.024390243902439025,
          0.5121951219512195,
          0.024390243902439025,
          0.07317073170731708,
          0.024390243902439025,
          0.07317073170731708
         ],
         "xaxis": "x",
         "y": [
          "quantitative",
          "research",
          "markets",
          "management",
          "implementation",
          "capital markets",
          "analytics",
          "finance",
          "analysis",
          "programming",
          "engineering",
          "msc",
          "communication"
         ],
         "yaxis": "y"
        },
        {
         "marker": {
          "color": "rgba(252,76,1,0.8)"
         },
         "name": "Missing Keywords",
         "type": "bar",
         "x": [
          "collaboration",
          "economics",
          "phd",
          "infrastructure"
         ],
         "xaxis": "x2",
         "y": [
          3,
          1,
          1,
          1
         ],
         "yaxis": "y2"
        },
        {
         "marker": {
          "color": "rgba(252,76,1,0.8)"
         },
         "name": "Job Specific Keywords",
         "type": "bar",
         "x": [],
         "xaxis": "x3",
         "y": [],
         "yaxis": "y3"
        }
       ],
       "layout": {
        "annotations": [
         {
          "font": {
           "size": 16
          },
          "showarrow": false,
          "text": "Matching Keywords",
          "x": 0.21666666666666667,
          "xanchor": "center",
          "xref": "paper",
          "y": 1,
          "yanchor": "bottom",
          "yref": "paper"
         },
         {
          "font": {
           "size": 16
          },
          "showarrow": false,
          "text": "Missing Keywords",
          "x": 0.6083333333333334,
          "xanchor": "center",
          "xref": "paper",
          "y": 1,
          "yanchor": "bottom",
          "yref": "paper"
         },
         {
          "font": {
           "size": 16
          },
          "showarrow": false,
          "text": "Job Specific Keywords",
          "x": 0.8916666666666666,
          "xanchor": "center",
          "xref": "paper",
          "y": 1,
          "yanchor": "bottom",
          "yref": "paper"
         }
        ],
        "height": 500,
        "showlegend": false,
        "template": {
         "data": {
          "bar": [
           {
            "error_x": {
             "color": "#2a3f5f"
            },
            "error_y": {
             "color": "#2a3f5f"
            },
            "marker": {
             "line": {
              "color": "white",
              "width": 0.5
             },
             "pattern": {
              "fillmode": "overlay",
              "size": 10,
              "solidity": 0.2
             }
            },
            "type": "bar"
           }
          ],
          "barpolar": [
           {
            "marker": {
             "line": {
              "color": "white",
              "width": 0.5
             },
             "pattern": {
              "fillmode": "overlay",
              "size": 10,
              "solidity": 0.2
             }
            },
            "type": "barpolar"
           }
          ],
          "carpet": [
           {
            "aaxis": {
             "endlinecolor": "#2a3f5f",
             "gridcolor": "#C8D4E3",
             "linecolor": "#C8D4E3",
             "minorgridcolor": "#C8D4E3",
             "startlinecolor": "#2a3f5f"
            },
            "baxis": {
             "endlinecolor": "#2a3f5f",
             "gridcolor": "#C8D4E3",
             "linecolor": "#C8D4E3",
             "minorgridcolor": "#C8D4E3",
             "startlinecolor": "#2a3f5f"
            },
            "type": "carpet"
           }
          ],
          "choropleth": [
           {
            "colorbar": {
             "outlinewidth": 0,
             "ticks": ""
            },
            "type": "choropleth"
           }
          ],
          "contour": [
           {
            "colorbar": {
             "outlinewidth": 0,
             "ticks": ""
            },
            "colorscale": [
             [
              0,
              "#0d0887"
             ],
             [
              0.1111111111111111,
              "#46039f"
             ],
             [
              0.2222222222222222,
              "#7201a8"
             ],
             [
              0.3333333333333333,
              "#9c179e"
             ],
             [
              0.4444444444444444,
              "#bd3786"
             ],
             [
              0.5555555555555556,
              "#d8576b"
             ],
             [
              0.6666666666666666,
              "#ed7953"
             ],
             [
              0.7777777777777778,
              "#fb9f3a"
             ],
             [
              0.8888888888888888,
              "#fdca26"
             ],
             [
              1,
              "#f0f921"
             ]
            ],
            "type": "contour"
           }
          ],
          "contourcarpet": [
           {
            "colorbar": {
             "outlinewidth": 0,
             "ticks": ""
            },
            "type": "contourcarpet"
           }
          ],
          "heatmap": [
           {
            "colorbar": {
             "outlinewidth": 0,
             "ticks": ""
            },
            "colorscale": [
             [
              0,
              "#0d0887"
             ],
             [
              0.1111111111111111,
              "#46039f"
             ],
             [
              0.2222222222222222,
              "#7201a8"
             ],
             [
              0.3333333333333333,
              "#9c179e"
             ],
             [
              0.4444444444444444,
              "#bd3786"
             ],
             [
              0.5555555555555556,
              "#d8576b"
             ],
             [
              0.6666666666666666,
              "#ed7953"
             ],
             [
              0.7777777777777778,
              "#fb9f3a"
             ],
             [
              0.8888888888888888,
              "#fdca26"
             ],
             [
              1,
              "#f0f921"
             ]
            ],
            "type": "heatmap"
           }
          ],
          "heatmapgl": [
           {
            "colorbar": {
             "outlinewidth": 0,
             "ticks": ""
            },
            "colorscale": [
             [
              0,
              "#0d0887"
             ],
             [
              0.1111111111111111,
              "#46039f"
             ],
             [
              0.2222222222222222,
              "#7201a8"
             ],
             [
              0.3333333333333333,
              "#9c179e"
             ],
             [
              0.4444444444444444,
              "#bd3786"
             ],
             [
              0.5555555555555556,
              "#d8576b"
             ],
             [
              0.6666666666666666,
              "#ed7953"
             ],
             [
              0.7777777777777778,
              "#fb9f3a"
             ],
             [
              0.8888888888888888,
              "#fdca26"
             ],
             [
              1,
              "#f0f921"
             ]
            ],
            "type": "heatmapgl"
           }
          ],
          "histogram": [
           {
            "marker": {
             "pattern": {
              "fillmode": "overlay",
              "size": 10,
              "solidity": 0.2
             }
            },
            "type": "histogram"
           }
          ],
          "histogram2d": [
           {
            "colorbar": {
             "outlinewidth": 0,
             "ticks": ""
            },
            "colorscale": [
             [
              0,
              "#0d0887"
             ],
             [
              0.1111111111111111,
              "#46039f"
             ],
             [
              0.2222222222222222,
              "#7201a8"
             ],
             [
              0.3333333333333333,
              "#9c179e"
             ],
             [
              0.4444444444444444,
              "#bd3786"
             ],
             [
              0.5555555555555556,
              "#d8576b"
             ],
             [
              0.6666666666666666,
              "#ed7953"
             ],
             [
              0.7777777777777778,
              "#fb9f3a"
             ],
             [
              0.8888888888888888,
              "#fdca26"
             ],
             [
              1,
              "#f0f921"
             ]
            ],
            "type": "histogram2d"
           }
          ],
          "histogram2dcontour": [
           {
            "colorbar": {
             "outlinewidth": 0,
             "ticks": ""
            },
            "colorscale": [
             [
              0,
              "#0d0887"
             ],
             [
              0.1111111111111111,
              "#46039f"
             ],
             [
              0.2222222222222222,
              "#7201a8"
             ],
             [
              0.3333333333333333,
              "#9c179e"
             ],
             [
              0.4444444444444444,
              "#bd3786"
             ],
             [
              0.5555555555555556,
              "#d8576b"
             ],
             [
              0.6666666666666666,
              "#ed7953"
             ],
             [
              0.7777777777777778,
              "#fb9f3a"
             ],
             [
              0.8888888888888888,
              "#fdca26"
             ],
             [
              1,
              "#f0f921"
             ]
            ],
            "type": "histogram2dcontour"
           }
          ],
          "mesh3d": [
           {
            "colorbar": {
             "outlinewidth": 0,
             "ticks": ""
            },
            "type": "mesh3d"
           }
          ],
          "parcoords": [
           {
            "line": {
             "colorbar": {
              "outlinewidth": 0,
              "ticks": ""
             }
            },
            "type": "parcoords"
           }
          ],
          "pie": [
           {
            "automargin": true,
            "type": "pie"
           }
          ],
          "scatter": [
           {
            "fillpattern": {
             "fillmode": "overlay",
             "size": 10,
             "solidity": 0.2
            },
            "type": "scatter"
           }
          ],
          "scatter3d": [
           {
            "line": {
             "colorbar": {
              "outlinewidth": 0,
              "ticks": ""
             }
            },
            "marker": {
             "colorbar": {
              "outlinewidth": 0,
              "ticks": ""
             }
            },
            "type": "scatter3d"
           }
          ],
          "scattercarpet": [
           {
            "marker": {
             "colorbar": {
              "outlinewidth": 0,
              "ticks": ""
             }
            },
            "type": "scattercarpet"
           }
          ],
          "scattergeo": [
           {
            "marker": {
             "colorbar": {
              "outlinewidth": 0,
              "ticks": ""
             }
            },
            "type": "scattergeo"
           }
          ],
          "scattergl": [
           {
            "marker": {
             "colorbar": {
              "outlinewidth": 0,
              "ticks": ""
             }
            },
            "type": "scattergl"
           }
          ],
          "scattermapbox": [
           {
            "marker": {
             "colorbar": {
              "outlinewidth": 0,
              "ticks": ""
             }
            },
            "type": "scattermapbox"
           }
          ],
          "scatterpolar": [
           {
            "marker": {
             "colorbar": {
              "outlinewidth": 0,
              "ticks": ""
             }
            },
            "type": "scatterpolar"
           }
          ],
          "scatterpolargl": [
           {
            "marker": {
             "colorbar": {
              "outlinewidth": 0,
              "ticks": ""
             }
            },
            "type": "scatterpolargl"
           }
          ],
          "scatterternary": [
           {
            "marker": {
             "colorbar": {
              "outlinewidth": 0,
              "ticks": ""
             }
            },
            "type": "scatterternary"
           }
          ],
          "surface": [
           {
            "colorbar": {
             "outlinewidth": 0,
             "ticks": ""
            },
            "colorscale": [
             [
              0,
              "#0d0887"
             ],
             [
              0.1111111111111111,
              "#46039f"
             ],
             [
              0.2222222222222222,
              "#7201a8"
             ],
             [
              0.3333333333333333,
              "#9c179e"
             ],
             [
              0.4444444444444444,
              "#bd3786"
             ],
             [
              0.5555555555555556,
              "#d8576b"
             ],
             [
              0.6666666666666666,
              "#ed7953"
             ],
             [
              0.7777777777777778,
              "#fb9f3a"
             ],
             [
              0.8888888888888888,
              "#fdca26"
             ],
             [
              1,
              "#f0f921"
             ]
            ],
            "type": "surface"
           }
          ],
          "table": [
           {
            "cells": {
             "fill": {
              "color": "#EBF0F8"
             },
             "line": {
              "color": "white"
             }
            },
            "header": {
             "fill": {
              "color": "#C8D4E3"
             },
             "line": {
              "color": "white"
             }
            },
            "type": "table"
           }
          ]
         },
         "layout": {
          "annotationdefaults": {
           "arrowcolor": "#2a3f5f",
           "arrowhead": 0,
           "arrowwidth": 1
          },
          "autotypenumbers": "strict",
          "coloraxis": {
           "colorbar": {
            "outlinewidth": 0,
            "ticks": ""
           }
          },
          "colorscale": {
           "diverging": [
            [
             0,
             "#8e0152"
            ],
            [
             0.1,
             "#c51b7d"
            ],
            [
             0.2,
             "#de77ae"
            ],
            [
             0.3,
             "#f1b6da"
            ],
            [
             0.4,
             "#fde0ef"
            ],
            [
             0.5,
             "#f7f7f7"
            ],
            [
             0.6,
             "#e6f5d0"
            ],
            [
             0.7,
             "#b8e186"
            ],
            [
             0.8,
             "#7fbc41"
            ],
            [
             0.9,
             "#4d9221"
            ],
            [
             1,
             "#276419"
            ]
           ],
           "sequential": [
            [
             0,
             "#0d0887"
            ],
            [
             0.1111111111111111,
             "#46039f"
            ],
            [
             0.2222222222222222,
             "#7201a8"
            ],
            [
             0.3333333333333333,
             "#9c179e"
            ],
            [
             0.4444444444444444,
             "#bd3786"
            ],
            [
             0.5555555555555556,
             "#d8576b"
            ],
            [
             0.6666666666666666,
             "#ed7953"
            ],
            [
             0.7777777777777778,
             "#fb9f3a"
            ],
            [
             0.8888888888888888,
             "#fdca26"
            ],
            [
             1,
             "#f0f921"
            ]
           ],
           "sequentialminus": [
            [
             0,
             "#0d0887"
            ],
            [
             0.1111111111111111,
             "#46039f"
            ],
            [
             0.2222222222222222,
             "#7201a8"
            ],
            [
             0.3333333333333333,
             "#9c179e"
            ],
            [
             0.4444444444444444,
             "#bd3786"
            ],
            [
             0.5555555555555556,
             "#d8576b"
            ],
            [
             0.6666666666666666,
             "#ed7953"
            ],
            [
             0.7777777777777778,
             "#fb9f3a"
            ],
            [
             0.8888888888888888,
             "#fdca26"
            ],
            [
             1,
             "#f0f921"
            ]
           ]
          },
          "colorway": [
           "#636efa",
           "#EF553B",
           "#00cc96",
           "#ab63fa",
           "#FFA15A",
           "#19d3f3",
           "#FF6692",
           "#B6E880",
           "#FF97FF",
           "#FECB52"
          ],
          "font": {
           "color": "#2a3f5f"
          },
          "geo": {
           "bgcolor": "white",
           "lakecolor": "white",
           "landcolor": "white",
           "showlakes": true,
           "showland": true,
           "subunitcolor": "#C8D4E3"
          },
          "hoverlabel": {
           "align": "left"
          },
          "hovermode": "closest",
          "mapbox": {
           "style": "light"
          },
          "paper_bgcolor": "white",
          "plot_bgcolor": "white",
          "polar": {
           "angularaxis": {
            "gridcolor": "#EBF0F8",
            "linecolor": "#EBF0F8",
            "ticks": ""
           },
           "bgcolor": "white",
           "radialaxis": {
            "gridcolor": "#EBF0F8",
            "linecolor": "#EBF0F8",
            "ticks": ""
           }
          },
          "scene": {
           "xaxis": {
            "backgroundcolor": "white",
            "gridcolor": "#DFE8F3",
            "gridwidth": 2,
            "linecolor": "#EBF0F8",
            "showbackground": true,
            "ticks": "",
            "zerolinecolor": "#EBF0F8"
           },
           "yaxis": {
            "backgroundcolor": "white",
            "gridcolor": "#DFE8F3",
            "gridwidth": 2,
            "linecolor": "#EBF0F8",
            "showbackground": true,
            "ticks": "",
            "zerolinecolor": "#EBF0F8"
           },
           "zaxis": {
            "backgroundcolor": "white",
            "gridcolor": "#DFE8F3",
            "gridwidth": 2,
            "linecolor": "#EBF0F8",
            "showbackground": true,
            "ticks": "",
            "zerolinecolor": "#EBF0F8"
           }
          },
          "shapedefaults": {
           "line": {
            "color": "#2a3f5f"
           }
          },
          "ternary": {
           "aaxis": {
            "gridcolor": "#DFE8F3",
            "linecolor": "#A2B1C6",
            "ticks": ""
           },
           "baxis": {
            "gridcolor": "#DFE8F3",
            "linecolor": "#A2B1C6",
            "ticks": ""
           },
           "bgcolor": "white",
           "caxis": {
            "gridcolor": "#DFE8F3",
            "linecolor": "#A2B1C6",
            "ticks": ""
           }
          },
          "title": {
           "x": 0.05
          },
          "xaxis": {
           "automargin": true,
           "gridcolor": "#EBF0F8",
           "linecolor": "#EBF0F8",
           "ticks": "",
           "title": {
            "standoff": 15
           },
           "zerolinecolor": "#EBF0F8",
           "zerolinewidth": 2
          },
          "yaxis": {
           "automargin": true,
           "gridcolor": "#EBF0F8",
           "linecolor": "#EBF0F8",
           "ticks": "",
           "title": {
            "standoff": 15
           },
           "zerolinecolor": "#EBF0F8",
           "zerolinewidth": 2
          }
         }
        },
        "title": {
         "text": "Analyst/Associate, Systematic Strategies Group - CMF(unknown) | Keyword Coverage=76.47% | Weighted Average=2.39"
        },
        "width": 900,
        "xaxis": {
         "anchor": "y",
         "domain": [
          0,
          0.43333333333333335
         ],
         "range": [
          -2,
          2
         ],
         "showgrid": false
        },
        "xaxis2": {
         "anchor": "y2",
         "domain": [
          0.5,
          0.7166666666666667
         ],
         "showgrid": false,
         "tickangle": 90
        },
        "xaxis3": {
         "anchor": "y3",
         "domain": [
          0.7833333333333333,
          1
         ],
         "showgrid": false,
         "tickangle": 90
        },
        "yaxis": {
         "anchor": "x",
         "domain": [
          0,
          1
         ]
        },
        "yaxis2": {
         "anchor": "x2",
         "domain": [
          0,
          1
         ]
        },
        "yaxis3": {
         "anchor": "x3",
         "domain": [
          0,
          1
         ]
        }
       }
      },
      "text/html": [
       "<div>                            <div id=\"9aeb7153-1d11-497a-98f9-f17ba27600bb\" class=\"plotly-graph-div\" style=\"height:500px; width:900px;\"></div>            <script type=\"text/javascript\">                require([\"plotly\"], function(Plotly) {                    window.PLOTLYENV=window.PLOTLYENV || {};                                    if (document.getElementById(\"9aeb7153-1d11-497a-98f9-f17ba27600bb\")) {                    Plotly.newPlot(                        \"9aeb7153-1d11-497a-98f9-f17ba27600bb\",                        [{\"marker\":{\"color\":[0.17073170731707318,0.14634146341463414,-0.4878048780487805,1.1707317073170733,0.5121951219512195,-0.04878048780487805,0.1951219512195122,0.024390243902439025,0.5121951219512195,0.024390243902439025,0.07317073170731708,0.024390243902439025,0.07317073170731708],\"colorscale\":[[0,\"rgba(252,76,1,0.9)\"],[0.25,\"rgba(252,76,1,0.5)\"],[0.5,\"rgba(83,128,141,0.25)\"],[0.75,\"rgba(83,128,141,0.5)\"],[1.0,\"rgba(83,128,141,0.9)\"]]},\"name\":\"Weighted Frequency\",\"orientation\":\"h\",\"x\":[0.17073170731707318,0.14634146341463414,-0.4878048780487805,1.1707317073170733,0.5121951219512195,-0.04878048780487805,0.1951219512195122,0.024390243902439025,0.5121951219512195,0.024390243902439025,0.07317073170731708,0.024390243902439025,0.07317073170731708],\"y\":[\"quantitative\",\"research\",\"markets\",\"management\",\"implementation\",\"capital markets\",\"analytics\",\"finance\",\"analysis\",\"programming\",\"engineering\",\"msc\",\"communication\"],\"type\":\"bar\",\"xaxis\":\"x\",\"yaxis\":\"y\"},{\"marker\":{\"color\":\"rgba(252,76,1,0.8)\"},\"name\":\"Missing Keywords\",\"x\":[\"collaboration\",\"economics\",\"phd\",\"infrastructure\"],\"y\":[3,1,1,1],\"type\":\"bar\",\"xaxis\":\"x2\",\"yaxis\":\"y2\"},{\"marker\":{\"color\":\"rgba(252,76,1,0.8)\"},\"name\":\"Job Specific Keywords\",\"x\":[],\"y\":[],\"type\":\"bar\",\"xaxis\":\"x3\",\"yaxis\":\"y3\"}],                        {\"template\":{\"data\":{\"barpolar\":[{\"marker\":{\"line\":{\"color\":\"white\",\"width\":0.5},\"pattern\":{\"fillmode\":\"overlay\",\"size\":10,\"solidity\":0.2}},\"type\":\"barpolar\"}],\"bar\":[{\"error_x\":{\"color\":\"#2a3f5f\"},\"error_y\":{\"color\":\"#2a3f5f\"},\"marker\":{\"line\":{\"color\":\"white\",\"width\":0.5},\"pattern\":{\"fillmode\":\"overlay\",\"size\":10,\"solidity\":0.2}},\"type\":\"bar\"}],\"carpet\":[{\"aaxis\":{\"endlinecolor\":\"#2a3f5f\",\"gridcolor\":\"#C8D4E3\",\"linecolor\":\"#C8D4E3\",\"minorgridcolor\":\"#C8D4E3\",\"startlinecolor\":\"#2a3f5f\"},\"baxis\":{\"endlinecolor\":\"#2a3f5f\",\"gridcolor\":\"#C8D4E3\",\"linecolor\":\"#C8D4E3\",\"minorgridcolor\":\"#C8D4E3\",\"startlinecolor\":\"#2a3f5f\"},\"type\":\"carpet\"}],\"choropleth\":[{\"colorbar\":{\"outlinewidth\":0,\"ticks\":\"\"},\"type\":\"choropleth\"}],\"contourcarpet\":[{\"colorbar\":{\"outlinewidth\":0,\"ticks\":\"\"},\"type\":\"contourcarpet\"}],\"contour\":[{\"colorbar\":{\"outlinewidth\":0,\"ticks\":\"\"},\"colorscale\":[[0.0,\"#0d0887\"],[0.1111111111111111,\"#46039f\"],[0.2222222222222222,\"#7201a8\"],[0.3333333333333333,\"#9c179e\"],[0.4444444444444444,\"#bd3786\"],[0.5555555555555556,\"#d8576b\"],[0.6666666666666666,\"#ed7953\"],[0.7777777777777778,\"#fb9f3a\"],[0.8888888888888888,\"#fdca26\"],[1.0,\"#f0f921\"]],\"type\":\"contour\"}],\"heatmapgl\":[{\"colorbar\":{\"outlinewidth\":0,\"ticks\":\"\"},\"colorscale\":[[0.0,\"#0d0887\"],[0.1111111111111111,\"#46039f\"],[0.2222222222222222,\"#7201a8\"],[0.3333333333333333,\"#9c179e\"],[0.4444444444444444,\"#bd3786\"],[0.5555555555555556,\"#d8576b\"],[0.6666666666666666,\"#ed7953\"],[0.7777777777777778,\"#fb9f3a\"],[0.8888888888888888,\"#fdca26\"],[1.0,\"#f0f921\"]],\"type\":\"heatmapgl\"}],\"heatmap\":[{\"colorbar\":{\"outlinewidth\":0,\"ticks\":\"\"},\"colorscale\":[[0.0,\"#0d0887\"],[0.1111111111111111,\"#46039f\"],[0.2222222222222222,\"#7201a8\"],[0.3333333333333333,\"#9c179e\"],[0.4444444444444444,\"#bd3786\"],[0.5555555555555556,\"#d8576b\"],[0.6666666666666666,\"#ed7953\"],[0.7777777777777778,\"#fb9f3a\"],[0.8888888888888888,\"#fdca26\"],[1.0,\"#f0f921\"]],\"type\":\"heatmap\"}],\"histogram2dcontour\":[{\"colorbar\":{\"outlinewidth\":0,\"ticks\":\"\"},\"colorscale\":[[0.0,\"#0d0887\"],[0.1111111111111111,\"#46039f\"],[0.2222222222222222,\"#7201a8\"],[0.3333333333333333,\"#9c179e\"],[0.4444444444444444,\"#bd3786\"],[0.5555555555555556,\"#d8576b\"],[0.6666666666666666,\"#ed7953\"],[0.7777777777777778,\"#fb9f3a\"],[0.8888888888888888,\"#fdca26\"],[1.0,\"#f0f921\"]],\"type\":\"histogram2dcontour\"}],\"histogram2d\":[{\"colorbar\":{\"outlinewidth\":0,\"ticks\":\"\"},\"colorscale\":[[0.0,\"#0d0887\"],[0.1111111111111111,\"#46039f\"],[0.2222222222222222,\"#7201a8\"],[0.3333333333333333,\"#9c179e\"],[0.4444444444444444,\"#bd3786\"],[0.5555555555555556,\"#d8576b\"],[0.6666666666666666,\"#ed7953\"],[0.7777777777777778,\"#fb9f3a\"],[0.8888888888888888,\"#fdca26\"],[1.0,\"#f0f921\"]],\"type\":\"histogram2d\"}],\"histogram\":[{\"marker\":{\"pattern\":{\"fillmode\":\"overlay\",\"size\":10,\"solidity\":0.2}},\"type\":\"histogram\"}],\"mesh3d\":[{\"colorbar\":{\"outlinewidth\":0,\"ticks\":\"\"},\"type\":\"mesh3d\"}],\"parcoords\":[{\"line\":{\"colorbar\":{\"outlinewidth\":0,\"ticks\":\"\"}},\"type\":\"parcoords\"}],\"pie\":[{\"automargin\":true,\"type\":\"pie\"}],\"scatter3d\":[{\"line\":{\"colorbar\":{\"outlinewidth\":0,\"ticks\":\"\"}},\"marker\":{\"colorbar\":{\"outlinewidth\":0,\"ticks\":\"\"}},\"type\":\"scatter3d\"}],\"scattercarpet\":[{\"marker\":{\"colorbar\":{\"outlinewidth\":0,\"ticks\":\"\"}},\"type\":\"scattercarpet\"}],\"scattergeo\":[{\"marker\":{\"colorbar\":{\"outlinewidth\":0,\"ticks\":\"\"}},\"type\":\"scattergeo\"}],\"scattergl\":[{\"marker\":{\"colorbar\":{\"outlinewidth\":0,\"ticks\":\"\"}},\"type\":\"scattergl\"}],\"scattermapbox\":[{\"marker\":{\"colorbar\":{\"outlinewidth\":0,\"ticks\":\"\"}},\"type\":\"scattermapbox\"}],\"scatterpolargl\":[{\"marker\":{\"colorbar\":{\"outlinewidth\":0,\"ticks\":\"\"}},\"type\":\"scatterpolargl\"}],\"scatterpolar\":[{\"marker\":{\"colorbar\":{\"outlinewidth\":0,\"ticks\":\"\"}},\"type\":\"scatterpolar\"}],\"scatter\":[{\"fillpattern\":{\"fillmode\":\"overlay\",\"size\":10,\"solidity\":0.2},\"type\":\"scatter\"}],\"scatterternary\":[{\"marker\":{\"colorbar\":{\"outlinewidth\":0,\"ticks\":\"\"}},\"type\":\"scatterternary\"}],\"surface\":[{\"colorbar\":{\"outlinewidth\":0,\"ticks\":\"\"},\"colorscale\":[[0.0,\"#0d0887\"],[0.1111111111111111,\"#46039f\"],[0.2222222222222222,\"#7201a8\"],[0.3333333333333333,\"#9c179e\"],[0.4444444444444444,\"#bd3786\"],[0.5555555555555556,\"#d8576b\"],[0.6666666666666666,\"#ed7953\"],[0.7777777777777778,\"#fb9f3a\"],[0.8888888888888888,\"#fdca26\"],[1.0,\"#f0f921\"]],\"type\":\"surface\"}],\"table\":[{\"cells\":{\"fill\":{\"color\":\"#EBF0F8\"},\"line\":{\"color\":\"white\"}},\"header\":{\"fill\":{\"color\":\"#C8D4E3\"},\"line\":{\"color\":\"white\"}},\"type\":\"table\"}]},\"layout\":{\"annotationdefaults\":{\"arrowcolor\":\"#2a3f5f\",\"arrowhead\":0,\"arrowwidth\":1},\"autotypenumbers\":\"strict\",\"coloraxis\":{\"colorbar\":{\"outlinewidth\":0,\"ticks\":\"\"}},\"colorscale\":{\"diverging\":[[0,\"#8e0152\"],[0.1,\"#c51b7d\"],[0.2,\"#de77ae\"],[0.3,\"#f1b6da\"],[0.4,\"#fde0ef\"],[0.5,\"#f7f7f7\"],[0.6,\"#e6f5d0\"],[0.7,\"#b8e186\"],[0.8,\"#7fbc41\"],[0.9,\"#4d9221\"],[1,\"#276419\"]],\"sequential\":[[0.0,\"#0d0887\"],[0.1111111111111111,\"#46039f\"],[0.2222222222222222,\"#7201a8\"],[0.3333333333333333,\"#9c179e\"],[0.4444444444444444,\"#bd3786\"],[0.5555555555555556,\"#d8576b\"],[0.6666666666666666,\"#ed7953\"],[0.7777777777777778,\"#fb9f3a\"],[0.8888888888888888,\"#fdca26\"],[1.0,\"#f0f921\"]],\"sequentialminus\":[[0.0,\"#0d0887\"],[0.1111111111111111,\"#46039f\"],[0.2222222222222222,\"#7201a8\"],[0.3333333333333333,\"#9c179e\"],[0.4444444444444444,\"#bd3786\"],[0.5555555555555556,\"#d8576b\"],[0.6666666666666666,\"#ed7953\"],[0.7777777777777778,\"#fb9f3a\"],[0.8888888888888888,\"#fdca26\"],[1.0,\"#f0f921\"]]},\"colorway\":[\"#636efa\",\"#EF553B\",\"#00cc96\",\"#ab63fa\",\"#FFA15A\",\"#19d3f3\",\"#FF6692\",\"#B6E880\",\"#FF97FF\",\"#FECB52\"],\"font\":{\"color\":\"#2a3f5f\"},\"geo\":{\"bgcolor\":\"white\",\"lakecolor\":\"white\",\"landcolor\":\"white\",\"showlakes\":true,\"showland\":true,\"subunitcolor\":\"#C8D4E3\"},\"hoverlabel\":{\"align\":\"left\"},\"hovermode\":\"closest\",\"mapbox\":{\"style\":\"light\"},\"paper_bgcolor\":\"white\",\"plot_bgcolor\":\"white\",\"polar\":{\"angularaxis\":{\"gridcolor\":\"#EBF0F8\",\"linecolor\":\"#EBF0F8\",\"ticks\":\"\"},\"bgcolor\":\"white\",\"radialaxis\":{\"gridcolor\":\"#EBF0F8\",\"linecolor\":\"#EBF0F8\",\"ticks\":\"\"}},\"scene\":{\"xaxis\":{\"backgroundcolor\":\"white\",\"gridcolor\":\"#DFE8F3\",\"gridwidth\":2,\"linecolor\":\"#EBF0F8\",\"showbackground\":true,\"ticks\":\"\",\"zerolinecolor\":\"#EBF0F8\"},\"yaxis\":{\"backgroundcolor\":\"white\",\"gridcolor\":\"#DFE8F3\",\"gridwidth\":2,\"linecolor\":\"#EBF0F8\",\"showbackground\":true,\"ticks\":\"\",\"zerolinecolor\":\"#EBF0F8\"},\"zaxis\":{\"backgroundcolor\":\"white\",\"gridcolor\":\"#DFE8F3\",\"gridwidth\":2,\"linecolor\":\"#EBF0F8\",\"showbackground\":true,\"ticks\":\"\",\"zerolinecolor\":\"#EBF0F8\"}},\"shapedefaults\":{\"line\":{\"color\":\"#2a3f5f\"}},\"ternary\":{\"aaxis\":{\"gridcolor\":\"#DFE8F3\",\"linecolor\":\"#A2B1C6\",\"ticks\":\"\"},\"baxis\":{\"gridcolor\":\"#DFE8F3\",\"linecolor\":\"#A2B1C6\",\"ticks\":\"\"},\"bgcolor\":\"white\",\"caxis\":{\"gridcolor\":\"#DFE8F3\",\"linecolor\":\"#A2B1C6\",\"ticks\":\"\"}},\"title\":{\"x\":0.05},\"xaxis\":{\"automargin\":true,\"gridcolor\":\"#EBF0F8\",\"linecolor\":\"#EBF0F8\",\"ticks\":\"\",\"title\":{\"standoff\":15},\"zerolinecolor\":\"#EBF0F8\",\"zerolinewidth\":2},\"yaxis\":{\"automargin\":true,\"gridcolor\":\"#EBF0F8\",\"linecolor\":\"#EBF0F8\",\"ticks\":\"\",\"title\":{\"standoff\":15},\"zerolinecolor\":\"#EBF0F8\",\"zerolinewidth\":2}}},\"xaxis\":{\"anchor\":\"y\",\"domain\":[0.0,0.43333333333333335],\"range\":[-2,2],\"showgrid\":false},\"yaxis\":{\"anchor\":\"x\",\"domain\":[0.0,1.0]},\"xaxis2\":{\"anchor\":\"y2\",\"domain\":[0.5,0.7166666666666667],\"tickangle\":90,\"showgrid\":false},\"yaxis2\":{\"anchor\":\"x2\",\"domain\":[0.0,1.0]},\"xaxis3\":{\"anchor\":\"y3\",\"domain\":[0.7833333333333333,1.0],\"tickangle\":90,\"showgrid\":false},\"yaxis3\":{\"anchor\":\"x3\",\"domain\":[0.0,1.0]},\"annotations\":[{\"font\":{\"size\":16},\"showarrow\":false,\"text\":\"Matching Keywords\",\"x\":0.21666666666666667,\"xanchor\":\"center\",\"xref\":\"paper\",\"y\":1.0,\"yanchor\":\"bottom\",\"yref\":\"paper\"},{\"font\":{\"size\":16},\"showarrow\":false,\"text\":\"Missing Keywords\",\"x\":0.6083333333333334,\"xanchor\":\"center\",\"xref\":\"paper\",\"y\":1.0,\"yanchor\":\"bottom\",\"yref\":\"paper\"},{\"font\":{\"size\":16},\"showarrow\":false,\"text\":\"Job Specific Keywords\",\"x\":0.8916666666666666,\"xanchor\":\"center\",\"xref\":\"paper\",\"y\":1.0,\"yanchor\":\"bottom\",\"yref\":\"paper\"}],\"title\":{\"text\":\"Analyst/Associate, Systematic Strategies Group - CMF(unknown) | Keyword Coverage=76.47% | Weighted Average=2.39\"},\"width\":900,\"height\":500,\"showlegend\":false},                        {\"responsive\": true}                    ).then(function(){\n",
       "                            \n",
       "var gd = document.getElementById('9aeb7153-1d11-497a-98f9-f17ba27600bb');\n",
       "var x = new MutationObserver(function (mutations, observer) {{\n",
       "        var display = window.getComputedStyle(gd).display;\n",
       "        if (!display || display === 'none') {{\n",
       "            console.log([gd, 'removed!']);\n",
       "            Plotly.purge(gd);\n",
       "            observer.disconnect();\n",
       "        }}\n",
       "}});\n",
       "\n",
       "// Listen for the removal of the full notebook cells\n",
       "var notebookContainer = gd.closest('#notebook-container');\n",
       "if (notebookContainer) {{\n",
       "    x.observe(notebookContainer, {childList: true});\n",
       "}}\n",
       "\n",
       "// Listen for the clearing of the current output cell\n",
       "var outputEl = gd.closest('.output');\n",
       "if (outputEl) {{\n",
       "    x.observe(outputEl, {childList: true});\n",
       "}}\n",
       "\n",
       "                        })                };                });            </script>        </div>"
      ]
     },
     "metadata": {},
     "output_type": "display_data"
    }
   ],
   "source": [
    "plot_keyword_comparison(resume,jobs_ln[0],'data/terms.csv')"
   ]
  }
 ],
 "metadata": {
  "kernelspec": {
   "display_name": "Python 3 (ipykernel)",
   "language": "python",
   "name": "python3"
  },
  "language_info": {
   "codemirror_mode": {
    "name": "ipython",
    "version": 3
   },
   "file_extension": ".py",
   "mimetype": "text/x-python",
   "name": "python",
   "nbconvert_exporter": "python",
   "pygments_lexer": "ipython3",
   "version": "3.9.16"
  }
 },
 "nbformat": 4,
 "nbformat_minor": 5
}
