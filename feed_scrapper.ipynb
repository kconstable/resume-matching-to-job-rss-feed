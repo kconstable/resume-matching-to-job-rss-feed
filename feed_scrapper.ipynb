{
 "cells": [
  {
   "cell_type": "markdown",
   "id": "96717917-605e-4d34-a524-0bf1d8169c42",
   "metadata": {},
   "source": [
    "# Web Scrapping"
   ]
  },
  {
   "cell_type": "code",
   "execution_count": 1,
   "id": "40d817a5-989c-4f62-b6c3-84c4a8c01224",
   "metadata": {},
   "outputs": [],
   "source": [
    "from bs4 import BeautifulSoup\n",
    "import requests\n",
    "import os\n",
    "import PyPDF2 "
   ]
  },
  {
   "cell_type": "code",
   "execution_count": 2,
   "id": "da54b456-ac78-4228-8cdf-f9d52f9e4cd3",
   "metadata": {},
   "outputs": [],
   "source": [
    "def get_job_links(url_search,url_base):\n",
    "    \"\"\" \n",
    "    Return a list of links to jobs returned from the url_search link\n",
    "    \"\"\"\n",
    "    # use requests to get the search url contents, convert to a soup object\n",
    "    r = requests.get(url_search)\n",
    "    soup = BeautifulSoup(r.content)\n",
    "    \n",
    "    # extract the links from the job titles\n",
    "    jobs = soup.find_all(\"a\",{\"class\":\"SerpJob-titleLink\"})\n",
    "    \n",
    "    # return a list of job-links\n",
    "    job_links = []\n",
    "    for job in jobs:\n",
    "        job_links.append(f\"{url_base}{job.get('href')}\")\n",
    "    return job_links"
   ]
  },
  {
   "cell_type": "code",
   "execution_count": 3,
   "id": "0843800f-b340-4875-9664-6a854d275639",
   "metadata": {},
   "outputs": [],
   "source": [
    "def get_job_details(urls):\n",
    "    \"\"\"\n",
    "    \"\"\"\n",
    "    print(\"Scrapping RSS Job Search Feed\")\n",
    "    print(\"=\"*100)\n",
    "    job_detail = []\n",
    "    for url in urls:\n",
    "        try:\n",
    "            # get url content, convert to soup\n",
    "            r = requests.get(url)\n",
    "            soup = BeautifulSoup(r.content)\n",
    "\n",
    "            # extract content\n",
    "            title = soup.find(\"div\",{'class':'ViewJobHeaderTitle'}).text\n",
    "            company = soup.find(\"div\",{'class':'ViewJobHeaderCompany'}).text\n",
    "            location = soup.find(\"span\",{'class':'ViewJobHeaderPropertiesLocation'}).text\n",
    "            desc = soup.find(\"div\",{'class':'viewjob-description'}).text\n",
    "\n",
    "            # extract key words (skills, education, benefits)\n",
    "            keys = soup.find_all('li',{'class':'nav-item'})\n",
    "            key_words = [w.text for w in keys]\n",
    "\n",
    "            # build result-set\n",
    "            job_detail.append(\n",
    "                {'title':title,'company':company,'location':location,'desc':desc,'keywords':key_words}\n",
    "            )\n",
    "            # print progress\n",
    "            print(f\"  =>{title[:35]:{40}}| {company[:25]:{25}}| {location} | {key_words[:4]}...\")\n",
    "        except Exception as e:\n",
    "            print(\"   =>Skipping Job...\")\n",
    "            continue\n",
    "    print(\"=\"*100)\n",
    "    return job_detail"
   ]
  },
  {
   "cell_type": "code",
   "execution_count": 4,
   "id": "1ffd4492-eca7-40eb-b1d7-992ff8b14604",
   "metadata": {},
   "outputs": [
    {
     "name": "stdout",
     "output_type": "stream",
     "text": [
      "Scrapping RSS Job Search Feed\n",
      "====================================================================================================\n",
      "  =>Data Science Co-op (R&D) - Summer t     | Swift Medical            | Toronto, ON | [\"Master's degree\", \"Bachelor's\", 'Machine learning', 'Software development']...\n",
      "  =>Data Analyst - Operations               | Flair Airlines Ltd.      | Toronto, ON | [\"Bachelor's\", 'Power BI', 'Microsoft Excel', 'Business intelligence']...\n",
      "  =>Data Scientist II - Machine Learnin     | Credit Sesame            | Toronto, ON | ['Git', 'SQL', 'Machine learning', 'Python']...\n",
      "  =>Data Scientist                          | Wish                     | Toronto, ON | [\"Master's degree\", \"Bachelor's\", 'MongoDB', 'Tableau']...\n",
      "  =>Data Science Manager - Contract         | Scotiabank               | Toronto, ON | [\"Master's degree\", 'Microsoft Powerpoint', 'Microsoft Word', 'Power BI']...\n",
      "  =>Data Scientist II                       | TD Bank                  | Toronto, ON | [\"Bachelor's\", 'Data mining', 'SAS', 'R']...\n",
      "  =>Data Quality Analyst GEMINI Data Op     | St. Michael's Hospital   | Toronto, ON | [\"Bachelor's\", 'Microsoft Powerpoint', 'Microsoft Word', 'Microsoft Excel']...\n",
      "  =>Data Scientist (HYBRID)                 | Workplace Safety and Insu| Toronto, ON | ['Doctoral degree', \"Master's degree\", 'Computer science', 'Machine learning']...\n",
      "  =>Senior Data Analyst                     | Sun Life                 | Toronto, ON | [\"Master's degree\", \"Bachelor's\", 'Computer science', 'SAS']...\n",
      "  =>Staff Machine Learning Engineer         | Everbridge               | Toronto, ON | ['Doctoral degree', \"Bachelor's\", 'TensorFlow', 'Kubernetes']...\n",
      "  =>Senior Data Scientist, Trust & Safe     | Thumbtack                | Toronto, ON | [\"Master's degree\", \"Bachelor's\", 'Salesforce', 'R']...\n",
      "  =>Data Scientist - Climate/Weather        | RiskThinking.AI          | Toronto, ON | ['Doctoral degree', \"Master's degree\", 'MATLAB', 'R']...\n",
      "  =>Senior Microbiome Data Scientist        | Motion Recruitment       | Toronto, ON | ['Doctoral degree', 'Data analysis skills', 'Machine learning', 'Stock options']...\n",
      "  =>Senior Software Engineer, Machine L     | Ripple                   | Toronto, ON | ['Doctoral degree', \"Master's degree\", 'TensorFlow', 'Git']...\n",
      "  =>Sr. Data Analyst (Pharma)               | Tiger Analytics          | Toronto, ON | [\"Bachelor's\", 'Power BI', 'Azure', 'Data mining']...\n",
      "  =>Sales Analytics Manager                 | Sonder                   | Toronto, ON | ['Microsoft Excel', 'Salesforce', 'Tableau', 'SQL']...\n",
      "  =>Senior Product Manager, Growth Mark     | Angi                     | Toronto, ON | [\"Master's degree\", \"Bachelor's\", 'SQL', 'Analysis skills']...\n",
      "  =>ML Engineer                             | Lucrodyne                | Toronto, ON | ['Azure', 'Kubernetes', 'DevOps', 'AWS']...\n",
      "  =>Reporting and Analytics Senior Anal     | Equinix                  | Toronto, ON | [\"Bachelor's\", 'Microsoft Powerpoint', 'Power BI', 'Microsoft Excel']...\n",
      "  =>Senior Power BI Developer               | BMO Financial Group      | Toronto, ON | [\"Bachelor's\", 'Power BI', 'Microsoft Excel', 'Azure']...\n",
      "  =>Sr. IT Data Analyst                     | TD Bank                  | Toronto, ON | [\"Bachelor's\", 'Microsoft SQL Server', 'SQL', 'Metadata']...\n",
      "  =>Manager, Data & AI Risk                 | Scotiabank               | Toronto, ON | ['Post-secondary education', 'Analysis skills', 'Risk management', 'AI']...\n",
      "  =>Senior Customer Analytics Manager (     | Jobber                   | Toronto, ON | ['Data structures', 'SQL', 'SaaS', 'Communication skills']...\n",
      "  =>Senior Manager, Data and AI Risk        | Scotiabank               | Toronto, ON | ['Post-secondary education', 'Analysis skills', 'Data management', 'Financial services']...\n",
      "  =>Sr. Manager/ Associate Director - P     | Tiger Analytics          | Toronto, ON | [\"Master's degree\", 'Project management', 'Machine learning', 'Team management']...\n",
      "====================================================================================================\n"
     ]
    }
   ],
   "source": [
    "\n",
    "url_search = 'https://www.workopolis.com/jobsearch/find-jobs?l=Toronto%2C%20ON&ak=data%20science%20-intern&t=7&sr=10&s=r&job=zD_1ItN-5JXVPUCwXgZvg_joKB7qyQNp5ttncJBtECQ1FoqVIwMR8znJuj3fF7lK'\n",
    "url_base  ='https://www.workopolis.com'\n",
    "\n",
    "job_links = get_job_links(url_search, url_base)\n",
    "job_details = get_job_details(job_links)\n"
   ]
  },
  {
   "cell_type": "markdown",
   "id": "0b3ec096-153f-441b-b6a9-ac12801340f9",
   "metadata": {},
   "source": [
    "# NLP"
   ]
  },
  {
   "cell_type": "code",
   "execution_count": 139,
   "id": "a2aa22d7-33db-4b80-8766-781a7e862dac",
   "metadata": {},
   "outputs": [
    {
     "name": "stderr",
     "output_type": "stream",
     "text": [
      "[nltk_data] Downloading package punkt to /home/ken/nltk_data...\n",
      "[nltk_data]   Package punkt is already up-to-date!\n"
     ]
    }
   ],
   "source": [
    "# Sumy\n",
    "import sumy\n",
    "from sumy.parsers.plaintext import PlaintextParser\n",
    "from sumy.nlp.tokenizers import Tokenizer\n",
    "from sumy.summarizers.lex_rank import LexRankSummarizer\n",
    "from sumy.summarizers.text_rank import TextRankSummarizer\n",
    "from sumy.summarizers.lsa import LsaSummarizer\n",
    "from sumy.nlp.stemmers import Stemmer\n",
    "from sumy.utils import get_stop_words\n",
    "import nltk # required for sumy\n",
    "nltk.download('punkt') # required for sumy\n",
    "\n",
    "# spacy\n",
    "import spacy\n",
    "from spacy import displacy\n",
    "NLP = spacy.load('en_core_web_lg')\n",
    "from spacy.matcher import PhraseMatcher\n",
    "# from spacy.matcher import Matcher\n",
    "\n",
    "from sklearn.feature_extraction.text import TfidfVectorizer\n",
    "from sklearn.metrics.pairwise import cosine_similarity\n",
    "\n",
    "\n",
    "from tabulate import tabulate\n",
    "from collections import Counter\n",
    "import docx2txt\n",
    "import pandas as pd\n",
    "import plotly.graph_objects as go\n",
    "from plotly.subplots import make_subplots"
   ]
  },
  {
   "cell_type": "markdown",
   "id": "aa6762db-82e3-49a4-a464-7ca26ce353bd",
   "metadata": {},
   "source": [
    "# Resume Scrapping"
   ]
  },
  {
   "cell_type": "code",
   "execution_count": 6,
   "id": "cc289dc5-345f-414f-b863-b6fc149c3ad7",
   "metadata": {},
   "outputs": [],
   "source": [
    "def get_resume_text(path,print_text=True):\n",
    "    \"\"\" \n",
    "    Read resume text content from file (pdf or docx)\n",
    "    Params:\n",
    "        path: string- path to the resume file\n",
    "        print_text: boolean.  Prints the text\n",
    "    Returns: A text object with the resume file content\n",
    "    \"\"\"\n",
    "    \n",
    "    # open file and get file extension\n",
    "    file = open(path,'rb')\n",
    "    file_name, file_ext = os.path.splitext(path)\n",
    "    \n",
    "    # extract text content\n",
    "    if file_ext=='.pdf':\n",
    "        # read pdf\n",
    "        pdf = PyPDF2.PdfFileReader(file)\n",
    "        \n",
    "        text = \"\"\"\"\"\"\n",
    "        for page_num in range(pdf.numPages):\n",
    "            page = pdf.getPage(page_num)\n",
    "            content = page.extract_text()\n",
    "            text += content\n",
    "    elif file_ext=='.docx':\n",
    "        text = docx2txt.process(file)\n",
    "    \n",
    "    if print_text:\n",
    "        print(text)\n",
    "\n",
    "    file.close()\n",
    "    return text"
   ]
  },
  {
   "cell_type": "code",
   "execution_count": 7,
   "id": "7f41a55e-b1bb-455f-8dd7-1add3e132f4e",
   "metadata": {},
   "outputs": [],
   "source": [
    "r1 = get_resume_text('data/resume.docx',False)"
   ]
  },
  {
   "cell_type": "code",
   "execution_count": 8,
   "id": "9f1a91bc-c82a-4b6a-a4d4-6eae04a1ae52",
   "metadata": {},
   "outputs": [],
   "source": [
    "def show_pos(text):    \n",
    "    \"\"\"Extracts POS from a spacy document and prints the results\"\"\"\n",
    "    d=[]\n",
    "    for token in doc:\n",
    "        d.append({\n",
    "            \"Token\":token.text,\n",
    "            \"POS\":token.pos_,\n",
    "            \"POS-Desc\":spacy.explain(token.pos_),\n",
    "            \"Lemma\":token.lemma_,\n",
    "            \"Stop-Word\":token.is_stop,\n",
    "            \"POS-Detail\":token.tag_,\n",
    "            \"POS-Detail-Desc\":spacy.explain(token.tag_)\n",
    "            }\n",
    "        )\n",
    "    print(tabulate(d,headers=\"keys\",tablefmt=\"github\"))"
   ]
  },
  {
   "cell_type": "code",
   "execution_count": 9,
   "id": "67d02fd5-2d35-4237-aa72-56f2791401e4",
   "metadata": {},
   "outputs": [],
   "source": [
    "def show_entities(doc,display=True):\n",
    "    \"\"\"Print a list of named entities and their descriptions\"\"\"\n",
    "    d=[]\n",
    "    if doc.ents:\n",
    "        for entity in doc.ents:\n",
    "            d.append({\n",
    "                \"Word\":entity,\n",
    "                \"Entity\":entity.label_,\n",
    "                \"Start\":entity.start,\n",
    "                \"Stop\":entity.end,\n",
    "                \"Entity-Desc\":spacy.explain(entity.label_),\n",
    "                }\n",
    "            )\n",
    "        if display:\n",
    "            print(tabulate(d,headers=\"keys\",tablefmt=\"github\"))\n",
    "            print(\"\\n\")\n",
    "            displacy.render(doc,style='ent',jupyter=True)\n",
    "            print(\"\\n\")\n",
    "    else:\n",
    "        print(\"no entities found\")\n",
    "    return d   "
   ]
  },
  {
   "cell_type": "code",
   "execution_count": 10,
   "id": "d6da233e-ee54-49d6-8d69-9d1925a098d4",
   "metadata": {},
   "outputs": [],
   "source": [
    "def attr_counts(doc,att):\n",
    "    \"\"\"Return a table of counts by attributes\"\"\"\n",
    "    if att.lower() == 'pos':\n",
    "        cnts = doc.count_by(spacy.attrs.POS)\n",
    "    elif att.lower() =='tag':\n",
    "        cnts = doc.count_by(spacy.attrs.TAG)\n",
    "    elif att.lower() =='lemma':\n",
    "        cnts = doc.count_by(spacy.attrs.LEMMA)\n",
    "    elif att.lower() =='entity':\n",
    "        cnts = doc.count_by(spacy.attrs.ENT_TYPE)\n",
    "    elif att.lower() =='email':\n",
    "        cnts = doc.count_by(spacy.attrs.LIKE_EMAIL)\n",
    "    elif att.lower() =='url':\n",
    "        cnts = doc.count_by(spacy.attrs.LIKE_URL)\n",
    "    elif att.lower() =='currency':\n",
    "        cnts = doc.count_by(spacy.attrs.IS_CURRENCY)\n",
    "    elif att.lower() =='numbers':\n",
    "        cnts = doc.count_by(spacy.attrs.IS_DIGIT)\n",
    "        \n",
    "    # lookup attribute name\n",
    "    d = {doc.vocab[k].text:v for k,v in cnts.items()}\n",
    "    return d"
   ]
  },
  {
   "cell_type": "code",
   "execution_count": 11,
   "id": "c570dc14-5d62-45c0-a329-952a0bd4d2e5",
   "metadata": {},
   "outputs": [],
   "source": [
    "def get_text_summary(text,text_source,summarizer,num_sentences,print_summary=True):\n",
    "    \"\"\"\n",
    "    Generate a text summary from a document (extractive)\n",
    "    Params:\n",
    "        text: plain text or path to a document\n",
    "        text_source: text or file\n",
    "        summarizer: text-summarization method. lex-rank, text-rank,lsa\n",
    "        num_sentences: Number of summary sentences to generate\n",
    "        print_summary: T/F\n",
    "    Returns:\n",
    "        A list of sentences.\n",
    "    \"\"\"\n",
    "    # Create parser from text-source\n",
    "    if text_source=='text':\n",
    "        parser = PlaintextParser.from_string(text,Tokenizer('english'))\n",
    "    elif text_source=='file':\n",
    "        parser = PlaintextParser.from_file(text,Tokenizer('english'))\n",
    "    else:\n",
    "        raise Exception(f\"text source must be 'text' or 'file'!\")\n",
    "        \n",
    "    # Select summarizer method\n",
    "    if summarizer=='lex-rank':\n",
    "        # Lex Rank:  A graph-based summarization method that uses keyword extractions\n",
    "        s = LexRankSummarizer()\n",
    "    elif summarizer=='text-rank':\n",
    "        # Text rank: A graph-based summarization method that uses keyword extractions\n",
    "        s = TextRankSummarizer()\n",
    "    elif summarizer=='lsa':\n",
    "        # Latent semantic analysis \n",
    "        # Combines term frequency with singular value decomposition\n",
    "        s = LsaSummarizer(Stemmer(\"english\"))\n",
    "        s.stop_words = get_stop_words(\"english\")\n",
    "    else:\n",
    "        raise Exception(f\"Summarizer must be 'lex-rank','luhn','text-rank' or 'lsa'!\")\n",
    "    \n",
    "    # create summary\n",
    "    summary = s(parser.document,num_sentences)\n",
    "    \n",
    "    # print summary\n",
    "    if print_summary:\n",
    "        print(f'Text Summary:Top {num_sentences} sentences using a {summarizer} summarizer')\n",
    "        print('='*100)\n",
    "        for sentence in summary:\n",
    "            print(sentence)\n",
    "        print('='*100,'\\n')\n",
    "    return s"
   ]
  },
  {
   "cell_type": "code",
   "execution_count": 74,
   "id": "76395934-d1eb-4878-8e9a-a8b875ce0638",
   "metadata": {},
   "outputs": [],
   "source": [
    "# def extract_keywords(text,num, print_words=True):\n",
    "#     \"\"\"\n",
    "#     Extracts keywords from a text object.  Ignores common job positng phrases\n",
    "#     Params:\n",
    "#         text: string text object\n",
    "#         num: integer.  The number of keywords to extract\n",
    "#         print_words: boolean. Prints the output\n",
    "#     Returns: A list of the top keywords in the text object\n",
    "#     \"\"\"\n",
    "#     words = []\n",
    "#     pos = ['NOUN','PROPN']\n",
    "#     common_job_keys = ['experience','job','ability','posting','process','date','stakeholders','skills','solutions','project']\n",
    "#     tokens = NLP(text.lower())\n",
    "    \n",
    "#     for token in tokens:\n",
    "#         if (token.text not in NLP.Defaults.stop_words and token.text.lower() not in common_job_keys and token.pos_ in pos):\n",
    "#             words.append(token.text)\n",
    "            \n",
    "#     # get the top keywords by frequency\n",
    "#     keyword_frequency = [word for word in Counter(words).most_common(num)]\n",
    "#     keywords = [word[0] for word in keyword_frequency]\n",
    "    \n",
    "#     if print_words:\n",
    "#         print(keyword_frequency)\n",
    "#     return keywords            "
   ]
  },
  {
   "cell_type": "code",
   "execution_count": 26,
   "id": "f1526ff2-82bc-4cb2-9e5f-ce9e600ab9d9",
   "metadata": {},
   "outputs": [],
   "source": [
    "def preprocess_text(text):\n",
    "    \"\"\"\n",
    "    Preprocess text documents in preparation for analysis\n",
    "    Params:\n",
    "        text: a text object\n",
    "    Returns: \n",
    "        A text object after converting to lowercase lemmas, removing stop-words,punctuation, numbers, and emails\n",
    "    \"\"\"\n",
    "    \n",
    "    # replace carriage returns and convert to lowercase\n",
    "    doc = text.replace(\"\\n\",\"\").replace(\"  \",\"\").lower()\n",
    "    \n",
    "    # tokenize\n",
    "    tokens = NLP(doc)\n",
    "\n",
    "    text_list = []\n",
    "    for token in tokens:\n",
    "        if token.text in NLP.Defaults.stop_words:\n",
    "            continue\n",
    "        if token.is_punct:\n",
    "            continue\n",
    "        if token.is_digit:\n",
    "            continue\n",
    "        if token.like_email:\n",
    "            continue\n",
    "        if token.lemma_=='-PRON-':\n",
    "            continue\n",
    "            \n",
    "        # lemmetize\n",
    "        text_list.append(token.lemma_)\n",
    "    return \" \".join(text_list)"
   ]
  },
  {
   "cell_type": "code",
   "execution_count": 27,
   "id": "27695ea1-e61a-4308-b5dc-f3d28ac5d4ea",
   "metadata": {},
   "outputs": [],
   "source": [
    "def calc_similarity(doc1,doc2):\n",
    "    \"\"\" \n",
    "    Calculate the cosine similarity between two documents\n",
    "    Params:\n",
    "        doc1 - text document \n",
    "        doc2 - text document\n",
    "    Returns: The cosine similairty score between the documents\n",
    "    \"\"\"\n",
    "    d1 = preprocess_text(doc1)\n",
    "    d2 = preprocess_text(doc2)\n",
    "    \n",
    "    X = TfidfVectorizer().fit_transform([d1,d2])\n",
    "    score = cosine_similarity(X[0],X[1])\n",
    "    return score[0][0]"
   ]
  },
  {
   "cell_type": "code",
   "execution_count": 28,
   "id": "f8cb1864-92bb-4ff7-bde8-ba4f8ed44867",
   "metadata": {},
   "outputs": [],
   "source": [
    "def calc_similarities(resume, jobs):\n",
    "    \"\"\" \n",
    "    Calculate the cosine similarity between a resume and a list of job descriptions\n",
    "    Params:\n",
    "        resume: a resume (text)\n",
    "        jobs: a dictionary of jobs listings (output from get_job_details)\n",
    "    Returns: A dataframe of job title, company, location and similarity score\n",
    "    \"\"\"\n",
    "    scores = []\n",
    "    titles = []\n",
    "    companies =[]\n",
    "    locs = []\n",
    "    for job in jobs:\n",
    "        titles.append(job['title'])\n",
    "        companies.append(job['company'])\n",
    "        locs.append(job['location'])\n",
    "        scores.append(calc_similarity(resume, job['desc']))\n",
    "    \n",
    "    df = pd.DataFrame(list(zip(titles, companies,locs,scores)),columns = ['title','company','location','similarity-score'])\n",
    "    \n",
    "    return df.sort_values(by=['similarity-score'], ascending=False)"
   ]
  },
  {
   "cell_type": "code",
   "execution_count": 29,
   "id": "f374ee85-2742-4dff-a3f7-aadec001b16c",
   "metadata": {},
   "outputs": [
    {
     "data": {
      "text/html": [
       "<div>\n",
       "<style scoped>\n",
       "    .dataframe tbody tr th:only-of-type {\n",
       "        vertical-align: middle;\n",
       "    }\n",
       "\n",
       "    .dataframe tbody tr th {\n",
       "        vertical-align: top;\n",
       "    }\n",
       "\n",
       "    .dataframe thead th {\n",
       "        text-align: right;\n",
       "    }\n",
       "</style>\n",
       "<table border=\"1\" class=\"dataframe\">\n",
       "  <thead>\n",
       "    <tr style=\"text-align: right;\">\n",
       "      <th></th>\n",
       "      <th>title</th>\n",
       "      <th>company</th>\n",
       "      <th>location</th>\n",
       "      <th>similarity-score</th>\n",
       "    </tr>\n",
       "  </thead>\n",
       "  <tbody>\n",
       "    <tr>\n",
       "      <th>20</th>\n",
       "      <td>Sr. IT Data Analyst</td>\n",
       "      <td>TD Bank</td>\n",
       "      <td>Toronto, ON</td>\n",
       "      <td>0.336437</td>\n",
       "    </tr>\n",
       "    <tr>\n",
       "      <th>14</th>\n",
       "      <td>Sr. Data Analyst (Pharma)</td>\n",
       "      <td>Tiger Analytics</td>\n",
       "      <td>Toronto, ON</td>\n",
       "      <td>0.267301</td>\n",
       "    </tr>\n",
       "    <tr>\n",
       "      <th>4</th>\n",
       "      <td>Data Science Manager - Contract</td>\n",
       "      <td>Scotiabank</td>\n",
       "      <td>Toronto, ON</td>\n",
       "      <td>0.258833</td>\n",
       "    </tr>\n",
       "    <tr>\n",
       "      <th>3</th>\n",
       "      <td>Data Scientist</td>\n",
       "      <td>Wish</td>\n",
       "      <td>Toronto, ON</td>\n",
       "      <td>0.249669</td>\n",
       "    </tr>\n",
       "    <tr>\n",
       "      <th>23</th>\n",
       "      <td>Senior Manager, Data and AI Risk</td>\n",
       "      <td>Scotiabank</td>\n",
       "      <td>Toronto, ON</td>\n",
       "      <td>0.228092</td>\n",
       "    </tr>\n",
       "    <tr>\n",
       "      <th>19</th>\n",
       "      <td>Senior Power BI Developer</td>\n",
       "      <td>BMO Financial Group</td>\n",
       "      <td>Toronto, ON</td>\n",
       "      <td>0.227275</td>\n",
       "    </tr>\n",
       "    <tr>\n",
       "      <th>5</th>\n",
       "      <td>Data Scientist II</td>\n",
       "      <td>TD Bank</td>\n",
       "      <td>Toronto, ON</td>\n",
       "      <td>0.225390</td>\n",
       "    </tr>\n",
       "    <tr>\n",
       "      <th>7</th>\n",
       "      <td>Data Scientist (HYBRID)</td>\n",
       "      <td>Workplace Safety and Insurance Board</td>\n",
       "      <td>Toronto, ON</td>\n",
       "      <td>0.222095</td>\n",
       "    </tr>\n",
       "    <tr>\n",
       "      <th>8</th>\n",
       "      <td>Senior Data Analyst</td>\n",
       "      <td>Sun Life</td>\n",
       "      <td>Toronto, ON</td>\n",
       "      <td>0.221648</td>\n",
       "    </tr>\n",
       "    <tr>\n",
       "      <th>1</th>\n",
       "      <td>Data Analyst - Operations</td>\n",
       "      <td>Flair Airlines Ltd.</td>\n",
       "      <td>Toronto, ON</td>\n",
       "      <td>0.221136</td>\n",
       "    </tr>\n",
       "    <tr>\n",
       "      <th>6</th>\n",
       "      <td>Data Quality Analyst GEMINI Data Ops</td>\n",
       "      <td>St. Michael's Hospital</td>\n",
       "      <td>Toronto, ON</td>\n",
       "      <td>0.212010</td>\n",
       "    </tr>\n",
       "    <tr>\n",
       "      <th>11</th>\n",
       "      <td>Data Scientist - Climate/Weather</td>\n",
       "      <td>RiskThinking.AI</td>\n",
       "      <td>Toronto, ON</td>\n",
       "      <td>0.207322</td>\n",
       "    </tr>\n",
       "    <tr>\n",
       "      <th>10</th>\n",
       "      <td>Senior Data Scientist, Trust &amp; Safety and Supp...</td>\n",
       "      <td>Thumbtack</td>\n",
       "      <td>Toronto, ON</td>\n",
       "      <td>0.200751</td>\n",
       "    </tr>\n",
       "    <tr>\n",
       "      <th>2</th>\n",
       "      <td>Data Scientist II - Machine Learning</td>\n",
       "      <td>Credit Sesame</td>\n",
       "      <td>Toronto, ON</td>\n",
       "      <td>0.198176</td>\n",
       "    </tr>\n",
       "    <tr>\n",
       "      <th>16</th>\n",
       "      <td>Senior Product Manager, Growth Marketing &amp; Ana...</td>\n",
       "      <td>Angi</td>\n",
       "      <td>Toronto, ON</td>\n",
       "      <td>0.185662</td>\n",
       "    </tr>\n",
       "    <tr>\n",
       "      <th>22</th>\n",
       "      <td>Senior Customer Analytics Manager (Revenue &amp; C...</td>\n",
       "      <td>Jobber</td>\n",
       "      <td>Toronto, ON</td>\n",
       "      <td>0.184786</td>\n",
       "    </tr>\n",
       "    <tr>\n",
       "      <th>15</th>\n",
       "      <td>Sales Analytics Manager</td>\n",
       "      <td>Sonder</td>\n",
       "      <td>Toronto, ON</td>\n",
       "      <td>0.182413</td>\n",
       "    </tr>\n",
       "    <tr>\n",
       "      <th>13</th>\n",
       "      <td>Senior Software Engineer, Machine Learning</td>\n",
       "      <td>Ripple</td>\n",
       "      <td>Toronto, ON</td>\n",
       "      <td>0.176661</td>\n",
       "    </tr>\n",
       "    <tr>\n",
       "      <th>0</th>\n",
       "      <td>Data Science Co-op (R&amp;D) - Summer term</td>\n",
       "      <td>Swift Medical</td>\n",
       "      <td>Toronto, ON</td>\n",
       "      <td>0.175958</td>\n",
       "    </tr>\n",
       "    <tr>\n",
       "      <th>12</th>\n",
       "      <td>Senior Microbiome Data Scientist</td>\n",
       "      <td>Motion Recruitment</td>\n",
       "      <td>Toronto, ON</td>\n",
       "      <td>0.164829</td>\n",
       "    </tr>\n",
       "    <tr>\n",
       "      <th>18</th>\n",
       "      <td>Reporting and Analytics Senior Analyst</td>\n",
       "      <td>Equinix</td>\n",
       "      <td>Toronto, ON</td>\n",
       "      <td>0.159788</td>\n",
       "    </tr>\n",
       "    <tr>\n",
       "      <th>9</th>\n",
       "      <td>Staff Machine Learning Engineer</td>\n",
       "      <td>Everbridge</td>\n",
       "      <td>Toronto, ON</td>\n",
       "      <td>0.159677</td>\n",
       "    </tr>\n",
       "    <tr>\n",
       "      <th>21</th>\n",
       "      <td>Manager, Data &amp; AI Risk</td>\n",
       "      <td>Scotiabank</td>\n",
       "      <td>Toronto, ON</td>\n",
       "      <td>0.147874</td>\n",
       "    </tr>\n",
       "    <tr>\n",
       "      <th>24</th>\n",
       "      <td>Sr. Manager/ Associate Director - Pricing Anal...</td>\n",
       "      <td>Tiger Analytics</td>\n",
       "      <td>Toronto, ON</td>\n",
       "      <td>0.143760</td>\n",
       "    </tr>\n",
       "    <tr>\n",
       "      <th>17</th>\n",
       "      <td>ML Engineer</td>\n",
       "      <td>Lucrodyne</td>\n",
       "      <td>Toronto, ON</td>\n",
       "      <td>0.106527</td>\n",
       "    </tr>\n",
       "  </tbody>\n",
       "</table>\n",
       "</div>"
      ],
      "text/plain": [
       "                                                title  \\\n",
       "20                                Sr. IT Data Analyst   \n",
       "14                          Sr. Data Analyst (Pharma)   \n",
       "4                     Data Science Manager - Contract   \n",
       "3                                      Data Scientist   \n",
       "23                   Senior Manager, Data and AI Risk   \n",
       "19                          Senior Power BI Developer   \n",
       "5                                   Data Scientist II   \n",
       "7                             Data Scientist (HYBRID)   \n",
       "8                                 Senior Data Analyst   \n",
       "1                           Data Analyst - Operations   \n",
       "6                Data Quality Analyst GEMINI Data Ops   \n",
       "11                   Data Scientist - Climate/Weather   \n",
       "10  Senior Data Scientist, Trust & Safety and Supp...   \n",
       "2                Data Scientist II - Machine Learning   \n",
       "16  Senior Product Manager, Growth Marketing & Ana...   \n",
       "22  Senior Customer Analytics Manager (Revenue & C...   \n",
       "15                            Sales Analytics Manager   \n",
       "13         Senior Software Engineer, Machine Learning   \n",
       "0              Data Science Co-op (R&D) - Summer term   \n",
       "12                   Senior Microbiome Data Scientist   \n",
       "18             Reporting and Analytics Senior Analyst   \n",
       "9                     Staff Machine Learning Engineer   \n",
       "21                            Manager, Data & AI Risk   \n",
       "24  Sr. Manager/ Associate Director - Pricing Anal...   \n",
       "17                                        ML Engineer   \n",
       "\n",
       "                                 company     location  similarity-score  \n",
       "20                               TD Bank  Toronto, ON          0.336437  \n",
       "14                       Tiger Analytics  Toronto, ON          0.267301  \n",
       "4                             Scotiabank  Toronto, ON          0.258833  \n",
       "3                                   Wish  Toronto, ON          0.249669  \n",
       "23                            Scotiabank  Toronto, ON          0.228092  \n",
       "19                   BMO Financial Group  Toronto, ON          0.227275  \n",
       "5                                TD Bank  Toronto, ON          0.225390  \n",
       "7   Workplace Safety and Insurance Board  Toronto, ON          0.222095  \n",
       "8                               Sun Life  Toronto, ON          0.221648  \n",
       "1                    Flair Airlines Ltd.  Toronto, ON          0.221136  \n",
       "6                 St. Michael's Hospital  Toronto, ON          0.212010  \n",
       "11                       RiskThinking.AI  Toronto, ON          0.207322  \n",
       "10                             Thumbtack  Toronto, ON          0.200751  \n",
       "2                          Credit Sesame  Toronto, ON          0.198176  \n",
       "16                                  Angi  Toronto, ON          0.185662  \n",
       "22                                Jobber  Toronto, ON          0.184786  \n",
       "15                                Sonder  Toronto, ON          0.182413  \n",
       "13                                Ripple  Toronto, ON          0.176661  \n",
       "0                          Swift Medical  Toronto, ON          0.175958  \n",
       "12                    Motion Recruitment  Toronto, ON          0.164829  \n",
       "18                               Equinix  Toronto, ON          0.159788  \n",
       "9                             Everbridge  Toronto, ON          0.159677  \n",
       "21                            Scotiabank  Toronto, ON          0.147874  \n",
       "24                       Tiger Analytics  Toronto, ON          0.143760  \n",
       "17                             Lucrodyne  Toronto, ON          0.106527  "
      ]
     },
     "execution_count": 29,
     "metadata": {},
     "output_type": "execute_result"
    }
   ],
   "source": [
    "calc_similarities(r1,job_details)"
   ]
  },
  {
   "cell_type": "code",
   "execution_count": 12,
   "id": "4a4efca1-c69d-43af-a879-5b5623e34af8",
   "metadata": {},
   "outputs": [],
   "source": [
    "def get_terms(path):\n",
    "    \"\"\"\n",
    "    Read a csv of data science terms & return themn as a list\n",
    "    Params: path -string\n",
    "    Returns: A list of terms\n",
    "    \"\"\"\n",
    "    with open(path,'r') as f:\n",
    "        lst = [line.lower().strip() for line in f.readlines()]\n",
    "    return set(lst)"
   ]
  },
  {
   "cell_type": "code",
   "execution_count": 77,
   "id": "caab14fa",
   "metadata": {},
   "outputs": [],
   "source": [
    "def get_phrases_from_keywords(keywords):\n",
    "    lst = []\n",
    "    for keyword in keywords:\n",
    "        if \" \" in keyword:\n",
    "            lst.append(keyword.lower().replace(\" \",\"-\"))\n",
    "        lst.append(keyword.lower())\n",
    "    return set(lst)"
   ]
  },
  {
   "cell_type": "code",
   "execution_count": 206,
   "id": "d8881c92",
   "metadata": {},
   "outputs": [],
   "source": [
    "def get_phrase_matches(keywords,text):\n",
    "    \"\"\"\n",
    "    spacy 3.5 has a built in fuzzy matching option\n",
    "    \"\"\"\n",
    "    # when spacy 3.5 is available on anaconda\n",
    "#     matcher = Matcher(NLP.vocab)\n",
    "#     patterns = [{\"TEXT\": {\"FUZZY\": \"modelling\"}},{\"TEXT\": {\"FUZZY\": \"machine learning\"}}]\n",
    "\n",
    "    # get the term list\n",
    "    terms = get_phrases_from_keywords(keywords)\n",
    "    \n",
    "    # convert text to tokens\n",
    "    doc = NLP(text.lower())\n",
    "\n",
    "    # phrase matching\n",
    "    patterns = [NLP(text) for text in terms]\n",
    "\n",
    "    # add to matcher\n",
    "    matcher = PhraseMatcher(NLP.vocab)\n",
    "    matcher.add('KEYWORDS',patterns)\n",
    "\n",
    "    # search for phrase matches\n",
    "    found_matches = matcher(doc)\n",
    "\n",
    "    matched_phrases = []\n",
    "    for match_id, start, end in found_matches:\n",
    "        matched_phrases.append(doc[start:end].text)\n",
    "\n",
    "    return dict(Counter(matched_phrases)) "
   ]
  },
  {
   "cell_type": "code",
   "execution_count": 264,
   "id": "e5c8320b",
   "metadata": {},
   "outputs": [],
   "source": [
    "def compare_keywords(resume,job,keyword_path):\n",
    "    \"\"\"\n",
    "    \"\"\"\n",
    "    # path to csv of terms\n",
    "    keys = get_phrases_from_keywords(get_terms(keyword_path))\n",
    "    \n",
    "    # match phrases\n",
    "    matches_resume = get_phrase_matches(keys,resume)\n",
    "    matches_job = get_phrase_matches(keys,job)\n",
    "\n",
    "    # convert to dataframes\n",
    "    df_resume = pd.DataFrame.from_dict(matches_resume,orient='index',columns=['resume'])\n",
    "    df_job = pd.DataFrame.from_dict(matches_job,orient='index',columns=['job'])\n",
    "    \n",
    "    # combine results & sort by job keywords\n",
    "    df = df_job.join(df_resume)\n",
    "    df.sort_values(by=['job'], ascending=False,inplace=True)\n",
    "    \n",
    "    # calculate the weighted difference in keyword frequencies\n",
    "    df['wt'] = df['job']/df['job'].sum()\n",
    "    df['wt-score'] = df['wt']*(df['resume']-df['job'])\n",
    "    score = df['wt-score'].sum()\n",
    "    \n",
    "    return df, score"
   ]
  },
  {
   "cell_type": "code",
   "execution_count": 245,
   "id": "54d8c7e9",
   "metadata": {},
   "outputs": [],
   "source": [
    "def compare_job_specific_keywords(resume, job_keywords):\n",
    "    \"\"\"\n",
    "    \"\"\"\n",
    "    # match phrases\n",
    "    matches = get_phrase_matches(job_keywords,resume)\n",
    "    \n",
    "    # add missing job keywords to the dict\n",
    "    for key in job_keywords:\n",
    "        if key.lower() in matches.keys():\n",
    "            continue\n",
    "        else:\n",
    "            matches[key.lower()]=0\n",
    "    \n",
    "    # convert to dateframe\n",
    "    df = pd.DataFrame.from_dict(matches,orient='index',columns=['resume'])\n",
    "    \n",
    "    return df"
   ]
  },
  {
   "cell_type": "code",
   "execution_count": 266,
   "id": "92266d0b",
   "metadata": {},
   "outputs": [
    {
     "name": "stdout",
     "output_type": "stream",
     "text": [
      "1.1851851851851851\n"
     ]
    },
    {
     "data": {
      "text/html": [
       "<div>\n",
       "<style scoped>\n",
       "    .dataframe tbody tr th:only-of-type {\n",
       "        vertical-align: middle;\n",
       "    }\n",
       "\n",
       "    .dataframe tbody tr th {\n",
       "        vertical-align: top;\n",
       "    }\n",
       "\n",
       "    .dataframe thead th {\n",
       "        text-align: right;\n",
       "    }\n",
       "</style>\n",
       "<table border=\"1\" class=\"dataframe\">\n",
       "  <thead>\n",
       "    <tr style=\"text-align: right;\">\n",
       "      <th></th>\n",
       "      <th>job</th>\n",
       "      <th>resume</th>\n",
       "      <th>wt</th>\n",
       "      <th>wt-score</th>\n",
       "    </tr>\n",
       "  </thead>\n",
       "  <tbody>\n",
       "    <tr>\n",
       "      <th>data science</th>\n",
       "      <td>9</td>\n",
       "      <td>1.0</td>\n",
       "      <td>0.333333</td>\n",
       "      <td>-2.666667</td>\n",
       "    </tr>\n",
       "    <tr>\n",
       "      <th>machine learning</th>\n",
       "      <td>4</td>\n",
       "      <td>10.0</td>\n",
       "      <td>0.148148</td>\n",
       "      <td>0.888889</td>\n",
       "    </tr>\n",
       "    <tr>\n",
       "      <th>models</th>\n",
       "      <td>3</td>\n",
       "      <td>16.0</td>\n",
       "      <td>0.111111</td>\n",
       "      <td>1.444444</td>\n",
       "    </tr>\n",
       "    <tr>\n",
       "      <th>ai</th>\n",
       "      <td>2</td>\n",
       "      <td>NaN</td>\n",
       "      <td>0.074074</td>\n",
       "      <td>NaN</td>\n",
       "    </tr>\n",
       "    <tr>\n",
       "      <th>predictive</th>\n",
       "      <td>2</td>\n",
       "      <td>3.0</td>\n",
       "      <td>0.074074</td>\n",
       "      <td>0.074074</td>\n",
       "    </tr>\n",
       "    <tr>\n",
       "      <th>analytics</th>\n",
       "      <td>1</td>\n",
       "      <td>4.0</td>\n",
       "      <td>0.037037</td>\n",
       "      <td>0.111111</td>\n",
       "    </tr>\n",
       "    <tr>\n",
       "      <th>computer vision</th>\n",
       "      <td>1</td>\n",
       "      <td>1.0</td>\n",
       "      <td>0.037037</td>\n",
       "      <td>0.000000</td>\n",
       "    </tr>\n",
       "    <tr>\n",
       "      <th>analysis</th>\n",
       "      <td>1</td>\n",
       "      <td>27.0</td>\n",
       "      <td>0.037037</td>\n",
       "      <td>0.962963</td>\n",
       "    </tr>\n",
       "    <tr>\n",
       "      <th>algorithms</th>\n",
       "      <td>1</td>\n",
       "      <td>NaN</td>\n",
       "      <td>0.037037</td>\n",
       "      <td>NaN</td>\n",
       "    </tr>\n",
       "    <tr>\n",
       "      <th>master’s degree</th>\n",
       "      <td>1</td>\n",
       "      <td>NaN</td>\n",
       "      <td>0.037037</td>\n",
       "      <td>NaN</td>\n",
       "    </tr>\n",
       "    <tr>\n",
       "      <th>software development</th>\n",
       "      <td>1</td>\n",
       "      <td>NaN</td>\n",
       "      <td>0.037037</td>\n",
       "      <td>NaN</td>\n",
       "    </tr>\n",
       "    <tr>\n",
       "      <th>python</th>\n",
       "      <td>1</td>\n",
       "      <td>11.0</td>\n",
       "      <td>0.037037</td>\n",
       "      <td>0.370370</td>\n",
       "    </tr>\n",
       "  </tbody>\n",
       "</table>\n",
       "</div>"
      ],
      "text/plain": [
       "                      job  resume        wt  wt-score\n",
       "data science            9     1.0  0.333333 -2.666667\n",
       "machine learning        4    10.0  0.148148  0.888889\n",
       "models                  3    16.0  0.111111  1.444444\n",
       "ai                      2     NaN  0.074074       NaN\n",
       "predictive              2     3.0  0.074074  0.074074\n",
       "analytics               1     4.0  0.037037  0.111111\n",
       "computer vision         1     1.0  0.037037  0.000000\n",
       "analysis                1    27.0  0.037037  0.962963\n",
       "algorithms              1     NaN  0.037037       NaN\n",
       "master’s degree         1     NaN  0.037037       NaN\n",
       "software development    1     NaN  0.037037       NaN\n",
       "python                  1    11.0  0.037037  0.370370"
      ]
     },
     "execution_count": 266,
     "metadata": {},
     "output_type": "execute_result"
    }
   ],
   "source": [
    "df,score = compare_keywords(r1,job_details[0]['desc'],'data/terms.csv')\n",
    "# spectral, diverging\n",
    "print(score)\n",
    "df"
   ]
  },
  {
   "cell_type": "code",
   "execution_count": null,
   "id": "00a5aed7",
   "metadata": {},
   "outputs": [],
   "source": [
    "\n"
   ]
  },
  {
   "cell_type": "code",
   "execution_count": 285,
   "id": "a2ce0da3-f535-4a82-a8c5-2075b5162b94",
   "metadata": {
    "scrolled": true
   },
   "outputs": [],
   "source": [
    "def plot_keyword_comparison(resume, job_details, keyword_path):\n",
    "    \"\"\" \n",
    "    Plot Job keywords vs Resume keywords\n",
    "    Params: df- dataframe output from compare_keywords\n",
    "    Returns: None\n",
    "    \"\"\"\n",
    "    \n",
    "    # compare common keywords, split into matches/no-matches\n",
    "    df,score = compare_keywords(resume,job_details['desc'],keyword_path)\n",
    "    df_missing  = df.query('resume.isnull()')\n",
    "    df_matching = df.query('~resume.isnull()')\n",
    "    \n",
    "    # compare to job specific keywords\n",
    "    df_spec = compare_job_specific_keywords(resume, job_details['keywords'])\n",
    "    \n",
    "    col_scale = [\n",
    "        [0,'rgba(252,76,1,0.9)'],\n",
    "        [0.25,'rgba(252,76,1,0.5)'],\n",
    "        [0.5,'rgba(83,128,141,0.25)'],\n",
    "        [0.75,'rgba(83,128,141,0.5)'],\n",
    "        [1.0,'rgba(83,128,141,0.9)']\n",
    "    ]\n",
    "    \n",
    "    # create plots\n",
    "    fig = make_subplots(\n",
    "        rows=1,\n",
    "        cols=3,\n",
    "        subplot_titles = ('Matching Keywords','Job Specific Keywords','Missing Keywords')\n",
    "    )\n",
    "    fig.add_trace(\n",
    "        go.Bar(\n",
    "            name='Weighted Frequency',\n",
    "            y = df_matching.index,\n",
    "            x = df_matching['wt-score'],\n",
    "            orientation='h',\n",
    "            marker = dict(color=df_matching['wt-score'],colorscale=col_scale)\n",
    "        ),row=1,col=1\n",
    "    )\n",
    "    fig.add_trace(\n",
    "        go.Bar(\n",
    "            name='Job Specific Keywords',\n",
    "            y = df_spec.index,\n",
    "            x = df_spec.resume,\n",
    "            orientation='h',\n",
    "            marker = dict(color='rgba(83,128,141,0.8)')\n",
    "        ),row=1,col=2\n",
    "    )\n",
    "    fig.add_trace(\n",
    "        go.Bar(\n",
    "            name='Missing Keywords',\n",
    "            y = df_missing.job,\n",
    "            x = df_missing.index,\n",
    "            marker = dict(color='rgba(252,76,1,0.8)')\n",
    "        ),row=1,col=3\n",
    "    )\n",
    "    fig.update_layout(\n",
    "        template='plotly_white',\n",
    "        title='Keyword Frequencies: Resume vs Job Posting',\n",
    "        width = 900,\n",
    "        height=500\n",
    "    )\n",
    "    fig.show()"
   ]
  },
  {
   "cell_type": "code",
   "execution_count": 286,
   "id": "e9b72fa4",
   "metadata": {},
   "outputs": [
    {
     "data": {
      "application/vnd.plotly.v1+json": {
       "config": {
        "plotlyServerURL": "https://plot.ly"
       },
       "data": [
        {
         "marker": {
          "color": [
           0.7058823529411764,
           -0.3529411764705882,
           0.08823529411764706,
           1.147058823529412,
           -0.17647058823529413,
           0.23529411764705882,
           1.4705882352941175,
           0.11764705882352941,
           0.058823529411764705,
           0.029411764705882353,
           0.29411764705882354,
           0.08823529411764705,
           0.8823529411764706,
           0,
           0.029411764705882353,
           0.029411764705882353
          ],
          "colorscale": [
           [
            0,
            "rgba(252,76,1,0.9)"
           ],
           [
            0.25,
            "rgba(252,76,1,0.5)"
           ],
           [
            0.5,
            "rgba(83,128,141,0.25)"
           ],
           [
            0.75,
            "rgba(83,128,141,0.5)"
           ],
           [
            1,
            "rgba(83,128,141,0.9)"
           ]
          ]
         },
         "name": "Weighted Frequency",
         "orientation": "h",
         "type": "bar",
         "x": [
          0.7058823529411764,
          -0.3529411764705882,
          0.08823529411764706,
          1.147058823529412,
          -0.17647058823529413,
          0.23529411764705882,
          1.4705882352941175,
          0.11764705882352941,
          0.058823529411764705,
          0.029411764705882353,
          0.29411764705882354,
          0.08823529411764705,
          0.8823529411764706,
          0,
          0.029411764705882353,
          0.029411764705882353
         ],
         "xaxis": "x",
         "y": [
          "machine learning",
          "leadership",
          "analytics",
          "models",
          "data science",
          "data mining",
          "analysis",
          "optimization",
          "predictive",
          "tableau",
          "python",
          "r",
          "sql",
          "statistics",
          "data scientist",
          "communication"
         ],
         "yaxis": "y"
        },
        {
         "marker": {
          "color": "rgba(83,128,141,0.8)"
         },
         "name": "Job Specific Keywords",
         "orientation": "h",
         "type": "bar",
         "x": [
          4,
          2,
          6,
          0,
          0,
          0
         ],
         "xaxis": "x2",
         "y": [
          "r",
          "tableau",
          "data mining",
          "bachelor's",
          "sas",
          "java"
         ],
         "yaxis": "y2"
        },
        {
         "marker": {
          "color": "rgba(252,76,1,0.8)"
         },
         "name": "Missing Keywords",
         "type": "bar",
         "x": [
          "sas",
          "scala",
          "java",
          "computer science"
         ],
         "xaxis": "x3",
         "y": [
          1,
          1,
          1,
          1
         ],
         "yaxis": "y3"
        }
       ],
       "layout": {
        "annotations": [
         {
          "font": {
           "size": 16
          },
          "showarrow": false,
          "text": "Matching Keywords",
          "x": 0.14444444444444446,
          "xanchor": "center",
          "xref": "paper",
          "y": 1,
          "yanchor": "bottom",
          "yref": "paper"
         },
         {
          "font": {
           "size": 16
          },
          "showarrow": false,
          "text": "Job Specific Keywords",
          "x": 0.5,
          "xanchor": "center",
          "xref": "paper",
          "y": 1,
          "yanchor": "bottom",
          "yref": "paper"
         },
         {
          "font": {
           "size": 16
          },
          "showarrow": false,
          "text": "Missing Keywords",
          "x": 0.8555555555555556,
          "xanchor": "center",
          "xref": "paper",
          "y": 1,
          "yanchor": "bottom",
          "yref": "paper"
         }
        ],
        "height": 500,
        "template": {
         "data": {
          "bar": [
           {
            "error_x": {
             "color": "#2a3f5f"
            },
            "error_y": {
             "color": "#2a3f5f"
            },
            "marker": {
             "line": {
              "color": "white",
              "width": 0.5
             },
             "pattern": {
              "fillmode": "overlay",
              "size": 10,
              "solidity": 0.2
             }
            },
            "type": "bar"
           }
          ],
          "barpolar": [
           {
            "marker": {
             "line": {
              "color": "white",
              "width": 0.5
             },
             "pattern": {
              "fillmode": "overlay",
              "size": 10,
              "solidity": 0.2
             }
            },
            "type": "barpolar"
           }
          ],
          "carpet": [
           {
            "aaxis": {
             "endlinecolor": "#2a3f5f",
             "gridcolor": "#C8D4E3",
             "linecolor": "#C8D4E3",
             "minorgridcolor": "#C8D4E3",
             "startlinecolor": "#2a3f5f"
            },
            "baxis": {
             "endlinecolor": "#2a3f5f",
             "gridcolor": "#C8D4E3",
             "linecolor": "#C8D4E3",
             "minorgridcolor": "#C8D4E3",
             "startlinecolor": "#2a3f5f"
            },
            "type": "carpet"
           }
          ],
          "choropleth": [
           {
            "colorbar": {
             "outlinewidth": 0,
             "ticks": ""
            },
            "type": "choropleth"
           }
          ],
          "contour": [
           {
            "colorbar": {
             "outlinewidth": 0,
             "ticks": ""
            },
            "colorscale": [
             [
              0,
              "#0d0887"
             ],
             [
              0.1111111111111111,
              "#46039f"
             ],
             [
              0.2222222222222222,
              "#7201a8"
             ],
             [
              0.3333333333333333,
              "#9c179e"
             ],
             [
              0.4444444444444444,
              "#bd3786"
             ],
             [
              0.5555555555555556,
              "#d8576b"
             ],
             [
              0.6666666666666666,
              "#ed7953"
             ],
             [
              0.7777777777777778,
              "#fb9f3a"
             ],
             [
              0.8888888888888888,
              "#fdca26"
             ],
             [
              1,
              "#f0f921"
             ]
            ],
            "type": "contour"
           }
          ],
          "contourcarpet": [
           {
            "colorbar": {
             "outlinewidth": 0,
             "ticks": ""
            },
            "type": "contourcarpet"
           }
          ],
          "heatmap": [
           {
            "colorbar": {
             "outlinewidth": 0,
             "ticks": ""
            },
            "colorscale": [
             [
              0,
              "#0d0887"
             ],
             [
              0.1111111111111111,
              "#46039f"
             ],
             [
              0.2222222222222222,
              "#7201a8"
             ],
             [
              0.3333333333333333,
              "#9c179e"
             ],
             [
              0.4444444444444444,
              "#bd3786"
             ],
             [
              0.5555555555555556,
              "#d8576b"
             ],
             [
              0.6666666666666666,
              "#ed7953"
             ],
             [
              0.7777777777777778,
              "#fb9f3a"
             ],
             [
              0.8888888888888888,
              "#fdca26"
             ],
             [
              1,
              "#f0f921"
             ]
            ],
            "type": "heatmap"
           }
          ],
          "heatmapgl": [
           {
            "colorbar": {
             "outlinewidth": 0,
             "ticks": ""
            },
            "colorscale": [
             [
              0,
              "#0d0887"
             ],
             [
              0.1111111111111111,
              "#46039f"
             ],
             [
              0.2222222222222222,
              "#7201a8"
             ],
             [
              0.3333333333333333,
              "#9c179e"
             ],
             [
              0.4444444444444444,
              "#bd3786"
             ],
             [
              0.5555555555555556,
              "#d8576b"
             ],
             [
              0.6666666666666666,
              "#ed7953"
             ],
             [
              0.7777777777777778,
              "#fb9f3a"
             ],
             [
              0.8888888888888888,
              "#fdca26"
             ],
             [
              1,
              "#f0f921"
             ]
            ],
            "type": "heatmapgl"
           }
          ],
          "histogram": [
           {
            "marker": {
             "pattern": {
              "fillmode": "overlay",
              "size": 10,
              "solidity": 0.2
             }
            },
            "type": "histogram"
           }
          ],
          "histogram2d": [
           {
            "colorbar": {
             "outlinewidth": 0,
             "ticks": ""
            },
            "colorscale": [
             [
              0,
              "#0d0887"
             ],
             [
              0.1111111111111111,
              "#46039f"
             ],
             [
              0.2222222222222222,
              "#7201a8"
             ],
             [
              0.3333333333333333,
              "#9c179e"
             ],
             [
              0.4444444444444444,
              "#bd3786"
             ],
             [
              0.5555555555555556,
              "#d8576b"
             ],
             [
              0.6666666666666666,
              "#ed7953"
             ],
             [
              0.7777777777777778,
              "#fb9f3a"
             ],
             [
              0.8888888888888888,
              "#fdca26"
             ],
             [
              1,
              "#f0f921"
             ]
            ],
            "type": "histogram2d"
           }
          ],
          "histogram2dcontour": [
           {
            "colorbar": {
             "outlinewidth": 0,
             "ticks": ""
            },
            "colorscale": [
             [
              0,
              "#0d0887"
             ],
             [
              0.1111111111111111,
              "#46039f"
             ],
             [
              0.2222222222222222,
              "#7201a8"
             ],
             [
              0.3333333333333333,
              "#9c179e"
             ],
             [
              0.4444444444444444,
              "#bd3786"
             ],
             [
              0.5555555555555556,
              "#d8576b"
             ],
             [
              0.6666666666666666,
              "#ed7953"
             ],
             [
              0.7777777777777778,
              "#fb9f3a"
             ],
             [
              0.8888888888888888,
              "#fdca26"
             ],
             [
              1,
              "#f0f921"
             ]
            ],
            "type": "histogram2dcontour"
           }
          ],
          "mesh3d": [
           {
            "colorbar": {
             "outlinewidth": 0,
             "ticks": ""
            },
            "type": "mesh3d"
           }
          ],
          "parcoords": [
           {
            "line": {
             "colorbar": {
              "outlinewidth": 0,
              "ticks": ""
             }
            },
            "type": "parcoords"
           }
          ],
          "pie": [
           {
            "automargin": true,
            "type": "pie"
           }
          ],
          "scatter": [
           {
            "fillpattern": {
             "fillmode": "overlay",
             "size": 10,
             "solidity": 0.2
            },
            "type": "scatter"
           }
          ],
          "scatter3d": [
           {
            "line": {
             "colorbar": {
              "outlinewidth": 0,
              "ticks": ""
             }
            },
            "marker": {
             "colorbar": {
              "outlinewidth": 0,
              "ticks": ""
             }
            },
            "type": "scatter3d"
           }
          ],
          "scattercarpet": [
           {
            "marker": {
             "colorbar": {
              "outlinewidth": 0,
              "ticks": ""
             }
            },
            "type": "scattercarpet"
           }
          ],
          "scattergeo": [
           {
            "marker": {
             "colorbar": {
              "outlinewidth": 0,
              "ticks": ""
             }
            },
            "type": "scattergeo"
           }
          ],
          "scattergl": [
           {
            "marker": {
             "colorbar": {
              "outlinewidth": 0,
              "ticks": ""
             }
            },
            "type": "scattergl"
           }
          ],
          "scattermapbox": [
           {
            "marker": {
             "colorbar": {
              "outlinewidth": 0,
              "ticks": ""
             }
            },
            "type": "scattermapbox"
           }
          ],
          "scatterpolar": [
           {
            "marker": {
             "colorbar": {
              "outlinewidth": 0,
              "ticks": ""
             }
            },
            "type": "scatterpolar"
           }
          ],
          "scatterpolargl": [
           {
            "marker": {
             "colorbar": {
              "outlinewidth": 0,
              "ticks": ""
             }
            },
            "type": "scatterpolargl"
           }
          ],
          "scatterternary": [
           {
            "marker": {
             "colorbar": {
              "outlinewidth": 0,
              "ticks": ""
             }
            },
            "type": "scatterternary"
           }
          ],
          "surface": [
           {
            "colorbar": {
             "outlinewidth": 0,
             "ticks": ""
            },
            "colorscale": [
             [
              0,
              "#0d0887"
             ],
             [
              0.1111111111111111,
              "#46039f"
             ],
             [
              0.2222222222222222,
              "#7201a8"
             ],
             [
              0.3333333333333333,
              "#9c179e"
             ],
             [
              0.4444444444444444,
              "#bd3786"
             ],
             [
              0.5555555555555556,
              "#d8576b"
             ],
             [
              0.6666666666666666,
              "#ed7953"
             ],
             [
              0.7777777777777778,
              "#fb9f3a"
             ],
             [
              0.8888888888888888,
              "#fdca26"
             ],
             [
              1,
              "#f0f921"
             ]
            ],
            "type": "surface"
           }
          ],
          "table": [
           {
            "cells": {
             "fill": {
              "color": "#EBF0F8"
             },
             "line": {
              "color": "white"
             }
            },
            "header": {
             "fill": {
              "color": "#C8D4E3"
             },
             "line": {
              "color": "white"
             }
            },
            "type": "table"
           }
          ]
         },
         "layout": {
          "annotationdefaults": {
           "arrowcolor": "#2a3f5f",
           "arrowhead": 0,
           "arrowwidth": 1
          },
          "autotypenumbers": "strict",
          "coloraxis": {
           "colorbar": {
            "outlinewidth": 0,
            "ticks": ""
           }
          },
          "colorscale": {
           "diverging": [
            [
             0,
             "#8e0152"
            ],
            [
             0.1,
             "#c51b7d"
            ],
            [
             0.2,
             "#de77ae"
            ],
            [
             0.3,
             "#f1b6da"
            ],
            [
             0.4,
             "#fde0ef"
            ],
            [
             0.5,
             "#f7f7f7"
            ],
            [
             0.6,
             "#e6f5d0"
            ],
            [
             0.7,
             "#b8e186"
            ],
            [
             0.8,
             "#7fbc41"
            ],
            [
             0.9,
             "#4d9221"
            ],
            [
             1,
             "#276419"
            ]
           ],
           "sequential": [
            [
             0,
             "#0d0887"
            ],
            [
             0.1111111111111111,
             "#46039f"
            ],
            [
             0.2222222222222222,
             "#7201a8"
            ],
            [
             0.3333333333333333,
             "#9c179e"
            ],
            [
             0.4444444444444444,
             "#bd3786"
            ],
            [
             0.5555555555555556,
             "#d8576b"
            ],
            [
             0.6666666666666666,
             "#ed7953"
            ],
            [
             0.7777777777777778,
             "#fb9f3a"
            ],
            [
             0.8888888888888888,
             "#fdca26"
            ],
            [
             1,
             "#f0f921"
            ]
           ],
           "sequentialminus": [
            [
             0,
             "#0d0887"
            ],
            [
             0.1111111111111111,
             "#46039f"
            ],
            [
             0.2222222222222222,
             "#7201a8"
            ],
            [
             0.3333333333333333,
             "#9c179e"
            ],
            [
             0.4444444444444444,
             "#bd3786"
            ],
            [
             0.5555555555555556,
             "#d8576b"
            ],
            [
             0.6666666666666666,
             "#ed7953"
            ],
            [
             0.7777777777777778,
             "#fb9f3a"
            ],
            [
             0.8888888888888888,
             "#fdca26"
            ],
            [
             1,
             "#f0f921"
            ]
           ]
          },
          "colorway": [
           "#636efa",
           "#EF553B",
           "#00cc96",
           "#ab63fa",
           "#FFA15A",
           "#19d3f3",
           "#FF6692",
           "#B6E880",
           "#FF97FF",
           "#FECB52"
          ],
          "font": {
           "color": "#2a3f5f"
          },
          "geo": {
           "bgcolor": "white",
           "lakecolor": "white",
           "landcolor": "white",
           "showlakes": true,
           "showland": true,
           "subunitcolor": "#C8D4E3"
          },
          "hoverlabel": {
           "align": "left"
          },
          "hovermode": "closest",
          "mapbox": {
           "style": "light"
          },
          "paper_bgcolor": "white",
          "plot_bgcolor": "white",
          "polar": {
           "angularaxis": {
            "gridcolor": "#EBF0F8",
            "linecolor": "#EBF0F8",
            "ticks": ""
           },
           "bgcolor": "white",
           "radialaxis": {
            "gridcolor": "#EBF0F8",
            "linecolor": "#EBF0F8",
            "ticks": ""
           }
          },
          "scene": {
           "xaxis": {
            "backgroundcolor": "white",
            "gridcolor": "#DFE8F3",
            "gridwidth": 2,
            "linecolor": "#EBF0F8",
            "showbackground": true,
            "ticks": "",
            "zerolinecolor": "#EBF0F8"
           },
           "yaxis": {
            "backgroundcolor": "white",
            "gridcolor": "#DFE8F3",
            "gridwidth": 2,
            "linecolor": "#EBF0F8",
            "showbackground": true,
            "ticks": "",
            "zerolinecolor": "#EBF0F8"
           },
           "zaxis": {
            "backgroundcolor": "white",
            "gridcolor": "#DFE8F3",
            "gridwidth": 2,
            "linecolor": "#EBF0F8",
            "showbackground": true,
            "ticks": "",
            "zerolinecolor": "#EBF0F8"
           }
          },
          "shapedefaults": {
           "line": {
            "color": "#2a3f5f"
           }
          },
          "ternary": {
           "aaxis": {
            "gridcolor": "#DFE8F3",
            "linecolor": "#A2B1C6",
            "ticks": ""
           },
           "baxis": {
            "gridcolor": "#DFE8F3",
            "linecolor": "#A2B1C6",
            "ticks": ""
           },
           "bgcolor": "white",
           "caxis": {
            "gridcolor": "#DFE8F3",
            "linecolor": "#A2B1C6",
            "ticks": ""
           }
          },
          "title": {
           "x": 0.05
          },
          "xaxis": {
           "automargin": true,
           "gridcolor": "#EBF0F8",
           "linecolor": "#EBF0F8",
           "ticks": "",
           "title": {
            "standoff": 15
           },
           "zerolinecolor": "#EBF0F8",
           "zerolinewidth": 2
          },
          "yaxis": {
           "automargin": true,
           "gridcolor": "#EBF0F8",
           "linecolor": "#EBF0F8",
           "ticks": "",
           "title": {
            "standoff": 15
           },
           "zerolinecolor": "#EBF0F8",
           "zerolinewidth": 2
          }
         }
        },
        "title": {
         "text": "Keyword Frequencies: Resume vs Job Posting"
        },
        "width": 900,
        "xaxis": {
         "anchor": "y",
         "domain": [
          0,
          0.2888888888888889
         ]
        },
        "xaxis2": {
         "anchor": "y2",
         "domain": [
          0.35555555555555557,
          0.6444444444444445
         ]
        },
        "xaxis3": {
         "anchor": "y3",
         "domain": [
          0.7111111111111111,
          1
         ]
        },
        "yaxis": {
         "anchor": "x",
         "domain": [
          0,
          1
         ]
        },
        "yaxis2": {
         "anchor": "x2",
         "domain": [
          0,
          1
         ]
        },
        "yaxis3": {
         "anchor": "x3",
         "domain": [
          0,
          1
         ]
        }
       }
      },
      "text/html": [
       "<div>                            <div id=\"c969f7c2-b711-491e-aae9-e723188a65b6\" class=\"plotly-graph-div\" style=\"height:500px; width:900px;\"></div>            <script type=\"text/javascript\">                require([\"plotly\"], function(Plotly) {                    window.PLOTLYENV=window.PLOTLYENV || {};                                    if (document.getElementById(\"c969f7c2-b711-491e-aae9-e723188a65b6\")) {                    Plotly.newPlot(                        \"c969f7c2-b711-491e-aae9-e723188a65b6\",                        [{\"marker\":{\"color\":[0.7058823529411764,-0.3529411764705882,0.08823529411764706,1.147058823529412,-0.17647058823529413,0.23529411764705882,1.4705882352941175,0.11764705882352941,0.058823529411764705,0.029411764705882353,0.29411764705882354,0.08823529411764705,0.8823529411764706,0.0,0.029411764705882353,0.029411764705882353],\"colorscale\":[[0,\"rgba(252,76,1,0.9)\"],[0.25,\"rgba(252,76,1,0.5)\"],[0.5,\"rgba(83,128,141,0.25)\"],[0.75,\"rgba(83,128,141,0.5)\"],[1.0,\"rgba(83,128,141,0.9)\"]]},\"name\":\"Weighted Frequency\",\"orientation\":\"h\",\"x\":[0.7058823529411764,-0.3529411764705882,0.08823529411764706,1.147058823529412,-0.17647058823529413,0.23529411764705882,1.4705882352941175,0.11764705882352941,0.058823529411764705,0.029411764705882353,0.29411764705882354,0.08823529411764705,0.8823529411764706,0.0,0.029411764705882353,0.029411764705882353],\"y\":[\"machine learning\",\"leadership\",\"analytics\",\"models\",\"data science\",\"data mining\",\"analysis\",\"optimization\",\"predictive\",\"tableau\",\"python\",\"r\",\"sql\",\"statistics\",\"data scientist\",\"communication\"],\"type\":\"bar\",\"xaxis\":\"x\",\"yaxis\":\"y\"},{\"marker\":{\"color\":\"rgba(83,128,141,0.8)\"},\"name\":\"Job Specific Keywords\",\"orientation\":\"h\",\"x\":[4,2,6,0,0,0],\"y\":[\"r\",\"tableau\",\"data mining\",\"bachelor's\",\"sas\",\"java\"],\"type\":\"bar\",\"xaxis\":\"x2\",\"yaxis\":\"y2\"},{\"marker\":{\"color\":\"rgba(252,76,1,0.8)\"},\"name\":\"Missing Keywords\",\"x\":[\"sas\",\"scala\",\"java\",\"computer science\"],\"y\":[1,1,1,1],\"type\":\"bar\",\"xaxis\":\"x3\",\"yaxis\":\"y3\"}],                        {\"template\":{\"data\":{\"barpolar\":[{\"marker\":{\"line\":{\"color\":\"white\",\"width\":0.5},\"pattern\":{\"fillmode\":\"overlay\",\"size\":10,\"solidity\":0.2}},\"type\":\"barpolar\"}],\"bar\":[{\"error_x\":{\"color\":\"#2a3f5f\"},\"error_y\":{\"color\":\"#2a3f5f\"},\"marker\":{\"line\":{\"color\":\"white\",\"width\":0.5},\"pattern\":{\"fillmode\":\"overlay\",\"size\":10,\"solidity\":0.2}},\"type\":\"bar\"}],\"carpet\":[{\"aaxis\":{\"endlinecolor\":\"#2a3f5f\",\"gridcolor\":\"#C8D4E3\",\"linecolor\":\"#C8D4E3\",\"minorgridcolor\":\"#C8D4E3\",\"startlinecolor\":\"#2a3f5f\"},\"baxis\":{\"endlinecolor\":\"#2a3f5f\",\"gridcolor\":\"#C8D4E3\",\"linecolor\":\"#C8D4E3\",\"minorgridcolor\":\"#C8D4E3\",\"startlinecolor\":\"#2a3f5f\"},\"type\":\"carpet\"}],\"choropleth\":[{\"colorbar\":{\"outlinewidth\":0,\"ticks\":\"\"},\"type\":\"choropleth\"}],\"contourcarpet\":[{\"colorbar\":{\"outlinewidth\":0,\"ticks\":\"\"},\"type\":\"contourcarpet\"}],\"contour\":[{\"colorbar\":{\"outlinewidth\":0,\"ticks\":\"\"},\"colorscale\":[[0.0,\"#0d0887\"],[0.1111111111111111,\"#46039f\"],[0.2222222222222222,\"#7201a8\"],[0.3333333333333333,\"#9c179e\"],[0.4444444444444444,\"#bd3786\"],[0.5555555555555556,\"#d8576b\"],[0.6666666666666666,\"#ed7953\"],[0.7777777777777778,\"#fb9f3a\"],[0.8888888888888888,\"#fdca26\"],[1.0,\"#f0f921\"]],\"type\":\"contour\"}],\"heatmapgl\":[{\"colorbar\":{\"outlinewidth\":0,\"ticks\":\"\"},\"colorscale\":[[0.0,\"#0d0887\"],[0.1111111111111111,\"#46039f\"],[0.2222222222222222,\"#7201a8\"],[0.3333333333333333,\"#9c179e\"],[0.4444444444444444,\"#bd3786\"],[0.5555555555555556,\"#d8576b\"],[0.6666666666666666,\"#ed7953\"],[0.7777777777777778,\"#fb9f3a\"],[0.8888888888888888,\"#fdca26\"],[1.0,\"#f0f921\"]],\"type\":\"heatmapgl\"}],\"heatmap\":[{\"colorbar\":{\"outlinewidth\":0,\"ticks\":\"\"},\"colorscale\":[[0.0,\"#0d0887\"],[0.1111111111111111,\"#46039f\"],[0.2222222222222222,\"#7201a8\"],[0.3333333333333333,\"#9c179e\"],[0.4444444444444444,\"#bd3786\"],[0.5555555555555556,\"#d8576b\"],[0.6666666666666666,\"#ed7953\"],[0.7777777777777778,\"#fb9f3a\"],[0.8888888888888888,\"#fdca26\"],[1.0,\"#f0f921\"]],\"type\":\"heatmap\"}],\"histogram2dcontour\":[{\"colorbar\":{\"outlinewidth\":0,\"ticks\":\"\"},\"colorscale\":[[0.0,\"#0d0887\"],[0.1111111111111111,\"#46039f\"],[0.2222222222222222,\"#7201a8\"],[0.3333333333333333,\"#9c179e\"],[0.4444444444444444,\"#bd3786\"],[0.5555555555555556,\"#d8576b\"],[0.6666666666666666,\"#ed7953\"],[0.7777777777777778,\"#fb9f3a\"],[0.8888888888888888,\"#fdca26\"],[1.0,\"#f0f921\"]],\"type\":\"histogram2dcontour\"}],\"histogram2d\":[{\"colorbar\":{\"outlinewidth\":0,\"ticks\":\"\"},\"colorscale\":[[0.0,\"#0d0887\"],[0.1111111111111111,\"#46039f\"],[0.2222222222222222,\"#7201a8\"],[0.3333333333333333,\"#9c179e\"],[0.4444444444444444,\"#bd3786\"],[0.5555555555555556,\"#d8576b\"],[0.6666666666666666,\"#ed7953\"],[0.7777777777777778,\"#fb9f3a\"],[0.8888888888888888,\"#fdca26\"],[1.0,\"#f0f921\"]],\"type\":\"histogram2d\"}],\"histogram\":[{\"marker\":{\"pattern\":{\"fillmode\":\"overlay\",\"size\":10,\"solidity\":0.2}},\"type\":\"histogram\"}],\"mesh3d\":[{\"colorbar\":{\"outlinewidth\":0,\"ticks\":\"\"},\"type\":\"mesh3d\"}],\"parcoords\":[{\"line\":{\"colorbar\":{\"outlinewidth\":0,\"ticks\":\"\"}},\"type\":\"parcoords\"}],\"pie\":[{\"automargin\":true,\"type\":\"pie\"}],\"scatter3d\":[{\"line\":{\"colorbar\":{\"outlinewidth\":0,\"ticks\":\"\"}},\"marker\":{\"colorbar\":{\"outlinewidth\":0,\"ticks\":\"\"}},\"type\":\"scatter3d\"}],\"scattercarpet\":[{\"marker\":{\"colorbar\":{\"outlinewidth\":0,\"ticks\":\"\"}},\"type\":\"scattercarpet\"}],\"scattergeo\":[{\"marker\":{\"colorbar\":{\"outlinewidth\":0,\"ticks\":\"\"}},\"type\":\"scattergeo\"}],\"scattergl\":[{\"marker\":{\"colorbar\":{\"outlinewidth\":0,\"ticks\":\"\"}},\"type\":\"scattergl\"}],\"scattermapbox\":[{\"marker\":{\"colorbar\":{\"outlinewidth\":0,\"ticks\":\"\"}},\"type\":\"scattermapbox\"}],\"scatterpolargl\":[{\"marker\":{\"colorbar\":{\"outlinewidth\":0,\"ticks\":\"\"}},\"type\":\"scatterpolargl\"}],\"scatterpolar\":[{\"marker\":{\"colorbar\":{\"outlinewidth\":0,\"ticks\":\"\"}},\"type\":\"scatterpolar\"}],\"scatter\":[{\"fillpattern\":{\"fillmode\":\"overlay\",\"size\":10,\"solidity\":0.2},\"type\":\"scatter\"}],\"scatterternary\":[{\"marker\":{\"colorbar\":{\"outlinewidth\":0,\"ticks\":\"\"}},\"type\":\"scatterternary\"}],\"surface\":[{\"colorbar\":{\"outlinewidth\":0,\"ticks\":\"\"},\"colorscale\":[[0.0,\"#0d0887\"],[0.1111111111111111,\"#46039f\"],[0.2222222222222222,\"#7201a8\"],[0.3333333333333333,\"#9c179e\"],[0.4444444444444444,\"#bd3786\"],[0.5555555555555556,\"#d8576b\"],[0.6666666666666666,\"#ed7953\"],[0.7777777777777778,\"#fb9f3a\"],[0.8888888888888888,\"#fdca26\"],[1.0,\"#f0f921\"]],\"type\":\"surface\"}],\"table\":[{\"cells\":{\"fill\":{\"color\":\"#EBF0F8\"},\"line\":{\"color\":\"white\"}},\"header\":{\"fill\":{\"color\":\"#C8D4E3\"},\"line\":{\"color\":\"white\"}},\"type\":\"table\"}]},\"layout\":{\"annotationdefaults\":{\"arrowcolor\":\"#2a3f5f\",\"arrowhead\":0,\"arrowwidth\":1},\"autotypenumbers\":\"strict\",\"coloraxis\":{\"colorbar\":{\"outlinewidth\":0,\"ticks\":\"\"}},\"colorscale\":{\"diverging\":[[0,\"#8e0152\"],[0.1,\"#c51b7d\"],[0.2,\"#de77ae\"],[0.3,\"#f1b6da\"],[0.4,\"#fde0ef\"],[0.5,\"#f7f7f7\"],[0.6,\"#e6f5d0\"],[0.7,\"#b8e186\"],[0.8,\"#7fbc41\"],[0.9,\"#4d9221\"],[1,\"#276419\"]],\"sequential\":[[0.0,\"#0d0887\"],[0.1111111111111111,\"#46039f\"],[0.2222222222222222,\"#7201a8\"],[0.3333333333333333,\"#9c179e\"],[0.4444444444444444,\"#bd3786\"],[0.5555555555555556,\"#d8576b\"],[0.6666666666666666,\"#ed7953\"],[0.7777777777777778,\"#fb9f3a\"],[0.8888888888888888,\"#fdca26\"],[1.0,\"#f0f921\"]],\"sequentialminus\":[[0.0,\"#0d0887\"],[0.1111111111111111,\"#46039f\"],[0.2222222222222222,\"#7201a8\"],[0.3333333333333333,\"#9c179e\"],[0.4444444444444444,\"#bd3786\"],[0.5555555555555556,\"#d8576b\"],[0.6666666666666666,\"#ed7953\"],[0.7777777777777778,\"#fb9f3a\"],[0.8888888888888888,\"#fdca26\"],[1.0,\"#f0f921\"]]},\"colorway\":[\"#636efa\",\"#EF553B\",\"#00cc96\",\"#ab63fa\",\"#FFA15A\",\"#19d3f3\",\"#FF6692\",\"#B6E880\",\"#FF97FF\",\"#FECB52\"],\"font\":{\"color\":\"#2a3f5f\"},\"geo\":{\"bgcolor\":\"white\",\"lakecolor\":\"white\",\"landcolor\":\"white\",\"showlakes\":true,\"showland\":true,\"subunitcolor\":\"#C8D4E3\"},\"hoverlabel\":{\"align\":\"left\"},\"hovermode\":\"closest\",\"mapbox\":{\"style\":\"light\"},\"paper_bgcolor\":\"white\",\"plot_bgcolor\":\"white\",\"polar\":{\"angularaxis\":{\"gridcolor\":\"#EBF0F8\",\"linecolor\":\"#EBF0F8\",\"ticks\":\"\"},\"bgcolor\":\"white\",\"radialaxis\":{\"gridcolor\":\"#EBF0F8\",\"linecolor\":\"#EBF0F8\",\"ticks\":\"\"}},\"scene\":{\"xaxis\":{\"backgroundcolor\":\"white\",\"gridcolor\":\"#DFE8F3\",\"gridwidth\":2,\"linecolor\":\"#EBF0F8\",\"showbackground\":true,\"ticks\":\"\",\"zerolinecolor\":\"#EBF0F8\"},\"yaxis\":{\"backgroundcolor\":\"white\",\"gridcolor\":\"#DFE8F3\",\"gridwidth\":2,\"linecolor\":\"#EBF0F8\",\"showbackground\":true,\"ticks\":\"\",\"zerolinecolor\":\"#EBF0F8\"},\"zaxis\":{\"backgroundcolor\":\"white\",\"gridcolor\":\"#DFE8F3\",\"gridwidth\":2,\"linecolor\":\"#EBF0F8\",\"showbackground\":true,\"ticks\":\"\",\"zerolinecolor\":\"#EBF0F8\"}},\"shapedefaults\":{\"line\":{\"color\":\"#2a3f5f\"}},\"ternary\":{\"aaxis\":{\"gridcolor\":\"#DFE8F3\",\"linecolor\":\"#A2B1C6\",\"ticks\":\"\"},\"baxis\":{\"gridcolor\":\"#DFE8F3\",\"linecolor\":\"#A2B1C6\",\"ticks\":\"\"},\"bgcolor\":\"white\",\"caxis\":{\"gridcolor\":\"#DFE8F3\",\"linecolor\":\"#A2B1C6\",\"ticks\":\"\"}},\"title\":{\"x\":0.05},\"xaxis\":{\"automargin\":true,\"gridcolor\":\"#EBF0F8\",\"linecolor\":\"#EBF0F8\",\"ticks\":\"\",\"title\":{\"standoff\":15},\"zerolinecolor\":\"#EBF0F8\",\"zerolinewidth\":2},\"yaxis\":{\"automargin\":true,\"gridcolor\":\"#EBF0F8\",\"linecolor\":\"#EBF0F8\",\"ticks\":\"\",\"title\":{\"standoff\":15},\"zerolinecolor\":\"#EBF0F8\",\"zerolinewidth\":2}}},\"xaxis\":{\"anchor\":\"y\",\"domain\":[0.0,0.2888888888888889]},\"yaxis\":{\"anchor\":\"x\",\"domain\":[0.0,1.0]},\"xaxis2\":{\"anchor\":\"y2\",\"domain\":[0.35555555555555557,0.6444444444444445]},\"yaxis2\":{\"anchor\":\"x2\",\"domain\":[0.0,1.0]},\"xaxis3\":{\"anchor\":\"y3\",\"domain\":[0.7111111111111111,1.0]},\"yaxis3\":{\"anchor\":\"x3\",\"domain\":[0.0,1.0]},\"annotations\":[{\"font\":{\"size\":16},\"showarrow\":false,\"text\":\"Matching Keywords\",\"x\":0.14444444444444446,\"xanchor\":\"center\",\"xref\":\"paper\",\"y\":1.0,\"yanchor\":\"bottom\",\"yref\":\"paper\"},{\"font\":{\"size\":16},\"showarrow\":false,\"text\":\"Job Specific Keywords\",\"x\":0.5,\"xanchor\":\"center\",\"xref\":\"paper\",\"y\":1.0,\"yanchor\":\"bottom\",\"yref\":\"paper\"},{\"font\":{\"size\":16},\"showarrow\":false,\"text\":\"Missing Keywords\",\"x\":0.8555555555555556,\"xanchor\":\"center\",\"xref\":\"paper\",\"y\":1.0,\"yanchor\":\"bottom\",\"yref\":\"paper\"}],\"title\":{\"text\":\"Keyword Frequencies: Resume vs Job Posting\"},\"width\":900,\"height\":500},                        {\"responsive\": true}                    ).then(function(){\n",
       "                            \n",
       "var gd = document.getElementById('c969f7c2-b711-491e-aae9-e723188a65b6');\n",
       "var x = new MutationObserver(function (mutations, observer) {{\n",
       "        var display = window.getComputedStyle(gd).display;\n",
       "        if (!display || display === 'none') {{\n",
       "            console.log([gd, 'removed!']);\n",
       "            Plotly.purge(gd);\n",
       "            observer.disconnect();\n",
       "        }}\n",
       "}});\n",
       "\n",
       "// Listen for the removal of the full notebook cells\n",
       "var notebookContainer = gd.closest('#notebook-container');\n",
       "if (notebookContainer) {{\n",
       "    x.observe(notebookContainer, {childList: true});\n",
       "}}\n",
       "\n",
       "// Listen for the clearing of the current output cell\n",
       "var outputEl = gd.closest('.output');\n",
       "if (outputEl) {{\n",
       "    x.observe(outputEl, {childList: true});\n",
       "}}\n",
       "\n",
       "                        })                };                });            </script>        </div>"
      ]
     },
     "metadata": {},
     "output_type": "display_data"
    }
   ],
   "source": [
    "\n",
    "plot_keyword_comparison(r1,job_details[5],'data/terms.csv')"
   ]
  },
  {
   "cell_type": "code",
   "execution_count": null,
   "id": "4d8fa510",
   "metadata": {},
   "outputs": [],
   "source": []
  },
  {
   "cell_type": "code",
   "execution_count": 97,
   "id": "9a091455-6b9f-44d1-86ae-0c7be5e9f731",
   "metadata": {},
   "outputs": [],
   "source": [
    "# job_key = 1\n",
    "# doc = nlp(job_details[job_key]['desc'])\n",
    "# keywords = get_keywords(job_details[job_key]['desc'],5)\n",
    "# s = get_text_summary(job_details[job_key]['desc'],'text','lsa',2)\n",
    "# job_details[job_key]['keywords']\n",
    "\n",
    "\n",
    "# show_entities(doc,True)\n",
    "# print(attr_counts(doc,'entity'))\n",
    "# show_pos(doc)\n"
   ]
  }
 ],
 "metadata": {
  "kernelspec": {
   "display_name": "Python 3 (ipykernel)",
   "language": "python",
   "name": "python3"
  },
  "language_info": {
   "codemirror_mode": {
    "name": "ipython",
    "version": 3
   },
   "file_extension": ".py",
   "mimetype": "text/x-python",
   "name": "python",
   "nbconvert_exporter": "python",
   "pygments_lexer": "ipython3",
   "version": "3.9.16"
  }
 },
 "nbformat": 4,
 "nbformat_minor": 5
}
