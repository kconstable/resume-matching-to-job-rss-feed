{
 "cells": [
  {
   "cell_type": "markdown",
   "id": "96717917-605e-4d34-a524-0bf1d8169c42",
   "metadata": {},
   "source": [
    "# Web Scrapping"
   ]
  },
  {
   "cell_type": "code",
   "execution_count": 1,
   "id": "40d817a5-989c-4f62-b6c3-84c4a8c01224",
   "metadata": {},
   "outputs": [],
   "source": [
    "from bs4 import BeautifulSoup\n",
    "import requests\n",
    "import os\n",
    "import PyPDF2 "
   ]
  },
  {
   "cell_type": "code",
   "execution_count": 2,
   "id": "da54b456-ac78-4228-8cdf-f9d52f9e4cd3",
   "metadata": {},
   "outputs": [],
   "source": [
    "def get_job_links(url_search,url_base):\n",
    "    \"\"\" \n",
    "    Return a list of links to jobs returned from the url_search link\n",
    "    \"\"\"\n",
    "    # use requests to get the search url contents, convert to a soup object\n",
    "    r = requests.get(url_search)\n",
    "    soup = BeautifulSoup(r.content)\n",
    "    \n",
    "    # extract the links from the job titles\n",
    "    jobs = soup.find_all(\"a\",{\"class\":\"SerpJob-titleLink\"})\n",
    "    \n",
    "    # return a list of job-links\n",
    "    job_links = []\n",
    "    for job in jobs:\n",
    "        job_links.append(f\"{url_base}{job.get('href')}\")\n",
    "    return job_links"
   ]
  },
  {
   "cell_type": "code",
   "execution_count": 468,
   "id": "0843800f-b340-4875-9664-6a854d275639",
   "metadata": {},
   "outputs": [],
   "source": [
    "def get_job_details(urls):\n",
    "    \"\"\"\n",
    "    \"\"\"\n",
    "    print(\"Scrapping RSS Job Search Feed\")\n",
    "    print(\"=\"*100)\n",
    "    job_detail = []\n",
    "    for url in urls:\n",
    "        try:\n",
    "            # get url content, convert to soup\n",
    "            r = requests.get(url)\n",
    "            soup = BeautifulSoup(r.content)\n",
    "\n",
    "            # extract content\n",
    "            title = soup.find(\"div\",{'class':'ViewJobHeaderTitle'}).text\n",
    "            company = soup.find(\"div\",{'class':'ViewJobHeaderCompany'}).text\n",
    "            location = soup.find(\"span\",{'class':'ViewJobHeaderPropertiesLocation'}).text\n",
    "            desc = soup.find(\"div\",{'class':'viewjob-description'}).text\n",
    "\n",
    "            # extract key words (skills, education, benefits)\n",
    "            keys = soup.find_all('li',{'class':'nav-item'})\n",
    "            key_words = [w.text for w in keys]\n",
    "\n",
    "            # build result-set\n",
    "            job_detail.append(\n",
    "                {'title':title,'company':company,'location':location,'desc':desc,'keywords':key_words}\n",
    "            )\n",
    "            # print progress\n",
    "            print(f\"  =>{title[:35]:{40}}| {company[:25]:{25}}| {location} | {key_words[:3]}...\")\n",
    "        except Exception as e:\n",
    "            print(\"   =>Skipping Job...\")\n",
    "            continue\n",
    "    print(\"=\"*100)\n",
    "    return job_detail"
   ]
  },
  {
   "cell_type": "code",
   "execution_count": 469,
   "id": "1ffd4492-eca7-40eb-b1d7-992ff8b14604",
   "metadata": {},
   "outputs": [
    {
     "name": "stdout",
     "output_type": "stream",
     "text": [
      "Scrapping RSS Job Search Feed\n",
      "====================================================================================================\n",
      "  =>Data Scientist                          | Wish                     | Toronto, ON | [\"Master's degree\", \"Bachelor's\", 'MongoDB']...\n",
      "  =>Data Science Co-op (R&D) - Summer t     | Swift Medical            | Toronto, ON | [\"Master's degree\", \"Bachelor's\", 'Machine learning']...\n",
      "  =>Data Analyst - Operations               | Flair Airlines Ltd.      | Toronto, ON | [\"Bachelor's\", 'Power BI', 'Microsoft Excel']...\n",
      "  =>Scene+ Data Scientist                   | Cineplex                 | Toronto, ON | ['Post-secondary education', 'TensorFlow', 'Cloud infrastructure']...\n",
      "  =>Data Science Manager - Contract         | Scotiabank               | Toronto, ON | [\"Master's degree\", 'Microsoft Powerpoint', 'Microsoft Word']...\n",
      "  =>Senior Data Scientist, Trust & Safe     | Thumbtack                | Toronto, ON | [\"Master's degree\", \"Bachelor's\", 'Salesforce']...\n",
      "  =>Data Scientist - Climate/Weather        | RiskThinking.AI          | Toronto, ON | ['Doctoral degree', \"Master's degree\", 'MATLAB']...\n",
      "  =>ML Engineer                             | Pinterest                | Toronto, ON | ['Doctoral degree', \"Master's degree\", 'Machine learning']...\n",
      "  =>Sr. IT Data Analyst                     | TD Bank                  | Toronto, ON | [\"Bachelor's\", 'CI/CD', 'DB2']...\n",
      "  =>Data Scientist                          | Arup                     | Toronto, ON | ['Doctoral degree', \"Master's degree\", 'TensorFlow']...\n",
      "  =>Manager, Data & AI Risk                 | Scotiabank               | Toronto, ON | ['Post-secondary education', 'Analysis skills', 'Risk management']...\n",
      "  =>Staff Machine Learning Engineer         | Everbridge               | Toronto, ON | ['Doctoral degree', \"Bachelor's\", 'TensorFlow']...\n",
      "  =>Senior Data Analyst                     | Sun Life                 | Toronto, ON | [\"Master's degree\", \"Bachelor's\", 'Computer science']...\n",
      "  =>Sr. Data Analyst (Pharma)               | Tiger Analytics          | Toronto, ON | [\"Bachelor's\", 'Power BI', 'Azure']...\n",
      "  =>Manager, Machine Learning and Advan     | MLSE                     | Toronto, ON | [\"Bachelor's\", 'Power BI', 'Data modeling']...\n",
      "  =>Machine Learning Engineer               | Autodesk                 | Toronto, ON | ['Doctoral degree', \"Master's degree\", \"Bachelor's\"]...\n",
      "  =>Software Engineer AI/ ML- Co-Op (PE     | Seismic                  | Toronto, ON | ['Doctoral degree', \"Master's degree\", 'Jira']...\n",
      "  =>Senior Product Manager, Growth Mark     | Angi                     | Toronto, ON | [\"Master's degree\", \"Bachelor's\", 'SQL']...\n",
      "  =>Senior Manager, Data and AI Risk        | Scotiabank               | Toronto, ON | ['Post-secondary education', 'Analysis skills', 'Data management']...\n",
      "  =>Senior Machine Learning Engineer, N     | BenchSci                 | Toronto, ON | ['SQL', 'Machine learning', 'Natural language processing']...\n",
      "  =>Sr. Manager/ Associate Director - P     | Tiger Analytics          | Toronto, ON | [\"Master's degree\", 'Project management', 'Machine learning']...\n",
      "  =>Senior Manager, Data & AI Risk          | Scotiabank               | Toronto, ON | ['Post-secondary education', 'Analysis skills', 'Risk management']...\n",
      "====================================================================================================\n"
     ]
    }
   ],
   "source": [
    "\n",
    "url_search = 'https://www.workopolis.com/jobsearch/find-jobs?l=Toronto%2C%20ON&ak=data%20science%20-intern&t=7&sr=10&s=r&job=zD_1ItN-5JXVPUCwXgZvg_joKB7qyQNp5ttncJBtECQ1FoqVIwMR8znJuj3fF7lK'\n",
    "url_base  ='https://www.workopolis.com'\n",
    "\n",
    "job_links = get_job_links(url_search, url_base)\n",
    "job_details = get_job_details(job_links)\n"
   ]
  },
  {
   "cell_type": "markdown",
   "id": "0b3ec096-153f-441b-b6a9-ac12801340f9",
   "metadata": {},
   "source": [
    "# NLP"
   ]
  },
  {
   "cell_type": "code",
   "execution_count": 139,
   "id": "a2aa22d7-33db-4b80-8766-781a7e862dac",
   "metadata": {},
   "outputs": [
    {
     "name": "stderr",
     "output_type": "stream",
     "text": [
      "[nltk_data] Downloading package punkt to /home/ken/nltk_data...\n",
      "[nltk_data]   Package punkt is already up-to-date!\n"
     ]
    }
   ],
   "source": [
    "# Sumy\n",
    "import sumy\n",
    "from sumy.parsers.plaintext import PlaintextParser\n",
    "from sumy.nlp.tokenizers import Tokenizer\n",
    "from sumy.summarizers.lex_rank import LexRankSummarizer\n",
    "from sumy.summarizers.text_rank import TextRankSummarizer\n",
    "from sumy.summarizers.lsa import LsaSummarizer\n",
    "from sumy.nlp.stemmers import Stemmer\n",
    "from sumy.utils import get_stop_words\n",
    "import nltk # required for sumy\n",
    "nltk.download('punkt') # required for sumy\n",
    "\n",
    "# spacy\n",
    "import spacy\n",
    "from spacy import displacy\n",
    "NLP = spacy.load('en_core_web_lg')\n",
    "from spacy.matcher import PhraseMatcher\n",
    "# from spacy.matcher import Matcher\n",
    "\n",
    "from sklearn.feature_extraction.text import TfidfVectorizer\n",
    "from sklearn.metrics.pairwise import cosine_similarity\n",
    "\n",
    "\n",
    "from tabulate import tabulate\n",
    "from collections import Counter\n",
    "import docx2txt\n",
    "import pandas as pd\n",
    "import plotly.graph_objects as go\n",
    "from plotly.subplots import make_subplots"
   ]
  },
  {
   "cell_type": "markdown",
   "id": "aa6762db-82e3-49a4-a464-7ca26ce353bd",
   "metadata": {},
   "source": [
    "# Resume Scrapping"
   ]
  },
  {
   "cell_type": "code",
   "execution_count": 6,
   "id": "cc289dc5-345f-414f-b863-b6fc149c3ad7",
   "metadata": {},
   "outputs": [],
   "source": [
    "def get_resume_text(path,print_text=True):\n",
    "    \"\"\" \n",
    "    Read resume text content from file (pdf or docx)\n",
    "    Params:\n",
    "        path: string- path to the resume file\n",
    "        print_text: boolean.  Prints the text\n",
    "    Returns: A text object with the resume file content\n",
    "    \"\"\"\n",
    "    \n",
    "    # open file and get file extension\n",
    "    file = open(path,'rb')\n",
    "    file_name, file_ext = os.path.splitext(path)\n",
    "    \n",
    "    # extract text content\n",
    "    if file_ext=='.pdf':\n",
    "        # read pdf\n",
    "        pdf = PyPDF2.PdfFileReader(file)\n",
    "        \n",
    "        text = \"\"\"\"\"\"\n",
    "        for page_num in range(pdf.numPages):\n",
    "            page = pdf.getPage(page_num)\n",
    "            content = page.extract_text()\n",
    "            text += content\n",
    "    elif file_ext=='.docx':\n",
    "        text = docx2txt.process(file)\n",
    "    \n",
    "    if print_text:\n",
    "        print(text)\n",
    "\n",
    "    file.close()\n",
    "    return text"
   ]
  },
  {
   "cell_type": "code",
   "execution_count": 8,
   "id": "9f1a91bc-c82a-4b6a-a4d4-6eae04a1ae52",
   "metadata": {},
   "outputs": [],
   "source": [
    "def show_pos(text):    \n",
    "    \"\"\"Extracts POS from a spacy document and prints the results\"\"\"\n",
    "    d=[]\n",
    "    for token in doc:\n",
    "        d.append({\n",
    "            \"Token\":token.text,\n",
    "            \"POS\":token.pos_,\n",
    "            \"POS-Desc\":spacy.explain(token.pos_),\n",
    "            \"Lemma\":token.lemma_,\n",
    "            \"Stop-Word\":token.is_stop,\n",
    "            \"POS-Detail\":token.tag_,\n",
    "            \"POS-Detail-Desc\":spacy.explain(token.tag_)\n",
    "            }\n",
    "        )\n",
    "    print(tabulate(d,headers=\"keys\",tablefmt=\"github\"))"
   ]
  },
  {
   "cell_type": "code",
   "execution_count": 9,
   "id": "67d02fd5-2d35-4237-aa72-56f2791401e4",
   "metadata": {},
   "outputs": [],
   "source": [
    "def show_entities(doc,display=True):\n",
    "    \"\"\"Print a list of named entities and their descriptions\"\"\"\n",
    "    d=[]\n",
    "    if doc.ents:\n",
    "        for entity in doc.ents:\n",
    "            d.append({\n",
    "                \"Word\":entity,\n",
    "                \"Entity\":entity.label_,\n",
    "                \"Start\":entity.start,\n",
    "                \"Stop\":entity.end,\n",
    "                \"Entity-Desc\":spacy.explain(entity.label_),\n",
    "                }\n",
    "            )\n",
    "        if display:\n",
    "            print(tabulate(d,headers=\"keys\",tablefmt=\"github\"))\n",
    "            print(\"\\n\")\n",
    "            displacy.render(doc,style='ent',jupyter=True)\n",
    "            print(\"\\n\")\n",
    "    else:\n",
    "        print(\"no entities found\")\n",
    "    return d   "
   ]
  },
  {
   "cell_type": "code",
   "execution_count": 10,
   "id": "d6da233e-ee54-49d6-8d69-9d1925a098d4",
   "metadata": {},
   "outputs": [],
   "source": [
    "def attr_counts(doc,att):\n",
    "    \"\"\"Return a table of counts by attributes\"\"\"\n",
    "    if att.lower() == 'pos':\n",
    "        cnts = doc.count_by(spacy.attrs.POS)\n",
    "    elif att.lower() =='tag':\n",
    "        cnts = doc.count_by(spacy.attrs.TAG)\n",
    "    elif att.lower() =='lemma':\n",
    "        cnts = doc.count_by(spacy.attrs.LEMMA)\n",
    "    elif att.lower() =='entity':\n",
    "        cnts = doc.count_by(spacy.attrs.ENT_TYPE)\n",
    "    elif att.lower() =='email':\n",
    "        cnts = doc.count_by(spacy.attrs.LIKE_EMAIL)\n",
    "    elif att.lower() =='url':\n",
    "        cnts = doc.count_by(spacy.attrs.LIKE_URL)\n",
    "    elif att.lower() =='currency':\n",
    "        cnts = doc.count_by(spacy.attrs.IS_CURRENCY)\n",
    "    elif att.lower() =='numbers':\n",
    "        cnts = doc.count_by(spacy.attrs.IS_DIGIT)\n",
    "        \n",
    "    # lookup attribute name\n",
    "    d = {doc.vocab[k].text:v for k,v in cnts.items()}\n",
    "    return d"
   ]
  },
  {
   "cell_type": "markdown",
   "id": "a787a997",
   "metadata": {},
   "source": [
    "### Generate Text Summary"
   ]
  },
  {
   "cell_type": "code",
   "execution_count": 502,
   "id": "c570dc14-5d62-45c0-a329-952a0bd4d2e5",
   "metadata": {},
   "outputs": [],
   "source": [
    "def get_text_summary(text,text_source,summarizer,num_sentences,print_summary=True):\n",
    "    \"\"\"\n",
    "    Generate a text summary from a document (extractive)\n",
    "    Params:\n",
    "        text: plain text or path to a document\n",
    "        text_source: text or file\n",
    "        summarizer: text-summarization method. lex-rank, text-rank,lsa\n",
    "        num_sentences: Number of summary sentences to generate\n",
    "        print_summary: T/F\n",
    "    Returns:\n",
    "        A list of sentences.\n",
    "    \"\"\"\n",
    "    # Create parser from text-source\n",
    "    if text_source=='text':\n",
    "        parser = PlaintextParser.from_string(text,Tokenizer('english'))\n",
    "    elif text_source=='file':\n",
    "        parser = PlaintextParser.from_file(text,Tokenizer('english'))\n",
    "    else:\n",
    "        raise Exception(f\"text source must be 'text' or 'file'!\")\n",
    "        \n",
    "    # Select summarizer method\n",
    "    if summarizer=='lex-rank':\n",
    "        # Lex Rank:  A graph-based summarization method that uses keyword extractions\n",
    "        s = LexRankSummarizer()\n",
    "    elif summarizer=='text-rank':\n",
    "        # Text rank: A graph-based summarization method that uses keyword extractions\n",
    "        s = TextRankSummarizer()\n",
    "    elif summarizer=='lsa':\n",
    "        # Latent semantic analysis \n",
    "        # Combines term frequency with singular value decomposition\n",
    "        s = LsaSummarizer(Stemmer(\"english\"))\n",
    "        s.stop_words = get_stop_words(\"english\")\n",
    "    else:\n",
    "        raise Exception(f\"Summarizer must be 'lex-rank','luhn','text-rank' or 'lsa'!\")\n",
    "    \n",
    "    # create summary\n",
    "    summary = s(parser.document,num_sentences)\n",
    "    \n",
    "    # print summary\n",
    "    text = \"\"\n",
    "    if print_summary:\n",
    "        print(f'Text Summary:Top {num_sentences} sentences using a {summarizer} summarizer')\n",
    "        print('='*100)\n",
    "        for sentence in summary:\n",
    "            text += \" \"+ str(sentence)\n",
    "            print(sentence)\n",
    "        print('='*100,'\\n')\n",
    "    return text"
   ]
  },
  {
   "cell_type": "markdown",
   "id": "f77fc001",
   "metadata": {},
   "source": [
    "### Keyword Analysis"
   ]
  },
  {
   "cell_type": "code",
   "execution_count": 12,
   "id": "4a4efca1-c69d-43af-a879-5b5623e34af8",
   "metadata": {},
   "outputs": [],
   "source": [
    "def get_terms(path):\n",
    "    \"\"\"\n",
    "    Read a csv of data science terms & return themn as a list\n",
    "    Params: path -string\n",
    "    Returns: A list of terms\n",
    "    \"\"\"\n",
    "    with open(path,'r') as f:\n",
    "        lst = [line.lower().strip() for line in f.readlines()]\n",
    "    return set(lst)"
   ]
  },
  {
   "cell_type": "code",
   "execution_count": null,
   "id": "a7629df3",
   "metadata": {},
   "outputs": [],
   "source": [
    "def extract_keywords(text,num, print_words=True):\n",
    "    \"\"\"\n",
    "    Extracts keywords from a text object.  Ignores common job positng phrases\n",
    "    Params:\n",
    "        text: string text object\n",
    "        num: integer.  The number of keywords to extract\n",
    "        print_words: boolean. Prints the output\n",
    "    Returns: A list of the top keywords in the text object\n",
    "    \"\"\"\n",
    "    words = []\n",
    "    pos = ['NOUN','PROPN']\n",
    "    common_job_keys = ['experience','job','ability','posting','process','date','stakeholders','skills','solutions','project']\n",
    "    tokens = NLP(text.lower())\n",
    "    \n",
    "    for token in tokens:\n",
    "        if (token.text not in NLP.Defaults.stop_words and token.text.lower() not in common_job_keys and token.pos_ in pos):\n",
    "            words.append(token.text)\n",
    "            \n",
    "    # get the top keywords by frequency\n",
    "    keyword_frequency = [word for word in Counter(words).most_common(num)]\n",
    "    keywords = [word[0] for word in keyword_frequency]\n",
    "    \n",
    "    if print_words:\n",
    "        print(keyword_frequency)\n",
    "    return keywords            "
   ]
  },
  {
   "cell_type": "code",
   "execution_count": 467,
   "id": "658aa20f",
   "metadata": {},
   "outputs": [],
   "source": [
    "# extract keywords from the job descriptions\n",
    "keys = []\n",
    "for job in job_details:\n",
    "    keys.extend(extract_keywords(job['desc'],50,False))\n",
    "keys = set(keys)"
   ]
  },
  {
   "cell_type": "code",
   "execution_count": 466,
   "id": "a4a72c1c",
   "metadata": {},
   "outputs": [],
   "source": [
    "# extract keywords from the job keywords\n",
    "keys = []\n",
    "for job in job_details:\n",
    "    keys.extend(job['keywords'])\n",
    "keys = set(keys)"
   ]
  },
  {
   "cell_type": "code",
   "execution_count": 77,
   "id": "ba8b2e99",
   "metadata": {},
   "outputs": [],
   "source": [
    "def get_phrases_from_keywords(keywords):\n",
    "    lst = []\n",
    "    for keyword in keywords:\n",
    "        if \" \" in keyword:\n",
    "            lst.append(keyword.lower().replace(\" \",\"-\"))\n",
    "        lst.append(keyword.lower())\n",
    "    return set(lst)"
   ]
  },
  {
   "cell_type": "code",
   "execution_count": 206,
   "id": "8d72e312",
   "metadata": {},
   "outputs": [],
   "source": [
    "def get_phrase_matches(keywords,text):\n",
    "    \"\"\"\n",
    "    spacy 3.5 has a built in fuzzy matching option\n",
    "    \"\"\"\n",
    "    # when spacy 3.5 is available on anaconda\n",
    "#     matcher = Matcher(NLP.vocab)\n",
    "#     patterns = [{\"TEXT\": {\"FUZZY\": \"modelling\"}},{\"TEXT\": {\"FUZZY\": \"machine learning\"}}]\n",
    "\n",
    "    # get the term list\n",
    "    terms = get_phrases_from_keywords(keywords)\n",
    "    \n",
    "    # convert text to tokens\n",
    "    doc = NLP(text.lower())\n",
    "\n",
    "    # phrase matching\n",
    "    patterns = [NLP(text) for text in terms]\n",
    "\n",
    "    # add to matcher\n",
    "    matcher = PhraseMatcher(NLP.vocab)\n",
    "    matcher.add('KEYWORDS',patterns)\n",
    "\n",
    "    # search for phrase matches\n",
    "    found_matches = matcher(doc)\n",
    "\n",
    "    matched_phrases = []\n",
    "    for match_id, start, end in found_matches:\n",
    "        matched_phrases.append(doc[start:end].text)\n",
    "\n",
    "    return dict(Counter(matched_phrases)) "
   ]
  },
  {
   "cell_type": "code",
   "execution_count": 388,
   "id": "71af7605",
   "metadata": {},
   "outputs": [],
   "source": [
    "def compare_keywords(resume,job,keyword_path):\n",
    "    \"\"\"\n",
    "    \"\"\"\n",
    "    # path to csv of terms\n",
    "    keys = get_phrases_from_keywords(get_terms(keyword_path))\n",
    "    \n",
    "    # match phrases\n",
    "    matches_resume = get_phrase_matches(keys,resume)\n",
    "    matches_job = get_phrase_matches(keys,job)\n",
    "\n",
    "    # convert to dataframes\n",
    "    df_resume = pd.DataFrame.from_dict(matches_resume,orient='index',columns=['resume'])\n",
    "    df_job = pd.DataFrame.from_dict(matches_job,orient='index',columns=['job'])\n",
    "    \n",
    "    # combine results & sort by job keywords\n",
    "    df = df_job.join(df_resume)\n",
    "    df.sort_values(by=['job'], ascending=False,inplace=True)\n",
    "    \n",
    "    # calculate the weighted difference in keyword frequencies\n",
    "    df['wt'] = df['job']/df['job'].sum()\n",
    "    df['wt-score'] = df['wt']*(df['resume']-df['job'])\n",
    "    score = df['wt-score'].sum()\n",
    "    \n",
    "    # calculate keyword coverage ratio\n",
    "    matches = df.query('~resume.isnull()').shape[0]\n",
    "    total = df.shape[0]\n",
    "    coverage = matches/total\n",
    "    \n",
    "    # get missing\n",
    "    missing = set(df.query('resume.isnull()').index)\n",
    "    \n",
    "    \n",
    "    return df, score, coverage, missing"
   ]
  },
  {
   "cell_type": "code",
   "execution_count": 245,
   "id": "efcac0ea",
   "metadata": {},
   "outputs": [],
   "source": [
    "def compare_job_specific_keywords(resume, job_keywords):\n",
    "    \"\"\"\n",
    "    \"\"\"\n",
    "    # match phrases\n",
    "    matches = get_phrase_matches(job_keywords,resume)\n",
    "    \n",
    "    # add missing job keywords to the dict\n",
    "    for key in job_keywords:\n",
    "        if key.lower() in matches.keys():\n",
    "            continue\n",
    "        else:\n",
    "            matches[key.lower()]=0\n",
    "    \n",
    "    # convert to dateframe\n",
    "    df = pd.DataFrame.from_dict(matches,orient='index',columns=['resume'])\n",
    "    \n",
    "    return df"
   ]
  },
  {
   "cell_type": "code",
   "execution_count": 454,
   "id": "a2ce0da3-f535-4a82-a8c5-2075b5162b94",
   "metadata": {
    "scrolled": true
   },
   "outputs": [],
   "source": [
    "def plot_keyword_comparison(resume, job_details, keyword_path):\n",
    "    \"\"\" \n",
    "    Plot Job keywords vs Resume keywords\n",
    "    Params: df- dataframe output from compare_keywords\n",
    "    Returns: None\n",
    "    \"\"\"\n",
    "    \n",
    "    # compare common keywords, split into matches/no-matches\n",
    "    df, score, coverage, missing = compare_keywords(resume,job_details['desc'],keyword_path)\n",
    "    df_missing  = df.query('resume.isnull()')\n",
    "    df_matching = df.query('~resume.isnull()')\n",
    "    \n",
    "    title = f\"Keyword Coverage={round(coverage*100,2)}% | Weighted Average={round(score,2)}\"\n",
    "    \n",
    "    # compare to job specific keywords\n",
    "    df_spec = compare_job_specific_keywords(resume, job_details['keywords'])\n",
    "    \n",
    "    col_scale = [\n",
    "        [0,'rgba(252,76,1,0.9)'],\n",
    "        [0.25,'rgba(252,76,1,0.5)'],\n",
    "        [0.5,'rgba(83,128,141,0.25)'],\n",
    "        [0.75,'rgba(83,128,141,0.5)'],\n",
    "        [1.0,'rgba(83,128,141,0.9)']\n",
    "    ]\n",
    "    \n",
    "    # create plots\n",
    "    fig = make_subplots(\n",
    "        rows=1,\n",
    "        cols=3,\n",
    "        subplot_titles = ('Matching Keywords','Missing Keywords','Job Specific Keywords'),\n",
    "        column_widths = [0.5,0.25,0.25]\n",
    "    )\n",
    "    # matching keywords\n",
    "    fig.add_trace(\n",
    "        go.Bar(\n",
    "            name='Weighted Frequency',\n",
    "            y = df_matching.index,\n",
    "            x = df_matching['wt-score'],\n",
    "            orientation='h',\n",
    "            marker = dict(color=df_matching['wt-score'],colorscale=col_scale)\n",
    "        ),row=1,col=1\n",
    "    )\n",
    "    # missing keywords\n",
    "    fig.add_trace(\n",
    "        go.Bar(\n",
    "            name='Missing Keywords',\n",
    "            y = df_missing.job,\n",
    "            x = df_missing.index,\n",
    "            marker = dict(color='rgba(252,76,1,0.8)')\n",
    "        ),row=1,col=2\n",
    "    )\n",
    "    # job specific keywords\n",
    "    fig.add_trace(\n",
    "        go.Bar(\n",
    "            name='Job Specific Keywords',\n",
    "            y = df_spec.resume,\n",
    "            x = df_spec.index,\n",
    "            marker = dict(color='rgba(252,76,1,0.8)')\n",
    "        ),row=1,col=3\n",
    "    )\n",
    "    \n",
    "    # adjusments\n",
    "    fig.update_xaxes(tickangle=90,row=1,col=2)\n",
    "    fig.update_xaxes(tickangle=90,row=1,col=3)\n",
    "    fig.update_xaxes(range=[-2,2],row=1,col=1)\n",
    "    fig.update_xaxes(showgrid=False)\n",
    "    fig.update_layout(\n",
    "        template='plotly_white',\n",
    "        title=title,\n",
    "        width = 900,\n",
    "        height=500,\n",
    "        showlegend=False\n",
    "    )\n",
    "    fig.show()"
   ]
  },
  {
   "cell_type": "markdown",
   "id": "93de81fa",
   "metadata": {},
   "source": [
    "## Calculate Similarities"
   ]
  },
  {
   "cell_type": "code",
   "execution_count": 26,
   "id": "f1526ff2-82bc-4cb2-9e5f-ce9e600ab9d9",
   "metadata": {},
   "outputs": [],
   "source": [
    "def preprocess_text(text):\n",
    "    \"\"\"\n",
    "    Preprocess text documents in preparation for analysis\n",
    "    Params:\n",
    "        text: a text object\n",
    "    Returns: \n",
    "        A text object after converting to lowercase lemmas, removing stop-words,punctuation, numbers, and emails\n",
    "    \"\"\"\n",
    "    \n",
    "    # replace carriage returns and convert to lowercase\n",
    "    doc = text.replace(\"\\n\",\"\").replace(\"  \",\"\").lower()\n",
    "    \n",
    "    # tokenize\n",
    "    tokens = NLP(doc)\n",
    "\n",
    "    text_list = []\n",
    "    for token in tokens:\n",
    "        if token.text in NLP.Defaults.stop_words:\n",
    "            continue\n",
    "        if token.is_punct:\n",
    "            continue\n",
    "        if token.is_digit:\n",
    "            continue\n",
    "        if token.like_email:\n",
    "            continue\n",
    "        if token.lemma_=='-PRON-':\n",
    "            continue\n",
    "            \n",
    "        # lemmetize\n",
    "        text_list.append(token.lemma_)\n",
    "    return \" \".join(text_list)"
   ]
  },
  {
   "cell_type": "code",
   "execution_count": 27,
   "id": "27695ea1-e61a-4308-b5dc-f3d28ac5d4ea",
   "metadata": {},
   "outputs": [],
   "source": [
    "def calc_similarity(doc1,doc2):\n",
    "    \"\"\" \n",
    "    Calculate the cosine similarity between two documents\n",
    "    Params:\n",
    "        doc1 - text document \n",
    "        doc2 - text document\n",
    "    Returns: The cosine similairty score between the documents\n",
    "    \"\"\"\n",
    "    d1 = preprocess_text(doc1)\n",
    "    d2 = preprocess_text(doc2)\n",
    "    \n",
    "    X = TfidfVectorizer().fit_transform([d1,d2])\n",
    "    score = cosine_similarity(X[0],X[1])\n",
    "    return score[0][0]"
   ]
  },
  {
   "cell_type": "code",
   "execution_count": 390,
   "id": "f8cb1864-92bb-4ff7-bde8-ba4f8ed44867",
   "metadata": {},
   "outputs": [],
   "source": [
    "def calc_similarities(resume, jobs,keyword_path):\n",
    "    \"\"\" \n",
    "    Calculate the cosine similarity between a resume and a list of job descriptions\n",
    "    Params:\n",
    "        resume: a resume (text)\n",
    "        jobs: a dictionary of jobs listings (output from get_job_details)\n",
    "    Returns: A dataframe of job title, company, location and similarity score\n",
    "    \"\"\"\n",
    "    scores = []\n",
    "    titles = []\n",
    "    companies =[]\n",
    "    locs = []\n",
    "    key_cov = []\n",
    "    key_wt = []\n",
    "    key_missing = []\n",
    "    for job in jobs:\n",
    "        titles.append(job['title'])\n",
    "        companies.append(job['company'])\n",
    "        locs.append(job['location'])\n",
    "        scores.append(calc_similarity(resume, job['desc']))\n",
    "        _,wt,cov,missing = compare_keywords(resume,job['desc'],keyword_path)\n",
    "        key_cov.append(cov)\n",
    "        key_wt.append(wt)\n",
    "        key_missing.append(missing)\n",
    "    \n",
    "    data = list(zip(titles,companies,locs, scores, key_cov,key_wt,key_missing ))\n",
    "    df = pd.DataFrame(data,columns = ['title','company','location','similarity-score','keyword-coverage','keyword-wt','keywords-missing'])\n",
    "    \n",
    "    return df.sort_values(by=['similarity-score'], ascending=False)"
   ]
  },
  {
   "cell_type": "code",
   "execution_count": 458,
   "id": "03e14362",
   "metadata": {},
   "outputs": [],
   "source": [
    "def plot_similarity_scores(df_similarities):\n",
    "    \"\"\"\n",
    "    \"\"\"\n",
    "    \n",
    "    # min-max scale the keyword weights\n",
    "    df = df_similarities.copy()\n",
    "    df['keyword-weight'] = (df['keyword-wt']-min(df['keyword-wt']))/(max(df['keyword-wt'])-min(df['keyword-wt']))\n",
    "    \n",
    "    # custom colorscale\n",
    "    col_scale = [\n",
    "        [0,'rgba(252,76,1,1.0)'],\n",
    "        [0.25,'rgba(252,76,1,0.5)'],\n",
    "        [0.5,'rgba(83,128,141,0.25)'],\n",
    "        [0.75,'rgba(83,128,141,0.5)'],\n",
    "        [1.0,'rgba(83,128,141,1.0)']\n",
    "    ]\n",
    "        \n",
    "    fig = go.Figure()\n",
    "    \n",
    "    fig.add_trace(\n",
    "        go.Scatter(\n",
    "            x = df['keyword-coverage'],\n",
    "            y = df['similarity-score'],\n",
    "            mode='markers',\n",
    "            text = df['title'],\n",
    "            marker = dict(\n",
    "                size=df['keyword-weight']*75,\n",
    "                color = df['similarity-score'],\n",
    "#                 colorscale='Cividis_r',\n",
    "                colorscale=col_scale\n",
    "            )\n",
    "        )\n",
    "    )\n",
    "    fig.update_xaxes(title='Keyword Coverge (%)')\n",
    "    fig.update_yaxes(title='Similarity Score')\n",
    "    fig.update_layout(\n",
    "        template='plotly_white',\n",
    "        title='Resume Similarity to Job Listings',\n",
    "        width=800,\n",
    "        height=500\n",
    "    )\n",
    "    fig.show()    "
   ]
  },
  {
   "cell_type": "code",
   "execution_count": 470,
   "id": "f374ee85-2742-4dff-a3f7-aadec001b16c",
   "metadata": {},
   "outputs": [
    {
     "data": {
      "text/html": [
       "<div>\n",
       "<style scoped>\n",
       "    .dataframe tbody tr th:only-of-type {\n",
       "        vertical-align: middle;\n",
       "    }\n",
       "\n",
       "    .dataframe tbody tr th {\n",
       "        vertical-align: top;\n",
       "    }\n",
       "\n",
       "    .dataframe thead th {\n",
       "        text-align: right;\n",
       "    }\n",
       "</style>\n",
       "<table border=\"1\" class=\"dataframe\">\n",
       "  <thead>\n",
       "    <tr style=\"text-align: right;\">\n",
       "      <th></th>\n",
       "      <th>title</th>\n",
       "      <th>company</th>\n",
       "      <th>location</th>\n",
       "      <th>similarity-score</th>\n",
       "      <th>keyword-coverage</th>\n",
       "      <th>keyword-wt</th>\n",
       "      <th>keywords-missing</th>\n",
       "    </tr>\n",
       "  </thead>\n",
       "  <tbody>\n",
       "    <tr>\n",
       "      <th>8</th>\n",
       "      <td>Sr. IT Data Analyst</td>\n",
       "      <td>TD Bank</td>\n",
       "      <td>Toronto, ON</td>\n",
       "      <td>0.335239</td>\n",
       "      <td>0.680000</td>\n",
       "      <td>5.122807</td>\n",
       "      <td>{hadoop, metadata, banking, linux, infrastruct...</td>\n",
       "    </tr>\n",
       "    <tr>\n",
       "      <th>13</th>\n",
       "      <td>Sr. Data Analyst (Pharma)</td>\n",
       "      <td>Tiger Analytics</td>\n",
       "      <td>Toronto, ON</td>\n",
       "      <td>0.267301</td>\n",
       "      <td>0.708333</td>\n",
       "      <td>3.714286</td>\n",
       "      <td>{communication skills, metadata, ai, pharma, a...</td>\n",
       "    </tr>\n",
       "    <tr>\n",
       "      <th>14</th>\n",
       "      <td>Manager, Machine Learning and Advanced Analytics</td>\n",
       "      <td>MLSE</td>\n",
       "      <td>Toronto, ON</td>\n",
       "      <td>0.259009</td>\n",
       "      <td>0.657895</td>\n",
       "      <td>3.298507</td>\n",
       "      <td>{mathematics, regression, communication skills...</td>\n",
       "    </tr>\n",
       "    <tr>\n",
       "      <th>4</th>\n",
       "      <td>Data Science Manager - Contract</td>\n",
       "      <td>Scotiabank</td>\n",
       "      <td>Toronto, ON</td>\n",
       "      <td>0.258833</td>\n",
       "      <td>0.702703</td>\n",
       "      <td>2.075472</td>\n",
       "      <td>{regression, banking, computer science, estima...</td>\n",
       "    </tr>\n",
       "    <tr>\n",
       "      <th>0</th>\n",
       "      <td>Data Scientist</td>\n",
       "      <td>Wish</td>\n",
       "      <td>Toronto, ON</td>\n",
       "      <td>0.249669</td>\n",
       "      <td>0.833333</td>\n",
       "      <td>5.033333</td>\n",
       "      <td>{mongodb, master’s degree, insights}</td>\n",
       "    </tr>\n",
       "    <tr>\n",
       "      <th>9</th>\n",
       "      <td>Data Scientist</td>\n",
       "      <td>Arup</td>\n",
       "      <td>Toronto, ON</td>\n",
       "      <td>0.239995</td>\n",
       "      <td>0.682927</td>\n",
       "      <td>-0.263889</td>\n",
       "      <td>{random forest, mathematics, ai, ml, insurance...</td>\n",
       "    </tr>\n",
       "    <tr>\n",
       "      <th>18</th>\n",
       "      <td>Senior Manager, Data and AI Risk</td>\n",
       "      <td>Scotiabank</td>\n",
       "      <td>Toronto, ON</td>\n",
       "      <td>0.228092</td>\n",
       "      <td>0.600000</td>\n",
       "      <td>3.250000</td>\n",
       "      <td>{ai, metadata, banking, financial services, ma...</td>\n",
       "    </tr>\n",
       "    <tr>\n",
       "      <th>12</th>\n",
       "      <td>Senior Data Analyst</td>\n",
       "      <td>Sun Life</td>\n",
       "      <td>Toronto, ON</td>\n",
       "      <td>0.221648</td>\n",
       "      <td>0.678571</td>\n",
       "      <td>2.760000</td>\n",
       "      <td>{banking, computer science, financial services...</td>\n",
       "    </tr>\n",
       "    <tr>\n",
       "      <th>2</th>\n",
       "      <td>Data Analyst - Operations</td>\n",
       "      <td>Flair Airlines Ltd.</td>\n",
       "      <td>Toronto, ON</td>\n",
       "      <td>0.221136</td>\n",
       "      <td>0.807692</td>\n",
       "      <td>5.621622</td>\n",
       "      <td>{mathematics, communication skills, insurance,...</td>\n",
       "    </tr>\n",
       "    <tr>\n",
       "      <th>6</th>\n",
       "      <td>Data Scientist - Climate/Weather</td>\n",
       "      <td>RiskThinking.AI</td>\n",
       "      <td>Toronto, ON</td>\n",
       "      <td>0.207322</td>\n",
       "      <td>0.600000</td>\n",
       "      <td>4.895833</td>\n",
       "      <td>{matlab, ai, computer science, c++, ml, infras...</td>\n",
       "    </tr>\n",
       "    <tr>\n",
       "      <th>5</th>\n",
       "      <td>Senior Data Scientist, Trust &amp; Safety and Supp...</td>\n",
       "      <td>Thumbtack</td>\n",
       "      <td>Toronto, ON</td>\n",
       "      <td>0.200751</td>\n",
       "      <td>0.709677</td>\n",
       "      <td>2.420000</td>\n",
       "      <td>{communication skills, regression, computer sc...</td>\n",
       "    </tr>\n",
       "    <tr>\n",
       "      <th>15</th>\n",
       "      <td>Machine Learning Engineer</td>\n",
       "      <td>Autodesk</td>\n",
       "      <td>Toronto, ON</td>\n",
       "      <td>0.194370</td>\n",
       "      <td>0.515152</td>\n",
       "      <td>1.918367</td>\n",
       "      <td>{pytorch, regularization, data-analytics, ai, ...</td>\n",
       "    </tr>\n",
       "    <tr>\n",
       "      <th>17</th>\n",
       "      <td>Senior Product Manager, Growth Marketing &amp; Ana...</td>\n",
       "      <td>Angi</td>\n",
       "      <td>Toronto, ON</td>\n",
       "      <td>0.185662</td>\n",
       "      <td>0.750000</td>\n",
       "      <td>0.963636</td>\n",
       "      <td>{snowflake, communication skills, computer sci...</td>\n",
       "    </tr>\n",
       "    <tr>\n",
       "      <th>3</th>\n",
       "      <td>Scene+ Data Scientist</td>\n",
       "      <td>Cineplex</td>\n",
       "      <td>Toronto, ON</td>\n",
       "      <td>0.181225</td>\n",
       "      <td>0.621622</td>\n",
       "      <td>-0.590909</td>\n",
       "      <td>{pytorch, mathematics, snowflake, computer sci...</td>\n",
       "    </tr>\n",
       "    <tr>\n",
       "      <th>1</th>\n",
       "      <td>Data Science Co-op (R&amp;D) - Summer term</td>\n",
       "      <td>Swift Medical</td>\n",
       "      <td>Toronto, ON</td>\n",
       "      <td>0.175958</td>\n",
       "      <td>0.619048</td>\n",
       "      <td>-0.452830</td>\n",
       "      <td>{master’s degree, ai, mentoring, insights, sof...</td>\n",
       "    </tr>\n",
       "    <tr>\n",
       "      <th>16</th>\n",
       "      <td>Software Engineer AI/ ML- Co-Op (PEY/ Masters)</td>\n",
       "      <td>Seismic</td>\n",
       "      <td>Toronto, ON</td>\n",
       "      <td>0.160122</td>\n",
       "      <td>0.677419</td>\n",
       "      <td>0.461538</td>\n",
       "      <td>{pytorch, ai, computer science, ml, estimation...</td>\n",
       "    </tr>\n",
       "    <tr>\n",
       "      <th>11</th>\n",
       "      <td>Staff Machine Learning Engineer</td>\n",
       "      <td>Everbridge</td>\n",
       "      <td>Toronto, ON</td>\n",
       "      <td>0.159677</td>\n",
       "      <td>0.590909</td>\n",
       "      <td>3.314286</td>\n",
       "      <td>{pytorch, ai, computer science, mentor, ml, ku...</td>\n",
       "    </tr>\n",
       "    <tr>\n",
       "      <th>7</th>\n",
       "      <td>ML Engineer</td>\n",
       "      <td>Pinterest</td>\n",
       "      <td>Toronto, ON</td>\n",
       "      <td>0.152304</td>\n",
       "      <td>0.777778</td>\n",
       "      <td>3.347826</td>\n",
       "      <td>{ml, phd}</td>\n",
       "    </tr>\n",
       "    <tr>\n",
       "      <th>10</th>\n",
       "      <td>Manager, Data &amp; AI Risk</td>\n",
       "      <td>Scotiabank</td>\n",
       "      <td>Toronto, ON</td>\n",
       "      <td>0.147874</td>\n",
       "      <td>0.473684</td>\n",
       "      <td>-0.430233</td>\n",
       "      <td>{gradient boosting, boosting, ai, banking, ml,...</td>\n",
       "    </tr>\n",
       "    <tr>\n",
       "      <th>19</th>\n",
       "      <td>Senior Machine Learning Engineer, NLP (Remote)</td>\n",
       "      <td>BenchSci</td>\n",
       "      <td>Toronto, ON</td>\n",
       "      <td>0.147398</td>\n",
       "      <td>0.560000</td>\n",
       "      <td>2.625000</td>\n",
       "      <td>{pytorch, workflow, ai, ml, infrastructure, co...</td>\n",
       "    </tr>\n",
       "    <tr>\n",
       "      <th>21</th>\n",
       "      <td>Senior Manager, Data &amp; AI Risk</td>\n",
       "      <td>Scotiabank</td>\n",
       "      <td>Toronto, ON</td>\n",
       "      <td>0.145301</td>\n",
       "      <td>0.473684</td>\n",
       "      <td>0.448718</td>\n",
       "      <td>{gradient boosting, boosting, ai, banking, ml,...</td>\n",
       "    </tr>\n",
       "    <tr>\n",
       "      <th>20</th>\n",
       "      <td>Sr. Manager/ Associate Director - Pricing Anal...</td>\n",
       "      <td>Tiger Analytics</td>\n",
       "      <td>Toronto, ON</td>\n",
       "      <td>0.143760</td>\n",
       "      <td>0.733333</td>\n",
       "      <td>-0.451613</td>\n",
       "      <td>{team management, insights, ai, communication ...</td>\n",
       "    </tr>\n",
       "  </tbody>\n",
       "</table>\n",
       "</div>"
      ],
      "text/plain": [
       "                                                title              company  \\\n",
       "8                                 Sr. IT Data Analyst              TD Bank   \n",
       "13                          Sr. Data Analyst (Pharma)      Tiger Analytics   \n",
       "14   Manager, Machine Learning and Advanced Analytics                 MLSE   \n",
       "4                     Data Science Manager - Contract           Scotiabank   \n",
       "0                                      Data Scientist                 Wish   \n",
       "9                                      Data Scientist                 Arup   \n",
       "18                   Senior Manager, Data and AI Risk           Scotiabank   \n",
       "12                                Senior Data Analyst             Sun Life   \n",
       "2                           Data Analyst - Operations  Flair Airlines Ltd.   \n",
       "6                    Data Scientist - Climate/Weather      RiskThinking.AI   \n",
       "5   Senior Data Scientist, Trust & Safety and Supp...            Thumbtack   \n",
       "15                          Machine Learning Engineer             Autodesk   \n",
       "17  Senior Product Manager, Growth Marketing & Ana...                 Angi   \n",
       "3                               Scene+ Data Scientist             Cineplex   \n",
       "1              Data Science Co-op (R&D) - Summer term        Swift Medical   \n",
       "16     Software Engineer AI/ ML- Co-Op (PEY/ Masters)              Seismic   \n",
       "11                    Staff Machine Learning Engineer           Everbridge   \n",
       "7                                         ML Engineer            Pinterest   \n",
       "10                            Manager, Data & AI Risk           Scotiabank   \n",
       "19     Senior Machine Learning Engineer, NLP (Remote)             BenchSci   \n",
       "21                     Senior Manager, Data & AI Risk           Scotiabank   \n",
       "20  Sr. Manager/ Associate Director - Pricing Anal...      Tiger Analytics   \n",
       "\n",
       "       location  similarity-score  keyword-coverage  keyword-wt  \\\n",
       "8   Toronto, ON          0.335239          0.680000    5.122807   \n",
       "13  Toronto, ON          0.267301          0.708333    3.714286   \n",
       "14  Toronto, ON          0.259009          0.657895    3.298507   \n",
       "4   Toronto, ON          0.258833          0.702703    2.075472   \n",
       "0   Toronto, ON          0.249669          0.833333    5.033333   \n",
       "9   Toronto, ON          0.239995          0.682927   -0.263889   \n",
       "18  Toronto, ON          0.228092          0.600000    3.250000   \n",
       "12  Toronto, ON          0.221648          0.678571    2.760000   \n",
       "2   Toronto, ON          0.221136          0.807692    5.621622   \n",
       "6   Toronto, ON          0.207322          0.600000    4.895833   \n",
       "5   Toronto, ON          0.200751          0.709677    2.420000   \n",
       "15  Toronto, ON          0.194370          0.515152    1.918367   \n",
       "17  Toronto, ON          0.185662          0.750000    0.963636   \n",
       "3   Toronto, ON          0.181225          0.621622   -0.590909   \n",
       "1   Toronto, ON          0.175958          0.619048   -0.452830   \n",
       "16  Toronto, ON          0.160122          0.677419    0.461538   \n",
       "11  Toronto, ON          0.159677          0.590909    3.314286   \n",
       "7   Toronto, ON          0.152304          0.777778    3.347826   \n",
       "10  Toronto, ON          0.147874          0.473684   -0.430233   \n",
       "19  Toronto, ON          0.147398          0.560000    2.625000   \n",
       "21  Toronto, ON          0.145301          0.473684    0.448718   \n",
       "20  Toronto, ON          0.143760          0.733333   -0.451613   \n",
       "\n",
       "                                     keywords-missing  \n",
       "8   {hadoop, metadata, banking, linux, infrastruct...  \n",
       "13  {communication skills, metadata, ai, pharma, a...  \n",
       "14  {mathematics, regression, communication skills...  \n",
       "4   {regression, banking, computer science, estima...  \n",
       "0                {mongodb, master’s degree, insights}  \n",
       "9   {random forest, mathematics, ai, ml, insurance...  \n",
       "18  {ai, metadata, banking, financial services, ma...  \n",
       "12  {banking, computer science, financial services...  \n",
       "2   {mathematics, communication skills, insurance,...  \n",
       "6   {matlab, ai, computer science, c++, ml, infras...  \n",
       "5   {communication skills, regression, computer sc...  \n",
       "15  {pytorch, regularization, data-analytics, ai, ...  \n",
       "17  {snowflake, communication skills, computer sci...  \n",
       "3   {pytorch, mathematics, snowflake, computer sci...  \n",
       "1   {master’s degree, ai, mentoring, insights, sof...  \n",
       "16  {pytorch, ai, computer science, ml, estimation...  \n",
       "11  {pytorch, ai, computer science, mentor, ml, ku...  \n",
       "7                                           {ml, phd}  \n",
       "10  {gradient boosting, boosting, ai, banking, ml,...  \n",
       "19  {pytorch, workflow, ai, ml, infrastructure, co...  \n",
       "21  {gradient boosting, boosting, ai, banking, ml,...  \n",
       "20  {team management, insights, ai, communication ...  "
      ]
     },
     "execution_count": 470,
     "metadata": {},
     "output_type": "execute_result"
    }
   ],
   "source": [
    "# get resume\n",
    "r = get_resume_text('data/resume.docx',False)\n",
    "# cl = get_resume_text('data/cover-letter.docx',True)\n",
    "\n",
    "# calc similarities with each job\n",
    "df_r = calc_similarities(r,job_details,'data/terms.csv')\n",
    "df_r"
   ]
  },
  {
   "cell_type": "code",
   "execution_count": 471,
   "id": "eaba3aa8",
   "metadata": {},
   "outputs": [
    {
     "data": {
      "application/vnd.plotly.v1+json": {
       "config": {
        "plotlyServerURL": "https://plot.ly"
       },
       "data": [
        {
         "marker": {
          "color": [
           0.33523877143511155,
           0.26730121800437606,
           0.25900855785925425,
           0.2588333993416509,
           0.2496689772671758,
           0.2399952863297752,
           0.22809237272598565,
           0.2216478103036954,
           0.2211356020045834,
           0.2073219022408856,
           0.20075071731617827,
           0.19436970514572738,
           0.18566211679421757,
           0.1812254041560842,
           0.17595797075367192,
           0.16012212030484166,
           0.15967744409031495,
           0.15230391383416614,
           0.1478739174676096,
           0.14739808788030118,
           0.1453006230764926,
           0.14375997444808664
          ],
          "colorscale": [
           [
            0,
            "rgba(252,76,1,1.0)"
           ],
           [
            0.25,
            "rgba(252,76,1,0.5)"
           ],
           [
            0.5,
            "rgba(83,128,141,0.25)"
           ],
           [
            0.75,
            "rgba(83,128,141,0.5)"
           ],
           [
            1,
            "rgba(83,128,141,1.0)"
           ]
          ],
          "size": [
           68.97812308108614,
           51.97392581711348,
           46.95449487779611,
           32.189548580148575,
           67.89796321929998,
           3.9479104871135706,
           46.36889460154242,
           40.4534308878782,
           75,
           66.23801166699624,
           36.34882341309077,
           30.292925950289156,
           18.767055566541426,
           0,
           1.6669402770678394,
           12.705541442935157,
           47.14497584677534,
           47.5498878008099,
           1.9397473453789589,
           38.82366027288907,
           12.550767405424317,
           1.6816358034535288
          ]
         },
         "mode": "markers",
         "text": [
          "Sr. IT Data Analyst",
          "Sr. Data Analyst (Pharma)",
          "Manager, Machine Learning and Advanced Analytics",
          "Data Science Manager - Contract",
          "Data Scientist",
          "Data Scientist",
          "Senior Manager, Data and AI Risk",
          "Senior Data Analyst",
          "Data Analyst - Operations",
          "Data Scientist - Climate/Weather",
          "Senior Data Scientist, Trust & Safety and Support Operations",
          "Machine Learning Engineer",
          "Senior Product Manager, Growth Marketing & Analytics",
          "Scene+ Data Scientist",
          "Data Science Co-op (R&D) - Summer term",
          "Software Engineer AI/ ML- Co-Op (PEY/ Masters)",
          "Staff Machine Learning Engineer",
          "ML Engineer",
          "Manager, Data & AI Risk",
          "Senior Machine Learning Engineer, NLP (Remote)",
          "Senior Manager, Data & AI Risk",
          "Sr. Manager/ Associate Director - Pricing Analytics"
         ],
         "type": "scatter",
         "x": [
          0.68,
          0.7083333333333334,
          0.6578947368421053,
          0.7027027027027027,
          0.8333333333333334,
          0.6829268292682927,
          0.6,
          0.6785714285714286,
          0.8076923076923077,
          0.6,
          0.7096774193548387,
          0.5151515151515151,
          0.75,
          0.6216216216216216,
          0.6190476190476191,
          0.6774193548387096,
          0.5909090909090909,
          0.7777777777777778,
          0.47368421052631576,
          0.56,
          0.47368421052631576,
          0.7333333333333333
         ],
         "y": [
          0.33523877143511155,
          0.26730121800437606,
          0.25900855785925425,
          0.2588333993416509,
          0.2496689772671758,
          0.2399952863297752,
          0.22809237272598565,
          0.2216478103036954,
          0.2211356020045834,
          0.2073219022408856,
          0.20075071731617827,
          0.19436970514572738,
          0.18566211679421757,
          0.1812254041560842,
          0.17595797075367192,
          0.16012212030484166,
          0.15967744409031495,
          0.15230391383416614,
          0.1478739174676096,
          0.14739808788030118,
          0.1453006230764926,
          0.14375997444808664
         ]
        }
       ],
       "layout": {
        "height": 500,
        "template": {
         "data": {
          "bar": [
           {
            "error_x": {
             "color": "#2a3f5f"
            },
            "error_y": {
             "color": "#2a3f5f"
            },
            "marker": {
             "line": {
              "color": "white",
              "width": 0.5
             },
             "pattern": {
              "fillmode": "overlay",
              "size": 10,
              "solidity": 0.2
             }
            },
            "type": "bar"
           }
          ],
          "barpolar": [
           {
            "marker": {
             "line": {
              "color": "white",
              "width": 0.5
             },
             "pattern": {
              "fillmode": "overlay",
              "size": 10,
              "solidity": 0.2
             }
            },
            "type": "barpolar"
           }
          ],
          "carpet": [
           {
            "aaxis": {
             "endlinecolor": "#2a3f5f",
             "gridcolor": "#C8D4E3",
             "linecolor": "#C8D4E3",
             "minorgridcolor": "#C8D4E3",
             "startlinecolor": "#2a3f5f"
            },
            "baxis": {
             "endlinecolor": "#2a3f5f",
             "gridcolor": "#C8D4E3",
             "linecolor": "#C8D4E3",
             "minorgridcolor": "#C8D4E3",
             "startlinecolor": "#2a3f5f"
            },
            "type": "carpet"
           }
          ],
          "choropleth": [
           {
            "colorbar": {
             "outlinewidth": 0,
             "ticks": ""
            },
            "type": "choropleth"
           }
          ],
          "contour": [
           {
            "colorbar": {
             "outlinewidth": 0,
             "ticks": ""
            },
            "colorscale": [
             [
              0,
              "#0d0887"
             ],
             [
              0.1111111111111111,
              "#46039f"
             ],
             [
              0.2222222222222222,
              "#7201a8"
             ],
             [
              0.3333333333333333,
              "#9c179e"
             ],
             [
              0.4444444444444444,
              "#bd3786"
             ],
             [
              0.5555555555555556,
              "#d8576b"
             ],
             [
              0.6666666666666666,
              "#ed7953"
             ],
             [
              0.7777777777777778,
              "#fb9f3a"
             ],
             [
              0.8888888888888888,
              "#fdca26"
             ],
             [
              1,
              "#f0f921"
             ]
            ],
            "type": "contour"
           }
          ],
          "contourcarpet": [
           {
            "colorbar": {
             "outlinewidth": 0,
             "ticks": ""
            },
            "type": "contourcarpet"
           }
          ],
          "heatmap": [
           {
            "colorbar": {
             "outlinewidth": 0,
             "ticks": ""
            },
            "colorscale": [
             [
              0,
              "#0d0887"
             ],
             [
              0.1111111111111111,
              "#46039f"
             ],
             [
              0.2222222222222222,
              "#7201a8"
             ],
             [
              0.3333333333333333,
              "#9c179e"
             ],
             [
              0.4444444444444444,
              "#bd3786"
             ],
             [
              0.5555555555555556,
              "#d8576b"
             ],
             [
              0.6666666666666666,
              "#ed7953"
             ],
             [
              0.7777777777777778,
              "#fb9f3a"
             ],
             [
              0.8888888888888888,
              "#fdca26"
             ],
             [
              1,
              "#f0f921"
             ]
            ],
            "type": "heatmap"
           }
          ],
          "heatmapgl": [
           {
            "colorbar": {
             "outlinewidth": 0,
             "ticks": ""
            },
            "colorscale": [
             [
              0,
              "#0d0887"
             ],
             [
              0.1111111111111111,
              "#46039f"
             ],
             [
              0.2222222222222222,
              "#7201a8"
             ],
             [
              0.3333333333333333,
              "#9c179e"
             ],
             [
              0.4444444444444444,
              "#bd3786"
             ],
             [
              0.5555555555555556,
              "#d8576b"
             ],
             [
              0.6666666666666666,
              "#ed7953"
             ],
             [
              0.7777777777777778,
              "#fb9f3a"
             ],
             [
              0.8888888888888888,
              "#fdca26"
             ],
             [
              1,
              "#f0f921"
             ]
            ],
            "type": "heatmapgl"
           }
          ],
          "histogram": [
           {
            "marker": {
             "pattern": {
              "fillmode": "overlay",
              "size": 10,
              "solidity": 0.2
             }
            },
            "type": "histogram"
           }
          ],
          "histogram2d": [
           {
            "colorbar": {
             "outlinewidth": 0,
             "ticks": ""
            },
            "colorscale": [
             [
              0,
              "#0d0887"
             ],
             [
              0.1111111111111111,
              "#46039f"
             ],
             [
              0.2222222222222222,
              "#7201a8"
             ],
             [
              0.3333333333333333,
              "#9c179e"
             ],
             [
              0.4444444444444444,
              "#bd3786"
             ],
             [
              0.5555555555555556,
              "#d8576b"
             ],
             [
              0.6666666666666666,
              "#ed7953"
             ],
             [
              0.7777777777777778,
              "#fb9f3a"
             ],
             [
              0.8888888888888888,
              "#fdca26"
             ],
             [
              1,
              "#f0f921"
             ]
            ],
            "type": "histogram2d"
           }
          ],
          "histogram2dcontour": [
           {
            "colorbar": {
             "outlinewidth": 0,
             "ticks": ""
            },
            "colorscale": [
             [
              0,
              "#0d0887"
             ],
             [
              0.1111111111111111,
              "#46039f"
             ],
             [
              0.2222222222222222,
              "#7201a8"
             ],
             [
              0.3333333333333333,
              "#9c179e"
             ],
             [
              0.4444444444444444,
              "#bd3786"
             ],
             [
              0.5555555555555556,
              "#d8576b"
             ],
             [
              0.6666666666666666,
              "#ed7953"
             ],
             [
              0.7777777777777778,
              "#fb9f3a"
             ],
             [
              0.8888888888888888,
              "#fdca26"
             ],
             [
              1,
              "#f0f921"
             ]
            ],
            "type": "histogram2dcontour"
           }
          ],
          "mesh3d": [
           {
            "colorbar": {
             "outlinewidth": 0,
             "ticks": ""
            },
            "type": "mesh3d"
           }
          ],
          "parcoords": [
           {
            "line": {
             "colorbar": {
              "outlinewidth": 0,
              "ticks": ""
             }
            },
            "type": "parcoords"
           }
          ],
          "pie": [
           {
            "automargin": true,
            "type": "pie"
           }
          ],
          "scatter": [
           {
            "fillpattern": {
             "fillmode": "overlay",
             "size": 10,
             "solidity": 0.2
            },
            "type": "scatter"
           }
          ],
          "scatter3d": [
           {
            "line": {
             "colorbar": {
              "outlinewidth": 0,
              "ticks": ""
             }
            },
            "marker": {
             "colorbar": {
              "outlinewidth": 0,
              "ticks": ""
             }
            },
            "type": "scatter3d"
           }
          ],
          "scattercarpet": [
           {
            "marker": {
             "colorbar": {
              "outlinewidth": 0,
              "ticks": ""
             }
            },
            "type": "scattercarpet"
           }
          ],
          "scattergeo": [
           {
            "marker": {
             "colorbar": {
              "outlinewidth": 0,
              "ticks": ""
             }
            },
            "type": "scattergeo"
           }
          ],
          "scattergl": [
           {
            "marker": {
             "colorbar": {
              "outlinewidth": 0,
              "ticks": ""
             }
            },
            "type": "scattergl"
           }
          ],
          "scattermapbox": [
           {
            "marker": {
             "colorbar": {
              "outlinewidth": 0,
              "ticks": ""
             }
            },
            "type": "scattermapbox"
           }
          ],
          "scatterpolar": [
           {
            "marker": {
             "colorbar": {
              "outlinewidth": 0,
              "ticks": ""
             }
            },
            "type": "scatterpolar"
           }
          ],
          "scatterpolargl": [
           {
            "marker": {
             "colorbar": {
              "outlinewidth": 0,
              "ticks": ""
             }
            },
            "type": "scatterpolargl"
           }
          ],
          "scatterternary": [
           {
            "marker": {
             "colorbar": {
              "outlinewidth": 0,
              "ticks": ""
             }
            },
            "type": "scatterternary"
           }
          ],
          "surface": [
           {
            "colorbar": {
             "outlinewidth": 0,
             "ticks": ""
            },
            "colorscale": [
             [
              0,
              "#0d0887"
             ],
             [
              0.1111111111111111,
              "#46039f"
             ],
             [
              0.2222222222222222,
              "#7201a8"
             ],
             [
              0.3333333333333333,
              "#9c179e"
             ],
             [
              0.4444444444444444,
              "#bd3786"
             ],
             [
              0.5555555555555556,
              "#d8576b"
             ],
             [
              0.6666666666666666,
              "#ed7953"
             ],
             [
              0.7777777777777778,
              "#fb9f3a"
             ],
             [
              0.8888888888888888,
              "#fdca26"
             ],
             [
              1,
              "#f0f921"
             ]
            ],
            "type": "surface"
           }
          ],
          "table": [
           {
            "cells": {
             "fill": {
              "color": "#EBF0F8"
             },
             "line": {
              "color": "white"
             }
            },
            "header": {
             "fill": {
              "color": "#C8D4E3"
             },
             "line": {
              "color": "white"
             }
            },
            "type": "table"
           }
          ]
         },
         "layout": {
          "annotationdefaults": {
           "arrowcolor": "#2a3f5f",
           "arrowhead": 0,
           "arrowwidth": 1
          },
          "autotypenumbers": "strict",
          "coloraxis": {
           "colorbar": {
            "outlinewidth": 0,
            "ticks": ""
           }
          },
          "colorscale": {
           "diverging": [
            [
             0,
             "#8e0152"
            ],
            [
             0.1,
             "#c51b7d"
            ],
            [
             0.2,
             "#de77ae"
            ],
            [
             0.3,
             "#f1b6da"
            ],
            [
             0.4,
             "#fde0ef"
            ],
            [
             0.5,
             "#f7f7f7"
            ],
            [
             0.6,
             "#e6f5d0"
            ],
            [
             0.7,
             "#b8e186"
            ],
            [
             0.8,
             "#7fbc41"
            ],
            [
             0.9,
             "#4d9221"
            ],
            [
             1,
             "#276419"
            ]
           ],
           "sequential": [
            [
             0,
             "#0d0887"
            ],
            [
             0.1111111111111111,
             "#46039f"
            ],
            [
             0.2222222222222222,
             "#7201a8"
            ],
            [
             0.3333333333333333,
             "#9c179e"
            ],
            [
             0.4444444444444444,
             "#bd3786"
            ],
            [
             0.5555555555555556,
             "#d8576b"
            ],
            [
             0.6666666666666666,
             "#ed7953"
            ],
            [
             0.7777777777777778,
             "#fb9f3a"
            ],
            [
             0.8888888888888888,
             "#fdca26"
            ],
            [
             1,
             "#f0f921"
            ]
           ],
           "sequentialminus": [
            [
             0,
             "#0d0887"
            ],
            [
             0.1111111111111111,
             "#46039f"
            ],
            [
             0.2222222222222222,
             "#7201a8"
            ],
            [
             0.3333333333333333,
             "#9c179e"
            ],
            [
             0.4444444444444444,
             "#bd3786"
            ],
            [
             0.5555555555555556,
             "#d8576b"
            ],
            [
             0.6666666666666666,
             "#ed7953"
            ],
            [
             0.7777777777777778,
             "#fb9f3a"
            ],
            [
             0.8888888888888888,
             "#fdca26"
            ],
            [
             1,
             "#f0f921"
            ]
           ]
          },
          "colorway": [
           "#636efa",
           "#EF553B",
           "#00cc96",
           "#ab63fa",
           "#FFA15A",
           "#19d3f3",
           "#FF6692",
           "#B6E880",
           "#FF97FF",
           "#FECB52"
          ],
          "font": {
           "color": "#2a3f5f"
          },
          "geo": {
           "bgcolor": "white",
           "lakecolor": "white",
           "landcolor": "white",
           "showlakes": true,
           "showland": true,
           "subunitcolor": "#C8D4E3"
          },
          "hoverlabel": {
           "align": "left"
          },
          "hovermode": "closest",
          "mapbox": {
           "style": "light"
          },
          "paper_bgcolor": "white",
          "plot_bgcolor": "white",
          "polar": {
           "angularaxis": {
            "gridcolor": "#EBF0F8",
            "linecolor": "#EBF0F8",
            "ticks": ""
           },
           "bgcolor": "white",
           "radialaxis": {
            "gridcolor": "#EBF0F8",
            "linecolor": "#EBF0F8",
            "ticks": ""
           }
          },
          "scene": {
           "xaxis": {
            "backgroundcolor": "white",
            "gridcolor": "#DFE8F3",
            "gridwidth": 2,
            "linecolor": "#EBF0F8",
            "showbackground": true,
            "ticks": "",
            "zerolinecolor": "#EBF0F8"
           },
           "yaxis": {
            "backgroundcolor": "white",
            "gridcolor": "#DFE8F3",
            "gridwidth": 2,
            "linecolor": "#EBF0F8",
            "showbackground": true,
            "ticks": "",
            "zerolinecolor": "#EBF0F8"
           },
           "zaxis": {
            "backgroundcolor": "white",
            "gridcolor": "#DFE8F3",
            "gridwidth": 2,
            "linecolor": "#EBF0F8",
            "showbackground": true,
            "ticks": "",
            "zerolinecolor": "#EBF0F8"
           }
          },
          "shapedefaults": {
           "line": {
            "color": "#2a3f5f"
           }
          },
          "ternary": {
           "aaxis": {
            "gridcolor": "#DFE8F3",
            "linecolor": "#A2B1C6",
            "ticks": ""
           },
           "baxis": {
            "gridcolor": "#DFE8F3",
            "linecolor": "#A2B1C6",
            "ticks": ""
           },
           "bgcolor": "white",
           "caxis": {
            "gridcolor": "#DFE8F3",
            "linecolor": "#A2B1C6",
            "ticks": ""
           }
          },
          "title": {
           "x": 0.05
          },
          "xaxis": {
           "automargin": true,
           "gridcolor": "#EBF0F8",
           "linecolor": "#EBF0F8",
           "ticks": "",
           "title": {
            "standoff": 15
           },
           "zerolinecolor": "#EBF0F8",
           "zerolinewidth": 2
          },
          "yaxis": {
           "automargin": true,
           "gridcolor": "#EBF0F8",
           "linecolor": "#EBF0F8",
           "ticks": "",
           "title": {
            "standoff": 15
           },
           "zerolinecolor": "#EBF0F8",
           "zerolinewidth": 2
          }
         }
        },
        "title": {
         "text": "Resume Similarity to Job Listings"
        },
        "width": 800,
        "xaxis": {
         "title": {
          "text": "Keyword Coverge (%)"
         }
        },
        "yaxis": {
         "title": {
          "text": "Similarity Score"
         }
        }
       }
      },
      "text/html": [
       "<div>                            <div id=\"7284cc74-6ed8-420d-8f67-483923693761\" class=\"plotly-graph-div\" style=\"height:500px; width:800px;\"></div>            <script type=\"text/javascript\">                require([\"plotly\"], function(Plotly) {                    window.PLOTLYENV=window.PLOTLYENV || {};                                    if (document.getElementById(\"7284cc74-6ed8-420d-8f67-483923693761\")) {                    Plotly.newPlot(                        \"7284cc74-6ed8-420d-8f67-483923693761\",                        [{\"marker\":{\"color\":[0.33523877143511155,0.26730121800437606,0.25900855785925425,0.2588333993416509,0.2496689772671758,0.2399952863297752,0.22809237272598565,0.2216478103036954,0.2211356020045834,0.2073219022408856,0.20075071731617827,0.19436970514572738,0.18566211679421757,0.1812254041560842,0.17595797075367192,0.16012212030484166,0.15967744409031495,0.15230391383416614,0.1478739174676096,0.14739808788030118,0.1453006230764926,0.14375997444808664],\"colorscale\":[[0,\"rgba(252,76,1,1.0)\"],[0.25,\"rgba(252,76,1,0.5)\"],[0.5,\"rgba(83,128,141,0.25)\"],[0.75,\"rgba(83,128,141,0.5)\"],[1.0,\"rgba(83,128,141,1.0)\"]],\"size\":[68.97812308108614,51.97392581711348,46.95449487779611,32.189548580148575,67.89796321929998,3.9479104871135706,46.36889460154242,40.4534308878782,75.0,66.23801166699624,36.34882341309077,30.292925950289156,18.767055566541426,0.0,1.6669402770678394,12.705541442935157,47.14497584677534,47.5498878008099,1.9397473453789589,38.82366027288907,12.550767405424317,1.6816358034535288]},\"mode\":\"markers\",\"text\":[\"Sr. IT Data Analyst\",\"Sr. Data Analyst (Pharma)\",\"Manager, Machine Learning and Advanced Analytics\",\"Data Science Manager - Contract\",\"Data Scientist\",\"Data Scientist\",\"Senior Manager, Data and AI Risk\",\"Senior Data Analyst\",\"Data Analyst - Operations\",\"Data Scientist - Climate/Weather\",\"Senior Data Scientist, Trust & Safety and Support Operations\",\"Machine Learning Engineer\",\"Senior Product Manager, Growth Marketing & Analytics\",\"Scene+ Data Scientist\",\"Data Science Co-op (R&D) - Summer term\",\"Software Engineer AI/ ML- Co-Op (PEY/ Masters)\",\"Staff Machine Learning Engineer\",\"ML Engineer\",\"Manager, Data & AI Risk\",\"Senior Machine Learning Engineer, NLP (Remote)\",\"Senior Manager, Data & AI Risk\",\"Sr. Manager/ Associate Director - Pricing Analytics\"],\"x\":[0.68,0.7083333333333334,0.6578947368421053,0.7027027027027027,0.8333333333333334,0.6829268292682927,0.6,0.6785714285714286,0.8076923076923077,0.6,0.7096774193548387,0.5151515151515151,0.75,0.6216216216216216,0.6190476190476191,0.6774193548387096,0.5909090909090909,0.7777777777777778,0.47368421052631576,0.56,0.47368421052631576,0.7333333333333333],\"y\":[0.33523877143511155,0.26730121800437606,0.25900855785925425,0.2588333993416509,0.2496689772671758,0.2399952863297752,0.22809237272598565,0.2216478103036954,0.2211356020045834,0.2073219022408856,0.20075071731617827,0.19436970514572738,0.18566211679421757,0.1812254041560842,0.17595797075367192,0.16012212030484166,0.15967744409031495,0.15230391383416614,0.1478739174676096,0.14739808788030118,0.1453006230764926,0.14375997444808664],\"type\":\"scatter\"}],                        {\"template\":{\"data\":{\"barpolar\":[{\"marker\":{\"line\":{\"color\":\"white\",\"width\":0.5},\"pattern\":{\"fillmode\":\"overlay\",\"size\":10,\"solidity\":0.2}},\"type\":\"barpolar\"}],\"bar\":[{\"error_x\":{\"color\":\"#2a3f5f\"},\"error_y\":{\"color\":\"#2a3f5f\"},\"marker\":{\"line\":{\"color\":\"white\",\"width\":0.5},\"pattern\":{\"fillmode\":\"overlay\",\"size\":10,\"solidity\":0.2}},\"type\":\"bar\"}],\"carpet\":[{\"aaxis\":{\"endlinecolor\":\"#2a3f5f\",\"gridcolor\":\"#C8D4E3\",\"linecolor\":\"#C8D4E3\",\"minorgridcolor\":\"#C8D4E3\",\"startlinecolor\":\"#2a3f5f\"},\"baxis\":{\"endlinecolor\":\"#2a3f5f\",\"gridcolor\":\"#C8D4E3\",\"linecolor\":\"#C8D4E3\",\"minorgridcolor\":\"#C8D4E3\",\"startlinecolor\":\"#2a3f5f\"},\"type\":\"carpet\"}],\"choropleth\":[{\"colorbar\":{\"outlinewidth\":0,\"ticks\":\"\"},\"type\":\"choropleth\"}],\"contourcarpet\":[{\"colorbar\":{\"outlinewidth\":0,\"ticks\":\"\"},\"type\":\"contourcarpet\"}],\"contour\":[{\"colorbar\":{\"outlinewidth\":0,\"ticks\":\"\"},\"colorscale\":[[0.0,\"#0d0887\"],[0.1111111111111111,\"#46039f\"],[0.2222222222222222,\"#7201a8\"],[0.3333333333333333,\"#9c179e\"],[0.4444444444444444,\"#bd3786\"],[0.5555555555555556,\"#d8576b\"],[0.6666666666666666,\"#ed7953\"],[0.7777777777777778,\"#fb9f3a\"],[0.8888888888888888,\"#fdca26\"],[1.0,\"#f0f921\"]],\"type\":\"contour\"}],\"heatmapgl\":[{\"colorbar\":{\"outlinewidth\":0,\"ticks\":\"\"},\"colorscale\":[[0.0,\"#0d0887\"],[0.1111111111111111,\"#46039f\"],[0.2222222222222222,\"#7201a8\"],[0.3333333333333333,\"#9c179e\"],[0.4444444444444444,\"#bd3786\"],[0.5555555555555556,\"#d8576b\"],[0.6666666666666666,\"#ed7953\"],[0.7777777777777778,\"#fb9f3a\"],[0.8888888888888888,\"#fdca26\"],[1.0,\"#f0f921\"]],\"type\":\"heatmapgl\"}],\"heatmap\":[{\"colorbar\":{\"outlinewidth\":0,\"ticks\":\"\"},\"colorscale\":[[0.0,\"#0d0887\"],[0.1111111111111111,\"#46039f\"],[0.2222222222222222,\"#7201a8\"],[0.3333333333333333,\"#9c179e\"],[0.4444444444444444,\"#bd3786\"],[0.5555555555555556,\"#d8576b\"],[0.6666666666666666,\"#ed7953\"],[0.7777777777777778,\"#fb9f3a\"],[0.8888888888888888,\"#fdca26\"],[1.0,\"#f0f921\"]],\"type\":\"heatmap\"}],\"histogram2dcontour\":[{\"colorbar\":{\"outlinewidth\":0,\"ticks\":\"\"},\"colorscale\":[[0.0,\"#0d0887\"],[0.1111111111111111,\"#46039f\"],[0.2222222222222222,\"#7201a8\"],[0.3333333333333333,\"#9c179e\"],[0.4444444444444444,\"#bd3786\"],[0.5555555555555556,\"#d8576b\"],[0.6666666666666666,\"#ed7953\"],[0.7777777777777778,\"#fb9f3a\"],[0.8888888888888888,\"#fdca26\"],[1.0,\"#f0f921\"]],\"type\":\"histogram2dcontour\"}],\"histogram2d\":[{\"colorbar\":{\"outlinewidth\":0,\"ticks\":\"\"},\"colorscale\":[[0.0,\"#0d0887\"],[0.1111111111111111,\"#46039f\"],[0.2222222222222222,\"#7201a8\"],[0.3333333333333333,\"#9c179e\"],[0.4444444444444444,\"#bd3786\"],[0.5555555555555556,\"#d8576b\"],[0.6666666666666666,\"#ed7953\"],[0.7777777777777778,\"#fb9f3a\"],[0.8888888888888888,\"#fdca26\"],[1.0,\"#f0f921\"]],\"type\":\"histogram2d\"}],\"histogram\":[{\"marker\":{\"pattern\":{\"fillmode\":\"overlay\",\"size\":10,\"solidity\":0.2}},\"type\":\"histogram\"}],\"mesh3d\":[{\"colorbar\":{\"outlinewidth\":0,\"ticks\":\"\"},\"type\":\"mesh3d\"}],\"parcoords\":[{\"line\":{\"colorbar\":{\"outlinewidth\":0,\"ticks\":\"\"}},\"type\":\"parcoords\"}],\"pie\":[{\"automargin\":true,\"type\":\"pie\"}],\"scatter3d\":[{\"line\":{\"colorbar\":{\"outlinewidth\":0,\"ticks\":\"\"}},\"marker\":{\"colorbar\":{\"outlinewidth\":0,\"ticks\":\"\"}},\"type\":\"scatter3d\"}],\"scattercarpet\":[{\"marker\":{\"colorbar\":{\"outlinewidth\":0,\"ticks\":\"\"}},\"type\":\"scattercarpet\"}],\"scattergeo\":[{\"marker\":{\"colorbar\":{\"outlinewidth\":0,\"ticks\":\"\"}},\"type\":\"scattergeo\"}],\"scattergl\":[{\"marker\":{\"colorbar\":{\"outlinewidth\":0,\"ticks\":\"\"}},\"type\":\"scattergl\"}],\"scattermapbox\":[{\"marker\":{\"colorbar\":{\"outlinewidth\":0,\"ticks\":\"\"}},\"type\":\"scattermapbox\"}],\"scatterpolargl\":[{\"marker\":{\"colorbar\":{\"outlinewidth\":0,\"ticks\":\"\"}},\"type\":\"scatterpolargl\"}],\"scatterpolar\":[{\"marker\":{\"colorbar\":{\"outlinewidth\":0,\"ticks\":\"\"}},\"type\":\"scatterpolar\"}],\"scatter\":[{\"fillpattern\":{\"fillmode\":\"overlay\",\"size\":10,\"solidity\":0.2},\"type\":\"scatter\"}],\"scatterternary\":[{\"marker\":{\"colorbar\":{\"outlinewidth\":0,\"ticks\":\"\"}},\"type\":\"scatterternary\"}],\"surface\":[{\"colorbar\":{\"outlinewidth\":0,\"ticks\":\"\"},\"colorscale\":[[0.0,\"#0d0887\"],[0.1111111111111111,\"#46039f\"],[0.2222222222222222,\"#7201a8\"],[0.3333333333333333,\"#9c179e\"],[0.4444444444444444,\"#bd3786\"],[0.5555555555555556,\"#d8576b\"],[0.6666666666666666,\"#ed7953\"],[0.7777777777777778,\"#fb9f3a\"],[0.8888888888888888,\"#fdca26\"],[1.0,\"#f0f921\"]],\"type\":\"surface\"}],\"table\":[{\"cells\":{\"fill\":{\"color\":\"#EBF0F8\"},\"line\":{\"color\":\"white\"}},\"header\":{\"fill\":{\"color\":\"#C8D4E3\"},\"line\":{\"color\":\"white\"}},\"type\":\"table\"}]},\"layout\":{\"annotationdefaults\":{\"arrowcolor\":\"#2a3f5f\",\"arrowhead\":0,\"arrowwidth\":1},\"autotypenumbers\":\"strict\",\"coloraxis\":{\"colorbar\":{\"outlinewidth\":0,\"ticks\":\"\"}},\"colorscale\":{\"diverging\":[[0,\"#8e0152\"],[0.1,\"#c51b7d\"],[0.2,\"#de77ae\"],[0.3,\"#f1b6da\"],[0.4,\"#fde0ef\"],[0.5,\"#f7f7f7\"],[0.6,\"#e6f5d0\"],[0.7,\"#b8e186\"],[0.8,\"#7fbc41\"],[0.9,\"#4d9221\"],[1,\"#276419\"]],\"sequential\":[[0.0,\"#0d0887\"],[0.1111111111111111,\"#46039f\"],[0.2222222222222222,\"#7201a8\"],[0.3333333333333333,\"#9c179e\"],[0.4444444444444444,\"#bd3786\"],[0.5555555555555556,\"#d8576b\"],[0.6666666666666666,\"#ed7953\"],[0.7777777777777778,\"#fb9f3a\"],[0.8888888888888888,\"#fdca26\"],[1.0,\"#f0f921\"]],\"sequentialminus\":[[0.0,\"#0d0887\"],[0.1111111111111111,\"#46039f\"],[0.2222222222222222,\"#7201a8\"],[0.3333333333333333,\"#9c179e\"],[0.4444444444444444,\"#bd3786\"],[0.5555555555555556,\"#d8576b\"],[0.6666666666666666,\"#ed7953\"],[0.7777777777777778,\"#fb9f3a\"],[0.8888888888888888,\"#fdca26\"],[1.0,\"#f0f921\"]]},\"colorway\":[\"#636efa\",\"#EF553B\",\"#00cc96\",\"#ab63fa\",\"#FFA15A\",\"#19d3f3\",\"#FF6692\",\"#B6E880\",\"#FF97FF\",\"#FECB52\"],\"font\":{\"color\":\"#2a3f5f\"},\"geo\":{\"bgcolor\":\"white\",\"lakecolor\":\"white\",\"landcolor\":\"white\",\"showlakes\":true,\"showland\":true,\"subunitcolor\":\"#C8D4E3\"},\"hoverlabel\":{\"align\":\"left\"},\"hovermode\":\"closest\",\"mapbox\":{\"style\":\"light\"},\"paper_bgcolor\":\"white\",\"plot_bgcolor\":\"white\",\"polar\":{\"angularaxis\":{\"gridcolor\":\"#EBF0F8\",\"linecolor\":\"#EBF0F8\",\"ticks\":\"\"},\"bgcolor\":\"white\",\"radialaxis\":{\"gridcolor\":\"#EBF0F8\",\"linecolor\":\"#EBF0F8\",\"ticks\":\"\"}},\"scene\":{\"xaxis\":{\"backgroundcolor\":\"white\",\"gridcolor\":\"#DFE8F3\",\"gridwidth\":2,\"linecolor\":\"#EBF0F8\",\"showbackground\":true,\"ticks\":\"\",\"zerolinecolor\":\"#EBF0F8\"},\"yaxis\":{\"backgroundcolor\":\"white\",\"gridcolor\":\"#DFE8F3\",\"gridwidth\":2,\"linecolor\":\"#EBF0F8\",\"showbackground\":true,\"ticks\":\"\",\"zerolinecolor\":\"#EBF0F8\"},\"zaxis\":{\"backgroundcolor\":\"white\",\"gridcolor\":\"#DFE8F3\",\"gridwidth\":2,\"linecolor\":\"#EBF0F8\",\"showbackground\":true,\"ticks\":\"\",\"zerolinecolor\":\"#EBF0F8\"}},\"shapedefaults\":{\"line\":{\"color\":\"#2a3f5f\"}},\"ternary\":{\"aaxis\":{\"gridcolor\":\"#DFE8F3\",\"linecolor\":\"#A2B1C6\",\"ticks\":\"\"},\"baxis\":{\"gridcolor\":\"#DFE8F3\",\"linecolor\":\"#A2B1C6\",\"ticks\":\"\"},\"bgcolor\":\"white\",\"caxis\":{\"gridcolor\":\"#DFE8F3\",\"linecolor\":\"#A2B1C6\",\"ticks\":\"\"}},\"title\":{\"x\":0.05},\"xaxis\":{\"automargin\":true,\"gridcolor\":\"#EBF0F8\",\"linecolor\":\"#EBF0F8\",\"ticks\":\"\",\"title\":{\"standoff\":15},\"zerolinecolor\":\"#EBF0F8\",\"zerolinewidth\":2},\"yaxis\":{\"automargin\":true,\"gridcolor\":\"#EBF0F8\",\"linecolor\":\"#EBF0F8\",\"ticks\":\"\",\"title\":{\"standoff\":15},\"zerolinecolor\":\"#EBF0F8\",\"zerolinewidth\":2}}},\"xaxis\":{\"title\":{\"text\":\"Keyword Coverge (%)\"}},\"yaxis\":{\"title\":{\"text\":\"Similarity Score\"}},\"title\":{\"text\":\"Resume Similarity to Job Listings\"},\"width\":800,\"height\":500},                        {\"responsive\": true}                    ).then(function(){\n",
       "                            \n",
       "var gd = document.getElementById('7284cc74-6ed8-420d-8f67-483923693761');\n",
       "var x = new MutationObserver(function (mutations, observer) {{\n",
       "        var display = window.getComputedStyle(gd).display;\n",
       "        if (!display || display === 'none') {{\n",
       "            console.log([gd, 'removed!']);\n",
       "            Plotly.purge(gd);\n",
       "            observer.disconnect();\n",
       "        }}\n",
       "}});\n",
       "\n",
       "// Listen for the removal of the full notebook cells\n",
       "var notebookContainer = gd.closest('#notebook-container');\n",
       "if (notebookContainer) {{\n",
       "    x.observe(notebookContainer, {childList: true});\n",
       "}}\n",
       "\n",
       "// Listen for the clearing of the current output cell\n",
       "var outputEl = gd.closest('.output');\n",
       "if (outputEl) {{\n",
       "    x.observe(outputEl, {childList: true});\n",
       "}}\n",
       "\n",
       "                        })                };                });            </script>        </div>"
      ]
     },
     "metadata": {},
     "output_type": "display_data"
    }
   ],
   "source": [
    "# plot similarities to resume\n",
    "plot_similarity_scores(df_r)"
   ]
  },
  {
   "cell_type": "code",
   "execution_count": 472,
   "id": "ca76859b",
   "metadata": {},
   "outputs": [
    {
     "data": {
      "application/vnd.plotly.v1+json": {
       "config": {
        "plotlyServerURL": "https://plot.ly"
       },
       "data": [
        {
         "marker": {
          "color": [
           0.3582089552238806,
           0,
           0.1791044776119403,
           0,
           0.626865671641791,
           -0.08955223880597014,
           0.8656716417910447,
           0.029850746268656716,
           0.029850746268656716,
           0.029850746268656716,
           -0.029850746268656716,
           0.1791044776119403,
           0.7462686567164178,
           0,
           0.014925373134328358,
           0.014925373134328358,
           0,
           0,
           0.014925373134328358,
           0.22388059701492538,
           0.07462686567164178,
           0,
           0,
           0.014925373134328358,
           0.014925373134328358
          ],
          "colorscale": [
           [
            0,
            "rgba(252,76,1,0.9)"
           ],
           [
            0.25,
            "rgba(252,76,1,0.5)"
           ],
           [
            0.5,
            "rgba(83,128,141,0.25)"
           ],
           [
            0.75,
            "rgba(83,128,141,0.5)"
           ],
           [
            1,
            "rgba(83,128,141,0.9)"
           ]
          ]
         },
         "name": "Weighted Frequency",
         "orientation": "h",
         "type": "bar",
         "x": [
          0.3582089552238806,
          0,
          0.1791044776119403,
          0,
          0.626865671641791,
          -0.08955223880597014,
          0.8656716417910447,
          0.029850746268656716,
          0.029850746268656716,
          0.029850746268656716,
          -0.029850746268656716,
          0.1791044776119403,
          0.7462686567164178,
          0,
          0.014925373134328358,
          0.014925373134328358,
          0,
          0,
          0.014925373134328358,
          0.22388059701492538,
          0.07462686567164178,
          0,
          0,
          0.014925373134328358,
          0.014925373134328358
         ],
         "xaxis": "x",
         "y": [
          "machine learning",
          "analytics",
          "modeling",
          "reporting",
          "management",
          "project management",
          "sql",
          "reports",
          "sales",
          "business intelligence",
          "databases",
          "testing",
          "analysis",
          "science",
          "etl",
          "communication",
          "statistics",
          "leadership",
          "tableau",
          "models",
          "modelling",
          "engineering",
          "data engineering",
          "pipelines",
          "consulting"
         ],
         "yaxis": "y"
        },
        {
         "marker": {
          "color": "rgba(252,76,1,0.8)"
         },
         "name": "Missing Keywords",
         "type": "bar",
         "x": [
          "insights",
          "marketing",
          "sas",
          "regression",
          "economics",
          "communication skills",
          "mathematics",
          "business requirements",
          "computer science",
          "big data",
          "power bi",
          "algorithms",
          "machine-learning"
         ],
         "xaxis": "x2",
         "y": [
          4,
          3,
          1,
          1,
          1,
          1,
          1,
          1,
          1,
          1,
          1,
          1,
          1
         ],
         "yaxis": "y2"
        },
        {
         "marker": {
          "color": "rgba(252,76,1,0.8)"
         },
         "name": "Job Specific Keywords",
         "type": "bar",
         "x": [
          "business intelligence",
          "tableau",
          "data modeling",
          "bachelor's",
          "power bi",
          "sas"
         ],
         "xaxis": "x3",
         "y": [
          3,
          2,
          1,
          0,
          0,
          0
         ],
         "yaxis": "y3"
        }
       ],
       "layout": {
        "annotations": [
         {
          "font": {
           "size": 16
          },
          "showarrow": false,
          "text": "Matching Keywords",
          "x": 0.21666666666666667,
          "xanchor": "center",
          "xref": "paper",
          "y": 1,
          "yanchor": "bottom",
          "yref": "paper"
         },
         {
          "font": {
           "size": 16
          },
          "showarrow": false,
          "text": "Missing Keywords",
          "x": 0.6083333333333334,
          "xanchor": "center",
          "xref": "paper",
          "y": 1,
          "yanchor": "bottom",
          "yref": "paper"
         },
         {
          "font": {
           "size": 16
          },
          "showarrow": false,
          "text": "Job Specific Keywords",
          "x": 0.8916666666666666,
          "xanchor": "center",
          "xref": "paper",
          "y": 1,
          "yanchor": "bottom",
          "yref": "paper"
         }
        ],
        "height": 500,
        "showlegend": false,
        "template": {
         "data": {
          "bar": [
           {
            "error_x": {
             "color": "#2a3f5f"
            },
            "error_y": {
             "color": "#2a3f5f"
            },
            "marker": {
             "line": {
              "color": "white",
              "width": 0.5
             },
             "pattern": {
              "fillmode": "overlay",
              "size": 10,
              "solidity": 0.2
             }
            },
            "type": "bar"
           }
          ],
          "barpolar": [
           {
            "marker": {
             "line": {
              "color": "white",
              "width": 0.5
             },
             "pattern": {
              "fillmode": "overlay",
              "size": 10,
              "solidity": 0.2
             }
            },
            "type": "barpolar"
           }
          ],
          "carpet": [
           {
            "aaxis": {
             "endlinecolor": "#2a3f5f",
             "gridcolor": "#C8D4E3",
             "linecolor": "#C8D4E3",
             "minorgridcolor": "#C8D4E3",
             "startlinecolor": "#2a3f5f"
            },
            "baxis": {
             "endlinecolor": "#2a3f5f",
             "gridcolor": "#C8D4E3",
             "linecolor": "#C8D4E3",
             "minorgridcolor": "#C8D4E3",
             "startlinecolor": "#2a3f5f"
            },
            "type": "carpet"
           }
          ],
          "choropleth": [
           {
            "colorbar": {
             "outlinewidth": 0,
             "ticks": ""
            },
            "type": "choropleth"
           }
          ],
          "contour": [
           {
            "colorbar": {
             "outlinewidth": 0,
             "ticks": ""
            },
            "colorscale": [
             [
              0,
              "#0d0887"
             ],
             [
              0.1111111111111111,
              "#46039f"
             ],
             [
              0.2222222222222222,
              "#7201a8"
             ],
             [
              0.3333333333333333,
              "#9c179e"
             ],
             [
              0.4444444444444444,
              "#bd3786"
             ],
             [
              0.5555555555555556,
              "#d8576b"
             ],
             [
              0.6666666666666666,
              "#ed7953"
             ],
             [
              0.7777777777777778,
              "#fb9f3a"
             ],
             [
              0.8888888888888888,
              "#fdca26"
             ],
             [
              1,
              "#f0f921"
             ]
            ],
            "type": "contour"
           }
          ],
          "contourcarpet": [
           {
            "colorbar": {
             "outlinewidth": 0,
             "ticks": ""
            },
            "type": "contourcarpet"
           }
          ],
          "heatmap": [
           {
            "colorbar": {
             "outlinewidth": 0,
             "ticks": ""
            },
            "colorscale": [
             [
              0,
              "#0d0887"
             ],
             [
              0.1111111111111111,
              "#46039f"
             ],
             [
              0.2222222222222222,
              "#7201a8"
             ],
             [
              0.3333333333333333,
              "#9c179e"
             ],
             [
              0.4444444444444444,
              "#bd3786"
             ],
             [
              0.5555555555555556,
              "#d8576b"
             ],
             [
              0.6666666666666666,
              "#ed7953"
             ],
             [
              0.7777777777777778,
              "#fb9f3a"
             ],
             [
              0.8888888888888888,
              "#fdca26"
             ],
             [
              1,
              "#f0f921"
             ]
            ],
            "type": "heatmap"
           }
          ],
          "heatmapgl": [
           {
            "colorbar": {
             "outlinewidth": 0,
             "ticks": ""
            },
            "colorscale": [
             [
              0,
              "#0d0887"
             ],
             [
              0.1111111111111111,
              "#46039f"
             ],
             [
              0.2222222222222222,
              "#7201a8"
             ],
             [
              0.3333333333333333,
              "#9c179e"
             ],
             [
              0.4444444444444444,
              "#bd3786"
             ],
             [
              0.5555555555555556,
              "#d8576b"
             ],
             [
              0.6666666666666666,
              "#ed7953"
             ],
             [
              0.7777777777777778,
              "#fb9f3a"
             ],
             [
              0.8888888888888888,
              "#fdca26"
             ],
             [
              1,
              "#f0f921"
             ]
            ],
            "type": "heatmapgl"
           }
          ],
          "histogram": [
           {
            "marker": {
             "pattern": {
              "fillmode": "overlay",
              "size": 10,
              "solidity": 0.2
             }
            },
            "type": "histogram"
           }
          ],
          "histogram2d": [
           {
            "colorbar": {
             "outlinewidth": 0,
             "ticks": ""
            },
            "colorscale": [
             [
              0,
              "#0d0887"
             ],
             [
              0.1111111111111111,
              "#46039f"
             ],
             [
              0.2222222222222222,
              "#7201a8"
             ],
             [
              0.3333333333333333,
              "#9c179e"
             ],
             [
              0.4444444444444444,
              "#bd3786"
             ],
             [
              0.5555555555555556,
              "#d8576b"
             ],
             [
              0.6666666666666666,
              "#ed7953"
             ],
             [
              0.7777777777777778,
              "#fb9f3a"
             ],
             [
              0.8888888888888888,
              "#fdca26"
             ],
             [
              1,
              "#f0f921"
             ]
            ],
            "type": "histogram2d"
           }
          ],
          "histogram2dcontour": [
           {
            "colorbar": {
             "outlinewidth": 0,
             "ticks": ""
            },
            "colorscale": [
             [
              0,
              "#0d0887"
             ],
             [
              0.1111111111111111,
              "#46039f"
             ],
             [
              0.2222222222222222,
              "#7201a8"
             ],
             [
              0.3333333333333333,
              "#9c179e"
             ],
             [
              0.4444444444444444,
              "#bd3786"
             ],
             [
              0.5555555555555556,
              "#d8576b"
             ],
             [
              0.6666666666666666,
              "#ed7953"
             ],
             [
              0.7777777777777778,
              "#fb9f3a"
             ],
             [
              0.8888888888888888,
              "#fdca26"
             ],
             [
              1,
              "#f0f921"
             ]
            ],
            "type": "histogram2dcontour"
           }
          ],
          "mesh3d": [
           {
            "colorbar": {
             "outlinewidth": 0,
             "ticks": ""
            },
            "type": "mesh3d"
           }
          ],
          "parcoords": [
           {
            "line": {
             "colorbar": {
              "outlinewidth": 0,
              "ticks": ""
             }
            },
            "type": "parcoords"
           }
          ],
          "pie": [
           {
            "automargin": true,
            "type": "pie"
           }
          ],
          "scatter": [
           {
            "fillpattern": {
             "fillmode": "overlay",
             "size": 10,
             "solidity": 0.2
            },
            "type": "scatter"
           }
          ],
          "scatter3d": [
           {
            "line": {
             "colorbar": {
              "outlinewidth": 0,
              "ticks": ""
             }
            },
            "marker": {
             "colorbar": {
              "outlinewidth": 0,
              "ticks": ""
             }
            },
            "type": "scatter3d"
           }
          ],
          "scattercarpet": [
           {
            "marker": {
             "colorbar": {
              "outlinewidth": 0,
              "ticks": ""
             }
            },
            "type": "scattercarpet"
           }
          ],
          "scattergeo": [
           {
            "marker": {
             "colorbar": {
              "outlinewidth": 0,
              "ticks": ""
             }
            },
            "type": "scattergeo"
           }
          ],
          "scattergl": [
           {
            "marker": {
             "colorbar": {
              "outlinewidth": 0,
              "ticks": ""
             }
            },
            "type": "scattergl"
           }
          ],
          "scattermapbox": [
           {
            "marker": {
             "colorbar": {
              "outlinewidth": 0,
              "ticks": ""
             }
            },
            "type": "scattermapbox"
           }
          ],
          "scatterpolar": [
           {
            "marker": {
             "colorbar": {
              "outlinewidth": 0,
              "ticks": ""
             }
            },
            "type": "scatterpolar"
           }
          ],
          "scatterpolargl": [
           {
            "marker": {
             "colorbar": {
              "outlinewidth": 0,
              "ticks": ""
             }
            },
            "type": "scatterpolargl"
           }
          ],
          "scatterternary": [
           {
            "marker": {
             "colorbar": {
              "outlinewidth": 0,
              "ticks": ""
             }
            },
            "type": "scatterternary"
           }
          ],
          "surface": [
           {
            "colorbar": {
             "outlinewidth": 0,
             "ticks": ""
            },
            "colorscale": [
             [
              0,
              "#0d0887"
             ],
             [
              0.1111111111111111,
              "#46039f"
             ],
             [
              0.2222222222222222,
              "#7201a8"
             ],
             [
              0.3333333333333333,
              "#9c179e"
             ],
             [
              0.4444444444444444,
              "#bd3786"
             ],
             [
              0.5555555555555556,
              "#d8576b"
             ],
             [
              0.6666666666666666,
              "#ed7953"
             ],
             [
              0.7777777777777778,
              "#fb9f3a"
             ],
             [
              0.8888888888888888,
              "#fdca26"
             ],
             [
              1,
              "#f0f921"
             ]
            ],
            "type": "surface"
           }
          ],
          "table": [
           {
            "cells": {
             "fill": {
              "color": "#EBF0F8"
             },
             "line": {
              "color": "white"
             }
            },
            "header": {
             "fill": {
              "color": "#C8D4E3"
             },
             "line": {
              "color": "white"
             }
            },
            "type": "table"
           }
          ]
         },
         "layout": {
          "annotationdefaults": {
           "arrowcolor": "#2a3f5f",
           "arrowhead": 0,
           "arrowwidth": 1
          },
          "autotypenumbers": "strict",
          "coloraxis": {
           "colorbar": {
            "outlinewidth": 0,
            "ticks": ""
           }
          },
          "colorscale": {
           "diverging": [
            [
             0,
             "#8e0152"
            ],
            [
             0.1,
             "#c51b7d"
            ],
            [
             0.2,
             "#de77ae"
            ],
            [
             0.3,
             "#f1b6da"
            ],
            [
             0.4,
             "#fde0ef"
            ],
            [
             0.5,
             "#f7f7f7"
            ],
            [
             0.6,
             "#e6f5d0"
            ],
            [
             0.7,
             "#b8e186"
            ],
            [
             0.8,
             "#7fbc41"
            ],
            [
             0.9,
             "#4d9221"
            ],
            [
             1,
             "#276419"
            ]
           ],
           "sequential": [
            [
             0,
             "#0d0887"
            ],
            [
             0.1111111111111111,
             "#46039f"
            ],
            [
             0.2222222222222222,
             "#7201a8"
            ],
            [
             0.3333333333333333,
             "#9c179e"
            ],
            [
             0.4444444444444444,
             "#bd3786"
            ],
            [
             0.5555555555555556,
             "#d8576b"
            ],
            [
             0.6666666666666666,
             "#ed7953"
            ],
            [
             0.7777777777777778,
             "#fb9f3a"
            ],
            [
             0.8888888888888888,
             "#fdca26"
            ],
            [
             1,
             "#f0f921"
            ]
           ],
           "sequentialminus": [
            [
             0,
             "#0d0887"
            ],
            [
             0.1111111111111111,
             "#46039f"
            ],
            [
             0.2222222222222222,
             "#7201a8"
            ],
            [
             0.3333333333333333,
             "#9c179e"
            ],
            [
             0.4444444444444444,
             "#bd3786"
            ],
            [
             0.5555555555555556,
             "#d8576b"
            ],
            [
             0.6666666666666666,
             "#ed7953"
            ],
            [
             0.7777777777777778,
             "#fb9f3a"
            ],
            [
             0.8888888888888888,
             "#fdca26"
            ],
            [
             1,
             "#f0f921"
            ]
           ]
          },
          "colorway": [
           "#636efa",
           "#EF553B",
           "#00cc96",
           "#ab63fa",
           "#FFA15A",
           "#19d3f3",
           "#FF6692",
           "#B6E880",
           "#FF97FF",
           "#FECB52"
          ],
          "font": {
           "color": "#2a3f5f"
          },
          "geo": {
           "bgcolor": "white",
           "lakecolor": "white",
           "landcolor": "white",
           "showlakes": true,
           "showland": true,
           "subunitcolor": "#C8D4E3"
          },
          "hoverlabel": {
           "align": "left"
          },
          "hovermode": "closest",
          "mapbox": {
           "style": "light"
          },
          "paper_bgcolor": "white",
          "plot_bgcolor": "white",
          "polar": {
           "angularaxis": {
            "gridcolor": "#EBF0F8",
            "linecolor": "#EBF0F8",
            "ticks": ""
           },
           "bgcolor": "white",
           "radialaxis": {
            "gridcolor": "#EBF0F8",
            "linecolor": "#EBF0F8",
            "ticks": ""
           }
          },
          "scene": {
           "xaxis": {
            "backgroundcolor": "white",
            "gridcolor": "#DFE8F3",
            "gridwidth": 2,
            "linecolor": "#EBF0F8",
            "showbackground": true,
            "ticks": "",
            "zerolinecolor": "#EBF0F8"
           },
           "yaxis": {
            "backgroundcolor": "white",
            "gridcolor": "#DFE8F3",
            "gridwidth": 2,
            "linecolor": "#EBF0F8",
            "showbackground": true,
            "ticks": "",
            "zerolinecolor": "#EBF0F8"
           },
           "zaxis": {
            "backgroundcolor": "white",
            "gridcolor": "#DFE8F3",
            "gridwidth": 2,
            "linecolor": "#EBF0F8",
            "showbackground": true,
            "ticks": "",
            "zerolinecolor": "#EBF0F8"
           }
          },
          "shapedefaults": {
           "line": {
            "color": "#2a3f5f"
           }
          },
          "ternary": {
           "aaxis": {
            "gridcolor": "#DFE8F3",
            "linecolor": "#A2B1C6",
            "ticks": ""
           },
           "baxis": {
            "gridcolor": "#DFE8F3",
            "linecolor": "#A2B1C6",
            "ticks": ""
           },
           "bgcolor": "white",
           "caxis": {
            "gridcolor": "#DFE8F3",
            "linecolor": "#A2B1C6",
            "ticks": ""
           }
          },
          "title": {
           "x": 0.05
          },
          "xaxis": {
           "automargin": true,
           "gridcolor": "#EBF0F8",
           "linecolor": "#EBF0F8",
           "ticks": "",
           "title": {
            "standoff": 15
           },
           "zerolinecolor": "#EBF0F8",
           "zerolinewidth": 2
          },
          "yaxis": {
           "automargin": true,
           "gridcolor": "#EBF0F8",
           "linecolor": "#EBF0F8",
           "ticks": "",
           "title": {
            "standoff": 15
           },
           "zerolinecolor": "#EBF0F8",
           "zerolinewidth": 2
          }
         }
        },
        "title": {
         "text": "Keyword Coverage=65.79% | Weighted Average=3.3"
        },
        "width": 900,
        "xaxis": {
         "anchor": "y",
         "domain": [
          0,
          0.43333333333333335
         ],
         "range": [
          -2,
          2
         ],
         "showgrid": false
        },
        "xaxis2": {
         "anchor": "y2",
         "domain": [
          0.5,
          0.7166666666666667
         ],
         "showgrid": false,
         "tickangle": 90
        },
        "xaxis3": {
         "anchor": "y3",
         "domain": [
          0.7833333333333333,
          1
         ],
         "showgrid": false,
         "tickangle": 90
        },
        "yaxis": {
         "anchor": "x",
         "domain": [
          0,
          1
         ]
        },
        "yaxis2": {
         "anchor": "x2",
         "domain": [
          0,
          1
         ]
        },
        "yaxis3": {
         "anchor": "x3",
         "domain": [
          0,
          1
         ]
        }
       }
      },
      "text/html": [
       "<div>                            <div id=\"5ba090a7-7e16-44e6-8e82-d3512ad4a8bd\" class=\"plotly-graph-div\" style=\"height:500px; width:900px;\"></div>            <script type=\"text/javascript\">                require([\"plotly\"], function(Plotly) {                    window.PLOTLYENV=window.PLOTLYENV || {};                                    if (document.getElementById(\"5ba090a7-7e16-44e6-8e82-d3512ad4a8bd\")) {                    Plotly.newPlot(                        \"5ba090a7-7e16-44e6-8e82-d3512ad4a8bd\",                        [{\"marker\":{\"color\":[0.3582089552238806,0.0,0.1791044776119403,0.0,0.626865671641791,-0.08955223880597014,0.8656716417910447,0.029850746268656716,0.029850746268656716,0.029850746268656716,-0.029850746268656716,0.1791044776119403,0.7462686567164178,0.0,0.014925373134328358,0.014925373134328358,0.0,0.0,0.014925373134328358,0.22388059701492538,0.07462686567164178,0.0,0.0,0.014925373134328358,0.014925373134328358],\"colorscale\":[[0,\"rgba(252,76,1,0.9)\"],[0.25,\"rgba(252,76,1,0.5)\"],[0.5,\"rgba(83,128,141,0.25)\"],[0.75,\"rgba(83,128,141,0.5)\"],[1.0,\"rgba(83,128,141,0.9)\"]]},\"name\":\"Weighted Frequency\",\"orientation\":\"h\",\"x\":[0.3582089552238806,0.0,0.1791044776119403,0.0,0.626865671641791,-0.08955223880597014,0.8656716417910447,0.029850746268656716,0.029850746268656716,0.029850746268656716,-0.029850746268656716,0.1791044776119403,0.7462686567164178,0.0,0.014925373134328358,0.014925373134328358,0.0,0.0,0.014925373134328358,0.22388059701492538,0.07462686567164178,0.0,0.0,0.014925373134328358,0.014925373134328358],\"y\":[\"machine learning\",\"analytics\",\"modeling\",\"reporting\",\"management\",\"project management\",\"sql\",\"reports\",\"sales\",\"business intelligence\",\"databases\",\"testing\",\"analysis\",\"science\",\"etl\",\"communication\",\"statistics\",\"leadership\",\"tableau\",\"models\",\"modelling\",\"engineering\",\"data engineering\",\"pipelines\",\"consulting\"],\"type\":\"bar\",\"xaxis\":\"x\",\"yaxis\":\"y\"},{\"marker\":{\"color\":\"rgba(252,76,1,0.8)\"},\"name\":\"Missing Keywords\",\"x\":[\"insights\",\"marketing\",\"sas\",\"regression\",\"economics\",\"communication skills\",\"mathematics\",\"business requirements\",\"computer science\",\"big data\",\"power bi\",\"algorithms\",\"machine-learning\"],\"y\":[4,3,1,1,1,1,1,1,1,1,1,1,1],\"type\":\"bar\",\"xaxis\":\"x2\",\"yaxis\":\"y2\"},{\"marker\":{\"color\":\"rgba(252,76,1,0.8)\"},\"name\":\"Job Specific Keywords\",\"x\":[\"business intelligence\",\"tableau\",\"data modeling\",\"bachelor's\",\"power bi\",\"sas\"],\"y\":[3,2,1,0,0,0],\"type\":\"bar\",\"xaxis\":\"x3\",\"yaxis\":\"y3\"}],                        {\"template\":{\"data\":{\"barpolar\":[{\"marker\":{\"line\":{\"color\":\"white\",\"width\":0.5},\"pattern\":{\"fillmode\":\"overlay\",\"size\":10,\"solidity\":0.2}},\"type\":\"barpolar\"}],\"bar\":[{\"error_x\":{\"color\":\"#2a3f5f\"},\"error_y\":{\"color\":\"#2a3f5f\"},\"marker\":{\"line\":{\"color\":\"white\",\"width\":0.5},\"pattern\":{\"fillmode\":\"overlay\",\"size\":10,\"solidity\":0.2}},\"type\":\"bar\"}],\"carpet\":[{\"aaxis\":{\"endlinecolor\":\"#2a3f5f\",\"gridcolor\":\"#C8D4E3\",\"linecolor\":\"#C8D4E3\",\"minorgridcolor\":\"#C8D4E3\",\"startlinecolor\":\"#2a3f5f\"},\"baxis\":{\"endlinecolor\":\"#2a3f5f\",\"gridcolor\":\"#C8D4E3\",\"linecolor\":\"#C8D4E3\",\"minorgridcolor\":\"#C8D4E3\",\"startlinecolor\":\"#2a3f5f\"},\"type\":\"carpet\"}],\"choropleth\":[{\"colorbar\":{\"outlinewidth\":0,\"ticks\":\"\"},\"type\":\"choropleth\"}],\"contourcarpet\":[{\"colorbar\":{\"outlinewidth\":0,\"ticks\":\"\"},\"type\":\"contourcarpet\"}],\"contour\":[{\"colorbar\":{\"outlinewidth\":0,\"ticks\":\"\"},\"colorscale\":[[0.0,\"#0d0887\"],[0.1111111111111111,\"#46039f\"],[0.2222222222222222,\"#7201a8\"],[0.3333333333333333,\"#9c179e\"],[0.4444444444444444,\"#bd3786\"],[0.5555555555555556,\"#d8576b\"],[0.6666666666666666,\"#ed7953\"],[0.7777777777777778,\"#fb9f3a\"],[0.8888888888888888,\"#fdca26\"],[1.0,\"#f0f921\"]],\"type\":\"contour\"}],\"heatmapgl\":[{\"colorbar\":{\"outlinewidth\":0,\"ticks\":\"\"},\"colorscale\":[[0.0,\"#0d0887\"],[0.1111111111111111,\"#46039f\"],[0.2222222222222222,\"#7201a8\"],[0.3333333333333333,\"#9c179e\"],[0.4444444444444444,\"#bd3786\"],[0.5555555555555556,\"#d8576b\"],[0.6666666666666666,\"#ed7953\"],[0.7777777777777778,\"#fb9f3a\"],[0.8888888888888888,\"#fdca26\"],[1.0,\"#f0f921\"]],\"type\":\"heatmapgl\"}],\"heatmap\":[{\"colorbar\":{\"outlinewidth\":0,\"ticks\":\"\"},\"colorscale\":[[0.0,\"#0d0887\"],[0.1111111111111111,\"#46039f\"],[0.2222222222222222,\"#7201a8\"],[0.3333333333333333,\"#9c179e\"],[0.4444444444444444,\"#bd3786\"],[0.5555555555555556,\"#d8576b\"],[0.6666666666666666,\"#ed7953\"],[0.7777777777777778,\"#fb9f3a\"],[0.8888888888888888,\"#fdca26\"],[1.0,\"#f0f921\"]],\"type\":\"heatmap\"}],\"histogram2dcontour\":[{\"colorbar\":{\"outlinewidth\":0,\"ticks\":\"\"},\"colorscale\":[[0.0,\"#0d0887\"],[0.1111111111111111,\"#46039f\"],[0.2222222222222222,\"#7201a8\"],[0.3333333333333333,\"#9c179e\"],[0.4444444444444444,\"#bd3786\"],[0.5555555555555556,\"#d8576b\"],[0.6666666666666666,\"#ed7953\"],[0.7777777777777778,\"#fb9f3a\"],[0.8888888888888888,\"#fdca26\"],[1.0,\"#f0f921\"]],\"type\":\"histogram2dcontour\"}],\"histogram2d\":[{\"colorbar\":{\"outlinewidth\":0,\"ticks\":\"\"},\"colorscale\":[[0.0,\"#0d0887\"],[0.1111111111111111,\"#46039f\"],[0.2222222222222222,\"#7201a8\"],[0.3333333333333333,\"#9c179e\"],[0.4444444444444444,\"#bd3786\"],[0.5555555555555556,\"#d8576b\"],[0.6666666666666666,\"#ed7953\"],[0.7777777777777778,\"#fb9f3a\"],[0.8888888888888888,\"#fdca26\"],[1.0,\"#f0f921\"]],\"type\":\"histogram2d\"}],\"histogram\":[{\"marker\":{\"pattern\":{\"fillmode\":\"overlay\",\"size\":10,\"solidity\":0.2}},\"type\":\"histogram\"}],\"mesh3d\":[{\"colorbar\":{\"outlinewidth\":0,\"ticks\":\"\"},\"type\":\"mesh3d\"}],\"parcoords\":[{\"line\":{\"colorbar\":{\"outlinewidth\":0,\"ticks\":\"\"}},\"type\":\"parcoords\"}],\"pie\":[{\"automargin\":true,\"type\":\"pie\"}],\"scatter3d\":[{\"line\":{\"colorbar\":{\"outlinewidth\":0,\"ticks\":\"\"}},\"marker\":{\"colorbar\":{\"outlinewidth\":0,\"ticks\":\"\"}},\"type\":\"scatter3d\"}],\"scattercarpet\":[{\"marker\":{\"colorbar\":{\"outlinewidth\":0,\"ticks\":\"\"}},\"type\":\"scattercarpet\"}],\"scattergeo\":[{\"marker\":{\"colorbar\":{\"outlinewidth\":0,\"ticks\":\"\"}},\"type\":\"scattergeo\"}],\"scattergl\":[{\"marker\":{\"colorbar\":{\"outlinewidth\":0,\"ticks\":\"\"}},\"type\":\"scattergl\"}],\"scattermapbox\":[{\"marker\":{\"colorbar\":{\"outlinewidth\":0,\"ticks\":\"\"}},\"type\":\"scattermapbox\"}],\"scatterpolargl\":[{\"marker\":{\"colorbar\":{\"outlinewidth\":0,\"ticks\":\"\"}},\"type\":\"scatterpolargl\"}],\"scatterpolar\":[{\"marker\":{\"colorbar\":{\"outlinewidth\":0,\"ticks\":\"\"}},\"type\":\"scatterpolar\"}],\"scatter\":[{\"fillpattern\":{\"fillmode\":\"overlay\",\"size\":10,\"solidity\":0.2},\"type\":\"scatter\"}],\"scatterternary\":[{\"marker\":{\"colorbar\":{\"outlinewidth\":0,\"ticks\":\"\"}},\"type\":\"scatterternary\"}],\"surface\":[{\"colorbar\":{\"outlinewidth\":0,\"ticks\":\"\"},\"colorscale\":[[0.0,\"#0d0887\"],[0.1111111111111111,\"#46039f\"],[0.2222222222222222,\"#7201a8\"],[0.3333333333333333,\"#9c179e\"],[0.4444444444444444,\"#bd3786\"],[0.5555555555555556,\"#d8576b\"],[0.6666666666666666,\"#ed7953\"],[0.7777777777777778,\"#fb9f3a\"],[0.8888888888888888,\"#fdca26\"],[1.0,\"#f0f921\"]],\"type\":\"surface\"}],\"table\":[{\"cells\":{\"fill\":{\"color\":\"#EBF0F8\"},\"line\":{\"color\":\"white\"}},\"header\":{\"fill\":{\"color\":\"#C8D4E3\"},\"line\":{\"color\":\"white\"}},\"type\":\"table\"}]},\"layout\":{\"annotationdefaults\":{\"arrowcolor\":\"#2a3f5f\",\"arrowhead\":0,\"arrowwidth\":1},\"autotypenumbers\":\"strict\",\"coloraxis\":{\"colorbar\":{\"outlinewidth\":0,\"ticks\":\"\"}},\"colorscale\":{\"diverging\":[[0,\"#8e0152\"],[0.1,\"#c51b7d\"],[0.2,\"#de77ae\"],[0.3,\"#f1b6da\"],[0.4,\"#fde0ef\"],[0.5,\"#f7f7f7\"],[0.6,\"#e6f5d0\"],[0.7,\"#b8e186\"],[0.8,\"#7fbc41\"],[0.9,\"#4d9221\"],[1,\"#276419\"]],\"sequential\":[[0.0,\"#0d0887\"],[0.1111111111111111,\"#46039f\"],[0.2222222222222222,\"#7201a8\"],[0.3333333333333333,\"#9c179e\"],[0.4444444444444444,\"#bd3786\"],[0.5555555555555556,\"#d8576b\"],[0.6666666666666666,\"#ed7953\"],[0.7777777777777778,\"#fb9f3a\"],[0.8888888888888888,\"#fdca26\"],[1.0,\"#f0f921\"]],\"sequentialminus\":[[0.0,\"#0d0887\"],[0.1111111111111111,\"#46039f\"],[0.2222222222222222,\"#7201a8\"],[0.3333333333333333,\"#9c179e\"],[0.4444444444444444,\"#bd3786\"],[0.5555555555555556,\"#d8576b\"],[0.6666666666666666,\"#ed7953\"],[0.7777777777777778,\"#fb9f3a\"],[0.8888888888888888,\"#fdca26\"],[1.0,\"#f0f921\"]]},\"colorway\":[\"#636efa\",\"#EF553B\",\"#00cc96\",\"#ab63fa\",\"#FFA15A\",\"#19d3f3\",\"#FF6692\",\"#B6E880\",\"#FF97FF\",\"#FECB52\"],\"font\":{\"color\":\"#2a3f5f\"},\"geo\":{\"bgcolor\":\"white\",\"lakecolor\":\"white\",\"landcolor\":\"white\",\"showlakes\":true,\"showland\":true,\"subunitcolor\":\"#C8D4E3\"},\"hoverlabel\":{\"align\":\"left\"},\"hovermode\":\"closest\",\"mapbox\":{\"style\":\"light\"},\"paper_bgcolor\":\"white\",\"plot_bgcolor\":\"white\",\"polar\":{\"angularaxis\":{\"gridcolor\":\"#EBF0F8\",\"linecolor\":\"#EBF0F8\",\"ticks\":\"\"},\"bgcolor\":\"white\",\"radialaxis\":{\"gridcolor\":\"#EBF0F8\",\"linecolor\":\"#EBF0F8\",\"ticks\":\"\"}},\"scene\":{\"xaxis\":{\"backgroundcolor\":\"white\",\"gridcolor\":\"#DFE8F3\",\"gridwidth\":2,\"linecolor\":\"#EBF0F8\",\"showbackground\":true,\"ticks\":\"\",\"zerolinecolor\":\"#EBF0F8\"},\"yaxis\":{\"backgroundcolor\":\"white\",\"gridcolor\":\"#DFE8F3\",\"gridwidth\":2,\"linecolor\":\"#EBF0F8\",\"showbackground\":true,\"ticks\":\"\",\"zerolinecolor\":\"#EBF0F8\"},\"zaxis\":{\"backgroundcolor\":\"white\",\"gridcolor\":\"#DFE8F3\",\"gridwidth\":2,\"linecolor\":\"#EBF0F8\",\"showbackground\":true,\"ticks\":\"\",\"zerolinecolor\":\"#EBF0F8\"}},\"shapedefaults\":{\"line\":{\"color\":\"#2a3f5f\"}},\"ternary\":{\"aaxis\":{\"gridcolor\":\"#DFE8F3\",\"linecolor\":\"#A2B1C6\",\"ticks\":\"\"},\"baxis\":{\"gridcolor\":\"#DFE8F3\",\"linecolor\":\"#A2B1C6\",\"ticks\":\"\"},\"bgcolor\":\"white\",\"caxis\":{\"gridcolor\":\"#DFE8F3\",\"linecolor\":\"#A2B1C6\",\"ticks\":\"\"}},\"title\":{\"x\":0.05},\"xaxis\":{\"automargin\":true,\"gridcolor\":\"#EBF0F8\",\"linecolor\":\"#EBF0F8\",\"ticks\":\"\",\"title\":{\"standoff\":15},\"zerolinecolor\":\"#EBF0F8\",\"zerolinewidth\":2},\"yaxis\":{\"automargin\":true,\"gridcolor\":\"#EBF0F8\",\"linecolor\":\"#EBF0F8\",\"ticks\":\"\",\"title\":{\"standoff\":15},\"zerolinecolor\":\"#EBF0F8\",\"zerolinewidth\":2}}},\"xaxis\":{\"anchor\":\"y\",\"domain\":[0.0,0.43333333333333335],\"range\":[-2,2],\"showgrid\":false},\"yaxis\":{\"anchor\":\"x\",\"domain\":[0.0,1.0]},\"xaxis2\":{\"anchor\":\"y2\",\"domain\":[0.5,0.7166666666666667],\"tickangle\":90,\"showgrid\":false},\"yaxis2\":{\"anchor\":\"x2\",\"domain\":[0.0,1.0]},\"xaxis3\":{\"anchor\":\"y3\",\"domain\":[0.7833333333333333,1.0],\"tickangle\":90,\"showgrid\":false},\"yaxis3\":{\"anchor\":\"x3\",\"domain\":[0.0,1.0]},\"annotations\":[{\"font\":{\"size\":16},\"showarrow\":false,\"text\":\"Matching Keywords\",\"x\":0.21666666666666667,\"xanchor\":\"center\",\"xref\":\"paper\",\"y\":1.0,\"yanchor\":\"bottom\",\"yref\":\"paper\"},{\"font\":{\"size\":16},\"showarrow\":false,\"text\":\"Missing Keywords\",\"x\":0.6083333333333334,\"xanchor\":\"center\",\"xref\":\"paper\",\"y\":1.0,\"yanchor\":\"bottom\",\"yref\":\"paper\"},{\"font\":{\"size\":16},\"showarrow\":false,\"text\":\"Job Specific Keywords\",\"x\":0.8916666666666666,\"xanchor\":\"center\",\"xref\":\"paper\",\"y\":1.0,\"yanchor\":\"bottom\",\"yref\":\"paper\"}],\"title\":{\"text\":\"Keyword Coverage=65.79% | Weighted Average=3.3\"},\"width\":900,\"height\":500,\"showlegend\":false},                        {\"responsive\": true}                    ).then(function(){\n",
       "                            \n",
       "var gd = document.getElementById('5ba090a7-7e16-44e6-8e82-d3512ad4a8bd');\n",
       "var x = new MutationObserver(function (mutations, observer) {{\n",
       "        var display = window.getComputedStyle(gd).display;\n",
       "        if (!display || display === 'none') {{\n",
       "            console.log([gd, 'removed!']);\n",
       "            Plotly.purge(gd);\n",
       "            observer.disconnect();\n",
       "        }}\n",
       "}});\n",
       "\n",
       "// Listen for the removal of the full notebook cells\n",
       "var notebookContainer = gd.closest('#notebook-container');\n",
       "if (notebookContainer) {{\n",
       "    x.observe(notebookContainer, {childList: true});\n",
       "}}\n",
       "\n",
       "// Listen for the clearing of the current output cell\n",
       "var outputEl = gd.closest('.output');\n",
       "if (outputEl) {{\n",
       "    x.observe(outputEl, {childList: true});\n",
       "}}\n",
       "\n",
       "                        })                };                });            </script>        </div>"
      ]
     },
     "metadata": {},
     "output_type": "display_data"
    }
   ],
   "source": [
    "# plot resume comparision to a specific job \n",
    "plot_keyword_comparison(r,job_details[14],'data/terms.csv')"
   ]
  },
  {
   "cell_type": "code",
   "execution_count": 474,
   "id": "a7079c5c",
   "metadata": {},
   "outputs": [
    {
     "data": {
      "text/html": [
       "<div>\n",
       "<style scoped>\n",
       "    .dataframe tbody tr th:only-of-type {\n",
       "        vertical-align: middle;\n",
       "    }\n",
       "\n",
       "    .dataframe tbody tr th {\n",
       "        vertical-align: top;\n",
       "    }\n",
       "\n",
       "    .dataframe thead th {\n",
       "        text-align: right;\n",
       "    }\n",
       "</style>\n",
       "<table border=\"1\" class=\"dataframe\">\n",
       "  <thead>\n",
       "    <tr style=\"text-align: right;\">\n",
       "      <th></th>\n",
       "      <th>title</th>\n",
       "      <th>company</th>\n",
       "      <th>location</th>\n",
       "      <th>similarity-score</th>\n",
       "      <th>keyword-coverage</th>\n",
       "      <th>keyword-wt</th>\n",
       "      <th>keywords-missing</th>\n",
       "    </tr>\n",
       "  </thead>\n",
       "  <tbody>\n",
       "    <tr>\n",
       "      <th>9</th>\n",
       "      <td>Data Scientist</td>\n",
       "      <td>Arup</td>\n",
       "      <td>Toronto, ON</td>\n",
       "      <td>0.377605</td>\n",
       "      <td>0.268293</td>\n",
       "      <td>-2.208333</td>\n",
       "      <td>{python, data mining, pipelines, ml, insights,...</td>\n",
       "    </tr>\n",
       "    <tr>\n",
       "      <th>13</th>\n",
       "      <td>Sr. Data Analyst (Pharma)</td>\n",
       "      <td>Tiger Analytics</td>\n",
       "      <td>Toronto, ON</td>\n",
       "      <td>0.361386</td>\n",
       "      <td>0.291667</td>\n",
       "      <td>-1.904762</td>\n",
       "      <td>{consulting, project management, metadata, ai,...</td>\n",
       "    </tr>\n",
       "    <tr>\n",
       "      <th>0</th>\n",
       "      <td>Data Scientist</td>\n",
       "      <td>Wish</td>\n",
       "      <td>Toronto, ON</td>\n",
       "      <td>0.328269</td>\n",
       "      <td>0.388889</td>\n",
       "      <td>0.033333</td>\n",
       "      <td>{data visualization, engineering, python, pipe...</td>\n",
       "    </tr>\n",
       "    <tr>\n",
       "      <th>3</th>\n",
       "      <td>Scene+ Data Scientist</td>\n",
       "      <td>Cineplex</td>\n",
       "      <td>Toronto, ON</td>\n",
       "      <td>0.316151</td>\n",
       "      <td>0.297297</td>\n",
       "      <td>-2.030303</td>\n",
       "      <td>{snowflake, python, infrastructure, kubernetes...</td>\n",
       "    </tr>\n",
       "    <tr>\n",
       "      <th>8</th>\n",
       "      <td>Sr. IT Data Analyst</td>\n",
       "      <td>TD Bank</td>\n",
       "      <td>Toronto, ON</td>\n",
       "      <td>0.310040</td>\n",
       "      <td>0.160000</td>\n",
       "      <td>-0.596491</td>\n",
       "      <td>{data profiling, project management, metadata,...</td>\n",
       "    </tr>\n",
       "    <tr>\n",
       "      <th>1</th>\n",
       "      <td>Data Science Co-op (R&amp;D) - Summer term</td>\n",
       "      <td>Swift Medical</td>\n",
       "      <td>Toronto, ON</td>\n",
       "      <td>0.309663</td>\n",
       "      <td>0.333333</td>\n",
       "      <td>-2.037736</td>\n",
       "      <td>{predictive, ai, python, engineering, mentorin...</td>\n",
       "    </tr>\n",
       "    <tr>\n",
       "      <th>12</th>\n",
       "      <td>Senior Data Analyst</td>\n",
       "      <td>Sun Life</td>\n",
       "      <td>Toronto, ON</td>\n",
       "      <td>0.288357</td>\n",
       "      <td>0.250000</td>\n",
       "      <td>-0.820000</td>\n",
       "      <td>{python, insights, testing, sas, sql, options,...</td>\n",
       "    </tr>\n",
       "    <tr>\n",
       "      <th>14</th>\n",
       "      <td>Manager, Machine Learning and Advanced Analytics</td>\n",
       "      <td>MLSE</td>\n",
       "      <td>Toronto, ON</td>\n",
       "      <td>0.260264</td>\n",
       "      <td>0.263158</td>\n",
       "      <td>-0.820896</td>\n",
       "      <td>{project management, pipelines, insights, test...</td>\n",
       "    </tr>\n",
       "    <tr>\n",
       "      <th>15</th>\n",
       "      <td>Machine Learning Engineer</td>\n",
       "      <td>Autodesk</td>\n",
       "      <td>Toronto, ON</td>\n",
       "      <td>0.259784</td>\n",
       "      <td>0.272727</td>\n",
       "      <td>-0.673469</td>\n",
       "      <td>{data-analytics, python, ml, insights, cluster...</td>\n",
       "    </tr>\n",
       "    <tr>\n",
       "      <th>2</th>\n",
       "      <td>Data Analyst - Operations</td>\n",
       "      <td>Flair Airlines Ltd.</td>\n",
       "      <td>Toronto, ON</td>\n",
       "      <td>0.255140</td>\n",
       "      <td>0.269231</td>\n",
       "      <td>-0.054054</td>\n",
       "      <td>{data profiling, python, pipelines, insights, ...</td>\n",
       "    </tr>\n",
       "    <tr>\n",
       "      <th>17</th>\n",
       "      <td>Senior Product Manager, Growth Marketing &amp; Ana...</td>\n",
       "      <td>Angi</td>\n",
       "      <td>Toronto, ON</td>\n",
       "      <td>0.254424</td>\n",
       "      <td>0.350000</td>\n",
       "      <td>-1.400000</td>\n",
       "      <td>{snowflake, engineering, features, project man...</td>\n",
       "    </tr>\n",
       "    <tr>\n",
       "      <th>5</th>\n",
       "      <td>Senior Data Scientist, Trust &amp; Safety and Supp...</td>\n",
       "      <td>Thumbtack</td>\n",
       "      <td>Toronto, ON</td>\n",
       "      <td>0.233622</td>\n",
       "      <td>0.322581</td>\n",
       "      <td>-0.360000</td>\n",
       "      <td>{python, infrastructure, insights, sql, econom...</td>\n",
       "    </tr>\n",
       "    <tr>\n",
       "      <th>20</th>\n",
       "      <td>Sr. Manager/ Associate Director - Pricing Anal...</td>\n",
       "      <td>Tiger Analytics</td>\n",
       "      <td>Toronto, ON</td>\n",
       "      <td>0.231583</td>\n",
       "      <td>0.400000</td>\n",
       "      <td>-2.645161</td>\n",
       "      <td>{consulting, project management, ai, leadershi...</td>\n",
       "    </tr>\n",
       "    <tr>\n",
       "      <th>11</th>\n",
       "      <td>Staff Machine Learning Engineer</td>\n",
       "      <td>Everbridge</td>\n",
       "      <td>Toronto, ON</td>\n",
       "      <td>0.229886</td>\n",
       "      <td>0.227273</td>\n",
       "      <td>-0.714286</td>\n",
       "      <td>{nlp, pytorch, ai, engineering, python, comput...</td>\n",
       "    </tr>\n",
       "    <tr>\n",
       "      <th>18</th>\n",
       "      <td>Senior Manager, Data and AI Risk</td>\n",
       "      <td>Scotiabank</td>\n",
       "      <td>Toronto, ON</td>\n",
       "      <td>0.217620</td>\n",
       "      <td>0.150000</td>\n",
       "      <td>-0.050000</td>\n",
       "      <td>{ai, metadata, banking, financial services, ma...</td>\n",
       "    </tr>\n",
       "    <tr>\n",
       "      <th>6</th>\n",
       "      <td>Data Scientist - Climate/Weather</td>\n",
       "      <td>RiskThinking.AI</td>\n",
       "      <td>Toronto, ON</td>\n",
       "      <td>0.208915</td>\n",
       "      <td>0.233333</td>\n",
       "      <td>-0.270833</td>\n",
       "      <td>{project management, python, ml, infrastructur...</td>\n",
       "    </tr>\n",
       "    <tr>\n",
       "      <th>19</th>\n",
       "      <td>Senior Machine Learning Engineer, NLP (Remote)</td>\n",
       "      <td>BenchSci</td>\n",
       "      <td>Toronto, ON</td>\n",
       "      <td>0.181212</td>\n",
       "      <td>0.240000</td>\n",
       "      <td>-0.375000</td>\n",
       "      <td>{python, workflow, ml, infrastructure, pipelin...</td>\n",
       "    </tr>\n",
       "    <tr>\n",
       "      <th>4</th>\n",
       "      <td>Data Science Manager - Contract</td>\n",
       "      <td>Scotiabank</td>\n",
       "      <td>Toronto, ON</td>\n",
       "      <td>0.171703</td>\n",
       "      <td>0.243243</td>\n",
       "      <td>-2.066038</td>\n",
       "      <td>{python, insights, markets, modelling, capital...</td>\n",
       "    </tr>\n",
       "    <tr>\n",
       "      <th>7</th>\n",
       "      <td>ML Engineer</td>\n",
       "      <td>Pinterest</td>\n",
       "      <td>Toronto, ON</td>\n",
       "      <td>0.160721</td>\n",
       "      <td>0.333333</td>\n",
       "      <td>-0.347826</td>\n",
       "      <td>{nlp, ml, computer vision, phd, research, mana...</td>\n",
       "    </tr>\n",
       "    <tr>\n",
       "      <th>16</th>\n",
       "      <td>Software Engineer AI/ ML- Co-Op (PEY/ Masters)</td>\n",
       "      <td>Seismic</td>\n",
       "      <td>Toronto, ON</td>\n",
       "      <td>0.114401</td>\n",
       "      <td>0.193548</td>\n",
       "      <td>0.096154</td>\n",
       "      <td>{python, ml, seismic, testing, databases, nump...</td>\n",
       "    </tr>\n",
       "    <tr>\n",
       "      <th>21</th>\n",
       "      <td>Senior Manager, Data &amp; AI Risk</td>\n",
       "      <td>Scotiabank</td>\n",
       "      <td>Toronto, ON</td>\n",
       "      <td>0.104164</td>\n",
       "      <td>0.105263</td>\n",
       "      <td>-0.051282</td>\n",
       "      <td>{gradient boosting, boosting, ai, banking, ml,...</td>\n",
       "    </tr>\n",
       "    <tr>\n",
       "      <th>10</th>\n",
       "      <td>Manager, Data &amp; AI Risk</td>\n",
       "      <td>Scotiabank</td>\n",
       "      <td>Toronto, ON</td>\n",
       "      <td>0.098544</td>\n",
       "      <td>0.105263</td>\n",
       "      <td>-0.046512</td>\n",
       "      <td>{gradient boosting, boosting, ai, banking, ml,...</td>\n",
       "    </tr>\n",
       "  </tbody>\n",
       "</table>\n",
       "</div>"
      ],
      "text/plain": [
       "                                                title              company  \\\n",
       "9                                      Data Scientist                 Arup   \n",
       "13                          Sr. Data Analyst (Pharma)      Tiger Analytics   \n",
       "0                                      Data Scientist                 Wish   \n",
       "3                               Scene+ Data Scientist             Cineplex   \n",
       "8                                 Sr. IT Data Analyst              TD Bank   \n",
       "1              Data Science Co-op (R&D) - Summer term        Swift Medical   \n",
       "12                                Senior Data Analyst             Sun Life   \n",
       "14   Manager, Machine Learning and Advanced Analytics                 MLSE   \n",
       "15                          Machine Learning Engineer             Autodesk   \n",
       "2                           Data Analyst - Operations  Flair Airlines Ltd.   \n",
       "17  Senior Product Manager, Growth Marketing & Ana...                 Angi   \n",
       "5   Senior Data Scientist, Trust & Safety and Supp...            Thumbtack   \n",
       "20  Sr. Manager/ Associate Director - Pricing Anal...      Tiger Analytics   \n",
       "11                    Staff Machine Learning Engineer           Everbridge   \n",
       "18                   Senior Manager, Data and AI Risk           Scotiabank   \n",
       "6                    Data Scientist - Climate/Weather      RiskThinking.AI   \n",
       "19     Senior Machine Learning Engineer, NLP (Remote)             BenchSci   \n",
       "4                     Data Science Manager - Contract           Scotiabank   \n",
       "7                                         ML Engineer            Pinterest   \n",
       "16     Software Engineer AI/ ML- Co-Op (PEY/ Masters)              Seismic   \n",
       "21                     Senior Manager, Data & AI Risk           Scotiabank   \n",
       "10                            Manager, Data & AI Risk           Scotiabank   \n",
       "\n",
       "       location  similarity-score  keyword-coverage  keyword-wt  \\\n",
       "9   Toronto, ON          0.377605          0.268293   -2.208333   \n",
       "13  Toronto, ON          0.361386          0.291667   -1.904762   \n",
       "0   Toronto, ON          0.328269          0.388889    0.033333   \n",
       "3   Toronto, ON          0.316151          0.297297   -2.030303   \n",
       "8   Toronto, ON          0.310040          0.160000   -0.596491   \n",
       "1   Toronto, ON          0.309663          0.333333   -2.037736   \n",
       "12  Toronto, ON          0.288357          0.250000   -0.820000   \n",
       "14  Toronto, ON          0.260264          0.263158   -0.820896   \n",
       "15  Toronto, ON          0.259784          0.272727   -0.673469   \n",
       "2   Toronto, ON          0.255140          0.269231   -0.054054   \n",
       "17  Toronto, ON          0.254424          0.350000   -1.400000   \n",
       "5   Toronto, ON          0.233622          0.322581   -0.360000   \n",
       "20  Toronto, ON          0.231583          0.400000   -2.645161   \n",
       "11  Toronto, ON          0.229886          0.227273   -0.714286   \n",
       "18  Toronto, ON          0.217620          0.150000   -0.050000   \n",
       "6   Toronto, ON          0.208915          0.233333   -0.270833   \n",
       "19  Toronto, ON          0.181212          0.240000   -0.375000   \n",
       "4   Toronto, ON          0.171703          0.243243   -2.066038   \n",
       "7   Toronto, ON          0.160721          0.333333   -0.347826   \n",
       "16  Toronto, ON          0.114401          0.193548    0.096154   \n",
       "21  Toronto, ON          0.104164          0.105263   -0.051282   \n",
       "10  Toronto, ON          0.098544          0.105263   -0.046512   \n",
       "\n",
       "                                     keywords-missing  \n",
       "9   {python, data mining, pipelines, ml, insights,...  \n",
       "13  {consulting, project management, metadata, ai,...  \n",
       "0   {data visualization, engineering, python, pipe...  \n",
       "3   {snowflake, python, infrastructure, kubernetes...  \n",
       "8   {data profiling, project management, metadata,...  \n",
       "1   {predictive, ai, python, engineering, mentorin...  \n",
       "12  {python, insights, testing, sas, sql, options,...  \n",
       "14  {project management, pipelines, insights, test...  \n",
       "15  {data-analytics, python, ml, insights, cluster...  \n",
       "2   {data profiling, python, pipelines, insights, ...  \n",
       "17  {snowflake, engineering, features, project man...  \n",
       "5   {python, infrastructure, insights, sql, econom...  \n",
       "20  {consulting, project management, ai, leadershi...  \n",
       "11  {nlp, pytorch, ai, engineering, python, comput...  \n",
       "18  {ai, metadata, banking, financial services, ma...  \n",
       "6   {project management, python, ml, infrastructur...  \n",
       "19  {python, workflow, ml, infrastructure, pipelin...  \n",
       "4   {python, insights, markets, modelling, capital...  \n",
       "7   {nlp, ml, computer vision, phd, research, mana...  \n",
       "16  {python, ml, seismic, testing, databases, nump...  \n",
       "21  {gradient boosting, boosting, ai, banking, ml,...  \n",
       "10  {gradient boosting, boosting, ai, banking, ml,...  "
      ]
     },
     "execution_count": 474,
     "metadata": {},
     "output_type": "execute_result"
    }
   ],
   "source": [
    "# get resume\n",
    "cl = get_resume_text('data/cover_letter.docx',False)\n",
    "\n",
    "\n",
    "# calc similarities with each job\n",
    "df_cl = calc_similarities(cl,job_details,'data/terms.csv')\n",
    "df_cl"
   ]
  },
  {
   "cell_type": "code",
   "execution_count": 475,
   "id": "85ff1e3f",
   "metadata": {},
   "outputs": [
    {
     "data": {
      "application/vnd.plotly.v1+json": {
       "config": {
        "plotlyServerURL": "https://plot.ly"
       },
       "data": [
        {
         "marker": {
          "color": [
           0.3776047069907281,
           0.36138562668578206,
           0.32826859652804086,
           0.31615124890464885,
           0.3100400892844176,
           0.30966333716399286,
           0.2883573654519889,
           0.2602638247155678,
           0.2597838046447086,
           0.25514020427179385,
           0.25442390672984316,
           0.23362204391851712,
           0.2315834436717555,
           0.2298860099946956,
           0.2176202649008036,
           0.20891522856017353,
           0.18121176716624895,
           0.17170251585381374,
           0.1607210943033469,
           0.1144010527914247,
           0.10416408990197043,
           0.09854394881349765
          ],
          "colorscale": [
           [
            0,
            "rgba(252,76,1,1.0)"
           ],
           [
            0.25,
            "rgba(252,76,1,0.5)"
           ],
           [
            0.5,
            "rgba(83,128,141,0.25)"
           ],
           [
            0.75,
            "rgba(83,128,141,0.5)"
           ],
           [
            1,
            "rgba(83,128,141,1.0)"
           ]
          ],
          "size": [
           11.951233310703781,
           20.256683800471993,
           73.28128535867843,
           16.821987697751453,
           56.049832660401854,
           16.618632235586475,
           49.93482688391038,
           49.91032616955953,
           53.943777103509426,
           70.89044237720408,
           34.06653088934148,
           62.520027155465044,
           0,
           52.82707787799437,
           71.00135777325187,
           64.95954967187146,
           62.10964019008826,
           15.844317206573669,
           62.85309483750997,
           75,
           70.9662819642453,
           71.09679660240926
          ]
         },
         "mode": "markers",
         "text": [
          "Data Scientist",
          "Sr. Data Analyst (Pharma)",
          "Data Scientist",
          "Scene+ Data Scientist",
          "Sr. IT Data Analyst",
          "Data Science Co-op (R&D) - Summer term",
          "Senior Data Analyst",
          "Manager, Machine Learning and Advanced Analytics",
          "Machine Learning Engineer",
          "Data Analyst - Operations",
          "Senior Product Manager, Growth Marketing & Analytics",
          "Senior Data Scientist, Trust & Safety and Support Operations",
          "Sr. Manager/ Associate Director - Pricing Analytics",
          "Staff Machine Learning Engineer",
          "Senior Manager, Data and AI Risk",
          "Data Scientist - Climate/Weather",
          "Senior Machine Learning Engineer, NLP (Remote)",
          "Data Science Manager - Contract",
          "ML Engineer",
          "Software Engineer AI/ ML- Co-Op (PEY/ Masters)",
          "Senior Manager, Data & AI Risk",
          "Manager, Data & AI Risk"
         ],
         "type": "scatter",
         "x": [
          0.2682926829268293,
          0.2916666666666667,
          0.3888888888888889,
          0.2972972972972973,
          0.16,
          0.3333333333333333,
          0.25,
          0.2631578947368421,
          0.2727272727272727,
          0.2692307692307692,
          0.35,
          0.3225806451612903,
          0.4,
          0.22727272727272727,
          0.15,
          0.23333333333333334,
          0.24,
          0.24324324324324326,
          0.3333333333333333,
          0.1935483870967742,
          0.10526315789473684,
          0.10526315789473684
         ],
         "y": [
          0.3776047069907281,
          0.36138562668578206,
          0.32826859652804086,
          0.31615124890464885,
          0.3100400892844176,
          0.30966333716399286,
          0.2883573654519889,
          0.2602638247155678,
          0.2597838046447086,
          0.25514020427179385,
          0.25442390672984316,
          0.23362204391851712,
          0.2315834436717555,
          0.2298860099946956,
          0.2176202649008036,
          0.20891522856017353,
          0.18121176716624895,
          0.17170251585381374,
          0.1607210943033469,
          0.1144010527914247,
          0.10416408990197043,
          0.09854394881349765
         ]
        }
       ],
       "layout": {
        "height": 500,
        "template": {
         "data": {
          "bar": [
           {
            "error_x": {
             "color": "#2a3f5f"
            },
            "error_y": {
             "color": "#2a3f5f"
            },
            "marker": {
             "line": {
              "color": "white",
              "width": 0.5
             },
             "pattern": {
              "fillmode": "overlay",
              "size": 10,
              "solidity": 0.2
             }
            },
            "type": "bar"
           }
          ],
          "barpolar": [
           {
            "marker": {
             "line": {
              "color": "white",
              "width": 0.5
             },
             "pattern": {
              "fillmode": "overlay",
              "size": 10,
              "solidity": 0.2
             }
            },
            "type": "barpolar"
           }
          ],
          "carpet": [
           {
            "aaxis": {
             "endlinecolor": "#2a3f5f",
             "gridcolor": "#C8D4E3",
             "linecolor": "#C8D4E3",
             "minorgridcolor": "#C8D4E3",
             "startlinecolor": "#2a3f5f"
            },
            "baxis": {
             "endlinecolor": "#2a3f5f",
             "gridcolor": "#C8D4E3",
             "linecolor": "#C8D4E3",
             "minorgridcolor": "#C8D4E3",
             "startlinecolor": "#2a3f5f"
            },
            "type": "carpet"
           }
          ],
          "choropleth": [
           {
            "colorbar": {
             "outlinewidth": 0,
             "ticks": ""
            },
            "type": "choropleth"
           }
          ],
          "contour": [
           {
            "colorbar": {
             "outlinewidth": 0,
             "ticks": ""
            },
            "colorscale": [
             [
              0,
              "#0d0887"
             ],
             [
              0.1111111111111111,
              "#46039f"
             ],
             [
              0.2222222222222222,
              "#7201a8"
             ],
             [
              0.3333333333333333,
              "#9c179e"
             ],
             [
              0.4444444444444444,
              "#bd3786"
             ],
             [
              0.5555555555555556,
              "#d8576b"
             ],
             [
              0.6666666666666666,
              "#ed7953"
             ],
             [
              0.7777777777777778,
              "#fb9f3a"
             ],
             [
              0.8888888888888888,
              "#fdca26"
             ],
             [
              1,
              "#f0f921"
             ]
            ],
            "type": "contour"
           }
          ],
          "contourcarpet": [
           {
            "colorbar": {
             "outlinewidth": 0,
             "ticks": ""
            },
            "type": "contourcarpet"
           }
          ],
          "heatmap": [
           {
            "colorbar": {
             "outlinewidth": 0,
             "ticks": ""
            },
            "colorscale": [
             [
              0,
              "#0d0887"
             ],
             [
              0.1111111111111111,
              "#46039f"
             ],
             [
              0.2222222222222222,
              "#7201a8"
             ],
             [
              0.3333333333333333,
              "#9c179e"
             ],
             [
              0.4444444444444444,
              "#bd3786"
             ],
             [
              0.5555555555555556,
              "#d8576b"
             ],
             [
              0.6666666666666666,
              "#ed7953"
             ],
             [
              0.7777777777777778,
              "#fb9f3a"
             ],
             [
              0.8888888888888888,
              "#fdca26"
             ],
             [
              1,
              "#f0f921"
             ]
            ],
            "type": "heatmap"
           }
          ],
          "heatmapgl": [
           {
            "colorbar": {
             "outlinewidth": 0,
             "ticks": ""
            },
            "colorscale": [
             [
              0,
              "#0d0887"
             ],
             [
              0.1111111111111111,
              "#46039f"
             ],
             [
              0.2222222222222222,
              "#7201a8"
             ],
             [
              0.3333333333333333,
              "#9c179e"
             ],
             [
              0.4444444444444444,
              "#bd3786"
             ],
             [
              0.5555555555555556,
              "#d8576b"
             ],
             [
              0.6666666666666666,
              "#ed7953"
             ],
             [
              0.7777777777777778,
              "#fb9f3a"
             ],
             [
              0.8888888888888888,
              "#fdca26"
             ],
             [
              1,
              "#f0f921"
             ]
            ],
            "type": "heatmapgl"
           }
          ],
          "histogram": [
           {
            "marker": {
             "pattern": {
              "fillmode": "overlay",
              "size": 10,
              "solidity": 0.2
             }
            },
            "type": "histogram"
           }
          ],
          "histogram2d": [
           {
            "colorbar": {
             "outlinewidth": 0,
             "ticks": ""
            },
            "colorscale": [
             [
              0,
              "#0d0887"
             ],
             [
              0.1111111111111111,
              "#46039f"
             ],
             [
              0.2222222222222222,
              "#7201a8"
             ],
             [
              0.3333333333333333,
              "#9c179e"
             ],
             [
              0.4444444444444444,
              "#bd3786"
             ],
             [
              0.5555555555555556,
              "#d8576b"
             ],
             [
              0.6666666666666666,
              "#ed7953"
             ],
             [
              0.7777777777777778,
              "#fb9f3a"
             ],
             [
              0.8888888888888888,
              "#fdca26"
             ],
             [
              1,
              "#f0f921"
             ]
            ],
            "type": "histogram2d"
           }
          ],
          "histogram2dcontour": [
           {
            "colorbar": {
             "outlinewidth": 0,
             "ticks": ""
            },
            "colorscale": [
             [
              0,
              "#0d0887"
             ],
             [
              0.1111111111111111,
              "#46039f"
             ],
             [
              0.2222222222222222,
              "#7201a8"
             ],
             [
              0.3333333333333333,
              "#9c179e"
             ],
             [
              0.4444444444444444,
              "#bd3786"
             ],
             [
              0.5555555555555556,
              "#d8576b"
             ],
             [
              0.6666666666666666,
              "#ed7953"
             ],
             [
              0.7777777777777778,
              "#fb9f3a"
             ],
             [
              0.8888888888888888,
              "#fdca26"
             ],
             [
              1,
              "#f0f921"
             ]
            ],
            "type": "histogram2dcontour"
           }
          ],
          "mesh3d": [
           {
            "colorbar": {
             "outlinewidth": 0,
             "ticks": ""
            },
            "type": "mesh3d"
           }
          ],
          "parcoords": [
           {
            "line": {
             "colorbar": {
              "outlinewidth": 0,
              "ticks": ""
             }
            },
            "type": "parcoords"
           }
          ],
          "pie": [
           {
            "automargin": true,
            "type": "pie"
           }
          ],
          "scatter": [
           {
            "fillpattern": {
             "fillmode": "overlay",
             "size": 10,
             "solidity": 0.2
            },
            "type": "scatter"
           }
          ],
          "scatter3d": [
           {
            "line": {
             "colorbar": {
              "outlinewidth": 0,
              "ticks": ""
             }
            },
            "marker": {
             "colorbar": {
              "outlinewidth": 0,
              "ticks": ""
             }
            },
            "type": "scatter3d"
           }
          ],
          "scattercarpet": [
           {
            "marker": {
             "colorbar": {
              "outlinewidth": 0,
              "ticks": ""
             }
            },
            "type": "scattercarpet"
           }
          ],
          "scattergeo": [
           {
            "marker": {
             "colorbar": {
              "outlinewidth": 0,
              "ticks": ""
             }
            },
            "type": "scattergeo"
           }
          ],
          "scattergl": [
           {
            "marker": {
             "colorbar": {
              "outlinewidth": 0,
              "ticks": ""
             }
            },
            "type": "scattergl"
           }
          ],
          "scattermapbox": [
           {
            "marker": {
             "colorbar": {
              "outlinewidth": 0,
              "ticks": ""
             }
            },
            "type": "scattermapbox"
           }
          ],
          "scatterpolar": [
           {
            "marker": {
             "colorbar": {
              "outlinewidth": 0,
              "ticks": ""
             }
            },
            "type": "scatterpolar"
           }
          ],
          "scatterpolargl": [
           {
            "marker": {
             "colorbar": {
              "outlinewidth": 0,
              "ticks": ""
             }
            },
            "type": "scatterpolargl"
           }
          ],
          "scatterternary": [
           {
            "marker": {
             "colorbar": {
              "outlinewidth": 0,
              "ticks": ""
             }
            },
            "type": "scatterternary"
           }
          ],
          "surface": [
           {
            "colorbar": {
             "outlinewidth": 0,
             "ticks": ""
            },
            "colorscale": [
             [
              0,
              "#0d0887"
             ],
             [
              0.1111111111111111,
              "#46039f"
             ],
             [
              0.2222222222222222,
              "#7201a8"
             ],
             [
              0.3333333333333333,
              "#9c179e"
             ],
             [
              0.4444444444444444,
              "#bd3786"
             ],
             [
              0.5555555555555556,
              "#d8576b"
             ],
             [
              0.6666666666666666,
              "#ed7953"
             ],
             [
              0.7777777777777778,
              "#fb9f3a"
             ],
             [
              0.8888888888888888,
              "#fdca26"
             ],
             [
              1,
              "#f0f921"
             ]
            ],
            "type": "surface"
           }
          ],
          "table": [
           {
            "cells": {
             "fill": {
              "color": "#EBF0F8"
             },
             "line": {
              "color": "white"
             }
            },
            "header": {
             "fill": {
              "color": "#C8D4E3"
             },
             "line": {
              "color": "white"
             }
            },
            "type": "table"
           }
          ]
         },
         "layout": {
          "annotationdefaults": {
           "arrowcolor": "#2a3f5f",
           "arrowhead": 0,
           "arrowwidth": 1
          },
          "autotypenumbers": "strict",
          "coloraxis": {
           "colorbar": {
            "outlinewidth": 0,
            "ticks": ""
           }
          },
          "colorscale": {
           "diverging": [
            [
             0,
             "#8e0152"
            ],
            [
             0.1,
             "#c51b7d"
            ],
            [
             0.2,
             "#de77ae"
            ],
            [
             0.3,
             "#f1b6da"
            ],
            [
             0.4,
             "#fde0ef"
            ],
            [
             0.5,
             "#f7f7f7"
            ],
            [
             0.6,
             "#e6f5d0"
            ],
            [
             0.7,
             "#b8e186"
            ],
            [
             0.8,
             "#7fbc41"
            ],
            [
             0.9,
             "#4d9221"
            ],
            [
             1,
             "#276419"
            ]
           ],
           "sequential": [
            [
             0,
             "#0d0887"
            ],
            [
             0.1111111111111111,
             "#46039f"
            ],
            [
             0.2222222222222222,
             "#7201a8"
            ],
            [
             0.3333333333333333,
             "#9c179e"
            ],
            [
             0.4444444444444444,
             "#bd3786"
            ],
            [
             0.5555555555555556,
             "#d8576b"
            ],
            [
             0.6666666666666666,
             "#ed7953"
            ],
            [
             0.7777777777777778,
             "#fb9f3a"
            ],
            [
             0.8888888888888888,
             "#fdca26"
            ],
            [
             1,
             "#f0f921"
            ]
           ],
           "sequentialminus": [
            [
             0,
             "#0d0887"
            ],
            [
             0.1111111111111111,
             "#46039f"
            ],
            [
             0.2222222222222222,
             "#7201a8"
            ],
            [
             0.3333333333333333,
             "#9c179e"
            ],
            [
             0.4444444444444444,
             "#bd3786"
            ],
            [
             0.5555555555555556,
             "#d8576b"
            ],
            [
             0.6666666666666666,
             "#ed7953"
            ],
            [
             0.7777777777777778,
             "#fb9f3a"
            ],
            [
             0.8888888888888888,
             "#fdca26"
            ],
            [
             1,
             "#f0f921"
            ]
           ]
          },
          "colorway": [
           "#636efa",
           "#EF553B",
           "#00cc96",
           "#ab63fa",
           "#FFA15A",
           "#19d3f3",
           "#FF6692",
           "#B6E880",
           "#FF97FF",
           "#FECB52"
          ],
          "font": {
           "color": "#2a3f5f"
          },
          "geo": {
           "bgcolor": "white",
           "lakecolor": "white",
           "landcolor": "white",
           "showlakes": true,
           "showland": true,
           "subunitcolor": "#C8D4E3"
          },
          "hoverlabel": {
           "align": "left"
          },
          "hovermode": "closest",
          "mapbox": {
           "style": "light"
          },
          "paper_bgcolor": "white",
          "plot_bgcolor": "white",
          "polar": {
           "angularaxis": {
            "gridcolor": "#EBF0F8",
            "linecolor": "#EBF0F8",
            "ticks": ""
           },
           "bgcolor": "white",
           "radialaxis": {
            "gridcolor": "#EBF0F8",
            "linecolor": "#EBF0F8",
            "ticks": ""
           }
          },
          "scene": {
           "xaxis": {
            "backgroundcolor": "white",
            "gridcolor": "#DFE8F3",
            "gridwidth": 2,
            "linecolor": "#EBF0F8",
            "showbackground": true,
            "ticks": "",
            "zerolinecolor": "#EBF0F8"
           },
           "yaxis": {
            "backgroundcolor": "white",
            "gridcolor": "#DFE8F3",
            "gridwidth": 2,
            "linecolor": "#EBF0F8",
            "showbackground": true,
            "ticks": "",
            "zerolinecolor": "#EBF0F8"
           },
           "zaxis": {
            "backgroundcolor": "white",
            "gridcolor": "#DFE8F3",
            "gridwidth": 2,
            "linecolor": "#EBF0F8",
            "showbackground": true,
            "ticks": "",
            "zerolinecolor": "#EBF0F8"
           }
          },
          "shapedefaults": {
           "line": {
            "color": "#2a3f5f"
           }
          },
          "ternary": {
           "aaxis": {
            "gridcolor": "#DFE8F3",
            "linecolor": "#A2B1C6",
            "ticks": ""
           },
           "baxis": {
            "gridcolor": "#DFE8F3",
            "linecolor": "#A2B1C6",
            "ticks": ""
           },
           "bgcolor": "white",
           "caxis": {
            "gridcolor": "#DFE8F3",
            "linecolor": "#A2B1C6",
            "ticks": ""
           }
          },
          "title": {
           "x": 0.05
          },
          "xaxis": {
           "automargin": true,
           "gridcolor": "#EBF0F8",
           "linecolor": "#EBF0F8",
           "ticks": "",
           "title": {
            "standoff": 15
           },
           "zerolinecolor": "#EBF0F8",
           "zerolinewidth": 2
          },
          "yaxis": {
           "automargin": true,
           "gridcolor": "#EBF0F8",
           "linecolor": "#EBF0F8",
           "ticks": "",
           "title": {
            "standoff": 15
           },
           "zerolinecolor": "#EBF0F8",
           "zerolinewidth": 2
          }
         }
        },
        "title": {
         "text": "Resume Similarity to Job Listings"
        },
        "width": 800,
        "xaxis": {
         "title": {
          "text": "Keyword Coverge (%)"
         }
        },
        "yaxis": {
         "title": {
          "text": "Similarity Score"
         }
        }
       }
      },
      "text/html": [
       "<div>                            <div id=\"b940f78f-b834-42a7-8095-90e68091d08d\" class=\"plotly-graph-div\" style=\"height:500px; width:800px;\"></div>            <script type=\"text/javascript\">                require([\"plotly\"], function(Plotly) {                    window.PLOTLYENV=window.PLOTLYENV || {};                                    if (document.getElementById(\"b940f78f-b834-42a7-8095-90e68091d08d\")) {                    Plotly.newPlot(                        \"b940f78f-b834-42a7-8095-90e68091d08d\",                        [{\"marker\":{\"color\":[0.3776047069907281,0.36138562668578206,0.32826859652804086,0.31615124890464885,0.3100400892844176,0.30966333716399286,0.2883573654519889,0.2602638247155678,0.2597838046447086,0.25514020427179385,0.25442390672984316,0.23362204391851712,0.2315834436717555,0.2298860099946956,0.2176202649008036,0.20891522856017353,0.18121176716624895,0.17170251585381374,0.1607210943033469,0.1144010527914247,0.10416408990197043,0.09854394881349765],\"colorscale\":[[0,\"rgba(252,76,1,1.0)\"],[0.25,\"rgba(252,76,1,0.5)\"],[0.5,\"rgba(83,128,141,0.25)\"],[0.75,\"rgba(83,128,141,0.5)\"],[1.0,\"rgba(83,128,141,1.0)\"]],\"size\":[11.951233310703781,20.256683800471993,73.28128535867843,16.821987697751453,56.049832660401854,16.618632235586475,49.93482688391038,49.91032616955953,53.943777103509426,70.89044237720408,34.06653088934148,62.520027155465044,0.0,52.82707787799437,71.00135777325187,64.95954967187146,62.10964019008826,15.844317206573669,62.85309483750997,75.0,70.9662819642453,71.09679660240926]},\"mode\":\"markers\",\"text\":[\"Data Scientist\",\"Sr. Data Analyst (Pharma)\",\"Data Scientist\",\"Scene+ Data Scientist\",\"Sr. IT Data Analyst\",\"Data Science Co-op (R&D) - Summer term\",\"Senior Data Analyst\",\"Manager, Machine Learning and Advanced Analytics\",\"Machine Learning Engineer\",\"Data Analyst - Operations\",\"Senior Product Manager, Growth Marketing & Analytics\",\"Senior Data Scientist, Trust & Safety and Support Operations\",\"Sr. Manager/ Associate Director - Pricing Analytics\",\"Staff Machine Learning Engineer\",\"Senior Manager, Data and AI Risk\",\"Data Scientist - Climate/Weather\",\"Senior Machine Learning Engineer, NLP (Remote)\",\"Data Science Manager - Contract\",\"ML Engineer\",\"Software Engineer AI/ ML- Co-Op (PEY/ Masters)\",\"Senior Manager, Data & AI Risk\",\"Manager, Data & AI Risk\"],\"x\":[0.2682926829268293,0.2916666666666667,0.3888888888888889,0.2972972972972973,0.16,0.3333333333333333,0.25,0.2631578947368421,0.2727272727272727,0.2692307692307692,0.35,0.3225806451612903,0.4,0.22727272727272727,0.15,0.23333333333333334,0.24,0.24324324324324326,0.3333333333333333,0.1935483870967742,0.10526315789473684,0.10526315789473684],\"y\":[0.3776047069907281,0.36138562668578206,0.32826859652804086,0.31615124890464885,0.3100400892844176,0.30966333716399286,0.2883573654519889,0.2602638247155678,0.2597838046447086,0.25514020427179385,0.25442390672984316,0.23362204391851712,0.2315834436717555,0.2298860099946956,0.2176202649008036,0.20891522856017353,0.18121176716624895,0.17170251585381374,0.1607210943033469,0.1144010527914247,0.10416408990197043,0.09854394881349765],\"type\":\"scatter\"}],                        {\"template\":{\"data\":{\"barpolar\":[{\"marker\":{\"line\":{\"color\":\"white\",\"width\":0.5},\"pattern\":{\"fillmode\":\"overlay\",\"size\":10,\"solidity\":0.2}},\"type\":\"barpolar\"}],\"bar\":[{\"error_x\":{\"color\":\"#2a3f5f\"},\"error_y\":{\"color\":\"#2a3f5f\"},\"marker\":{\"line\":{\"color\":\"white\",\"width\":0.5},\"pattern\":{\"fillmode\":\"overlay\",\"size\":10,\"solidity\":0.2}},\"type\":\"bar\"}],\"carpet\":[{\"aaxis\":{\"endlinecolor\":\"#2a3f5f\",\"gridcolor\":\"#C8D4E3\",\"linecolor\":\"#C8D4E3\",\"minorgridcolor\":\"#C8D4E3\",\"startlinecolor\":\"#2a3f5f\"},\"baxis\":{\"endlinecolor\":\"#2a3f5f\",\"gridcolor\":\"#C8D4E3\",\"linecolor\":\"#C8D4E3\",\"minorgridcolor\":\"#C8D4E3\",\"startlinecolor\":\"#2a3f5f\"},\"type\":\"carpet\"}],\"choropleth\":[{\"colorbar\":{\"outlinewidth\":0,\"ticks\":\"\"},\"type\":\"choropleth\"}],\"contourcarpet\":[{\"colorbar\":{\"outlinewidth\":0,\"ticks\":\"\"},\"type\":\"contourcarpet\"}],\"contour\":[{\"colorbar\":{\"outlinewidth\":0,\"ticks\":\"\"},\"colorscale\":[[0.0,\"#0d0887\"],[0.1111111111111111,\"#46039f\"],[0.2222222222222222,\"#7201a8\"],[0.3333333333333333,\"#9c179e\"],[0.4444444444444444,\"#bd3786\"],[0.5555555555555556,\"#d8576b\"],[0.6666666666666666,\"#ed7953\"],[0.7777777777777778,\"#fb9f3a\"],[0.8888888888888888,\"#fdca26\"],[1.0,\"#f0f921\"]],\"type\":\"contour\"}],\"heatmapgl\":[{\"colorbar\":{\"outlinewidth\":0,\"ticks\":\"\"},\"colorscale\":[[0.0,\"#0d0887\"],[0.1111111111111111,\"#46039f\"],[0.2222222222222222,\"#7201a8\"],[0.3333333333333333,\"#9c179e\"],[0.4444444444444444,\"#bd3786\"],[0.5555555555555556,\"#d8576b\"],[0.6666666666666666,\"#ed7953\"],[0.7777777777777778,\"#fb9f3a\"],[0.8888888888888888,\"#fdca26\"],[1.0,\"#f0f921\"]],\"type\":\"heatmapgl\"}],\"heatmap\":[{\"colorbar\":{\"outlinewidth\":0,\"ticks\":\"\"},\"colorscale\":[[0.0,\"#0d0887\"],[0.1111111111111111,\"#46039f\"],[0.2222222222222222,\"#7201a8\"],[0.3333333333333333,\"#9c179e\"],[0.4444444444444444,\"#bd3786\"],[0.5555555555555556,\"#d8576b\"],[0.6666666666666666,\"#ed7953\"],[0.7777777777777778,\"#fb9f3a\"],[0.8888888888888888,\"#fdca26\"],[1.0,\"#f0f921\"]],\"type\":\"heatmap\"}],\"histogram2dcontour\":[{\"colorbar\":{\"outlinewidth\":0,\"ticks\":\"\"},\"colorscale\":[[0.0,\"#0d0887\"],[0.1111111111111111,\"#46039f\"],[0.2222222222222222,\"#7201a8\"],[0.3333333333333333,\"#9c179e\"],[0.4444444444444444,\"#bd3786\"],[0.5555555555555556,\"#d8576b\"],[0.6666666666666666,\"#ed7953\"],[0.7777777777777778,\"#fb9f3a\"],[0.8888888888888888,\"#fdca26\"],[1.0,\"#f0f921\"]],\"type\":\"histogram2dcontour\"}],\"histogram2d\":[{\"colorbar\":{\"outlinewidth\":0,\"ticks\":\"\"},\"colorscale\":[[0.0,\"#0d0887\"],[0.1111111111111111,\"#46039f\"],[0.2222222222222222,\"#7201a8\"],[0.3333333333333333,\"#9c179e\"],[0.4444444444444444,\"#bd3786\"],[0.5555555555555556,\"#d8576b\"],[0.6666666666666666,\"#ed7953\"],[0.7777777777777778,\"#fb9f3a\"],[0.8888888888888888,\"#fdca26\"],[1.0,\"#f0f921\"]],\"type\":\"histogram2d\"}],\"histogram\":[{\"marker\":{\"pattern\":{\"fillmode\":\"overlay\",\"size\":10,\"solidity\":0.2}},\"type\":\"histogram\"}],\"mesh3d\":[{\"colorbar\":{\"outlinewidth\":0,\"ticks\":\"\"},\"type\":\"mesh3d\"}],\"parcoords\":[{\"line\":{\"colorbar\":{\"outlinewidth\":0,\"ticks\":\"\"}},\"type\":\"parcoords\"}],\"pie\":[{\"automargin\":true,\"type\":\"pie\"}],\"scatter3d\":[{\"line\":{\"colorbar\":{\"outlinewidth\":0,\"ticks\":\"\"}},\"marker\":{\"colorbar\":{\"outlinewidth\":0,\"ticks\":\"\"}},\"type\":\"scatter3d\"}],\"scattercarpet\":[{\"marker\":{\"colorbar\":{\"outlinewidth\":0,\"ticks\":\"\"}},\"type\":\"scattercarpet\"}],\"scattergeo\":[{\"marker\":{\"colorbar\":{\"outlinewidth\":0,\"ticks\":\"\"}},\"type\":\"scattergeo\"}],\"scattergl\":[{\"marker\":{\"colorbar\":{\"outlinewidth\":0,\"ticks\":\"\"}},\"type\":\"scattergl\"}],\"scattermapbox\":[{\"marker\":{\"colorbar\":{\"outlinewidth\":0,\"ticks\":\"\"}},\"type\":\"scattermapbox\"}],\"scatterpolargl\":[{\"marker\":{\"colorbar\":{\"outlinewidth\":0,\"ticks\":\"\"}},\"type\":\"scatterpolargl\"}],\"scatterpolar\":[{\"marker\":{\"colorbar\":{\"outlinewidth\":0,\"ticks\":\"\"}},\"type\":\"scatterpolar\"}],\"scatter\":[{\"fillpattern\":{\"fillmode\":\"overlay\",\"size\":10,\"solidity\":0.2},\"type\":\"scatter\"}],\"scatterternary\":[{\"marker\":{\"colorbar\":{\"outlinewidth\":0,\"ticks\":\"\"}},\"type\":\"scatterternary\"}],\"surface\":[{\"colorbar\":{\"outlinewidth\":0,\"ticks\":\"\"},\"colorscale\":[[0.0,\"#0d0887\"],[0.1111111111111111,\"#46039f\"],[0.2222222222222222,\"#7201a8\"],[0.3333333333333333,\"#9c179e\"],[0.4444444444444444,\"#bd3786\"],[0.5555555555555556,\"#d8576b\"],[0.6666666666666666,\"#ed7953\"],[0.7777777777777778,\"#fb9f3a\"],[0.8888888888888888,\"#fdca26\"],[1.0,\"#f0f921\"]],\"type\":\"surface\"}],\"table\":[{\"cells\":{\"fill\":{\"color\":\"#EBF0F8\"},\"line\":{\"color\":\"white\"}},\"header\":{\"fill\":{\"color\":\"#C8D4E3\"},\"line\":{\"color\":\"white\"}},\"type\":\"table\"}]},\"layout\":{\"annotationdefaults\":{\"arrowcolor\":\"#2a3f5f\",\"arrowhead\":0,\"arrowwidth\":1},\"autotypenumbers\":\"strict\",\"coloraxis\":{\"colorbar\":{\"outlinewidth\":0,\"ticks\":\"\"}},\"colorscale\":{\"diverging\":[[0,\"#8e0152\"],[0.1,\"#c51b7d\"],[0.2,\"#de77ae\"],[0.3,\"#f1b6da\"],[0.4,\"#fde0ef\"],[0.5,\"#f7f7f7\"],[0.6,\"#e6f5d0\"],[0.7,\"#b8e186\"],[0.8,\"#7fbc41\"],[0.9,\"#4d9221\"],[1,\"#276419\"]],\"sequential\":[[0.0,\"#0d0887\"],[0.1111111111111111,\"#46039f\"],[0.2222222222222222,\"#7201a8\"],[0.3333333333333333,\"#9c179e\"],[0.4444444444444444,\"#bd3786\"],[0.5555555555555556,\"#d8576b\"],[0.6666666666666666,\"#ed7953\"],[0.7777777777777778,\"#fb9f3a\"],[0.8888888888888888,\"#fdca26\"],[1.0,\"#f0f921\"]],\"sequentialminus\":[[0.0,\"#0d0887\"],[0.1111111111111111,\"#46039f\"],[0.2222222222222222,\"#7201a8\"],[0.3333333333333333,\"#9c179e\"],[0.4444444444444444,\"#bd3786\"],[0.5555555555555556,\"#d8576b\"],[0.6666666666666666,\"#ed7953\"],[0.7777777777777778,\"#fb9f3a\"],[0.8888888888888888,\"#fdca26\"],[1.0,\"#f0f921\"]]},\"colorway\":[\"#636efa\",\"#EF553B\",\"#00cc96\",\"#ab63fa\",\"#FFA15A\",\"#19d3f3\",\"#FF6692\",\"#B6E880\",\"#FF97FF\",\"#FECB52\"],\"font\":{\"color\":\"#2a3f5f\"},\"geo\":{\"bgcolor\":\"white\",\"lakecolor\":\"white\",\"landcolor\":\"white\",\"showlakes\":true,\"showland\":true,\"subunitcolor\":\"#C8D4E3\"},\"hoverlabel\":{\"align\":\"left\"},\"hovermode\":\"closest\",\"mapbox\":{\"style\":\"light\"},\"paper_bgcolor\":\"white\",\"plot_bgcolor\":\"white\",\"polar\":{\"angularaxis\":{\"gridcolor\":\"#EBF0F8\",\"linecolor\":\"#EBF0F8\",\"ticks\":\"\"},\"bgcolor\":\"white\",\"radialaxis\":{\"gridcolor\":\"#EBF0F8\",\"linecolor\":\"#EBF0F8\",\"ticks\":\"\"}},\"scene\":{\"xaxis\":{\"backgroundcolor\":\"white\",\"gridcolor\":\"#DFE8F3\",\"gridwidth\":2,\"linecolor\":\"#EBF0F8\",\"showbackground\":true,\"ticks\":\"\",\"zerolinecolor\":\"#EBF0F8\"},\"yaxis\":{\"backgroundcolor\":\"white\",\"gridcolor\":\"#DFE8F3\",\"gridwidth\":2,\"linecolor\":\"#EBF0F8\",\"showbackground\":true,\"ticks\":\"\",\"zerolinecolor\":\"#EBF0F8\"},\"zaxis\":{\"backgroundcolor\":\"white\",\"gridcolor\":\"#DFE8F3\",\"gridwidth\":2,\"linecolor\":\"#EBF0F8\",\"showbackground\":true,\"ticks\":\"\",\"zerolinecolor\":\"#EBF0F8\"}},\"shapedefaults\":{\"line\":{\"color\":\"#2a3f5f\"}},\"ternary\":{\"aaxis\":{\"gridcolor\":\"#DFE8F3\",\"linecolor\":\"#A2B1C6\",\"ticks\":\"\"},\"baxis\":{\"gridcolor\":\"#DFE8F3\",\"linecolor\":\"#A2B1C6\",\"ticks\":\"\"},\"bgcolor\":\"white\",\"caxis\":{\"gridcolor\":\"#DFE8F3\",\"linecolor\":\"#A2B1C6\",\"ticks\":\"\"}},\"title\":{\"x\":0.05},\"xaxis\":{\"automargin\":true,\"gridcolor\":\"#EBF0F8\",\"linecolor\":\"#EBF0F8\",\"ticks\":\"\",\"title\":{\"standoff\":15},\"zerolinecolor\":\"#EBF0F8\",\"zerolinewidth\":2},\"yaxis\":{\"automargin\":true,\"gridcolor\":\"#EBF0F8\",\"linecolor\":\"#EBF0F8\",\"ticks\":\"\",\"title\":{\"standoff\":15},\"zerolinecolor\":\"#EBF0F8\",\"zerolinewidth\":2}}},\"xaxis\":{\"title\":{\"text\":\"Keyword Coverge (%)\"}},\"yaxis\":{\"title\":{\"text\":\"Similarity Score\"}},\"title\":{\"text\":\"Resume Similarity to Job Listings\"},\"width\":800,\"height\":500},                        {\"responsive\": true}                    ).then(function(){\n",
       "                            \n",
       "var gd = document.getElementById('b940f78f-b834-42a7-8095-90e68091d08d');\n",
       "var x = new MutationObserver(function (mutations, observer) {{\n",
       "        var display = window.getComputedStyle(gd).display;\n",
       "        if (!display || display === 'none') {{\n",
       "            console.log([gd, 'removed!']);\n",
       "            Plotly.purge(gd);\n",
       "            observer.disconnect();\n",
       "        }}\n",
       "}});\n",
       "\n",
       "// Listen for the removal of the full notebook cells\n",
       "var notebookContainer = gd.closest('#notebook-container');\n",
       "if (notebookContainer) {{\n",
       "    x.observe(notebookContainer, {childList: true});\n",
       "}}\n",
       "\n",
       "// Listen for the clearing of the current output cell\n",
       "var outputEl = gd.closest('.output');\n",
       "if (outputEl) {{\n",
       "    x.observe(outputEl, {childList: true});\n",
       "}}\n",
       "\n",
       "                        })                };                });            </script>        </div>"
      ]
     },
     "metadata": {},
     "output_type": "display_data"
    }
   ],
   "source": [
    "# plot similarities to cover letter\n",
    "plot_similarity_scores(df_cl)"
   ]
  },
  {
   "cell_type": "code",
   "execution_count": 509,
   "id": "59fb25cb",
   "metadata": {},
   "outputs": [
    {
     "name": "stdout",
     "output_type": "stream",
     "text": [
      "Text Summary:Top 3 sentences using a lsa summarizer\n",
      "====================================================================================================\n",
      "Company Description At Maple Leaf Sports & Entertainment Partnership (MLSE), we are committed to creating an inclusive workplace that is representative of our community and where all employees feel they belong and can reach their full potential.\n",
      "Use Microsoft Power BI, Tableau and other Business Intelligence tools to craft and build executive, sales, marketing, and operational dashboards that provide key insights and performance metrics.\n",
      "Conduct in-depth analyses using traditional and sophisticated methods across various data sources and topic areas, including ticketing, digital and social media, retail, and food & beverage.\n",
      "==================================================================================================== \n",
      "\n",
      "Text Summary:Top 3 sentences using a lsa summarizer\n",
      "====================================================================================================\n",
      "I feel that this career opportunity offered with your organization is a strong match for my experience in data science, programming, and quantitative investment analysis.\n",
      "As a Chartered Financial Analyst with a Master’s degree in Data Science I have over 20+ years of experience working on data-driven projects.\n",
      "In my current role at Firmex, I am the principal data scientist building machine-learning models to predict customer behavior, Mergers and Acquisition activity, and revenue and expense forecasts.\n",
      "==================================================================================================== \n",
      "\n"
     ]
    },
    {
     "data": {
      "text/plain": [
       "0.03804131693271844"
      ]
     },
     "execution_count": 509,
     "metadata": {},
     "output_type": "execute_result"
    }
   ],
   "source": [
    "# compare job summary and cover letter summary\n",
    "summary_job = get_text_summary(job_details[14]['desc'],'text','lsa',3)\n",
    "summary_cl = get_text_summary(cl,'text','lsa',3)\n",
    "\n",
    "calc_similarity(summary_cl,summary_job)\n"
   ]
  }
 ],
 "metadata": {
  "kernelspec": {
   "display_name": "Python 3 (ipykernel)",
   "language": "python",
   "name": "python3"
  },
  "language_info": {
   "codemirror_mode": {
    "name": "ipython",
    "version": 3
   },
   "file_extension": ".py",
   "mimetype": "text/x-python",
   "name": "python",
   "nbconvert_exporter": "python",
   "pygments_lexer": "ipython3",
   "version": "3.9.16"
  }
 },
 "nbformat": 4,
 "nbformat_minor": 5
}
