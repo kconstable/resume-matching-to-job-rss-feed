{
 "cells": [
  {
   "cell_type": "markdown",
   "id": "96717917-605e-4d34-a524-0bf1d8169c42",
   "metadata": {},
   "source": [
    "# Web Scrapping"
   ]
  },
  {
   "cell_type": "code",
   "execution_count": 1,
   "id": "40d817a5-989c-4f62-b6c3-84c4a8c01224",
   "metadata": {},
   "outputs": [],
   "source": [
    "from bs4 import BeautifulSoup\n",
    "import requests\n",
    "import os\n",
    "import PyPDF2 "
   ]
  },
  {
   "cell_type": "code",
   "execution_count": 699,
   "id": "714183ef",
   "metadata": {},
   "outputs": [
    {
     "data": {
      "text/plain": [
       "{'https://www.workopolis.com/jobsearch/find-jobs?ak=data%20science%20-intern%20-co-op&l=Toronto%2C%20ON&sr=15&t=-1&jt=fulltime&job=yIS2ImDBq4vHKMdNQREsuoJsHwkenk-JmN4tv3z4ltkgfzHOH7-k1tjdI-bnlXM2&pc=ABkAA4EASwAAAAAAAAAAAAAAAgAw5RAAMQEBARAAxtVUDuMsFBSEJ6wCIxU6O23sq4753JcWHFT%2FSJ3KlXoC0SGlbMw3DhVkKVgAAA%3D%3D&pn=4',\n",
       " 'https://www.workopolis.com/jobsearch/find-jobs?ak=data%20science%20-intern%20-co-op&l=Toronto%2C%20ON&sr=15&t=-1&jt=fulltime&job=yIS2ImDBq4vHKMdNQREsuoJsHwkenk-JmN4tv3z4ltkgfzHOH7-k1tjdI-bnlXM2&pc=ABkAAYEAGQAAAAAAAAAAAAAAAgAw5RAAJgEBAQcwsREyVvzzoy82MJ0jj1Y7yXDE6y%2BRF6VHol3YJUKYaQg5AAA%3D&pn=2',\n",
       " 'https://www.workopolis.com/jobsearch/find-jobs?ak=data%20science%20-intern%20-co-op&l=Toronto%2C%20ON&sr=15&t=-1&jt=fulltime&job=yIS2ImDBq4vHKMdNQREsuoJsHwkenk-JmN4tv3z4ltkgfzHOH7-k1tjdI-bnlXM2&pc=ABkAAoEAMgAAAAAAAAAAAAAAAgAw5RAAOAECAQ0wBgIv%2BadxA6UjIIyvJSxym%2BJlT2FOMW0OgR23GjIwRriMg7avPqc%2Fs3u8Hmumcp1Bz72TAAA%3D&pn=3',\n",
       " 'https://www.workopolis.com/jobsearch/find-jobs?ak=data%20science%20-intern%20-co-op&l=Toronto%2C%20ON&sr=15&t=-1&jt=fulltime&job=yIS2ImDBq4vHKMdNQREsuoJsHwkenk-JmN4tv3z4ltkgfzHOH7-k1tjdI-bnlXM2&pc=ABkABIEAZAAAAAAAAAAAAAAAAgAw5RAANAEBARANFqJdfAhiXKP1GlP5YLoH6BL%2FmOKqrhaLG5OE8mva34nu2Z4uMSS41B799V%2BturAAAA%3D%3D&pn=5'}"
      ]
     },
     "execution_count": 699,
     "metadata": {},
     "output_type": "execute_result"
    }
   ],
   "source": [
    "def get_job_pages(url_search,url_base):\n",
    "    \"\"\" \n",
    "    Return a list of links to jobs returned from the url_search link\n",
    "    \"\"\"\n",
    "    # use requests to get the search url contents, convert to a soup object\n",
    "    r = requests.get(url_search)\n",
    "    soup = BeautifulSoup(r.content)\n",
    "    \n",
    "    # extract the links from the job titles\n",
    "    pages = soup.find_all(\"a\",{\"class\":\"Pagination-link\"})    \n",
    "    \n",
    "    #     url_search+\"&pn=2\"\n",
    "    \n",
    "    page_links = []\n",
    "    for page in pages:\n",
    "        p = page.get('href')\n",
    "        page_links.append(f\"{url_base}{p}\")\n",
    "        \n",
    "    \n",
    "    return set(page_links)\n",
    "get_job_pages(url_search, url_base)"
   ]
  },
  {
   "cell_type": "code",
   "execution_count": 697,
   "id": "da54b456-ac78-4228-8cdf-f9d52f9e4cd3",
   "metadata": {},
   "outputs": [],
   "source": [
    "def get_job_links(url_search,url_base):\n",
    "    \"\"\" \n",
    "    Return a list of links to jobs returned from the url_search link\n",
    "    \"\"\"\n",
    "    # use requests to get the search url contents, convert to a soup object\n",
    "    r = requests.get(url_search)\n",
    "    soup = BeautifulSoup(r.content)\n",
    "    \n",
    "    # extract the links from the job titles\n",
    "    jobs = soup.find_all(\"a\",{\"class\":\"SerpJob-titleLink\"})    \n",
    "    \n",
    "    # return a list of job-links\n",
    "    job_links = []\n",
    "    for job in jobs:\n",
    "        link = f\"{url_base}{job.get('href')}\"\n",
    "        job_links.append(link)\n",
    "    return job_links"
   ]
  },
  {
   "cell_type": "code",
   "execution_count": 696,
   "id": "3f102fad",
   "metadata": {},
   "outputs": [
    {
     "data": {
      "text/plain": [
       "['https://www.workopolis.com/jobsearch/viewjob/nA6YQb9WK7tJZTWVwO8XMYS3kjg1Rk2CHqcdJzOpt4zg7jNPbjMI8XwnSkh3OUOz',\n",
       " 'https://www.workopolis.com/jobsearch/viewjob/YR7b5pmjzWLK4xk538329tdm1HqirGUSRAm3pRsXsNxKvLWqesftXBJLrk-vxe9s',\n",
       " 'https://www.workopolis.com/jobsearch/viewjob/1YFHfv85JRc7u9IeYfpOqFe4rFVBDybSmZUqPpTagCWZMIcbATz6uQhy2MMATEf_',\n",
       " 'https://www.workopolis.com/jobsearch/viewjob/i-d6E8G0buWRjSJcxj_cGDnw-MaAtR0RXIuNbkhZFlJUb8vC4orhJq1Ky2pNwZpX',\n",
       " 'https://www.workopolis.com/jobsearch/viewjob/nxGrTWBAT_GJARC4_GL41wEKDBnckjMvO2t88OHibrSba05L78eU3dXGqRfz3Vqt',\n",
       " 'https://www.workopolis.com/jobsearch/viewjob/ienXxamslyGsLUpKAkICiYQmi8uyWXXx2bVburOQbabQy-Rg-sCzDIsTYrK5eUjt',\n",
       " 'https://www.workopolis.com/jobsearch/viewjob/Lwmk1pgFExJXYNf1yzbnn2RUr-EpyTWerAwX9fG1eiJZ5of02-y7zMur-A18IZAR',\n",
       " 'https://www.workopolis.com/jobsearch/viewjob/IjRAqTOf-z0tv45uVDBHiGYKx5-gBH9X6IdXipzy2G36wwjopo3aCS4c1DsSpwjM',\n",
       " 'https://www.workopolis.com/jobsearch/viewjob/7i50TvroZHbEEVlEf35KCgM7JcqnjT8u1-YdzHK2nQWn1lhm39HMwMsxpcHWxgUg',\n",
       " 'https://www.workopolis.com/jobsearch/viewjob/yIS2ImDBq4vHKMdNQREsuoJsHwkenk-JmN4tv3z4ltkgfzHOH7-k1tjdI-bnlXM2',\n",
       " 'https://www.workopolis.com/jobsearch/viewjob/_qo6l3-rbxxcctiBeYWpikrgIesR2d9uok5P36ySBiUuRQRzhUCbuZ7V3ByBIwZo',\n",
       " 'https://www.workopolis.com/jobsearch/viewjob/uvYNZsd8zBEEgLWzay91NTuohVm9JVU9oHZIsKUh65LHiqJ7IJrAxXn1EN5DuPd5',\n",
       " 'https://www.workopolis.com/jobsearch/viewjob/faqGJo9LFew_0mvGkW4hegr_cTkmefmsEqCjuAmMBukqhQBDVw7Tdl8UzVzGnA4B',\n",
       " 'https://www.workopolis.com/jobsearch/viewjob/X_k7KCsIxa5vMl_aDyTD00CT5Nx4vLyZgij-YxWWLyQWUeCVsJuef0defNA3mAPJ',\n",
       " 'https://www.workopolis.com/jobsearch/viewjob/_XzJrlPUQrpKjGPOe0wD8uhLtwiHkjdR2I-bxr_cjUg0mGedkZcGa6UhK57m2ya1',\n",
       " 'https://www.workopolis.com/jobsearch/viewjob/6ZaJ3zJVs04rDeKhM0lPNdlQyuTpdfp7R_Ez19DnzV5KL9J1cOeMljIlcPMdYGEH',\n",
       " 'https://www.workopolis.com/jobsearch/viewjob/hWy0ea16-UMEAUzyNlvXuBmpMoyLsq-eKQFOamD-I625DcsvfyJLaPoYr3hHTpYO',\n",
       " 'https://www.workopolis.com/jobsearch/viewjob/JLbZ2G46EZ7vAxdAOvMDP06j2TSafzM3YFSVqx6DInEDHMpBnK7TElS2DaUn1qOM',\n",
       " 'https://www.workopolis.com/jobsearch/viewjob/YNNWqMLJJZ5l3Cl_asJ_nY1XdyccKMOzDu_JOz9ghxXMjzFlR28E0ghnezqal63s',\n",
       " 'https://www.workopolis.com/jobsearch/viewjob/aE86nCmrdxMnecny5fHNXVFJAiXeDe0aRwnIz03QC95dagUjKlAuAMWRxskgmX55',\n",
       " 'https://www.workopolis.com/jobsearch/viewjob/_Cdtl4HLMRjAmkUoxOodKJmCiT9YCYcX4ergDvWCvYCDyf5cxAVluVqxw15Jf0W1',\n",
       " 'https://www.workopolis.com/jobsearch/viewjob/8YPn0SZUgRC5hvTZC9j0TQatSbdie_W-qBAGN0DbIMdFB3pbxwbJmNbI4QjLg07B',\n",
       " 'https://www.workopolis.com/jobsearch/viewjob/GSEn2qpqeM7KcmgtRVm89bVOv2RgHzF_vQdixY8viOlnccT5G2wCJPCcm2FVTyFn',\n",
       " 'https://www.workopolis.com/jobsearch/viewjob/v7PNV6PelSZ99IcDYtmKKtyeTQmnJeUy18UG2JWuS-PN2rvMTNVy6P0n5CHqeDIZ',\n",
       " 'https://www.workopolis.com/jobsearch/viewjob/RCdbDkujOt_NNjMgOIYZvYh40qgPdZ9NTvNw3LcOngFbcvJd-0-nRIdGlIlJnqFY']"
      ]
     },
     "execution_count": 696,
     "metadata": {},
     "output_type": "execute_result"
    }
   ],
   "source": [
    "job_links"
   ]
  },
  {
   "cell_type": "code",
   "execution_count": 673,
   "id": "0843800f-b340-4875-9664-6a854d275639",
   "metadata": {},
   "outputs": [],
   "source": [
    "def get_job_details(urls):\n",
    "    \"\"\"\n",
    "    \"\"\"\n",
    "    print(\"Scrapping RSS Job Search Feed\")\n",
    "    print(\"=\"*100)\n",
    "    job_detail = []\n",
    "    for url in urls:\n",
    "        try:\n",
    "            # get url content, convert to soup\n",
    "            r = requests.get(url)\n",
    "            soup = BeautifulSoup(r.content)\n",
    "\n",
    "            # extract content\n",
    "            title = soup.find(\"div\",{'class':'ViewJobHeaderTitle'}).text\n",
    "            company = soup.find(\"div\",{'class':'ViewJobHeaderCompany'}).text\n",
    "            location = soup.find(\"span\",{'class':'ViewJobHeaderPropertiesLocation'}).text\n",
    "            desc = soup.find(\"div\",{'class':'viewjob-description'}).text\n",
    "\n",
    "\n",
    "            # extract key words (skills, education, benefits)\n",
    "            keys = soup.find_all('li',{'class':'nav-item'})\n",
    "            key_words = [w.text for w in keys]\n",
    "\n",
    "            # build result-set\n",
    "            job_detail.append(\n",
    "                {'title':title,'company':company,'location':location,'desc':desc,'keywords':key_words}\n",
    "            )\n",
    "            # print progress\n",
    "            print(f\"{title[:18]:{18}}| {company[:15]:{15}}| {location[:7]:{7}} | {key_words[:3]}...\")\n",
    "        except Exception as e:\n",
    "            print(f\"   =>Skipping Job...{e}\")\n",
    "            continue\n",
    "    print(\"=\"*100)\n",
    "    return job_detail"
   ]
  },
  {
   "cell_type": "code",
   "execution_count": 694,
   "id": "eaa91d2e",
   "metadata": {},
   "outputs": [
    {
     "data": {
      "text/plain": [
       "'https://www.workopolis.com/jobsearch/find-jobs?ak=data%20science%20-intern%20-co-op&l=Toronto,%20ON&sr=15&t=-1&jt=fulltime&job=yIS2ImDBq4vHKMdNQREsuoJsHwkenk-JmN4tv3z4ltkgfzHOH7-k1tjdI-bnlXM2&pn=20'"
      ]
     },
     "execution_count": 694,
     "metadata": {},
     "output_type": "execute_result"
    }
   ],
   "source": [
    "url_search+\"&pn=20\""
   ]
  },
  {
   "cell_type": "code",
   "execution_count": 679,
   "id": "1ffd4492-eca7-40eb-b1d7-992ff8b14604",
   "metadata": {},
   "outputs": [
    {
     "name": "stdout",
     "output_type": "stream",
     "text": [
      "Scrapping RSS Job Search Feed\n",
      "====================================================================================================\n",
      "Data Scientist    | Wish           | Toronto | [\"Master's degree\", \"Bachelor's\", 'MongoDB']...\n",
      "Data Analyst      | WGames Inc.    | Toronto | [\"Bachelor's\", 'R', 'Google Cloud Platform']...\n",
      "Data Analyst - Ope| Flair Airlines | Toronto | [\"Bachelor's\", 'Power BI', 'Microsoft Excel']...\n",
      "Data Analyst      | Brik Partners  | Toronto | [\"Bachelor's\", 'Computer science', 'MATLAB']...\n",
      "Data Analyst      | Environics Anal| Toronto | ['Post-secondary education', 'Microsoft Powerpoint', 'Microsoft Word']...\n",
      "Data Analyst      | Connexall      | North Y | [\"Bachelor's\", 'Microsoft Powerpoint', 'Power BI']...\n",
      "Data Scientist    | Deep Genomics  | Toronto | [\"Master's degree\", \"Bachelor's\", 'R']...\n",
      "Data scientist    | Autocase       | Toronto | [\"Master's degree\", \"Bachelor's\", 'Power BI']...\n",
      "Data Scientist    | Clearco        | Toronto | [\"Bachelor's\", 'DevOps', 'SQL']...\n",
      "Data Scientist - A| Royal Bank of C| Toronto | ['Microsoft Excel', 'Azure', 'Big data']...\n",
      "NLP Data Scientist| Wisedocs       | Toronto | ['Doctoral degree', \"Master's degree\", 'TensorFlow']...\n",
      "Research Associate| Humber River Ho| Greater | ['Doctoral degree', 'R', 'Git']...\n",
      "Data Scientist, Cr| Recruiting From| Toronto | ['NumPy', 'R', 'Git']...\n",
      "Data Scientist - D| Ample Insight I| Toronto | ['Doctoral degree', \"Bachelor's\", 'TensorFlow']...\n",
      "Sr. Data Analyst  | Ontario College| Toronto | ['MATLAB', 'Power BI', 'Microsoft Excel']...\n",
      "Data Scientist    | Dev House Labs | Toronto | ['Node.js', 'Big data', 'Enterprise software']...\n",
      "Data Scientist    | 6ix            | Toronto | [\"Bachelor's\", 'Power BI', 'Data modeling']...\n",
      "Data Scientist - M| ShyftLabs      | Toronto | [\"Master's degree\", 'Power BI', 'Facebook Advertising']...\n",
      "Scene+ Data Scient| Cineplex       | Toronto | ['Post-secondary education', 'TensorFlow', 'Cloud infrastructure']...\n",
      "Data Analyst      | Baycrest       | Toronto | ['Database development', 'R', 'Git']...\n",
      "Data Science and A| Healthcare Cons| Toronto | [\"Master's degree\", \"Bachelor's\", 'Microsoft Powerpoint']...\n",
      "Data Scientist    | Focal Systems  | Toronto | ['Doctoral degree', \"Master's degree\", \"Bachelor's\"]...\n",
      "Senior Data Analys| Thentia        | Toronto | [\"Bachelor's\", 'Jira', 'Power BI']...\n",
      "VP of RevOps and D| When I Work    | Toronto | ['Business intelligence', 'DevOps', 'SQL']...\n",
      "Expert Data Analys| Electronic Arts| Toronto | ['Microsoft Excel', 'Data mining', 'R']...\n",
      "====================================================================================================\n"
     ]
    }
   ],
   "source": [
    "\n",
    "url_search = 'https://www.workopolis.com/jobsearch/find-jobs?l=Toronto%2C%20ON&ak=data%20science%20-intern&t=7&sr=10&s=r&job=zD_1ItN-5JXVPUCwXgZvg_joKB7qyQNp5ttncJBtECQ1FoqVIwMR8znJuj3fF7lK'\n",
    "url_search = 'https://www.workopolis.com/jobsearch/find-jobs?ak=data%20science%20-intern%20-co-op&l=Toronto,%20ON&sr=15&t=-1&jt=fulltime&job=yIS2ImDBq4vHKMdNQREsuoJsHwkenk-JmN4tv3z4ltkgfzHOH7-k1tjdI-bnlXM2'\n",
    "url_base  ='https://www.workopolis.com'\n",
    "\n",
    "job_links = get_job_links(url_search, url_base)\n",
    "job_details = get_job_details(job_links)\n"
   ]
  },
  {
   "cell_type": "markdown",
   "id": "0b3ec096-153f-441b-b6a9-ac12801340f9",
   "metadata": {},
   "source": [
    "# NLP"
   ]
  },
  {
   "cell_type": "code",
   "execution_count": 139,
   "id": "a2aa22d7-33db-4b80-8766-781a7e862dac",
   "metadata": {},
   "outputs": [
    {
     "name": "stderr",
     "output_type": "stream",
     "text": [
      "[nltk_data] Downloading package punkt to /home/ken/nltk_data...\n",
      "[nltk_data]   Package punkt is already up-to-date!\n"
     ]
    }
   ],
   "source": [
    "# Sumy\n",
    "import sumy\n",
    "from sumy.parsers.plaintext import PlaintextParser\n",
    "from sumy.nlp.tokenizers import Tokenizer\n",
    "from sumy.summarizers.lex_rank import LexRankSummarizer\n",
    "from sumy.summarizers.text_rank import TextRankSummarizer\n",
    "from sumy.summarizers.lsa import LsaSummarizer\n",
    "from sumy.nlp.stemmers import Stemmer\n",
    "from sumy.utils import get_stop_words\n",
    "import nltk # required for sumy\n",
    "nltk.download('punkt') # required for sumy\n",
    "\n",
    "# spacy\n",
    "import spacy\n",
    "from spacy import displacy\n",
    "NLP = spacy.load('en_core_web_lg')\n",
    "from spacy.matcher import PhraseMatcher\n",
    "# from spacy.matcher import Matcher\n",
    "\n",
    "from sklearn.feature_extraction.text import TfidfVectorizer\n",
    "from sklearn.metrics.pairwise import cosine_similarity\n",
    "\n",
    "\n",
    "from tabulate import tabulate\n",
    "from collections import Counter\n",
    "import docx2txt\n",
    "import pandas as pd\n",
    "import plotly.graph_objects as go\n",
    "from plotly.subplots import make_subplots"
   ]
  },
  {
   "cell_type": "markdown",
   "id": "aa6762db-82e3-49a4-a464-7ca26ce353bd",
   "metadata": {},
   "source": [
    "# Resume Scrapping"
   ]
  },
  {
   "cell_type": "code",
   "execution_count": 634,
   "id": "cc289dc5-345f-414f-b863-b6fc149c3ad7",
   "metadata": {},
   "outputs": [],
   "source": [
    "def get_resume_text(path,print_text=True):\n",
    "    \"\"\" \n",
    "    Read resume text content from file (pdf or docx)\n",
    "    Params:\n",
    "        path: string- path to the resume file\n",
    "        print_text: boolean.  Prints the text\n",
    "    Returns: A text object with the resume file content\n",
    "    \"\"\"\n",
    "    \n",
    "    # open file and get file extension\n",
    "    file = open(path,'rb')\n",
    "    file_name, file_ext = os.path.splitext(path)\n",
    "    \n",
    "    # extract text content\n",
    "    if file_ext=='.pdf':\n",
    "        # read pdf\n",
    "        pdf = PyPDF2.PdfFileReader(file)\n",
    "        \n",
    "        text = \"\"\"\"\"\"\n",
    "        for page_num in range(pdf.numPages):\n",
    "            page = pdf.getPage(page_num)\n",
    "            content = page.extract_text()\n",
    "            text += content\n",
    "    elif file_ext=='.docx':\n",
    "        text = docx2txt.process(file)\n",
    "    elif file_ext=='.txt':\n",
    "        text = str(file.read())\n",
    "        \n",
    "    if print_text:\n",
    "        print(text)\n",
    "\n",
    "    file.close()\n",
    "    return text"
   ]
  },
  {
   "cell_type": "code",
   "execution_count": 8,
   "id": "9f1a91bc-c82a-4b6a-a4d4-6eae04a1ae52",
   "metadata": {},
   "outputs": [],
   "source": [
    "def show_pos(text):    \n",
    "    \"\"\"Extracts POS from a spacy document and prints the results\"\"\"\n",
    "    d=[]\n",
    "    for token in doc:\n",
    "        d.append({\n",
    "            \"Token\":token.text,\n",
    "            \"POS\":token.pos_,\n",
    "            \"POS-Desc\":spacy.explain(token.pos_),\n",
    "            \"Lemma\":token.lemma_,\n",
    "            \"Stop-Word\":token.is_stop,\n",
    "            \"POS-Detail\":token.tag_,\n",
    "            \"POS-Detail-Desc\":spacy.explain(token.tag_)\n",
    "            }\n",
    "        )\n",
    "    print(tabulate(d,headers=\"keys\",tablefmt=\"github\"))"
   ]
  },
  {
   "cell_type": "code",
   "execution_count": 9,
   "id": "67d02fd5-2d35-4237-aa72-56f2791401e4",
   "metadata": {},
   "outputs": [],
   "source": [
    "def show_entities(doc,display=True):\n",
    "    \"\"\"Print a list of named entities and their descriptions\"\"\"\n",
    "    d=[]\n",
    "    if doc.ents:\n",
    "        for entity in doc.ents:\n",
    "            d.append({\n",
    "                \"Word\":entity,\n",
    "                \"Entity\":entity.label_,\n",
    "                \"Start\":entity.start,\n",
    "                \"Stop\":entity.end,\n",
    "                \"Entity-Desc\":spacy.explain(entity.label_),\n",
    "                }\n",
    "            )\n",
    "        if display:\n",
    "            print(tabulate(d,headers=\"keys\",tablefmt=\"github\"))\n",
    "            print(\"\\n\")\n",
    "            displacy.render(doc,style='ent',jupyter=True)\n",
    "            print(\"\\n\")\n",
    "    else:\n",
    "        print(\"no entities found\")\n",
    "    return d   "
   ]
  },
  {
   "cell_type": "code",
   "execution_count": 10,
   "id": "d6da233e-ee54-49d6-8d69-9d1925a098d4",
   "metadata": {},
   "outputs": [],
   "source": [
    "def attr_counts(doc,att):\n",
    "    \"\"\"Return a table of counts by attributes\"\"\"\n",
    "    if att.lower() == 'pos':\n",
    "        cnts = doc.count_by(spacy.attrs.POS)\n",
    "    elif att.lower() =='tag':\n",
    "        cnts = doc.count_by(spacy.attrs.TAG)\n",
    "    elif att.lower() =='lemma':\n",
    "        cnts = doc.count_by(spacy.attrs.LEMMA)\n",
    "    elif att.lower() =='entity':\n",
    "        cnts = doc.count_by(spacy.attrs.ENT_TYPE)\n",
    "    elif att.lower() =='email':\n",
    "        cnts = doc.count_by(spacy.attrs.LIKE_EMAIL)\n",
    "    elif att.lower() =='url':\n",
    "        cnts = doc.count_by(spacy.attrs.LIKE_URL)\n",
    "    elif att.lower() =='currency':\n",
    "        cnts = doc.count_by(spacy.attrs.IS_CURRENCY)\n",
    "    elif att.lower() =='numbers':\n",
    "        cnts = doc.count_by(spacy.attrs.IS_DIGIT)\n",
    "        \n",
    "    # lookup attribute name\n",
    "    d = {doc.vocab[k].text:v for k,v in cnts.items()}\n",
    "    return d"
   ]
  },
  {
   "cell_type": "markdown",
   "id": "f7623178",
   "metadata": {},
   "source": [
    "### Generate Text Summary"
   ]
  },
  {
   "cell_type": "code",
   "execution_count": 502,
   "id": "c570dc14-5d62-45c0-a329-952a0bd4d2e5",
   "metadata": {},
   "outputs": [],
   "source": [
    "def get_text_summary(text,text_source,summarizer,num_sentences,print_summary=True):\n",
    "    \"\"\"\n",
    "    Generate a text summary from a document (extractive)\n",
    "    Params:\n",
    "        text: plain text or path to a document\n",
    "        text_source: text or file\n",
    "        summarizer: text-summarization method. lex-rank, text-rank,lsa\n",
    "        num_sentences: Number of summary sentences to generate\n",
    "        print_summary: T/F\n",
    "    Returns:\n",
    "        A list of sentences.\n",
    "    \"\"\"\n",
    "    # Create parser from text-source\n",
    "    if text_source=='text':\n",
    "        parser = PlaintextParser.from_string(text,Tokenizer('english'))\n",
    "    elif text_source=='file':\n",
    "        parser = PlaintextParser.from_file(text,Tokenizer('english'))\n",
    "    else:\n",
    "        raise Exception(f\"text source must be 'text' or 'file'!\")\n",
    "        \n",
    "    # Select summarizer method\n",
    "    if summarizer=='lex-rank':\n",
    "        # Lex Rank:  A graph-based summarization method that uses keyword extractions\n",
    "        s = LexRankSummarizer()\n",
    "    elif summarizer=='text-rank':\n",
    "        # Text rank: A graph-based summarization method that uses keyword extractions\n",
    "        s = TextRankSummarizer()\n",
    "    elif summarizer=='lsa':\n",
    "        # Latent semantic analysis \n",
    "        # Combines term frequency with singular value decomposition\n",
    "        s = LsaSummarizer(Stemmer(\"english\"))\n",
    "        s.stop_words = get_stop_words(\"english\")\n",
    "    else:\n",
    "        raise Exception(f\"Summarizer must be 'lex-rank','luhn','text-rank' or 'lsa'!\")\n",
    "    \n",
    "    # create summary\n",
    "    summary = s(parser.document,num_sentences)\n",
    "    \n",
    "    # print summary\n",
    "    text = \"\"\n",
    "    if print_summary:\n",
    "        print(f'Text Summary:Top {num_sentences} sentences using a {summarizer} summarizer')\n",
    "        print('='*100)\n",
    "        for sentence in summary:\n",
    "            text += \" \"+ str(sentence)\n",
    "            print(sentence)\n",
    "        print('='*100,'\\n')\n",
    "    return text"
   ]
  },
  {
   "cell_type": "markdown",
   "id": "608606da",
   "metadata": {},
   "source": [
    "### Keyword Analysis"
   ]
  },
  {
   "cell_type": "code",
   "execution_count": 12,
   "id": "4a4efca1-c69d-43af-a879-5b5623e34af8",
   "metadata": {},
   "outputs": [],
   "source": [
    "def get_terms(path):\n",
    "    \"\"\"\n",
    "    Read a csv of data science terms & return themn as a list\n",
    "    Params: path -string\n",
    "    Returns: A list of terms\n",
    "    \"\"\"\n",
    "    with open(path,'r') as f:\n",
    "        lst = [line.lower().strip() for line in f.readlines()]\n",
    "    return set(lst)"
   ]
  },
  {
   "cell_type": "code",
   "execution_count": null,
   "id": "79b468f4",
   "metadata": {},
   "outputs": [],
   "source": [
    "def extract_keywords(text,num, print_words=True):\n",
    "    \"\"\"\n",
    "    Extracts keywords from a text object.  Ignores common job positng phrases\n",
    "    Params:\n",
    "        text: string text object\n",
    "        num: integer.  The number of keywords to extract\n",
    "        print_words: boolean. Prints the output\n",
    "    Returns: A list of the top keywords in the text object\n",
    "    \"\"\"\n",
    "    words = []\n",
    "    pos = ['NOUN','PROPN']\n",
    "    common_job_keys = ['experience','job','ability','posting','process','date','stakeholders','skills','solutions','project']\n",
    "    tokens = NLP(text.lower())\n",
    "    \n",
    "    for token in tokens:\n",
    "        if (token.text not in NLP.Defaults.stop_words and token.text.lower() not in common_job_keys and token.pos_ in pos):\n",
    "            words.append(token.text)\n",
    "            \n",
    "    # get the top keywords by frequency\n",
    "    keyword_frequency = [word for word in Counter(words).most_common(num)]\n",
    "    keywords = [word[0] for word in keyword_frequency]\n",
    "    \n",
    "    if print_words:\n",
    "        print(keyword_frequency)\n",
    "    return keywords            "
   ]
  },
  {
   "cell_type": "code",
   "execution_count": 467,
   "id": "a66e10dd",
   "metadata": {},
   "outputs": [],
   "source": [
    "# extract keywords from the job descriptions\n",
    "keys = []\n",
    "for job in job_details:\n",
    "    keys.extend(extract_keywords(job['desc'],50,False))\n",
    "keys = set(keys)"
   ]
  },
  {
   "cell_type": "code",
   "execution_count": 466,
   "id": "abc816fb",
   "metadata": {},
   "outputs": [],
   "source": [
    "# extract keywords from the job keywords\n",
    "keys = []\n",
    "for job in job_details:\n",
    "    keys.extend(job['keywords'])\n",
    "keys = set(keys)"
   ]
  },
  {
   "cell_type": "code",
   "execution_count": 77,
   "id": "2081254e",
   "metadata": {},
   "outputs": [],
   "source": [
    "def get_phrases_from_keywords(keywords):\n",
    "    lst = []\n",
    "    for keyword in keywords:\n",
    "        if \" \" in keyword:\n",
    "            lst.append(keyword.lower().replace(\" \",\"-\"))\n",
    "        lst.append(keyword.lower())\n",
    "    return set(lst)"
   ]
  },
  {
   "cell_type": "code",
   "execution_count": 206,
   "id": "8c52cb0f",
   "metadata": {},
   "outputs": [],
   "source": [
    "def get_phrase_matches(keywords,text):\n",
    "    \"\"\"\n",
    "    spacy 3.5 has a built in fuzzy matching option\n",
    "    \"\"\"\n",
    "    # when spacy 3.5 is available on anaconda\n",
    "#     matcher = Matcher(NLP.vocab)\n",
    "#     patterns = [{\"TEXT\": {\"FUZZY\": \"modelling\"}},{\"TEXT\": {\"FUZZY\": \"machine learning\"}}]\n",
    "\n",
    "    # get the term list\n",
    "    terms = get_phrases_from_keywords(keywords)\n",
    "    \n",
    "    # convert text to tokens\n",
    "    doc = NLP(text.lower())\n",
    "\n",
    "    # phrase matching\n",
    "    patterns = [NLP(text) for text in terms]\n",
    "\n",
    "    # add to matcher\n",
    "    matcher = PhraseMatcher(NLP.vocab)\n",
    "    matcher.add('KEYWORDS',patterns)\n",
    "\n",
    "    # search for phrase matches\n",
    "    found_matches = matcher(doc)\n",
    "\n",
    "    matched_phrases = []\n",
    "    for match_id, start, end in found_matches:\n",
    "        matched_phrases.append(doc[start:end].text)\n",
    "\n",
    "    return dict(Counter(matched_phrases)) "
   ]
  },
  {
   "cell_type": "code",
   "execution_count": 388,
   "id": "f0f7faad",
   "metadata": {},
   "outputs": [],
   "source": [
    "def compare_keywords(resume,job,keyword_path):\n",
    "    \"\"\"\n",
    "    \"\"\"\n",
    "    # path to csv of terms\n",
    "    keys = get_phrases_from_keywords(get_terms(keyword_path))\n",
    "    \n",
    "    # match phrases\n",
    "    matches_resume = get_phrase_matches(keys,resume)\n",
    "    matches_job = get_phrase_matches(keys,job)\n",
    "\n",
    "    # convert to dataframes\n",
    "    df_resume = pd.DataFrame.from_dict(matches_resume,orient='index',columns=['resume'])\n",
    "    df_job = pd.DataFrame.from_dict(matches_job,orient='index',columns=['job'])\n",
    "    \n",
    "    # combine results & sort by job keywords\n",
    "    df = df_job.join(df_resume)\n",
    "    df.sort_values(by=['job'], ascending=False,inplace=True)\n",
    "    \n",
    "    # calculate the weighted difference in keyword frequencies\n",
    "    df['wt'] = df['job']/df['job'].sum()\n",
    "    df['wt-score'] = df['wt']*(df['resume']-df['job'])\n",
    "    score = df['wt-score'].sum()\n",
    "    \n",
    "    # calculate keyword coverage ratio\n",
    "    matches = df.query('~resume.isnull()').shape[0]\n",
    "    total = df.shape[0]\n",
    "    coverage = matches/total\n",
    "    \n",
    "    # get missing\n",
    "    missing = set(df.query('resume.isnull()').index)\n",
    "    \n",
    "    \n",
    "    return df, score, coverage, missing"
   ]
  },
  {
   "cell_type": "code",
   "execution_count": 245,
   "id": "81df8e30",
   "metadata": {},
   "outputs": [],
   "source": [
    "def compare_job_specific_keywords(resume, job_keywords):\n",
    "    \"\"\"\n",
    "    \"\"\"\n",
    "    # match phrases\n",
    "    matches = get_phrase_matches(job_keywords,resume)\n",
    "    \n",
    "    # add missing job keywords to the dict\n",
    "    for key in job_keywords:\n",
    "        if key.lower() in matches.keys():\n",
    "            continue\n",
    "        else:\n",
    "            matches[key.lower()]=0\n",
    "    \n",
    "    # convert to dateframe\n",
    "    df = pd.DataFrame.from_dict(matches,orient='index',columns=['resume'])\n",
    "    \n",
    "    return df"
   ]
  },
  {
   "cell_type": "code",
   "execution_count": 454,
   "id": "a2ce0da3-f535-4a82-a8c5-2075b5162b94",
   "metadata": {
    "scrolled": true
   },
   "outputs": [],
   "source": [
    "def plot_keyword_comparison(resume, job_details, keyword_path):\n",
    "    \"\"\" \n",
    "    Plot Job keywords vs Resume keywords\n",
    "    Params: df- dataframe output from compare_keywords\n",
    "    Returns: None\n",
    "    \"\"\"\n",
    "    \n",
    "    # compare common keywords, split into matches/no-matches\n",
    "    df, score, coverage, missing = compare_keywords(resume,job_details['desc'],keyword_path)\n",
    "    df_missing  = df.query('resume.isnull()')\n",
    "    df_matching = df.query('~resume.isnull()')\n",
    "    \n",
    "    title = f\"Keyword Coverage={round(coverage*100,2)}% | Weighted Average={round(score,2)}\"\n",
    "    \n",
    "    # compare to job specific keywords\n",
    "    df_spec = compare_job_specific_keywords(resume, job_details['keywords'])\n",
    "    \n",
    "    col_scale = [\n",
    "        [0,'rgba(252,76,1,0.9)'],\n",
    "        [0.25,'rgba(252,76,1,0.5)'],\n",
    "        [0.5,'rgba(83,128,141,0.25)'],\n",
    "        [0.75,'rgba(83,128,141,0.5)'],\n",
    "        [1.0,'rgba(83,128,141,0.9)']\n",
    "    ]\n",
    "    \n",
    "    # create plots\n",
    "    fig = make_subplots(\n",
    "        rows=1,\n",
    "        cols=3,\n",
    "        subplot_titles = ('Matching Keywords','Missing Keywords','Job Specific Keywords'),\n",
    "        column_widths = [0.5,0.25,0.25]\n",
    "    )\n",
    "    # matching keywords\n",
    "    fig.add_trace(\n",
    "        go.Bar(\n",
    "            name='Weighted Frequency',\n",
    "            y = df_matching.index,\n",
    "            x = df_matching['wt-score'],\n",
    "            orientation='h',\n",
    "            marker = dict(color=df_matching['wt-score'],colorscale=col_scale)\n",
    "        ),row=1,col=1\n",
    "    )\n",
    "    # missing keywords\n",
    "    fig.add_trace(\n",
    "        go.Bar(\n",
    "            name='Missing Keywords',\n",
    "            y = df_missing.job,\n",
    "            x = df_missing.index,\n",
    "            marker = dict(color='rgba(252,76,1,0.8)')\n",
    "        ),row=1,col=2\n",
    "    )\n",
    "    # job specific keywords\n",
    "    fig.add_trace(\n",
    "        go.Bar(\n",
    "            name='Job Specific Keywords',\n",
    "            y = df_spec.resume,\n",
    "            x = df_spec.index,\n",
    "            marker = dict(color='rgba(252,76,1,0.8)')\n",
    "        ),row=1,col=3\n",
    "    )\n",
    "    \n",
    "    # adjusments\n",
    "    fig.update_xaxes(tickangle=90,row=1,col=2)\n",
    "    fig.update_xaxes(tickangle=90,row=1,col=3)\n",
    "    fig.update_xaxes(range=[-2,2],row=1,col=1)\n",
    "    fig.update_xaxes(showgrid=False)\n",
    "    fig.update_layout(\n",
    "        template='plotly_white',\n",
    "        title=title,\n",
    "        width = 900,\n",
    "        height=500,\n",
    "        showlegend=False\n",
    "    )\n",
    "    fig.show()"
   ]
  },
  {
   "cell_type": "markdown",
   "id": "41cb9459",
   "metadata": {},
   "source": [
    "## Calculate Similarities"
   ]
  },
  {
   "cell_type": "code",
   "execution_count": 26,
   "id": "f1526ff2-82bc-4cb2-9e5f-ce9e600ab9d9",
   "metadata": {},
   "outputs": [],
   "source": [
    "def preprocess_text(text):\n",
    "    \"\"\"\n",
    "    Preprocess text documents in preparation for analysis\n",
    "    Params:\n",
    "        text: a text object\n",
    "    Returns: \n",
    "        A text object after converting to lowercase lemmas, removing stop-words,punctuation, numbers, and emails\n",
    "    \"\"\"\n",
    "    \n",
    "    # replace carriage returns and convert to lowercase\n",
    "    doc = text.replace(\"\\n\",\"\").replace(\"  \",\"\").lower()\n",
    "    \n",
    "    # tokenize\n",
    "    tokens = NLP(doc)\n",
    "\n",
    "    text_list = []\n",
    "    for token in tokens:\n",
    "        if token.text in NLP.Defaults.stop_words:\n",
    "            continue\n",
    "        if token.is_punct:\n",
    "            continue\n",
    "        if token.is_digit:\n",
    "            continue\n",
    "        if token.like_email:\n",
    "            continue\n",
    "        if token.lemma_=='-PRON-':\n",
    "            continue\n",
    "            \n",
    "        # lemmetize\n",
    "        text_list.append(token.lemma_)\n",
    "    return \" \".join(text_list)"
   ]
  },
  {
   "cell_type": "code",
   "execution_count": 27,
   "id": "27695ea1-e61a-4308-b5dc-f3d28ac5d4ea",
   "metadata": {},
   "outputs": [],
   "source": [
    "def calc_similarity(doc1,doc2):\n",
    "    \"\"\" \n",
    "    Calculate the cosine similarity between two documents\n",
    "    Params:\n",
    "        doc1 - text document \n",
    "        doc2 - text document\n",
    "    Returns: The cosine similairty score between the documents\n",
    "    \"\"\"\n",
    "    d1 = preprocess_text(doc1)\n",
    "    d2 = preprocess_text(doc2)\n",
    "    \n",
    "    X = TfidfVectorizer().fit_transform([d1,d2])\n",
    "    score = cosine_similarity(X[0],X[1])\n",
    "    return score[0][0]"
   ]
  },
  {
   "cell_type": "code",
   "execution_count": 390,
   "id": "f8cb1864-92bb-4ff7-bde8-ba4f8ed44867",
   "metadata": {},
   "outputs": [],
   "source": [
    "def calc_similarities(resume, jobs,keyword_path):\n",
    "    \"\"\" \n",
    "    Calculate the cosine similarity between a resume and a list of job descriptions\n",
    "    Params:\n",
    "        resume: a resume (text)\n",
    "        jobs: a dictionary of jobs listings (output from get_job_details)\n",
    "    Returns: A dataframe of job title, company, location and similarity score\n",
    "    \"\"\"\n",
    "    scores = []\n",
    "    titles = []\n",
    "    companies =[]\n",
    "    locs = []\n",
    "    key_cov = []\n",
    "    key_wt = []\n",
    "    key_missing = []\n",
    "    for job in jobs:\n",
    "        titles.append(job['title'])\n",
    "        companies.append(job['company'])\n",
    "        locs.append(job['location'])\n",
    "        scores.append(calc_similarity(resume, job['desc']))\n",
    "        _,wt,cov,missing = compare_keywords(resume,job['desc'],keyword_path)\n",
    "        key_cov.append(cov)\n",
    "        key_wt.append(wt)\n",
    "        key_missing.append(missing)\n",
    "    \n",
    "    data = list(zip(titles,companies,locs, scores, key_cov,key_wt,key_missing ))\n",
    "    df = pd.DataFrame(data,columns = ['title','company','location','similarity-score','keyword-coverage','keyword-wt','keywords-missing'])\n",
    "    \n",
    "    return df.sort_values(by=['similarity-score'], ascending=False)"
   ]
  },
  {
   "cell_type": "code",
   "execution_count": 575,
   "id": "d9c489f9",
   "metadata": {},
   "outputs": [],
   "source": [
    "def plot_similarity_scores(df_similarities):\n",
    "    \"\"\"\n",
    "    \"\"\"\n",
    "    import numpy as np\n",
    "    \n",
    "    # min-max scale the keyword weights\n",
    "    df = df_similarities.copy()\n",
    "    df['keyword-weight'] = (df['keyword-wt']-min(df['keyword-wt']))/(max(df['keyword-wt'])-min(df['keyword-wt']))\n",
    "    \n",
    "    # custom colorscale\n",
    "    col_scale = [\n",
    "        [0,'rgba(252,76,1,1.0)'],\n",
    "        [0.25,'rgba(252,76,1,0.5)'],\n",
    "        [0.5,'rgba(83,128,141,0.25)'],\n",
    "        [0.75,'rgba(83,128,141,0.5)'],\n",
    "        [1.0,'rgba(83,128,141,1.0)']\n",
    "    ]\n",
    "    \n",
    "    # custom hover data\n",
    "    hover_data = np.stack((df['title'],df['company'],df['location'],df['keyword-weight']),axis=-1)\n",
    "        \n",
    "    fig = go.Figure()\n",
    "    \n",
    "    fig.add_trace(\n",
    "        go.Scatter(\n",
    "            x = df['keyword-coverage'],\n",
    "            y = df['similarity-score'],\n",
    "            mode='markers',\n",
    "            customdata = hover_data,\n",
    "            hovertemplate = '<b>Title:</b> %{customdata[0]}<br>' +\n",
    "                            '<b>Company:</b> %{customdata[1]}<br>'+\n",
    "                            '<b>Location:</b> %{customdata[2]}</br>'+\n",
    "                            '<b>Similarity:</b> %{y:,.2f}<br>' +\n",
    "                            '<b>Keyword Coverage:</b> %{x:,.2f}<br>' +\n",
    "                            '<b>Weighted Keyword Frequency:</b> %{customdata[3]:,.2f}<br>' +\n",
    "                            '<extra></extra>',\n",
    "            marker = dict(\n",
    "                size=df['keyword-weight']*50,\n",
    "                color = df['similarity-score'],\n",
    "                colorscale=col_scale\n",
    "            )\n",
    "        )\n",
    "    )\n",
    "    fig.update_xaxes(title='Keyword Coverge (%)',range=[0,1.0])\n",
    "    fig.update_yaxes(title='Similarity Score',range=[0,1.0])\n",
    "    fig.update_layout(\n",
    "        template='plotly_white',\n",
    "        title='Resume Similarity to Job Listings',\n",
    "        width=800,\n",
    "        height=500\n",
    "    )\n",
    "    fig.show()    "
   ]
  },
  {
   "cell_type": "code",
   "execution_count": 636,
   "id": "69a16e42",
   "metadata": {},
   "outputs": [
    {
     "name": "stdout",
     "output_type": "stream",
     "text": [
      "Contact\n",
      "\n",
      " Ken Constable, BSc. MSc. CFA\n",
      "\n",
      " ken.constable@gmail.com\n",
      "\n",
      " 647-349-6500\n",
      "\n",
      "\n",
      "\n",
      "1706-11 Charlotte St\n",
      "\n",
      "Toronto\n",
      "\n",
      "Ontario\n",
      "\n",
      "M5V 0M6\n",
      "\n",
      "\n",
      "\n",
      "Education\n",
      "\n",
      "Master’s Degree in Data Science Msc.\n",
      "\n",
      "Regis University\n",
      "\n",
      "Data Science\n",
      "\n",
      "\n",
      "\n",
      "Bachelor’s Degree in Chemistry Bsc.\n",
      "\n",
      "University of Waterloo\n",
      "\n",
      "Chemistry\n",
      "\n",
      "\n",
      "\n",
      "CFA Charter holder\n",
      "\n",
      "CFA Institute\n",
      "\n",
      "\n",
      "\n",
      "Technical skills\n",
      "\n",
      "Financial Models: Monte Carlo Simulations, back-testing, scenario-testing\n",
      "\n",
      "Data Analysis: Python, Pandas, numpy, Scikit-learn, Tensorflow, Keras, R, Excel,VBA, xlwings, Beautiful Soup\n",
      "\n",
      "Market Data: Bloomberg, Factset, BarraOne, Eagle, Alphavantage\n",
      "\n",
      "Business Intelligence: SQL, SQL SERVER, ORACLE, HIVE, POSTGRES, SSIS, SSRS, ETL, ELT, MySQL, AWS Redshift, AWS S3, Airflow, AWS Glue\n",
      "\n",
      "Machine Learning: NLP, Natural Language Processing, Deep Learning, Reinforcement Learning, Time-series Analysis, Supervised Learning, Unsupervised Learning,Regression, Classification, Decision Trees, Random Forest, XGBoost, Statistics, Optimization\n",
      "\n",
      "Data Visualization: Tableau, Plotly, Dash, R-Shiny, matplotlib\n",
      "\n",
      "\n",
      "\n",
      "\n",
      "\n",
      "Research Projects in Machine Learning\n",
      "\n",
      "Bitcoin price predictions / Stock price predictions (Deep Learning, LSTM, Time-series, Predictive analytics, Natural language Processing (NLP), Python, Tensorflow, Scikit-learn, Plotly, Dash, Visualizations/Web Application)\n",
      "\n",
      "\n",
      "\n",
      "Monte Carlo Simulations to select optimal risk-adjusted portfolios (Python, Plotly,financial model, modern portfolio theory, investment analysis, portfolio analytics)\n",
      "\n",
      "\n",
      "\n",
      "\n",
      "\n",
      "Twitter Sentiment Analysis (Python, R, Pandas, dplr, Plotly, Natural language processing (NLP))\n",
      "\n",
      "Disease Detection (pneumonia, dementia) (Computer Vision, Deep Learning, Transfer Learning, Multi-class classification, Python, Tensorflow, Plotly)\n",
      "\n",
      "\n",
      "\n",
      "Seating Optimizer (Optimization / Linear Programming, Python, Pandas)\n",
      "\n",
      "\n",
      "\n",
      "Mortgage Amortization /Rent Vs Buy (Predictive Analytics, Python, Pandas, Plotly, Dash, Visualization, Interactive Web Dashboards) \n",
      "\n",
      "\n",
      "\n",
      "MACHINE LEARNING, FINANCIAL MODELLING, QUANTITATIVE ANALYSIS, QUANTITATIVE DEVELOPMENT\n",
      "\n",
      "FIRMEX\n",
      "\n",
      "Principal Data Scientist responsible for building & deploying machine learning models.  Responsible for building predictive models (time-series, supervised, unsupervised, deep leaning, boosted decision trees) with applications in sales forecasting, customer behaviour, helpdesk support and prediction of Merger & Acquisition activity (SQL, Airflow, AWS S3, AWS Redshift, AWS Glue, Sagemaker, Machine Learning, Data Mining, Data Visualization, python, Tableau)\n",
      "\n",
      "AGF investments\n",
      "\n",
      "Developed statistical factor-based investment models for AGF Management.  Implemented the Portfolio Managers' strategy for over 40 investment models, resulting in a robust system that automatically rolls the models forward daily, providing investment recommendations (SQL, VBA, R, Python, Automation)\n",
      "\n",
      "northwater capital\n",
      "\n",
      "Worked as a portfolio analyst at the hedge fund manager Northwater Capital for 6-years. Responsibilities included performance measurement, creating data visualizations, financial modelling, back-testing strategies, coding Monte Carlo simulations, and recommending baskets of futures contracts to replicate index performance using supervised learning techniques (SQL, SSIS, SSAS, SSRS, VBA, Machine Learning, Time-Series-Analysis)\n",
      "\n",
      "Satori Consulting\n",
      "\n",
      "Built data models using census data to analyze locations for new credit union branches.  Identified customers likely to purchase new products using statistical data mining techniques. Built data pipelines and ETL processes (SQL, SSIS, Machine Learning, Data Mining, Unsupervised Learning, Clustering)\n",
      "\n",
      "manulife financial\n",
      "\n",
      "Worked as an actuarial analyst in the segregated fund department. Performed data analysis and built models to estimate the investment risk of portfolios with guaranteed returns. (SQL, VBA, Monte Carlo\n",
      "\n",
      "\n",
      "\n",
      "Chronological Experience\n",
      "\n",
      "\n",
      "\n",
      "PRINCIPAL DATA SCIENTIST\n",
      "\n",
      "FIRMEX\n",
      "\n",
      "Apr 2022- Present \n",
      "\n",
      "Type: full time\n",
      "\n",
      "\n",
      "\n",
      "Machine Learning: Design and implementation of machine learning models with applications in sales forecasting, prospect scoring & prioritization, forecasting headcount & related expenses, anticipating help-desk tickets, and forecasting Mergers & Acquisition activity (Python, Scikit, XGBoost, Tensorflow, Sagemaker)\n",
      "\n",
      "Data Engineering: Design and implementation of data pipelines to automate processes (Airflow, Sagemaker, Python, SQL, AWS S3, AWS Glue, AWS Redshift, ETL, ELT)\n",
      "\n",
      "Data Analytics & Visualization:  Design and implementation of analytical dashboards for executives to inform data-driven decisions (Tableau, SQL, AWS Redshift, AWS S3)\n",
      "\n",
      "\n",
      "\n",
      "SENIOR QUANTITATIVE ANALYST\n",
      "\n",
      "AGF INVESTMENTS\n",
      "\n",
      "July 2018- April 2022\n",
      "\n",
      "Type: contract\n",
      "\n",
      "\n",
      "\n",
      "Data Warehouse Design & Implementation: Senior Data Analyst working on the design and implementation of a new Investment Data Warehouse (data analysis, data modelling, SQL, PL/SQL)\n",
      "\n",
      "\n",
      "\n",
      "Data Analysis / Data Profiling: Analysis of current investment systems (Eagle Investment Systems) and Integrations between systems and data sources (Bloomberg, RIMES, Factset, SQL)\n",
      "\n",
      "\n",
      "\n",
      "Development: Review current SQL queries, views, functions, and procedures. Writing new advanced SQL queries for Oracle & MS SQL Server. (PL/SQL Developer, MS SQL Server Management Studio).  Design and development of high-volume investor reports (SQL, Seismic)\n",
      "\n",
      "\n",
      "\n",
      "Process Mapping:  Documentation of current and future state investment processes for newly launched ETF products (MS VISO)\n",
      "\n",
      "\n",
      "\n",
      "\n",
      "\n",
      "\n",
      "\n",
      "SENIOR QUANTITATIVE ANALYST \n",
      "\n",
      "BEUTEL GOODMAN \n",
      "\n",
      "Sept 2017-June 2018\n",
      "\n",
      "Type: contract\n",
      "\n",
      "\n",
      "\n",
      "Process Mapping & Optimization: Analysis and documentation of current investment processes, including; Sales process, reporting, client onboarding/offboarding, investment funding & trade execution\n",
      "\n",
      "Report Design & Development: Requirements gathering, design, and development of quarterly investment reports, including the automation of custom market commentary (VBA, SQL, Active Reports)\n",
      "\n",
      "System Integrations:  Integration of Satuit CRM with Beutel's Investment Data warehouse. Responsible for database and data analysis, integration design, implementation, and testing\n",
      "\n",
      "\n",
      "\n",
      "\n",
      "\n",
      "SENIOR QUANTITATIVE ANALYST\n",
      "\n",
      "AGF INVESTMENTS\n",
      "\n",
      "Sep 2015 — Aug 2017\n",
      "\n",
      "Type: contract\n",
      "\n",
      "\n",
      "\n",
      "Developed statistical factor-based investment models for AGF Management.  Implemented the Portfolio Managers' strategy for over 40 investment models, resulting in a robust system that automatically rolls the models forward daily, providing investment recommendations. (VBA, SQL, Python, xlwings, Automation)\n",
      "\n",
      "Analysis of Investment Systems: Documentation and analysis of proprietary investment systems for one of AGF's subsidiaries.   Responsible for liaising with Investment and IT professionals to document current systems and processes.  Creation of detailed process maps for daily data processing, reporting, and system integrations\n",
      "\n",
      "Data Management: Analysis of Market Data in Eagle Investments systems and associated data marts.  Identification and clean up of bad data through SQL scripting to update millions of records (SQL, PL/SQL)\n",
      "\n",
      "System Integrations:  Integration of Eagle Investment Systems with custodian data feeds.  Responsible for testing integrations, test case creation, liaising with vendors and AGF Operations.  \n",
      "\n",
      "\n",
      "\n",
      "\n",
      "\n",
      "\n",
      "\n",
      "SENIOR BUSINESS INTELLIGENCE DEVELOPER, DATA WAREHOUSE\n",
      "\n",
      "SATORI CONSULTING\n",
      "\n",
      "Jun 2011-Feb 2012\n",
      "\n",
      "Type: contract\n",
      "\n",
      "\n",
      "\n",
      "Contracted with a company that provides data warehouse and analysis services to Credit Unions across the Country\n",
      "\n",
      "Data Modelling & Analysis: Created models using SQL Server, Quadstone, and census data to analyze locations for new credit union branches using data mining.  Identified Credit Union members with high potential for new or existing product up-sell opportunities using data mining and statistical techniques. \n",
      "\n",
      "Data Warehouse Design: Analyzed existing data warehouse design and processes.  Made recommendations to improve and automate processes and optimize warehouse design structure for efficient uploads and retrieval (MS SQL Server, SQL, SSIS)\n",
      "\n",
      "Data Warehouse Implementation: Implemented design and process recommendations.  This involved writing complex SQL queries, designing & implementing ETL processes to automate data loads and retrieval using SQL Server Integration Services (SSIS)\n",
      "\n",
      "\n",
      "\n",
      "\n",
      "\n",
      "SENIOR QUANTITATIVE ANALYST, FINANCIAL MODELLING\n",
      "\n",
      "MAPLES FINANCE\n",
      "\n",
      "Dec 2011-Jan 2012 \n",
      "\n",
      "Type: contract\n",
      "\n",
      "\n",
      "\n",
      "Contracted with a large financial data services firm to design and implement a compensation model\n",
      "\n",
      "\n",
      "\n",
      "Developed an automated compensation model for Maples Finance. Features included time-series forecasting and scenario testing. (financial modelling, VBA, time series analysis)\n",
      "\n",
      "The solution was implemented in used advanced Excel and VBA\n",
      "\n",
      "\n",
      "\n",
      "\n",
      "\n",
      "\n",
      "\n",
      "\n",
      "\n",
      "\n",
      "\n",
      "\n",
      "\n",
      "PROJECT MANAGER, CORPORATE INFORMATION SYSTEMS\n",
      "\n",
      "CANADA PENSION PLAN INVESTMENT BOARD (CPPIB)\n",
      "\n",
      "Jan 2010-Feb 2011\n",
      "\n",
      "Type: contract\n",
      "\n",
      "\n",
      "\n",
      "Leadership: Responsible for the Corporate Systems team of eight professionals.  Responsible for solution design and delivery, application support, enhancements, resource planning, and project management. \n",
      "\n",
      "\n",
      "\n",
      "Business Analysis:  Facilitation of requirements gathering, interpreting, and synthesizing requirements from project sponsors, owners and stakeholders, gap analysis, as-is and to-be application and process mapping\n",
      "\n",
      "Communication: Communicating technical information to non-technical audiences. Presenting to the project Steering Committee\n",
      "\n",
      "Application Management: Responsible for managing the following technologies: SharePoint, Confluence, JIRA, ClearCase, ClearQuest, and a proprietary Compliance Management System\n",
      "\n",
      "\n",
      "\n",
      "\n",
      "\n",
      "VICE PRESIDENT, INFORMATION TECHNOLOGY:  \n",
      "\n",
      "NORTHWATER CAPITAL MANAGEMENT\n",
      "\n",
      "Apr 2006-Oct 2009\n",
      "\n",
      "Type: permanent\n",
      "\n",
      "\n",
      "\n",
      "Leadership: Responsible for a team of application developers; leadership in an era of downsizing, management of projects and priorities, communication of company initiatives/direction, and coaching and feedback\n",
      "\n",
      "Strategy: Responsible for business intelligence vision and implementation. Balancing short-term tactical initiatives with long-term strategic goals.  Instrumental in new product development from concept to implementation\n",
      "\n",
      "Negotiation and Influence: liaison between business unit leaders to determine competing priorities and manage expectations.  Present to the management committee on project progress, strategic decisions, and budget\n",
      "\n",
      "Management: responsible for managing multiple projects, including vendor management, risk management, and process management, and budget/forecast\n",
      "\n",
      "\n",
      "\n",
      "\n",
      "\n",
      "\n",
      "\n",
      "\n",
      "\n",
      "PORTFOLIO ANALYST, ANALYTICS\n",
      "\n",
      "NORTHWATER CAPITAL\n",
      "\n",
      "Nov 2003-Apr 2006\n",
      "\n",
      "Type: Permanent\n",
      "\n",
      "\n",
      "\n",
      "Worked as a portfolio analyst at Northwater capital performing statistical and quantitative analysis on hedge fund portfolios.\n",
      "\n",
      "Responsibilities included performance attribution, creating data visualizations, financial modelling, back-testing strategies, and coding Monte Carlo simulations.\n",
      "\n",
      "Analysis and research on synthetic portfolio tracking and optimization strategies. Recommended synthetic portfolio asset mixes for domestic and international portfolios (supervised learning, optimization, financial modelling, VBA)\n",
      "\n",
      "Recommended baskets of futures contracts to replicate index performance using supervised learning techniques (supervised machine learning, VBA, SQL)\n",
      "\n",
      "Data management and process improvement initiatives, including the development of VBA, databases (SQL, MS Access), and SharePoint sites\n",
      "\n",
      "\n",
      "\n",
      "\n",
      "\n",
      "SENIOR FINANCIAL ANALYST\n",
      "\n",
      "MANULIFE INVESTMENTS\n",
      "\n",
      "Sep 2001-Nov 2003 \n",
      "\n",
      "Type: permanent\n",
      "\n",
      "\t\n",
      "\n",
      "Responsible for developing the 5-year Strategic Earnings plan for Manulife Investments and its subsidiaries (Income statements, Balance Sheets, Cash flow Statements)(Financial modelling, VBA))\n",
      "\n",
      "Development of complex financial models to project earnings and key business indicators for Manulife Investments products, including GICs, Segregated Funds, Annuities, Mutual Funds, and Manulife Bank products (financial modelling, VBA)\n",
      "\n",
      "Provide analysis, commentary, and reconciliation between actual /plan/forecast for senior management\n",
      "\n",
      "Projected liability cash flows for asset-liability management processes (ALM modelling, VBA)\n",
      "\n",
      "Projected Segregated Fund Reserves, Asset growth, and required capital as required for business planning according to OSFI regulations (time series analysis, financial modelling, VBA)\n",
      "\n",
      "Attribution / Sensitivity /Scenario analysis on Segregated Funds Portfolio to help understand the portfolio dynamics and the impact on earnings under different market conditions\n",
      "\n",
      "Merges and Acquisitions –running financial models, automating and updating existing models, sensitivity and scenario testing, evaluating the effects on the balance sheet and income statements and financial ratio (financial modelling, VBA)\n",
      "\n",
      "\n",
      "\n",
      "\n",
      "\n",
      "ACTUARIAL ANALYST\n",
      "\n",
      "MANULIFE INVESTMENTS\n",
      "\n",
      "Nov 1999- Sep 2001 \n",
      "\n",
      "Type: Permanent\n",
      "\n",
      "\n",
      "\n",
      "Worked as an actuarial analyst in the segregated fund department. Performed data analysis and built models to estimate the investment risk of portfolios with guaranteed returns.\n",
      "\n",
      "Development of risk-reporting and experience studies used to price segregated fund guarantees and fixed income product prices (SQL, VBA, Data Analysis, Data Mining, Monte Carlo, Time series analysis)\n",
      "\n",
      "Product demographic analysis (redemptions, resets, fund switching, death experience, and migration between products)(data visualization, SQL, VBA,)\n"
     ]
    },
    {
     "ename": "FileNotFoundError",
     "evalue": "[Errno 2] No such file or directory: 'data/resume_2023.docx'",
     "output_type": "error",
     "traceback": [
      "\u001b[0;31m---------------------------------------------------------------------------\u001b[0m",
      "\u001b[0;31mFileNotFoundError\u001b[0m                         Traceback (most recent call last)",
      "Cell \u001b[0;32mIn[636], line 3\u001b[0m\n\u001b[1;32m      1\u001b[0m \u001b[38;5;66;03m# get resume\u001b[39;00m\n\u001b[1;32m      2\u001b[0m r  \u001b[38;5;241m=\u001b[39m get_resume_text(\u001b[38;5;124m'\u001b[39m\u001b[38;5;124mdata/resume.docx\u001b[39m\u001b[38;5;124m'\u001b[39m,\u001b[38;5;28;01mTrue\u001b[39;00m)\n\u001b[0;32m----> 3\u001b[0m r1 \u001b[38;5;241m=\u001b[39m \u001b[43mget_resume_text\u001b[49m\u001b[43m(\u001b[49m\u001b[38;5;124;43m'\u001b[39;49m\u001b[38;5;124;43mdata/resume_2023.docx\u001b[39;49m\u001b[38;5;124;43m'\u001b[39;49m\u001b[43m,\u001b[49m\u001b[38;5;28;43;01mTrue\u001b[39;49;00m\u001b[43m)\u001b[49m\n\u001b[1;32m      4\u001b[0m r2 \u001b[38;5;241m=\u001b[39m get_resume_text(\u001b[38;5;124m'\u001b[39m\u001b[38;5;124mdata/resume_2023.pdf\u001b[39m\u001b[38;5;124m'\u001b[39m,\u001b[38;5;28;01mTrue\u001b[39;00m)\n\u001b[1;32m      5\u001b[0m r3 \u001b[38;5;241m=\u001b[39m get_resume_text(\u001b[38;5;124m'\u001b[39m\u001b[38;5;124mdata/resume2023.txt\u001b[39m\u001b[38;5;124m'\u001b[39m,\u001b[38;5;28;01mTrue\u001b[39;00m)\n",
      "Cell \u001b[0;32mIn[634], line 11\u001b[0m, in \u001b[0;36mget_resume_text\u001b[0;34m(path, print_text)\u001b[0m\n\u001b[1;32m      2\u001b[0m \u001b[38;5;124;03m\"\"\" \u001b[39;00m\n\u001b[1;32m      3\u001b[0m \u001b[38;5;124;03mRead resume text content from file (pdf or docx)\u001b[39;00m\n\u001b[1;32m      4\u001b[0m \u001b[38;5;124;03mParams:\u001b[39;00m\n\u001b[0;32m   (...)\u001b[0m\n\u001b[1;32m      7\u001b[0m \u001b[38;5;124;03mReturns: A text object with the resume file content\u001b[39;00m\n\u001b[1;32m      8\u001b[0m \u001b[38;5;124;03m\"\"\"\u001b[39;00m\n\u001b[1;32m     10\u001b[0m \u001b[38;5;66;03m# open file and get file extension\u001b[39;00m\n\u001b[0;32m---> 11\u001b[0m file \u001b[38;5;241m=\u001b[39m \u001b[38;5;28;43mopen\u001b[39;49m\u001b[43m(\u001b[49m\u001b[43mpath\u001b[49m\u001b[43m,\u001b[49m\u001b[38;5;124;43m'\u001b[39;49m\u001b[38;5;124;43mrb\u001b[39;49m\u001b[38;5;124;43m'\u001b[39;49m\u001b[43m)\u001b[49m\n\u001b[1;32m     12\u001b[0m file_name, file_ext \u001b[38;5;241m=\u001b[39m os\u001b[38;5;241m.\u001b[39mpath\u001b[38;5;241m.\u001b[39msplitext(path)\n\u001b[1;32m     14\u001b[0m \u001b[38;5;66;03m# extract text content\u001b[39;00m\n",
      "File \u001b[0;32m~/anaconda3/envs/NLP/lib/python3.9/site-packages/IPython/core/interactiveshell.py:282\u001b[0m, in \u001b[0;36m_modified_open\u001b[0;34m(file, *args, **kwargs)\u001b[0m\n\u001b[1;32m    275\u001b[0m \u001b[38;5;28;01mif\u001b[39;00m file \u001b[38;5;129;01min\u001b[39;00m {\u001b[38;5;241m0\u001b[39m, \u001b[38;5;241m1\u001b[39m, \u001b[38;5;241m2\u001b[39m}:\n\u001b[1;32m    276\u001b[0m     \u001b[38;5;28;01mraise\u001b[39;00m \u001b[38;5;167;01mValueError\u001b[39;00m(\n\u001b[1;32m    277\u001b[0m         \u001b[38;5;124mf\u001b[39m\u001b[38;5;124m\"\u001b[39m\u001b[38;5;124mIPython won\u001b[39m\u001b[38;5;124m'\u001b[39m\u001b[38;5;124mt let you open fd=\u001b[39m\u001b[38;5;132;01m{\u001b[39;00mfile\u001b[38;5;132;01m}\u001b[39;00m\u001b[38;5;124m by default \u001b[39m\u001b[38;5;124m\"\u001b[39m\n\u001b[1;32m    278\u001b[0m         \u001b[38;5;124m\"\u001b[39m\u001b[38;5;124mas it is likely to crash IPython. If you know what you are doing, \u001b[39m\u001b[38;5;124m\"\u001b[39m\n\u001b[1;32m    279\u001b[0m         \u001b[38;5;124m\"\u001b[39m\u001b[38;5;124myou can use builtins\u001b[39m\u001b[38;5;124m'\u001b[39m\u001b[38;5;124m open.\u001b[39m\u001b[38;5;124m\"\u001b[39m\n\u001b[1;32m    280\u001b[0m     )\n\u001b[0;32m--> 282\u001b[0m \u001b[38;5;28;01mreturn\u001b[39;00m \u001b[43mio_open\u001b[49m\u001b[43m(\u001b[49m\u001b[43mfile\u001b[49m\u001b[43m,\u001b[49m\u001b[43m \u001b[49m\u001b[38;5;241;43m*\u001b[39;49m\u001b[43margs\u001b[49m\u001b[43m,\u001b[49m\u001b[43m \u001b[49m\u001b[38;5;241;43m*\u001b[39;49m\u001b[38;5;241;43m*\u001b[39;49m\u001b[43mkwargs\u001b[49m\u001b[43m)\u001b[49m\n",
      "\u001b[0;31mFileNotFoundError\u001b[0m: [Errno 2] No such file or directory: 'data/resume_2023.docx'"
     ]
    }
   ],
   "source": [
    "# get resume\n",
    "r  = get_resume_text('data/resume.docx',True)  # original\n",
    "r1 = get_resume_text('data/resume_2023.docx',True) # best\n",
    "r2 = get_resume_text('data/resume_2023.pdf',True) # bad\n",
    "r3 = get_resume_text('data/resume2023.txt',True)  # no better\n"
   ]
  },
  {
   "cell_type": "code",
   "execution_count": 596,
   "id": "f374ee85-2742-4dff-a3f7-aadec001b16c",
   "metadata": {},
   "outputs": [
    {
     "data": {
      "text/html": [
       "<div>\n",
       "<style scoped>\n",
       "    .dataframe tbody tr th:only-of-type {\n",
       "        vertical-align: middle;\n",
       "    }\n",
       "\n",
       "    .dataframe tbody tr th {\n",
       "        vertical-align: top;\n",
       "    }\n",
       "\n",
       "    .dataframe thead th {\n",
       "        text-align: right;\n",
       "    }\n",
       "</style>\n",
       "<table border=\"1\" class=\"dataframe\">\n",
       "  <thead>\n",
       "    <tr style=\"text-align: right;\">\n",
       "      <th></th>\n",
       "      <th>title</th>\n",
       "      <th>company</th>\n",
       "      <th>location</th>\n",
       "      <th>similarity-score</th>\n",
       "      <th>keyword-coverage</th>\n",
       "      <th>keyword-wt</th>\n",
       "      <th>keywords-missing</th>\n",
       "    </tr>\n",
       "  </thead>\n",
       "  <tbody>\n",
       "    <tr>\n",
       "      <th>10</th>\n",
       "      <td>Sr. Data Analyst</td>\n",
       "      <td>Ontario College Of Pharmacists Ordre des Pharm...</td>\n",
       "      <td>Toronto, ON</td>\n",
       "      <td>0.373390</td>\n",
       "      <td>0.777778</td>\n",
       "      <td>5.666667</td>\n",
       "      <td>{mathematics, matlab, computer science, modeli...</td>\n",
       "    </tr>\n",
       "    <tr>\n",
       "      <th>1</th>\n",
       "      <td>Data Analyst</td>\n",
       "      <td>Brik Partners</td>\n",
       "      <td>Toronto, ON</td>\n",
       "      <td>0.328218</td>\n",
       "      <td>0.750000</td>\n",
       "      <td>6.139535</td>\n",
       "      <td>{matlab, metadata, data analysis skills, compu...</td>\n",
       "    </tr>\n",
       "    <tr>\n",
       "      <th>21</th>\n",
       "      <td>Senior Data Analyst</td>\n",
       "      <td>Thentia</td>\n",
       "      <td>Toronto, ON</td>\n",
       "      <td>0.263093</td>\n",
       "      <td>0.576923</td>\n",
       "      <td>4.139535</td>\n",
       "      <td>{saas, ai, computer science, insights, big dat...</td>\n",
       "    </tr>\n",
       "    <tr>\n",
       "      <th>23</th>\n",
       "      <td>Data Scientist</td>\n",
       "      <td>Focal Systems</td>\n",
       "      <td>Toronto, ON</td>\n",
       "      <td>0.263087</td>\n",
       "      <td>0.750000</td>\n",
       "      <td>4.135135</td>\n",
       "      <td>{ai, computer science, infrastructure, insight...</td>\n",
       "    </tr>\n",
       "    <tr>\n",
       "      <th>8</th>\n",
       "      <td>Data Scientist</td>\n",
       "      <td>Clearco</td>\n",
       "      <td>Toronto, ON</td>\n",
       "      <td>0.259482</td>\n",
       "      <td>0.666667</td>\n",
       "      <td>3.950820</td>\n",
       "      <td>{modeling, ml, code, infrastructure, insurance...</td>\n",
       "    </tr>\n",
       "    <tr>\n",
       "      <th>0</th>\n",
       "      <td>Data Scientist</td>\n",
       "      <td>Wish</td>\n",
       "      <td>Toronto, ON</td>\n",
       "      <td>0.247380</td>\n",
       "      <td>0.888889</td>\n",
       "      <td>5.566667</td>\n",
       "      <td>{mongodb, insights}</td>\n",
       "    </tr>\n",
       "    <tr>\n",
       "      <th>4</th>\n",
       "      <td>Data Analyst</td>\n",
       "      <td>Connexall</td>\n",
       "      <td>North York, ON</td>\n",
       "      <td>0.245884</td>\n",
       "      <td>0.793103</td>\n",
       "      <td>2.479167</td>\n",
       "      <td>{workflow, computer science, insights, looker,...</td>\n",
       "    </tr>\n",
       "    <tr>\n",
       "      <th>15</th>\n",
       "      <td>Data Scientist - Marketing Measurement &amp; Optim...</td>\n",
       "      <td>ShyftLabs</td>\n",
       "      <td>Toronto, ON</td>\n",
       "      <td>0.241822</td>\n",
       "      <td>0.731707</td>\n",
       "      <td>3.393939</td>\n",
       "      <td>{communication skills, insights, looker, big d...</td>\n",
       "    </tr>\n",
       "    <tr>\n",
       "      <th>14</th>\n",
       "      <td>Data Scientist, Crypto Investment Firm</td>\n",
       "      <td>Recruiting From Scratch</td>\n",
       "      <td>Toronto, ON</td>\n",
       "      <td>0.234655</td>\n",
       "      <td>0.869565</td>\n",
       "      <td>4.540541</td>\n",
       "      <td>{git, insights, exploration}</td>\n",
       "    </tr>\n",
       "    <tr>\n",
       "      <th>22</th>\n",
       "      <td>Data Science and Analytics Specialist</td>\n",
       "      <td>Healthcare Consultancy Group</td>\n",
       "      <td>Toronto, ON</td>\n",
       "      <td>0.228518</td>\n",
       "      <td>0.680000</td>\n",
       "      <td>1.557377</td>\n",
       "      <td>{snowflake, communication skills, pharma, comp...</td>\n",
       "    </tr>\n",
       "    <tr>\n",
       "      <th>24</th>\n",
       "      <td>VP of RevOps and Data Analytics</td>\n",
       "      <td>When I Work</td>\n",
       "      <td>Toronto, ON</td>\n",
       "      <td>0.226716</td>\n",
       "      <td>0.714286</td>\n",
       "      <td>-0.136364</td>\n",
       "      <td>{saas, modeling, infrastructure, insights, cod...</td>\n",
       "    </tr>\n",
       "    <tr>\n",
       "      <th>2</th>\n",
       "      <td>Data Analyst - Operations</td>\n",
       "      <td>Flair Airlines Ltd.</td>\n",
       "      <td>Toronto, ON</td>\n",
       "      <td>0.219210</td>\n",
       "      <td>0.807692</td>\n",
       "      <td>5.864865</td>\n",
       "      <td>{mathematics, communication skills, insurance,...</td>\n",
       "    </tr>\n",
       "    <tr>\n",
       "      <th>17</th>\n",
       "      <td>Data Analyst</td>\n",
       "      <td>Baycrest</td>\n",
       "      <td>Toronto, ON</td>\n",
       "      <td>0.215252</td>\n",
       "      <td>0.647059</td>\n",
       "      <td>1.390244</td>\n",
       "      <td>{biostatistics, computer science, insights, da...</td>\n",
       "    </tr>\n",
       "    <tr>\n",
       "      <th>9</th>\n",
       "      <td>Data Scientist - Alternative Data and AI</td>\n",
       "      <td>Royal Bank of Canada</td>\n",
       "      <td>Toronto, ON</td>\n",
       "      <td>0.215247</td>\n",
       "      <td>0.470588</td>\n",
       "      <td>2.811321</td>\n",
       "      <td>{exploratory data analysis, ai, financial serv...</td>\n",
       "    </tr>\n",
       "    <tr>\n",
       "      <th>3</th>\n",
       "      <td>Data Analyst</td>\n",
       "      <td>WGames Inc.</td>\n",
       "      <td>Toronto, ON</td>\n",
       "      <td>0.210827</td>\n",
       "      <td>0.769231</td>\n",
       "      <td>5.656250</td>\n",
       "      <td>{mathematics, dashboard, insights, software de...</td>\n",
       "    </tr>\n",
       "    <tr>\n",
       "      <th>7</th>\n",
       "      <td>Data scientist</td>\n",
       "      <td>Autocase</td>\n",
       "      <td>Toronto, ON</td>\n",
       "      <td>0.209325</td>\n",
       "      <td>0.714286</td>\n",
       "      <td>4.366667</td>\n",
       "      <td>{modeling, simulation, code, mathematics}</td>\n",
       "    </tr>\n",
       "    <tr>\n",
       "      <th>18</th>\n",
       "      <td>Data Scientist</td>\n",
       "      <td>Dev House Labs</td>\n",
       "      <td>Toronto, ON</td>\n",
       "      <td>0.196474</td>\n",
       "      <td>0.666667</td>\n",
       "      <td>2.065217</td>\n",
       "      <td>{hadoop, mathematics, communication skills, no...</td>\n",
       "    </tr>\n",
       "    <tr>\n",
       "      <th>12</th>\n",
       "      <td>Data Scientist - Data Analytics and Infrastruc...</td>\n",
       "      <td>Ample Insight Inc.</td>\n",
       "      <td>Toronto, ON</td>\n",
       "      <td>0.192403</td>\n",
       "      <td>0.772727</td>\n",
       "      <td>3.851852</td>\n",
       "      <td>{snowflake, computer science, devops, marketin...</td>\n",
       "    </tr>\n",
       "    <tr>\n",
       "      <th>19</th>\n",
       "      <td>Scene+ Data Scientist</td>\n",
       "      <td>Cineplex</td>\n",
       "      <td>Toronto, ON</td>\n",
       "      <td>0.186003</td>\n",
       "      <td>0.594595</td>\n",
       "      <td>-0.045455</td>\n",
       "      <td>{pytorch, mathematics, snowflake, computer sci...</td>\n",
       "    </tr>\n",
       "    <tr>\n",
       "      <th>13</th>\n",
       "      <td>Data Scientist</td>\n",
       "      <td>6ix</td>\n",
       "      <td>Toronto, ON</td>\n",
       "      <td>0.177588</td>\n",
       "      <td>0.642857</td>\n",
       "      <td>2.648649</td>\n",
       "      <td>{snowflake, linux, modeling, api, infrastructu...</td>\n",
       "    </tr>\n",
       "    <tr>\n",
       "      <th>6</th>\n",
       "      <td>Data Scientist</td>\n",
       "      <td>Deep Genomics</td>\n",
       "      <td>Toronto, ON</td>\n",
       "      <td>0.166864</td>\n",
       "      <td>0.750000</td>\n",
       "      <td>3.040000</td>\n",
       "      <td>{computer science, unix, ai, cloud computing}</td>\n",
       "    </tr>\n",
       "    <tr>\n",
       "      <th>11</th>\n",
       "      <td>NLP Data Scientist (Remote)</td>\n",
       "      <td>Wisedocs</td>\n",
       "      <td>Toronto, ON</td>\n",
       "      <td>0.164172</td>\n",
       "      <td>0.567568</td>\n",
       "      <td>2.895833</td>\n",
       "      <td>{pytorch, communication skills, ai, computer s...</td>\n",
       "    </tr>\n",
       "    <tr>\n",
       "      <th>5</th>\n",
       "      <td>Data Analyst</td>\n",
       "      <td>Environics Analytics</td>\n",
       "      <td>Toronto, ON</td>\n",
       "      <td>0.150383</td>\n",
       "      <td>0.772727</td>\n",
       "      <td>1.864865</td>\n",
       "      <td>{communication skills, insights, marketing, pr...</td>\n",
       "    </tr>\n",
       "    <tr>\n",
       "      <th>16</th>\n",
       "      <td>Research Associate, Data Science &amp; Statistics</td>\n",
       "      <td>Humber River Hospital</td>\n",
       "      <td>Greater Toronto Area, ON</td>\n",
       "      <td>0.091883</td>\n",
       "      <td>0.750000</td>\n",
       "      <td>-4.681818</td>\n",
       "      <td>{computer science, phd, code, git}</td>\n",
       "    </tr>\n",
       "    <tr>\n",
       "      <th>20</th>\n",
       "      <td>AI Tool Expert - Innovate &amp; Transform Our Busi...</td>\n",
       "      <td>Grassfed Ventures</td>\n",
       "      <td>Toronto, ON</td>\n",
       "      <td>0.029091</td>\n",
       "      <td>0.000000</td>\n",
       "      <td>0.000000</td>\n",
       "      <td>{marketing, code, ai}</td>\n",
       "    </tr>\n",
       "  </tbody>\n",
       "</table>\n",
       "</div>"
      ],
      "text/plain": [
       "                                                title  \\\n",
       "10                                   Sr. Data Analyst   \n",
       "1                                        Data Analyst   \n",
       "21                                Senior Data Analyst   \n",
       "23                                     Data Scientist   \n",
       "8                                      Data Scientist   \n",
       "0                                      Data Scientist   \n",
       "4                                        Data Analyst   \n",
       "15  Data Scientist - Marketing Measurement & Optim...   \n",
       "14             Data Scientist, Crypto Investment Firm   \n",
       "22              Data Science and Analytics Specialist   \n",
       "24                    VP of RevOps and Data Analytics   \n",
       "2                           Data Analyst - Operations   \n",
       "17                                       Data Analyst   \n",
       "9            Data Scientist - Alternative Data and AI   \n",
       "3                                        Data Analyst   \n",
       "7                                      Data scientist   \n",
       "18                                     Data Scientist   \n",
       "12  Data Scientist - Data Analytics and Infrastruc...   \n",
       "19                              Scene+ Data Scientist   \n",
       "13                                     Data Scientist   \n",
       "6                                      Data Scientist   \n",
       "11                        NLP Data Scientist (Remote)   \n",
       "5                                        Data Analyst   \n",
       "16      Research Associate, Data Science & Statistics   \n",
       "20  AI Tool Expert - Innovate & Transform Our Busi...   \n",
       "\n",
       "                                              company  \\\n",
       "10  Ontario College Of Pharmacists Ordre des Pharm...   \n",
       "1                                       Brik Partners   \n",
       "21                                            Thentia   \n",
       "23                                      Focal Systems   \n",
       "8                                             Clearco   \n",
       "0                                                Wish   \n",
       "4                                           Connexall   \n",
       "15                                          ShyftLabs   \n",
       "14                            Recruiting From Scratch   \n",
       "22                       Healthcare Consultancy Group   \n",
       "24                                        When I Work   \n",
       "2                                 Flair Airlines Ltd.   \n",
       "17                                           Baycrest   \n",
       "9                                Royal Bank of Canada   \n",
       "3                                         WGames Inc.   \n",
       "7                                            Autocase   \n",
       "18                                     Dev House Labs   \n",
       "12                                 Ample Insight Inc.   \n",
       "19                                           Cineplex   \n",
       "13                                                6ix   \n",
       "6                                       Deep Genomics   \n",
       "11                                           Wisedocs   \n",
       "5                                Environics Analytics   \n",
       "16                              Humber River Hospital   \n",
       "20                                  Grassfed Ventures   \n",
       "\n",
       "                    location  similarity-score  keyword-coverage  keyword-wt  \\\n",
       "10               Toronto, ON          0.373390          0.777778    5.666667   \n",
       "1                Toronto, ON          0.328218          0.750000    6.139535   \n",
       "21               Toronto, ON          0.263093          0.576923    4.139535   \n",
       "23               Toronto, ON          0.263087          0.750000    4.135135   \n",
       "8                Toronto, ON          0.259482          0.666667    3.950820   \n",
       "0                Toronto, ON          0.247380          0.888889    5.566667   \n",
       "4             North York, ON          0.245884          0.793103    2.479167   \n",
       "15               Toronto, ON          0.241822          0.731707    3.393939   \n",
       "14               Toronto, ON          0.234655          0.869565    4.540541   \n",
       "22               Toronto, ON          0.228518          0.680000    1.557377   \n",
       "24               Toronto, ON          0.226716          0.714286   -0.136364   \n",
       "2                Toronto, ON          0.219210          0.807692    5.864865   \n",
       "17               Toronto, ON          0.215252          0.647059    1.390244   \n",
       "9                Toronto, ON          0.215247          0.470588    2.811321   \n",
       "3                Toronto, ON          0.210827          0.769231    5.656250   \n",
       "7                Toronto, ON          0.209325          0.714286    4.366667   \n",
       "18               Toronto, ON          0.196474          0.666667    2.065217   \n",
       "12               Toronto, ON          0.192403          0.772727    3.851852   \n",
       "19               Toronto, ON          0.186003          0.594595   -0.045455   \n",
       "13               Toronto, ON          0.177588          0.642857    2.648649   \n",
       "6                Toronto, ON          0.166864          0.750000    3.040000   \n",
       "11               Toronto, ON          0.164172          0.567568    2.895833   \n",
       "5                Toronto, ON          0.150383          0.772727    1.864865   \n",
       "16  Greater Toronto Area, ON          0.091883          0.750000   -4.681818   \n",
       "20               Toronto, ON          0.029091          0.000000    0.000000   \n",
       "\n",
       "                                     keywords-missing  \n",
       "10  {mathematics, matlab, computer science, modeli...  \n",
       "1   {matlab, metadata, data analysis skills, compu...  \n",
       "21  {saas, ai, computer science, insights, big dat...  \n",
       "23  {ai, computer science, infrastructure, insight...  \n",
       "8   {modeling, ml, code, infrastructure, insurance...  \n",
       "0                                 {mongodb, insights}  \n",
       "4   {workflow, computer science, insights, looker,...  \n",
       "15  {communication skills, insights, looker, big d...  \n",
       "14                       {git, insights, exploration}  \n",
       "22  {snowflake, communication skills, pharma, comp...  \n",
       "24  {saas, modeling, infrastructure, insights, cod...  \n",
       "2   {mathematics, communication skills, insurance,...  \n",
       "17  {biostatistics, computer science, insights, da...  \n",
       "9   {exploratory data analysis, ai, financial serv...  \n",
       "3   {mathematics, dashboard, insights, software de...  \n",
       "7           {modeling, simulation, code, mathematics}  \n",
       "18  {hadoop, mathematics, communication skills, no...  \n",
       "12  {snowflake, computer science, devops, marketin...  \n",
       "19  {pytorch, mathematics, snowflake, computer sci...  \n",
       "13  {snowflake, linux, modeling, api, infrastructu...  \n",
       "6       {computer science, unix, ai, cloud computing}  \n",
       "11  {pytorch, communication skills, ai, computer s...  \n",
       "5   {communication skills, insights, marketing, pr...  \n",
       "16                 {computer science, phd, code, git}  \n",
       "20                              {marketing, code, ai}  "
      ]
     },
     "execution_count": 596,
     "metadata": {},
     "output_type": "execute_result"
    }
   ],
   "source": [
    "# calc similarities with each job\n",
    "df_r = calc_similarities(r,job_details,'data/terms.csv')\n",
    "df_r"
   ]
  },
  {
   "cell_type": "code",
   "execution_count": 597,
   "id": "e5fe2b32",
   "metadata": {},
   "outputs": [
    {
     "data": {
      "application/vnd.plotly.v1+json": {
       "config": {
        "plotlyServerURL": "https://plot.ly"
       },
       "data": [
        {
         "customdata": [
          [
           "Sr. Data Analyst",
           "Ontario College Of Pharmacists Ordre des Pharmaciens de L Ontario",
           "Toronto, ON",
           0.956302302106737
          ],
          [
           "Data Analyst",
           "Brik Partners",
           "Toronto, ON",
           1
          ],
          [
           "Senior Data Analyst",
           "Thentia",
           "Toronto, ON",
           0.8151802285825925
          ],
          [
           "Data Scientist",
           "Focal Systems",
           "Toronto, ON",
           0.8147736483186322
          ],
          [
           "Data Scientist",
           "Clearco",
           "Toronto, ON",
           0.797741077448087
          ],
          [
           "Data Scientist",
           "Wish",
           "Toronto, ON",
           0.9470613135358665
          ],
          [
           "Data Analyst",
           "Connexall",
           "North York, ON",
           0.6617457914102438
          ],
          [
           "Data Scientist - Marketing Measurement & Optimization",
           "ShyftLabs",
           "Toronto, ON",
           0.7462798345869557
          ],
          [
           "Data Scientist, Crypto Investment Firm",
           "Recruiting From Scratch",
           "Toronto, ON",
           0.8522371154978365
          ],
          [
           "Data Science and Analytics Specialist",
           "Healthcare Consultancy Group",
           "Toronto, ON",
           0.5765633182108616
          ],
          [
           "VP of RevOps and Data Analytics",
           "When I Work",
           "Toronto, ON",
           0.4200449350395623
          ],
          [
           "Data Analyst - Operations",
           "Flair Airlines Ltd.",
           "Toronto, ON",
           0.9746177749499035
          ],
          [
           "Data Analyst",
           "Baycrest",
           "Toronto, ON",
           0.5611185632223618
          ],
          [
           "Data Scientist - Alternative Data and AI",
           "Royal Bank of Canada",
           "Toronto, ON",
           0.6924401127246521
          ],
          [
           "Data Analyst",
           "WGames Inc.",
           "Toronto, ON",
           0.9553396991306047
          ],
          [
           "Data scientist",
           "Autocase",
           "Toronto, ON",
           0.836169450685422
          ],
          [
           "Data Scientist",
           "Dev House Labs",
           "Toronto, ON",
           0.6234927861848112
          ],
          [
           "Data Scientist - Data Analytics and Infrastructure (remote)",
           "Ample Insight Inc.",
           "Toronto, ON",
           0.7885954724872376
          ],
          [
           "Scene+ Data Scientist",
           "Cineplex",
           "Toronto, ON",
           0.42844583374035367
          ],
          [
           "Data Scientist",
           "6ix",
           "Toronto, ON",
           0.6774076019948835
          ],
          [
           "Data Scientist",
           "Deep Genomics",
           "Toronto, ON",
           0.7135723356452086
          ],
          [
           "NLP Data Scientist (Remote)",
           "Wisedocs",
           "Toronto, ON",
           0.7002499104555371
          ],
          [
           "Data Analyst",
           "Environics Analytics",
           "Toronto, ON",
           0.6049782321150886
          ],
          [
           "Research Associate, Data Science & Statistics",
           "Humber River Hospital",
           "Greater Toronto Area, ON",
           0
          ],
          [
           "AI Tool Expert - Innovate & Transform Our Business",
           "Grassfed Ventures",
           "Toronto, ON",
           0.4326462830907492
          ]
         ],
         "hovertemplate": "<b>Title:</b> %{customdata[0]}<br><b>Company:</b> %{customdata[1]}<br><b>Location:</b> %{customdata[2]}</br><b>Similarity:</b> %{y:,.2f}<br><b>Keyword Coverage:</b> %{x:,.2f}<br><b>Weighted Keyword Frequency:</b> %{customdata[3]:,.2f}<br><extra></extra>",
         "marker": {
          "color": [
           0.3733896376744647,
           0.32821822893470515,
           0.2630933801821816,
           0.26308656694600013,
           0.25948207214444435,
           0.2473799332736423,
           0.24588447827912116,
           0.2418218697764047,
           0.2346553281989436,
           0.22851798315699015,
           0.22671614593378878,
           0.21921041375823053,
           0.2152519691296991,
           0.2152470676346747,
           0.21082706629458614,
           0.2093250878875211,
           0.19647431082753908,
           0.19240345736538442,
           0.18600271505043364,
           0.17758815874786968,
           0.1668638753097524,
           0.1641719628490813,
           0.15038327776991622,
           0.09188298192607432,
           0.029091138706248815
          ],
          "colorscale": [
           [
            0,
            "rgba(252,76,1,1.0)"
           ],
           [
            0.25,
            "rgba(252,76,1,0.5)"
           ],
           [
            0.5,
            "rgba(83,128,141,0.25)"
           ],
           [
            0.75,
            "rgba(83,128,141,0.5)"
           ],
           [
            1,
            "rgba(83,128,141,1.0)"
           ]
          ],
          "size": [
           47.815115105336844,
           50,
           40.75901142912963,
           40.738682415931606,
           39.88705387240435,
           47.35306567679333,
           33.08728957051219,
           37.313991729347784,
           42.61185577489183,
           28.82816591054308,
           21.002246751978117,
           48.73088874749518,
           28.05592816111809,
           34.62200563623261,
           47.76698495653024,
           41.808472534271104,
           31.17463930924056,
           39.42977362436188,
           21.422291687017683,
           33.870380099744175,
           35.678616782260434,
           35.01249552277685,
           30.24891160575443,
           0,
           21.63231415453746
          ]
         },
         "mode": "markers",
         "type": "scatter",
         "x": [
          0.7777777777777778,
          0.75,
          0.5769230769230769,
          0.75,
          0.6666666666666666,
          0.8888888888888888,
          0.7931034482758621,
          0.7317073170731707,
          0.8695652173913043,
          0.68,
          0.7142857142857143,
          0.8076923076923077,
          0.6470588235294118,
          0.47058823529411764,
          0.7692307692307693,
          0.7142857142857143,
          0.6666666666666666,
          0.7727272727272727,
          0.5945945945945946,
          0.6428571428571429,
          0.75,
          0.5675675675675675,
          0.7727272727272727,
          0.75,
          0
         ],
         "y": [
          0.3733896376744647,
          0.32821822893470515,
          0.2630933801821816,
          0.26308656694600013,
          0.25948207214444435,
          0.2473799332736423,
          0.24588447827912116,
          0.2418218697764047,
          0.2346553281989436,
          0.22851798315699015,
          0.22671614593378878,
          0.21921041375823053,
          0.2152519691296991,
          0.2152470676346747,
          0.21082706629458614,
          0.2093250878875211,
          0.19647431082753908,
          0.19240345736538442,
          0.18600271505043364,
          0.17758815874786968,
          0.1668638753097524,
          0.1641719628490813,
          0.15038327776991622,
          0.09188298192607432,
          0.029091138706248815
         ]
        }
       ],
       "layout": {
        "height": 500,
        "template": {
         "data": {
          "bar": [
           {
            "error_x": {
             "color": "#2a3f5f"
            },
            "error_y": {
             "color": "#2a3f5f"
            },
            "marker": {
             "line": {
              "color": "white",
              "width": 0.5
             },
             "pattern": {
              "fillmode": "overlay",
              "size": 10,
              "solidity": 0.2
             }
            },
            "type": "bar"
           }
          ],
          "barpolar": [
           {
            "marker": {
             "line": {
              "color": "white",
              "width": 0.5
             },
             "pattern": {
              "fillmode": "overlay",
              "size": 10,
              "solidity": 0.2
             }
            },
            "type": "barpolar"
           }
          ],
          "carpet": [
           {
            "aaxis": {
             "endlinecolor": "#2a3f5f",
             "gridcolor": "#C8D4E3",
             "linecolor": "#C8D4E3",
             "minorgridcolor": "#C8D4E3",
             "startlinecolor": "#2a3f5f"
            },
            "baxis": {
             "endlinecolor": "#2a3f5f",
             "gridcolor": "#C8D4E3",
             "linecolor": "#C8D4E3",
             "minorgridcolor": "#C8D4E3",
             "startlinecolor": "#2a3f5f"
            },
            "type": "carpet"
           }
          ],
          "choropleth": [
           {
            "colorbar": {
             "outlinewidth": 0,
             "ticks": ""
            },
            "type": "choropleth"
           }
          ],
          "contour": [
           {
            "colorbar": {
             "outlinewidth": 0,
             "ticks": ""
            },
            "colorscale": [
             [
              0,
              "#0d0887"
             ],
             [
              0.1111111111111111,
              "#46039f"
             ],
             [
              0.2222222222222222,
              "#7201a8"
             ],
             [
              0.3333333333333333,
              "#9c179e"
             ],
             [
              0.4444444444444444,
              "#bd3786"
             ],
             [
              0.5555555555555556,
              "#d8576b"
             ],
             [
              0.6666666666666666,
              "#ed7953"
             ],
             [
              0.7777777777777778,
              "#fb9f3a"
             ],
             [
              0.8888888888888888,
              "#fdca26"
             ],
             [
              1,
              "#f0f921"
             ]
            ],
            "type": "contour"
           }
          ],
          "contourcarpet": [
           {
            "colorbar": {
             "outlinewidth": 0,
             "ticks": ""
            },
            "type": "contourcarpet"
           }
          ],
          "heatmap": [
           {
            "colorbar": {
             "outlinewidth": 0,
             "ticks": ""
            },
            "colorscale": [
             [
              0,
              "#0d0887"
             ],
             [
              0.1111111111111111,
              "#46039f"
             ],
             [
              0.2222222222222222,
              "#7201a8"
             ],
             [
              0.3333333333333333,
              "#9c179e"
             ],
             [
              0.4444444444444444,
              "#bd3786"
             ],
             [
              0.5555555555555556,
              "#d8576b"
             ],
             [
              0.6666666666666666,
              "#ed7953"
             ],
             [
              0.7777777777777778,
              "#fb9f3a"
             ],
             [
              0.8888888888888888,
              "#fdca26"
             ],
             [
              1,
              "#f0f921"
             ]
            ],
            "type": "heatmap"
           }
          ],
          "heatmapgl": [
           {
            "colorbar": {
             "outlinewidth": 0,
             "ticks": ""
            },
            "colorscale": [
             [
              0,
              "#0d0887"
             ],
             [
              0.1111111111111111,
              "#46039f"
             ],
             [
              0.2222222222222222,
              "#7201a8"
             ],
             [
              0.3333333333333333,
              "#9c179e"
             ],
             [
              0.4444444444444444,
              "#bd3786"
             ],
             [
              0.5555555555555556,
              "#d8576b"
             ],
             [
              0.6666666666666666,
              "#ed7953"
             ],
             [
              0.7777777777777778,
              "#fb9f3a"
             ],
             [
              0.8888888888888888,
              "#fdca26"
             ],
             [
              1,
              "#f0f921"
             ]
            ],
            "type": "heatmapgl"
           }
          ],
          "histogram": [
           {
            "marker": {
             "pattern": {
              "fillmode": "overlay",
              "size": 10,
              "solidity": 0.2
             }
            },
            "type": "histogram"
           }
          ],
          "histogram2d": [
           {
            "colorbar": {
             "outlinewidth": 0,
             "ticks": ""
            },
            "colorscale": [
             [
              0,
              "#0d0887"
             ],
             [
              0.1111111111111111,
              "#46039f"
             ],
             [
              0.2222222222222222,
              "#7201a8"
             ],
             [
              0.3333333333333333,
              "#9c179e"
             ],
             [
              0.4444444444444444,
              "#bd3786"
             ],
             [
              0.5555555555555556,
              "#d8576b"
             ],
             [
              0.6666666666666666,
              "#ed7953"
             ],
             [
              0.7777777777777778,
              "#fb9f3a"
             ],
             [
              0.8888888888888888,
              "#fdca26"
             ],
             [
              1,
              "#f0f921"
             ]
            ],
            "type": "histogram2d"
           }
          ],
          "histogram2dcontour": [
           {
            "colorbar": {
             "outlinewidth": 0,
             "ticks": ""
            },
            "colorscale": [
             [
              0,
              "#0d0887"
             ],
             [
              0.1111111111111111,
              "#46039f"
             ],
             [
              0.2222222222222222,
              "#7201a8"
             ],
             [
              0.3333333333333333,
              "#9c179e"
             ],
             [
              0.4444444444444444,
              "#bd3786"
             ],
             [
              0.5555555555555556,
              "#d8576b"
             ],
             [
              0.6666666666666666,
              "#ed7953"
             ],
             [
              0.7777777777777778,
              "#fb9f3a"
             ],
             [
              0.8888888888888888,
              "#fdca26"
             ],
             [
              1,
              "#f0f921"
             ]
            ],
            "type": "histogram2dcontour"
           }
          ],
          "mesh3d": [
           {
            "colorbar": {
             "outlinewidth": 0,
             "ticks": ""
            },
            "type": "mesh3d"
           }
          ],
          "parcoords": [
           {
            "line": {
             "colorbar": {
              "outlinewidth": 0,
              "ticks": ""
             }
            },
            "type": "parcoords"
           }
          ],
          "pie": [
           {
            "automargin": true,
            "type": "pie"
           }
          ],
          "scatter": [
           {
            "fillpattern": {
             "fillmode": "overlay",
             "size": 10,
             "solidity": 0.2
            },
            "type": "scatter"
           }
          ],
          "scatter3d": [
           {
            "line": {
             "colorbar": {
              "outlinewidth": 0,
              "ticks": ""
             }
            },
            "marker": {
             "colorbar": {
              "outlinewidth": 0,
              "ticks": ""
             }
            },
            "type": "scatter3d"
           }
          ],
          "scattercarpet": [
           {
            "marker": {
             "colorbar": {
              "outlinewidth": 0,
              "ticks": ""
             }
            },
            "type": "scattercarpet"
           }
          ],
          "scattergeo": [
           {
            "marker": {
             "colorbar": {
              "outlinewidth": 0,
              "ticks": ""
             }
            },
            "type": "scattergeo"
           }
          ],
          "scattergl": [
           {
            "marker": {
             "colorbar": {
              "outlinewidth": 0,
              "ticks": ""
             }
            },
            "type": "scattergl"
           }
          ],
          "scattermapbox": [
           {
            "marker": {
             "colorbar": {
              "outlinewidth": 0,
              "ticks": ""
             }
            },
            "type": "scattermapbox"
           }
          ],
          "scatterpolar": [
           {
            "marker": {
             "colorbar": {
              "outlinewidth": 0,
              "ticks": ""
             }
            },
            "type": "scatterpolar"
           }
          ],
          "scatterpolargl": [
           {
            "marker": {
             "colorbar": {
              "outlinewidth": 0,
              "ticks": ""
             }
            },
            "type": "scatterpolargl"
           }
          ],
          "scatterternary": [
           {
            "marker": {
             "colorbar": {
              "outlinewidth": 0,
              "ticks": ""
             }
            },
            "type": "scatterternary"
           }
          ],
          "surface": [
           {
            "colorbar": {
             "outlinewidth": 0,
             "ticks": ""
            },
            "colorscale": [
             [
              0,
              "#0d0887"
             ],
             [
              0.1111111111111111,
              "#46039f"
             ],
             [
              0.2222222222222222,
              "#7201a8"
             ],
             [
              0.3333333333333333,
              "#9c179e"
             ],
             [
              0.4444444444444444,
              "#bd3786"
             ],
             [
              0.5555555555555556,
              "#d8576b"
             ],
             [
              0.6666666666666666,
              "#ed7953"
             ],
             [
              0.7777777777777778,
              "#fb9f3a"
             ],
             [
              0.8888888888888888,
              "#fdca26"
             ],
             [
              1,
              "#f0f921"
             ]
            ],
            "type": "surface"
           }
          ],
          "table": [
           {
            "cells": {
             "fill": {
              "color": "#EBF0F8"
             },
             "line": {
              "color": "white"
             }
            },
            "header": {
             "fill": {
              "color": "#C8D4E3"
             },
             "line": {
              "color": "white"
             }
            },
            "type": "table"
           }
          ]
         },
         "layout": {
          "annotationdefaults": {
           "arrowcolor": "#2a3f5f",
           "arrowhead": 0,
           "arrowwidth": 1
          },
          "autotypenumbers": "strict",
          "coloraxis": {
           "colorbar": {
            "outlinewidth": 0,
            "ticks": ""
           }
          },
          "colorscale": {
           "diverging": [
            [
             0,
             "#8e0152"
            ],
            [
             0.1,
             "#c51b7d"
            ],
            [
             0.2,
             "#de77ae"
            ],
            [
             0.3,
             "#f1b6da"
            ],
            [
             0.4,
             "#fde0ef"
            ],
            [
             0.5,
             "#f7f7f7"
            ],
            [
             0.6,
             "#e6f5d0"
            ],
            [
             0.7,
             "#b8e186"
            ],
            [
             0.8,
             "#7fbc41"
            ],
            [
             0.9,
             "#4d9221"
            ],
            [
             1,
             "#276419"
            ]
           ],
           "sequential": [
            [
             0,
             "#0d0887"
            ],
            [
             0.1111111111111111,
             "#46039f"
            ],
            [
             0.2222222222222222,
             "#7201a8"
            ],
            [
             0.3333333333333333,
             "#9c179e"
            ],
            [
             0.4444444444444444,
             "#bd3786"
            ],
            [
             0.5555555555555556,
             "#d8576b"
            ],
            [
             0.6666666666666666,
             "#ed7953"
            ],
            [
             0.7777777777777778,
             "#fb9f3a"
            ],
            [
             0.8888888888888888,
             "#fdca26"
            ],
            [
             1,
             "#f0f921"
            ]
           ],
           "sequentialminus": [
            [
             0,
             "#0d0887"
            ],
            [
             0.1111111111111111,
             "#46039f"
            ],
            [
             0.2222222222222222,
             "#7201a8"
            ],
            [
             0.3333333333333333,
             "#9c179e"
            ],
            [
             0.4444444444444444,
             "#bd3786"
            ],
            [
             0.5555555555555556,
             "#d8576b"
            ],
            [
             0.6666666666666666,
             "#ed7953"
            ],
            [
             0.7777777777777778,
             "#fb9f3a"
            ],
            [
             0.8888888888888888,
             "#fdca26"
            ],
            [
             1,
             "#f0f921"
            ]
           ]
          },
          "colorway": [
           "#636efa",
           "#EF553B",
           "#00cc96",
           "#ab63fa",
           "#FFA15A",
           "#19d3f3",
           "#FF6692",
           "#B6E880",
           "#FF97FF",
           "#FECB52"
          ],
          "font": {
           "color": "#2a3f5f"
          },
          "geo": {
           "bgcolor": "white",
           "lakecolor": "white",
           "landcolor": "white",
           "showlakes": true,
           "showland": true,
           "subunitcolor": "#C8D4E3"
          },
          "hoverlabel": {
           "align": "left"
          },
          "hovermode": "closest",
          "mapbox": {
           "style": "light"
          },
          "paper_bgcolor": "white",
          "plot_bgcolor": "white",
          "polar": {
           "angularaxis": {
            "gridcolor": "#EBF0F8",
            "linecolor": "#EBF0F8",
            "ticks": ""
           },
           "bgcolor": "white",
           "radialaxis": {
            "gridcolor": "#EBF0F8",
            "linecolor": "#EBF0F8",
            "ticks": ""
           }
          },
          "scene": {
           "xaxis": {
            "backgroundcolor": "white",
            "gridcolor": "#DFE8F3",
            "gridwidth": 2,
            "linecolor": "#EBF0F8",
            "showbackground": true,
            "ticks": "",
            "zerolinecolor": "#EBF0F8"
           },
           "yaxis": {
            "backgroundcolor": "white",
            "gridcolor": "#DFE8F3",
            "gridwidth": 2,
            "linecolor": "#EBF0F8",
            "showbackground": true,
            "ticks": "",
            "zerolinecolor": "#EBF0F8"
           },
           "zaxis": {
            "backgroundcolor": "white",
            "gridcolor": "#DFE8F3",
            "gridwidth": 2,
            "linecolor": "#EBF0F8",
            "showbackground": true,
            "ticks": "",
            "zerolinecolor": "#EBF0F8"
           }
          },
          "shapedefaults": {
           "line": {
            "color": "#2a3f5f"
           }
          },
          "ternary": {
           "aaxis": {
            "gridcolor": "#DFE8F3",
            "linecolor": "#A2B1C6",
            "ticks": ""
           },
           "baxis": {
            "gridcolor": "#DFE8F3",
            "linecolor": "#A2B1C6",
            "ticks": ""
           },
           "bgcolor": "white",
           "caxis": {
            "gridcolor": "#DFE8F3",
            "linecolor": "#A2B1C6",
            "ticks": ""
           }
          },
          "title": {
           "x": 0.05
          },
          "xaxis": {
           "automargin": true,
           "gridcolor": "#EBF0F8",
           "linecolor": "#EBF0F8",
           "ticks": "",
           "title": {
            "standoff": 15
           },
           "zerolinecolor": "#EBF0F8",
           "zerolinewidth": 2
          },
          "yaxis": {
           "automargin": true,
           "gridcolor": "#EBF0F8",
           "linecolor": "#EBF0F8",
           "ticks": "",
           "title": {
            "standoff": 15
           },
           "zerolinecolor": "#EBF0F8",
           "zerolinewidth": 2
          }
         }
        },
        "title": {
         "text": "Resume Similarity to Job Listings"
        },
        "width": 800,
        "xaxis": {
         "range": [
          0,
          1
         ],
         "title": {
          "text": "Keyword Coverge (%)"
         }
        },
        "yaxis": {
         "range": [
          0,
          1
         ],
         "title": {
          "text": "Similarity Score"
         }
        }
       }
      },
      "text/html": [
       "<div>                            <div id=\"4b161ce2-2310-46d4-9c26-2f5a5caa0a92\" class=\"plotly-graph-div\" style=\"height:500px; width:800px;\"></div>            <script type=\"text/javascript\">                require([\"plotly\"], function(Plotly) {                    window.PLOTLYENV=window.PLOTLYENV || {};                                    if (document.getElementById(\"4b161ce2-2310-46d4-9c26-2f5a5caa0a92\")) {                    Plotly.newPlot(                        \"4b161ce2-2310-46d4-9c26-2f5a5caa0a92\",                        [{\"customdata\":[[\"Sr. Data Analyst\",\"Ontario College Of Pharmacists Ordre des Pharmaciens de L Ontario\",\"Toronto, ON\",0.956302302106737],[\"Data Analyst\",\"Brik Partners\",\"Toronto, ON\",1.0],[\"Senior Data Analyst\",\"Thentia\",\"Toronto, ON\",0.8151802285825925],[\"Data Scientist\",\"Focal Systems\",\"Toronto, ON\",0.8147736483186322],[\"Data Scientist\",\"Clearco\",\"Toronto, ON\",0.797741077448087],[\"Data Scientist\",\"Wish\",\"Toronto, ON\",0.9470613135358665],[\"Data Analyst\",\"Connexall\",\"North York, ON\",0.6617457914102438],[\"Data Scientist - Marketing Measurement & Optimization\",\"ShyftLabs\",\"Toronto, ON\",0.7462798345869557],[\"Data Scientist, Crypto Investment Firm\",\"Recruiting From Scratch\",\"Toronto, ON\",0.8522371154978365],[\"Data Science and Analytics Specialist\",\"Healthcare Consultancy Group\",\"Toronto, ON\",0.5765633182108616],[\"VP of RevOps and Data Analytics\",\"When I Work\",\"Toronto, ON\",0.4200449350395623],[\"Data Analyst - Operations\",\"Flair Airlines Ltd.\",\"Toronto, ON\",0.9746177749499035],[\"Data Analyst\",\"Baycrest\",\"Toronto, ON\",0.5611185632223618],[\"Data Scientist - Alternative Data and AI\",\"Royal Bank of Canada\",\"Toronto, ON\",0.6924401127246521],[\"Data Analyst\",\"WGames Inc.\",\"Toronto, ON\",0.9553396991306047],[\"Data scientist\",\"Autocase\",\"Toronto, ON\",0.836169450685422],[\"Data Scientist\",\"Dev House Labs\",\"Toronto, ON\",0.6234927861848112],[\"Data Scientist - Data Analytics and Infrastructure (remote)\",\"Ample Insight Inc.\",\"Toronto, ON\",0.7885954724872376],[\"Scene+ Data Scientist\",\"Cineplex\",\"Toronto, ON\",0.42844583374035367],[\"Data Scientist\",\"6ix\",\"Toronto, ON\",0.6774076019948835],[\"Data Scientist\",\"Deep Genomics\",\"Toronto, ON\",0.7135723356452086],[\"NLP Data Scientist (Remote)\",\"Wisedocs\",\"Toronto, ON\",0.7002499104555371],[\"Data Analyst\",\"Environics Analytics\",\"Toronto, ON\",0.6049782321150886],[\"Research Associate, Data Science & Statistics\",\"Humber River Hospital\",\"Greater Toronto Area, ON\",0.0],[\"AI Tool Expert - Innovate & Transform Our Business\",\"Grassfed Ventures\",\"Toronto, ON\",0.4326462830907492]],\"hovertemplate\":\"<b>Title:</b> %{customdata[0]}<br><b>Company:</b> %{customdata[1]}<br><b>Location:</b> %{customdata[2]}</br><b>Similarity:</b> %{y:,.2f}<br><b>Keyword Coverage:</b> %{x:,.2f}<br><b>Weighted Keyword Frequency:</b> %{customdata[3]:,.2f}<br><extra></extra>\",\"marker\":{\"color\":[0.3733896376744647,0.32821822893470515,0.2630933801821816,0.26308656694600013,0.25948207214444435,0.2473799332736423,0.24588447827912116,0.2418218697764047,0.2346553281989436,0.22851798315699015,0.22671614593378878,0.21921041375823053,0.2152519691296991,0.2152470676346747,0.21082706629458614,0.2093250878875211,0.19647431082753908,0.19240345736538442,0.18600271505043364,0.17758815874786968,0.1668638753097524,0.1641719628490813,0.15038327776991622,0.09188298192607432,0.029091138706248815],\"colorscale\":[[0,\"rgba(252,76,1,1.0)\"],[0.25,\"rgba(252,76,1,0.5)\"],[0.5,\"rgba(83,128,141,0.25)\"],[0.75,\"rgba(83,128,141,0.5)\"],[1.0,\"rgba(83,128,141,1.0)\"]],\"size\":[47.815115105336844,50.0,40.75901142912963,40.738682415931606,39.88705387240435,47.35306567679333,33.08728957051219,37.313991729347784,42.61185577489183,28.82816591054308,21.002246751978117,48.73088874749518,28.05592816111809,34.62200563623261,47.76698495653024,41.808472534271104,31.17463930924056,39.42977362436188,21.422291687017683,33.870380099744175,35.678616782260434,35.01249552277685,30.24891160575443,0.0,21.63231415453746]},\"mode\":\"markers\",\"x\":[0.7777777777777778,0.75,0.5769230769230769,0.75,0.6666666666666666,0.8888888888888888,0.7931034482758621,0.7317073170731707,0.8695652173913043,0.68,0.7142857142857143,0.8076923076923077,0.6470588235294118,0.47058823529411764,0.7692307692307693,0.7142857142857143,0.6666666666666666,0.7727272727272727,0.5945945945945946,0.6428571428571429,0.75,0.5675675675675675,0.7727272727272727,0.75,0.0],\"y\":[0.3733896376744647,0.32821822893470515,0.2630933801821816,0.26308656694600013,0.25948207214444435,0.2473799332736423,0.24588447827912116,0.2418218697764047,0.2346553281989436,0.22851798315699015,0.22671614593378878,0.21921041375823053,0.2152519691296991,0.2152470676346747,0.21082706629458614,0.2093250878875211,0.19647431082753908,0.19240345736538442,0.18600271505043364,0.17758815874786968,0.1668638753097524,0.1641719628490813,0.15038327776991622,0.09188298192607432,0.029091138706248815],\"type\":\"scatter\"}],                        {\"template\":{\"data\":{\"barpolar\":[{\"marker\":{\"line\":{\"color\":\"white\",\"width\":0.5},\"pattern\":{\"fillmode\":\"overlay\",\"size\":10,\"solidity\":0.2}},\"type\":\"barpolar\"}],\"bar\":[{\"error_x\":{\"color\":\"#2a3f5f\"},\"error_y\":{\"color\":\"#2a3f5f\"},\"marker\":{\"line\":{\"color\":\"white\",\"width\":0.5},\"pattern\":{\"fillmode\":\"overlay\",\"size\":10,\"solidity\":0.2}},\"type\":\"bar\"}],\"carpet\":[{\"aaxis\":{\"endlinecolor\":\"#2a3f5f\",\"gridcolor\":\"#C8D4E3\",\"linecolor\":\"#C8D4E3\",\"minorgridcolor\":\"#C8D4E3\",\"startlinecolor\":\"#2a3f5f\"},\"baxis\":{\"endlinecolor\":\"#2a3f5f\",\"gridcolor\":\"#C8D4E3\",\"linecolor\":\"#C8D4E3\",\"minorgridcolor\":\"#C8D4E3\",\"startlinecolor\":\"#2a3f5f\"},\"type\":\"carpet\"}],\"choropleth\":[{\"colorbar\":{\"outlinewidth\":0,\"ticks\":\"\"},\"type\":\"choropleth\"}],\"contourcarpet\":[{\"colorbar\":{\"outlinewidth\":0,\"ticks\":\"\"},\"type\":\"contourcarpet\"}],\"contour\":[{\"colorbar\":{\"outlinewidth\":0,\"ticks\":\"\"},\"colorscale\":[[0.0,\"#0d0887\"],[0.1111111111111111,\"#46039f\"],[0.2222222222222222,\"#7201a8\"],[0.3333333333333333,\"#9c179e\"],[0.4444444444444444,\"#bd3786\"],[0.5555555555555556,\"#d8576b\"],[0.6666666666666666,\"#ed7953\"],[0.7777777777777778,\"#fb9f3a\"],[0.8888888888888888,\"#fdca26\"],[1.0,\"#f0f921\"]],\"type\":\"contour\"}],\"heatmapgl\":[{\"colorbar\":{\"outlinewidth\":0,\"ticks\":\"\"},\"colorscale\":[[0.0,\"#0d0887\"],[0.1111111111111111,\"#46039f\"],[0.2222222222222222,\"#7201a8\"],[0.3333333333333333,\"#9c179e\"],[0.4444444444444444,\"#bd3786\"],[0.5555555555555556,\"#d8576b\"],[0.6666666666666666,\"#ed7953\"],[0.7777777777777778,\"#fb9f3a\"],[0.8888888888888888,\"#fdca26\"],[1.0,\"#f0f921\"]],\"type\":\"heatmapgl\"}],\"heatmap\":[{\"colorbar\":{\"outlinewidth\":0,\"ticks\":\"\"},\"colorscale\":[[0.0,\"#0d0887\"],[0.1111111111111111,\"#46039f\"],[0.2222222222222222,\"#7201a8\"],[0.3333333333333333,\"#9c179e\"],[0.4444444444444444,\"#bd3786\"],[0.5555555555555556,\"#d8576b\"],[0.6666666666666666,\"#ed7953\"],[0.7777777777777778,\"#fb9f3a\"],[0.8888888888888888,\"#fdca26\"],[1.0,\"#f0f921\"]],\"type\":\"heatmap\"}],\"histogram2dcontour\":[{\"colorbar\":{\"outlinewidth\":0,\"ticks\":\"\"},\"colorscale\":[[0.0,\"#0d0887\"],[0.1111111111111111,\"#46039f\"],[0.2222222222222222,\"#7201a8\"],[0.3333333333333333,\"#9c179e\"],[0.4444444444444444,\"#bd3786\"],[0.5555555555555556,\"#d8576b\"],[0.6666666666666666,\"#ed7953\"],[0.7777777777777778,\"#fb9f3a\"],[0.8888888888888888,\"#fdca26\"],[1.0,\"#f0f921\"]],\"type\":\"histogram2dcontour\"}],\"histogram2d\":[{\"colorbar\":{\"outlinewidth\":0,\"ticks\":\"\"},\"colorscale\":[[0.0,\"#0d0887\"],[0.1111111111111111,\"#46039f\"],[0.2222222222222222,\"#7201a8\"],[0.3333333333333333,\"#9c179e\"],[0.4444444444444444,\"#bd3786\"],[0.5555555555555556,\"#d8576b\"],[0.6666666666666666,\"#ed7953\"],[0.7777777777777778,\"#fb9f3a\"],[0.8888888888888888,\"#fdca26\"],[1.0,\"#f0f921\"]],\"type\":\"histogram2d\"}],\"histogram\":[{\"marker\":{\"pattern\":{\"fillmode\":\"overlay\",\"size\":10,\"solidity\":0.2}},\"type\":\"histogram\"}],\"mesh3d\":[{\"colorbar\":{\"outlinewidth\":0,\"ticks\":\"\"},\"type\":\"mesh3d\"}],\"parcoords\":[{\"line\":{\"colorbar\":{\"outlinewidth\":0,\"ticks\":\"\"}},\"type\":\"parcoords\"}],\"pie\":[{\"automargin\":true,\"type\":\"pie\"}],\"scatter3d\":[{\"line\":{\"colorbar\":{\"outlinewidth\":0,\"ticks\":\"\"}},\"marker\":{\"colorbar\":{\"outlinewidth\":0,\"ticks\":\"\"}},\"type\":\"scatter3d\"}],\"scattercarpet\":[{\"marker\":{\"colorbar\":{\"outlinewidth\":0,\"ticks\":\"\"}},\"type\":\"scattercarpet\"}],\"scattergeo\":[{\"marker\":{\"colorbar\":{\"outlinewidth\":0,\"ticks\":\"\"}},\"type\":\"scattergeo\"}],\"scattergl\":[{\"marker\":{\"colorbar\":{\"outlinewidth\":0,\"ticks\":\"\"}},\"type\":\"scattergl\"}],\"scattermapbox\":[{\"marker\":{\"colorbar\":{\"outlinewidth\":0,\"ticks\":\"\"}},\"type\":\"scattermapbox\"}],\"scatterpolargl\":[{\"marker\":{\"colorbar\":{\"outlinewidth\":0,\"ticks\":\"\"}},\"type\":\"scatterpolargl\"}],\"scatterpolar\":[{\"marker\":{\"colorbar\":{\"outlinewidth\":0,\"ticks\":\"\"}},\"type\":\"scatterpolar\"}],\"scatter\":[{\"fillpattern\":{\"fillmode\":\"overlay\",\"size\":10,\"solidity\":0.2},\"type\":\"scatter\"}],\"scatterternary\":[{\"marker\":{\"colorbar\":{\"outlinewidth\":0,\"ticks\":\"\"}},\"type\":\"scatterternary\"}],\"surface\":[{\"colorbar\":{\"outlinewidth\":0,\"ticks\":\"\"},\"colorscale\":[[0.0,\"#0d0887\"],[0.1111111111111111,\"#46039f\"],[0.2222222222222222,\"#7201a8\"],[0.3333333333333333,\"#9c179e\"],[0.4444444444444444,\"#bd3786\"],[0.5555555555555556,\"#d8576b\"],[0.6666666666666666,\"#ed7953\"],[0.7777777777777778,\"#fb9f3a\"],[0.8888888888888888,\"#fdca26\"],[1.0,\"#f0f921\"]],\"type\":\"surface\"}],\"table\":[{\"cells\":{\"fill\":{\"color\":\"#EBF0F8\"},\"line\":{\"color\":\"white\"}},\"header\":{\"fill\":{\"color\":\"#C8D4E3\"},\"line\":{\"color\":\"white\"}},\"type\":\"table\"}]},\"layout\":{\"annotationdefaults\":{\"arrowcolor\":\"#2a3f5f\",\"arrowhead\":0,\"arrowwidth\":1},\"autotypenumbers\":\"strict\",\"coloraxis\":{\"colorbar\":{\"outlinewidth\":0,\"ticks\":\"\"}},\"colorscale\":{\"diverging\":[[0,\"#8e0152\"],[0.1,\"#c51b7d\"],[0.2,\"#de77ae\"],[0.3,\"#f1b6da\"],[0.4,\"#fde0ef\"],[0.5,\"#f7f7f7\"],[0.6,\"#e6f5d0\"],[0.7,\"#b8e186\"],[0.8,\"#7fbc41\"],[0.9,\"#4d9221\"],[1,\"#276419\"]],\"sequential\":[[0.0,\"#0d0887\"],[0.1111111111111111,\"#46039f\"],[0.2222222222222222,\"#7201a8\"],[0.3333333333333333,\"#9c179e\"],[0.4444444444444444,\"#bd3786\"],[0.5555555555555556,\"#d8576b\"],[0.6666666666666666,\"#ed7953\"],[0.7777777777777778,\"#fb9f3a\"],[0.8888888888888888,\"#fdca26\"],[1.0,\"#f0f921\"]],\"sequentialminus\":[[0.0,\"#0d0887\"],[0.1111111111111111,\"#46039f\"],[0.2222222222222222,\"#7201a8\"],[0.3333333333333333,\"#9c179e\"],[0.4444444444444444,\"#bd3786\"],[0.5555555555555556,\"#d8576b\"],[0.6666666666666666,\"#ed7953\"],[0.7777777777777778,\"#fb9f3a\"],[0.8888888888888888,\"#fdca26\"],[1.0,\"#f0f921\"]]},\"colorway\":[\"#636efa\",\"#EF553B\",\"#00cc96\",\"#ab63fa\",\"#FFA15A\",\"#19d3f3\",\"#FF6692\",\"#B6E880\",\"#FF97FF\",\"#FECB52\"],\"font\":{\"color\":\"#2a3f5f\"},\"geo\":{\"bgcolor\":\"white\",\"lakecolor\":\"white\",\"landcolor\":\"white\",\"showlakes\":true,\"showland\":true,\"subunitcolor\":\"#C8D4E3\"},\"hoverlabel\":{\"align\":\"left\"},\"hovermode\":\"closest\",\"mapbox\":{\"style\":\"light\"},\"paper_bgcolor\":\"white\",\"plot_bgcolor\":\"white\",\"polar\":{\"angularaxis\":{\"gridcolor\":\"#EBF0F8\",\"linecolor\":\"#EBF0F8\",\"ticks\":\"\"},\"bgcolor\":\"white\",\"radialaxis\":{\"gridcolor\":\"#EBF0F8\",\"linecolor\":\"#EBF0F8\",\"ticks\":\"\"}},\"scene\":{\"xaxis\":{\"backgroundcolor\":\"white\",\"gridcolor\":\"#DFE8F3\",\"gridwidth\":2,\"linecolor\":\"#EBF0F8\",\"showbackground\":true,\"ticks\":\"\",\"zerolinecolor\":\"#EBF0F8\"},\"yaxis\":{\"backgroundcolor\":\"white\",\"gridcolor\":\"#DFE8F3\",\"gridwidth\":2,\"linecolor\":\"#EBF0F8\",\"showbackground\":true,\"ticks\":\"\",\"zerolinecolor\":\"#EBF0F8\"},\"zaxis\":{\"backgroundcolor\":\"white\",\"gridcolor\":\"#DFE8F3\",\"gridwidth\":2,\"linecolor\":\"#EBF0F8\",\"showbackground\":true,\"ticks\":\"\",\"zerolinecolor\":\"#EBF0F8\"}},\"shapedefaults\":{\"line\":{\"color\":\"#2a3f5f\"}},\"ternary\":{\"aaxis\":{\"gridcolor\":\"#DFE8F3\",\"linecolor\":\"#A2B1C6\",\"ticks\":\"\"},\"baxis\":{\"gridcolor\":\"#DFE8F3\",\"linecolor\":\"#A2B1C6\",\"ticks\":\"\"},\"bgcolor\":\"white\",\"caxis\":{\"gridcolor\":\"#DFE8F3\",\"linecolor\":\"#A2B1C6\",\"ticks\":\"\"}},\"title\":{\"x\":0.05},\"xaxis\":{\"automargin\":true,\"gridcolor\":\"#EBF0F8\",\"linecolor\":\"#EBF0F8\",\"ticks\":\"\",\"title\":{\"standoff\":15},\"zerolinecolor\":\"#EBF0F8\",\"zerolinewidth\":2},\"yaxis\":{\"automargin\":true,\"gridcolor\":\"#EBF0F8\",\"linecolor\":\"#EBF0F8\",\"ticks\":\"\",\"title\":{\"standoff\":15},\"zerolinecolor\":\"#EBF0F8\",\"zerolinewidth\":2}}},\"xaxis\":{\"title\":{\"text\":\"Keyword Coverge (%)\"},\"range\":[0,1.0]},\"yaxis\":{\"title\":{\"text\":\"Similarity Score\"},\"range\":[0,1.0]},\"title\":{\"text\":\"Resume Similarity to Job Listings\"},\"width\":800,\"height\":500},                        {\"responsive\": true}                    ).then(function(){\n",
       "                            \n",
       "var gd = document.getElementById('4b161ce2-2310-46d4-9c26-2f5a5caa0a92');\n",
       "var x = new MutationObserver(function (mutations, observer) {{\n",
       "        var display = window.getComputedStyle(gd).display;\n",
       "        if (!display || display === 'none') {{\n",
       "            console.log([gd, 'removed!']);\n",
       "            Plotly.purge(gd);\n",
       "            observer.disconnect();\n",
       "        }}\n",
       "}});\n",
       "\n",
       "// Listen for the removal of the full notebook cells\n",
       "var notebookContainer = gd.closest('#notebook-container');\n",
       "if (notebookContainer) {{\n",
       "    x.observe(notebookContainer, {childList: true});\n",
       "}}\n",
       "\n",
       "// Listen for the clearing of the current output cell\n",
       "var outputEl = gd.closest('.output');\n",
       "if (outputEl) {{\n",
       "    x.observe(outputEl, {childList: true});\n",
       "}}\n",
       "\n",
       "                        })                };                });            </script>        </div>"
      ]
     },
     "metadata": {},
     "output_type": "display_data"
    }
   ],
   "source": [
    "# plot similarities to resume\n",
    "plot_similarity_scores(df_r)"
   ]
  },
  {
   "cell_type": "code",
   "execution_count": 637,
   "id": "08089e15",
   "metadata": {},
   "outputs": [
    {
     "data": {
      "text/html": [
       "<div>\n",
       "<style scoped>\n",
       "    .dataframe tbody tr th:only-of-type {\n",
       "        vertical-align: middle;\n",
       "    }\n",
       "\n",
       "    .dataframe tbody tr th {\n",
       "        vertical-align: top;\n",
       "    }\n",
       "\n",
       "    .dataframe thead th {\n",
       "        text-align: right;\n",
       "    }\n",
       "</style>\n",
       "<table border=\"1\" class=\"dataframe\">\n",
       "  <thead>\n",
       "    <tr style=\"text-align: right;\">\n",
       "      <th></th>\n",
       "      <th>title</th>\n",
       "      <th>company</th>\n",
       "      <th>location</th>\n",
       "      <th>similarity-score</th>\n",
       "      <th>keyword-coverage</th>\n",
       "      <th>keyword-wt</th>\n",
       "      <th>keywords-missing</th>\n",
       "    </tr>\n",
       "  </thead>\n",
       "  <tbody>\n",
       "    <tr>\n",
       "      <th>10</th>\n",
       "      <td>Sr. Data Analyst</td>\n",
       "      <td>Ontario College Of Pharmacists Ordre des Pharm...</td>\n",
       "      <td>Toronto, ON</td>\n",
       "      <td>0.381950</td>\n",
       "      <td>0.805556</td>\n",
       "      <td>5.277778</td>\n",
       "      <td>{mathematics, matlab, computer science, infras...</td>\n",
       "    </tr>\n",
       "    <tr>\n",
       "      <th>1</th>\n",
       "      <td>Data Analyst</td>\n",
       "      <td>Brik Partners</td>\n",
       "      <td>Toronto, ON</td>\n",
       "      <td>0.324294</td>\n",
       "      <td>0.750000</td>\n",
       "      <td>5.441860</td>\n",
       "      <td>{matlab, metadata, data analysis skills, compu...</td>\n",
       "    </tr>\n",
       "    <tr>\n",
       "      <th>21</th>\n",
       "      <td>Senior Data Analyst</td>\n",
       "      <td>Thentia</td>\n",
       "      <td>Toronto, ON</td>\n",
       "      <td>0.266259</td>\n",
       "      <td>0.576923</td>\n",
       "      <td>3.883721</td>\n",
       "      <td>{saas, ai, computer science, insights, big dat...</td>\n",
       "    </tr>\n",
       "    <tr>\n",
       "      <th>23</th>\n",
       "      <td>Data Scientist</td>\n",
       "      <td>Focal Systems</td>\n",
       "      <td>Toronto, ON</td>\n",
       "      <td>0.261883</td>\n",
       "      <td>0.750000</td>\n",
       "      <td>3.702703</td>\n",
       "      <td>{ai, computer science, infrastructure, insight...</td>\n",
       "    </tr>\n",
       "    <tr>\n",
       "      <th>8</th>\n",
       "      <td>Data Scientist</td>\n",
       "      <td>Clearco</td>\n",
       "      <td>Toronto, ON</td>\n",
       "      <td>0.261634</td>\n",
       "      <td>0.696970</td>\n",
       "      <td>3.491803</td>\n",
       "      <td>{ml, infrastructure, code, insurance, data eng...</td>\n",
       "    </tr>\n",
       "    <tr>\n",
       "      <th>0</th>\n",
       "      <td>Data Scientist</td>\n",
       "      <td>Wish</td>\n",
       "      <td>Toronto, ON</td>\n",
       "      <td>0.249669</td>\n",
       "      <td>0.833333</td>\n",
       "      <td>5.033333</td>\n",
       "      <td>{mongodb, master’s degree, insights}</td>\n",
       "    </tr>\n",
       "    <tr>\n",
       "      <th>4</th>\n",
       "      <td>Data Analyst</td>\n",
       "      <td>Connexall</td>\n",
       "      <td>North York, ON</td>\n",
       "      <td>0.248815</td>\n",
       "      <td>0.758621</td>\n",
       "      <td>1.958333</td>\n",
       "      <td>{workflow, computer science, insights, looker,...</td>\n",
       "    </tr>\n",
       "    <tr>\n",
       "      <th>15</th>\n",
       "      <td>Data Scientist - Marketing Measurement &amp; Optim...</td>\n",
       "      <td>ShyftLabs</td>\n",
       "      <td>Toronto, ON</td>\n",
       "      <td>0.239729</td>\n",
       "      <td>0.682927</td>\n",
       "      <td>2.772727</td>\n",
       "      <td>{communication skills, regression, master’s de...</td>\n",
       "    </tr>\n",
       "    <tr>\n",
       "      <th>14</th>\n",
       "      <td>Data Scientist, Crypto Investment Firm</td>\n",
       "      <td>Recruiting From Scratch</td>\n",
       "      <td>Toronto, ON</td>\n",
       "      <td>0.239557</td>\n",
       "      <td>0.782609</td>\n",
       "      <td>4.108108</td>\n",
       "      <td>{regression, insights, clustering, exploration...</td>\n",
       "    </tr>\n",
       "    <tr>\n",
       "      <th>24</th>\n",
       "      <td>VP of RevOps and Data Analytics</td>\n",
       "      <td>When I Work</td>\n",
       "      <td>Toronto, ON</td>\n",
       "      <td>0.231973</td>\n",
       "      <td>0.750000</td>\n",
       "      <td>-0.363636</td>\n",
       "      <td>{saas, infrastructure, insights, code, devops,...</td>\n",
       "    </tr>\n",
       "    <tr>\n",
       "      <th>22</th>\n",
       "      <td>Data Science and Analytics Specialist</td>\n",
       "      <td>Healthcare Consultancy Group</td>\n",
       "      <td>Toronto, ON</td>\n",
       "      <td>0.224468</td>\n",
       "      <td>0.680000</td>\n",
       "      <td>0.950820</td>\n",
       "      <td>{snowflake, communication skills, pharma, comp...</td>\n",
       "    </tr>\n",
       "    <tr>\n",
       "      <th>2</th>\n",
       "      <td>Data Analyst - Operations</td>\n",
       "      <td>Flair Airlines Ltd.</td>\n",
       "      <td>Toronto, ON</td>\n",
       "      <td>0.221136</td>\n",
       "      <td>0.807692</td>\n",
       "      <td>5.621622</td>\n",
       "      <td>{mathematics, communication skills, insurance,...</td>\n",
       "    </tr>\n",
       "    <tr>\n",
       "      <th>17</th>\n",
       "      <td>Data Analyst</td>\n",
       "      <td>Baycrest</td>\n",
       "      <td>Toronto, ON</td>\n",
       "      <td>0.216219</td>\n",
       "      <td>0.647059</td>\n",
       "      <td>0.853659</td>\n",
       "      <td>{biostatistics, computer science, insights, da...</td>\n",
       "    </tr>\n",
       "    <tr>\n",
       "      <th>3</th>\n",
       "      <td>Data Analyst</td>\n",
       "      <td>WGames Inc.</td>\n",
       "      <td>Toronto, ON</td>\n",
       "      <td>0.213387</td>\n",
       "      <td>0.730769</td>\n",
       "      <td>5.062500</td>\n",
       "      <td>{mathematics, dashboard, insights, software de...</td>\n",
       "    </tr>\n",
       "    <tr>\n",
       "      <th>9</th>\n",
       "      <td>Data Scientist - Alternative Data and AI</td>\n",
       "      <td>Royal Bank of Canada</td>\n",
       "      <td>Toronto, ON</td>\n",
       "      <td>0.212438</td>\n",
       "      <td>0.500000</td>\n",
       "      <td>2.566038</td>\n",
       "      <td>{exploratory data analysis, ai, financial serv...</td>\n",
       "    </tr>\n",
       "    <tr>\n",
       "      <th>7</th>\n",
       "      <td>Data scientist</td>\n",
       "      <td>Autocase</td>\n",
       "      <td>Toronto, ON</td>\n",
       "      <td>0.206581</td>\n",
       "      <td>0.785714</td>\n",
       "      <td>4.133333</td>\n",
       "      <td>{simulation, code, mathematics}</td>\n",
       "    </tr>\n",
       "    <tr>\n",
       "      <th>18</th>\n",
       "      <td>Data Scientist</td>\n",
       "      <td>Dev House Labs</td>\n",
       "      <td>Toronto, ON</td>\n",
       "      <td>0.197059</td>\n",
       "      <td>0.666667</td>\n",
       "      <td>1.804348</td>\n",
       "      <td>{hadoop, mathematics, communication skills, no...</td>\n",
       "    </tr>\n",
       "    <tr>\n",
       "      <th>12</th>\n",
       "      <td>Data Scientist - Data Analytics and Infrastruc...</td>\n",
       "      <td>Ample Insight Inc.</td>\n",
       "      <td>Toronto, ON</td>\n",
       "      <td>0.189328</td>\n",
       "      <td>0.772727</td>\n",
       "      <td>3.407407</td>\n",
       "      <td>{snowflake, computer science, devops, marketin...</td>\n",
       "    </tr>\n",
       "    <tr>\n",
       "      <th>19</th>\n",
       "      <td>Scene+ Data Scientist</td>\n",
       "      <td>Cineplex</td>\n",
       "      <td>Toronto, ON</td>\n",
       "      <td>0.181225</td>\n",
       "      <td>0.621622</td>\n",
       "      <td>-0.590909</td>\n",
       "      <td>{pytorch, mathematics, snowflake, computer sci...</td>\n",
       "    </tr>\n",
       "    <tr>\n",
       "      <th>13</th>\n",
       "      <td>Data Scientist</td>\n",
       "      <td>6ix</td>\n",
       "      <td>Toronto, ON</td>\n",
       "      <td>0.179506</td>\n",
       "      <td>0.678571</td>\n",
       "      <td>2.513514</td>\n",
       "      <td>{snowflake, linux, api, infrastructure, insigh...</td>\n",
       "    </tr>\n",
       "    <tr>\n",
       "      <th>11</th>\n",
       "      <td>NLP Data Scientist (Remote)</td>\n",
       "      <td>Wisedocs</td>\n",
       "      <td>Toronto, ON</td>\n",
       "      <td>0.165180</td>\n",
       "      <td>0.567568</td>\n",
       "      <td>2.666667</td>\n",
       "      <td>{pytorch, communication skills, ai, regression...</td>\n",
       "    </tr>\n",
       "    <tr>\n",
       "      <th>6</th>\n",
       "      <td>Data Scientist</td>\n",
       "      <td>Deep Genomics</td>\n",
       "      <td>Toronto, ON</td>\n",
       "      <td>0.163011</td>\n",
       "      <td>0.750000</td>\n",
       "      <td>2.640000</td>\n",
       "      <td>{computer science, unix, ai, cloud computing}</td>\n",
       "    </tr>\n",
       "    <tr>\n",
       "      <th>5</th>\n",
       "      <td>Data Analyst</td>\n",
       "      <td>Environics Analytics</td>\n",
       "      <td>Toronto, ON</td>\n",
       "      <td>0.149568</td>\n",
       "      <td>0.772727</td>\n",
       "      <td>1.216216</td>\n",
       "      <td>{communication skills, insights, marketing, pr...</td>\n",
       "    </tr>\n",
       "    <tr>\n",
       "      <th>16</th>\n",
       "      <td>Research Associate, Data Science &amp; Statistics</td>\n",
       "      <td>Humber River Hospital</td>\n",
       "      <td>Greater Toronto Area, ON</td>\n",
       "      <td>0.093445</td>\n",
       "      <td>0.750000</td>\n",
       "      <td>-5.363636</td>\n",
       "      <td>{computer science, phd, code, git}</td>\n",
       "    </tr>\n",
       "    <tr>\n",
       "      <th>20</th>\n",
       "      <td>AI Tool Expert - Innovate &amp; Transform Our Busi...</td>\n",
       "      <td>Grassfed Ventures</td>\n",
       "      <td>Toronto, ON</td>\n",
       "      <td>0.030426</td>\n",
       "      <td>0.000000</td>\n",
       "      <td>0.000000</td>\n",
       "      <td>{marketing, code, ai}</td>\n",
       "    </tr>\n",
       "  </tbody>\n",
       "</table>\n",
       "</div>"
      ],
      "text/plain": [
       "                                                title  \\\n",
       "10                                   Sr. Data Analyst   \n",
       "1                                        Data Analyst   \n",
       "21                                Senior Data Analyst   \n",
       "23                                     Data Scientist   \n",
       "8                                      Data Scientist   \n",
       "0                                      Data Scientist   \n",
       "4                                        Data Analyst   \n",
       "15  Data Scientist - Marketing Measurement & Optim...   \n",
       "14             Data Scientist, Crypto Investment Firm   \n",
       "24                    VP of RevOps and Data Analytics   \n",
       "22              Data Science and Analytics Specialist   \n",
       "2                           Data Analyst - Operations   \n",
       "17                                       Data Analyst   \n",
       "3                                        Data Analyst   \n",
       "9            Data Scientist - Alternative Data and AI   \n",
       "7                                      Data scientist   \n",
       "18                                     Data Scientist   \n",
       "12  Data Scientist - Data Analytics and Infrastruc...   \n",
       "19                              Scene+ Data Scientist   \n",
       "13                                     Data Scientist   \n",
       "11                        NLP Data Scientist (Remote)   \n",
       "6                                      Data Scientist   \n",
       "5                                        Data Analyst   \n",
       "16      Research Associate, Data Science & Statistics   \n",
       "20  AI Tool Expert - Innovate & Transform Our Busi...   \n",
       "\n",
       "                                              company  \\\n",
       "10  Ontario College Of Pharmacists Ordre des Pharm...   \n",
       "1                                       Brik Partners   \n",
       "21                                            Thentia   \n",
       "23                                      Focal Systems   \n",
       "8                                             Clearco   \n",
       "0                                                Wish   \n",
       "4                                           Connexall   \n",
       "15                                          ShyftLabs   \n",
       "14                            Recruiting From Scratch   \n",
       "24                                        When I Work   \n",
       "22                       Healthcare Consultancy Group   \n",
       "2                                 Flair Airlines Ltd.   \n",
       "17                                           Baycrest   \n",
       "3                                         WGames Inc.   \n",
       "9                                Royal Bank of Canada   \n",
       "7                                            Autocase   \n",
       "18                                     Dev House Labs   \n",
       "12                                 Ample Insight Inc.   \n",
       "19                                           Cineplex   \n",
       "13                                                6ix   \n",
       "11                                           Wisedocs   \n",
       "6                                       Deep Genomics   \n",
       "5                                Environics Analytics   \n",
       "16                              Humber River Hospital   \n",
       "20                                  Grassfed Ventures   \n",
       "\n",
       "                    location  similarity-score  keyword-coverage  keyword-wt  \\\n",
       "10               Toronto, ON          0.381950          0.805556    5.277778   \n",
       "1                Toronto, ON          0.324294          0.750000    5.441860   \n",
       "21               Toronto, ON          0.266259          0.576923    3.883721   \n",
       "23               Toronto, ON          0.261883          0.750000    3.702703   \n",
       "8                Toronto, ON          0.261634          0.696970    3.491803   \n",
       "0                Toronto, ON          0.249669          0.833333    5.033333   \n",
       "4             North York, ON          0.248815          0.758621    1.958333   \n",
       "15               Toronto, ON          0.239729          0.682927    2.772727   \n",
       "14               Toronto, ON          0.239557          0.782609    4.108108   \n",
       "24               Toronto, ON          0.231973          0.750000   -0.363636   \n",
       "22               Toronto, ON          0.224468          0.680000    0.950820   \n",
       "2                Toronto, ON          0.221136          0.807692    5.621622   \n",
       "17               Toronto, ON          0.216219          0.647059    0.853659   \n",
       "3                Toronto, ON          0.213387          0.730769    5.062500   \n",
       "9                Toronto, ON          0.212438          0.500000    2.566038   \n",
       "7                Toronto, ON          0.206581          0.785714    4.133333   \n",
       "18               Toronto, ON          0.197059          0.666667    1.804348   \n",
       "12               Toronto, ON          0.189328          0.772727    3.407407   \n",
       "19               Toronto, ON          0.181225          0.621622   -0.590909   \n",
       "13               Toronto, ON          0.179506          0.678571    2.513514   \n",
       "11               Toronto, ON          0.165180          0.567568    2.666667   \n",
       "6                Toronto, ON          0.163011          0.750000    2.640000   \n",
       "5                Toronto, ON          0.149568          0.772727    1.216216   \n",
       "16  Greater Toronto Area, ON          0.093445          0.750000   -5.363636   \n",
       "20               Toronto, ON          0.030426          0.000000    0.000000   \n",
       "\n",
       "                                     keywords-missing  \n",
       "10  {mathematics, matlab, computer science, infras...  \n",
       "1   {matlab, metadata, data analysis skills, compu...  \n",
       "21  {saas, ai, computer science, insights, big dat...  \n",
       "23  {ai, computer science, infrastructure, insight...  \n",
       "8   {ml, infrastructure, code, insurance, data eng...  \n",
       "0                {mongodb, master’s degree, insights}  \n",
       "4   {workflow, computer science, insights, looker,...  \n",
       "15  {communication skills, regression, master’s de...  \n",
       "14  {regression, insights, clustering, exploration...  \n",
       "24  {saas, infrastructure, insights, code, devops,...  \n",
       "22  {snowflake, communication skills, pharma, comp...  \n",
       "2   {mathematics, communication skills, insurance,...  \n",
       "17  {biostatistics, computer science, insights, da...  \n",
       "3   {mathematics, dashboard, insights, software de...  \n",
       "9   {exploratory data analysis, ai, financial serv...  \n",
       "7                     {simulation, code, mathematics}  \n",
       "18  {hadoop, mathematics, communication skills, no...  \n",
       "12  {snowflake, computer science, devops, marketin...  \n",
       "19  {pytorch, mathematics, snowflake, computer sci...  \n",
       "13  {snowflake, linux, api, infrastructure, insigh...  \n",
       "11  {pytorch, communication skills, ai, regression...  \n",
       "6       {computer science, unix, ai, cloud computing}  \n",
       "5   {communication skills, insights, marketing, pr...  \n",
       "16                 {computer science, phd, code, git}  \n",
       "20                              {marketing, code, ai}  "
      ]
     },
     "execution_count": 637,
     "metadata": {},
     "output_type": "execute_result"
    }
   ],
   "source": [
    "df_r1 = calc_similarities(r1,job_details,'data/terms.csv')\n",
    "df_r1"
   ]
  },
  {
   "cell_type": "code",
   "execution_count": 638,
   "id": "7d07cf58",
   "metadata": {},
   "outputs": [
    {
     "data": {
      "application/vnd.plotly.v1+json": {
       "config": {
        "plotlyServerURL": "https://plot.ly"
       },
       "data": [
        {
         "customdata": [
          [
           "Sr. Data Analyst",
           "Ontario College Of Pharmacists Ordre des Pharmaciens de L Ontario",
           "Toronto, ON",
           0.9686995203658142
          ],
          [
           "Data Analyst",
           "Brik Partners",
           "Toronto, ON",
           0.9836361461199566
          ],
          [
           "Senior Data Analyst",
           "Thentia",
           "Toronto, ON",
           0.8417970070688104
          ],
          [
           "Data Scientist",
           "Focal Systems",
           "Toronto, ON",
           0.8253187206441511
          ],
          [
           "Data Scientist",
           "Clearco",
           "Toronto, ON",
           0.8061203163556765
          ],
          [
           "Data Scientist",
           "Wish",
           "Toronto, ON",
           0.9464474763289347
          ],
          [
           "Data Analyst",
           "Connexall",
           "North York, ON",
           0.66652687691046
          ],
          [
           "Data Scientist - Marketing Measurement & Optimization",
           "ShyftLabs",
           "Toronto, ON",
           0.7406620442853948
          ],
          [
           "Data Scientist, Crypto Investment Firm",
           "Recruiting From Scratch",
           "Toronto, ON",
           0.8622232162827109
          ],
          [
           "VP of RevOps and Data Analytics",
           "When I Work",
           "Toronto, ON",
           0.45515544620890186
          ],
          [
           "Data Science and Analytics Specialist",
           "Healthcare Consultancy Group",
           "Toronto, ON",
           0.5748118109052509
          ],
          [
           "Data Analyst - Operations",
           "Flair Airlines Ltd.",
           "Toronto, ON",
           1
          ],
          [
           "Data Analyst",
           "Baycrest",
           "Toronto, ON",
           0.5659671269045502
          ],
          [
           "Data Analyst",
           "WGames Inc.",
           "Toronto, ON",
           0.9491025497651533
          ],
          [
           "Data Scientist - Alternative Data and AI",
           "Royal Bank of Canada",
           "Toronto, ON",
           0.7218468706084917
          ],
          [
           "Data scientist",
           "Autocase",
           "Toronto, ON",
           0.8645194960113323
          ],
          [
           "Data Scientist",
           "Dev House Labs",
           "Toronto, ON",
           0.6525094084583744
          ],
          [
           "Data Scientist - Data Analytics and Infrastructure (remote)",
           "Ample Insight Inc.",
           "Toronto, ON",
           0.7984376682654473
          ],
          [
           "Scene+ Data Scientist",
           "Cineplex",
           "Toronto, ON",
           0.4344665622903154
          ],
          [
           "Data Scientist",
           "6ix",
           "Toronto, ON",
           0.7170655334377097
          ],
          [
           "NLP Data Scientist (Remote)",
           "Wisedocs",
           "Toronto, ON",
           0.7310072317900544
          ],
          [
           "Data Scientist",
           "Deep Genomics",
           "Toronto, ON",
           0.7285797360769404
          ],
          [
           "Data Analyst",
           "Environics Analytics",
           "Toronto, ON",
           0.5989711473943189
          ],
          [
           "Research Associate, Data Science & Statistics",
           "Humber River Hospital",
           "Greater Toronto Area, ON",
           0
          ],
          [
           "AI Tool Expert - Innovate & Transform Our Business",
           "Grassfed Ventures",
           "Toronto, ON",
           0.4882576604786401
          ]
         ],
         "hovertemplate": "<b>Title:</b> %{customdata[0]}<br><b>Company:</b> %{customdata[1]}<br><b>Location:</b> %{customdata[2]}</br><b>Similarity:</b> %{y:,.2f}<br><b>Keyword Coverage:</b> %{x:,.2f}<br><b>Weighted Keyword Frequency:</b> %{customdata[3]:,.2f}<br><extra></extra>",
         "marker": {
          "color": [
           0.38194960016531,
           0.32429391559228893,
           0.2662592523517147,
           0.26188301263328756,
           0.2616340943962122,
           0.2496689772671758,
           0.248815187982244,
           0.23972905926611424,
           0.23955714948582704,
           0.23197332609107554,
           0.22446801338193528,
           0.2211356020045834,
           0.21621862769995798,
           0.2133869112234215,
           0.21243792872987294,
           0.2065807900942419,
           0.19705890718745797,
           0.18932754124581586,
           0.1812254041560842,
           0.17950556440995893,
           0.16517972990925875,
           0.16301071702941694,
           0.1495678070928713,
           0.09344495770486805,
           0.030426418142691022
          ],
          "colorscale": [
           [
            0,
            "rgba(252,76,1,1.0)"
           ],
           [
            0.25,
            "rgba(252,76,1,0.5)"
           ],
           [
            0.5,
            "rgba(83,128,141,0.25)"
           ],
           [
            0.75,
            "rgba(83,128,141,0.5)"
           ],
           [
            1,
            "rgba(83,128,141,1.0)"
           ]
          ],
          "size": [
           48.43497601829071,
           49.18180730599783,
           42.089850353440525,
           41.265936032207556,
           40.30601581778382,
           47.322373816446735,
           33.326343845523,
           37.03310221426974,
           43.111160814135545,
           22.757772310445095,
           28.740590545262545,
           50,
           28.29835634522751,
           47.455127488257666,
           36.092343530424586,
           43.22597480056661,
           32.62547042291872,
           39.92188341327236,
           21.72332811451577,
           35.85327667188549,
           36.55036158950272,
           36.42898680384702,
           29.948557369715946,
           0,
           24.412883023932004
          ]
         },
         "mode": "markers",
         "type": "scatter",
         "x": [
          0.8055555555555556,
          0.75,
          0.5769230769230769,
          0.75,
          0.696969696969697,
          0.8333333333333334,
          0.7586206896551724,
          0.6829268292682927,
          0.782608695652174,
          0.75,
          0.68,
          0.8076923076923077,
          0.6470588235294118,
          0.7307692307692307,
          0.5,
          0.7857142857142857,
          0.6666666666666666,
          0.7727272727272727,
          0.6216216216216216,
          0.6785714285714286,
          0.5675675675675675,
          0.75,
          0.7727272727272727,
          0.75,
          0
         ],
         "y": [
          0.38194960016531,
          0.32429391559228893,
          0.2662592523517147,
          0.26188301263328756,
          0.2616340943962122,
          0.2496689772671758,
          0.248815187982244,
          0.23972905926611424,
          0.23955714948582704,
          0.23197332609107554,
          0.22446801338193528,
          0.2211356020045834,
          0.21621862769995798,
          0.2133869112234215,
          0.21243792872987294,
          0.2065807900942419,
          0.19705890718745797,
          0.18932754124581586,
          0.1812254041560842,
          0.17950556440995893,
          0.16517972990925875,
          0.16301071702941694,
          0.1495678070928713,
          0.09344495770486805,
          0.030426418142691022
         ]
        }
       ],
       "layout": {
        "height": 500,
        "template": {
         "data": {
          "bar": [
           {
            "error_x": {
             "color": "#2a3f5f"
            },
            "error_y": {
             "color": "#2a3f5f"
            },
            "marker": {
             "line": {
              "color": "white",
              "width": 0.5
             },
             "pattern": {
              "fillmode": "overlay",
              "size": 10,
              "solidity": 0.2
             }
            },
            "type": "bar"
           }
          ],
          "barpolar": [
           {
            "marker": {
             "line": {
              "color": "white",
              "width": 0.5
             },
             "pattern": {
              "fillmode": "overlay",
              "size": 10,
              "solidity": 0.2
             }
            },
            "type": "barpolar"
           }
          ],
          "carpet": [
           {
            "aaxis": {
             "endlinecolor": "#2a3f5f",
             "gridcolor": "#C8D4E3",
             "linecolor": "#C8D4E3",
             "minorgridcolor": "#C8D4E3",
             "startlinecolor": "#2a3f5f"
            },
            "baxis": {
             "endlinecolor": "#2a3f5f",
             "gridcolor": "#C8D4E3",
             "linecolor": "#C8D4E3",
             "minorgridcolor": "#C8D4E3",
             "startlinecolor": "#2a3f5f"
            },
            "type": "carpet"
           }
          ],
          "choropleth": [
           {
            "colorbar": {
             "outlinewidth": 0,
             "ticks": ""
            },
            "type": "choropleth"
           }
          ],
          "contour": [
           {
            "colorbar": {
             "outlinewidth": 0,
             "ticks": ""
            },
            "colorscale": [
             [
              0,
              "#0d0887"
             ],
             [
              0.1111111111111111,
              "#46039f"
             ],
             [
              0.2222222222222222,
              "#7201a8"
             ],
             [
              0.3333333333333333,
              "#9c179e"
             ],
             [
              0.4444444444444444,
              "#bd3786"
             ],
             [
              0.5555555555555556,
              "#d8576b"
             ],
             [
              0.6666666666666666,
              "#ed7953"
             ],
             [
              0.7777777777777778,
              "#fb9f3a"
             ],
             [
              0.8888888888888888,
              "#fdca26"
             ],
             [
              1,
              "#f0f921"
             ]
            ],
            "type": "contour"
           }
          ],
          "contourcarpet": [
           {
            "colorbar": {
             "outlinewidth": 0,
             "ticks": ""
            },
            "type": "contourcarpet"
           }
          ],
          "heatmap": [
           {
            "colorbar": {
             "outlinewidth": 0,
             "ticks": ""
            },
            "colorscale": [
             [
              0,
              "#0d0887"
             ],
             [
              0.1111111111111111,
              "#46039f"
             ],
             [
              0.2222222222222222,
              "#7201a8"
             ],
             [
              0.3333333333333333,
              "#9c179e"
             ],
             [
              0.4444444444444444,
              "#bd3786"
             ],
             [
              0.5555555555555556,
              "#d8576b"
             ],
             [
              0.6666666666666666,
              "#ed7953"
             ],
             [
              0.7777777777777778,
              "#fb9f3a"
             ],
             [
              0.8888888888888888,
              "#fdca26"
             ],
             [
              1,
              "#f0f921"
             ]
            ],
            "type": "heatmap"
           }
          ],
          "heatmapgl": [
           {
            "colorbar": {
             "outlinewidth": 0,
             "ticks": ""
            },
            "colorscale": [
             [
              0,
              "#0d0887"
             ],
             [
              0.1111111111111111,
              "#46039f"
             ],
             [
              0.2222222222222222,
              "#7201a8"
             ],
             [
              0.3333333333333333,
              "#9c179e"
             ],
             [
              0.4444444444444444,
              "#bd3786"
             ],
             [
              0.5555555555555556,
              "#d8576b"
             ],
             [
              0.6666666666666666,
              "#ed7953"
             ],
             [
              0.7777777777777778,
              "#fb9f3a"
             ],
             [
              0.8888888888888888,
              "#fdca26"
             ],
             [
              1,
              "#f0f921"
             ]
            ],
            "type": "heatmapgl"
           }
          ],
          "histogram": [
           {
            "marker": {
             "pattern": {
              "fillmode": "overlay",
              "size": 10,
              "solidity": 0.2
             }
            },
            "type": "histogram"
           }
          ],
          "histogram2d": [
           {
            "colorbar": {
             "outlinewidth": 0,
             "ticks": ""
            },
            "colorscale": [
             [
              0,
              "#0d0887"
             ],
             [
              0.1111111111111111,
              "#46039f"
             ],
             [
              0.2222222222222222,
              "#7201a8"
             ],
             [
              0.3333333333333333,
              "#9c179e"
             ],
             [
              0.4444444444444444,
              "#bd3786"
             ],
             [
              0.5555555555555556,
              "#d8576b"
             ],
             [
              0.6666666666666666,
              "#ed7953"
             ],
             [
              0.7777777777777778,
              "#fb9f3a"
             ],
             [
              0.8888888888888888,
              "#fdca26"
             ],
             [
              1,
              "#f0f921"
             ]
            ],
            "type": "histogram2d"
           }
          ],
          "histogram2dcontour": [
           {
            "colorbar": {
             "outlinewidth": 0,
             "ticks": ""
            },
            "colorscale": [
             [
              0,
              "#0d0887"
             ],
             [
              0.1111111111111111,
              "#46039f"
             ],
             [
              0.2222222222222222,
              "#7201a8"
             ],
             [
              0.3333333333333333,
              "#9c179e"
             ],
             [
              0.4444444444444444,
              "#bd3786"
             ],
             [
              0.5555555555555556,
              "#d8576b"
             ],
             [
              0.6666666666666666,
              "#ed7953"
             ],
             [
              0.7777777777777778,
              "#fb9f3a"
             ],
             [
              0.8888888888888888,
              "#fdca26"
             ],
             [
              1,
              "#f0f921"
             ]
            ],
            "type": "histogram2dcontour"
           }
          ],
          "mesh3d": [
           {
            "colorbar": {
             "outlinewidth": 0,
             "ticks": ""
            },
            "type": "mesh3d"
           }
          ],
          "parcoords": [
           {
            "line": {
             "colorbar": {
              "outlinewidth": 0,
              "ticks": ""
             }
            },
            "type": "parcoords"
           }
          ],
          "pie": [
           {
            "automargin": true,
            "type": "pie"
           }
          ],
          "scatter": [
           {
            "fillpattern": {
             "fillmode": "overlay",
             "size": 10,
             "solidity": 0.2
            },
            "type": "scatter"
           }
          ],
          "scatter3d": [
           {
            "line": {
             "colorbar": {
              "outlinewidth": 0,
              "ticks": ""
             }
            },
            "marker": {
             "colorbar": {
              "outlinewidth": 0,
              "ticks": ""
             }
            },
            "type": "scatter3d"
           }
          ],
          "scattercarpet": [
           {
            "marker": {
             "colorbar": {
              "outlinewidth": 0,
              "ticks": ""
             }
            },
            "type": "scattercarpet"
           }
          ],
          "scattergeo": [
           {
            "marker": {
             "colorbar": {
              "outlinewidth": 0,
              "ticks": ""
             }
            },
            "type": "scattergeo"
           }
          ],
          "scattergl": [
           {
            "marker": {
             "colorbar": {
              "outlinewidth": 0,
              "ticks": ""
             }
            },
            "type": "scattergl"
           }
          ],
          "scattermapbox": [
           {
            "marker": {
             "colorbar": {
              "outlinewidth": 0,
              "ticks": ""
             }
            },
            "type": "scattermapbox"
           }
          ],
          "scatterpolar": [
           {
            "marker": {
             "colorbar": {
              "outlinewidth": 0,
              "ticks": ""
             }
            },
            "type": "scatterpolar"
           }
          ],
          "scatterpolargl": [
           {
            "marker": {
             "colorbar": {
              "outlinewidth": 0,
              "ticks": ""
             }
            },
            "type": "scatterpolargl"
           }
          ],
          "scatterternary": [
           {
            "marker": {
             "colorbar": {
              "outlinewidth": 0,
              "ticks": ""
             }
            },
            "type": "scatterternary"
           }
          ],
          "surface": [
           {
            "colorbar": {
             "outlinewidth": 0,
             "ticks": ""
            },
            "colorscale": [
             [
              0,
              "#0d0887"
             ],
             [
              0.1111111111111111,
              "#46039f"
             ],
             [
              0.2222222222222222,
              "#7201a8"
             ],
             [
              0.3333333333333333,
              "#9c179e"
             ],
             [
              0.4444444444444444,
              "#bd3786"
             ],
             [
              0.5555555555555556,
              "#d8576b"
             ],
             [
              0.6666666666666666,
              "#ed7953"
             ],
             [
              0.7777777777777778,
              "#fb9f3a"
             ],
             [
              0.8888888888888888,
              "#fdca26"
             ],
             [
              1,
              "#f0f921"
             ]
            ],
            "type": "surface"
           }
          ],
          "table": [
           {
            "cells": {
             "fill": {
              "color": "#EBF0F8"
             },
             "line": {
              "color": "white"
             }
            },
            "header": {
             "fill": {
              "color": "#C8D4E3"
             },
             "line": {
              "color": "white"
             }
            },
            "type": "table"
           }
          ]
         },
         "layout": {
          "annotationdefaults": {
           "arrowcolor": "#2a3f5f",
           "arrowhead": 0,
           "arrowwidth": 1
          },
          "autotypenumbers": "strict",
          "coloraxis": {
           "colorbar": {
            "outlinewidth": 0,
            "ticks": ""
           }
          },
          "colorscale": {
           "diverging": [
            [
             0,
             "#8e0152"
            ],
            [
             0.1,
             "#c51b7d"
            ],
            [
             0.2,
             "#de77ae"
            ],
            [
             0.3,
             "#f1b6da"
            ],
            [
             0.4,
             "#fde0ef"
            ],
            [
             0.5,
             "#f7f7f7"
            ],
            [
             0.6,
             "#e6f5d0"
            ],
            [
             0.7,
             "#b8e186"
            ],
            [
             0.8,
             "#7fbc41"
            ],
            [
             0.9,
             "#4d9221"
            ],
            [
             1,
             "#276419"
            ]
           ],
           "sequential": [
            [
             0,
             "#0d0887"
            ],
            [
             0.1111111111111111,
             "#46039f"
            ],
            [
             0.2222222222222222,
             "#7201a8"
            ],
            [
             0.3333333333333333,
             "#9c179e"
            ],
            [
             0.4444444444444444,
             "#bd3786"
            ],
            [
             0.5555555555555556,
             "#d8576b"
            ],
            [
             0.6666666666666666,
             "#ed7953"
            ],
            [
             0.7777777777777778,
             "#fb9f3a"
            ],
            [
             0.8888888888888888,
             "#fdca26"
            ],
            [
             1,
             "#f0f921"
            ]
           ],
           "sequentialminus": [
            [
             0,
             "#0d0887"
            ],
            [
             0.1111111111111111,
             "#46039f"
            ],
            [
             0.2222222222222222,
             "#7201a8"
            ],
            [
             0.3333333333333333,
             "#9c179e"
            ],
            [
             0.4444444444444444,
             "#bd3786"
            ],
            [
             0.5555555555555556,
             "#d8576b"
            ],
            [
             0.6666666666666666,
             "#ed7953"
            ],
            [
             0.7777777777777778,
             "#fb9f3a"
            ],
            [
             0.8888888888888888,
             "#fdca26"
            ],
            [
             1,
             "#f0f921"
            ]
           ]
          },
          "colorway": [
           "#636efa",
           "#EF553B",
           "#00cc96",
           "#ab63fa",
           "#FFA15A",
           "#19d3f3",
           "#FF6692",
           "#B6E880",
           "#FF97FF",
           "#FECB52"
          ],
          "font": {
           "color": "#2a3f5f"
          },
          "geo": {
           "bgcolor": "white",
           "lakecolor": "white",
           "landcolor": "white",
           "showlakes": true,
           "showland": true,
           "subunitcolor": "#C8D4E3"
          },
          "hoverlabel": {
           "align": "left"
          },
          "hovermode": "closest",
          "mapbox": {
           "style": "light"
          },
          "paper_bgcolor": "white",
          "plot_bgcolor": "white",
          "polar": {
           "angularaxis": {
            "gridcolor": "#EBF0F8",
            "linecolor": "#EBF0F8",
            "ticks": ""
           },
           "bgcolor": "white",
           "radialaxis": {
            "gridcolor": "#EBF0F8",
            "linecolor": "#EBF0F8",
            "ticks": ""
           }
          },
          "scene": {
           "xaxis": {
            "backgroundcolor": "white",
            "gridcolor": "#DFE8F3",
            "gridwidth": 2,
            "linecolor": "#EBF0F8",
            "showbackground": true,
            "ticks": "",
            "zerolinecolor": "#EBF0F8"
           },
           "yaxis": {
            "backgroundcolor": "white",
            "gridcolor": "#DFE8F3",
            "gridwidth": 2,
            "linecolor": "#EBF0F8",
            "showbackground": true,
            "ticks": "",
            "zerolinecolor": "#EBF0F8"
           },
           "zaxis": {
            "backgroundcolor": "white",
            "gridcolor": "#DFE8F3",
            "gridwidth": 2,
            "linecolor": "#EBF0F8",
            "showbackground": true,
            "ticks": "",
            "zerolinecolor": "#EBF0F8"
           }
          },
          "shapedefaults": {
           "line": {
            "color": "#2a3f5f"
           }
          },
          "ternary": {
           "aaxis": {
            "gridcolor": "#DFE8F3",
            "linecolor": "#A2B1C6",
            "ticks": ""
           },
           "baxis": {
            "gridcolor": "#DFE8F3",
            "linecolor": "#A2B1C6",
            "ticks": ""
           },
           "bgcolor": "white",
           "caxis": {
            "gridcolor": "#DFE8F3",
            "linecolor": "#A2B1C6",
            "ticks": ""
           }
          },
          "title": {
           "x": 0.05
          },
          "xaxis": {
           "automargin": true,
           "gridcolor": "#EBF0F8",
           "linecolor": "#EBF0F8",
           "ticks": "",
           "title": {
            "standoff": 15
           },
           "zerolinecolor": "#EBF0F8",
           "zerolinewidth": 2
          },
          "yaxis": {
           "automargin": true,
           "gridcolor": "#EBF0F8",
           "linecolor": "#EBF0F8",
           "ticks": "",
           "title": {
            "standoff": 15
           },
           "zerolinecolor": "#EBF0F8",
           "zerolinewidth": 2
          }
         }
        },
        "title": {
         "text": "Resume Similarity to Job Listings"
        },
        "width": 800,
        "xaxis": {
         "range": [
          0,
          1
         ],
         "title": {
          "text": "Keyword Coverge (%)"
         }
        },
        "yaxis": {
         "range": [
          0,
          1
         ],
         "title": {
          "text": "Similarity Score"
         }
        }
       }
      },
      "text/html": [
       "<div>                            <div id=\"07fd4621-b7c3-4005-b798-182c5458af3c\" class=\"plotly-graph-div\" style=\"height:500px; width:800px;\"></div>            <script type=\"text/javascript\">                require([\"plotly\"], function(Plotly) {                    window.PLOTLYENV=window.PLOTLYENV || {};                                    if (document.getElementById(\"07fd4621-b7c3-4005-b798-182c5458af3c\")) {                    Plotly.newPlot(                        \"07fd4621-b7c3-4005-b798-182c5458af3c\",                        [{\"customdata\":[[\"Sr. Data Analyst\",\"Ontario College Of Pharmacists Ordre des Pharmaciens de L Ontario\",\"Toronto, ON\",0.9686995203658142],[\"Data Analyst\",\"Brik Partners\",\"Toronto, ON\",0.9836361461199566],[\"Senior Data Analyst\",\"Thentia\",\"Toronto, ON\",0.8417970070688104],[\"Data Scientist\",\"Focal Systems\",\"Toronto, ON\",0.8253187206441511],[\"Data Scientist\",\"Clearco\",\"Toronto, ON\",0.8061203163556765],[\"Data Scientist\",\"Wish\",\"Toronto, ON\",0.9464474763289347],[\"Data Analyst\",\"Connexall\",\"North York, ON\",0.66652687691046],[\"Data Scientist - Marketing Measurement & Optimization\",\"ShyftLabs\",\"Toronto, ON\",0.7406620442853948],[\"Data Scientist, Crypto Investment Firm\",\"Recruiting From Scratch\",\"Toronto, ON\",0.8622232162827109],[\"VP of RevOps and Data Analytics\",\"When I Work\",\"Toronto, ON\",0.45515544620890186],[\"Data Science and Analytics Specialist\",\"Healthcare Consultancy Group\",\"Toronto, ON\",0.5748118109052509],[\"Data Analyst - Operations\",\"Flair Airlines Ltd.\",\"Toronto, ON\",1.0],[\"Data Analyst\",\"Baycrest\",\"Toronto, ON\",0.5659671269045502],[\"Data Analyst\",\"WGames Inc.\",\"Toronto, ON\",0.9491025497651533],[\"Data Scientist - Alternative Data and AI\",\"Royal Bank of Canada\",\"Toronto, ON\",0.7218468706084917],[\"Data scientist\",\"Autocase\",\"Toronto, ON\",0.8645194960113323],[\"Data Scientist\",\"Dev House Labs\",\"Toronto, ON\",0.6525094084583744],[\"Data Scientist - Data Analytics and Infrastructure (remote)\",\"Ample Insight Inc.\",\"Toronto, ON\",0.7984376682654473],[\"Scene+ Data Scientist\",\"Cineplex\",\"Toronto, ON\",0.4344665622903154],[\"Data Scientist\",\"6ix\",\"Toronto, ON\",0.7170655334377097],[\"NLP Data Scientist (Remote)\",\"Wisedocs\",\"Toronto, ON\",0.7310072317900544],[\"Data Scientist\",\"Deep Genomics\",\"Toronto, ON\",0.7285797360769404],[\"Data Analyst\",\"Environics Analytics\",\"Toronto, ON\",0.5989711473943189],[\"Research Associate, Data Science & Statistics\",\"Humber River Hospital\",\"Greater Toronto Area, ON\",0.0],[\"AI Tool Expert - Innovate & Transform Our Business\",\"Grassfed Ventures\",\"Toronto, ON\",0.4882576604786401]],\"hovertemplate\":\"<b>Title:</b> %{customdata[0]}<br><b>Company:</b> %{customdata[1]}<br><b>Location:</b> %{customdata[2]}</br><b>Similarity:</b> %{y:,.2f}<br><b>Keyword Coverage:</b> %{x:,.2f}<br><b>Weighted Keyword Frequency:</b> %{customdata[3]:,.2f}<br><extra></extra>\",\"marker\":{\"color\":[0.38194960016531,0.32429391559228893,0.2662592523517147,0.26188301263328756,0.2616340943962122,0.2496689772671758,0.248815187982244,0.23972905926611424,0.23955714948582704,0.23197332609107554,0.22446801338193528,0.2211356020045834,0.21621862769995798,0.2133869112234215,0.21243792872987294,0.2065807900942419,0.19705890718745797,0.18932754124581586,0.1812254041560842,0.17950556440995893,0.16517972990925875,0.16301071702941694,0.1495678070928713,0.09344495770486805,0.030426418142691022],\"colorscale\":[[0,\"rgba(252,76,1,1.0)\"],[0.25,\"rgba(252,76,1,0.5)\"],[0.5,\"rgba(83,128,141,0.25)\"],[0.75,\"rgba(83,128,141,0.5)\"],[1.0,\"rgba(83,128,141,1.0)\"]],\"size\":[48.43497601829071,49.18180730599783,42.089850353440525,41.265936032207556,40.30601581778382,47.322373816446735,33.326343845523,37.03310221426974,43.111160814135545,22.757772310445095,28.740590545262545,50.0,28.29835634522751,47.455127488257666,36.092343530424586,43.22597480056661,32.62547042291872,39.92188341327236,21.72332811451577,35.85327667188549,36.55036158950272,36.42898680384702,29.948557369715946,0.0,24.412883023932004]},\"mode\":\"markers\",\"x\":[0.8055555555555556,0.75,0.5769230769230769,0.75,0.696969696969697,0.8333333333333334,0.7586206896551724,0.6829268292682927,0.782608695652174,0.75,0.68,0.8076923076923077,0.6470588235294118,0.7307692307692307,0.5,0.7857142857142857,0.6666666666666666,0.7727272727272727,0.6216216216216216,0.6785714285714286,0.5675675675675675,0.75,0.7727272727272727,0.75,0.0],\"y\":[0.38194960016531,0.32429391559228893,0.2662592523517147,0.26188301263328756,0.2616340943962122,0.2496689772671758,0.248815187982244,0.23972905926611424,0.23955714948582704,0.23197332609107554,0.22446801338193528,0.2211356020045834,0.21621862769995798,0.2133869112234215,0.21243792872987294,0.2065807900942419,0.19705890718745797,0.18932754124581586,0.1812254041560842,0.17950556440995893,0.16517972990925875,0.16301071702941694,0.1495678070928713,0.09344495770486805,0.030426418142691022],\"type\":\"scatter\"}],                        {\"template\":{\"data\":{\"barpolar\":[{\"marker\":{\"line\":{\"color\":\"white\",\"width\":0.5},\"pattern\":{\"fillmode\":\"overlay\",\"size\":10,\"solidity\":0.2}},\"type\":\"barpolar\"}],\"bar\":[{\"error_x\":{\"color\":\"#2a3f5f\"},\"error_y\":{\"color\":\"#2a3f5f\"},\"marker\":{\"line\":{\"color\":\"white\",\"width\":0.5},\"pattern\":{\"fillmode\":\"overlay\",\"size\":10,\"solidity\":0.2}},\"type\":\"bar\"}],\"carpet\":[{\"aaxis\":{\"endlinecolor\":\"#2a3f5f\",\"gridcolor\":\"#C8D4E3\",\"linecolor\":\"#C8D4E3\",\"minorgridcolor\":\"#C8D4E3\",\"startlinecolor\":\"#2a3f5f\"},\"baxis\":{\"endlinecolor\":\"#2a3f5f\",\"gridcolor\":\"#C8D4E3\",\"linecolor\":\"#C8D4E3\",\"minorgridcolor\":\"#C8D4E3\",\"startlinecolor\":\"#2a3f5f\"},\"type\":\"carpet\"}],\"choropleth\":[{\"colorbar\":{\"outlinewidth\":0,\"ticks\":\"\"},\"type\":\"choropleth\"}],\"contourcarpet\":[{\"colorbar\":{\"outlinewidth\":0,\"ticks\":\"\"},\"type\":\"contourcarpet\"}],\"contour\":[{\"colorbar\":{\"outlinewidth\":0,\"ticks\":\"\"},\"colorscale\":[[0.0,\"#0d0887\"],[0.1111111111111111,\"#46039f\"],[0.2222222222222222,\"#7201a8\"],[0.3333333333333333,\"#9c179e\"],[0.4444444444444444,\"#bd3786\"],[0.5555555555555556,\"#d8576b\"],[0.6666666666666666,\"#ed7953\"],[0.7777777777777778,\"#fb9f3a\"],[0.8888888888888888,\"#fdca26\"],[1.0,\"#f0f921\"]],\"type\":\"contour\"}],\"heatmapgl\":[{\"colorbar\":{\"outlinewidth\":0,\"ticks\":\"\"},\"colorscale\":[[0.0,\"#0d0887\"],[0.1111111111111111,\"#46039f\"],[0.2222222222222222,\"#7201a8\"],[0.3333333333333333,\"#9c179e\"],[0.4444444444444444,\"#bd3786\"],[0.5555555555555556,\"#d8576b\"],[0.6666666666666666,\"#ed7953\"],[0.7777777777777778,\"#fb9f3a\"],[0.8888888888888888,\"#fdca26\"],[1.0,\"#f0f921\"]],\"type\":\"heatmapgl\"}],\"heatmap\":[{\"colorbar\":{\"outlinewidth\":0,\"ticks\":\"\"},\"colorscale\":[[0.0,\"#0d0887\"],[0.1111111111111111,\"#46039f\"],[0.2222222222222222,\"#7201a8\"],[0.3333333333333333,\"#9c179e\"],[0.4444444444444444,\"#bd3786\"],[0.5555555555555556,\"#d8576b\"],[0.6666666666666666,\"#ed7953\"],[0.7777777777777778,\"#fb9f3a\"],[0.8888888888888888,\"#fdca26\"],[1.0,\"#f0f921\"]],\"type\":\"heatmap\"}],\"histogram2dcontour\":[{\"colorbar\":{\"outlinewidth\":0,\"ticks\":\"\"},\"colorscale\":[[0.0,\"#0d0887\"],[0.1111111111111111,\"#46039f\"],[0.2222222222222222,\"#7201a8\"],[0.3333333333333333,\"#9c179e\"],[0.4444444444444444,\"#bd3786\"],[0.5555555555555556,\"#d8576b\"],[0.6666666666666666,\"#ed7953\"],[0.7777777777777778,\"#fb9f3a\"],[0.8888888888888888,\"#fdca26\"],[1.0,\"#f0f921\"]],\"type\":\"histogram2dcontour\"}],\"histogram2d\":[{\"colorbar\":{\"outlinewidth\":0,\"ticks\":\"\"},\"colorscale\":[[0.0,\"#0d0887\"],[0.1111111111111111,\"#46039f\"],[0.2222222222222222,\"#7201a8\"],[0.3333333333333333,\"#9c179e\"],[0.4444444444444444,\"#bd3786\"],[0.5555555555555556,\"#d8576b\"],[0.6666666666666666,\"#ed7953\"],[0.7777777777777778,\"#fb9f3a\"],[0.8888888888888888,\"#fdca26\"],[1.0,\"#f0f921\"]],\"type\":\"histogram2d\"}],\"histogram\":[{\"marker\":{\"pattern\":{\"fillmode\":\"overlay\",\"size\":10,\"solidity\":0.2}},\"type\":\"histogram\"}],\"mesh3d\":[{\"colorbar\":{\"outlinewidth\":0,\"ticks\":\"\"},\"type\":\"mesh3d\"}],\"parcoords\":[{\"line\":{\"colorbar\":{\"outlinewidth\":0,\"ticks\":\"\"}},\"type\":\"parcoords\"}],\"pie\":[{\"automargin\":true,\"type\":\"pie\"}],\"scatter3d\":[{\"line\":{\"colorbar\":{\"outlinewidth\":0,\"ticks\":\"\"}},\"marker\":{\"colorbar\":{\"outlinewidth\":0,\"ticks\":\"\"}},\"type\":\"scatter3d\"}],\"scattercarpet\":[{\"marker\":{\"colorbar\":{\"outlinewidth\":0,\"ticks\":\"\"}},\"type\":\"scattercarpet\"}],\"scattergeo\":[{\"marker\":{\"colorbar\":{\"outlinewidth\":0,\"ticks\":\"\"}},\"type\":\"scattergeo\"}],\"scattergl\":[{\"marker\":{\"colorbar\":{\"outlinewidth\":0,\"ticks\":\"\"}},\"type\":\"scattergl\"}],\"scattermapbox\":[{\"marker\":{\"colorbar\":{\"outlinewidth\":0,\"ticks\":\"\"}},\"type\":\"scattermapbox\"}],\"scatterpolargl\":[{\"marker\":{\"colorbar\":{\"outlinewidth\":0,\"ticks\":\"\"}},\"type\":\"scatterpolargl\"}],\"scatterpolar\":[{\"marker\":{\"colorbar\":{\"outlinewidth\":0,\"ticks\":\"\"}},\"type\":\"scatterpolar\"}],\"scatter\":[{\"fillpattern\":{\"fillmode\":\"overlay\",\"size\":10,\"solidity\":0.2},\"type\":\"scatter\"}],\"scatterternary\":[{\"marker\":{\"colorbar\":{\"outlinewidth\":0,\"ticks\":\"\"}},\"type\":\"scatterternary\"}],\"surface\":[{\"colorbar\":{\"outlinewidth\":0,\"ticks\":\"\"},\"colorscale\":[[0.0,\"#0d0887\"],[0.1111111111111111,\"#46039f\"],[0.2222222222222222,\"#7201a8\"],[0.3333333333333333,\"#9c179e\"],[0.4444444444444444,\"#bd3786\"],[0.5555555555555556,\"#d8576b\"],[0.6666666666666666,\"#ed7953\"],[0.7777777777777778,\"#fb9f3a\"],[0.8888888888888888,\"#fdca26\"],[1.0,\"#f0f921\"]],\"type\":\"surface\"}],\"table\":[{\"cells\":{\"fill\":{\"color\":\"#EBF0F8\"},\"line\":{\"color\":\"white\"}},\"header\":{\"fill\":{\"color\":\"#C8D4E3\"},\"line\":{\"color\":\"white\"}},\"type\":\"table\"}]},\"layout\":{\"annotationdefaults\":{\"arrowcolor\":\"#2a3f5f\",\"arrowhead\":0,\"arrowwidth\":1},\"autotypenumbers\":\"strict\",\"coloraxis\":{\"colorbar\":{\"outlinewidth\":0,\"ticks\":\"\"}},\"colorscale\":{\"diverging\":[[0,\"#8e0152\"],[0.1,\"#c51b7d\"],[0.2,\"#de77ae\"],[0.3,\"#f1b6da\"],[0.4,\"#fde0ef\"],[0.5,\"#f7f7f7\"],[0.6,\"#e6f5d0\"],[0.7,\"#b8e186\"],[0.8,\"#7fbc41\"],[0.9,\"#4d9221\"],[1,\"#276419\"]],\"sequential\":[[0.0,\"#0d0887\"],[0.1111111111111111,\"#46039f\"],[0.2222222222222222,\"#7201a8\"],[0.3333333333333333,\"#9c179e\"],[0.4444444444444444,\"#bd3786\"],[0.5555555555555556,\"#d8576b\"],[0.6666666666666666,\"#ed7953\"],[0.7777777777777778,\"#fb9f3a\"],[0.8888888888888888,\"#fdca26\"],[1.0,\"#f0f921\"]],\"sequentialminus\":[[0.0,\"#0d0887\"],[0.1111111111111111,\"#46039f\"],[0.2222222222222222,\"#7201a8\"],[0.3333333333333333,\"#9c179e\"],[0.4444444444444444,\"#bd3786\"],[0.5555555555555556,\"#d8576b\"],[0.6666666666666666,\"#ed7953\"],[0.7777777777777778,\"#fb9f3a\"],[0.8888888888888888,\"#fdca26\"],[1.0,\"#f0f921\"]]},\"colorway\":[\"#636efa\",\"#EF553B\",\"#00cc96\",\"#ab63fa\",\"#FFA15A\",\"#19d3f3\",\"#FF6692\",\"#B6E880\",\"#FF97FF\",\"#FECB52\"],\"font\":{\"color\":\"#2a3f5f\"},\"geo\":{\"bgcolor\":\"white\",\"lakecolor\":\"white\",\"landcolor\":\"white\",\"showlakes\":true,\"showland\":true,\"subunitcolor\":\"#C8D4E3\"},\"hoverlabel\":{\"align\":\"left\"},\"hovermode\":\"closest\",\"mapbox\":{\"style\":\"light\"},\"paper_bgcolor\":\"white\",\"plot_bgcolor\":\"white\",\"polar\":{\"angularaxis\":{\"gridcolor\":\"#EBF0F8\",\"linecolor\":\"#EBF0F8\",\"ticks\":\"\"},\"bgcolor\":\"white\",\"radialaxis\":{\"gridcolor\":\"#EBF0F8\",\"linecolor\":\"#EBF0F8\",\"ticks\":\"\"}},\"scene\":{\"xaxis\":{\"backgroundcolor\":\"white\",\"gridcolor\":\"#DFE8F3\",\"gridwidth\":2,\"linecolor\":\"#EBF0F8\",\"showbackground\":true,\"ticks\":\"\",\"zerolinecolor\":\"#EBF0F8\"},\"yaxis\":{\"backgroundcolor\":\"white\",\"gridcolor\":\"#DFE8F3\",\"gridwidth\":2,\"linecolor\":\"#EBF0F8\",\"showbackground\":true,\"ticks\":\"\",\"zerolinecolor\":\"#EBF0F8\"},\"zaxis\":{\"backgroundcolor\":\"white\",\"gridcolor\":\"#DFE8F3\",\"gridwidth\":2,\"linecolor\":\"#EBF0F8\",\"showbackground\":true,\"ticks\":\"\",\"zerolinecolor\":\"#EBF0F8\"}},\"shapedefaults\":{\"line\":{\"color\":\"#2a3f5f\"}},\"ternary\":{\"aaxis\":{\"gridcolor\":\"#DFE8F3\",\"linecolor\":\"#A2B1C6\",\"ticks\":\"\"},\"baxis\":{\"gridcolor\":\"#DFE8F3\",\"linecolor\":\"#A2B1C6\",\"ticks\":\"\"},\"bgcolor\":\"white\",\"caxis\":{\"gridcolor\":\"#DFE8F3\",\"linecolor\":\"#A2B1C6\",\"ticks\":\"\"}},\"title\":{\"x\":0.05},\"xaxis\":{\"automargin\":true,\"gridcolor\":\"#EBF0F8\",\"linecolor\":\"#EBF0F8\",\"ticks\":\"\",\"title\":{\"standoff\":15},\"zerolinecolor\":\"#EBF0F8\",\"zerolinewidth\":2},\"yaxis\":{\"automargin\":true,\"gridcolor\":\"#EBF0F8\",\"linecolor\":\"#EBF0F8\",\"ticks\":\"\",\"title\":{\"standoff\":15},\"zerolinecolor\":\"#EBF0F8\",\"zerolinewidth\":2}}},\"xaxis\":{\"title\":{\"text\":\"Keyword Coverge (%)\"},\"range\":[0,1.0]},\"yaxis\":{\"title\":{\"text\":\"Similarity Score\"},\"range\":[0,1.0]},\"title\":{\"text\":\"Resume Similarity to Job Listings\"},\"width\":800,\"height\":500},                        {\"responsive\": true}                    ).then(function(){\n",
       "                            \n",
       "var gd = document.getElementById('07fd4621-b7c3-4005-b798-182c5458af3c');\n",
       "var x = new MutationObserver(function (mutations, observer) {{\n",
       "        var display = window.getComputedStyle(gd).display;\n",
       "        if (!display || display === 'none') {{\n",
       "            console.log([gd, 'removed!']);\n",
       "            Plotly.purge(gd);\n",
       "            observer.disconnect();\n",
       "        }}\n",
       "}});\n",
       "\n",
       "// Listen for the removal of the full notebook cells\n",
       "var notebookContainer = gd.closest('#notebook-container');\n",
       "if (notebookContainer) {{\n",
       "    x.observe(notebookContainer, {childList: true});\n",
       "}}\n",
       "\n",
       "// Listen for the clearing of the current output cell\n",
       "var outputEl = gd.closest('.output');\n",
       "if (outputEl) {{\n",
       "    x.observe(outputEl, {childList: true});\n",
       "}}\n",
       "\n",
       "                        })                };                });            </script>        </div>"
      ]
     },
     "metadata": {},
     "output_type": "display_data"
    }
   ],
   "source": [
    "plot_similarity_scores(df_r1)"
   ]
  },
  {
   "cell_type": "code",
   "execution_count": 539,
   "id": "fb494d4e",
   "metadata": {},
   "outputs": [
    {
     "data": {
      "text/html": [
       "<div>\n",
       "<style scoped>\n",
       "    .dataframe tbody tr th:only-of-type {\n",
       "        vertical-align: middle;\n",
       "    }\n",
       "\n",
       "    .dataframe tbody tr th {\n",
       "        vertical-align: top;\n",
       "    }\n",
       "\n",
       "    .dataframe thead th {\n",
       "        text-align: right;\n",
       "    }\n",
       "</style>\n",
       "<table border=\"1\" class=\"dataframe\">\n",
       "  <thead>\n",
       "    <tr style=\"text-align: right;\">\n",
       "      <th></th>\n",
       "      <th>title</th>\n",
       "      <th>company</th>\n",
       "      <th>location</th>\n",
       "      <th>similarity-score</th>\n",
       "      <th>keyword-coverage</th>\n",
       "      <th>keyword-wt</th>\n",
       "      <th>keywords-missing</th>\n",
       "    </tr>\n",
       "  </thead>\n",
       "  <tbody>\n",
       "    <tr>\n",
       "      <th>3</th>\n",
       "      <td>Sr. Data Analyst</td>\n",
       "      <td>Ontario College Of Pharmacists Ordre des Pharm...</td>\n",
       "      <td>Toronto, ON</td>\n",
       "      <td>0.397530</td>\n",
       "      <td>0.250000</td>\n",
       "      <td>-1.037037</td>\n",
       "      <td>{project management, python, data mining, infr...</td>\n",
       "    </tr>\n",
       "    <tr>\n",
       "      <th>6</th>\n",
       "      <td>Data Scientist</td>\n",
       "      <td>Arup</td>\n",
       "      <td>Toronto, ON</td>\n",
       "      <td>0.377605</td>\n",
       "      <td>0.268293</td>\n",
       "      <td>-2.208333</td>\n",
       "      <td>{python, data mining, pipelines, ml, insights,...</td>\n",
       "    </tr>\n",
       "    <tr>\n",
       "      <th>0</th>\n",
       "      <td>Data Scientist</td>\n",
       "      <td>Wish</td>\n",
       "      <td>Toronto, ON</td>\n",
       "      <td>0.328269</td>\n",
       "      <td>0.388889</td>\n",
       "      <td>0.033333</td>\n",
       "      <td>{data visualization, engineering, python, pipe...</td>\n",
       "    </tr>\n",
       "    <tr>\n",
       "      <th>1</th>\n",
       "      <td>Data Science Co-op (R&amp;D) - Summer term</td>\n",
       "      <td>Swift Medical</td>\n",
       "      <td>Toronto, ON</td>\n",
       "      <td>0.309663</td>\n",
       "      <td>0.333333</td>\n",
       "      <td>-2.037736</td>\n",
       "      <td>{predictive, ai, python, engineering, mentorin...</td>\n",
       "    </tr>\n",
       "    <tr>\n",
       "      <th>9</th>\n",
       "      <td>Sr. IT Data Analyst</td>\n",
       "      <td>TD Bank</td>\n",
       "      <td>Toronto, ON</td>\n",
       "      <td>0.306582</td>\n",
       "      <td>0.160000</td>\n",
       "      <td>-0.596491</td>\n",
       "      <td>{data profiling, project management, metadata,...</td>\n",
       "    </tr>\n",
       "    <tr>\n",
       "      <th>11</th>\n",
       "      <td>Senior Data Analyst</td>\n",
       "      <td>Sun Life</td>\n",
       "      <td>Toronto, ON</td>\n",
       "      <td>0.288357</td>\n",
       "      <td>0.250000</td>\n",
       "      <td>-0.820000</td>\n",
       "      <td>{python, insights, testing, sas, sql, options,...</td>\n",
       "    </tr>\n",
       "    <tr>\n",
       "      <th>12</th>\n",
       "      <td>Manager, Machine Learning and Advanced Analytics</td>\n",
       "      <td>MLSE</td>\n",
       "      <td>Toronto, ON</td>\n",
       "      <td>0.260264</td>\n",
       "      <td>0.263158</td>\n",
       "      <td>-0.820896</td>\n",
       "      <td>{project management, pipelines, insights, test...</td>\n",
       "    </tr>\n",
       "    <tr>\n",
       "      <th>2</th>\n",
       "      <td>Data Analyst - Operations</td>\n",
       "      <td>Flair Airlines Ltd.</td>\n",
       "      <td>Toronto, ON</td>\n",
       "      <td>0.255140</td>\n",
       "      <td>0.269231</td>\n",
       "      <td>-0.054054</td>\n",
       "      <td>{data profiling, python, pipelines, insights, ...</td>\n",
       "    </tr>\n",
       "    <tr>\n",
       "      <th>14</th>\n",
       "      <td>Senior Product Manager, Growth Marketing &amp; Ana...</td>\n",
       "      <td>Angi</td>\n",
       "      <td>Toronto, ON</td>\n",
       "      <td>0.254424</td>\n",
       "      <td>0.350000</td>\n",
       "      <td>-1.400000</td>\n",
       "      <td>{snowflake, engineering, features, project man...</td>\n",
       "    </tr>\n",
       "    <tr>\n",
       "      <th>5</th>\n",
       "      <td>Senior Data Scientist, Trust &amp; Safety and Supp...</td>\n",
       "      <td>Thumbtack</td>\n",
       "      <td>Toronto, ON</td>\n",
       "      <td>0.233622</td>\n",
       "      <td>0.322581</td>\n",
       "      <td>-0.360000</td>\n",
       "      <td>{python, infrastructure, insights, sql, econom...</td>\n",
       "    </tr>\n",
       "    <tr>\n",
       "      <th>18</th>\n",
       "      <td>Sr. Manager/ Associate Director - Pricing Anal...</td>\n",
       "      <td>Tiger Analytics</td>\n",
       "      <td>Toronto, ON</td>\n",
       "      <td>0.231583</td>\n",
       "      <td>0.400000</td>\n",
       "      <td>-2.645161</td>\n",
       "      <td>{consulting, project management, ai, leadershi...</td>\n",
       "    </tr>\n",
       "    <tr>\n",
       "      <th>8</th>\n",
       "      <td>Scientist II, Data Extraction</td>\n",
       "      <td>BenchSci</td>\n",
       "      <td>Toronto, ON</td>\n",
       "      <td>0.225498</td>\n",
       "      <td>0.111111</td>\n",
       "      <td>0.076923</td>\n",
       "      <td>{ai, python, ml, pipelines, msc, collaboration...</td>\n",
       "    </tr>\n",
       "    <tr>\n",
       "      <th>15</th>\n",
       "      <td>Senior Manager, Data and AI Risk</td>\n",
       "      <td>Scotiabank</td>\n",
       "      <td>Toronto, ON</td>\n",
       "      <td>0.217620</td>\n",
       "      <td>0.150000</td>\n",
       "      <td>-0.050000</td>\n",
       "      <td>{ai, metadata, banking, financial services, ma...</td>\n",
       "    </tr>\n",
       "    <tr>\n",
       "      <th>16</th>\n",
       "      <td>Senior Machine Learning Engineer, NLP (Remote)</td>\n",
       "      <td>BenchSci</td>\n",
       "      <td>Toronto, ON</td>\n",
       "      <td>0.181212</td>\n",
       "      <td>0.240000</td>\n",
       "      <td>-0.375000</td>\n",
       "      <td>{python, workflow, ml, infrastructure, pipelin...</td>\n",
       "    </tr>\n",
       "    <tr>\n",
       "      <th>17</th>\n",
       "      <td>Senior, Forensic Technology</td>\n",
       "      <td>EY</td>\n",
       "      <td>Toronto, ON</td>\n",
       "      <td>0.178735</td>\n",
       "      <td>0.250000</td>\n",
       "      <td>-1.060606</td>\n",
       "      <td>{consulting, project management, computer scie...</td>\n",
       "    </tr>\n",
       "    <tr>\n",
       "      <th>4</th>\n",
       "      <td>Data Science Manager - Contract</td>\n",
       "      <td>Scotiabank</td>\n",
       "      <td>Toronto, ON</td>\n",
       "      <td>0.171703</td>\n",
       "      <td>0.243243</td>\n",
       "      <td>-2.066038</td>\n",
       "      <td>{python, insights, markets, modelling, capital...</td>\n",
       "    </tr>\n",
       "    <tr>\n",
       "      <th>7</th>\n",
       "      <td>ML Engineer</td>\n",
       "      <td>Pinterest</td>\n",
       "      <td>Toronto, ON</td>\n",
       "      <td>0.160721</td>\n",
       "      <td>0.333333</td>\n",
       "      <td>-0.347826</td>\n",
       "      <td>{nlp, ml, computer vision, phd, research, mana...</td>\n",
       "    </tr>\n",
       "    <tr>\n",
       "      <th>13</th>\n",
       "      <td>Software Engineer AI/ ML- Co-Op (PEY/ Masters)</td>\n",
       "      <td>Seismic</td>\n",
       "      <td>Toronto, ON</td>\n",
       "      <td>0.114401</td>\n",
       "      <td>0.193548</td>\n",
       "      <td>0.096154</td>\n",
       "      <td>{python, ml, seismic, testing, databases, nump...</td>\n",
       "    </tr>\n",
       "    <tr>\n",
       "      <th>20</th>\n",
       "      <td>Senior Director, Liquidity Risk</td>\n",
       "      <td>Healthcare of Ontario Pension Plan (HOOPP)</td>\n",
       "      <td>Toronto, ON</td>\n",
       "      <td>0.113784</td>\n",
       "      <td>0.208333</td>\n",
       "      <td>-0.394366</td>\n",
       "      <td>{project management, insights, markets, data m...</td>\n",
       "    </tr>\n",
       "    <tr>\n",
       "      <th>21</th>\n",
       "      <td>Senior Director, Credit Risk</td>\n",
       "      <td>Healthcare of Ontario Pension Plan (HOOPP)</td>\n",
       "      <td>Toronto, ON</td>\n",
       "      <td>0.105453</td>\n",
       "      <td>0.208333</td>\n",
       "      <td>-0.710000</td>\n",
       "      <td>{project management, insights, markets, data m...</td>\n",
       "    </tr>\n",
       "    <tr>\n",
       "      <th>19</th>\n",
       "      <td>Senior Manager, Data &amp; AI Risk</td>\n",
       "      <td>Scotiabank</td>\n",
       "      <td>Toronto, ON</td>\n",
       "      <td>0.104164</td>\n",
       "      <td>0.105263</td>\n",
       "      <td>-0.051282</td>\n",
       "      <td>{gradient boosting, boosting, ai, banking, ml,...</td>\n",
       "    </tr>\n",
       "    <tr>\n",
       "      <th>10</th>\n",
       "      <td>Manager, Data &amp; AI Risk</td>\n",
       "      <td>Scotiabank</td>\n",
       "      <td>Toronto, ON</td>\n",
       "      <td>0.098544</td>\n",
       "      <td>0.105263</td>\n",
       "      <td>-0.046512</td>\n",
       "      <td>{gradient boosting, boosting, ai, banking, ml,...</td>\n",
       "    </tr>\n",
       "  </tbody>\n",
       "</table>\n",
       "</div>"
      ],
      "text/plain": [
       "                                                title  \\\n",
       "3                                    Sr. Data Analyst   \n",
       "6                                      Data Scientist   \n",
       "0                                      Data Scientist   \n",
       "1              Data Science Co-op (R&D) - Summer term   \n",
       "9                                 Sr. IT Data Analyst   \n",
       "11                                Senior Data Analyst   \n",
       "12   Manager, Machine Learning and Advanced Analytics   \n",
       "2                           Data Analyst - Operations   \n",
       "14  Senior Product Manager, Growth Marketing & Ana...   \n",
       "5   Senior Data Scientist, Trust & Safety and Supp...   \n",
       "18  Sr. Manager/ Associate Director - Pricing Anal...   \n",
       "8                       Scientist II, Data Extraction   \n",
       "15                   Senior Manager, Data and AI Risk   \n",
       "16     Senior Machine Learning Engineer, NLP (Remote)   \n",
       "17                        Senior, Forensic Technology   \n",
       "4                     Data Science Manager - Contract   \n",
       "7                                         ML Engineer   \n",
       "13     Software Engineer AI/ ML- Co-Op (PEY/ Masters)   \n",
       "20                    Senior Director, Liquidity Risk   \n",
       "21                       Senior Director, Credit Risk   \n",
       "19                     Senior Manager, Data & AI Risk   \n",
       "10                            Manager, Data & AI Risk   \n",
       "\n",
       "                                              company     location  \\\n",
       "3   Ontario College Of Pharmacists Ordre des Pharm...  Toronto, ON   \n",
       "6                                                Arup  Toronto, ON   \n",
       "0                                                Wish  Toronto, ON   \n",
       "1                                       Swift Medical  Toronto, ON   \n",
       "9                                             TD Bank  Toronto, ON   \n",
       "11                                           Sun Life  Toronto, ON   \n",
       "12                                               MLSE  Toronto, ON   \n",
       "2                                 Flair Airlines Ltd.  Toronto, ON   \n",
       "14                                               Angi  Toronto, ON   \n",
       "5                                           Thumbtack  Toronto, ON   \n",
       "18                                    Tiger Analytics  Toronto, ON   \n",
       "8                                            BenchSci  Toronto, ON   \n",
       "15                                         Scotiabank  Toronto, ON   \n",
       "16                                           BenchSci  Toronto, ON   \n",
       "17                                                 EY  Toronto, ON   \n",
       "4                                          Scotiabank  Toronto, ON   \n",
       "7                                           Pinterest  Toronto, ON   \n",
       "13                                            Seismic  Toronto, ON   \n",
       "20         Healthcare of Ontario Pension Plan (HOOPP)  Toronto, ON   \n",
       "21         Healthcare of Ontario Pension Plan (HOOPP)  Toronto, ON   \n",
       "19                                         Scotiabank  Toronto, ON   \n",
       "10                                         Scotiabank  Toronto, ON   \n",
       "\n",
       "    similarity-score  keyword-coverage  keyword-wt  \\\n",
       "3           0.397530          0.250000   -1.037037   \n",
       "6           0.377605          0.268293   -2.208333   \n",
       "0           0.328269          0.388889    0.033333   \n",
       "1           0.309663          0.333333   -2.037736   \n",
       "9           0.306582          0.160000   -0.596491   \n",
       "11          0.288357          0.250000   -0.820000   \n",
       "12          0.260264          0.263158   -0.820896   \n",
       "2           0.255140          0.269231   -0.054054   \n",
       "14          0.254424          0.350000   -1.400000   \n",
       "5           0.233622          0.322581   -0.360000   \n",
       "18          0.231583          0.400000   -2.645161   \n",
       "8           0.225498          0.111111    0.076923   \n",
       "15          0.217620          0.150000   -0.050000   \n",
       "16          0.181212          0.240000   -0.375000   \n",
       "17          0.178735          0.250000   -1.060606   \n",
       "4           0.171703          0.243243   -2.066038   \n",
       "7           0.160721          0.333333   -0.347826   \n",
       "13          0.114401          0.193548    0.096154   \n",
       "20          0.113784          0.208333   -0.394366   \n",
       "21          0.105453          0.208333   -0.710000   \n",
       "19          0.104164          0.105263   -0.051282   \n",
       "10          0.098544          0.105263   -0.046512   \n",
       "\n",
       "                                     keywords-missing  \n",
       "3   {project management, python, data mining, infr...  \n",
       "6   {python, data mining, pipelines, ml, insights,...  \n",
       "0   {data visualization, engineering, python, pipe...  \n",
       "1   {predictive, ai, python, engineering, mentorin...  \n",
       "9   {data profiling, project management, metadata,...  \n",
       "11  {python, insights, testing, sas, sql, options,...  \n",
       "12  {project management, pipelines, insights, test...  \n",
       "2   {data profiling, python, pipelines, insights, ...  \n",
       "14  {snowflake, engineering, features, project man...  \n",
       "5   {python, infrastructure, insights, sql, econom...  \n",
       "18  {consulting, project management, ai, leadershi...  \n",
       "8   {ai, python, ml, pipelines, msc, collaboration...  \n",
       "15  {ai, metadata, banking, financial services, ma...  \n",
       "16  {python, workflow, ml, infrastructure, pipelin...  \n",
       "17  {consulting, project management, computer scie...  \n",
       "4   {python, insights, markets, modelling, capital...  \n",
       "7   {nlp, ml, computer vision, phd, research, mana...  \n",
       "13  {python, ml, seismic, testing, databases, nump...  \n",
       "20  {project management, insights, markets, data m...  \n",
       "21  {project management, insights, markets, data m...  \n",
       "19  {gradient boosting, boosting, ai, banking, ml,...  \n",
       "10  {gradient boosting, boosting, ai, banking, ml,...  "
      ]
     },
     "execution_count": 539,
     "metadata": {},
     "output_type": "execute_result"
    }
   ],
   "source": [
    "# get resume\n",
    "cl = get_resume_text('data/cover_letter.docx',False)\n",
    "\n",
    "\n",
    "# calc similarities with each job\n",
    "df_cl = calc_similarities(cl,job_details,'data/terms.csv')\n",
    "df_cl"
   ]
  },
  {
   "cell_type": "code",
   "execution_count": 577,
   "id": "eec07f79",
   "metadata": {},
   "outputs": [
    {
     "data": {
      "application/vnd.plotly.v1+json": {
       "config": {
        "plotlyServerURL": "https://plot.ly"
       },
       "data": [
        {
         "customdata": [
          [
           "Sr. Data Analyst",
           "Ontario College Of Pharmacists Ordre des Pharmaciens de L Ontario",
           "Toronto, ON",
           0.5866250953374738
          ],
          [
           "Data Scientist",
           "Arup",
           "Toronto, ON",
           0.15934977747605042
          ],
          [
           "Data Scientist",
           "Wish",
           "Toronto, ON",
           0.977083804782379
          ],
          [
           "Data Science Co-op (R&D) - Summer term",
           "Swift Medical",
           "Toronto, ON",
           0.221581763141153
          ],
          [
           "Sr. IT Data Analyst",
           "TD Bank",
           "Toronto, ON",
           0.7473311021386914
          ],
          [
           "Senior Data Analyst",
           "Sun Life",
           "Toronto, ON",
           0.6657976917854718
          ],
          [
           "Manager, Machine Learning and Advanced Analytics",
           "MLSE",
           "Toronto, ON",
           0.6654710155941271
          ],
          [
           "Data Analyst - Operations",
           "Flair Airlines Ltd.",
           "Toronto, ON",
           0.9452058983627212
          ],
          [
           "Senior Product Manager, Growth Marketing & Analytics",
           "Angi",
           "Toronto, ON",
           0.4542204118578864
          ],
          [
           "Senior Data Scientist, Trust & Safety and Support Operations",
           "Thumbtack",
           "Toronto, ON",
           0.8336003620728673
          ],
          [
           "Sr. Manager/ Associate Director - Pricing Analytics",
           "Tiger Analytics",
           "Toronto, ON",
           0
          ],
          [
           "Scientist II, Data Extraction",
           "BenchSci",
           "Toronto, ON",
           0.9929848381986875
          ],
          [
           "Senior Manager, Data and AI Risk",
           "Scotiabank",
           "Toronto, ON",
           0.946684770310025
          ],
          [
           "Senior Machine Learning Engineer, NLP (Remote)",
           "BenchSci",
           "Toronto, ON",
           0.8281285358678434
          ],
          [
           "Senior, Forensic Technology",
           "EY",
           "Toronto, ON",
           0.57802738861802
          ],
          [
           "Data Science Manager - Contract",
           "Scotiabank",
           "Toronto, ON",
           0.2112575627543156
          ],
          [
           "ML Engineer",
           "Pinterest",
           "Toronto, ON",
           0.8380412645001329
          ],
          [
           "Software Engineer AI/ ML- Co-Op (PEY/ Masters)",
           "Seismic",
           "Toronto, ON",
           1
          ],
          [
           "Senior Director, Liquidity Risk",
           "Healthcare of Ontario Pension Plan (HOOPP)",
           "Toronto, ON",
           0.8210639715186343
          ],
          [
           "Senior Director, Credit Risk",
           "Healthcare of Ontario Pension Plan (HOOPP)",
           "Toronto, ON",
           0.7059244172889795
          ],
          [
           "Senior Manager, Data & AI Risk",
           "Scotiabank",
           "Toronto, ON",
           0.946217092856604
          ],
          [
           "Manager, Data & AI Risk",
           "Scotiabank",
           "Toronto, ON",
           0.9479572880321234
          ]
         ],
         "hovertemplate": "<b>Title:</b> %{customdata[0]}<br><b>Company:</b> %{customdata[1]}<br><b>Location:</b> %{customdata[2]}</br><b>Similarity:</b> %{y:,.2f}<br><b>Keyword Coverage:</b> %{x:,.2f}<br><b>Weighted Keyword Frequency:</b> %{customdata[3]:,.2f}<br><extra></extra>",
         "marker": {
          "color": [
           0.397530306320605,
           0.3776047069907281,
           0.32826859652804086,
           0.30966333716399286,
           0.30658189234531286,
           0.2883573654519889,
           0.2602638247155678,
           0.25514020427179385,
           0.25442390672984316,
           0.23362204391851712,
           0.2315834436717555,
           0.22549844026458588,
           0.2176202649008036,
           0.18121176716624895,
           0.1787351309413623,
           0.17170251585381374,
           0.1607210943033469,
           0.1144010527914247,
           0.11378359823444086,
           0.10545346127481464,
           0.10416408990197043,
           0.09854394881349765
          ],
          "colorscale": [
           [
            0,
            "rgba(252,76,1,1.0)"
           ],
           [
            0.25,
            "rgba(252,76,1,0.5)"
           ],
           [
            0.5,
            "rgba(83,128,141,0.25)"
           ],
           [
            0.75,
            "rgba(83,128,141,0.5)"
           ],
           [
            1,
            "rgba(83,128,141,1.0)"
           ]
          ],
          "size": [
           29.331254766873688,
           7.967488873802521,
           48.85419023911895,
           11.07908815705765,
           37.36655510693457,
           33.28988458927359,
           33.273550779706355,
           47.26029491813606,
           22.71102059289432,
           41.68001810364336,
           0,
           49.649241909934375,
           47.33423851550125,
           41.40642679339217,
           28.901369430901003,
           10.56287813771578,
           41.90206322500665,
           50,
           41.05319857593172,
           35.296220864448976,
           47.3108546428302,
           47.39786440160617
          ]
         },
         "mode": "markers",
         "type": "scatter",
         "x": [
          0.25,
          0.2682926829268293,
          0.3888888888888889,
          0.3333333333333333,
          0.16,
          0.25,
          0.2631578947368421,
          0.2692307692307692,
          0.35,
          0.3225806451612903,
          0.4,
          0.1111111111111111,
          0.15,
          0.24,
          0.25,
          0.24324324324324326,
          0.3333333333333333,
          0.1935483870967742,
          0.20833333333333334,
          0.20833333333333334,
          0.10526315789473684,
          0.10526315789473684
         ],
         "y": [
          0.397530306320605,
          0.3776047069907281,
          0.32826859652804086,
          0.30966333716399286,
          0.30658189234531286,
          0.2883573654519889,
          0.2602638247155678,
          0.25514020427179385,
          0.25442390672984316,
          0.23362204391851712,
          0.2315834436717555,
          0.22549844026458588,
          0.2176202649008036,
          0.18121176716624895,
          0.1787351309413623,
          0.17170251585381374,
          0.1607210943033469,
          0.1144010527914247,
          0.11378359823444086,
          0.10545346127481464,
          0.10416408990197043,
          0.09854394881349765
         ]
        }
       ],
       "layout": {
        "height": 500,
        "template": {
         "data": {
          "bar": [
           {
            "error_x": {
             "color": "#2a3f5f"
            },
            "error_y": {
             "color": "#2a3f5f"
            },
            "marker": {
             "line": {
              "color": "white",
              "width": 0.5
             },
             "pattern": {
              "fillmode": "overlay",
              "size": 10,
              "solidity": 0.2
             }
            },
            "type": "bar"
           }
          ],
          "barpolar": [
           {
            "marker": {
             "line": {
              "color": "white",
              "width": 0.5
             },
             "pattern": {
              "fillmode": "overlay",
              "size": 10,
              "solidity": 0.2
             }
            },
            "type": "barpolar"
           }
          ],
          "carpet": [
           {
            "aaxis": {
             "endlinecolor": "#2a3f5f",
             "gridcolor": "#C8D4E3",
             "linecolor": "#C8D4E3",
             "minorgridcolor": "#C8D4E3",
             "startlinecolor": "#2a3f5f"
            },
            "baxis": {
             "endlinecolor": "#2a3f5f",
             "gridcolor": "#C8D4E3",
             "linecolor": "#C8D4E3",
             "minorgridcolor": "#C8D4E3",
             "startlinecolor": "#2a3f5f"
            },
            "type": "carpet"
           }
          ],
          "choropleth": [
           {
            "colorbar": {
             "outlinewidth": 0,
             "ticks": ""
            },
            "type": "choropleth"
           }
          ],
          "contour": [
           {
            "colorbar": {
             "outlinewidth": 0,
             "ticks": ""
            },
            "colorscale": [
             [
              0,
              "#0d0887"
             ],
             [
              0.1111111111111111,
              "#46039f"
             ],
             [
              0.2222222222222222,
              "#7201a8"
             ],
             [
              0.3333333333333333,
              "#9c179e"
             ],
             [
              0.4444444444444444,
              "#bd3786"
             ],
             [
              0.5555555555555556,
              "#d8576b"
             ],
             [
              0.6666666666666666,
              "#ed7953"
             ],
             [
              0.7777777777777778,
              "#fb9f3a"
             ],
             [
              0.8888888888888888,
              "#fdca26"
             ],
             [
              1,
              "#f0f921"
             ]
            ],
            "type": "contour"
           }
          ],
          "contourcarpet": [
           {
            "colorbar": {
             "outlinewidth": 0,
             "ticks": ""
            },
            "type": "contourcarpet"
           }
          ],
          "heatmap": [
           {
            "colorbar": {
             "outlinewidth": 0,
             "ticks": ""
            },
            "colorscale": [
             [
              0,
              "#0d0887"
             ],
             [
              0.1111111111111111,
              "#46039f"
             ],
             [
              0.2222222222222222,
              "#7201a8"
             ],
             [
              0.3333333333333333,
              "#9c179e"
             ],
             [
              0.4444444444444444,
              "#bd3786"
             ],
             [
              0.5555555555555556,
              "#d8576b"
             ],
             [
              0.6666666666666666,
              "#ed7953"
             ],
             [
              0.7777777777777778,
              "#fb9f3a"
             ],
             [
              0.8888888888888888,
              "#fdca26"
             ],
             [
              1,
              "#f0f921"
             ]
            ],
            "type": "heatmap"
           }
          ],
          "heatmapgl": [
           {
            "colorbar": {
             "outlinewidth": 0,
             "ticks": ""
            },
            "colorscale": [
             [
              0,
              "#0d0887"
             ],
             [
              0.1111111111111111,
              "#46039f"
             ],
             [
              0.2222222222222222,
              "#7201a8"
             ],
             [
              0.3333333333333333,
              "#9c179e"
             ],
             [
              0.4444444444444444,
              "#bd3786"
             ],
             [
              0.5555555555555556,
              "#d8576b"
             ],
             [
              0.6666666666666666,
              "#ed7953"
             ],
             [
              0.7777777777777778,
              "#fb9f3a"
             ],
             [
              0.8888888888888888,
              "#fdca26"
             ],
             [
              1,
              "#f0f921"
             ]
            ],
            "type": "heatmapgl"
           }
          ],
          "histogram": [
           {
            "marker": {
             "pattern": {
              "fillmode": "overlay",
              "size": 10,
              "solidity": 0.2
             }
            },
            "type": "histogram"
           }
          ],
          "histogram2d": [
           {
            "colorbar": {
             "outlinewidth": 0,
             "ticks": ""
            },
            "colorscale": [
             [
              0,
              "#0d0887"
             ],
             [
              0.1111111111111111,
              "#46039f"
             ],
             [
              0.2222222222222222,
              "#7201a8"
             ],
             [
              0.3333333333333333,
              "#9c179e"
             ],
             [
              0.4444444444444444,
              "#bd3786"
             ],
             [
              0.5555555555555556,
              "#d8576b"
             ],
             [
              0.6666666666666666,
              "#ed7953"
             ],
             [
              0.7777777777777778,
              "#fb9f3a"
             ],
             [
              0.8888888888888888,
              "#fdca26"
             ],
             [
              1,
              "#f0f921"
             ]
            ],
            "type": "histogram2d"
           }
          ],
          "histogram2dcontour": [
           {
            "colorbar": {
             "outlinewidth": 0,
             "ticks": ""
            },
            "colorscale": [
             [
              0,
              "#0d0887"
             ],
             [
              0.1111111111111111,
              "#46039f"
             ],
             [
              0.2222222222222222,
              "#7201a8"
             ],
             [
              0.3333333333333333,
              "#9c179e"
             ],
             [
              0.4444444444444444,
              "#bd3786"
             ],
             [
              0.5555555555555556,
              "#d8576b"
             ],
             [
              0.6666666666666666,
              "#ed7953"
             ],
             [
              0.7777777777777778,
              "#fb9f3a"
             ],
             [
              0.8888888888888888,
              "#fdca26"
             ],
             [
              1,
              "#f0f921"
             ]
            ],
            "type": "histogram2dcontour"
           }
          ],
          "mesh3d": [
           {
            "colorbar": {
             "outlinewidth": 0,
             "ticks": ""
            },
            "type": "mesh3d"
           }
          ],
          "parcoords": [
           {
            "line": {
             "colorbar": {
              "outlinewidth": 0,
              "ticks": ""
             }
            },
            "type": "parcoords"
           }
          ],
          "pie": [
           {
            "automargin": true,
            "type": "pie"
           }
          ],
          "scatter": [
           {
            "fillpattern": {
             "fillmode": "overlay",
             "size": 10,
             "solidity": 0.2
            },
            "type": "scatter"
           }
          ],
          "scatter3d": [
           {
            "line": {
             "colorbar": {
              "outlinewidth": 0,
              "ticks": ""
             }
            },
            "marker": {
             "colorbar": {
              "outlinewidth": 0,
              "ticks": ""
             }
            },
            "type": "scatter3d"
           }
          ],
          "scattercarpet": [
           {
            "marker": {
             "colorbar": {
              "outlinewidth": 0,
              "ticks": ""
             }
            },
            "type": "scattercarpet"
           }
          ],
          "scattergeo": [
           {
            "marker": {
             "colorbar": {
              "outlinewidth": 0,
              "ticks": ""
             }
            },
            "type": "scattergeo"
           }
          ],
          "scattergl": [
           {
            "marker": {
             "colorbar": {
              "outlinewidth": 0,
              "ticks": ""
             }
            },
            "type": "scattergl"
           }
          ],
          "scattermapbox": [
           {
            "marker": {
             "colorbar": {
              "outlinewidth": 0,
              "ticks": ""
             }
            },
            "type": "scattermapbox"
           }
          ],
          "scatterpolar": [
           {
            "marker": {
             "colorbar": {
              "outlinewidth": 0,
              "ticks": ""
             }
            },
            "type": "scatterpolar"
           }
          ],
          "scatterpolargl": [
           {
            "marker": {
             "colorbar": {
              "outlinewidth": 0,
              "ticks": ""
             }
            },
            "type": "scatterpolargl"
           }
          ],
          "scatterternary": [
           {
            "marker": {
             "colorbar": {
              "outlinewidth": 0,
              "ticks": ""
             }
            },
            "type": "scatterternary"
           }
          ],
          "surface": [
           {
            "colorbar": {
             "outlinewidth": 0,
             "ticks": ""
            },
            "colorscale": [
             [
              0,
              "#0d0887"
             ],
             [
              0.1111111111111111,
              "#46039f"
             ],
             [
              0.2222222222222222,
              "#7201a8"
             ],
             [
              0.3333333333333333,
              "#9c179e"
             ],
             [
              0.4444444444444444,
              "#bd3786"
             ],
             [
              0.5555555555555556,
              "#d8576b"
             ],
             [
              0.6666666666666666,
              "#ed7953"
             ],
             [
              0.7777777777777778,
              "#fb9f3a"
             ],
             [
              0.8888888888888888,
              "#fdca26"
             ],
             [
              1,
              "#f0f921"
             ]
            ],
            "type": "surface"
           }
          ],
          "table": [
           {
            "cells": {
             "fill": {
              "color": "#EBF0F8"
             },
             "line": {
              "color": "white"
             }
            },
            "header": {
             "fill": {
              "color": "#C8D4E3"
             },
             "line": {
              "color": "white"
             }
            },
            "type": "table"
           }
          ]
         },
         "layout": {
          "annotationdefaults": {
           "arrowcolor": "#2a3f5f",
           "arrowhead": 0,
           "arrowwidth": 1
          },
          "autotypenumbers": "strict",
          "coloraxis": {
           "colorbar": {
            "outlinewidth": 0,
            "ticks": ""
           }
          },
          "colorscale": {
           "diverging": [
            [
             0,
             "#8e0152"
            ],
            [
             0.1,
             "#c51b7d"
            ],
            [
             0.2,
             "#de77ae"
            ],
            [
             0.3,
             "#f1b6da"
            ],
            [
             0.4,
             "#fde0ef"
            ],
            [
             0.5,
             "#f7f7f7"
            ],
            [
             0.6,
             "#e6f5d0"
            ],
            [
             0.7,
             "#b8e186"
            ],
            [
             0.8,
             "#7fbc41"
            ],
            [
             0.9,
             "#4d9221"
            ],
            [
             1,
             "#276419"
            ]
           ],
           "sequential": [
            [
             0,
             "#0d0887"
            ],
            [
             0.1111111111111111,
             "#46039f"
            ],
            [
             0.2222222222222222,
             "#7201a8"
            ],
            [
             0.3333333333333333,
             "#9c179e"
            ],
            [
             0.4444444444444444,
             "#bd3786"
            ],
            [
             0.5555555555555556,
             "#d8576b"
            ],
            [
             0.6666666666666666,
             "#ed7953"
            ],
            [
             0.7777777777777778,
             "#fb9f3a"
            ],
            [
             0.8888888888888888,
             "#fdca26"
            ],
            [
             1,
             "#f0f921"
            ]
           ],
           "sequentialminus": [
            [
             0,
             "#0d0887"
            ],
            [
             0.1111111111111111,
             "#46039f"
            ],
            [
             0.2222222222222222,
             "#7201a8"
            ],
            [
             0.3333333333333333,
             "#9c179e"
            ],
            [
             0.4444444444444444,
             "#bd3786"
            ],
            [
             0.5555555555555556,
             "#d8576b"
            ],
            [
             0.6666666666666666,
             "#ed7953"
            ],
            [
             0.7777777777777778,
             "#fb9f3a"
            ],
            [
             0.8888888888888888,
             "#fdca26"
            ],
            [
             1,
             "#f0f921"
            ]
           ]
          },
          "colorway": [
           "#636efa",
           "#EF553B",
           "#00cc96",
           "#ab63fa",
           "#FFA15A",
           "#19d3f3",
           "#FF6692",
           "#B6E880",
           "#FF97FF",
           "#FECB52"
          ],
          "font": {
           "color": "#2a3f5f"
          },
          "geo": {
           "bgcolor": "white",
           "lakecolor": "white",
           "landcolor": "white",
           "showlakes": true,
           "showland": true,
           "subunitcolor": "#C8D4E3"
          },
          "hoverlabel": {
           "align": "left"
          },
          "hovermode": "closest",
          "mapbox": {
           "style": "light"
          },
          "paper_bgcolor": "white",
          "plot_bgcolor": "white",
          "polar": {
           "angularaxis": {
            "gridcolor": "#EBF0F8",
            "linecolor": "#EBF0F8",
            "ticks": ""
           },
           "bgcolor": "white",
           "radialaxis": {
            "gridcolor": "#EBF0F8",
            "linecolor": "#EBF0F8",
            "ticks": ""
           }
          },
          "scene": {
           "xaxis": {
            "backgroundcolor": "white",
            "gridcolor": "#DFE8F3",
            "gridwidth": 2,
            "linecolor": "#EBF0F8",
            "showbackground": true,
            "ticks": "",
            "zerolinecolor": "#EBF0F8"
           },
           "yaxis": {
            "backgroundcolor": "white",
            "gridcolor": "#DFE8F3",
            "gridwidth": 2,
            "linecolor": "#EBF0F8",
            "showbackground": true,
            "ticks": "",
            "zerolinecolor": "#EBF0F8"
           },
           "zaxis": {
            "backgroundcolor": "white",
            "gridcolor": "#DFE8F3",
            "gridwidth": 2,
            "linecolor": "#EBF0F8",
            "showbackground": true,
            "ticks": "",
            "zerolinecolor": "#EBF0F8"
           }
          },
          "shapedefaults": {
           "line": {
            "color": "#2a3f5f"
           }
          },
          "ternary": {
           "aaxis": {
            "gridcolor": "#DFE8F3",
            "linecolor": "#A2B1C6",
            "ticks": ""
           },
           "baxis": {
            "gridcolor": "#DFE8F3",
            "linecolor": "#A2B1C6",
            "ticks": ""
           },
           "bgcolor": "white",
           "caxis": {
            "gridcolor": "#DFE8F3",
            "linecolor": "#A2B1C6",
            "ticks": ""
           }
          },
          "title": {
           "x": 0.05
          },
          "xaxis": {
           "automargin": true,
           "gridcolor": "#EBF0F8",
           "linecolor": "#EBF0F8",
           "ticks": "",
           "title": {
            "standoff": 15
           },
           "zerolinecolor": "#EBF0F8",
           "zerolinewidth": 2
          },
          "yaxis": {
           "automargin": true,
           "gridcolor": "#EBF0F8",
           "linecolor": "#EBF0F8",
           "ticks": "",
           "title": {
            "standoff": 15
           },
           "zerolinecolor": "#EBF0F8",
           "zerolinewidth": 2
          }
         }
        },
        "title": {
         "text": "Resume Similarity to Job Listings"
        },
        "width": 800,
        "xaxis": {
         "range": [
          0,
          1
         ],
         "title": {
          "text": "Keyword Coverge (%)"
         }
        },
        "yaxis": {
         "range": [
          0,
          1
         ],
         "title": {
          "text": "Similarity Score"
         }
        }
       }
      },
      "text/html": [
       "<div>                            <div id=\"e00b81d9-be7d-4955-9a8b-fef53cdae9b0\" class=\"plotly-graph-div\" style=\"height:500px; width:800px;\"></div>            <script type=\"text/javascript\">                require([\"plotly\"], function(Plotly) {                    window.PLOTLYENV=window.PLOTLYENV || {};                                    if (document.getElementById(\"e00b81d9-be7d-4955-9a8b-fef53cdae9b0\")) {                    Plotly.newPlot(                        \"e00b81d9-be7d-4955-9a8b-fef53cdae9b0\",                        [{\"customdata\":[[\"Sr. Data Analyst\",\"Ontario College Of Pharmacists Ordre des Pharmaciens de L Ontario\",\"Toronto, ON\",0.5866250953374738],[\"Data Scientist\",\"Arup\",\"Toronto, ON\",0.15934977747605042],[\"Data Scientist\",\"Wish\",\"Toronto, ON\",0.977083804782379],[\"Data Science Co-op (R&D) - Summer term\",\"Swift Medical\",\"Toronto, ON\",0.221581763141153],[\"Sr. IT Data Analyst\",\"TD Bank\",\"Toronto, ON\",0.7473311021386914],[\"Senior Data Analyst\",\"Sun Life\",\"Toronto, ON\",0.6657976917854718],[\"Manager, Machine Learning and Advanced Analytics\",\"MLSE\",\"Toronto, ON\",0.6654710155941271],[\"Data Analyst - Operations\",\"Flair Airlines Ltd.\",\"Toronto, ON\",0.9452058983627212],[\"Senior Product Manager, Growth Marketing & Analytics\",\"Angi\",\"Toronto, ON\",0.4542204118578864],[\"Senior Data Scientist, Trust & Safety and Support Operations\",\"Thumbtack\",\"Toronto, ON\",0.8336003620728673],[\"Sr. Manager/ Associate Director - Pricing Analytics\",\"Tiger Analytics\",\"Toronto, ON\",0.0],[\"Scientist II, Data Extraction\",\"BenchSci\",\"Toronto, ON\",0.9929848381986875],[\"Senior Manager, Data and AI Risk\",\"Scotiabank\",\"Toronto, ON\",0.946684770310025],[\"Senior Machine Learning Engineer, NLP (Remote)\",\"BenchSci\",\"Toronto, ON\",0.8281285358678434],[\"Senior, Forensic Technology\",\"EY\",\"Toronto, ON\",0.57802738861802],[\"Data Science Manager - Contract\",\"Scotiabank\",\"Toronto, ON\",0.2112575627543156],[\"ML Engineer\",\"Pinterest\",\"Toronto, ON\",0.8380412645001329],[\"Software Engineer AI/ ML- Co-Op (PEY/ Masters)\",\"Seismic\",\"Toronto, ON\",1.0],[\"Senior Director, Liquidity Risk\",\"Healthcare of Ontario Pension Plan (HOOPP)\",\"Toronto, ON\",0.8210639715186343],[\"Senior Director, Credit Risk\",\"Healthcare of Ontario Pension Plan (HOOPP)\",\"Toronto, ON\",0.7059244172889795],[\"Senior Manager, Data & AI Risk\",\"Scotiabank\",\"Toronto, ON\",0.946217092856604],[\"Manager, Data & AI Risk\",\"Scotiabank\",\"Toronto, ON\",0.9479572880321234]],\"hovertemplate\":\"<b>Title:</b> %{customdata[0]}<br><b>Company:</b> %{customdata[1]}<br><b>Location:</b> %{customdata[2]}</br><b>Similarity:</b> %{y:,.2f}<br><b>Keyword Coverage:</b> %{x:,.2f}<br><b>Weighted Keyword Frequency:</b> %{customdata[3]:,.2f}<br><extra></extra>\",\"marker\":{\"color\":[0.397530306320605,0.3776047069907281,0.32826859652804086,0.30966333716399286,0.30658189234531286,0.2883573654519889,0.2602638247155678,0.25514020427179385,0.25442390672984316,0.23362204391851712,0.2315834436717555,0.22549844026458588,0.2176202649008036,0.18121176716624895,0.1787351309413623,0.17170251585381374,0.1607210943033469,0.1144010527914247,0.11378359823444086,0.10545346127481464,0.10416408990197043,0.09854394881349765],\"colorscale\":[[0,\"rgba(252,76,1,1.0)\"],[0.25,\"rgba(252,76,1,0.5)\"],[0.5,\"rgba(83,128,141,0.25)\"],[0.75,\"rgba(83,128,141,0.5)\"],[1.0,\"rgba(83,128,141,1.0)\"]],\"size\":[29.331254766873688,7.967488873802521,48.85419023911895,11.07908815705765,37.36655510693457,33.28988458927359,33.273550779706355,47.26029491813606,22.71102059289432,41.68001810364336,0.0,49.649241909934375,47.33423851550125,41.40642679339217,28.901369430901003,10.56287813771578,41.90206322500665,50.0,41.05319857593172,35.296220864448976,47.3108546428302,47.39786440160617]},\"mode\":\"markers\",\"x\":[0.25,0.2682926829268293,0.3888888888888889,0.3333333333333333,0.16,0.25,0.2631578947368421,0.2692307692307692,0.35,0.3225806451612903,0.4,0.1111111111111111,0.15,0.24,0.25,0.24324324324324326,0.3333333333333333,0.1935483870967742,0.20833333333333334,0.20833333333333334,0.10526315789473684,0.10526315789473684],\"y\":[0.397530306320605,0.3776047069907281,0.32826859652804086,0.30966333716399286,0.30658189234531286,0.2883573654519889,0.2602638247155678,0.25514020427179385,0.25442390672984316,0.23362204391851712,0.2315834436717555,0.22549844026458588,0.2176202649008036,0.18121176716624895,0.1787351309413623,0.17170251585381374,0.1607210943033469,0.1144010527914247,0.11378359823444086,0.10545346127481464,0.10416408990197043,0.09854394881349765],\"type\":\"scatter\"}],                        {\"template\":{\"data\":{\"barpolar\":[{\"marker\":{\"line\":{\"color\":\"white\",\"width\":0.5},\"pattern\":{\"fillmode\":\"overlay\",\"size\":10,\"solidity\":0.2}},\"type\":\"barpolar\"}],\"bar\":[{\"error_x\":{\"color\":\"#2a3f5f\"},\"error_y\":{\"color\":\"#2a3f5f\"},\"marker\":{\"line\":{\"color\":\"white\",\"width\":0.5},\"pattern\":{\"fillmode\":\"overlay\",\"size\":10,\"solidity\":0.2}},\"type\":\"bar\"}],\"carpet\":[{\"aaxis\":{\"endlinecolor\":\"#2a3f5f\",\"gridcolor\":\"#C8D4E3\",\"linecolor\":\"#C8D4E3\",\"minorgridcolor\":\"#C8D4E3\",\"startlinecolor\":\"#2a3f5f\"},\"baxis\":{\"endlinecolor\":\"#2a3f5f\",\"gridcolor\":\"#C8D4E3\",\"linecolor\":\"#C8D4E3\",\"minorgridcolor\":\"#C8D4E3\",\"startlinecolor\":\"#2a3f5f\"},\"type\":\"carpet\"}],\"choropleth\":[{\"colorbar\":{\"outlinewidth\":0,\"ticks\":\"\"},\"type\":\"choropleth\"}],\"contourcarpet\":[{\"colorbar\":{\"outlinewidth\":0,\"ticks\":\"\"},\"type\":\"contourcarpet\"}],\"contour\":[{\"colorbar\":{\"outlinewidth\":0,\"ticks\":\"\"},\"colorscale\":[[0.0,\"#0d0887\"],[0.1111111111111111,\"#46039f\"],[0.2222222222222222,\"#7201a8\"],[0.3333333333333333,\"#9c179e\"],[0.4444444444444444,\"#bd3786\"],[0.5555555555555556,\"#d8576b\"],[0.6666666666666666,\"#ed7953\"],[0.7777777777777778,\"#fb9f3a\"],[0.8888888888888888,\"#fdca26\"],[1.0,\"#f0f921\"]],\"type\":\"contour\"}],\"heatmapgl\":[{\"colorbar\":{\"outlinewidth\":0,\"ticks\":\"\"},\"colorscale\":[[0.0,\"#0d0887\"],[0.1111111111111111,\"#46039f\"],[0.2222222222222222,\"#7201a8\"],[0.3333333333333333,\"#9c179e\"],[0.4444444444444444,\"#bd3786\"],[0.5555555555555556,\"#d8576b\"],[0.6666666666666666,\"#ed7953\"],[0.7777777777777778,\"#fb9f3a\"],[0.8888888888888888,\"#fdca26\"],[1.0,\"#f0f921\"]],\"type\":\"heatmapgl\"}],\"heatmap\":[{\"colorbar\":{\"outlinewidth\":0,\"ticks\":\"\"},\"colorscale\":[[0.0,\"#0d0887\"],[0.1111111111111111,\"#46039f\"],[0.2222222222222222,\"#7201a8\"],[0.3333333333333333,\"#9c179e\"],[0.4444444444444444,\"#bd3786\"],[0.5555555555555556,\"#d8576b\"],[0.6666666666666666,\"#ed7953\"],[0.7777777777777778,\"#fb9f3a\"],[0.8888888888888888,\"#fdca26\"],[1.0,\"#f0f921\"]],\"type\":\"heatmap\"}],\"histogram2dcontour\":[{\"colorbar\":{\"outlinewidth\":0,\"ticks\":\"\"},\"colorscale\":[[0.0,\"#0d0887\"],[0.1111111111111111,\"#46039f\"],[0.2222222222222222,\"#7201a8\"],[0.3333333333333333,\"#9c179e\"],[0.4444444444444444,\"#bd3786\"],[0.5555555555555556,\"#d8576b\"],[0.6666666666666666,\"#ed7953\"],[0.7777777777777778,\"#fb9f3a\"],[0.8888888888888888,\"#fdca26\"],[1.0,\"#f0f921\"]],\"type\":\"histogram2dcontour\"}],\"histogram2d\":[{\"colorbar\":{\"outlinewidth\":0,\"ticks\":\"\"},\"colorscale\":[[0.0,\"#0d0887\"],[0.1111111111111111,\"#46039f\"],[0.2222222222222222,\"#7201a8\"],[0.3333333333333333,\"#9c179e\"],[0.4444444444444444,\"#bd3786\"],[0.5555555555555556,\"#d8576b\"],[0.6666666666666666,\"#ed7953\"],[0.7777777777777778,\"#fb9f3a\"],[0.8888888888888888,\"#fdca26\"],[1.0,\"#f0f921\"]],\"type\":\"histogram2d\"}],\"histogram\":[{\"marker\":{\"pattern\":{\"fillmode\":\"overlay\",\"size\":10,\"solidity\":0.2}},\"type\":\"histogram\"}],\"mesh3d\":[{\"colorbar\":{\"outlinewidth\":0,\"ticks\":\"\"},\"type\":\"mesh3d\"}],\"parcoords\":[{\"line\":{\"colorbar\":{\"outlinewidth\":0,\"ticks\":\"\"}},\"type\":\"parcoords\"}],\"pie\":[{\"automargin\":true,\"type\":\"pie\"}],\"scatter3d\":[{\"line\":{\"colorbar\":{\"outlinewidth\":0,\"ticks\":\"\"}},\"marker\":{\"colorbar\":{\"outlinewidth\":0,\"ticks\":\"\"}},\"type\":\"scatter3d\"}],\"scattercarpet\":[{\"marker\":{\"colorbar\":{\"outlinewidth\":0,\"ticks\":\"\"}},\"type\":\"scattercarpet\"}],\"scattergeo\":[{\"marker\":{\"colorbar\":{\"outlinewidth\":0,\"ticks\":\"\"}},\"type\":\"scattergeo\"}],\"scattergl\":[{\"marker\":{\"colorbar\":{\"outlinewidth\":0,\"ticks\":\"\"}},\"type\":\"scattergl\"}],\"scattermapbox\":[{\"marker\":{\"colorbar\":{\"outlinewidth\":0,\"ticks\":\"\"}},\"type\":\"scattermapbox\"}],\"scatterpolargl\":[{\"marker\":{\"colorbar\":{\"outlinewidth\":0,\"ticks\":\"\"}},\"type\":\"scatterpolargl\"}],\"scatterpolar\":[{\"marker\":{\"colorbar\":{\"outlinewidth\":0,\"ticks\":\"\"}},\"type\":\"scatterpolar\"}],\"scatter\":[{\"fillpattern\":{\"fillmode\":\"overlay\",\"size\":10,\"solidity\":0.2},\"type\":\"scatter\"}],\"scatterternary\":[{\"marker\":{\"colorbar\":{\"outlinewidth\":0,\"ticks\":\"\"}},\"type\":\"scatterternary\"}],\"surface\":[{\"colorbar\":{\"outlinewidth\":0,\"ticks\":\"\"},\"colorscale\":[[0.0,\"#0d0887\"],[0.1111111111111111,\"#46039f\"],[0.2222222222222222,\"#7201a8\"],[0.3333333333333333,\"#9c179e\"],[0.4444444444444444,\"#bd3786\"],[0.5555555555555556,\"#d8576b\"],[0.6666666666666666,\"#ed7953\"],[0.7777777777777778,\"#fb9f3a\"],[0.8888888888888888,\"#fdca26\"],[1.0,\"#f0f921\"]],\"type\":\"surface\"}],\"table\":[{\"cells\":{\"fill\":{\"color\":\"#EBF0F8\"},\"line\":{\"color\":\"white\"}},\"header\":{\"fill\":{\"color\":\"#C8D4E3\"},\"line\":{\"color\":\"white\"}},\"type\":\"table\"}]},\"layout\":{\"annotationdefaults\":{\"arrowcolor\":\"#2a3f5f\",\"arrowhead\":0,\"arrowwidth\":1},\"autotypenumbers\":\"strict\",\"coloraxis\":{\"colorbar\":{\"outlinewidth\":0,\"ticks\":\"\"}},\"colorscale\":{\"diverging\":[[0,\"#8e0152\"],[0.1,\"#c51b7d\"],[0.2,\"#de77ae\"],[0.3,\"#f1b6da\"],[0.4,\"#fde0ef\"],[0.5,\"#f7f7f7\"],[0.6,\"#e6f5d0\"],[0.7,\"#b8e186\"],[0.8,\"#7fbc41\"],[0.9,\"#4d9221\"],[1,\"#276419\"]],\"sequential\":[[0.0,\"#0d0887\"],[0.1111111111111111,\"#46039f\"],[0.2222222222222222,\"#7201a8\"],[0.3333333333333333,\"#9c179e\"],[0.4444444444444444,\"#bd3786\"],[0.5555555555555556,\"#d8576b\"],[0.6666666666666666,\"#ed7953\"],[0.7777777777777778,\"#fb9f3a\"],[0.8888888888888888,\"#fdca26\"],[1.0,\"#f0f921\"]],\"sequentialminus\":[[0.0,\"#0d0887\"],[0.1111111111111111,\"#46039f\"],[0.2222222222222222,\"#7201a8\"],[0.3333333333333333,\"#9c179e\"],[0.4444444444444444,\"#bd3786\"],[0.5555555555555556,\"#d8576b\"],[0.6666666666666666,\"#ed7953\"],[0.7777777777777778,\"#fb9f3a\"],[0.8888888888888888,\"#fdca26\"],[1.0,\"#f0f921\"]]},\"colorway\":[\"#636efa\",\"#EF553B\",\"#00cc96\",\"#ab63fa\",\"#FFA15A\",\"#19d3f3\",\"#FF6692\",\"#B6E880\",\"#FF97FF\",\"#FECB52\"],\"font\":{\"color\":\"#2a3f5f\"},\"geo\":{\"bgcolor\":\"white\",\"lakecolor\":\"white\",\"landcolor\":\"white\",\"showlakes\":true,\"showland\":true,\"subunitcolor\":\"#C8D4E3\"},\"hoverlabel\":{\"align\":\"left\"},\"hovermode\":\"closest\",\"mapbox\":{\"style\":\"light\"},\"paper_bgcolor\":\"white\",\"plot_bgcolor\":\"white\",\"polar\":{\"angularaxis\":{\"gridcolor\":\"#EBF0F8\",\"linecolor\":\"#EBF0F8\",\"ticks\":\"\"},\"bgcolor\":\"white\",\"radialaxis\":{\"gridcolor\":\"#EBF0F8\",\"linecolor\":\"#EBF0F8\",\"ticks\":\"\"}},\"scene\":{\"xaxis\":{\"backgroundcolor\":\"white\",\"gridcolor\":\"#DFE8F3\",\"gridwidth\":2,\"linecolor\":\"#EBF0F8\",\"showbackground\":true,\"ticks\":\"\",\"zerolinecolor\":\"#EBF0F8\"},\"yaxis\":{\"backgroundcolor\":\"white\",\"gridcolor\":\"#DFE8F3\",\"gridwidth\":2,\"linecolor\":\"#EBF0F8\",\"showbackground\":true,\"ticks\":\"\",\"zerolinecolor\":\"#EBF0F8\"},\"zaxis\":{\"backgroundcolor\":\"white\",\"gridcolor\":\"#DFE8F3\",\"gridwidth\":2,\"linecolor\":\"#EBF0F8\",\"showbackground\":true,\"ticks\":\"\",\"zerolinecolor\":\"#EBF0F8\"}},\"shapedefaults\":{\"line\":{\"color\":\"#2a3f5f\"}},\"ternary\":{\"aaxis\":{\"gridcolor\":\"#DFE8F3\",\"linecolor\":\"#A2B1C6\",\"ticks\":\"\"},\"baxis\":{\"gridcolor\":\"#DFE8F3\",\"linecolor\":\"#A2B1C6\",\"ticks\":\"\"},\"bgcolor\":\"white\",\"caxis\":{\"gridcolor\":\"#DFE8F3\",\"linecolor\":\"#A2B1C6\",\"ticks\":\"\"}},\"title\":{\"x\":0.05},\"xaxis\":{\"automargin\":true,\"gridcolor\":\"#EBF0F8\",\"linecolor\":\"#EBF0F8\",\"ticks\":\"\",\"title\":{\"standoff\":15},\"zerolinecolor\":\"#EBF0F8\",\"zerolinewidth\":2},\"yaxis\":{\"automargin\":true,\"gridcolor\":\"#EBF0F8\",\"linecolor\":\"#EBF0F8\",\"ticks\":\"\",\"title\":{\"standoff\":15},\"zerolinecolor\":\"#EBF0F8\",\"zerolinewidth\":2}}},\"xaxis\":{\"title\":{\"text\":\"Keyword Coverge (%)\"},\"range\":[0,1.0]},\"yaxis\":{\"title\":{\"text\":\"Similarity Score\"},\"range\":[0,1.0]},\"title\":{\"text\":\"Resume Similarity to Job Listings\"},\"width\":800,\"height\":500},                        {\"responsive\": true}                    ).then(function(){\n",
       "                            \n",
       "var gd = document.getElementById('e00b81d9-be7d-4955-9a8b-fef53cdae9b0');\n",
       "var x = new MutationObserver(function (mutations, observer) {{\n",
       "        var display = window.getComputedStyle(gd).display;\n",
       "        if (!display || display === 'none') {{\n",
       "            console.log([gd, 'removed!']);\n",
       "            Plotly.purge(gd);\n",
       "            observer.disconnect();\n",
       "        }}\n",
       "}});\n",
       "\n",
       "// Listen for the removal of the full notebook cells\n",
       "var notebookContainer = gd.closest('#notebook-container');\n",
       "if (notebookContainer) {{\n",
       "    x.observe(notebookContainer, {childList: true});\n",
       "}}\n",
       "\n",
       "// Listen for the clearing of the current output cell\n",
       "var outputEl = gd.closest('.output');\n",
       "if (outputEl) {{\n",
       "    x.observe(outputEl, {childList: true});\n",
       "}}\n",
       "\n",
       "                        })                };                });            </script>        </div>"
      ]
     },
     "metadata": {},
     "output_type": "display_data"
    }
   ],
   "source": [
    "# plot similarities to cover letter\n",
    "plot_similarity_scores(df_cl)"
   ]
  },
  {
   "cell_type": "code",
   "execution_count": 639,
   "id": "e8dee3d8",
   "metadata": {},
   "outputs": [
    {
     "data": {
      "application/vnd.plotly.v1+json": {
       "config": {
        "plotlyServerURL": "https://plot.ly"
       },
       "data": [
        {
         "marker": {
          "color": [
           -0.1,
           2.6,
           -0.1,
           -0.06666666666666667,
           0,
           0,
           0.03333333333333333,
           0.36666666666666664,
           1.0333333333333332,
           0.3,
           0.5333333333333333,
           0.1,
           0.06666666666666667,
           0.5333333333333333,
           0.2,
           0.06666666666666667
          ],
          "colorscale": [
           [
            0,
            "rgba(252,76,1,0.9)"
           ],
           [
            0.25,
            "rgba(252,76,1,0.5)"
           ],
           [
            0.5,
            "rgba(83,128,141,0.25)"
           ],
           [
            0.75,
            "rgba(83,128,141,0.5)"
           ],
           [
            1,
            "rgba(83,128,141,0.9)"
           ]
          ]
         },
         "name": "Weighted Frequency",
         "orientation": "h",
         "type": "bar",
         "x": [
          -0.1,
          2.6,
          -0.1,
          -0.06666666666666667,
          0,
          0,
          0.03333333333333333,
          0.36666666666666664,
          1.0333333333333332,
          0.3,
          0.5333333333333333,
          0.1,
          0.06666666666666667,
          0.5333333333333333,
          0.2,
          0.06666666666666667
         ],
         "xaxis": "x",
         "y": [
          "data science",
          "analysis",
          "science",
          "engineering",
          "pipelines",
          "master’s degree",
          "data visualization",
          "python",
          "sql",
          "machine learning",
          "models",
          "redshift",
          "reports",
          "management",
          "quantitative",
          "tableau"
         ],
         "yaxis": "y"
        },
        {
         "marker": {
          "color": "rgba(252,76,1,0.8)"
         },
         "name": "Missing Keywords",
         "type": "bar",
         "x": [
          "insights",
          "mongodb"
         ],
         "xaxis": "x2",
         "y": [
          5,
          1
         ],
         "yaxis": "y2"
        },
        {
         "marker": {
          "color": "rgba(252,76,1,0.8)"
         },
         "name": "Job Specific Keywords",
         "type": "bar",
         "x": [
          "sql",
          "tableau",
          "master's degree",
          "bachelor's",
          "mongodb",
          "php",
          "analysis skills"
         ],
         "xaxis": "x3",
         "y": [
          32,
          3,
          0,
          0,
          0,
          0,
          0
         ],
         "yaxis": "y3"
        }
       ],
       "layout": {
        "annotations": [
         {
          "font": {
           "size": 16
          },
          "showarrow": false,
          "text": "Matching Keywords",
          "x": 0.21666666666666667,
          "xanchor": "center",
          "xref": "paper",
          "y": 1,
          "yanchor": "bottom",
          "yref": "paper"
         },
         {
          "font": {
           "size": 16
          },
          "showarrow": false,
          "text": "Missing Keywords",
          "x": 0.6083333333333334,
          "xanchor": "center",
          "xref": "paper",
          "y": 1,
          "yanchor": "bottom",
          "yref": "paper"
         },
         {
          "font": {
           "size": 16
          },
          "showarrow": false,
          "text": "Job Specific Keywords",
          "x": 0.8916666666666666,
          "xanchor": "center",
          "xref": "paper",
          "y": 1,
          "yanchor": "bottom",
          "yref": "paper"
         }
        ],
        "height": 500,
        "showlegend": false,
        "template": {
         "data": {
          "bar": [
           {
            "error_x": {
             "color": "#2a3f5f"
            },
            "error_y": {
             "color": "#2a3f5f"
            },
            "marker": {
             "line": {
              "color": "white",
              "width": 0.5
             },
             "pattern": {
              "fillmode": "overlay",
              "size": 10,
              "solidity": 0.2
             }
            },
            "type": "bar"
           }
          ],
          "barpolar": [
           {
            "marker": {
             "line": {
              "color": "white",
              "width": 0.5
             },
             "pattern": {
              "fillmode": "overlay",
              "size": 10,
              "solidity": 0.2
             }
            },
            "type": "barpolar"
           }
          ],
          "carpet": [
           {
            "aaxis": {
             "endlinecolor": "#2a3f5f",
             "gridcolor": "#C8D4E3",
             "linecolor": "#C8D4E3",
             "minorgridcolor": "#C8D4E3",
             "startlinecolor": "#2a3f5f"
            },
            "baxis": {
             "endlinecolor": "#2a3f5f",
             "gridcolor": "#C8D4E3",
             "linecolor": "#C8D4E3",
             "minorgridcolor": "#C8D4E3",
             "startlinecolor": "#2a3f5f"
            },
            "type": "carpet"
           }
          ],
          "choropleth": [
           {
            "colorbar": {
             "outlinewidth": 0,
             "ticks": ""
            },
            "type": "choropleth"
           }
          ],
          "contour": [
           {
            "colorbar": {
             "outlinewidth": 0,
             "ticks": ""
            },
            "colorscale": [
             [
              0,
              "#0d0887"
             ],
             [
              0.1111111111111111,
              "#46039f"
             ],
             [
              0.2222222222222222,
              "#7201a8"
             ],
             [
              0.3333333333333333,
              "#9c179e"
             ],
             [
              0.4444444444444444,
              "#bd3786"
             ],
             [
              0.5555555555555556,
              "#d8576b"
             ],
             [
              0.6666666666666666,
              "#ed7953"
             ],
             [
              0.7777777777777778,
              "#fb9f3a"
             ],
             [
              0.8888888888888888,
              "#fdca26"
             ],
             [
              1,
              "#f0f921"
             ]
            ],
            "type": "contour"
           }
          ],
          "contourcarpet": [
           {
            "colorbar": {
             "outlinewidth": 0,
             "ticks": ""
            },
            "type": "contourcarpet"
           }
          ],
          "heatmap": [
           {
            "colorbar": {
             "outlinewidth": 0,
             "ticks": ""
            },
            "colorscale": [
             [
              0,
              "#0d0887"
             ],
             [
              0.1111111111111111,
              "#46039f"
             ],
             [
              0.2222222222222222,
              "#7201a8"
             ],
             [
              0.3333333333333333,
              "#9c179e"
             ],
             [
              0.4444444444444444,
              "#bd3786"
             ],
             [
              0.5555555555555556,
              "#d8576b"
             ],
             [
              0.6666666666666666,
              "#ed7953"
             ],
             [
              0.7777777777777778,
              "#fb9f3a"
             ],
             [
              0.8888888888888888,
              "#fdca26"
             ],
             [
              1,
              "#f0f921"
             ]
            ],
            "type": "heatmap"
           }
          ],
          "heatmapgl": [
           {
            "colorbar": {
             "outlinewidth": 0,
             "ticks": ""
            },
            "colorscale": [
             [
              0,
              "#0d0887"
             ],
             [
              0.1111111111111111,
              "#46039f"
             ],
             [
              0.2222222222222222,
              "#7201a8"
             ],
             [
              0.3333333333333333,
              "#9c179e"
             ],
             [
              0.4444444444444444,
              "#bd3786"
             ],
             [
              0.5555555555555556,
              "#d8576b"
             ],
             [
              0.6666666666666666,
              "#ed7953"
             ],
             [
              0.7777777777777778,
              "#fb9f3a"
             ],
             [
              0.8888888888888888,
              "#fdca26"
             ],
             [
              1,
              "#f0f921"
             ]
            ],
            "type": "heatmapgl"
           }
          ],
          "histogram": [
           {
            "marker": {
             "pattern": {
              "fillmode": "overlay",
              "size": 10,
              "solidity": 0.2
             }
            },
            "type": "histogram"
           }
          ],
          "histogram2d": [
           {
            "colorbar": {
             "outlinewidth": 0,
             "ticks": ""
            },
            "colorscale": [
             [
              0,
              "#0d0887"
             ],
             [
              0.1111111111111111,
              "#46039f"
             ],
             [
              0.2222222222222222,
              "#7201a8"
             ],
             [
              0.3333333333333333,
              "#9c179e"
             ],
             [
              0.4444444444444444,
              "#bd3786"
             ],
             [
              0.5555555555555556,
              "#d8576b"
             ],
             [
              0.6666666666666666,
              "#ed7953"
             ],
             [
              0.7777777777777778,
              "#fb9f3a"
             ],
             [
              0.8888888888888888,
              "#fdca26"
             ],
             [
              1,
              "#f0f921"
             ]
            ],
            "type": "histogram2d"
           }
          ],
          "histogram2dcontour": [
           {
            "colorbar": {
             "outlinewidth": 0,
             "ticks": ""
            },
            "colorscale": [
             [
              0,
              "#0d0887"
             ],
             [
              0.1111111111111111,
              "#46039f"
             ],
             [
              0.2222222222222222,
              "#7201a8"
             ],
             [
              0.3333333333333333,
              "#9c179e"
             ],
             [
              0.4444444444444444,
              "#bd3786"
             ],
             [
              0.5555555555555556,
              "#d8576b"
             ],
             [
              0.6666666666666666,
              "#ed7953"
             ],
             [
              0.7777777777777778,
              "#fb9f3a"
             ],
             [
              0.8888888888888888,
              "#fdca26"
             ],
             [
              1,
              "#f0f921"
             ]
            ],
            "type": "histogram2dcontour"
           }
          ],
          "mesh3d": [
           {
            "colorbar": {
             "outlinewidth": 0,
             "ticks": ""
            },
            "type": "mesh3d"
           }
          ],
          "parcoords": [
           {
            "line": {
             "colorbar": {
              "outlinewidth": 0,
              "ticks": ""
             }
            },
            "type": "parcoords"
           }
          ],
          "pie": [
           {
            "automargin": true,
            "type": "pie"
           }
          ],
          "scatter": [
           {
            "fillpattern": {
             "fillmode": "overlay",
             "size": 10,
             "solidity": 0.2
            },
            "type": "scatter"
           }
          ],
          "scatter3d": [
           {
            "line": {
             "colorbar": {
              "outlinewidth": 0,
              "ticks": ""
             }
            },
            "marker": {
             "colorbar": {
              "outlinewidth": 0,
              "ticks": ""
             }
            },
            "type": "scatter3d"
           }
          ],
          "scattercarpet": [
           {
            "marker": {
             "colorbar": {
              "outlinewidth": 0,
              "ticks": ""
             }
            },
            "type": "scattercarpet"
           }
          ],
          "scattergeo": [
           {
            "marker": {
             "colorbar": {
              "outlinewidth": 0,
              "ticks": ""
             }
            },
            "type": "scattergeo"
           }
          ],
          "scattergl": [
           {
            "marker": {
             "colorbar": {
              "outlinewidth": 0,
              "ticks": ""
             }
            },
            "type": "scattergl"
           }
          ],
          "scattermapbox": [
           {
            "marker": {
             "colorbar": {
              "outlinewidth": 0,
              "ticks": ""
             }
            },
            "type": "scattermapbox"
           }
          ],
          "scatterpolar": [
           {
            "marker": {
             "colorbar": {
              "outlinewidth": 0,
              "ticks": ""
             }
            },
            "type": "scatterpolar"
           }
          ],
          "scatterpolargl": [
           {
            "marker": {
             "colorbar": {
              "outlinewidth": 0,
              "ticks": ""
             }
            },
            "type": "scatterpolargl"
           }
          ],
          "scatterternary": [
           {
            "marker": {
             "colorbar": {
              "outlinewidth": 0,
              "ticks": ""
             }
            },
            "type": "scatterternary"
           }
          ],
          "surface": [
           {
            "colorbar": {
             "outlinewidth": 0,
             "ticks": ""
            },
            "colorscale": [
             [
              0,
              "#0d0887"
             ],
             [
              0.1111111111111111,
              "#46039f"
             ],
             [
              0.2222222222222222,
              "#7201a8"
             ],
             [
              0.3333333333333333,
              "#9c179e"
             ],
             [
              0.4444444444444444,
              "#bd3786"
             ],
             [
              0.5555555555555556,
              "#d8576b"
             ],
             [
              0.6666666666666666,
              "#ed7953"
             ],
             [
              0.7777777777777778,
              "#fb9f3a"
             ],
             [
              0.8888888888888888,
              "#fdca26"
             ],
             [
              1,
              "#f0f921"
             ]
            ],
            "type": "surface"
           }
          ],
          "table": [
           {
            "cells": {
             "fill": {
              "color": "#EBF0F8"
             },
             "line": {
              "color": "white"
             }
            },
            "header": {
             "fill": {
              "color": "#C8D4E3"
             },
             "line": {
              "color": "white"
             }
            },
            "type": "table"
           }
          ]
         },
         "layout": {
          "annotationdefaults": {
           "arrowcolor": "#2a3f5f",
           "arrowhead": 0,
           "arrowwidth": 1
          },
          "autotypenumbers": "strict",
          "coloraxis": {
           "colorbar": {
            "outlinewidth": 0,
            "ticks": ""
           }
          },
          "colorscale": {
           "diverging": [
            [
             0,
             "#8e0152"
            ],
            [
             0.1,
             "#c51b7d"
            ],
            [
             0.2,
             "#de77ae"
            ],
            [
             0.3,
             "#f1b6da"
            ],
            [
             0.4,
             "#fde0ef"
            ],
            [
             0.5,
             "#f7f7f7"
            ],
            [
             0.6,
             "#e6f5d0"
            ],
            [
             0.7,
             "#b8e186"
            ],
            [
             0.8,
             "#7fbc41"
            ],
            [
             0.9,
             "#4d9221"
            ],
            [
             1,
             "#276419"
            ]
           ],
           "sequential": [
            [
             0,
             "#0d0887"
            ],
            [
             0.1111111111111111,
             "#46039f"
            ],
            [
             0.2222222222222222,
             "#7201a8"
            ],
            [
             0.3333333333333333,
             "#9c179e"
            ],
            [
             0.4444444444444444,
             "#bd3786"
            ],
            [
             0.5555555555555556,
             "#d8576b"
            ],
            [
             0.6666666666666666,
             "#ed7953"
            ],
            [
             0.7777777777777778,
             "#fb9f3a"
            ],
            [
             0.8888888888888888,
             "#fdca26"
            ],
            [
             1,
             "#f0f921"
            ]
           ],
           "sequentialminus": [
            [
             0,
             "#0d0887"
            ],
            [
             0.1111111111111111,
             "#46039f"
            ],
            [
             0.2222222222222222,
             "#7201a8"
            ],
            [
             0.3333333333333333,
             "#9c179e"
            ],
            [
             0.4444444444444444,
             "#bd3786"
            ],
            [
             0.5555555555555556,
             "#d8576b"
            ],
            [
             0.6666666666666666,
             "#ed7953"
            ],
            [
             0.7777777777777778,
             "#fb9f3a"
            ],
            [
             0.8888888888888888,
             "#fdca26"
            ],
            [
             1,
             "#f0f921"
            ]
           ]
          },
          "colorway": [
           "#636efa",
           "#EF553B",
           "#00cc96",
           "#ab63fa",
           "#FFA15A",
           "#19d3f3",
           "#FF6692",
           "#B6E880",
           "#FF97FF",
           "#FECB52"
          ],
          "font": {
           "color": "#2a3f5f"
          },
          "geo": {
           "bgcolor": "white",
           "lakecolor": "white",
           "landcolor": "white",
           "showlakes": true,
           "showland": true,
           "subunitcolor": "#C8D4E3"
          },
          "hoverlabel": {
           "align": "left"
          },
          "hovermode": "closest",
          "mapbox": {
           "style": "light"
          },
          "paper_bgcolor": "white",
          "plot_bgcolor": "white",
          "polar": {
           "angularaxis": {
            "gridcolor": "#EBF0F8",
            "linecolor": "#EBF0F8",
            "ticks": ""
           },
           "bgcolor": "white",
           "radialaxis": {
            "gridcolor": "#EBF0F8",
            "linecolor": "#EBF0F8",
            "ticks": ""
           }
          },
          "scene": {
           "xaxis": {
            "backgroundcolor": "white",
            "gridcolor": "#DFE8F3",
            "gridwidth": 2,
            "linecolor": "#EBF0F8",
            "showbackground": true,
            "ticks": "",
            "zerolinecolor": "#EBF0F8"
           },
           "yaxis": {
            "backgroundcolor": "white",
            "gridcolor": "#DFE8F3",
            "gridwidth": 2,
            "linecolor": "#EBF0F8",
            "showbackground": true,
            "ticks": "",
            "zerolinecolor": "#EBF0F8"
           },
           "zaxis": {
            "backgroundcolor": "white",
            "gridcolor": "#DFE8F3",
            "gridwidth": 2,
            "linecolor": "#EBF0F8",
            "showbackground": true,
            "ticks": "",
            "zerolinecolor": "#EBF0F8"
           }
          },
          "shapedefaults": {
           "line": {
            "color": "#2a3f5f"
           }
          },
          "ternary": {
           "aaxis": {
            "gridcolor": "#DFE8F3",
            "linecolor": "#A2B1C6",
            "ticks": ""
           },
           "baxis": {
            "gridcolor": "#DFE8F3",
            "linecolor": "#A2B1C6",
            "ticks": ""
           },
           "bgcolor": "white",
           "caxis": {
            "gridcolor": "#DFE8F3",
            "linecolor": "#A2B1C6",
            "ticks": ""
           }
          },
          "title": {
           "x": 0.05
          },
          "xaxis": {
           "automargin": true,
           "gridcolor": "#EBF0F8",
           "linecolor": "#EBF0F8",
           "ticks": "",
           "title": {
            "standoff": 15
           },
           "zerolinecolor": "#EBF0F8",
           "zerolinewidth": 2
          },
          "yaxis": {
           "automargin": true,
           "gridcolor": "#EBF0F8",
           "linecolor": "#EBF0F8",
           "ticks": "",
           "title": {
            "standoff": 15
           },
           "zerolinecolor": "#EBF0F8",
           "zerolinewidth": 2
          }
         }
        },
        "title": {
         "text": "Keyword Coverage=88.89% | Weighted Average=5.57"
        },
        "width": 900,
        "xaxis": {
         "anchor": "y",
         "domain": [
          0,
          0.43333333333333335
         ],
         "range": [
          -2,
          2
         ],
         "showgrid": false
        },
        "xaxis2": {
         "anchor": "y2",
         "domain": [
          0.5,
          0.7166666666666667
         ],
         "showgrid": false,
         "tickangle": 90
        },
        "xaxis3": {
         "anchor": "y3",
         "domain": [
          0.7833333333333333,
          1
         ],
         "showgrid": false,
         "tickangle": 90
        },
        "yaxis": {
         "anchor": "x",
         "domain": [
          0,
          1
         ]
        },
        "yaxis2": {
         "anchor": "x2",
         "domain": [
          0,
          1
         ]
        },
        "yaxis3": {
         "anchor": "x3",
         "domain": [
          0,
          1
         ]
        }
       }
      },
      "text/html": [
       "<div>                            <div id=\"19e00044-18a3-40e8-8a00-ef9448865a78\" class=\"plotly-graph-div\" style=\"height:500px; width:900px;\"></div>            <script type=\"text/javascript\">                require([\"plotly\"], function(Plotly) {                    window.PLOTLYENV=window.PLOTLYENV || {};                                    if (document.getElementById(\"19e00044-18a3-40e8-8a00-ef9448865a78\")) {                    Plotly.newPlot(                        \"19e00044-18a3-40e8-8a00-ef9448865a78\",                        [{\"marker\":{\"color\":[-0.1,2.6,-0.1,-0.06666666666666667,0.0,0.0,0.03333333333333333,0.36666666666666664,1.0333333333333332,0.3,0.5333333333333333,0.1,0.06666666666666667,0.5333333333333333,0.2,0.06666666666666667],\"colorscale\":[[0,\"rgba(252,76,1,0.9)\"],[0.25,\"rgba(252,76,1,0.5)\"],[0.5,\"rgba(83,128,141,0.25)\"],[0.75,\"rgba(83,128,141,0.5)\"],[1.0,\"rgba(83,128,141,0.9)\"]]},\"name\":\"Weighted Frequency\",\"orientation\":\"h\",\"x\":[-0.1,2.6,-0.1,-0.06666666666666667,0.0,0.0,0.03333333333333333,0.36666666666666664,1.0333333333333332,0.3,0.5333333333333333,0.1,0.06666666666666667,0.5333333333333333,0.2,0.06666666666666667],\"y\":[\"data science\",\"analysis\",\"science\",\"engineering\",\"pipelines\",\"master\\u2019s degree\",\"data visualization\",\"python\",\"sql\",\"machine learning\",\"models\",\"redshift\",\"reports\",\"management\",\"quantitative\",\"tableau\"],\"type\":\"bar\",\"xaxis\":\"x\",\"yaxis\":\"y\"},{\"marker\":{\"color\":\"rgba(252,76,1,0.8)\"},\"name\":\"Missing Keywords\",\"x\":[\"insights\",\"mongodb\"],\"y\":[5,1],\"type\":\"bar\",\"xaxis\":\"x2\",\"yaxis\":\"y2\"},{\"marker\":{\"color\":\"rgba(252,76,1,0.8)\"},\"name\":\"Job Specific Keywords\",\"x\":[\"sql\",\"tableau\",\"master's degree\",\"bachelor's\",\"mongodb\",\"php\",\"analysis skills\"],\"y\":[32,3,0,0,0,0,0],\"type\":\"bar\",\"xaxis\":\"x3\",\"yaxis\":\"y3\"}],                        {\"template\":{\"data\":{\"barpolar\":[{\"marker\":{\"line\":{\"color\":\"white\",\"width\":0.5},\"pattern\":{\"fillmode\":\"overlay\",\"size\":10,\"solidity\":0.2}},\"type\":\"barpolar\"}],\"bar\":[{\"error_x\":{\"color\":\"#2a3f5f\"},\"error_y\":{\"color\":\"#2a3f5f\"},\"marker\":{\"line\":{\"color\":\"white\",\"width\":0.5},\"pattern\":{\"fillmode\":\"overlay\",\"size\":10,\"solidity\":0.2}},\"type\":\"bar\"}],\"carpet\":[{\"aaxis\":{\"endlinecolor\":\"#2a3f5f\",\"gridcolor\":\"#C8D4E3\",\"linecolor\":\"#C8D4E3\",\"minorgridcolor\":\"#C8D4E3\",\"startlinecolor\":\"#2a3f5f\"},\"baxis\":{\"endlinecolor\":\"#2a3f5f\",\"gridcolor\":\"#C8D4E3\",\"linecolor\":\"#C8D4E3\",\"minorgridcolor\":\"#C8D4E3\",\"startlinecolor\":\"#2a3f5f\"},\"type\":\"carpet\"}],\"choropleth\":[{\"colorbar\":{\"outlinewidth\":0,\"ticks\":\"\"},\"type\":\"choropleth\"}],\"contourcarpet\":[{\"colorbar\":{\"outlinewidth\":0,\"ticks\":\"\"},\"type\":\"contourcarpet\"}],\"contour\":[{\"colorbar\":{\"outlinewidth\":0,\"ticks\":\"\"},\"colorscale\":[[0.0,\"#0d0887\"],[0.1111111111111111,\"#46039f\"],[0.2222222222222222,\"#7201a8\"],[0.3333333333333333,\"#9c179e\"],[0.4444444444444444,\"#bd3786\"],[0.5555555555555556,\"#d8576b\"],[0.6666666666666666,\"#ed7953\"],[0.7777777777777778,\"#fb9f3a\"],[0.8888888888888888,\"#fdca26\"],[1.0,\"#f0f921\"]],\"type\":\"contour\"}],\"heatmapgl\":[{\"colorbar\":{\"outlinewidth\":0,\"ticks\":\"\"},\"colorscale\":[[0.0,\"#0d0887\"],[0.1111111111111111,\"#46039f\"],[0.2222222222222222,\"#7201a8\"],[0.3333333333333333,\"#9c179e\"],[0.4444444444444444,\"#bd3786\"],[0.5555555555555556,\"#d8576b\"],[0.6666666666666666,\"#ed7953\"],[0.7777777777777778,\"#fb9f3a\"],[0.8888888888888888,\"#fdca26\"],[1.0,\"#f0f921\"]],\"type\":\"heatmapgl\"}],\"heatmap\":[{\"colorbar\":{\"outlinewidth\":0,\"ticks\":\"\"},\"colorscale\":[[0.0,\"#0d0887\"],[0.1111111111111111,\"#46039f\"],[0.2222222222222222,\"#7201a8\"],[0.3333333333333333,\"#9c179e\"],[0.4444444444444444,\"#bd3786\"],[0.5555555555555556,\"#d8576b\"],[0.6666666666666666,\"#ed7953\"],[0.7777777777777778,\"#fb9f3a\"],[0.8888888888888888,\"#fdca26\"],[1.0,\"#f0f921\"]],\"type\":\"heatmap\"}],\"histogram2dcontour\":[{\"colorbar\":{\"outlinewidth\":0,\"ticks\":\"\"},\"colorscale\":[[0.0,\"#0d0887\"],[0.1111111111111111,\"#46039f\"],[0.2222222222222222,\"#7201a8\"],[0.3333333333333333,\"#9c179e\"],[0.4444444444444444,\"#bd3786\"],[0.5555555555555556,\"#d8576b\"],[0.6666666666666666,\"#ed7953\"],[0.7777777777777778,\"#fb9f3a\"],[0.8888888888888888,\"#fdca26\"],[1.0,\"#f0f921\"]],\"type\":\"histogram2dcontour\"}],\"histogram2d\":[{\"colorbar\":{\"outlinewidth\":0,\"ticks\":\"\"},\"colorscale\":[[0.0,\"#0d0887\"],[0.1111111111111111,\"#46039f\"],[0.2222222222222222,\"#7201a8\"],[0.3333333333333333,\"#9c179e\"],[0.4444444444444444,\"#bd3786\"],[0.5555555555555556,\"#d8576b\"],[0.6666666666666666,\"#ed7953\"],[0.7777777777777778,\"#fb9f3a\"],[0.8888888888888888,\"#fdca26\"],[1.0,\"#f0f921\"]],\"type\":\"histogram2d\"}],\"histogram\":[{\"marker\":{\"pattern\":{\"fillmode\":\"overlay\",\"size\":10,\"solidity\":0.2}},\"type\":\"histogram\"}],\"mesh3d\":[{\"colorbar\":{\"outlinewidth\":0,\"ticks\":\"\"},\"type\":\"mesh3d\"}],\"parcoords\":[{\"line\":{\"colorbar\":{\"outlinewidth\":0,\"ticks\":\"\"}},\"type\":\"parcoords\"}],\"pie\":[{\"automargin\":true,\"type\":\"pie\"}],\"scatter3d\":[{\"line\":{\"colorbar\":{\"outlinewidth\":0,\"ticks\":\"\"}},\"marker\":{\"colorbar\":{\"outlinewidth\":0,\"ticks\":\"\"}},\"type\":\"scatter3d\"}],\"scattercarpet\":[{\"marker\":{\"colorbar\":{\"outlinewidth\":0,\"ticks\":\"\"}},\"type\":\"scattercarpet\"}],\"scattergeo\":[{\"marker\":{\"colorbar\":{\"outlinewidth\":0,\"ticks\":\"\"}},\"type\":\"scattergeo\"}],\"scattergl\":[{\"marker\":{\"colorbar\":{\"outlinewidth\":0,\"ticks\":\"\"}},\"type\":\"scattergl\"}],\"scattermapbox\":[{\"marker\":{\"colorbar\":{\"outlinewidth\":0,\"ticks\":\"\"}},\"type\":\"scattermapbox\"}],\"scatterpolargl\":[{\"marker\":{\"colorbar\":{\"outlinewidth\":0,\"ticks\":\"\"}},\"type\":\"scatterpolargl\"}],\"scatterpolar\":[{\"marker\":{\"colorbar\":{\"outlinewidth\":0,\"ticks\":\"\"}},\"type\":\"scatterpolar\"}],\"scatter\":[{\"fillpattern\":{\"fillmode\":\"overlay\",\"size\":10,\"solidity\":0.2},\"type\":\"scatter\"}],\"scatterternary\":[{\"marker\":{\"colorbar\":{\"outlinewidth\":0,\"ticks\":\"\"}},\"type\":\"scatterternary\"}],\"surface\":[{\"colorbar\":{\"outlinewidth\":0,\"ticks\":\"\"},\"colorscale\":[[0.0,\"#0d0887\"],[0.1111111111111111,\"#46039f\"],[0.2222222222222222,\"#7201a8\"],[0.3333333333333333,\"#9c179e\"],[0.4444444444444444,\"#bd3786\"],[0.5555555555555556,\"#d8576b\"],[0.6666666666666666,\"#ed7953\"],[0.7777777777777778,\"#fb9f3a\"],[0.8888888888888888,\"#fdca26\"],[1.0,\"#f0f921\"]],\"type\":\"surface\"}],\"table\":[{\"cells\":{\"fill\":{\"color\":\"#EBF0F8\"},\"line\":{\"color\":\"white\"}},\"header\":{\"fill\":{\"color\":\"#C8D4E3\"},\"line\":{\"color\":\"white\"}},\"type\":\"table\"}]},\"layout\":{\"annotationdefaults\":{\"arrowcolor\":\"#2a3f5f\",\"arrowhead\":0,\"arrowwidth\":1},\"autotypenumbers\":\"strict\",\"coloraxis\":{\"colorbar\":{\"outlinewidth\":0,\"ticks\":\"\"}},\"colorscale\":{\"diverging\":[[0,\"#8e0152\"],[0.1,\"#c51b7d\"],[0.2,\"#de77ae\"],[0.3,\"#f1b6da\"],[0.4,\"#fde0ef\"],[0.5,\"#f7f7f7\"],[0.6,\"#e6f5d0\"],[0.7,\"#b8e186\"],[0.8,\"#7fbc41\"],[0.9,\"#4d9221\"],[1,\"#276419\"]],\"sequential\":[[0.0,\"#0d0887\"],[0.1111111111111111,\"#46039f\"],[0.2222222222222222,\"#7201a8\"],[0.3333333333333333,\"#9c179e\"],[0.4444444444444444,\"#bd3786\"],[0.5555555555555556,\"#d8576b\"],[0.6666666666666666,\"#ed7953\"],[0.7777777777777778,\"#fb9f3a\"],[0.8888888888888888,\"#fdca26\"],[1.0,\"#f0f921\"]],\"sequentialminus\":[[0.0,\"#0d0887\"],[0.1111111111111111,\"#46039f\"],[0.2222222222222222,\"#7201a8\"],[0.3333333333333333,\"#9c179e\"],[0.4444444444444444,\"#bd3786\"],[0.5555555555555556,\"#d8576b\"],[0.6666666666666666,\"#ed7953\"],[0.7777777777777778,\"#fb9f3a\"],[0.8888888888888888,\"#fdca26\"],[1.0,\"#f0f921\"]]},\"colorway\":[\"#636efa\",\"#EF553B\",\"#00cc96\",\"#ab63fa\",\"#FFA15A\",\"#19d3f3\",\"#FF6692\",\"#B6E880\",\"#FF97FF\",\"#FECB52\"],\"font\":{\"color\":\"#2a3f5f\"},\"geo\":{\"bgcolor\":\"white\",\"lakecolor\":\"white\",\"landcolor\":\"white\",\"showlakes\":true,\"showland\":true,\"subunitcolor\":\"#C8D4E3\"},\"hoverlabel\":{\"align\":\"left\"},\"hovermode\":\"closest\",\"mapbox\":{\"style\":\"light\"},\"paper_bgcolor\":\"white\",\"plot_bgcolor\":\"white\",\"polar\":{\"angularaxis\":{\"gridcolor\":\"#EBF0F8\",\"linecolor\":\"#EBF0F8\",\"ticks\":\"\"},\"bgcolor\":\"white\",\"radialaxis\":{\"gridcolor\":\"#EBF0F8\",\"linecolor\":\"#EBF0F8\",\"ticks\":\"\"}},\"scene\":{\"xaxis\":{\"backgroundcolor\":\"white\",\"gridcolor\":\"#DFE8F3\",\"gridwidth\":2,\"linecolor\":\"#EBF0F8\",\"showbackground\":true,\"ticks\":\"\",\"zerolinecolor\":\"#EBF0F8\"},\"yaxis\":{\"backgroundcolor\":\"white\",\"gridcolor\":\"#DFE8F3\",\"gridwidth\":2,\"linecolor\":\"#EBF0F8\",\"showbackground\":true,\"ticks\":\"\",\"zerolinecolor\":\"#EBF0F8\"},\"zaxis\":{\"backgroundcolor\":\"white\",\"gridcolor\":\"#DFE8F3\",\"gridwidth\":2,\"linecolor\":\"#EBF0F8\",\"showbackground\":true,\"ticks\":\"\",\"zerolinecolor\":\"#EBF0F8\"}},\"shapedefaults\":{\"line\":{\"color\":\"#2a3f5f\"}},\"ternary\":{\"aaxis\":{\"gridcolor\":\"#DFE8F3\",\"linecolor\":\"#A2B1C6\",\"ticks\":\"\"},\"baxis\":{\"gridcolor\":\"#DFE8F3\",\"linecolor\":\"#A2B1C6\",\"ticks\":\"\"},\"bgcolor\":\"white\",\"caxis\":{\"gridcolor\":\"#DFE8F3\",\"linecolor\":\"#A2B1C6\",\"ticks\":\"\"}},\"title\":{\"x\":0.05},\"xaxis\":{\"automargin\":true,\"gridcolor\":\"#EBF0F8\",\"linecolor\":\"#EBF0F8\",\"ticks\":\"\",\"title\":{\"standoff\":15},\"zerolinecolor\":\"#EBF0F8\",\"zerolinewidth\":2},\"yaxis\":{\"automargin\":true,\"gridcolor\":\"#EBF0F8\",\"linecolor\":\"#EBF0F8\",\"ticks\":\"\",\"title\":{\"standoff\":15},\"zerolinecolor\":\"#EBF0F8\",\"zerolinewidth\":2}}},\"xaxis\":{\"anchor\":\"y\",\"domain\":[0.0,0.43333333333333335],\"range\":[-2,2],\"showgrid\":false},\"yaxis\":{\"anchor\":\"x\",\"domain\":[0.0,1.0]},\"xaxis2\":{\"anchor\":\"y2\",\"domain\":[0.5,0.7166666666666667],\"tickangle\":90,\"showgrid\":false},\"yaxis2\":{\"anchor\":\"x2\",\"domain\":[0.0,1.0]},\"xaxis3\":{\"anchor\":\"y3\",\"domain\":[0.7833333333333333,1.0],\"tickangle\":90,\"showgrid\":false},\"yaxis3\":{\"anchor\":\"x3\",\"domain\":[0.0,1.0]},\"annotations\":[{\"font\":{\"size\":16},\"showarrow\":false,\"text\":\"Matching Keywords\",\"x\":0.21666666666666667,\"xanchor\":\"center\",\"xref\":\"paper\",\"y\":1.0,\"yanchor\":\"bottom\",\"yref\":\"paper\"},{\"font\":{\"size\":16},\"showarrow\":false,\"text\":\"Missing Keywords\",\"x\":0.6083333333333334,\"xanchor\":\"center\",\"xref\":\"paper\",\"y\":1.0,\"yanchor\":\"bottom\",\"yref\":\"paper\"},{\"font\":{\"size\":16},\"showarrow\":false,\"text\":\"Job Specific Keywords\",\"x\":0.8916666666666666,\"xanchor\":\"center\",\"xref\":\"paper\",\"y\":1.0,\"yanchor\":\"bottom\",\"yref\":\"paper\"}],\"title\":{\"text\":\"Keyword Coverage=88.89% | Weighted Average=5.57\"},\"width\":900,\"height\":500,\"showlegend\":false},                        {\"responsive\": true}                    ).then(function(){\n",
       "                            \n",
       "var gd = document.getElementById('19e00044-18a3-40e8-8a00-ef9448865a78');\n",
       "var x = new MutationObserver(function (mutations, observer) {{\n",
       "        var display = window.getComputedStyle(gd).display;\n",
       "        if (!display || display === 'none') {{\n",
       "            console.log([gd, 'removed!']);\n",
       "            Plotly.purge(gd);\n",
       "            observer.disconnect();\n",
       "        }}\n",
       "}});\n",
       "\n",
       "// Listen for the removal of the full notebook cells\n",
       "var notebookContainer = gd.closest('#notebook-container');\n",
       "if (notebookContainer) {{\n",
       "    x.observe(notebookContainer, {childList: true});\n",
       "}}\n",
       "\n",
       "// Listen for the clearing of the current output cell\n",
       "var outputEl = gd.closest('.output');\n",
       "if (outputEl) {{\n",
       "    x.observe(outputEl, {childList: true});\n",
       "}}\n",
       "\n",
       "                        })                };                });            </script>        </div>"
      ]
     },
     "metadata": {},
     "output_type": "display_data"
    }
   ],
   "source": [
    "# plot resume comparision to a specific job \n",
    "plot_keyword_comparison(r,job_details[0],'data/terms.csv')"
   ]
  },
  {
   "cell_type": "code",
   "execution_count": 541,
   "id": "3cef3e9d",
   "metadata": {},
   "outputs": [
    {
     "name": "stdout",
     "output_type": "stream",
     "text": [
      "Text Summary:Top 3 sentences using a lsa summarizer\n",
      "====================================================================================================\n",
      "Additionally, you will be responsible for developing and implementing the product roadmap for our enterprise analytics platform, and data pipelines and feeds necessary to facilitate those operations.\n",
      "Develop and implement the product roadmap for our event-driven analytics platform, including features related to user profiles and targeting, martech activation and channel attribution.\n",
      "Analyze and interpret marketing data to identify trends, patterns, and insights that can inform our product development roadmap.\n",
      "==================================================================================================== \n",
      "\n",
      "Text Summary:Top 3 sentences using a lsa summarizer\n",
      "====================================================================================================\n",
      "I feel that this career opportunity offered with your organization is a strong match for my experience in data science, programming, and quantitative investment analysis.\n",
      "As a Chartered Financial Analyst with a Master’s degree in Data Science I have over 20+ years of experience working on data-driven projects.\n",
      "In my current role at Firmex, I am the principal data scientist building machine-learning models to predict customer behavior, Mergers and Acquisition activity, and revenue and expense forecasts.\n",
      "==================================================================================================== \n",
      "\n"
     ]
    },
    {
     "data": {
      "text/plain": [
       "0.043894460814465706"
      ]
     },
     "execution_count": 541,
     "metadata": {},
     "output_type": "execute_result"
    }
   ],
   "source": [
    "# compare job summary and cover letter summary\n",
    "summary_job = get_text_summary(job_details[14]['desc'],'text','lsa',3)\n",
    "summary_cl = get_text_summary(cl,'text','lsa',3)\n",
    "\n",
    "calc_similarity(summary_cl,summary_job)\n"
   ]
  }
 ],
 "metadata": {
  "kernelspec": {
   "display_name": "Python 3 (ipykernel)",
   "language": "python",
   "name": "python3"
  },
  "language_info": {
   "codemirror_mode": {
    "name": "ipython",
    "version": 3
   },
   "file_extension": ".py",
   "mimetype": "text/x-python",
   "name": "python",
   "nbconvert_exporter": "python",
   "pygments_lexer": "ipython3",
   "version": "3.9.16"
  }
 },
 "nbformat": 4,
 "nbformat_minor": 5
}
